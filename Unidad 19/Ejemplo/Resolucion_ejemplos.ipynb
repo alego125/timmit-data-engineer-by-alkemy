{
 "cells": [
  {
   "cell_type": "markdown",
   "metadata": {},
   "source": [
    "## Ejemplos parte teorica a partir de un dataset extra"
   ]
  },
  {
   "cell_type": "code",
   "execution_count": 2,
   "metadata": {},
   "outputs": [],
   "source": [
    "import pandas as pd"
   ]
  },
  {
   "cell_type": "code",
   "execution_count": 24,
   "metadata": {},
   "outputs": [
    {
     "data": {
      "text/html": [
       "<div>\n",
       "<style scoped>\n",
       "    .dataframe tbody tr th:only-of-type {\n",
       "        vertical-align: middle;\n",
       "    }\n",
       "\n",
       "    .dataframe tbody tr th {\n",
       "        vertical-align: top;\n",
       "    }\n",
       "\n",
       "    .dataframe thead th {\n",
       "        text-align: right;\n",
       "    }\n",
       "</style>\n",
       "<table border=\"1\" class=\"dataframe\">\n",
       "  <thead>\n",
       "    <tr style=\"text-align: right;\">\n",
       "      <th></th>\n",
       "      <th>año</th>\n",
       "      <th>emision</th>\n",
       "      <th>unidad</th>\n",
       "    </tr>\n",
       "  </thead>\n",
       "  <tbody>\n",
       "    <tr>\n",
       "      <th>7</th>\n",
       "      <td>1997</td>\n",
       "      <td>1.60</td>\n",
       "      <td>tCO2eq / Cabeza</td>\n",
       "    </tr>\n",
       "    <tr>\n",
       "      <th>20</th>\n",
       "      <td>2010</td>\n",
       "      <td>1.45</td>\n",
       "      <td>tCO2eq / Cabeza</td>\n",
       "    </tr>\n",
       "    <tr>\n",
       "      <th>26</th>\n",
       "      <td>2016</td>\n",
       "      <td>1.37</td>\n",
       "      <td>tCO2eq / Cabeza</td>\n",
       "    </tr>\n",
       "    <tr>\n",
       "      <th>0</th>\n",
       "      <td>1990</td>\n",
       "      <td>1.58</td>\n",
       "      <td>tCO2eq / Cabeza</td>\n",
       "    </tr>\n",
       "    <tr>\n",
       "      <th>28</th>\n",
       "      <td>2018</td>\n",
       "      <td>1.37</td>\n",
       "      <td>tCO2eq / Cabeza</td>\n",
       "    </tr>\n",
       "    <tr>\n",
       "      <th>18</th>\n",
       "      <td>2008</td>\n",
       "      <td>1.40</td>\n",
       "      <td>tCO2eq / Cabeza</td>\n",
       "    </tr>\n",
       "    <tr>\n",
       "      <th>14</th>\n",
       "      <td>2004</td>\n",
       "      <td>1.47</td>\n",
       "      <td>tCO2eq / Cabeza</td>\n",
       "    </tr>\n",
       "    <tr>\n",
       "      <th>15</th>\n",
       "      <td>2005</td>\n",
       "      <td>1.47</td>\n",
       "      <td>tCO2eq / Cabeza</td>\n",
       "    </tr>\n",
       "    <tr>\n",
       "      <th>9</th>\n",
       "      <td>1999</td>\n",
       "      <td>1.62</td>\n",
       "      <td>tCO2eq / Cabeza</td>\n",
       "    </tr>\n",
       "    <tr>\n",
       "      <th>11</th>\n",
       "      <td>2001</td>\n",
       "      <td>1.60</td>\n",
       "      <td>tCO2eq / Cabeza</td>\n",
       "    </tr>\n",
       "  </tbody>\n",
       "</table>\n",
       "</div>"
      ],
      "text/plain": [
       "     año  emision           unidad\n",
       "7   1997     1.60  tCO2eq / Cabeza\n",
       "20  2010     1.45  tCO2eq / Cabeza\n",
       "26  2016     1.37  tCO2eq / Cabeza\n",
       "0   1990     1.58  tCO2eq / Cabeza\n",
       "28  2018     1.37  tCO2eq / Cabeza\n",
       "18  2008     1.40  tCO2eq / Cabeza\n",
       "14  2004     1.47  tCO2eq / Cabeza\n",
       "15  2005     1.47  tCO2eq / Cabeza\n",
       "9   1999     1.62  tCO2eq / Cabeza\n",
       "11  2001     1.60  tCO2eq / Cabeza"
      ]
     },
     "execution_count": 24,
     "metadata": {},
     "output_type": "execute_result"
    }
   ],
   "source": [
    "df=pd.read_csv(\"../Practica/emisiones_ganado.csv\",encoding = \"utf-8\", sep=\";\")\n",
    "df.columns = ['año','emision','unidad']\n",
    "df.sample(10)"
   ]
  },
  {
   "cell_type": "markdown",
   "metadata": {},
   "source": [
    "Creando df desde un conjunto"
   ]
  },
  {
   "cell_type": "code",
   "execution_count": 4,
   "metadata": {},
   "outputs": [
    {
     "data": {
      "text/html": [
       "<div>\n",
       "<style scoped>\n",
       "    .dataframe tbody tr th:only-of-type {\n",
       "        vertical-align: middle;\n",
       "    }\n",
       "\n",
       "    .dataframe tbody tr th {\n",
       "        vertical-align: top;\n",
       "    }\n",
       "\n",
       "    .dataframe thead th {\n",
       "        text-align: right;\n",
       "    }\n",
       "</style>\n",
       "<table border=\"1\" class=\"dataframe\">\n",
       "  <thead>\n",
       "    <tr style=\"text-align: right;\">\n",
       "      <th></th>\n",
       "      <th>id</th>\n",
       "      <th>nombre</th>\n",
       "      <th>apellido</th>\n",
       "    </tr>\n",
       "  </thead>\n",
       "  <tbody>\n",
       "    <tr>\n",
       "      <th>0</th>\n",
       "      <td>1</td>\n",
       "      <td>miguel</td>\n",
       "      <td>gomez</td>\n",
       "    </tr>\n",
       "    <tr>\n",
       "      <th>1</th>\n",
       "      <td>2</td>\n",
       "      <td>ramon</td>\n",
       "      <td>gimenez</td>\n",
       "    </tr>\n",
       "    <tr>\n",
       "      <th>2</th>\n",
       "      <td>3</td>\n",
       "      <td>roberto</td>\n",
       "      <td>gonzalez</td>\n",
       "    </tr>\n",
       "    <tr>\n",
       "      <th>3</th>\n",
       "      <td>4</td>\n",
       "      <td>lucas</td>\n",
       "      <td>martinez</td>\n",
       "    </tr>\n",
       "    <tr>\n",
       "      <th>4</th>\n",
       "      <td>5</td>\n",
       "      <td>patricia</td>\n",
       "      <td>miranda</td>\n",
       "    </tr>\n",
       "    <tr>\n",
       "      <th>5</th>\n",
       "      <td>6</td>\n",
       "      <td>miguel</td>\n",
       "      <td>perez</td>\n",
       "    </tr>\n",
       "    <tr>\n",
       "      <th>6</th>\n",
       "      <td>7</td>\n",
       "      <td>ramon</td>\n",
       "      <td>bernues</td>\n",
       "    </tr>\n",
       "    <tr>\n",
       "      <th>7</th>\n",
       "      <td>8</td>\n",
       "      <td>roberto</td>\n",
       "      <td>martinez</td>\n",
       "    </tr>\n",
       "    <tr>\n",
       "      <th>8</th>\n",
       "      <td>9</td>\n",
       "      <td>lucas</td>\n",
       "      <td>ramirez</td>\n",
       "    </tr>\n",
       "    <tr>\n",
       "      <th>9</th>\n",
       "      <td>10</td>\n",
       "      <td>patricia</td>\n",
       "      <td>paru</td>\n",
       "    </tr>\n",
       "  </tbody>\n",
       "</table>\n",
       "</div>"
      ],
      "text/plain": [
       "   id    nombre  apellido\n",
       "0   1    miguel     gomez\n",
       "1   2     ramon   gimenez\n",
       "2   3   roberto  gonzalez\n",
       "3   4     lucas  martinez\n",
       "4   5  patricia   miranda\n",
       "5   6    miguel     perez\n",
       "6   7     ramon   bernues\n",
       "7   8   roberto  martinez\n",
       "8   9     lucas   ramirez\n",
       "9  10  patricia      paru"
      ]
     },
     "execution_count": 4,
     "metadata": {},
     "output_type": "execute_result"
    }
   ],
   "source": [
    "dfCustom = pd.DataFrame({'id':[1,2,3,4,5,6,7,8,9,10],'nombre':['miguel','ramon','roberto','lucas','patricia','miguel','ramon','roberto','lucas','patricia'],'apellido':['gomez','gimenez','gonzalez','martinez','miranda','perez','bernues','martinez','ramirez','paru']})\n",
    "dfCustom"
   ]
  },
  {
   "cell_type": "markdown",
   "metadata": {},
   "source": [
    "Creacion a partir de un esclar"
   ]
  },
  {
   "cell_type": "code",
   "execution_count": 5,
   "metadata": {},
   "outputs": [
    {
     "data": {
      "text/plain": [
       "Enero      7\n",
       "Febrero    7\n",
       "Marzo      7\n",
       "dtype: int64"
      ]
     },
     "execution_count": 5,
     "metadata": {},
     "output_type": "execute_result"
    }
   ],
   "source": [
    "df1 = pd.Series(7, index = [\"Enero\",\"Febrero\",\"Marzo\"])\n",
    "df1"
   ]
  },
  {
   "cell_type": "markdown",
   "metadata": {},
   "source": [
    "Creacion desde un array"
   ]
  },
  {
   "cell_type": "code",
   "execution_count": 6,
   "metadata": {},
   "outputs": [],
   "source": [
    "mi_array = {'col1': 1.0, 'col2':2.0, 'col3': 3.0}"
   ]
  },
  {
   "cell_type": "code",
   "execution_count": 22,
   "metadata": {},
   "outputs": [
    {
     "name": "stdout",
     "output_type": "stream",
     "text": [
      "   col1  col2  col3\n",
      "0   1.0   2.0   3.0\n"
     ]
    }
   ],
   "source": [
    "mi_array = {'col1': 1.0, 'col2':2.0, 'col3': 3.0}\n",
    "dfC = pd.DataFrame([mi_array])\n",
    "print (dfC)"
   ]
  },
  {
   "cell_type": "markdown",
   "metadata": {},
   "source": [
    "Acciones simples sobre un Dataframe"
   ]
  },
  {
   "cell_type": "code",
   "execution_count": 8,
   "metadata": {},
   "outputs": [
    {
     "name": "stdout",
     "output_type": "stream",
     "text": [
      "Enero      7\n",
      "Febrero    7\n",
      "Marzo      7\n",
      "dtype: int64\n",
      "3\n",
      "Cantidad de filas: 3\n"
     ]
    }
   ],
   "source": [
    "print(df1.head(10))\n",
    "print(len(df1))\n",
    "print(\"Cantidad de filas: %i\" %len(df1))\n",
    "#El %i indica que ahí va una variable de tipo integer.\n",
    "#Al cerrar comillas dobles, el % indica qué es lo que debe reemplazar a %i"
   ]
  },
  {
   "cell_type": "markdown",
   "metadata": {},
   "source": [
    "Splicing de la data"
   ]
  },
  {
   "cell_type": "code",
   "execution_count": 9,
   "metadata": {},
   "outputs": [
    {
     "name": "stdout",
     "output_type": "stream",
     "text": [
      "Enero      7\n",
      "Febrero    7\n",
      "Marzo      7\n",
      "dtype: int64\n",
      "Series([], dtype: int64)\n",
      "Enero      7\n",
      "Febrero    7\n",
      "Marzo      7\n",
      "dtype: int64\n",
      "Enero    7\n",
      "dtype: int64\n",
      "Enero    7\n",
      "dtype: int64\n"
     ]
    }
   ],
   "source": [
    "print(df1[:10]) #muestra las primeras 10 filas\n",
    "print(df1[5:]) #muestra todo salvo las primeras 5 filas\n",
    "print(df1[-3:]) #muestra las últimas 3 filas\n",
    "print(df1[:-2]) #muestra todo salvo las últimas 2 filas\n",
    "print(df1[-5:-2]) #muestra desde la 5ta desde el final hasta 2 desde el final"
   ]
  },
  {
   "cell_type": "markdown",
   "metadata": {},
   "source": [
    "Pasar el campo \"nombre\" a minúscula:"
   ]
  },
  {
   "cell_type": "code",
   "execution_count": 15,
   "metadata": {},
   "outputs": [],
   "source": [
    "dfCustom = dfCustom['nombre'].str.lower()"
   ]
  },
  {
   "cell_type": "markdown",
   "metadata": {},
   "source": [
    "Cómo ver las columnas de un DataFrame en Pandas:"
   ]
  },
  {
   "cell_type": "code",
   "execution_count": 14,
   "metadata": {},
   "outputs": [
    {
     "name": "stdout",
     "output_type": "stream",
     "text": [
      "Index(['id', 'nombre', 'apellido'], dtype='object')\n"
     ]
    }
   ],
   "source": [
    "print(dfCustom.columns)"
   ]
  },
  {
   "cell_type": "markdown",
   "metadata": {},
   "source": [
    "Cómo ver el contenido de una columna en Pandas"
   ]
  },
  {
   "cell_type": "code",
   "execution_count": 28,
   "metadata": {},
   "outputs": [
    {
     "data": {
      "text/plain": [
       "0     1.58\n",
       "1     1.57\n",
       "2     1.57\n",
       "3     1.62\n",
       "4     1.62\n",
       "5     1.61\n",
       "6     1.60\n",
       "7     1.60\n",
       "8     1.59\n",
       "9     1.62\n",
       "10    1.62\n",
       "11    1.60\n",
       "12    1.55\n",
       "13    1.48\n",
       "14    1.47\n",
       "15    1.47\n",
       "16    1.44\n",
       "17    1.41\n",
       "18    1.40\n",
       "19    1.42\n",
       "20    1.45\n",
       "21    1.45\n",
       "22    1.42\n",
       "23    1.41\n",
       "24    1.40\n",
       "25    1.40\n",
       "26    1.37\n",
       "27    1.37\n",
       "28    1.37\n",
       "Name: emision, dtype: float64"
      ]
     },
     "execution_count": 28,
     "metadata": {},
     "output_type": "execute_result"
    }
   ],
   "source": [
    "df['emision'] #la columna se llama emision"
   ]
  },
  {
   "cell_type": "markdown",
   "metadata": {},
   "source": [
    "Cómo sacar el promedio de los valores de una columna en\n",
    "Pandas:"
   ]
  },
  {
   "cell_type": "code",
   "execution_count": 29,
   "metadata": {},
   "outputs": [
    {
     "name": "stdout",
     "output_type": "stream",
     "text": [
      "1.4993103448275862\n"
     ]
    }
   ],
   "source": [
    "print(df['emision'].mean())"
   ]
  },
  {
   "cell_type": "markdown",
   "metadata": {},
   "source": [
    "Posiciones"
   ]
  },
  {
   "cell_type": "code",
   "execution_count": 30,
   "metadata": {},
   "outputs": [
    {
     "data": {
      "text/plain": [
       "año                   1990\n",
       "emision               1.58\n",
       "unidad     tCO2eq / Cabeza\n",
       "Name: 0, dtype: object"
      ]
     },
     "execution_count": 30,
     "metadata": {},
     "output_type": "execute_result"
    }
   ],
   "source": [
    "# mostramos columnas del dataframe\n",
    "df.loc[0,:]"
   ]
  },
  {
   "cell_type": "code",
   "execution_count": 31,
   "metadata": {},
   "outputs": [
    {
     "data": {
      "text/plain": [
       "año        1990\n",
       "emision    1.58\n",
       "Name: 0, dtype: object"
      ]
     },
     "execution_count": 31,
     "metadata": {},
     "output_type": "execute_result"
    }
   ],
   "source": [
    "# Mostramos hasta el nombre de la columna\n",
    "df.loc[0,:'emision']"
   ]
  }
 ],
 "metadata": {
  "kernelspec": {
   "display_name": "Python 3.10.4 64-bit",
   "language": "python",
   "name": "python3"
  },
  "language_info": {
   "codemirror_mode": {
    "name": "ipython",
    "version": 3
   },
   "file_extension": ".py",
   "mimetype": "text/x-python",
   "name": "python",
   "nbconvert_exporter": "python",
   "pygments_lexer": "ipython3",
   "version": "3.10.4"
  },
  "orig_nbformat": 4,
  "vscode": {
   "interpreter": {
    "hash": "e7334b855d2473782f3ad76168b7caf3ec2d8c554240f3cea6ea423f010cc8c2"
   }
  }
 },
 "nbformat": 4,
 "nbformat_minor": 2
}
