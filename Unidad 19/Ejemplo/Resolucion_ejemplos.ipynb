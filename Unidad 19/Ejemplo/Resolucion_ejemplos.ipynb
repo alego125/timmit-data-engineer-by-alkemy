{
 "cells": [
  {
   "cell_type": "markdown",
   "metadata": {},
   "source": [
    "## Ejemplos parte teorica a partir de un dataset extra"
   ]
  },
  {
   "cell_type": "code",
   "execution_count": 2,
   "metadata": {},
   "outputs": [],
   "source": [
    "import pandas as pd"
   ]
  },
  {
   "cell_type": "code",
   "execution_count": 3,
   "metadata": {},
   "outputs": [
    {
     "data": {
      "text/html": [
       "<div>\n",
       "<style scoped>\n",
       "    .dataframe tbody tr th:only-of-type {\n",
       "        vertical-align: middle;\n",
       "    }\n",
       "\n",
       "    .dataframe tbody tr th {\n",
       "        vertical-align: top;\n",
       "    }\n",
       "\n",
       "    .dataframe thead th {\n",
       "        text-align: right;\n",
       "    }\n",
       "</style>\n",
       "<table border=\"1\" class=\"dataframe\">\n",
       "  <thead>\n",
       "    <tr style=\"text-align: right;\">\n",
       "      <th></th>\n",
       "      <th>año</th>\n",
       "      <th>emision</th>\n",
       "      <th>unidad</th>\n",
       "    </tr>\n",
       "  </thead>\n",
       "  <tbody>\n",
       "    <tr>\n",
       "      <th>2</th>\n",
       "      <td>1992</td>\n",
       "      <td>1.57</td>\n",
       "      <td>tCO2eq / Cabeza</td>\n",
       "    </tr>\n",
       "    <tr>\n",
       "      <th>1</th>\n",
       "      <td>1991</td>\n",
       "      <td>1.57</td>\n",
       "      <td>tCO2eq / Cabeza</td>\n",
       "    </tr>\n",
       "    <tr>\n",
       "      <th>17</th>\n",
       "      <td>2007</td>\n",
       "      <td>1.41</td>\n",
       "      <td>tCO2eq / Cabeza</td>\n",
       "    </tr>\n",
       "    <tr>\n",
       "      <th>11</th>\n",
       "      <td>2001</td>\n",
       "      <td>1.60</td>\n",
       "      <td>tCO2eq / Cabeza</td>\n",
       "    </tr>\n",
       "    <tr>\n",
       "      <th>14</th>\n",
       "      <td>2004</td>\n",
       "      <td>1.47</td>\n",
       "      <td>tCO2eq / Cabeza</td>\n",
       "    </tr>\n",
       "    <tr>\n",
       "      <th>7</th>\n",
       "      <td>1997</td>\n",
       "      <td>1.60</td>\n",
       "      <td>tCO2eq / Cabeza</td>\n",
       "    </tr>\n",
       "    <tr>\n",
       "      <th>27</th>\n",
       "      <td>2017</td>\n",
       "      <td>1.37</td>\n",
       "      <td>tCO2eq / Cabeza</td>\n",
       "    </tr>\n",
       "    <tr>\n",
       "      <th>16</th>\n",
       "      <td>2006</td>\n",
       "      <td>1.44</td>\n",
       "      <td>tCO2eq / Cabeza</td>\n",
       "    </tr>\n",
       "    <tr>\n",
       "      <th>12</th>\n",
       "      <td>2002</td>\n",
       "      <td>1.55</td>\n",
       "      <td>tCO2eq / Cabeza</td>\n",
       "    </tr>\n",
       "    <tr>\n",
       "      <th>15</th>\n",
       "      <td>2005</td>\n",
       "      <td>1.47</td>\n",
       "      <td>tCO2eq / Cabeza</td>\n",
       "    </tr>\n",
       "  </tbody>\n",
       "</table>\n",
       "</div>"
      ],
      "text/plain": [
       "     año  emision           unidad\n",
       "2   1992     1.57  tCO2eq / Cabeza\n",
       "1   1991     1.57  tCO2eq / Cabeza\n",
       "17  2007     1.41  tCO2eq / Cabeza\n",
       "11  2001     1.60  tCO2eq / Cabeza\n",
       "14  2004     1.47  tCO2eq / Cabeza\n",
       "7   1997     1.60  tCO2eq / Cabeza\n",
       "27  2017     1.37  tCO2eq / Cabeza\n",
       "16  2006     1.44  tCO2eq / Cabeza\n",
       "12  2002     1.55  tCO2eq / Cabeza\n",
       "15  2005     1.47  tCO2eq / Cabeza"
      ]
     },
     "execution_count": 3,
     "metadata": {},
     "output_type": "execute_result"
    }
   ],
   "source": [
    "df=pd.read_csv(\"../Practica/emisiones_ganado.csv\",encoding = \"utf-8\", sep=\";\")\n",
    "df.columns = ['año','emision','unidad']\n",
    "df.sample(10)"
   ]
  },
  {
   "cell_type": "markdown",
   "metadata": {},
   "source": [
    "Creando df desde un conjunto"
   ]
  },
  {
   "cell_type": "code",
   "execution_count": 4,
   "metadata": {},
   "outputs": [
    {
     "data": {
      "text/html": [
       "<div>\n",
       "<style scoped>\n",
       "    .dataframe tbody tr th:only-of-type {\n",
       "        vertical-align: middle;\n",
       "    }\n",
       "\n",
       "    .dataframe tbody tr th {\n",
       "        vertical-align: top;\n",
       "    }\n",
       "\n",
       "    .dataframe thead th {\n",
       "        text-align: right;\n",
       "    }\n",
       "</style>\n",
       "<table border=\"1\" class=\"dataframe\">\n",
       "  <thead>\n",
       "    <tr style=\"text-align: right;\">\n",
       "      <th></th>\n",
       "      <th>id</th>\n",
       "      <th>nombre</th>\n",
       "      <th>apellido</th>\n",
       "    </tr>\n",
       "  </thead>\n",
       "  <tbody>\n",
       "    <tr>\n",
       "      <th>0</th>\n",
       "      <td>1</td>\n",
       "      <td>miguel</td>\n",
       "      <td>gomez</td>\n",
       "    </tr>\n",
       "    <tr>\n",
       "      <th>1</th>\n",
       "      <td>2</td>\n",
       "      <td>ramon</td>\n",
       "      <td>gimenez</td>\n",
       "    </tr>\n",
       "    <tr>\n",
       "      <th>2</th>\n",
       "      <td>3</td>\n",
       "      <td>roberto</td>\n",
       "      <td>gonzalez</td>\n",
       "    </tr>\n",
       "    <tr>\n",
       "      <th>3</th>\n",
       "      <td>4</td>\n",
       "      <td>lucas</td>\n",
       "      <td>martinez</td>\n",
       "    </tr>\n",
       "    <tr>\n",
       "      <th>4</th>\n",
       "      <td>5</td>\n",
       "      <td>patricia</td>\n",
       "      <td>miranda</td>\n",
       "    </tr>\n",
       "    <tr>\n",
       "      <th>5</th>\n",
       "      <td>6</td>\n",
       "      <td>miguel</td>\n",
       "      <td>perez</td>\n",
       "    </tr>\n",
       "    <tr>\n",
       "      <th>6</th>\n",
       "      <td>7</td>\n",
       "      <td>ramon</td>\n",
       "      <td>bernues</td>\n",
       "    </tr>\n",
       "    <tr>\n",
       "      <th>7</th>\n",
       "      <td>8</td>\n",
       "      <td>roberto</td>\n",
       "      <td>martinez</td>\n",
       "    </tr>\n",
       "    <tr>\n",
       "      <th>8</th>\n",
       "      <td>9</td>\n",
       "      <td>lucas</td>\n",
       "      <td>ramirez</td>\n",
       "    </tr>\n",
       "    <tr>\n",
       "      <th>9</th>\n",
       "      <td>10</td>\n",
       "      <td>patricia</td>\n",
       "      <td>paru</td>\n",
       "    </tr>\n",
       "  </tbody>\n",
       "</table>\n",
       "</div>"
      ],
      "text/plain": [
       "   id    nombre  apellido\n",
       "0   1    miguel     gomez\n",
       "1   2     ramon   gimenez\n",
       "2   3   roberto  gonzalez\n",
       "3   4     lucas  martinez\n",
       "4   5  patricia   miranda\n",
       "5   6    miguel     perez\n",
       "6   7     ramon   bernues\n",
       "7   8   roberto  martinez\n",
       "8   9     lucas   ramirez\n",
       "9  10  patricia      paru"
      ]
     },
     "execution_count": 4,
     "metadata": {},
     "output_type": "execute_result"
    }
   ],
   "source": [
    "dfCustom = pd.DataFrame({'id':[1,2,3,4,5,6,7,8,9,10],'nombre':['miguel','ramon','roberto','lucas','patricia','miguel','ramon','roberto','lucas','patricia'],'apellido':['gomez','gimenez','gonzalez','martinez','miranda','perez','bernues','martinez','ramirez','paru']})\n",
    "dfCustom"
   ]
  },
  {
   "cell_type": "markdown",
   "metadata": {},
   "source": [
    "Creacion a partir de un esclar"
   ]
  },
  {
   "cell_type": "code",
   "execution_count": 5,
   "metadata": {},
   "outputs": [
    {
     "data": {
      "text/plain": [
       "Enero      7\n",
       "Febrero    7\n",
       "Marzo      7\n",
       "dtype: int64"
      ]
     },
     "execution_count": 5,
     "metadata": {},
     "output_type": "execute_result"
    }
   ],
   "source": [
    "df1 = pd.Series(7, index = [\"Enero\",\"Febrero\",\"Marzo\"])\n",
    "df1"
   ]
  },
  {
   "cell_type": "markdown",
   "metadata": {},
   "source": [
    "Creacion desde un array"
   ]
  },
  {
   "cell_type": "code",
   "execution_count": 6,
   "metadata": {},
   "outputs": [],
   "source": [
    "mi_array = {'col1': 1.0, 'col2':2.0, 'col3': 3.0}"
   ]
  },
  {
   "cell_type": "code",
   "execution_count": 22,
   "metadata": {},
   "outputs": [
    {
     "name": "stdout",
     "output_type": "stream",
     "text": [
      "   col1  col2  col3\n",
      "0   1.0   2.0   3.0\n"
     ]
    }
   ],
   "source": [
    "mi_array = {'col1': 1.0, 'col2':2.0, 'col3': 3.0}\n",
    "dfC = pd.DataFrame([mi_array])\n",
    "print (dfC)"
   ]
  },
  {
   "cell_type": "markdown",
   "metadata": {},
   "source": [
    "Acciones simples sobre un Dataframe"
   ]
  },
  {
   "cell_type": "code",
   "execution_count": 8,
   "metadata": {},
   "outputs": [
    {
     "name": "stdout",
     "output_type": "stream",
     "text": [
      "Enero      7\n",
      "Febrero    7\n",
      "Marzo      7\n",
      "dtype: int64\n",
      "3\n",
      "Cantidad de filas: 3\n"
     ]
    }
   ],
   "source": [
    "print(df1.head(10))\n",
    "print(len(df1))\n",
    "print(\"Cantidad de filas: %i\" %len(df1))\n",
    "#El %i indica que ahí va una variable de tipo integer.\n",
    "#Al cerrar comillas dobles, el % indica qué es lo que debe reemplazar a %i"
   ]
  },
  {
   "cell_type": "markdown",
   "metadata": {},
   "source": [
    "Splicing de la data"
   ]
  },
  {
   "cell_type": "code",
   "execution_count": 9,
   "metadata": {},
   "outputs": [
    {
     "name": "stdout",
     "output_type": "stream",
     "text": [
      "Enero      7\n",
      "Febrero    7\n",
      "Marzo      7\n",
      "dtype: int64\n",
      "Series([], dtype: int64)\n",
      "Enero      7\n",
      "Febrero    7\n",
      "Marzo      7\n",
      "dtype: int64\n",
      "Enero    7\n",
      "dtype: int64\n",
      "Enero    7\n",
      "dtype: int64\n"
     ]
    }
   ],
   "source": [
    "print(df1[:10]) #muestra las primeras 10 filas\n",
    "print(df1[5:]) #muestra todo salvo las primeras 5 filas\n",
    "print(df1[-3:]) #muestra las últimas 3 filas\n",
    "print(df1[:-2]) #muestra todo salvo las últimas 2 filas\n",
    "print(df1[-5:-2]) #muestra desde la 5ta desde el final hasta 2 desde el final"
   ]
  },
  {
   "cell_type": "markdown",
   "metadata": {},
   "source": [
    "Pasar el campo \"nombre\" a minúscula:"
   ]
  },
  {
   "cell_type": "code",
   "execution_count": 15,
   "metadata": {},
   "outputs": [],
   "source": [
    "dfCustom = dfCustom['nombre'].str.lower()"
   ]
  },
  {
   "cell_type": "markdown",
   "metadata": {},
   "source": [
    "Cómo ver las columnas de un DataFrame en Pandas:"
   ]
  },
  {
   "cell_type": "code",
   "execution_count": 14,
   "metadata": {},
   "outputs": [
    {
     "name": "stdout",
     "output_type": "stream",
     "text": [
      "Index(['id', 'nombre', 'apellido'], dtype='object')\n"
     ]
    }
   ],
   "source": [
    "print(dfCustom.columns)"
   ]
  },
  {
   "cell_type": "markdown",
   "metadata": {},
   "source": [
    "Cómo ver el contenido de una columna en Pandas"
   ]
  },
  {
   "cell_type": "code",
   "execution_count": 28,
   "metadata": {},
   "outputs": [
    {
     "data": {
      "text/plain": [
       "0     1.58\n",
       "1     1.57\n",
       "2     1.57\n",
       "3     1.62\n",
       "4     1.62\n",
       "5     1.61\n",
       "6     1.60\n",
       "7     1.60\n",
       "8     1.59\n",
       "9     1.62\n",
       "10    1.62\n",
       "11    1.60\n",
       "12    1.55\n",
       "13    1.48\n",
       "14    1.47\n",
       "15    1.47\n",
       "16    1.44\n",
       "17    1.41\n",
       "18    1.40\n",
       "19    1.42\n",
       "20    1.45\n",
       "21    1.45\n",
       "22    1.42\n",
       "23    1.41\n",
       "24    1.40\n",
       "25    1.40\n",
       "26    1.37\n",
       "27    1.37\n",
       "28    1.37\n",
       "Name: emision, dtype: float64"
      ]
     },
     "execution_count": 28,
     "metadata": {},
     "output_type": "execute_result"
    }
   ],
   "source": [
    "df['emision'] #la columna se llama emision"
   ]
  },
  {
   "cell_type": "markdown",
   "metadata": {},
   "source": [
    "Cómo sacar el promedio de los valores de una columna en\n",
    "Pandas:"
   ]
  },
  {
   "cell_type": "code",
   "execution_count": 29,
   "metadata": {},
   "outputs": [
    {
     "name": "stdout",
     "output_type": "stream",
     "text": [
      "1.4993103448275862\n"
     ]
    }
   ],
   "source": [
    "print(df['emision'].mean())"
   ]
  },
  {
   "cell_type": "markdown",
   "metadata": {},
   "source": [
    "Posiciones"
   ]
  },
  {
   "cell_type": "code",
   "execution_count": 30,
   "metadata": {},
   "outputs": [
    {
     "data": {
      "text/plain": [
       "año                   1990\n",
       "emision               1.58\n",
       "unidad     tCO2eq / Cabeza\n",
       "Name: 0, dtype: object"
      ]
     },
     "execution_count": 30,
     "metadata": {},
     "output_type": "execute_result"
    }
   ],
   "source": [
    "# mostramos columnas del dataframe\n",
    "df.loc[0,:]"
   ]
  },
  {
   "cell_type": "code",
   "execution_count": 31,
   "metadata": {},
   "outputs": [
    {
     "data": {
      "text/plain": [
       "año        1990\n",
       "emision    1.58\n",
       "Name: 0, dtype: object"
      ]
     },
     "execution_count": 31,
     "metadata": {},
     "output_type": "execute_result"
    }
   ],
   "source": [
    "# Mostramos hasta el nombre de la columna\n",
    "df.loc[0,:'emision']"
   ]
  },
  {
   "cell_type": "markdown",
   "metadata": {},
   "source": [
    "## Analisis graficos de algunos campos con plotly"
   ]
  },
  {
   "cell_type": "markdown",
   "metadata": {},
   "source": [
    "### Analisis de datos de muertes por diferentes causas en latino america"
   ]
  },
  {
   "cell_type": "code",
   "execution_count": 2,
   "metadata": {},
   "outputs": [],
   "source": [
    "# Importamos pandas y el xlsx para extraer los datos\n",
    "import pandas as pd\n",
    "df=pd.read_excel(\"../Practica/death_risk.xlsx\")"
   ]
  },
  {
   "cell_type": "code",
   "execution_count": 3,
   "metadata": {},
   "outputs": [
    {
     "data": {
      "text/plain": [
       "Index(['Entity', 'Year', 'Outdoor air pollution',\n",
       "       'High systolic blood pressure', 'Diet high in sodium',\n",
       "       'Diet low in whole grains', 'Alcohol use', 'Diet low in fruits',\n",
       "       'Unsafe water source', 'Secondhand smoke', 'Low birth weight',\n",
       "       'Child wasting', 'Unsafe sex', 'Diet low in nuts and seeds',\n",
       "       'Household air pollution from solid fuels', 'Diet low in vegetables',\n",
       "       'Low physical activity', 'Smoking', 'High fasting plasma glucose',\n",
       "       'Air pollution', 'High body-mass index', 'Unsafe sanitation',\n",
       "       'No access to handwashing facility',\n",
       "       'Drug use - Sex: Both - Age: All Ages (Number)',\n",
       "       'Low bone mineral density', 'Vitamin A deficiency', 'Child stunting',\n",
       "       'Discontinued breastfeeding', 'Non-exclusive breastfeeding',\n",
       "       'Iron deficiency'],\n",
       "      dtype='object')"
      ]
     },
     "execution_count": 3,
     "metadata": {},
     "output_type": "execute_result"
    }
   ],
   "source": [
    "# Elimino espacios en blanco del dataframe\n",
    "columnas = [col.strip() for col in df.columns]\n",
    "df.columns = columnas\n",
    "df.columns"
   ]
  },
  {
   "cell_type": "code",
   "execution_count": 20,
   "metadata": {},
   "outputs": [],
   "source": [
    "# Sacamos las columnas de interes y filtramos para sacar solo los de argentina\n",
    "dfReduce = df[['Entity', 'Year','High systolic blood pressure','Alcohol use','Secondhand smoke','Smoking']]\n",
    "dfArgentinaData = dfReduce[dfReduce['Entity'] == 'Argentina']"
   ]
  },
  {
   "cell_type": "code",
   "execution_count": 46,
   "metadata": {},
   "outputs": [],
   "source": [
    "# Importamos plotly para graficar\n",
    "import plotly.express as px\n",
    "import plotly.graph_objects as go"
   ]
  },
  {
   "cell_type": "code",
   "execution_count": 22,
   "metadata": {},
   "outputs": [
    {
     "data": {
      "application/vnd.plotly.v1+json": {
       "config": {
        "plotlyServerURL": "https://plot.ly"
       },
       "data": [
        {
         "alignmentgroup": "True",
         "bingroup": "x",
         "histfunc": "sum",
         "hovertemplate": "variable=Alcohol use<br>Year=%{x}<br>sum of value=%{y}<extra></extra>",
         "legendgroup": "Alcohol use",
         "marker": {
          "color": "#636efa",
          "pattern": {
           "shape": ""
          }
         },
         "name": "Alcohol use",
         "nbinsx": 30,
         "offsetgroup": "Alcohol use",
         "orientation": "v",
         "showlegend": true,
         "type": "histogram",
         "x": [
          1990,
          1991,
          1992,
          1993,
          1994,
          1995,
          1996,
          1997,
          1998,
          1999,
          2000,
          2001,
          2002,
          2003,
          2004,
          2005,
          2006,
          2007,
          2008,
          2009,
          2010,
          2011,
          2012,
          2013,
          2014,
          2015,
          2016,
          2017,
          2018,
          2019
         ],
         "xaxis": "x",
         "y": [
          18840,
          18775,
          18993,
          18801,
          18544,
          18538,
          18619,
          18570,
          18408,
          18267,
          17673,
          17608,
          17660,
          17527,
          17005,
          16890,
          17081,
          17571,
          17478,
          17553,
          17750,
          18037,
          18364,
          18666,
          18804,
          19272,
          20220,
          20571,
          20625,
          20962
         ],
         "yaxis": "y"
        }
       ],
       "layout": {
        "bargap": 0.1,
        "barmode": "relative",
        "legend": {
         "title": {
          "text": "variable"
         },
         "tracegroupgap": 0
        },
        "margin": {
         "t": 60
        },
        "template": {
         "data": {
          "bar": [
           {
            "error_x": {
             "color": "#2a3f5f"
            },
            "error_y": {
             "color": "#2a3f5f"
            },
            "marker": {
             "line": {
              "color": "#E5ECF6",
              "width": 0.5
             },
             "pattern": {
              "fillmode": "overlay",
              "size": 10,
              "solidity": 0.2
             }
            },
            "type": "bar"
           }
          ],
          "barpolar": [
           {
            "marker": {
             "line": {
              "color": "#E5ECF6",
              "width": 0.5
             },
             "pattern": {
              "fillmode": "overlay",
              "size": 10,
              "solidity": 0.2
             }
            },
            "type": "barpolar"
           }
          ],
          "carpet": [
           {
            "aaxis": {
             "endlinecolor": "#2a3f5f",
             "gridcolor": "white",
             "linecolor": "white",
             "minorgridcolor": "white",
             "startlinecolor": "#2a3f5f"
            },
            "baxis": {
             "endlinecolor": "#2a3f5f",
             "gridcolor": "white",
             "linecolor": "white",
             "minorgridcolor": "white",
             "startlinecolor": "#2a3f5f"
            },
            "type": "carpet"
           }
          ],
          "choropleth": [
           {
            "colorbar": {
             "outlinewidth": 0,
             "ticks": ""
            },
            "type": "choropleth"
           }
          ],
          "contour": [
           {
            "colorbar": {
             "outlinewidth": 0,
             "ticks": ""
            },
            "colorscale": [
             [
              0,
              "#0d0887"
             ],
             [
              0.1111111111111111,
              "#46039f"
             ],
             [
              0.2222222222222222,
              "#7201a8"
             ],
             [
              0.3333333333333333,
              "#9c179e"
             ],
             [
              0.4444444444444444,
              "#bd3786"
             ],
             [
              0.5555555555555556,
              "#d8576b"
             ],
             [
              0.6666666666666666,
              "#ed7953"
             ],
             [
              0.7777777777777778,
              "#fb9f3a"
             ],
             [
              0.8888888888888888,
              "#fdca26"
             ],
             [
              1,
              "#f0f921"
             ]
            ],
            "type": "contour"
           }
          ],
          "contourcarpet": [
           {
            "colorbar": {
             "outlinewidth": 0,
             "ticks": ""
            },
            "type": "contourcarpet"
           }
          ],
          "heatmap": [
           {
            "colorbar": {
             "outlinewidth": 0,
             "ticks": ""
            },
            "colorscale": [
             [
              0,
              "#0d0887"
             ],
             [
              0.1111111111111111,
              "#46039f"
             ],
             [
              0.2222222222222222,
              "#7201a8"
             ],
             [
              0.3333333333333333,
              "#9c179e"
             ],
             [
              0.4444444444444444,
              "#bd3786"
             ],
             [
              0.5555555555555556,
              "#d8576b"
             ],
             [
              0.6666666666666666,
              "#ed7953"
             ],
             [
              0.7777777777777778,
              "#fb9f3a"
             ],
             [
              0.8888888888888888,
              "#fdca26"
             ],
             [
              1,
              "#f0f921"
             ]
            ],
            "type": "heatmap"
           }
          ],
          "heatmapgl": [
           {
            "colorbar": {
             "outlinewidth": 0,
             "ticks": ""
            },
            "colorscale": [
             [
              0,
              "#0d0887"
             ],
             [
              0.1111111111111111,
              "#46039f"
             ],
             [
              0.2222222222222222,
              "#7201a8"
             ],
             [
              0.3333333333333333,
              "#9c179e"
             ],
             [
              0.4444444444444444,
              "#bd3786"
             ],
             [
              0.5555555555555556,
              "#d8576b"
             ],
             [
              0.6666666666666666,
              "#ed7953"
             ],
             [
              0.7777777777777778,
              "#fb9f3a"
             ],
             [
              0.8888888888888888,
              "#fdca26"
             ],
             [
              1,
              "#f0f921"
             ]
            ],
            "type": "heatmapgl"
           }
          ],
          "histogram": [
           {
            "marker": {
             "pattern": {
              "fillmode": "overlay",
              "size": 10,
              "solidity": 0.2
             }
            },
            "type": "histogram"
           }
          ],
          "histogram2d": [
           {
            "colorbar": {
             "outlinewidth": 0,
             "ticks": ""
            },
            "colorscale": [
             [
              0,
              "#0d0887"
             ],
             [
              0.1111111111111111,
              "#46039f"
             ],
             [
              0.2222222222222222,
              "#7201a8"
             ],
             [
              0.3333333333333333,
              "#9c179e"
             ],
             [
              0.4444444444444444,
              "#bd3786"
             ],
             [
              0.5555555555555556,
              "#d8576b"
             ],
             [
              0.6666666666666666,
              "#ed7953"
             ],
             [
              0.7777777777777778,
              "#fb9f3a"
             ],
             [
              0.8888888888888888,
              "#fdca26"
             ],
             [
              1,
              "#f0f921"
             ]
            ],
            "type": "histogram2d"
           }
          ],
          "histogram2dcontour": [
           {
            "colorbar": {
             "outlinewidth": 0,
             "ticks": ""
            },
            "colorscale": [
             [
              0,
              "#0d0887"
             ],
             [
              0.1111111111111111,
              "#46039f"
             ],
             [
              0.2222222222222222,
              "#7201a8"
             ],
             [
              0.3333333333333333,
              "#9c179e"
             ],
             [
              0.4444444444444444,
              "#bd3786"
             ],
             [
              0.5555555555555556,
              "#d8576b"
             ],
             [
              0.6666666666666666,
              "#ed7953"
             ],
             [
              0.7777777777777778,
              "#fb9f3a"
             ],
             [
              0.8888888888888888,
              "#fdca26"
             ],
             [
              1,
              "#f0f921"
             ]
            ],
            "type": "histogram2dcontour"
           }
          ],
          "mesh3d": [
           {
            "colorbar": {
             "outlinewidth": 0,
             "ticks": ""
            },
            "type": "mesh3d"
           }
          ],
          "parcoords": [
           {
            "line": {
             "colorbar": {
              "outlinewidth": 0,
              "ticks": ""
             }
            },
            "type": "parcoords"
           }
          ],
          "pie": [
           {
            "automargin": true,
            "type": "pie"
           }
          ],
          "scatter": [
           {
            "fillpattern": {
             "fillmode": "overlay",
             "size": 10,
             "solidity": 0.2
            },
            "type": "scatter"
           }
          ],
          "scatter3d": [
           {
            "line": {
             "colorbar": {
              "outlinewidth": 0,
              "ticks": ""
             }
            },
            "marker": {
             "colorbar": {
              "outlinewidth": 0,
              "ticks": ""
             }
            },
            "type": "scatter3d"
           }
          ],
          "scattercarpet": [
           {
            "marker": {
             "colorbar": {
              "outlinewidth": 0,
              "ticks": ""
             }
            },
            "type": "scattercarpet"
           }
          ],
          "scattergeo": [
           {
            "marker": {
             "colorbar": {
              "outlinewidth": 0,
              "ticks": ""
             }
            },
            "type": "scattergeo"
           }
          ],
          "scattergl": [
           {
            "marker": {
             "colorbar": {
              "outlinewidth": 0,
              "ticks": ""
             }
            },
            "type": "scattergl"
           }
          ],
          "scattermapbox": [
           {
            "marker": {
             "colorbar": {
              "outlinewidth": 0,
              "ticks": ""
             }
            },
            "type": "scattermapbox"
           }
          ],
          "scatterpolar": [
           {
            "marker": {
             "colorbar": {
              "outlinewidth": 0,
              "ticks": ""
             }
            },
            "type": "scatterpolar"
           }
          ],
          "scatterpolargl": [
           {
            "marker": {
             "colorbar": {
              "outlinewidth": 0,
              "ticks": ""
             }
            },
            "type": "scatterpolargl"
           }
          ],
          "scatterternary": [
           {
            "marker": {
             "colorbar": {
              "outlinewidth": 0,
              "ticks": ""
             }
            },
            "type": "scatterternary"
           }
          ],
          "surface": [
           {
            "colorbar": {
             "outlinewidth": 0,
             "ticks": ""
            },
            "colorscale": [
             [
              0,
              "#0d0887"
             ],
             [
              0.1111111111111111,
              "#46039f"
             ],
             [
              0.2222222222222222,
              "#7201a8"
             ],
             [
              0.3333333333333333,
              "#9c179e"
             ],
             [
              0.4444444444444444,
              "#bd3786"
             ],
             [
              0.5555555555555556,
              "#d8576b"
             ],
             [
              0.6666666666666666,
              "#ed7953"
             ],
             [
              0.7777777777777778,
              "#fb9f3a"
             ],
             [
              0.8888888888888888,
              "#fdca26"
             ],
             [
              1,
              "#f0f921"
             ]
            ],
            "type": "surface"
           }
          ],
          "table": [
           {
            "cells": {
             "fill": {
              "color": "#EBF0F8"
             },
             "line": {
              "color": "white"
             }
            },
            "header": {
             "fill": {
              "color": "#C8D4E3"
             },
             "line": {
              "color": "white"
             }
            },
            "type": "table"
           }
          ]
         },
         "layout": {
          "annotationdefaults": {
           "arrowcolor": "#2a3f5f",
           "arrowhead": 0,
           "arrowwidth": 1
          },
          "autotypenumbers": "strict",
          "coloraxis": {
           "colorbar": {
            "outlinewidth": 0,
            "ticks": ""
           }
          },
          "colorscale": {
           "diverging": [
            [
             0,
             "#8e0152"
            ],
            [
             0.1,
             "#c51b7d"
            ],
            [
             0.2,
             "#de77ae"
            ],
            [
             0.3,
             "#f1b6da"
            ],
            [
             0.4,
             "#fde0ef"
            ],
            [
             0.5,
             "#f7f7f7"
            ],
            [
             0.6,
             "#e6f5d0"
            ],
            [
             0.7,
             "#b8e186"
            ],
            [
             0.8,
             "#7fbc41"
            ],
            [
             0.9,
             "#4d9221"
            ],
            [
             1,
             "#276419"
            ]
           ],
           "sequential": [
            [
             0,
             "#0d0887"
            ],
            [
             0.1111111111111111,
             "#46039f"
            ],
            [
             0.2222222222222222,
             "#7201a8"
            ],
            [
             0.3333333333333333,
             "#9c179e"
            ],
            [
             0.4444444444444444,
             "#bd3786"
            ],
            [
             0.5555555555555556,
             "#d8576b"
            ],
            [
             0.6666666666666666,
             "#ed7953"
            ],
            [
             0.7777777777777778,
             "#fb9f3a"
            ],
            [
             0.8888888888888888,
             "#fdca26"
            ],
            [
             1,
             "#f0f921"
            ]
           ],
           "sequentialminus": [
            [
             0,
             "#0d0887"
            ],
            [
             0.1111111111111111,
             "#46039f"
            ],
            [
             0.2222222222222222,
             "#7201a8"
            ],
            [
             0.3333333333333333,
             "#9c179e"
            ],
            [
             0.4444444444444444,
             "#bd3786"
            ],
            [
             0.5555555555555556,
             "#d8576b"
            ],
            [
             0.6666666666666666,
             "#ed7953"
            ],
            [
             0.7777777777777778,
             "#fb9f3a"
            ],
            [
             0.8888888888888888,
             "#fdca26"
            ],
            [
             1,
             "#f0f921"
            ]
           ]
          },
          "colorway": [
           "#636efa",
           "#EF553B",
           "#00cc96",
           "#ab63fa",
           "#FFA15A",
           "#19d3f3",
           "#FF6692",
           "#B6E880",
           "#FF97FF",
           "#FECB52"
          ],
          "font": {
           "color": "#2a3f5f"
          },
          "geo": {
           "bgcolor": "white",
           "lakecolor": "white",
           "landcolor": "#E5ECF6",
           "showlakes": true,
           "showland": true,
           "subunitcolor": "white"
          },
          "hoverlabel": {
           "align": "left"
          },
          "hovermode": "closest",
          "mapbox": {
           "style": "light"
          },
          "paper_bgcolor": "white",
          "plot_bgcolor": "#E5ECF6",
          "polar": {
           "angularaxis": {
            "gridcolor": "white",
            "linecolor": "white",
            "ticks": ""
           },
           "bgcolor": "#E5ECF6",
           "radialaxis": {
            "gridcolor": "white",
            "linecolor": "white",
            "ticks": ""
           }
          },
          "scene": {
           "xaxis": {
            "backgroundcolor": "#E5ECF6",
            "gridcolor": "white",
            "gridwidth": 2,
            "linecolor": "white",
            "showbackground": true,
            "ticks": "",
            "zerolinecolor": "white"
           },
           "yaxis": {
            "backgroundcolor": "#E5ECF6",
            "gridcolor": "white",
            "gridwidth": 2,
            "linecolor": "white",
            "showbackground": true,
            "ticks": "",
            "zerolinecolor": "white"
           },
           "zaxis": {
            "backgroundcolor": "#E5ECF6",
            "gridcolor": "white",
            "gridwidth": 2,
            "linecolor": "white",
            "showbackground": true,
            "ticks": "",
            "zerolinecolor": "white"
           }
          },
          "shapedefaults": {
           "line": {
            "color": "#2a3f5f"
           }
          },
          "ternary": {
           "aaxis": {
            "gridcolor": "white",
            "linecolor": "white",
            "ticks": ""
           },
           "baxis": {
            "gridcolor": "white",
            "linecolor": "white",
            "ticks": ""
           },
           "bgcolor": "#E5ECF6",
           "caxis": {
            "gridcolor": "white",
            "linecolor": "white",
            "ticks": ""
           }
          },
          "title": {
           "x": 0.05
          },
          "xaxis": {
           "automargin": true,
           "gridcolor": "white",
           "linecolor": "white",
           "ticks": "",
           "title": {
            "standoff": 15
           },
           "zerolinecolor": "white",
           "zerolinewidth": 2
          },
          "yaxis": {
           "automargin": true,
           "gridcolor": "white",
           "linecolor": "white",
           "ticks": "",
           "title": {
            "standoff": 15
           },
           "zerolinecolor": "white",
           "zerolinewidth": 2
          }
         }
        },
        "xaxis": {
         "anchor": "y",
         "domain": [
          0,
          1
         ],
         "title": {
          "text": "Year"
         }
        },
        "yaxis": {
         "anchor": "x",
         "domain": [
          0,
          1
         ],
         "title": {
          "text": "sum of value"
         }
        }
       }
      },
      "text/html": [
       "<div>                            <div id=\"c8d68d4f-c69b-4631-bc49-14a17bffa6f7\" class=\"plotly-graph-div\" style=\"height:525px; width:100%;\"></div>            <script type=\"text/javascript\">                require([\"plotly\"], function(Plotly) {                    window.PLOTLYENV=window.PLOTLYENV || {};                                    if (document.getElementById(\"c8d68d4f-c69b-4631-bc49-14a17bffa6f7\")) {                    Plotly.newPlot(                        \"c8d68d4f-c69b-4631-bc49-14a17bffa6f7\",                        [{\"alignmentgroup\":\"True\",\"bingroup\":\"x\",\"histfunc\":\"sum\",\"hovertemplate\":\"variable=Alcohol use<br>Year=%{x}<br>sum of value=%{y}<extra></extra>\",\"legendgroup\":\"Alcohol use\",\"marker\":{\"color\":\"#636efa\",\"pattern\":{\"shape\":\"\"}},\"name\":\"Alcohol use\",\"nbinsx\":30,\"offsetgroup\":\"Alcohol use\",\"orientation\":\"v\",\"showlegend\":true,\"x\":[1990,1991,1992,1993,1994,1995,1996,1997,1998,1999,2000,2001,2002,2003,2004,2005,2006,2007,2008,2009,2010,2011,2012,2013,2014,2015,2016,2017,2018,2019],\"xaxis\":\"x\",\"y\":[18840,18775,18993,18801,18544,18538,18619,18570,18408,18267,17673,17608,17660,17527,17005,16890,17081,17571,17478,17553,17750,18037,18364,18666,18804,19272,20220,20571,20625,20962],\"yaxis\":\"y\",\"type\":\"histogram\"}],                        {\"template\":{\"data\":{\"histogram2dcontour\":[{\"type\":\"histogram2dcontour\",\"colorbar\":{\"outlinewidth\":0,\"ticks\":\"\"},\"colorscale\":[[0.0,\"#0d0887\"],[0.1111111111111111,\"#46039f\"],[0.2222222222222222,\"#7201a8\"],[0.3333333333333333,\"#9c179e\"],[0.4444444444444444,\"#bd3786\"],[0.5555555555555556,\"#d8576b\"],[0.6666666666666666,\"#ed7953\"],[0.7777777777777778,\"#fb9f3a\"],[0.8888888888888888,\"#fdca26\"],[1.0,\"#f0f921\"]]}],\"choropleth\":[{\"type\":\"choropleth\",\"colorbar\":{\"outlinewidth\":0,\"ticks\":\"\"}}],\"histogram2d\":[{\"type\":\"histogram2d\",\"colorbar\":{\"outlinewidth\":0,\"ticks\":\"\"},\"colorscale\":[[0.0,\"#0d0887\"],[0.1111111111111111,\"#46039f\"],[0.2222222222222222,\"#7201a8\"],[0.3333333333333333,\"#9c179e\"],[0.4444444444444444,\"#bd3786\"],[0.5555555555555556,\"#d8576b\"],[0.6666666666666666,\"#ed7953\"],[0.7777777777777778,\"#fb9f3a\"],[0.8888888888888888,\"#fdca26\"],[1.0,\"#f0f921\"]]}],\"heatmap\":[{\"type\":\"heatmap\",\"colorbar\":{\"outlinewidth\":0,\"ticks\":\"\"},\"colorscale\":[[0.0,\"#0d0887\"],[0.1111111111111111,\"#46039f\"],[0.2222222222222222,\"#7201a8\"],[0.3333333333333333,\"#9c179e\"],[0.4444444444444444,\"#bd3786\"],[0.5555555555555556,\"#d8576b\"],[0.6666666666666666,\"#ed7953\"],[0.7777777777777778,\"#fb9f3a\"],[0.8888888888888888,\"#fdca26\"],[1.0,\"#f0f921\"]]}],\"heatmapgl\":[{\"type\":\"heatmapgl\",\"colorbar\":{\"outlinewidth\":0,\"ticks\":\"\"},\"colorscale\":[[0.0,\"#0d0887\"],[0.1111111111111111,\"#46039f\"],[0.2222222222222222,\"#7201a8\"],[0.3333333333333333,\"#9c179e\"],[0.4444444444444444,\"#bd3786\"],[0.5555555555555556,\"#d8576b\"],[0.6666666666666666,\"#ed7953\"],[0.7777777777777778,\"#fb9f3a\"],[0.8888888888888888,\"#fdca26\"],[1.0,\"#f0f921\"]]}],\"contourcarpet\":[{\"type\":\"contourcarpet\",\"colorbar\":{\"outlinewidth\":0,\"ticks\":\"\"}}],\"contour\":[{\"type\":\"contour\",\"colorbar\":{\"outlinewidth\":0,\"ticks\":\"\"},\"colorscale\":[[0.0,\"#0d0887\"],[0.1111111111111111,\"#46039f\"],[0.2222222222222222,\"#7201a8\"],[0.3333333333333333,\"#9c179e\"],[0.4444444444444444,\"#bd3786\"],[0.5555555555555556,\"#d8576b\"],[0.6666666666666666,\"#ed7953\"],[0.7777777777777778,\"#fb9f3a\"],[0.8888888888888888,\"#fdca26\"],[1.0,\"#f0f921\"]]}],\"surface\":[{\"type\":\"surface\",\"colorbar\":{\"outlinewidth\":0,\"ticks\":\"\"},\"colorscale\":[[0.0,\"#0d0887\"],[0.1111111111111111,\"#46039f\"],[0.2222222222222222,\"#7201a8\"],[0.3333333333333333,\"#9c179e\"],[0.4444444444444444,\"#bd3786\"],[0.5555555555555556,\"#d8576b\"],[0.6666666666666666,\"#ed7953\"],[0.7777777777777778,\"#fb9f3a\"],[0.8888888888888888,\"#fdca26\"],[1.0,\"#f0f921\"]]}],\"mesh3d\":[{\"type\":\"mesh3d\",\"colorbar\":{\"outlinewidth\":0,\"ticks\":\"\"}}],\"scatter\":[{\"fillpattern\":{\"fillmode\":\"overlay\",\"size\":10,\"solidity\":0.2},\"type\":\"scatter\"}],\"parcoords\":[{\"type\":\"parcoords\",\"line\":{\"colorbar\":{\"outlinewidth\":0,\"ticks\":\"\"}}}],\"scatterpolargl\":[{\"type\":\"scatterpolargl\",\"marker\":{\"colorbar\":{\"outlinewidth\":0,\"ticks\":\"\"}}}],\"bar\":[{\"error_x\":{\"color\":\"#2a3f5f\"},\"error_y\":{\"color\":\"#2a3f5f\"},\"marker\":{\"line\":{\"color\":\"#E5ECF6\",\"width\":0.5},\"pattern\":{\"fillmode\":\"overlay\",\"size\":10,\"solidity\":0.2}},\"type\":\"bar\"}],\"scattergeo\":[{\"type\":\"scattergeo\",\"marker\":{\"colorbar\":{\"outlinewidth\":0,\"ticks\":\"\"}}}],\"scatterpolar\":[{\"type\":\"scatterpolar\",\"marker\":{\"colorbar\":{\"outlinewidth\":0,\"ticks\":\"\"}}}],\"histogram\":[{\"marker\":{\"pattern\":{\"fillmode\":\"overlay\",\"size\":10,\"solidity\":0.2}},\"type\":\"histogram\"}],\"scattergl\":[{\"type\":\"scattergl\",\"marker\":{\"colorbar\":{\"outlinewidth\":0,\"ticks\":\"\"}}}],\"scatter3d\":[{\"type\":\"scatter3d\",\"line\":{\"colorbar\":{\"outlinewidth\":0,\"ticks\":\"\"}},\"marker\":{\"colorbar\":{\"outlinewidth\":0,\"ticks\":\"\"}}}],\"scattermapbox\":[{\"type\":\"scattermapbox\",\"marker\":{\"colorbar\":{\"outlinewidth\":0,\"ticks\":\"\"}}}],\"scatterternary\":[{\"type\":\"scatterternary\",\"marker\":{\"colorbar\":{\"outlinewidth\":0,\"ticks\":\"\"}}}],\"scattercarpet\":[{\"type\":\"scattercarpet\",\"marker\":{\"colorbar\":{\"outlinewidth\":0,\"ticks\":\"\"}}}],\"carpet\":[{\"aaxis\":{\"endlinecolor\":\"#2a3f5f\",\"gridcolor\":\"white\",\"linecolor\":\"white\",\"minorgridcolor\":\"white\",\"startlinecolor\":\"#2a3f5f\"},\"baxis\":{\"endlinecolor\":\"#2a3f5f\",\"gridcolor\":\"white\",\"linecolor\":\"white\",\"minorgridcolor\":\"white\",\"startlinecolor\":\"#2a3f5f\"},\"type\":\"carpet\"}],\"table\":[{\"cells\":{\"fill\":{\"color\":\"#EBF0F8\"},\"line\":{\"color\":\"white\"}},\"header\":{\"fill\":{\"color\":\"#C8D4E3\"},\"line\":{\"color\":\"white\"}},\"type\":\"table\"}],\"barpolar\":[{\"marker\":{\"line\":{\"color\":\"#E5ECF6\",\"width\":0.5},\"pattern\":{\"fillmode\":\"overlay\",\"size\":10,\"solidity\":0.2}},\"type\":\"barpolar\"}],\"pie\":[{\"automargin\":true,\"type\":\"pie\"}]},\"layout\":{\"autotypenumbers\":\"strict\",\"colorway\":[\"#636efa\",\"#EF553B\",\"#00cc96\",\"#ab63fa\",\"#FFA15A\",\"#19d3f3\",\"#FF6692\",\"#B6E880\",\"#FF97FF\",\"#FECB52\"],\"font\":{\"color\":\"#2a3f5f\"},\"hovermode\":\"closest\",\"hoverlabel\":{\"align\":\"left\"},\"paper_bgcolor\":\"white\",\"plot_bgcolor\":\"#E5ECF6\",\"polar\":{\"bgcolor\":\"#E5ECF6\",\"angularaxis\":{\"gridcolor\":\"white\",\"linecolor\":\"white\",\"ticks\":\"\"},\"radialaxis\":{\"gridcolor\":\"white\",\"linecolor\":\"white\",\"ticks\":\"\"}},\"ternary\":{\"bgcolor\":\"#E5ECF6\",\"aaxis\":{\"gridcolor\":\"white\",\"linecolor\":\"white\",\"ticks\":\"\"},\"baxis\":{\"gridcolor\":\"white\",\"linecolor\":\"white\",\"ticks\":\"\"},\"caxis\":{\"gridcolor\":\"white\",\"linecolor\":\"white\",\"ticks\":\"\"}},\"coloraxis\":{\"colorbar\":{\"outlinewidth\":0,\"ticks\":\"\"}},\"colorscale\":{\"sequential\":[[0.0,\"#0d0887\"],[0.1111111111111111,\"#46039f\"],[0.2222222222222222,\"#7201a8\"],[0.3333333333333333,\"#9c179e\"],[0.4444444444444444,\"#bd3786\"],[0.5555555555555556,\"#d8576b\"],[0.6666666666666666,\"#ed7953\"],[0.7777777777777778,\"#fb9f3a\"],[0.8888888888888888,\"#fdca26\"],[1.0,\"#f0f921\"]],\"sequentialminus\":[[0.0,\"#0d0887\"],[0.1111111111111111,\"#46039f\"],[0.2222222222222222,\"#7201a8\"],[0.3333333333333333,\"#9c179e\"],[0.4444444444444444,\"#bd3786\"],[0.5555555555555556,\"#d8576b\"],[0.6666666666666666,\"#ed7953\"],[0.7777777777777778,\"#fb9f3a\"],[0.8888888888888888,\"#fdca26\"],[1.0,\"#f0f921\"]],\"diverging\":[[0,\"#8e0152\"],[0.1,\"#c51b7d\"],[0.2,\"#de77ae\"],[0.3,\"#f1b6da\"],[0.4,\"#fde0ef\"],[0.5,\"#f7f7f7\"],[0.6,\"#e6f5d0\"],[0.7,\"#b8e186\"],[0.8,\"#7fbc41\"],[0.9,\"#4d9221\"],[1,\"#276419\"]]},\"xaxis\":{\"gridcolor\":\"white\",\"linecolor\":\"white\",\"ticks\":\"\",\"title\":{\"standoff\":15},\"zerolinecolor\":\"white\",\"automargin\":true,\"zerolinewidth\":2},\"yaxis\":{\"gridcolor\":\"white\",\"linecolor\":\"white\",\"ticks\":\"\",\"title\":{\"standoff\":15},\"zerolinecolor\":\"white\",\"automargin\":true,\"zerolinewidth\":2},\"scene\":{\"xaxis\":{\"backgroundcolor\":\"#E5ECF6\",\"gridcolor\":\"white\",\"linecolor\":\"white\",\"showbackground\":true,\"ticks\":\"\",\"zerolinecolor\":\"white\",\"gridwidth\":2},\"yaxis\":{\"backgroundcolor\":\"#E5ECF6\",\"gridcolor\":\"white\",\"linecolor\":\"white\",\"showbackground\":true,\"ticks\":\"\",\"zerolinecolor\":\"white\",\"gridwidth\":2},\"zaxis\":{\"backgroundcolor\":\"#E5ECF6\",\"gridcolor\":\"white\",\"linecolor\":\"white\",\"showbackground\":true,\"ticks\":\"\",\"zerolinecolor\":\"white\",\"gridwidth\":2}},\"shapedefaults\":{\"line\":{\"color\":\"#2a3f5f\"}},\"annotationdefaults\":{\"arrowcolor\":\"#2a3f5f\",\"arrowhead\":0,\"arrowwidth\":1},\"geo\":{\"bgcolor\":\"white\",\"landcolor\":\"#E5ECF6\",\"subunitcolor\":\"white\",\"showland\":true,\"showlakes\":true,\"lakecolor\":\"white\"},\"title\":{\"x\":0.05},\"mapbox\":{\"style\":\"light\"}}},\"xaxis\":{\"anchor\":\"y\",\"domain\":[0.0,1.0],\"title\":{\"text\":\"Year\"}},\"yaxis\":{\"anchor\":\"x\",\"domain\":[0.0,1.0],\"title\":{\"text\":\"sum of value\"}},\"legend\":{\"title\":{\"text\":\"variable\"},\"tracegroupgap\":0},\"margin\":{\"t\":60},\"barmode\":\"relative\",\"bargap\":0.1},                        {\"responsive\": true}                    ).then(function(){\n",
       "                            \n",
       "var gd = document.getElementById('c8d68d4f-c69b-4631-bc49-14a17bffa6f7');\n",
       "var x = new MutationObserver(function (mutations, observer) {{\n",
       "        var display = window.getComputedStyle(gd).display;\n",
       "        if (!display || display === 'none') {{\n",
       "            console.log([gd, 'removed!']);\n",
       "            Plotly.purge(gd);\n",
       "            observer.disconnect();\n",
       "        }}\n",
       "}});\n",
       "\n",
       "// Listen for the removal of the full notebook cells\n",
       "var notebookContainer = gd.closest('#notebook-container');\n",
       "if (notebookContainer) {{\n",
       "    x.observe(notebookContainer, {childList: true});\n",
       "}}\n",
       "\n",
       "// Listen for the clearing of the current output cell\n",
       "var outputEl = gd.closest('.output');\n",
       "if (outputEl) {{\n",
       "    x.observe(outputEl, {childList: true});\n",
       "}}\n",
       "\n",
       "                        })                };                });            </script>        </div>"
      ]
     },
     "metadata": {},
     "output_type": "display_data"
    }
   ],
   "source": [
    "fig = px.histogram(dfArgentinaData, x=\"Year\", y=['Alcohol use'], nbins=30)\n",
    "fig.update_layout(bargap=0.1) # Gap between bars\n",
    "fig.show()"
   ]
  },
  {
   "cell_type": "code",
   "execution_count": 23,
   "metadata": {},
   "outputs": [
    {
     "data": {
      "application/vnd.plotly.v1+json": {
       "config": {
        "plotlyServerURL": "https://plot.ly"
       },
       "data": [
        {
         "alignmentgroup": "True",
         "bingroup": "x",
         "histfunc": "sum",
         "hovertemplate": "variable=Secondhand smoke<br>Year=%{x}<br>sum of value=%{y}<extra></extra>",
         "legendgroup": "Secondhand smoke",
         "marker": {
          "color": "#636efa",
          "pattern": {
           "shape": ""
          }
         },
         "name": "Secondhand smoke",
         "nbinsx": 30,
         "offsetgroup": "Secondhand smoke",
         "orientation": "v",
         "showlegend": true,
         "type": "histogram",
         "x": [
          1990,
          1991,
          1992,
          1993,
          1994,
          1995,
          1996,
          1997,
          1998,
          1999,
          2000,
          2001,
          2002,
          2003,
          2004,
          2005,
          2006,
          2007,
          2008,
          2009,
          2010,
          2011,
          2012,
          2013,
          2014,
          2015,
          2016,
          2017,
          2018,
          2019
         ],
         "xaxis": "x",
         "y": [
          7223,
          7223,
          7347,
          7342,
          7256,
          7405,
          7521,
          7651,
          7847,
          7977,
          7774,
          7827,
          7949,
          8030,
          7827,
          7670,
          7653,
          7848,
          7626,
          7648,
          7793,
          7876,
          7887,
          7966,
          7993,
          8189,
          8568,
          8618,
          8509,
          8578
         ],
         "yaxis": "y"
        },
        {
         "alignmentgroup": "True",
         "bingroup": "x",
         "histfunc": "sum",
         "hovertemplate": "variable=Smoking<br>Year=%{x}<br>sum of value=%{y}<extra></extra>",
         "legendgroup": "Smoking",
         "marker": {
          "color": "#EF553B",
          "pattern": {
           "shape": ""
          }
         },
         "name": "Smoking",
         "nbinsx": 30,
         "offsetgroup": "Smoking",
         "orientation": "v",
         "showlegend": true,
         "type": "histogram",
         "x": [
          1990,
          1991,
          1992,
          1993,
          1994,
          1995,
          1996,
          1997,
          1998,
          1999,
          2000,
          2001,
          2002,
          2003,
          2004,
          2005,
          2006,
          2007,
          2008,
          2009,
          2010,
          2011,
          2012,
          2013,
          2014,
          2015,
          2016,
          2017,
          2018,
          2019
         ],
         "xaxis": "x",
         "y": [
          46415,
          45869,
          46216,
          45708,
          44885,
          45126,
          45556,
          45967,
          46526,
          46945,
          45673,
          45880,
          46722,
          47185,
          46319,
          45836,
          46026,
          47285,
          46398,
          46503,
          46971,
          47324,
          47485,
          47689,
          47575,
          48531,
          50483,
          51077,
          50863,
          51306
         ],
         "yaxis": "y"
        }
       ],
       "layout": {
        "bargap": 0.1,
        "barmode": "relative",
        "legend": {
         "title": {
          "text": "variable"
         },
         "tracegroupgap": 0
        },
        "margin": {
         "t": 60
        },
        "template": {
         "data": {
          "bar": [
           {
            "error_x": {
             "color": "#2a3f5f"
            },
            "error_y": {
             "color": "#2a3f5f"
            },
            "marker": {
             "line": {
              "color": "#E5ECF6",
              "width": 0.5
             },
             "pattern": {
              "fillmode": "overlay",
              "size": 10,
              "solidity": 0.2
             }
            },
            "type": "bar"
           }
          ],
          "barpolar": [
           {
            "marker": {
             "line": {
              "color": "#E5ECF6",
              "width": 0.5
             },
             "pattern": {
              "fillmode": "overlay",
              "size": 10,
              "solidity": 0.2
             }
            },
            "type": "barpolar"
           }
          ],
          "carpet": [
           {
            "aaxis": {
             "endlinecolor": "#2a3f5f",
             "gridcolor": "white",
             "linecolor": "white",
             "minorgridcolor": "white",
             "startlinecolor": "#2a3f5f"
            },
            "baxis": {
             "endlinecolor": "#2a3f5f",
             "gridcolor": "white",
             "linecolor": "white",
             "minorgridcolor": "white",
             "startlinecolor": "#2a3f5f"
            },
            "type": "carpet"
           }
          ],
          "choropleth": [
           {
            "colorbar": {
             "outlinewidth": 0,
             "ticks": ""
            },
            "type": "choropleth"
           }
          ],
          "contour": [
           {
            "colorbar": {
             "outlinewidth": 0,
             "ticks": ""
            },
            "colorscale": [
             [
              0,
              "#0d0887"
             ],
             [
              0.1111111111111111,
              "#46039f"
             ],
             [
              0.2222222222222222,
              "#7201a8"
             ],
             [
              0.3333333333333333,
              "#9c179e"
             ],
             [
              0.4444444444444444,
              "#bd3786"
             ],
             [
              0.5555555555555556,
              "#d8576b"
             ],
             [
              0.6666666666666666,
              "#ed7953"
             ],
             [
              0.7777777777777778,
              "#fb9f3a"
             ],
             [
              0.8888888888888888,
              "#fdca26"
             ],
             [
              1,
              "#f0f921"
             ]
            ],
            "type": "contour"
           }
          ],
          "contourcarpet": [
           {
            "colorbar": {
             "outlinewidth": 0,
             "ticks": ""
            },
            "type": "contourcarpet"
           }
          ],
          "heatmap": [
           {
            "colorbar": {
             "outlinewidth": 0,
             "ticks": ""
            },
            "colorscale": [
             [
              0,
              "#0d0887"
             ],
             [
              0.1111111111111111,
              "#46039f"
             ],
             [
              0.2222222222222222,
              "#7201a8"
             ],
             [
              0.3333333333333333,
              "#9c179e"
             ],
             [
              0.4444444444444444,
              "#bd3786"
             ],
             [
              0.5555555555555556,
              "#d8576b"
             ],
             [
              0.6666666666666666,
              "#ed7953"
             ],
             [
              0.7777777777777778,
              "#fb9f3a"
             ],
             [
              0.8888888888888888,
              "#fdca26"
             ],
             [
              1,
              "#f0f921"
             ]
            ],
            "type": "heatmap"
           }
          ],
          "heatmapgl": [
           {
            "colorbar": {
             "outlinewidth": 0,
             "ticks": ""
            },
            "colorscale": [
             [
              0,
              "#0d0887"
             ],
             [
              0.1111111111111111,
              "#46039f"
             ],
             [
              0.2222222222222222,
              "#7201a8"
             ],
             [
              0.3333333333333333,
              "#9c179e"
             ],
             [
              0.4444444444444444,
              "#bd3786"
             ],
             [
              0.5555555555555556,
              "#d8576b"
             ],
             [
              0.6666666666666666,
              "#ed7953"
             ],
             [
              0.7777777777777778,
              "#fb9f3a"
             ],
             [
              0.8888888888888888,
              "#fdca26"
             ],
             [
              1,
              "#f0f921"
             ]
            ],
            "type": "heatmapgl"
           }
          ],
          "histogram": [
           {
            "marker": {
             "pattern": {
              "fillmode": "overlay",
              "size": 10,
              "solidity": 0.2
             }
            },
            "type": "histogram"
           }
          ],
          "histogram2d": [
           {
            "colorbar": {
             "outlinewidth": 0,
             "ticks": ""
            },
            "colorscale": [
             [
              0,
              "#0d0887"
             ],
             [
              0.1111111111111111,
              "#46039f"
             ],
             [
              0.2222222222222222,
              "#7201a8"
             ],
             [
              0.3333333333333333,
              "#9c179e"
             ],
             [
              0.4444444444444444,
              "#bd3786"
             ],
             [
              0.5555555555555556,
              "#d8576b"
             ],
             [
              0.6666666666666666,
              "#ed7953"
             ],
             [
              0.7777777777777778,
              "#fb9f3a"
             ],
             [
              0.8888888888888888,
              "#fdca26"
             ],
             [
              1,
              "#f0f921"
             ]
            ],
            "type": "histogram2d"
           }
          ],
          "histogram2dcontour": [
           {
            "colorbar": {
             "outlinewidth": 0,
             "ticks": ""
            },
            "colorscale": [
             [
              0,
              "#0d0887"
             ],
             [
              0.1111111111111111,
              "#46039f"
             ],
             [
              0.2222222222222222,
              "#7201a8"
             ],
             [
              0.3333333333333333,
              "#9c179e"
             ],
             [
              0.4444444444444444,
              "#bd3786"
             ],
             [
              0.5555555555555556,
              "#d8576b"
             ],
             [
              0.6666666666666666,
              "#ed7953"
             ],
             [
              0.7777777777777778,
              "#fb9f3a"
             ],
             [
              0.8888888888888888,
              "#fdca26"
             ],
             [
              1,
              "#f0f921"
             ]
            ],
            "type": "histogram2dcontour"
           }
          ],
          "mesh3d": [
           {
            "colorbar": {
             "outlinewidth": 0,
             "ticks": ""
            },
            "type": "mesh3d"
           }
          ],
          "parcoords": [
           {
            "line": {
             "colorbar": {
              "outlinewidth": 0,
              "ticks": ""
             }
            },
            "type": "parcoords"
           }
          ],
          "pie": [
           {
            "automargin": true,
            "type": "pie"
           }
          ],
          "scatter": [
           {
            "fillpattern": {
             "fillmode": "overlay",
             "size": 10,
             "solidity": 0.2
            },
            "type": "scatter"
           }
          ],
          "scatter3d": [
           {
            "line": {
             "colorbar": {
              "outlinewidth": 0,
              "ticks": ""
             }
            },
            "marker": {
             "colorbar": {
              "outlinewidth": 0,
              "ticks": ""
             }
            },
            "type": "scatter3d"
           }
          ],
          "scattercarpet": [
           {
            "marker": {
             "colorbar": {
              "outlinewidth": 0,
              "ticks": ""
             }
            },
            "type": "scattercarpet"
           }
          ],
          "scattergeo": [
           {
            "marker": {
             "colorbar": {
              "outlinewidth": 0,
              "ticks": ""
             }
            },
            "type": "scattergeo"
           }
          ],
          "scattergl": [
           {
            "marker": {
             "colorbar": {
              "outlinewidth": 0,
              "ticks": ""
             }
            },
            "type": "scattergl"
           }
          ],
          "scattermapbox": [
           {
            "marker": {
             "colorbar": {
              "outlinewidth": 0,
              "ticks": ""
             }
            },
            "type": "scattermapbox"
           }
          ],
          "scatterpolar": [
           {
            "marker": {
             "colorbar": {
              "outlinewidth": 0,
              "ticks": ""
             }
            },
            "type": "scatterpolar"
           }
          ],
          "scatterpolargl": [
           {
            "marker": {
             "colorbar": {
              "outlinewidth": 0,
              "ticks": ""
             }
            },
            "type": "scatterpolargl"
           }
          ],
          "scatterternary": [
           {
            "marker": {
             "colorbar": {
              "outlinewidth": 0,
              "ticks": ""
             }
            },
            "type": "scatterternary"
           }
          ],
          "surface": [
           {
            "colorbar": {
             "outlinewidth": 0,
             "ticks": ""
            },
            "colorscale": [
             [
              0,
              "#0d0887"
             ],
             [
              0.1111111111111111,
              "#46039f"
             ],
             [
              0.2222222222222222,
              "#7201a8"
             ],
             [
              0.3333333333333333,
              "#9c179e"
             ],
             [
              0.4444444444444444,
              "#bd3786"
             ],
             [
              0.5555555555555556,
              "#d8576b"
             ],
             [
              0.6666666666666666,
              "#ed7953"
             ],
             [
              0.7777777777777778,
              "#fb9f3a"
             ],
             [
              0.8888888888888888,
              "#fdca26"
             ],
             [
              1,
              "#f0f921"
             ]
            ],
            "type": "surface"
           }
          ],
          "table": [
           {
            "cells": {
             "fill": {
              "color": "#EBF0F8"
             },
             "line": {
              "color": "white"
             }
            },
            "header": {
             "fill": {
              "color": "#C8D4E3"
             },
             "line": {
              "color": "white"
             }
            },
            "type": "table"
           }
          ]
         },
         "layout": {
          "annotationdefaults": {
           "arrowcolor": "#2a3f5f",
           "arrowhead": 0,
           "arrowwidth": 1
          },
          "autotypenumbers": "strict",
          "coloraxis": {
           "colorbar": {
            "outlinewidth": 0,
            "ticks": ""
           }
          },
          "colorscale": {
           "diverging": [
            [
             0,
             "#8e0152"
            ],
            [
             0.1,
             "#c51b7d"
            ],
            [
             0.2,
             "#de77ae"
            ],
            [
             0.3,
             "#f1b6da"
            ],
            [
             0.4,
             "#fde0ef"
            ],
            [
             0.5,
             "#f7f7f7"
            ],
            [
             0.6,
             "#e6f5d0"
            ],
            [
             0.7,
             "#b8e186"
            ],
            [
             0.8,
             "#7fbc41"
            ],
            [
             0.9,
             "#4d9221"
            ],
            [
             1,
             "#276419"
            ]
           ],
           "sequential": [
            [
             0,
             "#0d0887"
            ],
            [
             0.1111111111111111,
             "#46039f"
            ],
            [
             0.2222222222222222,
             "#7201a8"
            ],
            [
             0.3333333333333333,
             "#9c179e"
            ],
            [
             0.4444444444444444,
             "#bd3786"
            ],
            [
             0.5555555555555556,
             "#d8576b"
            ],
            [
             0.6666666666666666,
             "#ed7953"
            ],
            [
             0.7777777777777778,
             "#fb9f3a"
            ],
            [
             0.8888888888888888,
             "#fdca26"
            ],
            [
             1,
             "#f0f921"
            ]
           ],
           "sequentialminus": [
            [
             0,
             "#0d0887"
            ],
            [
             0.1111111111111111,
             "#46039f"
            ],
            [
             0.2222222222222222,
             "#7201a8"
            ],
            [
             0.3333333333333333,
             "#9c179e"
            ],
            [
             0.4444444444444444,
             "#bd3786"
            ],
            [
             0.5555555555555556,
             "#d8576b"
            ],
            [
             0.6666666666666666,
             "#ed7953"
            ],
            [
             0.7777777777777778,
             "#fb9f3a"
            ],
            [
             0.8888888888888888,
             "#fdca26"
            ],
            [
             1,
             "#f0f921"
            ]
           ]
          },
          "colorway": [
           "#636efa",
           "#EF553B",
           "#00cc96",
           "#ab63fa",
           "#FFA15A",
           "#19d3f3",
           "#FF6692",
           "#B6E880",
           "#FF97FF",
           "#FECB52"
          ],
          "font": {
           "color": "#2a3f5f"
          },
          "geo": {
           "bgcolor": "white",
           "lakecolor": "white",
           "landcolor": "#E5ECF6",
           "showlakes": true,
           "showland": true,
           "subunitcolor": "white"
          },
          "hoverlabel": {
           "align": "left"
          },
          "hovermode": "closest",
          "mapbox": {
           "style": "light"
          },
          "paper_bgcolor": "white",
          "plot_bgcolor": "#E5ECF6",
          "polar": {
           "angularaxis": {
            "gridcolor": "white",
            "linecolor": "white",
            "ticks": ""
           },
           "bgcolor": "#E5ECF6",
           "radialaxis": {
            "gridcolor": "white",
            "linecolor": "white",
            "ticks": ""
           }
          },
          "scene": {
           "xaxis": {
            "backgroundcolor": "#E5ECF6",
            "gridcolor": "white",
            "gridwidth": 2,
            "linecolor": "white",
            "showbackground": true,
            "ticks": "",
            "zerolinecolor": "white"
           },
           "yaxis": {
            "backgroundcolor": "#E5ECF6",
            "gridcolor": "white",
            "gridwidth": 2,
            "linecolor": "white",
            "showbackground": true,
            "ticks": "",
            "zerolinecolor": "white"
           },
           "zaxis": {
            "backgroundcolor": "#E5ECF6",
            "gridcolor": "white",
            "gridwidth": 2,
            "linecolor": "white",
            "showbackground": true,
            "ticks": "",
            "zerolinecolor": "white"
           }
          },
          "shapedefaults": {
           "line": {
            "color": "#2a3f5f"
           }
          },
          "ternary": {
           "aaxis": {
            "gridcolor": "white",
            "linecolor": "white",
            "ticks": ""
           },
           "baxis": {
            "gridcolor": "white",
            "linecolor": "white",
            "ticks": ""
           },
           "bgcolor": "#E5ECF6",
           "caxis": {
            "gridcolor": "white",
            "linecolor": "white",
            "ticks": ""
           }
          },
          "title": {
           "x": 0.05
          },
          "xaxis": {
           "automargin": true,
           "gridcolor": "white",
           "linecolor": "white",
           "ticks": "",
           "title": {
            "standoff": 15
           },
           "zerolinecolor": "white",
           "zerolinewidth": 2
          },
          "yaxis": {
           "automargin": true,
           "gridcolor": "white",
           "linecolor": "white",
           "ticks": "",
           "title": {
            "standoff": 15
           },
           "zerolinecolor": "white",
           "zerolinewidth": 2
          }
         }
        },
        "xaxis": {
         "anchor": "y",
         "domain": [
          0,
          1
         ],
         "title": {
          "text": "Year"
         }
        },
        "yaxis": {
         "anchor": "x",
         "domain": [
          0,
          1
         ],
         "title": {
          "text": "sum of value"
         }
        }
       }
      },
      "text/html": [
       "<div>                            <div id=\"8eabc19a-1a75-4c08-9aa8-38b3ce33ca76\" class=\"plotly-graph-div\" style=\"height:525px; width:100%;\"></div>            <script type=\"text/javascript\">                require([\"plotly\"], function(Plotly) {                    window.PLOTLYENV=window.PLOTLYENV || {};                                    if (document.getElementById(\"8eabc19a-1a75-4c08-9aa8-38b3ce33ca76\")) {                    Plotly.newPlot(                        \"8eabc19a-1a75-4c08-9aa8-38b3ce33ca76\",                        [{\"alignmentgroup\":\"True\",\"bingroup\":\"x\",\"histfunc\":\"sum\",\"hovertemplate\":\"variable=Secondhand smoke<br>Year=%{x}<br>sum of value=%{y}<extra></extra>\",\"legendgroup\":\"Secondhand smoke\",\"marker\":{\"color\":\"#636efa\",\"pattern\":{\"shape\":\"\"}},\"name\":\"Secondhand smoke\",\"nbinsx\":30,\"offsetgroup\":\"Secondhand smoke\",\"orientation\":\"v\",\"showlegend\":true,\"x\":[1990,1991,1992,1993,1994,1995,1996,1997,1998,1999,2000,2001,2002,2003,2004,2005,2006,2007,2008,2009,2010,2011,2012,2013,2014,2015,2016,2017,2018,2019],\"xaxis\":\"x\",\"y\":[7223,7223,7347,7342,7256,7405,7521,7651,7847,7977,7774,7827,7949,8030,7827,7670,7653,7848,7626,7648,7793,7876,7887,7966,7993,8189,8568,8618,8509,8578],\"yaxis\":\"y\",\"type\":\"histogram\"},{\"alignmentgroup\":\"True\",\"bingroup\":\"x\",\"histfunc\":\"sum\",\"hovertemplate\":\"variable=Smoking<br>Year=%{x}<br>sum of value=%{y}<extra></extra>\",\"legendgroup\":\"Smoking\",\"marker\":{\"color\":\"#EF553B\",\"pattern\":{\"shape\":\"\"}},\"name\":\"Smoking\",\"nbinsx\":30,\"offsetgroup\":\"Smoking\",\"orientation\":\"v\",\"showlegend\":true,\"x\":[1990,1991,1992,1993,1994,1995,1996,1997,1998,1999,2000,2001,2002,2003,2004,2005,2006,2007,2008,2009,2010,2011,2012,2013,2014,2015,2016,2017,2018,2019],\"xaxis\":\"x\",\"y\":[46415,45869,46216,45708,44885,45126,45556,45967,46526,46945,45673,45880,46722,47185,46319,45836,46026,47285,46398,46503,46971,47324,47485,47689,47575,48531,50483,51077,50863,51306],\"yaxis\":\"y\",\"type\":\"histogram\"}],                        {\"template\":{\"data\":{\"histogram2dcontour\":[{\"type\":\"histogram2dcontour\",\"colorbar\":{\"outlinewidth\":0,\"ticks\":\"\"},\"colorscale\":[[0.0,\"#0d0887\"],[0.1111111111111111,\"#46039f\"],[0.2222222222222222,\"#7201a8\"],[0.3333333333333333,\"#9c179e\"],[0.4444444444444444,\"#bd3786\"],[0.5555555555555556,\"#d8576b\"],[0.6666666666666666,\"#ed7953\"],[0.7777777777777778,\"#fb9f3a\"],[0.8888888888888888,\"#fdca26\"],[1.0,\"#f0f921\"]]}],\"choropleth\":[{\"type\":\"choropleth\",\"colorbar\":{\"outlinewidth\":0,\"ticks\":\"\"}}],\"histogram2d\":[{\"type\":\"histogram2d\",\"colorbar\":{\"outlinewidth\":0,\"ticks\":\"\"},\"colorscale\":[[0.0,\"#0d0887\"],[0.1111111111111111,\"#46039f\"],[0.2222222222222222,\"#7201a8\"],[0.3333333333333333,\"#9c179e\"],[0.4444444444444444,\"#bd3786\"],[0.5555555555555556,\"#d8576b\"],[0.6666666666666666,\"#ed7953\"],[0.7777777777777778,\"#fb9f3a\"],[0.8888888888888888,\"#fdca26\"],[1.0,\"#f0f921\"]]}],\"heatmap\":[{\"type\":\"heatmap\",\"colorbar\":{\"outlinewidth\":0,\"ticks\":\"\"},\"colorscale\":[[0.0,\"#0d0887\"],[0.1111111111111111,\"#46039f\"],[0.2222222222222222,\"#7201a8\"],[0.3333333333333333,\"#9c179e\"],[0.4444444444444444,\"#bd3786\"],[0.5555555555555556,\"#d8576b\"],[0.6666666666666666,\"#ed7953\"],[0.7777777777777778,\"#fb9f3a\"],[0.8888888888888888,\"#fdca26\"],[1.0,\"#f0f921\"]]}],\"heatmapgl\":[{\"type\":\"heatmapgl\",\"colorbar\":{\"outlinewidth\":0,\"ticks\":\"\"},\"colorscale\":[[0.0,\"#0d0887\"],[0.1111111111111111,\"#46039f\"],[0.2222222222222222,\"#7201a8\"],[0.3333333333333333,\"#9c179e\"],[0.4444444444444444,\"#bd3786\"],[0.5555555555555556,\"#d8576b\"],[0.6666666666666666,\"#ed7953\"],[0.7777777777777778,\"#fb9f3a\"],[0.8888888888888888,\"#fdca26\"],[1.0,\"#f0f921\"]]}],\"contourcarpet\":[{\"type\":\"contourcarpet\",\"colorbar\":{\"outlinewidth\":0,\"ticks\":\"\"}}],\"contour\":[{\"type\":\"contour\",\"colorbar\":{\"outlinewidth\":0,\"ticks\":\"\"},\"colorscale\":[[0.0,\"#0d0887\"],[0.1111111111111111,\"#46039f\"],[0.2222222222222222,\"#7201a8\"],[0.3333333333333333,\"#9c179e\"],[0.4444444444444444,\"#bd3786\"],[0.5555555555555556,\"#d8576b\"],[0.6666666666666666,\"#ed7953\"],[0.7777777777777778,\"#fb9f3a\"],[0.8888888888888888,\"#fdca26\"],[1.0,\"#f0f921\"]]}],\"surface\":[{\"type\":\"surface\",\"colorbar\":{\"outlinewidth\":0,\"ticks\":\"\"},\"colorscale\":[[0.0,\"#0d0887\"],[0.1111111111111111,\"#46039f\"],[0.2222222222222222,\"#7201a8\"],[0.3333333333333333,\"#9c179e\"],[0.4444444444444444,\"#bd3786\"],[0.5555555555555556,\"#d8576b\"],[0.6666666666666666,\"#ed7953\"],[0.7777777777777778,\"#fb9f3a\"],[0.8888888888888888,\"#fdca26\"],[1.0,\"#f0f921\"]]}],\"mesh3d\":[{\"type\":\"mesh3d\",\"colorbar\":{\"outlinewidth\":0,\"ticks\":\"\"}}],\"scatter\":[{\"fillpattern\":{\"fillmode\":\"overlay\",\"size\":10,\"solidity\":0.2},\"type\":\"scatter\"}],\"parcoords\":[{\"type\":\"parcoords\",\"line\":{\"colorbar\":{\"outlinewidth\":0,\"ticks\":\"\"}}}],\"scatterpolargl\":[{\"type\":\"scatterpolargl\",\"marker\":{\"colorbar\":{\"outlinewidth\":0,\"ticks\":\"\"}}}],\"bar\":[{\"error_x\":{\"color\":\"#2a3f5f\"},\"error_y\":{\"color\":\"#2a3f5f\"},\"marker\":{\"line\":{\"color\":\"#E5ECF6\",\"width\":0.5},\"pattern\":{\"fillmode\":\"overlay\",\"size\":10,\"solidity\":0.2}},\"type\":\"bar\"}],\"scattergeo\":[{\"type\":\"scattergeo\",\"marker\":{\"colorbar\":{\"outlinewidth\":0,\"ticks\":\"\"}}}],\"scatterpolar\":[{\"type\":\"scatterpolar\",\"marker\":{\"colorbar\":{\"outlinewidth\":0,\"ticks\":\"\"}}}],\"histogram\":[{\"marker\":{\"pattern\":{\"fillmode\":\"overlay\",\"size\":10,\"solidity\":0.2}},\"type\":\"histogram\"}],\"scattergl\":[{\"type\":\"scattergl\",\"marker\":{\"colorbar\":{\"outlinewidth\":0,\"ticks\":\"\"}}}],\"scatter3d\":[{\"type\":\"scatter3d\",\"line\":{\"colorbar\":{\"outlinewidth\":0,\"ticks\":\"\"}},\"marker\":{\"colorbar\":{\"outlinewidth\":0,\"ticks\":\"\"}}}],\"scattermapbox\":[{\"type\":\"scattermapbox\",\"marker\":{\"colorbar\":{\"outlinewidth\":0,\"ticks\":\"\"}}}],\"scatterternary\":[{\"type\":\"scatterternary\",\"marker\":{\"colorbar\":{\"outlinewidth\":0,\"ticks\":\"\"}}}],\"scattercarpet\":[{\"type\":\"scattercarpet\",\"marker\":{\"colorbar\":{\"outlinewidth\":0,\"ticks\":\"\"}}}],\"carpet\":[{\"aaxis\":{\"endlinecolor\":\"#2a3f5f\",\"gridcolor\":\"white\",\"linecolor\":\"white\",\"minorgridcolor\":\"white\",\"startlinecolor\":\"#2a3f5f\"},\"baxis\":{\"endlinecolor\":\"#2a3f5f\",\"gridcolor\":\"white\",\"linecolor\":\"white\",\"minorgridcolor\":\"white\",\"startlinecolor\":\"#2a3f5f\"},\"type\":\"carpet\"}],\"table\":[{\"cells\":{\"fill\":{\"color\":\"#EBF0F8\"},\"line\":{\"color\":\"white\"}},\"header\":{\"fill\":{\"color\":\"#C8D4E3\"},\"line\":{\"color\":\"white\"}},\"type\":\"table\"}],\"barpolar\":[{\"marker\":{\"line\":{\"color\":\"#E5ECF6\",\"width\":0.5},\"pattern\":{\"fillmode\":\"overlay\",\"size\":10,\"solidity\":0.2}},\"type\":\"barpolar\"}],\"pie\":[{\"automargin\":true,\"type\":\"pie\"}]},\"layout\":{\"autotypenumbers\":\"strict\",\"colorway\":[\"#636efa\",\"#EF553B\",\"#00cc96\",\"#ab63fa\",\"#FFA15A\",\"#19d3f3\",\"#FF6692\",\"#B6E880\",\"#FF97FF\",\"#FECB52\"],\"font\":{\"color\":\"#2a3f5f\"},\"hovermode\":\"closest\",\"hoverlabel\":{\"align\":\"left\"},\"paper_bgcolor\":\"white\",\"plot_bgcolor\":\"#E5ECF6\",\"polar\":{\"bgcolor\":\"#E5ECF6\",\"angularaxis\":{\"gridcolor\":\"white\",\"linecolor\":\"white\",\"ticks\":\"\"},\"radialaxis\":{\"gridcolor\":\"white\",\"linecolor\":\"white\",\"ticks\":\"\"}},\"ternary\":{\"bgcolor\":\"#E5ECF6\",\"aaxis\":{\"gridcolor\":\"white\",\"linecolor\":\"white\",\"ticks\":\"\"},\"baxis\":{\"gridcolor\":\"white\",\"linecolor\":\"white\",\"ticks\":\"\"},\"caxis\":{\"gridcolor\":\"white\",\"linecolor\":\"white\",\"ticks\":\"\"}},\"coloraxis\":{\"colorbar\":{\"outlinewidth\":0,\"ticks\":\"\"}},\"colorscale\":{\"sequential\":[[0.0,\"#0d0887\"],[0.1111111111111111,\"#46039f\"],[0.2222222222222222,\"#7201a8\"],[0.3333333333333333,\"#9c179e\"],[0.4444444444444444,\"#bd3786\"],[0.5555555555555556,\"#d8576b\"],[0.6666666666666666,\"#ed7953\"],[0.7777777777777778,\"#fb9f3a\"],[0.8888888888888888,\"#fdca26\"],[1.0,\"#f0f921\"]],\"sequentialminus\":[[0.0,\"#0d0887\"],[0.1111111111111111,\"#46039f\"],[0.2222222222222222,\"#7201a8\"],[0.3333333333333333,\"#9c179e\"],[0.4444444444444444,\"#bd3786\"],[0.5555555555555556,\"#d8576b\"],[0.6666666666666666,\"#ed7953\"],[0.7777777777777778,\"#fb9f3a\"],[0.8888888888888888,\"#fdca26\"],[1.0,\"#f0f921\"]],\"diverging\":[[0,\"#8e0152\"],[0.1,\"#c51b7d\"],[0.2,\"#de77ae\"],[0.3,\"#f1b6da\"],[0.4,\"#fde0ef\"],[0.5,\"#f7f7f7\"],[0.6,\"#e6f5d0\"],[0.7,\"#b8e186\"],[0.8,\"#7fbc41\"],[0.9,\"#4d9221\"],[1,\"#276419\"]]},\"xaxis\":{\"gridcolor\":\"white\",\"linecolor\":\"white\",\"ticks\":\"\",\"title\":{\"standoff\":15},\"zerolinecolor\":\"white\",\"automargin\":true,\"zerolinewidth\":2},\"yaxis\":{\"gridcolor\":\"white\",\"linecolor\":\"white\",\"ticks\":\"\",\"title\":{\"standoff\":15},\"zerolinecolor\":\"white\",\"automargin\":true,\"zerolinewidth\":2},\"scene\":{\"xaxis\":{\"backgroundcolor\":\"#E5ECF6\",\"gridcolor\":\"white\",\"linecolor\":\"white\",\"showbackground\":true,\"ticks\":\"\",\"zerolinecolor\":\"white\",\"gridwidth\":2},\"yaxis\":{\"backgroundcolor\":\"#E5ECF6\",\"gridcolor\":\"white\",\"linecolor\":\"white\",\"showbackground\":true,\"ticks\":\"\",\"zerolinecolor\":\"white\",\"gridwidth\":2},\"zaxis\":{\"backgroundcolor\":\"#E5ECF6\",\"gridcolor\":\"white\",\"linecolor\":\"white\",\"showbackground\":true,\"ticks\":\"\",\"zerolinecolor\":\"white\",\"gridwidth\":2}},\"shapedefaults\":{\"line\":{\"color\":\"#2a3f5f\"}},\"annotationdefaults\":{\"arrowcolor\":\"#2a3f5f\",\"arrowhead\":0,\"arrowwidth\":1},\"geo\":{\"bgcolor\":\"white\",\"landcolor\":\"#E5ECF6\",\"subunitcolor\":\"white\",\"showland\":true,\"showlakes\":true,\"lakecolor\":\"white\"},\"title\":{\"x\":0.05},\"mapbox\":{\"style\":\"light\"}}},\"xaxis\":{\"anchor\":\"y\",\"domain\":[0.0,1.0],\"title\":{\"text\":\"Year\"}},\"yaxis\":{\"anchor\":\"x\",\"domain\":[0.0,1.0],\"title\":{\"text\":\"sum of value\"}},\"legend\":{\"title\":{\"text\":\"variable\"},\"tracegroupgap\":0},\"margin\":{\"t\":60},\"barmode\":\"relative\",\"bargap\":0.1},                        {\"responsive\": true}                    ).then(function(){\n",
       "                            \n",
       "var gd = document.getElementById('8eabc19a-1a75-4c08-9aa8-38b3ce33ca76');\n",
       "var x = new MutationObserver(function (mutations, observer) {{\n",
       "        var display = window.getComputedStyle(gd).display;\n",
       "        if (!display || display === 'none') {{\n",
       "            console.log([gd, 'removed!']);\n",
       "            Plotly.purge(gd);\n",
       "            observer.disconnect();\n",
       "        }}\n",
       "}});\n",
       "\n",
       "// Listen for the removal of the full notebook cells\n",
       "var notebookContainer = gd.closest('#notebook-container');\n",
       "if (notebookContainer) {{\n",
       "    x.observe(notebookContainer, {childList: true});\n",
       "}}\n",
       "\n",
       "// Listen for the clearing of the current output cell\n",
       "var outputEl = gd.closest('.output');\n",
       "if (outputEl) {{\n",
       "    x.observe(outputEl, {childList: true});\n",
       "}}\n",
       "\n",
       "                        })                };                });            </script>        </div>"
      ]
     },
     "metadata": {},
     "output_type": "display_data"
    }
   ],
   "source": [
    "# Here we use a column with categorical data\n",
    "fig = px.histogram(dfArgentinaData, x=\"Year\", y=['Secondhand smoke','Smoking'], nbins=30)\n",
    "fig.update_layout(bargap=0.1) # Gap between bars\n",
    "fig.show()"
   ]
  },
  {
   "cell_type": "code",
   "execution_count": 25,
   "metadata": {},
   "outputs": [],
   "source": [
    "dfArgUru = dfReduce[(dfReduce['Entity'] == 'Argentina') | (dfReduce['Entity'] == 'Uruguay') | (dfReduce['Entity'] == 'Chile') | (dfReduce['Entity'] == 'Paraguay') | (dfReduce['Entity'] == 'Bolivia')]"
   ]
  },
  {
   "cell_type": "code",
   "execution_count": 26,
   "metadata": {},
   "outputs": [
    {
     "data": {
      "application/vnd.plotly.v1+json": {
       "config": {
        "plotlyServerURL": "https://plot.ly"
       },
       "data": [
        {
         "alignmentgroup": "True",
         "bingroup": "x",
         "histfunc": "sum",
         "hovertemplate": "variable=Alcohol use<br>Entity=%{x}<br>sum of value=%{y}<extra></extra>",
         "legendgroup": "Alcohol use",
         "marker": {
          "color": "#636efa",
          "pattern": {
           "shape": ""
          }
         },
         "name": "Alcohol use",
         "nbinsx": 30,
         "offsetgroup": "Alcohol use",
         "orientation": "v",
         "showlegend": true,
         "type": "histogram",
         "x": [
          "Argentina",
          "Argentina",
          "Argentina",
          "Argentina",
          "Argentina",
          "Argentina",
          "Argentina",
          "Argentina",
          "Argentina",
          "Argentina",
          "Argentina",
          "Argentina",
          "Argentina",
          "Argentina",
          "Argentina",
          "Argentina",
          "Argentina",
          "Argentina",
          "Argentina",
          "Argentina",
          "Argentina",
          "Argentina",
          "Argentina",
          "Argentina",
          "Argentina",
          "Argentina",
          "Argentina",
          "Argentina",
          "Argentina",
          "Argentina",
          "Bolivia",
          "Bolivia",
          "Bolivia",
          "Bolivia",
          "Bolivia",
          "Bolivia",
          "Bolivia",
          "Bolivia",
          "Bolivia",
          "Bolivia",
          "Bolivia",
          "Bolivia",
          "Bolivia",
          "Bolivia",
          "Bolivia",
          "Bolivia",
          "Bolivia",
          "Bolivia",
          "Bolivia",
          "Bolivia",
          "Bolivia",
          "Bolivia",
          "Bolivia",
          "Bolivia",
          "Bolivia",
          "Bolivia",
          "Bolivia",
          "Bolivia",
          "Bolivia",
          "Bolivia",
          "Chile",
          "Chile",
          "Chile",
          "Chile",
          "Chile",
          "Chile",
          "Chile",
          "Chile",
          "Chile",
          "Chile",
          "Chile",
          "Chile",
          "Chile",
          "Chile",
          "Chile",
          "Chile",
          "Chile",
          "Chile",
          "Chile",
          "Chile",
          "Chile",
          "Chile",
          "Chile",
          "Chile",
          "Chile",
          "Chile",
          "Chile",
          "Chile",
          "Chile",
          "Chile",
          "Paraguay",
          "Paraguay",
          "Paraguay",
          "Paraguay",
          "Paraguay",
          "Paraguay",
          "Paraguay",
          "Paraguay",
          "Paraguay",
          "Paraguay",
          "Paraguay",
          "Paraguay",
          "Paraguay",
          "Paraguay",
          "Paraguay",
          "Paraguay",
          "Paraguay",
          "Paraguay",
          "Paraguay",
          "Paraguay",
          "Paraguay",
          "Paraguay",
          "Paraguay",
          "Paraguay",
          "Paraguay",
          "Paraguay",
          "Paraguay",
          "Paraguay",
          "Paraguay",
          "Paraguay",
          "Uruguay",
          "Uruguay",
          "Uruguay",
          "Uruguay",
          "Uruguay",
          "Uruguay",
          "Uruguay",
          "Uruguay",
          "Uruguay",
          "Uruguay",
          "Uruguay",
          "Uruguay",
          "Uruguay",
          "Uruguay",
          "Uruguay",
          "Uruguay",
          "Uruguay",
          "Uruguay",
          "Uruguay",
          "Uruguay",
          "Uruguay",
          "Uruguay",
          "Uruguay",
          "Uruguay",
          "Uruguay",
          "Uruguay",
          "Uruguay",
          "Uruguay",
          "Uruguay",
          "Uruguay"
         ],
         "xaxis": "x",
         "y": [
          18840,
          18775,
          18993,
          18801,
          18544,
          18538,
          18619,
          18570,
          18408,
          18267,
          17673,
          17608,
          17660,
          17527,
          17005,
          16890,
          17081,
          17571,
          17478,
          17553,
          17750,
          18037,
          18364,
          18666,
          18804,
          19272,
          20220,
          20571,
          20625,
          20962,
          2060,
          2049,
          2037,
          2044,
          2027,
          2052,
          2054,
          2083,
          2109,
          2134,
          2144,
          2140,
          2170,
          2193,
          2207,
          2235,
          2286,
          2344,
          2425,
          2490,
          2543,
          2583,
          2622,
          2671,
          2740,
          2780,
          2844,
          2940,
          3007,
          3070,
          7029,
          6574,
          6216,
          6239,
          6337,
          6550,
          6603,
          6449,
          6353,
          6300,
          6286,
          6469,
          6510,
          6632,
          6675,
          6617,
          6614,
          6689,
          6760,
          7021,
          7200,
          7149,
          7246,
          7426,
          7547,
          7726,
          7753,
          8061,
          8308,
          8556,
          892,
          896,
          990,
          1059,
          1127,
          1198,
          1266,
          1255,
          1277,
          1311,
          1313,
          1287,
          1288,
          1326,
          1375,
          1379,
          1412,
          1426,
          1474,
          1566,
          1603,
          1610,
          1643,
          1710,
          1757,
          1863,
          1990,
          2033,
          2075,
          2133,
          1441,
          1477,
          1509,
          1552,
          1571,
          1605,
          1620,
          1657,
          1697,
          1701,
          1679,
          1634,
          1618,
          1606,
          1586,
          1558,
          1547,
          1602,
          1562,
          1554,
          1572,
          1612,
          1626,
          1619,
          1613,
          1638,
          1637,
          1654,
          1668,
          1689
         ],
         "yaxis": "y"
        }
       ],
       "layout": {
        "bargap": 0.1,
        "barmode": "relative",
        "legend": {
         "title": {
          "text": "variable"
         },
         "tracegroupgap": 0
        },
        "margin": {
         "t": 60
        },
        "template": {
         "data": {
          "bar": [
           {
            "error_x": {
             "color": "#2a3f5f"
            },
            "error_y": {
             "color": "#2a3f5f"
            },
            "marker": {
             "line": {
              "color": "#E5ECF6",
              "width": 0.5
             },
             "pattern": {
              "fillmode": "overlay",
              "size": 10,
              "solidity": 0.2
             }
            },
            "type": "bar"
           }
          ],
          "barpolar": [
           {
            "marker": {
             "line": {
              "color": "#E5ECF6",
              "width": 0.5
             },
             "pattern": {
              "fillmode": "overlay",
              "size": 10,
              "solidity": 0.2
             }
            },
            "type": "barpolar"
           }
          ],
          "carpet": [
           {
            "aaxis": {
             "endlinecolor": "#2a3f5f",
             "gridcolor": "white",
             "linecolor": "white",
             "minorgridcolor": "white",
             "startlinecolor": "#2a3f5f"
            },
            "baxis": {
             "endlinecolor": "#2a3f5f",
             "gridcolor": "white",
             "linecolor": "white",
             "minorgridcolor": "white",
             "startlinecolor": "#2a3f5f"
            },
            "type": "carpet"
           }
          ],
          "choropleth": [
           {
            "colorbar": {
             "outlinewidth": 0,
             "ticks": ""
            },
            "type": "choropleth"
           }
          ],
          "contour": [
           {
            "colorbar": {
             "outlinewidth": 0,
             "ticks": ""
            },
            "colorscale": [
             [
              0,
              "#0d0887"
             ],
             [
              0.1111111111111111,
              "#46039f"
             ],
             [
              0.2222222222222222,
              "#7201a8"
             ],
             [
              0.3333333333333333,
              "#9c179e"
             ],
             [
              0.4444444444444444,
              "#bd3786"
             ],
             [
              0.5555555555555556,
              "#d8576b"
             ],
             [
              0.6666666666666666,
              "#ed7953"
             ],
             [
              0.7777777777777778,
              "#fb9f3a"
             ],
             [
              0.8888888888888888,
              "#fdca26"
             ],
             [
              1,
              "#f0f921"
             ]
            ],
            "type": "contour"
           }
          ],
          "contourcarpet": [
           {
            "colorbar": {
             "outlinewidth": 0,
             "ticks": ""
            },
            "type": "contourcarpet"
           }
          ],
          "heatmap": [
           {
            "colorbar": {
             "outlinewidth": 0,
             "ticks": ""
            },
            "colorscale": [
             [
              0,
              "#0d0887"
             ],
             [
              0.1111111111111111,
              "#46039f"
             ],
             [
              0.2222222222222222,
              "#7201a8"
             ],
             [
              0.3333333333333333,
              "#9c179e"
             ],
             [
              0.4444444444444444,
              "#bd3786"
             ],
             [
              0.5555555555555556,
              "#d8576b"
             ],
             [
              0.6666666666666666,
              "#ed7953"
             ],
             [
              0.7777777777777778,
              "#fb9f3a"
             ],
             [
              0.8888888888888888,
              "#fdca26"
             ],
             [
              1,
              "#f0f921"
             ]
            ],
            "type": "heatmap"
           }
          ],
          "heatmapgl": [
           {
            "colorbar": {
             "outlinewidth": 0,
             "ticks": ""
            },
            "colorscale": [
             [
              0,
              "#0d0887"
             ],
             [
              0.1111111111111111,
              "#46039f"
             ],
             [
              0.2222222222222222,
              "#7201a8"
             ],
             [
              0.3333333333333333,
              "#9c179e"
             ],
             [
              0.4444444444444444,
              "#bd3786"
             ],
             [
              0.5555555555555556,
              "#d8576b"
             ],
             [
              0.6666666666666666,
              "#ed7953"
             ],
             [
              0.7777777777777778,
              "#fb9f3a"
             ],
             [
              0.8888888888888888,
              "#fdca26"
             ],
             [
              1,
              "#f0f921"
             ]
            ],
            "type": "heatmapgl"
           }
          ],
          "histogram": [
           {
            "marker": {
             "pattern": {
              "fillmode": "overlay",
              "size": 10,
              "solidity": 0.2
             }
            },
            "type": "histogram"
           }
          ],
          "histogram2d": [
           {
            "colorbar": {
             "outlinewidth": 0,
             "ticks": ""
            },
            "colorscale": [
             [
              0,
              "#0d0887"
             ],
             [
              0.1111111111111111,
              "#46039f"
             ],
             [
              0.2222222222222222,
              "#7201a8"
             ],
             [
              0.3333333333333333,
              "#9c179e"
             ],
             [
              0.4444444444444444,
              "#bd3786"
             ],
             [
              0.5555555555555556,
              "#d8576b"
             ],
             [
              0.6666666666666666,
              "#ed7953"
             ],
             [
              0.7777777777777778,
              "#fb9f3a"
             ],
             [
              0.8888888888888888,
              "#fdca26"
             ],
             [
              1,
              "#f0f921"
             ]
            ],
            "type": "histogram2d"
           }
          ],
          "histogram2dcontour": [
           {
            "colorbar": {
             "outlinewidth": 0,
             "ticks": ""
            },
            "colorscale": [
             [
              0,
              "#0d0887"
             ],
             [
              0.1111111111111111,
              "#46039f"
             ],
             [
              0.2222222222222222,
              "#7201a8"
             ],
             [
              0.3333333333333333,
              "#9c179e"
             ],
             [
              0.4444444444444444,
              "#bd3786"
             ],
             [
              0.5555555555555556,
              "#d8576b"
             ],
             [
              0.6666666666666666,
              "#ed7953"
             ],
             [
              0.7777777777777778,
              "#fb9f3a"
             ],
             [
              0.8888888888888888,
              "#fdca26"
             ],
             [
              1,
              "#f0f921"
             ]
            ],
            "type": "histogram2dcontour"
           }
          ],
          "mesh3d": [
           {
            "colorbar": {
             "outlinewidth": 0,
             "ticks": ""
            },
            "type": "mesh3d"
           }
          ],
          "parcoords": [
           {
            "line": {
             "colorbar": {
              "outlinewidth": 0,
              "ticks": ""
             }
            },
            "type": "parcoords"
           }
          ],
          "pie": [
           {
            "automargin": true,
            "type": "pie"
           }
          ],
          "scatter": [
           {
            "fillpattern": {
             "fillmode": "overlay",
             "size": 10,
             "solidity": 0.2
            },
            "type": "scatter"
           }
          ],
          "scatter3d": [
           {
            "line": {
             "colorbar": {
              "outlinewidth": 0,
              "ticks": ""
             }
            },
            "marker": {
             "colorbar": {
              "outlinewidth": 0,
              "ticks": ""
             }
            },
            "type": "scatter3d"
           }
          ],
          "scattercarpet": [
           {
            "marker": {
             "colorbar": {
              "outlinewidth": 0,
              "ticks": ""
             }
            },
            "type": "scattercarpet"
           }
          ],
          "scattergeo": [
           {
            "marker": {
             "colorbar": {
              "outlinewidth": 0,
              "ticks": ""
             }
            },
            "type": "scattergeo"
           }
          ],
          "scattergl": [
           {
            "marker": {
             "colorbar": {
              "outlinewidth": 0,
              "ticks": ""
             }
            },
            "type": "scattergl"
           }
          ],
          "scattermapbox": [
           {
            "marker": {
             "colorbar": {
              "outlinewidth": 0,
              "ticks": ""
             }
            },
            "type": "scattermapbox"
           }
          ],
          "scatterpolar": [
           {
            "marker": {
             "colorbar": {
              "outlinewidth": 0,
              "ticks": ""
             }
            },
            "type": "scatterpolar"
           }
          ],
          "scatterpolargl": [
           {
            "marker": {
             "colorbar": {
              "outlinewidth": 0,
              "ticks": ""
             }
            },
            "type": "scatterpolargl"
           }
          ],
          "scatterternary": [
           {
            "marker": {
             "colorbar": {
              "outlinewidth": 0,
              "ticks": ""
             }
            },
            "type": "scatterternary"
           }
          ],
          "surface": [
           {
            "colorbar": {
             "outlinewidth": 0,
             "ticks": ""
            },
            "colorscale": [
             [
              0,
              "#0d0887"
             ],
             [
              0.1111111111111111,
              "#46039f"
             ],
             [
              0.2222222222222222,
              "#7201a8"
             ],
             [
              0.3333333333333333,
              "#9c179e"
             ],
             [
              0.4444444444444444,
              "#bd3786"
             ],
             [
              0.5555555555555556,
              "#d8576b"
             ],
             [
              0.6666666666666666,
              "#ed7953"
             ],
             [
              0.7777777777777778,
              "#fb9f3a"
             ],
             [
              0.8888888888888888,
              "#fdca26"
             ],
             [
              1,
              "#f0f921"
             ]
            ],
            "type": "surface"
           }
          ],
          "table": [
           {
            "cells": {
             "fill": {
              "color": "#EBF0F8"
             },
             "line": {
              "color": "white"
             }
            },
            "header": {
             "fill": {
              "color": "#C8D4E3"
             },
             "line": {
              "color": "white"
             }
            },
            "type": "table"
           }
          ]
         },
         "layout": {
          "annotationdefaults": {
           "arrowcolor": "#2a3f5f",
           "arrowhead": 0,
           "arrowwidth": 1
          },
          "autotypenumbers": "strict",
          "coloraxis": {
           "colorbar": {
            "outlinewidth": 0,
            "ticks": ""
           }
          },
          "colorscale": {
           "diverging": [
            [
             0,
             "#8e0152"
            ],
            [
             0.1,
             "#c51b7d"
            ],
            [
             0.2,
             "#de77ae"
            ],
            [
             0.3,
             "#f1b6da"
            ],
            [
             0.4,
             "#fde0ef"
            ],
            [
             0.5,
             "#f7f7f7"
            ],
            [
             0.6,
             "#e6f5d0"
            ],
            [
             0.7,
             "#b8e186"
            ],
            [
             0.8,
             "#7fbc41"
            ],
            [
             0.9,
             "#4d9221"
            ],
            [
             1,
             "#276419"
            ]
           ],
           "sequential": [
            [
             0,
             "#0d0887"
            ],
            [
             0.1111111111111111,
             "#46039f"
            ],
            [
             0.2222222222222222,
             "#7201a8"
            ],
            [
             0.3333333333333333,
             "#9c179e"
            ],
            [
             0.4444444444444444,
             "#bd3786"
            ],
            [
             0.5555555555555556,
             "#d8576b"
            ],
            [
             0.6666666666666666,
             "#ed7953"
            ],
            [
             0.7777777777777778,
             "#fb9f3a"
            ],
            [
             0.8888888888888888,
             "#fdca26"
            ],
            [
             1,
             "#f0f921"
            ]
           ],
           "sequentialminus": [
            [
             0,
             "#0d0887"
            ],
            [
             0.1111111111111111,
             "#46039f"
            ],
            [
             0.2222222222222222,
             "#7201a8"
            ],
            [
             0.3333333333333333,
             "#9c179e"
            ],
            [
             0.4444444444444444,
             "#bd3786"
            ],
            [
             0.5555555555555556,
             "#d8576b"
            ],
            [
             0.6666666666666666,
             "#ed7953"
            ],
            [
             0.7777777777777778,
             "#fb9f3a"
            ],
            [
             0.8888888888888888,
             "#fdca26"
            ],
            [
             1,
             "#f0f921"
            ]
           ]
          },
          "colorway": [
           "#636efa",
           "#EF553B",
           "#00cc96",
           "#ab63fa",
           "#FFA15A",
           "#19d3f3",
           "#FF6692",
           "#B6E880",
           "#FF97FF",
           "#FECB52"
          ],
          "font": {
           "color": "#2a3f5f"
          },
          "geo": {
           "bgcolor": "white",
           "lakecolor": "white",
           "landcolor": "#E5ECF6",
           "showlakes": true,
           "showland": true,
           "subunitcolor": "white"
          },
          "hoverlabel": {
           "align": "left"
          },
          "hovermode": "closest",
          "mapbox": {
           "style": "light"
          },
          "paper_bgcolor": "white",
          "plot_bgcolor": "#E5ECF6",
          "polar": {
           "angularaxis": {
            "gridcolor": "white",
            "linecolor": "white",
            "ticks": ""
           },
           "bgcolor": "#E5ECF6",
           "radialaxis": {
            "gridcolor": "white",
            "linecolor": "white",
            "ticks": ""
           }
          },
          "scene": {
           "xaxis": {
            "backgroundcolor": "#E5ECF6",
            "gridcolor": "white",
            "gridwidth": 2,
            "linecolor": "white",
            "showbackground": true,
            "ticks": "",
            "zerolinecolor": "white"
           },
           "yaxis": {
            "backgroundcolor": "#E5ECF6",
            "gridcolor": "white",
            "gridwidth": 2,
            "linecolor": "white",
            "showbackground": true,
            "ticks": "",
            "zerolinecolor": "white"
           },
           "zaxis": {
            "backgroundcolor": "#E5ECF6",
            "gridcolor": "white",
            "gridwidth": 2,
            "linecolor": "white",
            "showbackground": true,
            "ticks": "",
            "zerolinecolor": "white"
           }
          },
          "shapedefaults": {
           "line": {
            "color": "#2a3f5f"
           }
          },
          "ternary": {
           "aaxis": {
            "gridcolor": "white",
            "linecolor": "white",
            "ticks": ""
           },
           "baxis": {
            "gridcolor": "white",
            "linecolor": "white",
            "ticks": ""
           },
           "bgcolor": "#E5ECF6",
           "caxis": {
            "gridcolor": "white",
            "linecolor": "white",
            "ticks": ""
           }
          },
          "title": {
           "x": 0.05
          },
          "xaxis": {
           "automargin": true,
           "gridcolor": "white",
           "linecolor": "white",
           "ticks": "",
           "title": {
            "standoff": 15
           },
           "zerolinecolor": "white",
           "zerolinewidth": 2
          },
          "yaxis": {
           "automargin": true,
           "gridcolor": "white",
           "linecolor": "white",
           "ticks": "",
           "title": {
            "standoff": 15
           },
           "zerolinecolor": "white",
           "zerolinewidth": 2
          }
         }
        },
        "xaxis": {
         "anchor": "y",
         "domain": [
          0,
          1
         ],
         "title": {
          "text": "Entity"
         }
        },
        "yaxis": {
         "anchor": "x",
         "domain": [
          0,
          1
         ],
         "title": {
          "text": "sum of value"
         }
        }
       }
      },
      "text/html": [
       "<div>                            <div id=\"cbd31f82-248b-420c-82b5-20743fe925f2\" class=\"plotly-graph-div\" style=\"height:525px; width:100%;\"></div>            <script type=\"text/javascript\">                require([\"plotly\"], function(Plotly) {                    window.PLOTLYENV=window.PLOTLYENV || {};                                    if (document.getElementById(\"cbd31f82-248b-420c-82b5-20743fe925f2\")) {                    Plotly.newPlot(                        \"cbd31f82-248b-420c-82b5-20743fe925f2\",                        [{\"alignmentgroup\":\"True\",\"bingroup\":\"x\",\"histfunc\":\"sum\",\"hovertemplate\":\"variable=Alcohol use<br>Entity=%{x}<br>sum of value=%{y}<extra></extra>\",\"legendgroup\":\"Alcohol use\",\"marker\":{\"color\":\"#636efa\",\"pattern\":{\"shape\":\"\"}},\"name\":\"Alcohol use\",\"nbinsx\":30,\"offsetgroup\":\"Alcohol use\",\"orientation\":\"v\",\"showlegend\":true,\"x\":[\"Argentina\",\"Argentina\",\"Argentina\",\"Argentina\",\"Argentina\",\"Argentina\",\"Argentina\",\"Argentina\",\"Argentina\",\"Argentina\",\"Argentina\",\"Argentina\",\"Argentina\",\"Argentina\",\"Argentina\",\"Argentina\",\"Argentina\",\"Argentina\",\"Argentina\",\"Argentina\",\"Argentina\",\"Argentina\",\"Argentina\",\"Argentina\",\"Argentina\",\"Argentina\",\"Argentina\",\"Argentina\",\"Argentina\",\"Argentina\",\"Bolivia\",\"Bolivia\",\"Bolivia\",\"Bolivia\",\"Bolivia\",\"Bolivia\",\"Bolivia\",\"Bolivia\",\"Bolivia\",\"Bolivia\",\"Bolivia\",\"Bolivia\",\"Bolivia\",\"Bolivia\",\"Bolivia\",\"Bolivia\",\"Bolivia\",\"Bolivia\",\"Bolivia\",\"Bolivia\",\"Bolivia\",\"Bolivia\",\"Bolivia\",\"Bolivia\",\"Bolivia\",\"Bolivia\",\"Bolivia\",\"Bolivia\",\"Bolivia\",\"Bolivia\",\"Chile\",\"Chile\",\"Chile\",\"Chile\",\"Chile\",\"Chile\",\"Chile\",\"Chile\",\"Chile\",\"Chile\",\"Chile\",\"Chile\",\"Chile\",\"Chile\",\"Chile\",\"Chile\",\"Chile\",\"Chile\",\"Chile\",\"Chile\",\"Chile\",\"Chile\",\"Chile\",\"Chile\",\"Chile\",\"Chile\",\"Chile\",\"Chile\",\"Chile\",\"Chile\",\"Paraguay\",\"Paraguay\",\"Paraguay\",\"Paraguay\",\"Paraguay\",\"Paraguay\",\"Paraguay\",\"Paraguay\",\"Paraguay\",\"Paraguay\",\"Paraguay\",\"Paraguay\",\"Paraguay\",\"Paraguay\",\"Paraguay\",\"Paraguay\",\"Paraguay\",\"Paraguay\",\"Paraguay\",\"Paraguay\",\"Paraguay\",\"Paraguay\",\"Paraguay\",\"Paraguay\",\"Paraguay\",\"Paraguay\",\"Paraguay\",\"Paraguay\",\"Paraguay\",\"Paraguay\",\"Uruguay\",\"Uruguay\",\"Uruguay\",\"Uruguay\",\"Uruguay\",\"Uruguay\",\"Uruguay\",\"Uruguay\",\"Uruguay\",\"Uruguay\",\"Uruguay\",\"Uruguay\",\"Uruguay\",\"Uruguay\",\"Uruguay\",\"Uruguay\",\"Uruguay\",\"Uruguay\",\"Uruguay\",\"Uruguay\",\"Uruguay\",\"Uruguay\",\"Uruguay\",\"Uruguay\",\"Uruguay\",\"Uruguay\",\"Uruguay\",\"Uruguay\",\"Uruguay\",\"Uruguay\"],\"xaxis\":\"x\",\"y\":[18840,18775,18993,18801,18544,18538,18619,18570,18408,18267,17673,17608,17660,17527,17005,16890,17081,17571,17478,17553,17750,18037,18364,18666,18804,19272,20220,20571,20625,20962,2060,2049,2037,2044,2027,2052,2054,2083,2109,2134,2144,2140,2170,2193,2207,2235,2286,2344,2425,2490,2543,2583,2622,2671,2740,2780,2844,2940,3007,3070,7029,6574,6216,6239,6337,6550,6603,6449,6353,6300,6286,6469,6510,6632,6675,6617,6614,6689,6760,7021,7200,7149,7246,7426,7547,7726,7753,8061,8308,8556,892,896,990,1059,1127,1198,1266,1255,1277,1311,1313,1287,1288,1326,1375,1379,1412,1426,1474,1566,1603,1610,1643,1710,1757,1863,1990,2033,2075,2133,1441,1477,1509,1552,1571,1605,1620,1657,1697,1701,1679,1634,1618,1606,1586,1558,1547,1602,1562,1554,1572,1612,1626,1619,1613,1638,1637,1654,1668,1689],\"yaxis\":\"y\",\"type\":\"histogram\"}],                        {\"template\":{\"data\":{\"histogram2dcontour\":[{\"type\":\"histogram2dcontour\",\"colorbar\":{\"outlinewidth\":0,\"ticks\":\"\"},\"colorscale\":[[0.0,\"#0d0887\"],[0.1111111111111111,\"#46039f\"],[0.2222222222222222,\"#7201a8\"],[0.3333333333333333,\"#9c179e\"],[0.4444444444444444,\"#bd3786\"],[0.5555555555555556,\"#d8576b\"],[0.6666666666666666,\"#ed7953\"],[0.7777777777777778,\"#fb9f3a\"],[0.8888888888888888,\"#fdca26\"],[1.0,\"#f0f921\"]]}],\"choropleth\":[{\"type\":\"choropleth\",\"colorbar\":{\"outlinewidth\":0,\"ticks\":\"\"}}],\"histogram2d\":[{\"type\":\"histogram2d\",\"colorbar\":{\"outlinewidth\":0,\"ticks\":\"\"},\"colorscale\":[[0.0,\"#0d0887\"],[0.1111111111111111,\"#46039f\"],[0.2222222222222222,\"#7201a8\"],[0.3333333333333333,\"#9c179e\"],[0.4444444444444444,\"#bd3786\"],[0.5555555555555556,\"#d8576b\"],[0.6666666666666666,\"#ed7953\"],[0.7777777777777778,\"#fb9f3a\"],[0.8888888888888888,\"#fdca26\"],[1.0,\"#f0f921\"]]}],\"heatmap\":[{\"type\":\"heatmap\",\"colorbar\":{\"outlinewidth\":0,\"ticks\":\"\"},\"colorscale\":[[0.0,\"#0d0887\"],[0.1111111111111111,\"#46039f\"],[0.2222222222222222,\"#7201a8\"],[0.3333333333333333,\"#9c179e\"],[0.4444444444444444,\"#bd3786\"],[0.5555555555555556,\"#d8576b\"],[0.6666666666666666,\"#ed7953\"],[0.7777777777777778,\"#fb9f3a\"],[0.8888888888888888,\"#fdca26\"],[1.0,\"#f0f921\"]]}],\"heatmapgl\":[{\"type\":\"heatmapgl\",\"colorbar\":{\"outlinewidth\":0,\"ticks\":\"\"},\"colorscale\":[[0.0,\"#0d0887\"],[0.1111111111111111,\"#46039f\"],[0.2222222222222222,\"#7201a8\"],[0.3333333333333333,\"#9c179e\"],[0.4444444444444444,\"#bd3786\"],[0.5555555555555556,\"#d8576b\"],[0.6666666666666666,\"#ed7953\"],[0.7777777777777778,\"#fb9f3a\"],[0.8888888888888888,\"#fdca26\"],[1.0,\"#f0f921\"]]}],\"contourcarpet\":[{\"type\":\"contourcarpet\",\"colorbar\":{\"outlinewidth\":0,\"ticks\":\"\"}}],\"contour\":[{\"type\":\"contour\",\"colorbar\":{\"outlinewidth\":0,\"ticks\":\"\"},\"colorscale\":[[0.0,\"#0d0887\"],[0.1111111111111111,\"#46039f\"],[0.2222222222222222,\"#7201a8\"],[0.3333333333333333,\"#9c179e\"],[0.4444444444444444,\"#bd3786\"],[0.5555555555555556,\"#d8576b\"],[0.6666666666666666,\"#ed7953\"],[0.7777777777777778,\"#fb9f3a\"],[0.8888888888888888,\"#fdca26\"],[1.0,\"#f0f921\"]]}],\"surface\":[{\"type\":\"surface\",\"colorbar\":{\"outlinewidth\":0,\"ticks\":\"\"},\"colorscale\":[[0.0,\"#0d0887\"],[0.1111111111111111,\"#46039f\"],[0.2222222222222222,\"#7201a8\"],[0.3333333333333333,\"#9c179e\"],[0.4444444444444444,\"#bd3786\"],[0.5555555555555556,\"#d8576b\"],[0.6666666666666666,\"#ed7953\"],[0.7777777777777778,\"#fb9f3a\"],[0.8888888888888888,\"#fdca26\"],[1.0,\"#f0f921\"]]}],\"mesh3d\":[{\"type\":\"mesh3d\",\"colorbar\":{\"outlinewidth\":0,\"ticks\":\"\"}}],\"scatter\":[{\"fillpattern\":{\"fillmode\":\"overlay\",\"size\":10,\"solidity\":0.2},\"type\":\"scatter\"}],\"parcoords\":[{\"type\":\"parcoords\",\"line\":{\"colorbar\":{\"outlinewidth\":0,\"ticks\":\"\"}}}],\"scatterpolargl\":[{\"type\":\"scatterpolargl\",\"marker\":{\"colorbar\":{\"outlinewidth\":0,\"ticks\":\"\"}}}],\"bar\":[{\"error_x\":{\"color\":\"#2a3f5f\"},\"error_y\":{\"color\":\"#2a3f5f\"},\"marker\":{\"line\":{\"color\":\"#E5ECF6\",\"width\":0.5},\"pattern\":{\"fillmode\":\"overlay\",\"size\":10,\"solidity\":0.2}},\"type\":\"bar\"}],\"scattergeo\":[{\"type\":\"scattergeo\",\"marker\":{\"colorbar\":{\"outlinewidth\":0,\"ticks\":\"\"}}}],\"scatterpolar\":[{\"type\":\"scatterpolar\",\"marker\":{\"colorbar\":{\"outlinewidth\":0,\"ticks\":\"\"}}}],\"histogram\":[{\"marker\":{\"pattern\":{\"fillmode\":\"overlay\",\"size\":10,\"solidity\":0.2}},\"type\":\"histogram\"}],\"scattergl\":[{\"type\":\"scattergl\",\"marker\":{\"colorbar\":{\"outlinewidth\":0,\"ticks\":\"\"}}}],\"scatter3d\":[{\"type\":\"scatter3d\",\"line\":{\"colorbar\":{\"outlinewidth\":0,\"ticks\":\"\"}},\"marker\":{\"colorbar\":{\"outlinewidth\":0,\"ticks\":\"\"}}}],\"scattermapbox\":[{\"type\":\"scattermapbox\",\"marker\":{\"colorbar\":{\"outlinewidth\":0,\"ticks\":\"\"}}}],\"scatterternary\":[{\"type\":\"scatterternary\",\"marker\":{\"colorbar\":{\"outlinewidth\":0,\"ticks\":\"\"}}}],\"scattercarpet\":[{\"type\":\"scattercarpet\",\"marker\":{\"colorbar\":{\"outlinewidth\":0,\"ticks\":\"\"}}}],\"carpet\":[{\"aaxis\":{\"endlinecolor\":\"#2a3f5f\",\"gridcolor\":\"white\",\"linecolor\":\"white\",\"minorgridcolor\":\"white\",\"startlinecolor\":\"#2a3f5f\"},\"baxis\":{\"endlinecolor\":\"#2a3f5f\",\"gridcolor\":\"white\",\"linecolor\":\"white\",\"minorgridcolor\":\"white\",\"startlinecolor\":\"#2a3f5f\"},\"type\":\"carpet\"}],\"table\":[{\"cells\":{\"fill\":{\"color\":\"#EBF0F8\"},\"line\":{\"color\":\"white\"}},\"header\":{\"fill\":{\"color\":\"#C8D4E3\"},\"line\":{\"color\":\"white\"}},\"type\":\"table\"}],\"barpolar\":[{\"marker\":{\"line\":{\"color\":\"#E5ECF6\",\"width\":0.5},\"pattern\":{\"fillmode\":\"overlay\",\"size\":10,\"solidity\":0.2}},\"type\":\"barpolar\"}],\"pie\":[{\"automargin\":true,\"type\":\"pie\"}]},\"layout\":{\"autotypenumbers\":\"strict\",\"colorway\":[\"#636efa\",\"#EF553B\",\"#00cc96\",\"#ab63fa\",\"#FFA15A\",\"#19d3f3\",\"#FF6692\",\"#B6E880\",\"#FF97FF\",\"#FECB52\"],\"font\":{\"color\":\"#2a3f5f\"},\"hovermode\":\"closest\",\"hoverlabel\":{\"align\":\"left\"},\"paper_bgcolor\":\"white\",\"plot_bgcolor\":\"#E5ECF6\",\"polar\":{\"bgcolor\":\"#E5ECF6\",\"angularaxis\":{\"gridcolor\":\"white\",\"linecolor\":\"white\",\"ticks\":\"\"},\"radialaxis\":{\"gridcolor\":\"white\",\"linecolor\":\"white\",\"ticks\":\"\"}},\"ternary\":{\"bgcolor\":\"#E5ECF6\",\"aaxis\":{\"gridcolor\":\"white\",\"linecolor\":\"white\",\"ticks\":\"\"},\"baxis\":{\"gridcolor\":\"white\",\"linecolor\":\"white\",\"ticks\":\"\"},\"caxis\":{\"gridcolor\":\"white\",\"linecolor\":\"white\",\"ticks\":\"\"}},\"coloraxis\":{\"colorbar\":{\"outlinewidth\":0,\"ticks\":\"\"}},\"colorscale\":{\"sequential\":[[0.0,\"#0d0887\"],[0.1111111111111111,\"#46039f\"],[0.2222222222222222,\"#7201a8\"],[0.3333333333333333,\"#9c179e\"],[0.4444444444444444,\"#bd3786\"],[0.5555555555555556,\"#d8576b\"],[0.6666666666666666,\"#ed7953\"],[0.7777777777777778,\"#fb9f3a\"],[0.8888888888888888,\"#fdca26\"],[1.0,\"#f0f921\"]],\"sequentialminus\":[[0.0,\"#0d0887\"],[0.1111111111111111,\"#46039f\"],[0.2222222222222222,\"#7201a8\"],[0.3333333333333333,\"#9c179e\"],[0.4444444444444444,\"#bd3786\"],[0.5555555555555556,\"#d8576b\"],[0.6666666666666666,\"#ed7953\"],[0.7777777777777778,\"#fb9f3a\"],[0.8888888888888888,\"#fdca26\"],[1.0,\"#f0f921\"]],\"diverging\":[[0,\"#8e0152\"],[0.1,\"#c51b7d\"],[0.2,\"#de77ae\"],[0.3,\"#f1b6da\"],[0.4,\"#fde0ef\"],[0.5,\"#f7f7f7\"],[0.6,\"#e6f5d0\"],[0.7,\"#b8e186\"],[0.8,\"#7fbc41\"],[0.9,\"#4d9221\"],[1,\"#276419\"]]},\"xaxis\":{\"gridcolor\":\"white\",\"linecolor\":\"white\",\"ticks\":\"\",\"title\":{\"standoff\":15},\"zerolinecolor\":\"white\",\"automargin\":true,\"zerolinewidth\":2},\"yaxis\":{\"gridcolor\":\"white\",\"linecolor\":\"white\",\"ticks\":\"\",\"title\":{\"standoff\":15},\"zerolinecolor\":\"white\",\"automargin\":true,\"zerolinewidth\":2},\"scene\":{\"xaxis\":{\"backgroundcolor\":\"#E5ECF6\",\"gridcolor\":\"white\",\"linecolor\":\"white\",\"showbackground\":true,\"ticks\":\"\",\"zerolinecolor\":\"white\",\"gridwidth\":2},\"yaxis\":{\"backgroundcolor\":\"#E5ECF6\",\"gridcolor\":\"white\",\"linecolor\":\"white\",\"showbackground\":true,\"ticks\":\"\",\"zerolinecolor\":\"white\",\"gridwidth\":2},\"zaxis\":{\"backgroundcolor\":\"#E5ECF6\",\"gridcolor\":\"white\",\"linecolor\":\"white\",\"showbackground\":true,\"ticks\":\"\",\"zerolinecolor\":\"white\",\"gridwidth\":2}},\"shapedefaults\":{\"line\":{\"color\":\"#2a3f5f\"}},\"annotationdefaults\":{\"arrowcolor\":\"#2a3f5f\",\"arrowhead\":0,\"arrowwidth\":1},\"geo\":{\"bgcolor\":\"white\",\"landcolor\":\"#E5ECF6\",\"subunitcolor\":\"white\",\"showland\":true,\"showlakes\":true,\"lakecolor\":\"white\"},\"title\":{\"x\":0.05},\"mapbox\":{\"style\":\"light\"}}},\"xaxis\":{\"anchor\":\"y\",\"domain\":[0.0,1.0],\"title\":{\"text\":\"Entity\"}},\"yaxis\":{\"anchor\":\"x\",\"domain\":[0.0,1.0],\"title\":{\"text\":\"sum of value\"}},\"legend\":{\"title\":{\"text\":\"variable\"},\"tracegroupgap\":0},\"margin\":{\"t\":60},\"barmode\":\"relative\",\"bargap\":0.1},                        {\"responsive\": true}                    ).then(function(){\n",
       "                            \n",
       "var gd = document.getElementById('cbd31f82-248b-420c-82b5-20743fe925f2');\n",
       "var x = new MutationObserver(function (mutations, observer) {{\n",
       "        var display = window.getComputedStyle(gd).display;\n",
       "        if (!display || display === 'none') {{\n",
       "            console.log([gd, 'removed!']);\n",
       "            Plotly.purge(gd);\n",
       "            observer.disconnect();\n",
       "        }}\n",
       "}});\n",
       "\n",
       "// Listen for the removal of the full notebook cells\n",
       "var notebookContainer = gd.closest('#notebook-container');\n",
       "if (notebookContainer) {{\n",
       "    x.observe(notebookContainer, {childList: true});\n",
       "}}\n",
       "\n",
       "// Listen for the clearing of the current output cell\n",
       "var outputEl = gd.closest('.output');\n",
       "if (outputEl) {{\n",
       "    x.observe(outputEl, {childList: true});\n",
       "}}\n",
       "\n",
       "                        })                };                });            </script>        </div>"
      ]
     },
     "metadata": {},
     "output_type": "display_data"
    }
   ],
   "source": [
    "fig = px.histogram(dfArgUru, x=\"Entity\", y=['Alcohol use'], nbins=30) \n",
    "fig.update_layout(bargap=0.1) # Gap between bars\n",
    "fig.show()"
   ]
  },
  {
   "cell_type": "markdown",
   "metadata": {},
   "source": [
    "### Datos de brujeria en europa"
   ]
  },
  {
   "cell_type": "code",
   "execution_count": 41,
   "metadata": {},
   "outputs": [],
   "source": [
    "dfTrials=pd.read_csv(\"../Practica/trials.csv\")"
   ]
  },
  {
   "cell_type": "code",
   "execution_count": 68,
   "metadata": {},
   "outputs": [],
   "source": [
    "# Eliminamos los valores nulos ya que no hacen diferencia para el grafico\n",
    "dfTrials.dropna(axis=0, inplace=True)"
   ]
  },
  {
   "cell_type": "code",
   "execution_count": 70,
   "metadata": {},
   "outputs": [
    {
     "data": {
      "text/html": [
       "<div>\n",
       "<style scoped>\n",
       "    .dataframe tbody tr th:only-of-type {\n",
       "        vertical-align: middle;\n",
       "    }\n",
       "\n",
       "    .dataframe tbody tr th {\n",
       "        vertical-align: top;\n",
       "    }\n",
       "\n",
       "    .dataframe thead th {\n",
       "        text-align: right;\n",
       "    }\n",
       "</style>\n",
       "<table border=\"1\" class=\"dataframe\">\n",
       "  <thead>\n",
       "    <tr style=\"text-align: right;\">\n",
       "      <th></th>\n",
       "      <th>year</th>\n",
       "      <th>decade</th>\n",
       "      <th>century</th>\n",
       "      <th>tried</th>\n",
       "      <th>deaths</th>\n",
       "      <th>city</th>\n",
       "      <th>gadm.adm2</th>\n",
       "      <th>gadm.adm1</th>\n",
       "      <th>gadm.adm0</th>\n",
       "      <th>lon</th>\n",
       "      <th>lat</th>\n",
       "      <th>record.source</th>\n",
       "    </tr>\n",
       "  </thead>\n",
       "  <tbody>\n",
       "    <tr>\n",
       "      <th>541</th>\n",
       "      <td>1590.0</td>\n",
       "      <td>1590</td>\n",
       "      <td>1500</td>\n",
       "      <td>6</td>\n",
       "      <td>6.0</td>\n",
       "      <td>Erolzheim</td>\n",
       "      <td>Freiburg</td>\n",
       "      <td>Baden-Wurttemberg</td>\n",
       "      <td>Germany</td>\n",
       "      <td>10.07080</td>\n",
       "      <td>48.0917</td>\n",
       "      <td>Behringer (1987)</td>\n",
       "    </tr>\n",
       "    <tr>\n",
       "      <th>561</th>\n",
       "      <td>1435.0</td>\n",
       "      <td>1430</td>\n",
       "      <td>1400</td>\n",
       "      <td>1</td>\n",
       "      <td>1.0</td>\n",
       "      <td>Straubing</td>\n",
       "      <td>Mittelfranken</td>\n",
       "      <td>Bayern</td>\n",
       "      <td>Germany</td>\n",
       "      <td>12.58020</td>\n",
       "      <td>48.8777</td>\n",
       "      <td>Behringer (1987)</td>\n",
       "    </tr>\n",
       "    <tr>\n",
       "      <th>564</th>\n",
       "      <td>1445.0</td>\n",
       "      <td>1440</td>\n",
       "      <td>1400</td>\n",
       "      <td>2</td>\n",
       "      <td>2.0</td>\n",
       "      <td>Lindau</td>\n",
       "      <td>Mittelfranken</td>\n",
       "      <td>Bayern</td>\n",
       "      <td>Germany</td>\n",
       "      <td>9.67893</td>\n",
       "      <td>47.5798</td>\n",
       "      <td>Behringer (1987)</td>\n",
       "    </tr>\n",
       "    <tr>\n",
       "      <th>570</th>\n",
       "      <td>1467.0</td>\n",
       "      <td>1460</td>\n",
       "      <td>1400</td>\n",
       "      <td>1</td>\n",
       "      <td>1.0</td>\n",
       "      <td>Regensburg</td>\n",
       "      <td>Mittelfranken</td>\n",
       "      <td>Bayern</td>\n",
       "      <td>Germany</td>\n",
       "      <td>12.10160</td>\n",
       "      <td>49.0134</td>\n",
       "      <td>Behringer (1987)</td>\n",
       "    </tr>\n",
       "    <tr>\n",
       "      <th>573</th>\n",
       "      <td>1466.0</td>\n",
       "      <td>1460</td>\n",
       "      <td>1400</td>\n",
       "      <td>2</td>\n",
       "      <td>0.0</td>\n",
       "      <td>Aschau</td>\n",
       "      <td>Mittelfranken</td>\n",
       "      <td>Bayern</td>\n",
       "      <td>Germany</td>\n",
       "      <td>12.32250</td>\n",
       "      <td>47.7771</td>\n",
       "      <td>Behringer (1987)</td>\n",
       "    </tr>\n",
       "    <tr>\n",
       "      <th>...</th>\n",
       "      <td>...</td>\n",
       "      <td>...</td>\n",
       "      <td>...</td>\n",
       "      <td>...</td>\n",
       "      <td>...</td>\n",
       "      <td>...</td>\n",
       "      <td>...</td>\n",
       "      <td>...</td>\n",
       "      <td>...</td>\n",
       "      <td>...</td>\n",
       "      <td>...</td>\n",
       "      <td>...</td>\n",
       "    </tr>\n",
       "    <tr>\n",
       "      <th>10641</th>\n",
       "      <td>1643.0</td>\n",
       "      <td>1640</td>\n",
       "      <td>1600</td>\n",
       "      <td>1</td>\n",
       "      <td>0.0</td>\n",
       "      <td>Bruges</td>\n",
       "      <td>West-Vlaanderen</td>\n",
       "      <td>Vlaanderen</td>\n",
       "      <td>Belgium</td>\n",
       "      <td>3.22470</td>\n",
       "      <td>51.2094</td>\n",
       "      <td>Vanysacker (1988)</td>\n",
       "    </tr>\n",
       "    <tr>\n",
       "      <th>10642</th>\n",
       "      <td>1643.0</td>\n",
       "      <td>1640</td>\n",
       "      <td>1600</td>\n",
       "      <td>1</td>\n",
       "      <td>0.0</td>\n",
       "      <td>Bruges</td>\n",
       "      <td>West-Vlaanderen</td>\n",
       "      <td>Vlaanderen</td>\n",
       "      <td>Belgium</td>\n",
       "      <td>3.22470</td>\n",
       "      <td>51.2094</td>\n",
       "      <td>Vanysacker (1988)</td>\n",
       "    </tr>\n",
       "    <tr>\n",
       "      <th>10643</th>\n",
       "      <td>1649.0</td>\n",
       "      <td>1640</td>\n",
       "      <td>1600</td>\n",
       "      <td>1</td>\n",
       "      <td>0.0</td>\n",
       "      <td>Bruges</td>\n",
       "      <td>West-Vlaanderen</td>\n",
       "      <td>Vlaanderen</td>\n",
       "      <td>Belgium</td>\n",
       "      <td>3.22470</td>\n",
       "      <td>51.2094</td>\n",
       "      <td>Vanysacker (1988)</td>\n",
       "    </tr>\n",
       "    <tr>\n",
       "      <th>10644</th>\n",
       "      <td>1654.0</td>\n",
       "      <td>1650</td>\n",
       "      <td>1600</td>\n",
       "      <td>1</td>\n",
       "      <td>1.0</td>\n",
       "      <td>Bruges</td>\n",
       "      <td>West-Vlaanderen</td>\n",
       "      <td>Vlaanderen</td>\n",
       "      <td>Belgium</td>\n",
       "      <td>3.22470</td>\n",
       "      <td>51.2094</td>\n",
       "      <td>Vanysacker (1988)</td>\n",
       "    </tr>\n",
       "    <tr>\n",
       "      <th>10645</th>\n",
       "      <td>1657.0</td>\n",
       "      <td>1650</td>\n",
       "      <td>1600</td>\n",
       "      <td>1</td>\n",
       "      <td>0.0</td>\n",
       "      <td>Bruges</td>\n",
       "      <td>West-Vlaanderen</td>\n",
       "      <td>Vlaanderen</td>\n",
       "      <td>Belgium</td>\n",
       "      <td>3.22470</td>\n",
       "      <td>51.2094</td>\n",
       "      <td>Vanysacker (1988)</td>\n",
       "    </tr>\n",
       "  </tbody>\n",
       "</table>\n",
       "<p>2686 rows × 12 columns</p>\n",
       "</div>"
      ],
      "text/plain": [
       "         year  decade  century  tried  deaths        city        gadm.adm2  \\\n",
       "541    1590.0    1590     1500      6     6.0   Erolzheim         Freiburg   \n",
       "561    1435.0    1430     1400      1     1.0   Straubing    Mittelfranken   \n",
       "564    1445.0    1440     1400      2     2.0      Lindau    Mittelfranken   \n",
       "570    1467.0    1460     1400      1     1.0  Regensburg    Mittelfranken   \n",
       "573    1466.0    1460     1400      2     0.0      Aschau    Mittelfranken   \n",
       "...       ...     ...      ...    ...     ...         ...              ...   \n",
       "10641  1643.0    1640     1600      1     0.0      Bruges  West-Vlaanderen   \n",
       "10642  1643.0    1640     1600      1     0.0      Bruges  West-Vlaanderen   \n",
       "10643  1649.0    1640     1600      1     0.0      Bruges  West-Vlaanderen   \n",
       "10644  1654.0    1650     1600      1     1.0      Bruges  West-Vlaanderen   \n",
       "10645  1657.0    1650     1600      1     0.0      Bruges  West-Vlaanderen   \n",
       "\n",
       "               gadm.adm1 gadm.adm0       lon      lat      record.source  \n",
       "541    Baden-Wurttemberg   Germany  10.07080  48.0917   Behringer (1987)  \n",
       "561               Bayern   Germany  12.58020  48.8777   Behringer (1987)  \n",
       "564               Bayern   Germany   9.67893  47.5798   Behringer (1987)  \n",
       "570               Bayern   Germany  12.10160  49.0134   Behringer (1987)  \n",
       "573               Bayern   Germany  12.32250  47.7771   Behringer (1987)  \n",
       "...                  ...       ...       ...      ...                ...  \n",
       "10641         Vlaanderen   Belgium   3.22470  51.2094  Vanysacker (1988)  \n",
       "10642         Vlaanderen   Belgium   3.22470  51.2094  Vanysacker (1988)  \n",
       "10643         Vlaanderen   Belgium   3.22470  51.2094  Vanysacker (1988)  \n",
       "10644         Vlaanderen   Belgium   3.22470  51.2094  Vanysacker (1988)  \n",
       "10645         Vlaanderen   Belgium   3.22470  51.2094  Vanysacker (1988)  \n",
       "\n",
       "[2686 rows x 12 columns]"
      ]
     },
     "execution_count": 70,
     "metadata": {},
     "output_type": "execute_result"
    }
   ],
   "source": [
    "# Se renombra el campo de la ciudad ya uqe el nombre es poco intuitivo\n",
    "dfTrials.rename({'gadm.adm1':'city'})"
   ]
  },
  {
   "cell_type": "code",
   "execution_count": 71,
   "metadata": {},
   "outputs": [
    {
     "data": {
      "application/vnd.plotly.v1+json": {
       "config": {
        "plotlyServerURL": "https://plot.ly"
       },
       "data": [
        {
         "hovertemplate": "city=Erolzheim<br>deaths=%{marker.size}<br>lat=%{lat}<br>lon=%{lon}<extra></extra>",
         "lat": [
          48.0917
         ],
         "legendgroup": "Erolzheim",
         "lon": [
          10.0708
         ],
         "marker": {
          "color": "#636efa",
          "size": [
           6
          ],
          "sizemode": "area",
          "sizeref": 0.5475
         },
         "mode": "markers",
         "name": "Erolzheim",
         "showlegend": true,
         "subplot": "mapbox",
         "type": "scattermapbox"
        },
        {
         "hovertemplate": "city=Straubing<br>deaths=%{marker.size}<br>lat=%{lat}<br>lon=%{lon}<extra></extra>",
         "lat": [
          48.8777,
          48.8777,
          48.8777,
          48.8777,
          48.8777,
          48.8777,
          48.8777,
          48.8777,
          48.8777333
         ],
         "legendgroup": "Straubing",
         "lon": [
          12.5802,
          12.5802,
          12.5802,
          12.5802,
          12.5802,
          12.5802,
          12.5802,
          12.5802,
          12.5801538
         ],
         "marker": {
          "color": "#EF553B",
          "size": [
           1,
           0,
           1,
           0,
           1,
           1,
           2,
           1,
           1
          ],
          "sizemode": "area",
          "sizeref": 0.5475
         },
         "mode": "markers",
         "name": "Straubing",
         "showlegend": true,
         "subplot": "mapbox",
         "type": "scattermapbox"
        },
        {
         "hovertemplate": "city=Lindau<br>deaths=%{marker.size}<br>lat=%{lat}<br>lon=%{lon}<extra></extra>",
         "lat": [
          47.5798,
          47.5798,
          47.5798,
          47.5798
         ],
         "legendgroup": "Lindau",
         "lon": [
          9.67893,
          9.67893,
          9.67893,
          9.67893
         ],
         "marker": {
          "color": "#00cc96",
          "size": [
           2,
           1,
           1,
           1
          ],
          "sizemode": "area",
          "sizeref": 0.5475
         },
         "mode": "markers",
         "name": "Lindau",
         "showlegend": true,
         "subplot": "mapbox",
         "type": "scattermapbox"
        },
        {
         "hovertemplate": "city=Regensburg<br>deaths=%{marker.size}<br>lat=%{lat}<br>lon=%{lon}<extra></extra>",
         "lat": [
          49.0134,
          49.0134,
          49.0134,
          49.0134,
          49.0134,
          49.0134,
          49.0134,
          49.0134,
          49.0134297
         ],
         "legendgroup": "Regensburg",
         "lon": [
          12.1016,
          12.1016,
          12.1016,
          12.1016,
          12.1016,
          12.1016,
          12.1016,
          12.1016,
          12.1016236
         ],
         "marker": {
          "color": "#ab63fa",
          "size": [
           1,
           1,
           1,
           14,
           8,
           5,
           6,
           12,
           1
          ],
          "sizemode": "area",
          "sizeref": 0.5475
         },
         "mode": "markers",
         "name": "Regensburg",
         "showlegend": true,
         "subplot": "mapbox",
         "type": "scattermapbox"
        },
        {
         "hovertemplate": "city=Aschau<br>deaths=%{marker.size}<br>lat=%{lat}<br>lon=%{lon}<extra></extra>",
         "lat": [
          47.7771
         ],
         "legendgroup": "Aschau",
         "lon": [
          12.3225
         ],
         "marker": {
          "color": "#FFA15A",
          "size": [
           0
          ],
          "sizemode": "area",
          "sizeref": 0.5475
         },
         "mode": "markers",
         "name": "Aschau",
         "showlegend": true,
         "subplot": "mapbox",
         "type": "scattermapbox"
        },
        {
         "hovertemplate": "city=Immenstadt<br>deaths=%{marker.size}<br>lat=%{lat}<br>lon=%{lon}<extra></extra>",
         "lat": [
          47.5592
         ],
         "legendgroup": "Immenstadt",
         "lon": [
          10.2207
         ],
         "marker": {
          "color": "#19d3f3",
          "size": [
           1
          ],
          "sizemode": "area",
          "sizeref": 0.5475
         },
         "mode": "markers",
         "name": "Immenstadt",
         "showlegend": true,
         "subplot": "mapbox",
         "type": "scattermapbox"
        },
        {
         "hovertemplate": "city=Munich<br>deaths=%{marker.size}<br>lat=%{lat}<br>lon=%{lon}<extra></extra>",
         "lat": [
          48.1351,
          48.1351,
          48.1351,
          48.1351,
          48.1351,
          48.1351,
          48.1351,
          48.1351,
          48.1351,
          48.1351,
          48.1351,
          48.1351,
          48.1351,
          48.1351,
          48.1351,
          48.1351,
          48.1351
         ],
         "legendgroup": "Munich",
         "lon": [
          11.582,
          11.582,
          11.582,
          11.582,
          11.582,
          11.582,
          11.582,
          11.582,
          11.582,
          11.582,
          11.582,
          11.582,
          11.582,
          11.582,
          11.582,
          11.582,
          11.582
         ],
         "marker": {
          "color": "#FF6692",
          "size": [
           0,
           1,
           5,
           1,
           0,
           0,
           0,
           1,
           0,
           0,
           0,
           1,
           0,
           1,
           1,
           1,
           1
          ],
          "sizemode": "area",
          "sizeref": 0.5475
         },
         "mode": "markers",
         "name": "Munich",
         "showlegend": true,
         "subplot": "mapbox",
         "type": "scattermapbox"
        },
        {
         "hovertemplate": "city=Weissenhorn<br>deaths=%{marker.size}<br>lat=%{lat}<br>lon=%{lon}<extra></extra>",
         "lat": [
          48.3037
         ],
         "legendgroup": "Weissenhorn",
         "lon": [
          10.1561
         ],
         "marker": {
          "color": "#B6E880",
          "size": [
           1
          ],
          "sizemode": "area",
          "sizeref": 0.5475
         },
         "mode": "markers",
         "name": "Weissenhorn",
         "showlegend": true,
         "subplot": "mapbox",
         "type": "scattermapbox"
        },
        {
         "hovertemplate": "city=Spalt<br>deaths=%{marker.size}<br>lat=%{lat}<br>lon=%{lon}<extra></extra>",
         "lat": [
          49.1746,
          49.1746
         ],
         "legendgroup": "Spalt",
         "lon": [
          10.9262,
          10.9262
         ],
         "marker": {
          "color": "#FF97FF",
          "size": [
           1,
           1
          ],
          "sizemode": "area",
          "sizeref": 0.5475
         },
         "mode": "markers",
         "name": "Spalt",
         "showlegend": true,
         "subplot": "mapbox",
         "type": "scattermapbox"
        },
        {
         "hovertemplate": "city=Augsburg<br>deaths=%{marker.size}<br>lat=%{lat}<br>lon=%{lon}<extra></extra>",
         "lat": [
          48.3705,
          48.3705,
          48.3705,
          48.3705,
          48.3705,
          48.3705,
          48.3705,
          48.3705,
          48.3705,
          48.3705,
          48.3705,
          48.3705,
          48.3705,
          48.3705,
          48.3705,
          48.3705449,
          48.3705449,
          48.3705449
         ],
         "legendgroup": "Augsburg",
         "lon": [
          10.8978,
          10.8978,
          10.8978,
          10.8978,
          10.8978,
          10.8978,
          10.8978,
          10.8978,
          10.8978,
          10.8978,
          10.8978,
          10.8978,
          10.8978,
          10.8978,
          10.8978,
          10.89779,
          10.89779,
          10.89779
         ],
         "marker": {
          "color": "#FECB52",
          "size": [
           1,
           5,
           1,
           1,
           1,
           2,
           1,
           1,
           1,
           1,
           3,
           4,
           1,
           2,
           1,
           0,
           0,
           0
          ],
          "sizemode": "area",
          "sizeref": 0.5475
         },
         "mode": "markers",
         "name": "Augsburg",
         "showlegend": true,
         "subplot": "mapbox",
         "type": "scattermapbox"
        },
        {
         "hovertemplate": "city=Hochstadt an der Donau<br>deaths=%{marker.size}<br>lat=%{lat}<br>lon=%{lon}<extra></extra>",
         "lat": [
          48.6147,
          48.6147,
          48.6147
         ],
         "legendgroup": "Hochstadt an der Donau",
         "lon": [
          10.5672,
          10.5672,
          10.5672
         ],
         "marker": {
          "color": "#636efa",
          "size": [
           1,
           5,
           1
          ],
          "sizemode": "area",
          "sizeref": 0.5475
         },
         "mode": "markers",
         "name": "Hochstadt an der Donau",
         "showlegend": true,
         "subplot": "mapbox",
         "type": "scattermapbox"
        },
        {
         "hovertemplate": "city=Dillingen an der Donau<br>deaths=%{marker.size}<br>lat=%{lat}<br>lon=%{lon}<extra></extra>",
         "lat": [
          48.5791,
          48.5791,
          48.5791,
          48.5791,
          48.5791,
          48.5791,
          48.5791,
          48.5791,
          48.5791,
          48.5791,
          48.5791,
          48.5791,
          48.5791,
          48.5791,
          48.5791,
          48.5791,
          48.5791
         ],
         "legendgroup": "Dillingen an der Donau",
         "lon": [
          10.494,
          10.494,
          10.494,
          10.494,
          10.494,
          10.494,
          10.494,
          10.494,
          10.494,
          10.494,
          10.494,
          10.494,
          10.494,
          10.494,
          10.494,
          10.494,
          10.494
         ],
         "marker": {
          "color": "#EF553B",
          "size": [
           1,
           1,
           1,
           7,
           9,
           1,
           1,
           2,
           8,
           6,
           1,
           1,
           1,
           2,
           3,
           1,
           1
          ],
          "sizemode": "area",
          "sizeref": 0.5475
         },
         "mode": "markers",
         "name": "Dillingen an der Donau",
         "showlegend": true,
         "subplot": "mapbox",
         "type": "scattermapbox"
        },
        {
         "hovertemplate": "city=Memmingen<br>deaths=%{marker.size}<br>lat=%{lat}<br>lon=%{lon}<extra></extra>",
         "lat": [
          47.9838,
          47.9838,
          47.9838,
          47.9838,
          47.9838,
          47.9838,
          47.9838,
          47.9838,
          47.9838
         ],
         "legendgroup": "Memmingen",
         "lon": [
          10.1802,
          10.1802,
          10.1802,
          10.1802,
          10.1802,
          10.1802,
          10.1802,
          10.1802,
          10.1802
         ],
         "marker": {
          "color": "#00cc96",
          "size": [
           10,
           3,
           1,
           1,
           1,
           3,
           2,
           10,
           5
          ],
          "sizemode": "area",
          "sizeref": 0.5475
         },
         "mode": "markers",
         "name": "Memmingen",
         "showlegend": true,
         "subplot": "mapbox",
         "type": "scattermapbox"
        },
        {
         "hovertemplate": "city=Rettenberg<br>deaths=%{marker.size}<br>lat=%{lat}<br>lon=%{lon}<extra></extra>",
         "lat": [
          47.5743,
          47.5743,
          47.5743,
          47.5743
         ],
         "legendgroup": "Rettenberg",
         "lon": [
          10.2922,
          10.2922,
          10.2922,
          10.2922
         ],
         "marker": {
          "color": "#ab63fa",
          "size": [
           1,
           2,
           25,
           9
          ],
          "sizemode": "area",
          "sizeref": 0.5475
         },
         "mode": "markers",
         "name": "Rettenberg",
         "showlegend": true,
         "subplot": "mapbox",
         "type": "scattermapbox"
        },
        {
         "hovertemplate": "city=Pfaffenhofen<br>deaths=%{marker.size}<br>lat=%{lat}<br>lon=%{lon}<extra></extra>",
         "lat": [
          48.5325,
          48.5325,
          48.5325,
          48.5325,
          48.5325,
          48.5325,
          48.5325,
          48.5325
         ],
         "legendgroup": "Pfaffenhofen",
         "lon": [
          11.4977,
          11.4977,
          11.4977,
          11.4977,
          11.4977,
          11.4977,
          11.4977,
          11.4977
         ],
         "marker": {
          "color": "#FFA15A",
          "size": [
           0,
           0,
           0,
           0,
           0,
           0,
           0,
           0
          ],
          "sizemode": "area",
          "sizeref": 0.5475
         },
         "mode": "markers",
         "name": "Pfaffenhofen",
         "showlegend": true,
         "subplot": "mapbox",
         "type": "scattermapbox"
        },
        {
         "hovertemplate": "city=Burgau<br>deaths=%{marker.size}<br>lat=%{lat}<br>lon=%{lon}<extra></extra>",
         "lat": [
          48.4302,
          48.4302,
          48.4302
         ],
         "legendgroup": "Burgau",
         "lon": [
          10.4108,
          10.4108,
          10.4108
         ],
         "marker": {
          "color": "#19d3f3",
          "size": [
           6,
           4,
           6
          ],
          "sizemode": "area",
          "sizeref": 0.5475
         },
         "mode": "markers",
         "name": "Burgau",
         "showlegend": true,
         "subplot": "mapbox",
         "type": "scattermapbox"
        },
        {
         "hovertemplate": "city=Rain<br>deaths=%{marker.size}<br>lat=%{lat}<br>lon=%{lon}<extra></extra>",
         "lat": [
          48.6902,
          48.6902,
          48.6902,
          48.6902,
          48.6902,
          48.6902,
          48.6902
         ],
         "legendgroup": "Rain",
         "lon": [
          10.9209,
          10.9209,
          10.9209,
          10.9209,
          10.9209,
          10.9209,
          10.9209
         ],
         "marker": {
          "color": "#FF6692",
          "size": [
           2,
           1,
           5,
           0,
           0,
           0,
           2
          ],
          "sizemode": "area",
          "sizeref": 0.5475
         },
         "mode": "markers",
         "name": "Rain",
         "showlegend": true,
         "subplot": "mapbox",
         "type": "scattermapbox"
        },
        {
         "hovertemplate": "city=Lauingen<br>deaths=%{marker.size}<br>lat=%{lat}<br>lon=%{lon}<extra></extra>",
         "lat": [
          48.5703,
          48.5703,
          48.5703
         ],
         "legendgroup": "Lauingen",
         "lon": [
          10.43,
          10.43,
          10.43
         ],
         "marker": {
          "color": "#B6E880",
          "size": [
           1,
           2,
           1
          ],
          "sizemode": "area",
          "sizeref": 0.5475
         },
         "mode": "markers",
         "name": "Lauingen",
         "showlegend": true,
         "subplot": "mapbox",
         "type": "scattermapbox"
        },
        {
         "hovertemplate": "city=Wallerstein<br>deaths=%{marker.size}<br>lat=%{lat}<br>lon=%{lon}<extra></extra>",
         "lat": [
          48.8887,
          48.8887,
          48.8887,
          48.8887,
          48.8887
         ],
         "legendgroup": "Wallerstein",
         "lon": [
          10.4738,
          10.4738,
          10.4738,
          10.4738,
          10.4738
         ],
         "marker": {
          "color": "#FF97FF",
          "size": [
           13,
           25,
           1,
           1,
           20
          ],
          "sizemode": "area",
          "sizeref": 0.5475
         },
         "mode": "markers",
         "name": "Wallerstein",
         "showlegend": true,
         "subplot": "mapbox",
         "type": "scattermapbox"
        },
        {
         "hovertemplate": "city=Schwabmunchen<br>deaths=%{marker.size}<br>lat=%{lat}<br>lon=%{lon}<extra></extra>",
         "lat": [
          48.18,
          48.18,
          48.18,
          48.18,
          48.18
         ],
         "legendgroup": "Schwabmunchen",
         "lon": [
          10.7557,
          10.7557,
          10.7557,
          10.7557,
          10.7557
         ],
         "marker": {
          "color": "#FECB52",
          "size": [
           27,
           11,
           11,
           1,
           3
          ],
          "sizemode": "area",
          "sizeref": 0.5475
         },
         "mode": "markers",
         "name": "Schwabmunchen",
         "showlegend": true,
         "subplot": "mapbox",
         "type": "scattermapbox"
        },
        {
         "hovertemplate": "city=Tapfheim<br>deaths=%{marker.size}<br>lat=%{lat}<br>lon=%{lon}<extra></extra>",
         "lat": [
          48.6737
         ],
         "legendgroup": "Tapfheim",
         "lon": [
          10.6854
         ],
         "marker": {
          "color": "#636efa",
          "size": [
           2
          ],
          "sizemode": "area",
          "sizeref": 0.5475
         },
         "mode": "markers",
         "name": "Tapfheim",
         "showlegend": true,
         "subplot": "mapbox",
         "type": "scattermapbox"
        },
        {
         "hovertemplate": "city=Schongau<br>deaths=%{marker.size}<br>lat=%{lat}<br>lon=%{lon}<extra></extra>",
         "lat": [
          47.815,
          47.815
         ],
         "legendgroup": "Schongau",
         "lon": [
          10.8943,
          10.8943
         ],
         "marker": {
          "color": "#EF553B",
          "size": [
           7,
           63
          ],
          "sizemode": "area",
          "sizeref": 0.5475
         },
         "mode": "markers",
         "name": "Schongau",
         "showlegend": true,
         "subplot": "mapbox",
         "type": "scattermapbox"
        },
        {
         "hovertemplate": "city=Ingolstadt<br>deaths=%{marker.size}<br>lat=%{lat}<br>lon=%{lon}<extra></extra>",
         "lat": [
          48.7665,
          48.7665,
          48.7665,
          48.7665,
          48.7665,
          48.7665
         ],
         "legendgroup": "Ingolstadt",
         "lon": [
          11.4258,
          11.4258,
          11.4258,
          11.4258,
          11.4258,
          11.4258
         ],
         "marker": {
          "color": "#00cc96",
          "size": [
           22,
           5,
           0,
           1,
           0,
           1
          ],
          "sizemode": "area",
          "sizeref": 0.5475
         },
         "mode": "markers",
         "name": "Ingolstadt",
         "showlegend": true,
         "subplot": "mapbox",
         "type": "scattermapbox"
        },
        {
         "hovertemplate": "city=Freising<br>deaths=%{marker.size}<br>lat=%{lat}<br>lon=%{lon}<extra></extra>",
         "lat": [
          48.4029,
          48.4029,
          48.4029,
          48.4029,
          48.4029,
          48.4029,
          48.4029,
          48.4029
         ],
         "legendgroup": "Freising",
         "lon": [
          11.7412,
          11.7412,
          11.7412,
          11.7412,
          11.7412,
          11.7412,
          11.7412,
          11.7412
         ],
         "marker": {
          "color": "#ab63fa",
          "size": [
           52,
           20,
           2,
           3,
           7,
           5,
           11,
           2
          ],
          "sizemode": "area",
          "sizeref": 0.5475
         },
         "mode": "markers",
         "name": "Freising",
         "showlegend": true,
         "subplot": "mapbox",
         "type": "scattermapbox"
        },
        {
         "hovertemplate": "city=Vohburg<br>deaths=%{marker.size}<br>lat=%{lat}<br>lon=%{lon}<extra></extra>",
         "lat": [
          48.766,
          48.766,
          48.766,
          48.766,
          48.766,
          48.766,
          48.766,
          48.766
         ],
         "legendgroup": "Vohburg",
         "lon": [
          11.6227,
          11.6227,
          11.6227,
          11.6227,
          11.6227,
          11.6227,
          11.6227,
          11.6227
         ],
         "marker": {
          "color": "#FFA15A",
          "size": [
           1,
           0,
           0,
           1,
           0,
           0,
           0,
           0
          ],
          "sizemode": "area",
          "sizeref": 0.5475
         },
         "mode": "markers",
         "name": "Vohburg",
         "showlegend": true,
         "subplot": "mapbox",
         "type": "scattermapbox"
        },
        {
         "hovertemplate": "city=Weilheim<br>deaths=%{marker.size}<br>lat=%{lat}<br>lon=%{lon}<extra></extra>",
         "lat": [
          47.8407,
          47.8407,
          47.8407,
          47.8407,
          47.8407,
          47.8407,
          47.8407,
          47.8407,
          47.8407,
          47.8407,
          47.8407,
          47.8407,
          47.8407,
          47.8407
         ],
         "legendgroup": "Weilheim",
         "lon": [
          11.1421,
          11.1421,
          11.1421,
          11.1421,
          11.1421,
          11.1421,
          11.1421,
          11.1421,
          11.1421,
          11.1421,
          11.1421,
          11.1421,
          11.1421,
          11.1421
         ],
         "marker": {
          "color": "#19d3f3",
          "size": [
           2,
           2,
           0,
           0,
           0,
           0,
           0,
           0,
           0,
           0,
           0,
           0,
           1,
           0
          ],
          "sizemode": "area",
          "sizeref": 0.5475
         },
         "mode": "markers",
         "name": "Weilheim",
         "showlegend": true,
         "subplot": "mapbox",
         "type": "scattermapbox"
        },
        {
         "hovertemplate": "city=Zusmarshausen<br>deaths=%{marker.size}<br>lat=%{lat}<br>lon=%{lon}<extra></extra>",
         "lat": [
          48.3983,
          48.3983
         ],
         "legendgroup": "Zusmarshausen",
         "lon": [
          10.5995,
          10.5995
         ],
         "marker": {
          "color": "#FF6692",
          "size": [
           2,
           3
          ],
          "sizemode": "area",
          "sizeref": 0.5475
         },
         "mode": "markers",
         "name": "Zusmarshausen",
         "showlegend": true,
         "subplot": "mapbox",
         "type": "scattermapbox"
        },
        {
         "hovertemplate": "city=Marktoberdorf<br>deaths=%{marker.size}<br>lat=%{lat}<br>lon=%{lon}<extra></extra>",
         "lat": [
          47.7785,
          47.7785,
          47.7785
         ],
         "legendgroup": "Marktoberdorf",
         "lon": [
          10.6158,
          10.6158,
          10.6158
         ],
         "marker": {
          "color": "#B6E880",
          "size": [
           68,
           27,
           14
          ],
          "sizemode": "area",
          "sizeref": 0.5475
         },
         "mode": "markers",
         "name": "Marktoberdorf",
         "showlegend": true,
         "subplot": "mapbox",
         "type": "scattermapbox"
        },
        {
         "hovertemplate": "city=Osterzell<br>deaths=%{marker.size}<br>lat=%{lat}<br>lon=%{lon}<extra></extra>",
         "lat": [
          47.8779
         ],
         "legendgroup": "Osterzell",
         "lon": [
          10.7446
         ],
         "marker": {
          "color": "#FF97FF",
          "size": [
           9
          ],
          "sizemode": "area",
          "sizeref": 0.5475
         },
         "mode": "markers",
         "name": "Osterzell",
         "showlegend": true,
         "subplot": "mapbox",
         "type": "scattermapbox"
        },
        {
         "hovertemplate": "city=Donauworth<br>deaths=%{marker.size}<br>lat=%{lat}<br>lon=%{lon}<extra></extra>",
         "lat": [
          48.7186,
          48.7186,
          48.7186,
          48.7186,
          48.7186,
          48.7186,
          48.7186,
          48.7186,
          48.7186,
          48.7186,
          48.7186,
          48.7186,
          48.7186,
          48.7186
         ],
         "legendgroup": "Donauworth",
         "lon": [
          10.7778,
          10.7778,
          10.7778,
          10.7778,
          10.7778,
          10.7778,
          10.7778,
          10.7778,
          10.7778,
          10.7778,
          10.7778,
          10.7778,
          10.7778,
          10.7778
         ],
         "marker": {
          "color": "#FECB52",
          "size": [
           2,
           1,
           1,
           2,
           2,
           2,
           0,
           1,
           0,
           0,
           1,
           1,
           1,
           1
          ],
          "sizemode": "area",
          "sizeref": 0.5475
         },
         "mode": "markers",
         "name": "Donauworth",
         "showlegend": true,
         "subplot": "mapbox",
         "type": "scattermapbox"
        },
        {
         "hovertemplate": "city=Nordlingen<br>deaths=%{marker.size}<br>lat=%{lat}<br>lon=%{lon}<extra></extra>",
         "lat": [
          48.8508,
          48.8508,
          48.8508,
          48.8508,
          48.8508157,
          48.8508
         ],
         "legendgroup": "Nordlingen",
         "lon": [
          10.4895,
          10.4895,
          10.4895,
          10.4895,
          10.4894906,
          10.4895
         ],
         "marker": {
          "color": "#636efa",
          "size": [
           36,
           14,
           2,
           2,
           0,
           35
          ],
          "sizemode": "area",
          "sizeref": 0.5475
         },
         "mode": "markers",
         "name": "Nordlingen",
         "showlegend": true,
         "subplot": "mapbox",
         "type": "scattermapbox"
        },
        {
         "hovertemplate": "city=Kellmunz<br>deaths=%{marker.size}<br>lat=%{lat}<br>lon=%{lon}<extra></extra>",
         "lat": [
          48.1225
         ],
         "legendgroup": "Kellmunz",
         "lon": [
          10.1271
         ],
         "marker": {
          "color": "#EF553B",
          "size": [
           5
          ],
          "sizemode": "area",
          "sizeref": 0.5475
         },
         "mode": "markers",
         "name": "Kellmunz",
         "showlegend": true,
         "subplot": "mapbox",
         "type": "scattermapbox"
        },
        {
         "hovertemplate": "city=Unterfohring<br>deaths=%{marker.size}<br>lat=%{lat}<br>lon=%{lon}<extra></extra>",
         "lat": [
          48.1917
         ],
         "legendgroup": "Unterfohring",
         "lon": [
          11.646
         ],
         "marker": {
          "color": "#00cc96",
          "size": [
           4
          ],
          "sizemode": "area",
          "sizeref": 0.5475
         },
         "mode": "markers",
         "name": "Unterfohring",
         "showlegend": true,
         "subplot": "mapbox",
         "type": "scattermapbox"
        },
        {
         "hovertemplate": "city=Grossaitingen<br>deaths=%{marker.size}<br>lat=%{lat}<br>lon=%{lon}<extra></extra>",
         "lat": [
          48.2281
         ],
         "legendgroup": "Grossaitingen",
         "lon": [
          10.7777
         ],
         "marker": {
          "color": "#ab63fa",
          "size": [
           1
          ],
          "sizemode": "area",
          "sizeref": 0.5475
         },
         "mode": "markers",
         "name": "Grossaitingen",
         "showlegend": true,
         "subplot": "mapbox",
         "type": "scattermapbox"
        },
        {
         "hovertemplate": "city=Kaufbeuren<br>deaths=%{marker.size}<br>lat=%{lat}<br>lon=%{lon}<extra></extra>",
         "lat": [
          47.883
         ],
         "legendgroup": "Kaufbeuren",
         "lon": [
          10.626
         ],
         "marker": {
          "color": "#FFA15A",
          "size": [
           13
          ],
          "sizemode": "area",
          "sizeref": 0.5475
         },
         "mode": "markers",
         "name": "Kaufbeuren",
         "showlegend": true,
         "subplot": "mapbox",
         "type": "scattermapbox"
        },
        {
         "hovertemplate": "city=Durrwangen<br>deaths=%{marker.size}<br>lat=%{lat}<br>lon=%{lon}<extra></extra>",
         "lat": [
          49.1075
         ],
         "legendgroup": "Durrwangen",
         "lon": [
          10.385
         ],
         "marker": {
          "color": "#19d3f3",
          "size": [
           2
          ],
          "sizemode": "area",
          "sizeref": 0.5475
         },
         "mode": "markers",
         "name": "Durrwangen",
         "showlegend": true,
         "subplot": "mapbox",
         "type": "scattermapbox"
        },
        {
         "hovertemplate": "city=Nesselwang<br>deaths=%{marker.size}<br>lat=%{lat}<br>lon=%{lon}<extra></extra>",
         "lat": [
          47.6233
         ],
         "legendgroup": "Nesselwang",
         "lon": [
          10.5037
         ],
         "marker": {
          "color": "#FF6692",
          "size": [
           1
          ],
          "sizemode": "area",
          "sizeref": 0.5475
         },
         "mode": "markers",
         "name": "Nesselwang",
         "showlegend": true,
         "subplot": "mapbox",
         "type": "scattermapbox"
        },
        {
         "hovertemplate": "city=Dinkelscherben<br>deaths=%{marker.size}<br>lat=%{lat}<br>lon=%{lon}<extra></extra>",
         "lat": [
          48.3476
         ],
         "legendgroup": "Dinkelscherben",
         "lon": [
          10.5898
         ],
         "marker": {
          "color": "#B6E880",
          "size": [
           1
          ],
          "sizemode": "area",
          "sizeref": 0.5475
         },
         "mode": "markers",
         "name": "Dinkelscherben",
         "showlegend": true,
         "subplot": "mapbox",
         "type": "scattermapbox"
        },
        {
         "hovertemplate": "city=Abensberg<br>deaths=%{marker.size}<br>lat=%{lat}<br>lon=%{lon}<extra></extra>",
         "lat": [
          48.8177,
          48.8177,
          48.8177,
          48.8177,
          48.8177
         ],
         "legendgroup": "Abensberg",
         "lon": [
          11.8508,
          11.8508,
          11.8508,
          11.8508,
          11.8508
         ],
         "marker": {
          "color": "#FF97FF",
          "size": [
           1,
           0,
           0,
           0,
           0
          ],
          "sizemode": "area",
          "sizeref": 0.5475
         },
         "mode": "markers",
         "name": "Abensberg",
         "showlegend": true,
         "subplot": "mapbox",
         "type": "scattermapbox"
        },
        {
         "hovertemplate": "city=Landshut<br>deaths=%{marker.size}<br>lat=%{lat}<br>lon=%{lon}<extra></extra>",
         "lat": [
          48.5442,
          48.5442,
          48.5442,
          48.5442,
          48.5442,
          48.5442,
          48.5442,
          48.5442,
          48.544192
         ],
         "legendgroup": "Landshut",
         "lon": [
          12.1469,
          12.1469,
          12.1469,
          12.1469,
          12.1469,
          12.1469,
          12.1469,
          12.1469,
          12.146853
         ],
         "marker": {
          "color": "#FECB52",
          "size": [
           2,
           1,
           1,
           0,
           2,
           1,
           1,
           1,
           0
          ],
          "sizemode": "area",
          "sizeref": 0.5475
         },
         "mode": "markers",
         "name": "Landshut",
         "showlegend": true,
         "subplot": "mapbox",
         "type": "scattermapbox"
        },
        {
         "hovertemplate": "city=Wemding<br>deaths=%{marker.size}<br>lat=%{lat}<br>lon=%{lon}<extra></extra>",
         "lat": [
          48.8722,
          48.8722,
          48.8722,
          48.8722,
          48.8722,
          48.8722,
          48.8722,
          48.8722
         ],
         "legendgroup": "Wemding",
         "lon": [
          10.7223,
          10.7223,
          10.7223,
          10.7223,
          10.7223,
          10.7223,
          10.7223,
          10.7223
         ],
         "marker": {
          "color": "#636efa",
          "size": [
           10,
           2,
           1,
           40,
           29,
           2,
           0,
           0
          ],
          "sizemode": "area",
          "sizeref": 0.5475
         },
         "mode": "markers",
         "name": "Wemding",
         "showlegend": true,
         "subplot": "mapbox",
         "type": "scattermapbox"
        },
        {
         "hovertemplate": "city=Thannhausen<br>deaths=%{marker.size}<br>lat=%{lat}<br>lon=%{lon}<extra></extra>",
         "lat": [
          48.2814,
          48.2814,
          48.2814,
          48.2814,
          48.2814,
          48.2814,
          48.2814,
          48.2814,
          48.2814,
          48.2814,
          48.2814,
          48.2814,
          48.2814,
          48.2814,
          48.2814,
          48.2814,
          48.2814,
          48.2814
         ],
         "legendgroup": "Thannhausen",
         "lon": [
          10.4675,
          10.4675,
          10.4675,
          10.4675,
          10.4675,
          10.4675,
          10.4675,
          10.4675,
          10.4675,
          10.4675,
          10.4675,
          10.4675,
          10.4675,
          10.4675,
          10.4675,
          10.4675,
          10.4675,
          10.4675
         ],
         "marker": {
          "color": "#EF553B",
          "size": [
           0,
           0,
           1,
           0,
           0,
           0,
           0,
           0,
           0,
           0,
           0,
           0,
           0,
           1,
           0,
           0,
           0,
           0
          ],
          "sizemode": "area",
          "sizeref": 0.5475
         },
         "mode": "markers",
         "name": "Thannhausen",
         "showlegend": true,
         "subplot": "mapbox",
         "type": "scattermapbox"
        },
        {
         "hovertemplate": "city=Traunstein<br>deaths=%{marker.size}<br>lat=%{lat}<br>lon=%{lon}<extra></extra>",
         "lat": [
          47.8678,
          47.8678,
          47.8678,
          47.8678,
          47.8678,
          47.8678
         ],
         "legendgroup": "Traunstein",
         "lon": [
          12.6384,
          12.6384,
          12.6384,
          12.6384,
          12.6384,
          12.6384
         ],
         "marker": {
          "color": "#00cc96",
          "size": [
           0,
           0,
           0,
           0,
           0,
           0
          ],
          "sizemode": "area",
          "sizeref": 0.5475
         },
         "mode": "markers",
         "name": "Traunstein",
         "showlegend": true,
         "subplot": "mapbox",
         "type": "scattermapbox"
        },
        {
         "hovertemplate": "city=Hemau<br>deaths=%{marker.size}<br>lat=%{lat}<br>lon=%{lon}<extra></extra>",
         "lat": [
          49.0534,
          49.0534,
          49.0534,
          49.0534,
          49.0534
         ],
         "legendgroup": "Hemau",
         "lon": [
          11.7833,
          11.7833,
          11.7833,
          11.7833,
          11.7833
         ],
         "marker": {
          "color": "#ab63fa",
          "size": [
           1,
           6,
           1,
           5,
           2
          ],
          "sizemode": "area",
          "sizeref": 0.5475
         },
         "mode": "markers",
         "name": "Hemau",
         "showlegend": true,
         "subplot": "mapbox",
         "type": "scattermapbox"
        },
        {
         "hovertemplate": "city=Pfronten<br>deaths=%{marker.size}<br>lat=%{lat}<br>lon=%{lon}<extra></extra>",
         "lat": [
          47.5833,
          47.5833
         ],
         "legendgroup": "Pfronten",
         "lon": [
          10.55,
          10.55
         ],
         "marker": {
          "color": "#FFA15A",
          "size": [
           1,
           1
          ],
          "sizemode": "area",
          "sizeref": 0.5475
         },
         "mode": "markers",
         "name": "Pfronten",
         "showlegend": true,
         "subplot": "mapbox",
         "type": "scattermapbox"
        },
        {
         "hovertemplate": "city=Salzweg<br>deaths=%{marker.size}<br>lat=%{lat}<br>lon=%{lon}<extra></extra>",
         "lat": [
          48.6148
         ],
         "legendgroup": "Salzweg",
         "lon": [
          13.4851
         ],
         "marker": {
          "color": "#19d3f3",
          "size": [
           20
          ],
          "sizemode": "area",
          "sizeref": 0.5475
         },
         "mode": "markers",
         "name": "Salzweg",
         "showlegend": true,
         "subplot": "mapbox",
         "type": "scattermapbox"
        },
        {
         "hovertemplate": "city=Bad Tolz<br>deaths=%{marker.size}<br>lat=%{lat}<br>lon=%{lon}<extra></extra>",
         "lat": [
          47.7615,
          47.7615,
          47.7615,
          47.7615
         ],
         "legendgroup": "Bad Tolz",
         "lon": [
          11.5652,
          11.5652,
          11.5652,
          11.5652
         ],
         "marker": {
          "color": "#FF6692",
          "size": [
           1,
           0,
           0,
           0
          ],
          "sizemode": "area",
          "sizeref": 0.5475
         },
         "mode": "markers",
         "name": "Bad Tolz",
         "showlegend": true,
         "subplot": "mapbox",
         "type": "scattermapbox"
        },
        {
         "hovertemplate": "city=Laaber<br>deaths=%{marker.size}<br>lat=%{lat}<br>lon=%{lon}<extra></extra>",
         "lat": [
          49.0683
         ],
         "legendgroup": "Laaber",
         "lon": [
          11.8831
         ],
         "marker": {
          "color": "#B6E880",
          "size": [
           1
          ],
          "sizemode": "area",
          "sizeref": 0.5475
         },
         "mode": "markers",
         "name": "Laaber",
         "showlegend": true,
         "subplot": "mapbox",
         "type": "scattermapbox"
        },
        {
         "hovertemplate": "city=Wengen<br>deaths=%{marker.size}<br>lat=%{lat}<br>lon=%{lon}<extra></extra>",
         "lat": [
          47.6764,
          47.6764,
          47.6764
         ],
         "legendgroup": "Wengen",
         "lon": [
          10.1466,
          10.1466,
          10.1466
         ],
         "marker": {
          "color": "#FF97FF",
          "size": [
           4,
           5,
           2
          ],
          "sizemode": "area",
          "sizeref": 0.5475
         },
         "mode": "markers",
         "name": "Wengen",
         "showlegend": true,
         "subplot": "mapbox",
         "type": "scattermapbox"
        },
        {
         "hovertemplate": "city=Zwiesel<br>deaths=%{marker.size}<br>lat=%{lat}<br>lon=%{lon}<extra></extra>",
         "lat": [
          49.0178,
          49.0178
         ],
         "legendgroup": "Zwiesel",
         "lon": [
          13.2379,
          13.2379
         ],
         "marker": {
          "color": "#FECB52",
          "size": [
           1,
           1
          ],
          "sizemode": "area",
          "sizeref": 0.5475
         },
         "mode": "markers",
         "name": "Zwiesel",
         "showlegend": true,
         "subplot": "mapbox",
         "type": "scattermapbox"
        },
        {
         "hovertemplate": "city=Mainburg<br>deaths=%{marker.size}<br>lat=%{lat}<br>lon=%{lon}<extra></extra>",
         "lat": [
          48.6431,
          48.6431,
          48.6431
         ],
         "legendgroup": "Mainburg",
         "lon": [
          11.7817,
          11.7817,
          11.7817
         ],
         "marker": {
          "color": "#636efa",
          "size": [
           0,
           0,
           0
          ],
          "sizemode": "area",
          "sizeref": 0.5475
         },
         "mode": "markers",
         "name": "Mainburg",
         "showlegend": true,
         "subplot": "mapbox",
         "type": "scattermapbox"
        },
        {
         "hovertemplate": "city=Riedenburg<br>deaths=%{marker.size}<br>lat=%{lat}<br>lon=%{lon}<extra></extra>",
         "lat": [
          48.9637,
          48.9637,
          48.9637,
          48.9637
         ],
         "legendgroup": "Riedenburg",
         "lon": [
          11.6918,
          11.6918,
          11.6918,
          11.6918
         ],
         "marker": {
          "color": "#EF553B",
          "size": [
           0,
           0,
           0,
           0
          ],
          "sizemode": "area",
          "sizeref": 0.5475
         },
         "mode": "markers",
         "name": "Riedenburg",
         "showlegend": true,
         "subplot": "mapbox",
         "type": "scattermapbox"
        },
        {
         "hovertemplate": "city=Bad Aibling<br>deaths=%{marker.size}<br>lat=%{lat}<br>lon=%{lon}<extra></extra>",
         "lat": [
          47.864,
          47.864,
          47.864,
          47.864,
          47.864,
          47.864
         ],
         "legendgroup": "Bad Aibling",
         "lon": [
          12.0093,
          12.0093,
          12.0093,
          12.0093,
          12.0093,
          12.0093
         ],
         "marker": {
          "color": "#00cc96",
          "size": [
           0,
           0,
           0,
           0,
           0,
           1
          ],
          "sizemode": "area",
          "sizeref": 0.5475
         },
         "mode": "markers",
         "name": "Bad Aibling",
         "showlegend": true,
         "subplot": "mapbox",
         "type": "scattermapbox"
        },
        {
         "hovertemplate": "city=Dachau<br>deaths=%{marker.size}<br>lat=%{lat}<br>lon=%{lon}<extra></extra>",
         "lat": [
          48.263,
          48.263,
          48.263,
          48.263,
          48.263,
          48.263,
          48.263,
          48.263,
          48.263
         ],
         "legendgroup": "Dachau",
         "lon": [
          11.4339,
          11.4339,
          11.4339,
          11.4339,
          11.4339,
          11.4339,
          11.4339,
          11.4339,
          11.4339
         ],
         "marker": {
          "color": "#ab63fa",
          "size": [
           0,
           0,
           0,
           1,
           0,
           0,
           0,
           0,
           1
          ],
          "sizemode": "area",
          "sizeref": 0.5475
         },
         "mode": "markers",
         "name": "Dachau",
         "showlegend": true,
         "subplot": "mapbox",
         "type": "scattermapbox"
        },
        {
         "hovertemplate": "city=Deggendorf<br>deaths=%{marker.size}<br>lat=%{lat}<br>lon=%{lon}<extra></extra>",
         "lat": [
          48.8409,
          48.8409
         ],
         "legendgroup": "Deggendorf",
         "lon": [
          12.9575,
          12.9575
         ],
         "marker": {
          "color": "#FFA15A",
          "size": [
           6,
           0
          ],
          "sizemode": "area",
          "sizeref": 0.5475
         },
         "mode": "markers",
         "name": "Deggendorf",
         "showlegend": true,
         "subplot": "mapbox",
         "type": "scattermapbox"
        },
        {
         "hovertemplate": "city=Wasserburg am Bodensee<br>deaths=%{marker.size}<br>lat=%{lat}<br>lon=%{lon}<extra></extra>",
         "lat": [
          47.5786,
          47.5786,
          47.5786,
          47.5786,
          47.5786,
          47.5786
         ],
         "legendgroup": "Wasserburg am Bodensee",
         "lon": [
          9.6351,
          9.6351,
          9.6351,
          9.6351,
          9.6351,
          9.6351
         ],
         "marker": {
          "color": "#19d3f3",
          "size": [
           1,
           15,
           3,
           3,
           2,
           1
          ],
          "sizemode": "area",
          "sizeref": 0.5475
         },
         "mode": "markers",
         "name": "Wasserburg am Bodensee",
         "showlegend": true,
         "subplot": "mapbox",
         "type": "scattermapbox"
        },
        {
         "hovertemplate": "city=Reichertshofen<br>deaths=%{marker.size}<br>lat=%{lat}<br>lon=%{lon}<extra></extra>",
         "lat": [
          48.657,
          48.657,
          48.657,
          48.657
         ],
         "legendgroup": "Reichertshofen",
         "lon": [
          11.4678,
          11.4678,
          11.4678,
          11.4678
         ],
         "marker": {
          "color": "#FF6692",
          "size": [
           51,
           23,
           18,
           1
          ],
          "sizemode": "area",
          "sizeref": 0.5475
         },
         "mode": "markers",
         "name": "Reichertshofen",
         "showlegend": true,
         "subplot": "mapbox",
         "type": "scattermapbox"
        },
        {
         "hovertemplate": "city=Mindelheim<br>deaths=%{marker.size}<br>lat=%{lat}<br>lon=%{lon}<extra></extra>",
         "lat": [
          48.0462,
          48.0462,
          48.0462
         ],
         "legendgroup": "Mindelheim",
         "lon": [
          10.4949,
          10.4949,
          10.4949
         ],
         "marker": {
          "color": "#B6E880",
          "size": [
           1,
           1,
           1
          ],
          "sizemode": "area",
          "sizeref": 0.5475
         },
         "mode": "markers",
         "name": "Mindelheim",
         "showlegend": true,
         "subplot": "mapbox",
         "type": "scattermapbox"
        },
        {
         "hovertemplate": "city=Rosenheim<br>deaths=%{marker.size}<br>lat=%{lat}<br>lon=%{lon}<extra></extra>",
         "lat": [
          47.8571,
          47.8571,
          47.8571,
          47.8571,
          47.8571,
          47.8571
         ],
         "legendgroup": "Rosenheim",
         "lon": [
          12.1181,
          12.1181,
          12.1181,
          12.1181,
          12.1181,
          12.1181
         ],
         "marker": {
          "color": "#FF97FF",
          "size": [
           1,
           0,
           0,
           0,
           0,
           0
          ],
          "sizemode": "area",
          "sizeref": 0.5475
         },
         "mode": "markers",
         "name": "Rosenheim",
         "showlegend": true,
         "subplot": "mapbox",
         "type": "scattermapbox"
        },
        {
         "hovertemplate": "city=Schrobenhausen<br>deaths=%{marker.size}<br>lat=%{lat}<br>lon=%{lon}<extra></extra>",
         "lat": [
          48.5626,
          48.5626,
          48.5626,
          48.5626,
          48.5626,
          48.5626
         ],
         "legendgroup": "Schrobenhausen",
         "lon": [
          11.2631,
          11.2631,
          11.2631,
          11.2631,
          11.2631,
          11.2631
         ],
         "marker": {
          "color": "#FECB52",
          "size": [
           0,
           0,
           0,
           0,
           0,
           0
          ],
          "sizemode": "area",
          "sizeref": 0.5475
         },
         "mode": "markers",
         "name": "Schrobenhausen",
         "showlegend": true,
         "subplot": "mapbox",
         "type": "scattermapbox"
        },
        {
         "hovertemplate": "city=Friedberg<br>deaths=%{marker.size}<br>lat=%{lat}<br>lon=%{lon}<extra></extra>",
         "lat": [
          48.356,
          48.356,
          48.356,
          48.356,
          48.356,
          48.356,
          48.356
         ],
         "legendgroup": "Friedberg",
         "lon": [
          10.9865,
          10.9865,
          10.9865,
          10.9865,
          10.9865,
          10.9865,
          10.9865
         ],
         "marker": {
          "color": "#636efa",
          "size": [
           0,
           0,
           0,
           0,
           0,
           0,
           0
          ],
          "sizemode": "area",
          "sizeref": 0.5475
         },
         "mode": "markers",
         "name": "Friedberg",
         "showlegend": true,
         "subplot": "mapbox",
         "type": "scattermapbox"
        },
        {
         "hovertemplate": "city=Wolfratshausen<br>deaths=%{marker.size}<br>lat=%{lat}<br>lon=%{lon}<extra></extra>",
         "lat": [
          47.9102,
          47.9102,
          47.9102,
          47.9102,
          47.9102,
          47.9102,
          47.9102
         ],
         "legendgroup": "Wolfratshausen",
         "lon": [
          11.4274,
          11.4274,
          11.4274,
          11.4274,
          11.4274,
          11.4274,
          11.4274
         ],
         "marker": {
          "color": "#EF553B",
          "size": [
           0,
           0,
           0,
           0,
           0,
           0,
           0
          ],
          "sizemode": "area",
          "sizeref": 0.5475
         },
         "mode": "markers",
         "name": "Wolfratshausen",
         "showlegend": true,
         "subplot": "mapbox",
         "type": "scattermapbox"
        },
        {
         "hovertemplate": "city=Starnberg<br>deaths=%{marker.size}<br>lat=%{lat}<br>lon=%{lon}<extra></extra>",
         "lat": [
          48,
          48,
          48,
          48,
          48,
          48
         ],
         "legendgroup": "Starnberg",
         "lon": [
          11.339,
          11.339,
          11.339,
          11.339,
          11.339,
          11.339
         ],
         "marker": {
          "color": "#00cc96",
          "size": [
           0,
           0,
           0,
           0,
           0,
           0
          ],
          "sizemode": "area",
          "sizeref": 0.5475
         },
         "mode": "markers",
         "name": "Starnberg",
         "showlegend": true,
         "subplot": "mapbox",
         "type": "scattermapbox"
        },
        {
         "hovertemplate": "city=Aichach<br>deaths=%{marker.size}<br>lat=%{lat}<br>lon=%{lon}<extra></extra>",
         "lat": [
          48.4577,
          48.4577,
          48.4577,
          48.4577,
          48.4577,
          48.4577,
          48.4577
         ],
         "legendgroup": "Aichach",
         "lon": [
          11.136,
          11.136,
          11.136,
          11.136,
          11.136,
          11.136,
          11.136
         ],
         "marker": {
          "color": "#ab63fa",
          "size": [
           0,
           0,
           0,
           0,
           0,
           0,
           0
          ],
          "sizemode": "area",
          "sizeref": 0.5475
         },
         "mode": "markers",
         "name": "Aichach",
         "showlegend": true,
         "subplot": "mapbox",
         "type": "scattermapbox"
        },
        {
         "hovertemplate": "city=Neuburg an der Donau<br>deaths=%{marker.size}<br>lat=%{lat}<br>lon=%{lon}<extra></extra>",
         "lat": [
          48.7303
         ],
         "legendgroup": "Neuburg an der Donau",
         "lon": [
          11.1888
         ],
         "marker": {
          "color": "#FFA15A",
          "size": [
           16
          ],
          "sizemode": "area",
          "sizeref": 0.5475
         },
         "mode": "markers",
         "name": "Neuburg an der Donau",
         "showlegend": true,
         "subplot": "mapbox",
         "type": "scattermapbox"
        },
        {
         "hovertemplate": "city=Kranzberg<br>deaths=%{marker.size}<br>lat=%{lat}<br>lon=%{lon}<extra></extra>",
         "lat": [
          48.4063,
          48.4063,
          48.4063,
          48.4063,
          48.4063,
          48.4063
         ],
         "legendgroup": "Kranzberg",
         "lon": [
          11.6194,
          11.6194,
          11.6194,
          11.6194,
          11.6194,
          11.6194
         ],
         "marker": {
          "color": "#19d3f3",
          "size": [
           0,
           0,
           0,
           0,
           0,
           0
          ],
          "sizemode": "area",
          "sizeref": 0.5475
         },
         "mode": "markers",
         "name": "Kranzberg",
         "showlegend": true,
         "subplot": "mapbox",
         "type": "scattermapbox"
        },
        {
         "hovertemplate": "city=Marquartstein<br>deaths=%{marker.size}<br>lat=%{lat}<br>lon=%{lon}<extra></extra>",
         "lat": [
          47.7614,
          47.7614,
          47.7614
         ],
         "legendgroup": "Marquartstein",
         "lon": [
          12.4604,
          12.4604,
          12.4604
         ],
         "marker": {
          "color": "#FF6692",
          "size": [
           0,
           0,
           0
          ],
          "sizemode": "area",
          "sizeref": 0.5475
         },
         "mode": "markers",
         "name": "Marquartstein",
         "showlegend": true,
         "subplot": "mapbox",
         "type": "scattermapbox"
        },
        {
         "hovertemplate": "city=Tittmoning<br>deaths=%{marker.size}<br>lat=%{lat}<br>lon=%{lon}<extra></extra>",
         "lat": [
          48.0581,
          48.0581
         ],
         "legendgroup": "Tittmoning",
         "lon": [
          12.7689,
          12.7689
         ],
         "marker": {
          "color": "#B6E880",
          "size": [
           1,
           1
          ],
          "sizemode": "area",
          "sizeref": 0.5475
         },
         "mode": "markers",
         "name": "Tittmoning",
         "showlegend": true,
         "subplot": "mapbox",
         "type": "scattermapbox"
        },
        {
         "hovertemplate": "city=Hengersberg<br>deaths=%{marker.size}<br>lat=%{lat}<br>lon=%{lon}<extra></extra>",
         "lat": [
          48.7703,
          48.7703
         ],
         "legendgroup": "Hengersberg",
         "lon": [
          13.0554,
          13.0554
         ],
         "marker": {
          "color": "#FF97FF",
          "size": [
           1,
           3
          ],
          "sizemode": "area",
          "sizeref": 0.5475
         },
         "mode": "markers",
         "name": "Hengersberg",
         "showlegend": true,
         "subplot": "mapbox",
         "type": "scattermapbox"
        },
        {
         "hovertemplate": "city=Bad Reichenhall<br>deaths=%{marker.size}<br>lat=%{lat}<br>lon=%{lon}<extra></extra>",
         "lat": [
          47.7303,
          47.7303,
          47.7303
         ],
         "legendgroup": "Bad Reichenhall",
         "lon": [
          12.8816,
          12.8816,
          12.8816
         ],
         "marker": {
          "color": "#FECB52",
          "size": [
           0,
           0,
           0
          ],
          "sizemode": "area",
          "sizeref": 0.5475
         },
         "mode": "markers",
         "name": "Bad Reichenhall",
         "showlegend": true,
         "subplot": "mapbox",
         "type": "scattermapbox"
        },
        {
         "hovertemplate": "city=Roding<br>deaths=%{marker.size}<br>lat=%{lat}<br>lon=%{lon}<extra></extra>",
         "lat": [
          49.1941,
          49.1941
         ],
         "legendgroup": "Roding",
         "lon": [
          12.5223,
          12.5223
         ],
         "marker": {
          "color": "#636efa",
          "size": [
           1,
           1
          ],
          "sizemode": "area",
          "sizeref": 0.5475
         },
         "mode": "markers",
         "name": "Roding",
         "showlegend": true,
         "subplot": "mapbox",
         "type": "scattermapbox"
        },
        {
         "hovertemplate": "city=Monheim<br>deaths=%{marker.size}<br>lat=%{lat}<br>lon=%{lon}<extra></extra>",
         "lat": [
          48.8427,
          48.8427
         ],
         "legendgroup": "Monheim",
         "lon": [
          10.8537,
          10.8537
         ],
         "marker": {
          "color": "#EF553B",
          "size": [
           1,
           1
          ],
          "sizemode": "area",
          "sizeref": 0.5475
         },
         "mode": "markers",
         "name": "Monheim",
         "showlegend": true,
         "subplot": "mapbox",
         "type": "scattermapbox"
        },
        {
         "hovertemplate": "city=Lengdorf<br>deaths=%{marker.size}<br>lat=%{lat}<br>lon=%{lon}<extra></extra>",
         "lat": [
          48.2578
         ],
         "legendgroup": "Lengdorf",
         "lon": [
          12.0473
         ],
         "marker": {
          "color": "#00cc96",
          "size": [
           2
          ],
          "sizemode": "area",
          "sizeref": 0.5475
         },
         "mode": "markers",
         "name": "Lengdorf",
         "showlegend": true,
         "subplot": "mapbox",
         "type": "scattermapbox"
        },
        {
         "hovertemplate": "city=Amberg<br>deaths=%{marker.size}<br>lat=%{lat}<br>lon=%{lon}<extra></extra>",
         "lat": [
          49.4403,
          49.4403,
          49.4403,
          49.4403
         ],
         "legendgroup": "Amberg",
         "lon": [
          11.8633,
          11.8633,
          11.8633,
          11.8633
         ],
         "marker": {
          "color": "#ab63fa",
          "size": [
           1,
           0,
           1,
           1
          ],
          "sizemode": "area",
          "sizeref": 0.5475
         },
         "mode": "markers",
         "name": "Amberg",
         "showlegend": true,
         "subplot": "mapbox",
         "type": "scattermapbox"
        },
        {
         "hovertemplate": "city=Illerbeuren<br>deaths=%{marker.size}<br>lat=%{lat}<br>lon=%{lon}<extra></extra>",
         "lat": [
          47.9016
         ],
         "legendgroup": "Illerbeuren",
         "lon": [
          10.1267
         ],
         "marker": {
          "color": "#FFA15A",
          "size": [
           1
          ],
          "sizemode": "area",
          "sizeref": 0.5475
         },
         "mode": "markers",
         "name": "Illerbeuren",
         "showlegend": true,
         "subplot": "mapbox",
         "type": "scattermapbox"
        },
        {
         "hovertemplate": "city=Gerolfing<br>deaths=%{marker.size}<br>lat=%{lat}<br>lon=%{lon}<extra></extra>",
         "lat": [
          48.7558,
          48.7558
         ],
         "legendgroup": "Gerolfing",
         "lon": [
          11.3488,
          11.3488
         ],
         "marker": {
          "color": "#19d3f3",
          "size": [
           0,
           0
          ],
          "sizemode": "area",
          "sizeref": 0.5475
         },
         "mode": "markers",
         "name": "Gerolfing",
         "showlegend": true,
         "subplot": "mapbox",
         "type": "scattermapbox"
        },
        {
         "hovertemplate": "city=Wasserburg am Inn<br>deaths=%{marker.size}<br>lat=%{lat}<br>lon=%{lon}<extra></extra>",
         "lat": [
          48.0527,
          48.0527,
          48.0527
         ],
         "legendgroup": "Wasserburg am Inn",
         "lon": [
          12.2245,
          12.2245,
          12.2245
         ],
         "marker": {
          "color": "#FF6692",
          "size": [
           1,
           0,
           0
          ],
          "sizemode": "area",
          "sizeref": 0.5475
         },
         "mode": "markers",
         "name": "Wasserburg am Inn",
         "showlegend": true,
         "subplot": "mapbox",
         "type": "scattermapbox"
        },
        {
         "hovertemplate": "city=Martinszell<br>deaths=%{marker.size}<br>lat=%{lat}<br>lon=%{lon}<extra></extra>",
         "lat": [
          47.6257
         ],
         "legendgroup": "Martinszell",
         "lon": [
          10.2804
         ],
         "marker": {
          "color": "#B6E880",
          "size": [
           1
          ],
          "sizemode": "area",
          "sizeref": 0.5475
         },
         "mode": "markers",
         "name": "Martinszell",
         "showlegend": true,
         "subplot": "mapbox",
         "type": "scattermapbox"
        },
        {
         "hovertemplate": "city=Neustadt an der Donau<br>deaths=%{marker.size}<br>lat=%{lat}<br>lon=%{lon}<extra></extra>",
         "lat": [
          48.803,
          48.803
         ],
         "legendgroup": "Neustadt an der Donau",
         "lon": [
          11.7671,
          11.7671
         ],
         "marker": {
          "color": "#FF97FF",
          "size": [
           5,
           0
          ],
          "sizemode": "area",
          "sizeref": 0.5475
         },
         "mode": "markers",
         "name": "Neustadt an der Donau",
         "showlegend": true,
         "subplot": "mapbox",
         "type": "scattermapbox"
        },
        {
         "hovertemplate": "city=Laufen<br>deaths=%{marker.size}<br>lat=%{lat}<br>lon=%{lon}<extra></extra>",
         "lat": [
          47.9347
         ],
         "legendgroup": "Laufen",
         "lon": [
          12.9301
         ],
         "marker": {
          "color": "#FECB52",
          "size": [
           6
          ],
          "sizemode": "area",
          "sizeref": 0.5475
         },
         "mode": "markers",
         "name": "Laufen",
         "showlegend": true,
         "subplot": "mapbox",
         "type": "scattermapbox"
        },
        {
         "hovertemplate": "city=Mitterfels<br>deaths=%{marker.size}<br>lat=%{lat}<br>lon=%{lon}<extra></extra>",
         "lat": [
          48.976,
          48.976,
          48.976,
          48.976,
          48.976,
          48.976,
          48.976,
          48.976,
          48.976,
          48.976,
          48.976,
          48.976,
          48.976,
          48.976,
          48.976,
          48.976,
          48.976,
          48.976,
          48.976,
          48.976,
          48.976,
          48.976,
          48.976,
          48.976,
          48.976,
          48.976,
          48.976,
          48.976
         ],
         "legendgroup": "Mitterfels",
         "lon": [
          12.6804,
          12.6804,
          12.6804,
          12.6804,
          12.6804,
          12.6804,
          12.6804,
          12.6804,
          12.6804,
          12.6804,
          12.6804,
          12.6804,
          12.6804,
          12.6804,
          12.6804,
          12.6804,
          12.6804,
          12.6804,
          12.6804,
          12.6804,
          12.6804,
          12.6804,
          12.6804,
          12.6804,
          12.6804,
          12.6804,
          12.6804,
          12.6804
         ],
         "marker": {
          "color": "#636efa",
          "size": [
           0,
           1,
           0,
           0,
           3,
           0,
           0,
           0,
           0,
           0,
           1,
           1,
           3,
           3,
           0,
           0,
           0,
           0,
           0,
           0,
           1,
           0,
           1,
           1,
           0,
           0,
           0,
           0
          ],
          "sizemode": "area",
          "sizeref": 0.5475
         },
         "mode": "markers",
         "name": "Mitterfels",
         "showlegend": true,
         "subplot": "mapbox",
         "type": "scattermapbox"
        },
        {
         "hovertemplate": "city=Landsberg am Lech<br>deaths=%{marker.size}<br>lat=%{lat}<br>lon=%{lon}<extra></extra>",
         "lat": [
          48.0508,
          48.0508,
          48.0508,
          48.0508,
          48.0508
         ],
         "legendgroup": "Landsberg am Lech",
         "lon": [
          10.8704,
          10.8704,
          10.8704,
          10.8704,
          10.8704
         ],
         "marker": {
          "color": "#EF553B",
          "size": [
           1,
           0,
           0,
           0,
           0
          ],
          "sizemode": "area",
          "sizeref": 0.5475
         },
         "mode": "markers",
         "name": "Landsberg am Lech",
         "showlegend": true,
         "subplot": "mapbox",
         "type": "scattermapbox"
        },
        {
         "hovertemplate": "city=Mering<br>deaths=%{marker.size}<br>lat=%{lat}<br>lon=%{lon}<extra></extra>",
         "lat": [
          48.2654,
          48.2654,
          48.2654
         ],
         "legendgroup": "Mering",
         "lon": [
          10.9861,
          10.9861,
          10.9861
         ],
         "marker": {
          "color": "#00cc96",
          "size": [
           0,
           0,
           0
          ],
          "sizemode": "area",
          "sizeref": 0.5475
         },
         "mode": "markers",
         "name": "Mering",
         "showlegend": true,
         "subplot": "mapbox",
         "type": "scattermapbox"
        },
        {
         "hovertemplate": "city=Dingolfing<br>deaths=%{marker.size}<br>lat=%{lat}<br>lon=%{lon}<extra></extra>",
         "lat": [
          48.6435,
          48.6435,
          48.6435
         ],
         "legendgroup": "Dingolfing",
         "lon": [
          12.4852,
          12.4852,
          12.4852
         ],
         "marker": {
          "color": "#ab63fa",
          "size": [
           0,
           1,
           1
          ],
          "sizemode": "area",
          "sizeref": 0.5475
         },
         "mode": "markers",
         "name": "Dingolfing",
         "showlegend": true,
         "subplot": "mapbox",
         "type": "scattermapbox"
        },
        {
         "hovertemplate": "city=Berchtesgaden<br>deaths=%{marker.size}<br>lat=%{lat}<br>lon=%{lon}<extra></extra>",
         "lat": [
          47.6302
         ],
         "legendgroup": "Berchtesgaden",
         "lon": [
          13.0001
         ],
         "marker": {
          "color": "#FFA15A",
          "size": [
           2
          ],
          "sizemode": "area",
          "sizeref": 0.5475
         },
         "mode": "markers",
         "name": "Berchtesgaden",
         "showlegend": true,
         "subplot": "mapbox",
         "type": "scattermapbox"
        },
        {
         "hovertemplate": "city=Muhldorf<br>deaths=%{marker.size}<br>lat=%{lat}<br>lon=%{lon}<extra></extra>",
         "lat": [
          48.2458,
          48.2458
         ],
         "legendgroup": "Muhldorf",
         "lon": [
          12.522,
          12.522
         ],
         "marker": {
          "color": "#19d3f3",
          "size": [
           1,
           1
          ],
          "sizemode": "area",
          "sizeref": 0.5475
         },
         "mode": "markers",
         "name": "Muhldorf",
         "showlegend": true,
         "subplot": "mapbox",
         "type": "scattermapbox"
        },
        {
         "hovertemplate": "city=Burghausen<br>deaths=%{marker.size}<br>lat=%{lat}<br>lon=%{lon}<extra></extra>",
         "lat": [
          48.1726,
          48.1726,
          48.1726,
          48.1726,
          48.1726,
          48.1726,
          48.1726,
          48.1726,
          48.1726,
          48.1726,
          48.1726,
          48.1726
         ],
         "legendgroup": "Burghausen",
         "lon": [
          12.8311,
          12.8311,
          12.8311,
          12.8311,
          12.8311,
          12.8311,
          12.8311,
          12.8311,
          12.8311,
          12.8311,
          12.8311,
          12.8311
         ],
         "marker": {
          "color": "#FF6692",
          "size": [
           5,
           1,
           1,
           3,
           2,
           0,
           2,
           1,
           1,
           1,
           1,
           0
          ],
          "sizemode": "area",
          "sizeref": 0.5475
         },
         "mode": "markers",
         "name": "Burghausen",
         "showlegend": true,
         "subplot": "mapbox",
         "type": "scattermapbox"
        },
        {
         "hovertemplate": "city=Hilpoltstein<br>deaths=%{marker.size}<br>lat=%{lat}<br>lon=%{lon}<extra></extra>",
         "lat": [
          49.1891
         ],
         "legendgroup": "Hilpoltstein",
         "lon": [
          11.1886
         ],
         "marker": {
          "color": "#B6E880",
          "size": [
           1
          ],
          "sizemode": "area",
          "sizeref": 0.5475
         },
         "mode": "markers",
         "name": "Hilpoltstein",
         "showlegend": true,
         "subplot": "mapbox",
         "type": "scattermapbox"
        },
        {
         "hovertemplate": "city=Moosburg<br>deaths=%{marker.size}<br>lat=%{lat}<br>lon=%{lon}<extra></extra>",
         "lat": [
          48.4702,
          48.4702,
          48.4702
         ],
         "legendgroup": "Moosburg",
         "lon": [
          11.9359,
          11.9359,
          11.9359
         ],
         "marker": {
          "color": "#FF97FF",
          "size": [
           1,
           1,
           1
          ],
          "sizemode": "area",
          "sizeref": 0.5475
         },
         "mode": "markers",
         "name": "Moosburg",
         "showlegend": true,
         "subplot": "mapbox",
         "type": "scattermapbox"
        },
        {
         "hovertemplate": "city=Kirchberg<br>deaths=%{marker.size}<br>lat=%{lat}<br>lon=%{lon}<extra></extra>",
         "lat": [
          48.8982
         ],
         "legendgroup": "Kirchberg",
         "lon": [
          13.1822
         ],
         "marker": {
          "color": "#FECB52",
          "size": [
           0
          ],
          "sizemode": "area",
          "sizeref": 0.5475
         },
         "mode": "markers",
         "name": "Kirchberg",
         "showlegend": true,
         "subplot": "mapbox",
         "type": "scattermapbox"
        },
        {
         "hovertemplate": "city=Turkheim<br>deaths=%{marker.size}<br>lat=%{lat}<br>lon=%{lon}<extra></extra>",
         "lat": [
          48.0616
         ],
         "legendgroup": "Turkheim",
         "lon": [
          10.6428
         ],
         "marker": {
          "color": "#636efa",
          "size": [
           0
          ],
          "sizemode": "area",
          "sizeref": 0.5475
         },
         "mode": "markers",
         "name": "Turkheim",
         "showlegend": true,
         "subplot": "mapbox",
         "type": "scattermapbox"
        },
        {
         "hovertemplate": "city=Neuotting<br>deaths=%{marker.size}<br>lat=%{lat}<br>lon=%{lon}<extra></extra>",
         "lat": [
          48.2413
         ],
         "legendgroup": "Neuotting",
         "lon": [
          12.6896
         ],
         "marker": {
          "color": "#EF553B",
          "size": [
           0
          ],
          "sizemode": "area",
          "sizeref": 0.5475
         },
         "mode": "markers",
         "name": "Neuotting",
         "showlegend": true,
         "subplot": "mapbox",
         "type": "scattermapbox"
        },
        {
         "hovertemplate": "city=Haag in Oberbayern<br>deaths=%{marker.size}<br>lat=%{lat}<br>lon=%{lon}<extra></extra>",
         "lat": [
          48.1619,
          48.1619
         ],
         "legendgroup": "Haag in Oberbayern",
         "lon": [
          12.1795,
          12.1795
         ],
         "marker": {
          "color": "#00cc96",
          "size": [
           0,
           0
          ],
          "sizemode": "area",
          "sizeref": 0.5475
         },
         "mode": "markers",
         "name": "Haag in Oberbayern",
         "showlegend": true,
         "subplot": "mapbox",
         "type": "scattermapbox"
        },
        {
         "hovertemplate": "city=Fursteneck<br>deaths=%{marker.size}<br>lat=%{lat}<br>lon=%{lon}<extra></extra>",
         "lat": [
          48.7215
         ],
         "legendgroup": "Fursteneck",
         "lon": [
          13.4622
         ],
         "marker": {
          "color": "#ab63fa",
          "size": [
           1
          ],
          "sizemode": "area",
          "sizeref": 0.5475
         },
         "mode": "markers",
         "name": "Fursteneck",
         "showlegend": true,
         "subplot": "mapbox",
         "type": "scattermapbox"
        },
        {
         "hovertemplate": "city=Kelheim<br>deaths=%{marker.size}<br>lat=%{lat}<br>lon=%{lon}<extra></extra>",
         "lat": [
          48.9184,
          48.9184
         ],
         "legendgroup": "Kelheim",
         "lon": [
          11.8866,
          11.8866
         ],
         "marker": {
          "color": "#FFA15A",
          "size": [
           1,
           0
          ],
          "sizemode": "area",
          "sizeref": 0.5475
         },
         "mode": "markers",
         "name": "Kelheim",
         "showlegend": true,
         "subplot": "mapbox",
         "type": "scattermapbox"
        },
        {
         "hovertemplate": "city=Barnstein<br>deaths=%{marker.size}<br>lat=%{lat}<br>lon=%{lon}<extra></extra>",
         "lat": [
          47.7059
         ],
         "legendgroup": "Barnstein",
         "lon": [
          10.5355
         ],
         "marker": {
          "color": "#19d3f3",
          "size": [
           1
          ],
          "sizemode": "area",
          "sizeref": 0.5475
         },
         "mode": "markers",
         "name": "Barnstein",
         "showlegend": true,
         "subplot": "mapbox",
         "type": "scattermapbox"
        },
        {
         "hovertemplate": "city=Vilsbiburg<br>deaths=%{marker.size}<br>lat=%{lat}<br>lon=%{lon}<extra></extra>",
         "lat": [
          48.4509
         ],
         "legendgroup": "Vilsbiburg",
         "lon": [
          12.3526
         ],
         "marker": {
          "color": "#FF6692",
          "size": [
           1
          ],
          "sizemode": "area",
          "sizeref": 0.5475
         },
         "mode": "markers",
         "name": "Vilsbiburg",
         "showlegend": true,
         "subplot": "mapbox",
         "type": "scattermapbox"
        },
        {
         "hovertemplate": "city=Bogen<br>deaths=%{marker.size}<br>lat=%{lat}<br>lon=%{lon}<extra></extra>",
         "lat": [
          48.9128
         ],
         "legendgroup": "Bogen",
         "lon": [
          12.6928
         ],
         "marker": {
          "color": "#B6E880",
          "size": [
           1
          ],
          "sizemode": "area",
          "sizeref": 0.5475
         },
         "mode": "markers",
         "name": "Bogen",
         "showlegend": true,
         "subplot": "mapbox",
         "type": "scattermapbox"
        },
        {
         "hovertemplate": "city=Kempten<br>deaths=%{marker.size}<br>lat=%{lat}<br>lon=%{lon}<extra></extra>",
         "lat": [
          47.7286,
          47.7286,
          47.7286,
          47.72857
         ],
         "legendgroup": "Kempten",
         "lon": [
          10.3158,
          10.3158,
          10.3158,
          10.315783
         ],
         "marker": {
          "color": "#FF97FF",
          "size": [
           1,
           1,
           1,
           0
          ],
          "sizemode": "area",
          "sizeref": 0.5475
         },
         "mode": "markers",
         "name": "Kempten",
         "showlegend": true,
         "subplot": "mapbox",
         "type": "scattermapbox"
        },
        {
         "hovertemplate": "city=Obergunzburg<br>deaths=%{marker.size}<br>lat=%{lat}<br>lon=%{lon}<extra></extra>",
         "lat": [
          47.8462
         ],
         "legendgroup": "Obergunzburg",
         "lon": [
          10.4206
         ],
         "marker": {
          "color": "#FECB52",
          "size": [
           1
          ],
          "sizemode": "area",
          "sizeref": 0.5475
         },
         "mode": "markers",
         "name": "Obergunzburg",
         "showlegend": true,
         "subplot": "mapbox",
         "type": "scattermapbox"
        },
        {
         "hovertemplate": "city=Erding<br>deaths=%{marker.size}<br>lat=%{lat}<br>lon=%{lon}<extra></extra>",
         "lat": [
          48.3115,
          48.3115
         ],
         "legendgroup": "Erding",
         "lon": [
          11.9189,
          11.9189
         ],
         "marker": {
          "color": "#636efa",
          "size": [
           1,
           5
          ],
          "sizemode": "area",
          "sizeref": 0.5475
         },
         "mode": "markers",
         "name": "Erding",
         "showlegend": true,
         "subplot": "mapbox",
         "type": "scattermapbox"
        },
        {
         "hovertemplate": "city=Ottobeuren<br>deaths=%{marker.size}<br>lat=%{lat}<br>lon=%{lon}<extra></extra>",
         "lat": [
          47.941
         ],
         "legendgroup": "Ottobeuren",
         "lon": [
          10.3007
         ],
         "marker": {
          "color": "#EF553B",
          "size": [
           1
          ],
          "sizemode": "area",
          "sizeref": 0.5475
         },
         "mode": "markers",
         "name": "Ottobeuren",
         "showlegend": true,
         "subplot": "mapbox",
         "type": "scattermapbox"
        },
        {
         "hovertemplate": "city=Bobingen<br>deaths=%{marker.size}<br>lat=%{lat}<br>lon=%{lon}<extra></extra>",
         "lat": [
          48.2697
         ],
         "legendgroup": "Bobingen",
         "lon": [
          10.8296
         ],
         "marker": {
          "color": "#00cc96",
          "size": [
           4
          ],
          "sizemode": "area",
          "sizeref": 0.5475
         },
         "mode": "markers",
         "name": "Bobingen",
         "showlegend": true,
         "subplot": "mapbox",
         "type": "scattermapbox"
        },
        {
         "hovertemplate": "city=Buchloe<br>deaths=%{marker.size}<br>lat=%{lat}<br>lon=%{lon}<extra></extra>",
         "lat": [
          48.0361
         ],
         "legendgroup": "Buchloe",
         "lon": [
          10.7211
         ],
         "marker": {
          "color": "#ab63fa",
          "size": [
           1
          ],
          "sizemode": "area",
          "sizeref": 0.5475
         },
         "mode": "markers",
         "name": "Buchloe",
         "showlegend": true,
         "subplot": "mapbox",
         "type": "scattermapbox"
        },
        {
         "hovertemplate": "city=Braunau am Inn<br>deaths=%{marker.size}<br>lat=%{lat}<br>lon=%{lon}<extra></extra>",
         "lat": [
          48.2557
         ],
         "legendgroup": "Braunau am Inn",
         "lon": [
          13.0443
         ],
         "marker": {
          "color": "#FFA15A",
          "size": [
           1
          ],
          "sizemode": "area",
          "sizeref": 0.5475
         },
         "mode": "markers",
         "name": "Braunau am Inn",
         "showlegend": true,
         "subplot": "mapbox",
         "type": "scattermapbox"
        },
        {
         "hovertemplate": "city=Onhaye<br>deaths=%{marker.size}<br>lat=%{lat}<br>lon=%{lon}<extra></extra>",
         "lat": [
          50.2415,
          50.2415,
          50.2415,
          50.2415,
          50.2415,
          50.2415,
          50.2415,
          50.2415,
          50.2415,
          50.2415
         ],
         "legendgroup": "Onhaye",
         "lon": [
          4.83986,
          4.83986,
          4.83986,
          4.83986,
          4.83986,
          4.83986,
          4.83986,
          4.83986,
          4.83986,
          4.83986
         ],
         "marker": {
          "color": "#19d3f3",
          "size": [
           1,
           0,
           0,
           0,
           0,
           1,
           1,
           1,
           1,
           1
          ],
          "sizemode": "area",
          "sizeref": 0.5475
         },
         "mode": "markers",
         "name": "Onhaye",
         "showlegend": true,
         "subplot": "mapbox",
         "type": "scattermapbox"
        },
        {
         "hovertemplate": "city=Floreffe<br>deaths=%{marker.size}<br>lat=%{lat}<br>lon=%{lon}<extra></extra>",
         "lat": [
          50.434,
          50.434,
          50.434,
          50.434,
          50.434,
          50.434,
          50.434,
          50.434,
          50.434,
          50.434,
          50.434,
          50.434,
          50.434,
          50.434
         ],
         "legendgroup": "Floreffe",
         "lon": [
          4.75922,
          4.75922,
          4.75922,
          4.75922,
          4.75922,
          4.75922,
          4.75922,
          4.75922,
          4.75922,
          4.75922,
          4.75922,
          4.75922,
          4.75922,
          4.75922
         ],
         "marker": {
          "color": "#FF6692",
          "size": [
           1,
           1,
           1,
           1,
           1,
           0,
           0,
           1,
           1,
           0,
           1,
           1,
           0,
           0
          ],
          "sizemode": "area",
          "sizeref": 0.5475
         },
         "mode": "markers",
         "name": "Floreffe",
         "showlegend": true,
         "subplot": "mapbox",
         "type": "scattermapbox"
        },
        {
         "hovertemplate": "city=Walcourt<br>deaths=%{marker.size}<br>lat=%{lat}<br>lon=%{lon}<extra></extra>",
         "lat": [
          50.2539,
          50.2539,
          50.2539,
          50.2539,
          50.2539,
          50.2539,
          50.2539,
          50.2539,
          50.2539,
          50.2539,
          50.2539,
          50.2539,
          50.2539
         ],
         "legendgroup": "Walcourt",
         "lon": [
          4.43492,
          4.43492,
          4.43492,
          4.43492,
          4.43492,
          4.43492,
          4.43492,
          4.43492,
          4.43492,
          4.43492,
          4.43492,
          4.43492,
          4.43492
         ],
         "marker": {
          "color": "#B6E880",
          "size": [
           1,
           1,
           0,
           1,
           1,
           0,
           1,
           0,
           0,
           0,
           1,
           0,
           1
          ],
          "sizemode": "area",
          "sizeref": 0.5475
         },
         "mode": "markers",
         "name": "Walcourt",
         "showlegend": true,
         "subplot": "mapbox",
         "type": "scattermapbox"
        },
        {
         "hovertemplate": "city=Dinant<br>deaths=%{marker.size}<br>lat=%{lat}<br>lon=%{lon}<extra></extra>",
         "lat": [
          50.2605,
          50.2605,
          50.2605,
          50.2605,
          50.2605,
          50.2605,
          50.2605,
          50.2605,
          50.2605,
          50.2605,
          50.2605,
          50.2605,
          50.2605,
          50.2605
         ],
         "legendgroup": "Dinant",
         "lon": [
          4.91275,
          4.91275,
          4.91275,
          4.91275,
          4.91275,
          4.91275,
          4.91275,
          4.91275,
          4.91275,
          4.91275,
          4.91275,
          4.91275,
          4.91275,
          4.91275
         ],
         "marker": {
          "color": "#FF97FF",
          "size": [
           0,
           0,
           1,
           0,
           1,
           1,
           0,
           1,
           1,
           1,
           1,
           0,
           0,
           1
          ],
          "sizemode": "area",
          "sizeref": 0.5475
         },
         "mode": "markers",
         "name": "Dinant",
         "showlegend": true,
         "subplot": "mapbox",
         "type": "scattermapbox"
        },
        {
         "hovertemplate": "city=Andenne<br>deaths=%{marker.size}<br>lat=%{lat}<br>lon=%{lon}<extra></extra>",
         "lat": [
          50.4912,
          50.4912,
          50.4912,
          50.4912,
          50.4912,
          50.4912
         ],
         "legendgroup": "Andenne",
         "lon": [
          5.09645,
          5.09645,
          5.09645,
          5.09645,
          5.09645,
          5.09645
         ],
         "marker": {
          "color": "#FECB52",
          "size": [
           0,
           1,
           1,
           0,
           0,
           0
          ],
          "sizemode": "area",
          "sizeref": 0.5475
         },
         "mode": "markers",
         "name": "Andenne",
         "showlegend": true,
         "subplot": "mapbox",
         "type": "scattermapbox"
        },
        {
         "hovertemplate": "city=Braives<br>deaths=%{marker.size}<br>lat=%{lat}<br>lon=%{lon}<extra></extra>",
         "lat": [
          50.6282,
          50.6282,
          50.6282,
          50.6282
         ],
         "legendgroup": "Braives",
         "lon": [
          5.14881,
          5.14881,
          5.14881,
          5.14881
         ],
         "marker": {
          "color": "#636efa",
          "size": [
           1,
           0,
           0,
           0
          ],
          "sizemode": "area",
          "sizeref": 0.5475
         },
         "mode": "markers",
         "name": "Braives",
         "showlegend": true,
         "subplot": "mapbox",
         "type": "scattermapbox"
        },
        {
         "hovertemplate": "city=Namur<br>deaths=%{marker.size}<br>lat=%{lat}<br>lon=%{lon}<extra></extra>",
         "lat": [
          50.4674,
          50.4674,
          50.4674,
          50.4674,
          50.4674,
          50.4674,
          50.4674,
          50.4674,
          50.4674,
          50.4674,
          50.4674,
          50.4674,
          50.4674,
          50.4674,
          50.4674,
          50.4674,
          50.4674,
          50.4674,
          50.4674,
          50.4674,
          50.4674,
          50.4674,
          50.4674,
          50.4674,
          50.4674,
          50.4674,
          50.4674,
          50.4674,
          50.4674,
          50.4674,
          50.4674,
          50.4674,
          50.4674,
          50.4674
         ],
         "legendgroup": "Namur",
         "lon": [
          4.87199,
          4.87199,
          4.87199,
          4.87199,
          4.87199,
          4.87199,
          4.87199,
          4.87199,
          4.87199,
          4.87199,
          4.87199,
          4.87199,
          4.87199,
          4.87199,
          4.87199,
          4.87199,
          4.87199,
          4.87199,
          4.87199,
          4.87199,
          4.87199,
          4.87199,
          4.87199,
          4.87199,
          4.87199,
          4.87199,
          4.87199,
          4.87199,
          4.87199,
          4.87199,
          4.87199,
          4.87199,
          4.87199,
          4.87199
         ],
         "marker": {
          "color": "#EF553B",
          "size": [
           1,
           0,
           0,
           0,
           1,
           0,
           0,
           0,
           0,
           1,
           1,
           0,
           1,
           1,
           1,
           0,
           1,
           1,
           1,
           1,
           1,
           0,
           0,
           1,
           1,
           1,
           0,
           0,
           0,
           0,
           1,
           0,
           0,
           1
          ],
          "sizemode": "area",
          "sizeref": 0.5475
         },
         "mode": "markers",
         "name": "Namur",
         "showlegend": true,
         "subplot": "mapbox",
         "type": "scattermapbox"
        },
        {
         "hovertemplate": "city=Gerpinnes<br>deaths=%{marker.size}<br>lat=%{lat}<br>lon=%{lon}<extra></extra>",
         "lat": [
          50.3373
         ],
         "legendgroup": "Gerpinnes",
         "lon": [
          4.52779
         ],
         "marker": {
          "color": "#00cc96",
          "size": [
           1
          ],
          "sizemode": "area",
          "sizeref": 0.5475
         },
         "mode": "markers",
         "name": "Gerpinnes",
         "showlegend": true,
         "subplot": "mapbox",
         "type": "scattermapbox"
        },
        {
         "hovertemplate": "city=Mettet<br>deaths=%{marker.size}<br>lat=%{lat}<br>lon=%{lon}<extra></extra>",
         "lat": [
          50.32,
          50.32,
          50.32,
          50.32,
          50.32,
          50.32,
          50.32,
          50.32,
          50.32,
          50.32,
          50.32,
          50.32,
          50.32,
          50.32,
          50.32,
          50.32
         ],
         "legendgroup": "Mettet",
         "lon": [
          4.65785,
          4.65785,
          4.65785,
          4.65785,
          4.65785,
          4.65785,
          4.65785,
          4.65785,
          4.65785,
          4.65785,
          4.65785,
          4.65785,
          4.65785,
          4.65785,
          4.65785,
          4.65785
         ],
         "marker": {
          "color": "#ab63fa",
          "size": [
           0,
           0,
           0,
           0,
           1,
           1,
           1,
           0,
           0,
           0,
           1,
           1,
           0,
           0,
           1,
           1
          ],
          "sizemode": "area",
          "sizeref": 0.5475
         },
         "mode": "markers",
         "name": "Mettet",
         "showlegend": true,
         "subplot": "mapbox",
         "type": "scattermapbox"
        },
        {
         "hovertemplate": "city=Fleurus<br>deaths=%{marker.size}<br>lat=%{lat}<br>lon=%{lon}<extra></extra>",
         "lat": [
          50.4823,
          50.4823,
          50.4823,
          50.4823,
          50.4823,
          50.4823,
          50.4823,
          50.4823,
          50.4823,
          50.4823,
          50.4823
         ],
         "legendgroup": "Fleurus",
         "lon": [
          4.55119,
          4.55119,
          4.55119,
          4.55119,
          4.55119,
          4.55119,
          4.55119,
          4.55119,
          4.55119,
          4.55119,
          4.55119
         ],
         "marker": {
          "color": "#FFA15A",
          "size": [
           1,
           1,
           1,
           0,
           0,
           1,
           0,
           0,
           0,
           1,
           1
          ],
          "sizemode": "area",
          "sizeref": 0.5475
         },
         "mode": "markers",
         "name": "Fleurus",
         "showlegend": true,
         "subplot": "mapbox",
         "type": "scattermapbox"
        },
        {
         "hovertemplate": "city=Eghezee<br>deaths=%{marker.size}<br>lat=%{lat}<br>lon=%{lon}<extra></extra>",
         "lat": [
          50.5926,
          50.5926,
          50.5926,
          50.5926,
          50.5926,
          50.5926,
          50.5926,
          50.5926,
          50.5926,
          50.5926,
          50.5926,
          50.5926,
          50.59265
         ],
         "legendgroup": "Eghezee",
         "lon": [
          4.90365,
          4.90365,
          4.90365,
          4.90365,
          4.90365,
          4.90365,
          4.90365,
          4.90365,
          4.90365,
          4.90365,
          4.90365,
          4.90365,
          4.90365
         ],
         "marker": {
          "color": "#19d3f3",
          "size": [
           0,
           1,
           1,
           0,
           0,
           0,
           1,
           1,
           0,
           1,
           0,
           1,
           1
          ],
          "sizemode": "area",
          "sizeref": 0.5475
         },
         "mode": "markers",
         "name": "Eghezee",
         "showlegend": true,
         "subplot": "mapbox",
         "type": "scattermapbox"
        },
        {
         "hovertemplate": "city=Sombreffe<br>deaths=%{marker.size}<br>lat=%{lat}<br>lon=%{lon}<extra></extra>",
         "lat": [
          50.5287
         ],
         "legendgroup": "Sombreffe",
         "lon": [
          4.5884
         ],
         "marker": {
          "color": "#FF6692",
          "size": [
           1
          ],
          "sizemode": "area",
          "sizeref": 0.5475
         },
         "mode": "markers",
         "name": "Sombreffe",
         "showlegend": true,
         "subplot": "mapbox",
         "type": "scattermapbox"
        },
        {
         "hovertemplate": "city=Villers-la-Ville<br>deaths=%{marker.size}<br>lat=%{lat}<br>lon=%{lon}<extra></extra>",
         "lat": [
          50.5792,
          50.5792
         ],
         "legendgroup": "Villers-la-Ville",
         "lon": [
          4.53454,
          4.53454
         ],
         "marker": {
          "color": "#B6E880",
          "size": [
           0,
           1
          ],
          "sizemode": "area",
          "sizeref": 0.5475
         },
         "mode": "markers",
         "name": "Villers-la-Ville",
         "showlegend": true,
         "subplot": "mapbox",
         "type": "scattermapbox"
        },
        {
         "hovertemplate": "city=Chatelet<br>deaths=%{marker.size}<br>lat=%{lat}<br>lon=%{lon}<extra></extra>",
         "lat": [
          50.4061,
          50.4061,
          50.4061,
          50.4061,
          50.4061
         ],
         "legendgroup": "Chatelet",
         "lon": [
          4.52786,
          4.52786,
          4.52786,
          4.52786,
          4.52786
         ],
         "marker": {
          "color": "#FF97FF",
          "size": [
           0,
           1,
           0,
           1,
           1
          ],
          "sizemode": "area",
          "sizeref": 0.5475
         },
         "mode": "markers",
         "name": "Chatelet",
         "showlegend": true,
         "subplot": "mapbox",
         "type": "scattermapbox"
        },
        {
         "hovertemplate": "city=Hannut<br>deaths=%{marker.size}<br>lat=%{lat}<br>lon=%{lon}<extra></extra>",
         "lat": [
          50.6722,
          50.6722,
          50.6722
         ],
         "legendgroup": "Hannut",
         "lon": [
          5.07776,
          5.07776,
          5.07776
         ],
         "marker": {
          "color": "#FECB52",
          "size": [
           0,
           0,
           0
          ],
          "sizemode": "area",
          "sizeref": 0.5475
         },
         "mode": "markers",
         "name": "Hannut",
         "showlegend": true,
         "subplot": "mapbox",
         "type": "scattermapbox"
        },
        {
         "hovertemplate": "city=Ciney<br>deaths=%{marker.size}<br>lat=%{lat}<br>lon=%{lon}<extra></extra>",
         "lat": [
          50.2957,
          50.2957,
          50.2957
         ],
         "legendgroup": "Ciney",
         "lon": [
          5.10083,
          5.10083,
          5.10083
         ],
         "marker": {
          "color": "#636efa",
          "size": [
           1,
           1,
           0
          ],
          "sizemode": "area",
          "sizeref": 0.5475
         },
         "mode": "markers",
         "name": "Ciney",
         "showlegend": true,
         "subplot": "mapbox",
         "type": "scattermapbox"
        },
        {
         "hovertemplate": "city=Florennes<br>deaths=%{marker.size}<br>lat=%{lat}<br>lon=%{lon}<extra></extra>",
         "lat": [
          50.2506,
          50.2506,
          50.2506,
          50.2506,
          50.2506,
          50.2506,
          50.2506,
          50.2506,
          50.2506,
          50.2506
         ],
         "legendgroup": "Florennes",
         "lon": [
          4.60511,
          4.60511,
          4.60511,
          4.60511,
          4.60511,
          4.60511,
          4.60511,
          4.60511,
          4.60511,
          4.60511
         ],
         "marker": {
          "color": "#EF553B",
          "size": [
           0,
           1,
           1,
           1,
           0,
           1,
           0,
           0,
           1,
           1
          ],
          "sizemode": "area",
          "sizeref": 0.5475
         },
         "mode": "markers",
         "name": "Florennes",
         "showlegend": true,
         "subplot": "mapbox",
         "type": "scattermapbox"
        },
        {
         "hovertemplate": "city=Gembloux<br>deaths=%{marker.size}<br>lat=%{lat}<br>lon=%{lon}<extra></extra>",
         "lat": [
          50.5652,
          50.5652,
          50.5652,
          50.5652,
          50.5652,
          50.5652,
          50.5652,
          50.5652,
          50.5652,
          50.5652,
          50.5652,
          50.5652
         ],
         "legendgroup": "Gembloux",
         "lon": [
          4.68843,
          4.68843,
          4.68843,
          4.68843,
          4.68843,
          4.68843,
          4.68843,
          4.68843,
          4.68843,
          4.68843,
          4.68843,
          4.68843
         ],
         "marker": {
          "color": "#00cc96",
          "size": [
           0,
           1,
           1,
           1,
           1,
           1,
           1,
           1,
           1,
           1,
           0,
           1
          ],
          "sizemode": "area",
          "sizeref": 0.5475
         },
         "mode": "markers",
         "name": "Gembloux",
         "showlegend": true,
         "subplot": "mapbox",
         "type": "scattermapbox"
        },
        {
         "hovertemplate": "city=Houyet<br>deaths=%{marker.size}<br>lat=%{lat}<br>lon=%{lon}<extra></extra>",
         "lat": [
          50.1855
         ],
         "legendgroup": "Houyet",
         "lon": [
          5.00997
         ],
         "marker": {
          "color": "#ab63fa",
          "size": [
           1
          ],
          "sizemode": "area",
          "sizeref": 0.5475
         },
         "mode": "markers",
         "name": "Houyet",
         "showlegend": true,
         "subplot": "mapbox",
         "type": "scattermapbox"
        },
        {
         "hovertemplate": "city=Gesves<br>deaths=%{marker.size}<br>lat=%{lat}<br>lon=%{lon}<extra></extra>",
         "lat": [
          50.4025,
          50.4025
         ],
         "legendgroup": "Gesves",
         "lon": [
          5.07555,
          5.07555
         ],
         "marker": {
          "color": "#FFA15A",
          "size": [
           1,
           0
          ],
          "sizemode": "area",
          "sizeref": 0.5475
         },
         "mode": "markers",
         "name": "Gesves",
         "showlegend": true,
         "subplot": "mapbox",
         "type": "scattermapbox"
        },
        {
         "hovertemplate": "city=Hamois<br>deaths=%{marker.size}<br>lat=%{lat}<br>lon=%{lon}<extra></extra>",
         "lat": [
          50.341,
          50.341,
          50.341,
          50.341,
          50.341,
          50.341,
          50.341,
          50.341
         ],
         "legendgroup": "Hamois",
         "lon": [
          5.15685,
          5.15685,
          5.15685,
          5.15685,
          5.15685,
          5.15685,
          5.15685,
          5.15685
         ],
         "marker": {
          "color": "#19d3f3",
          "size": [
           1,
           0,
           0,
           0,
           0,
           0,
           0,
           0
          ],
          "sizemode": "area",
          "sizeref": 0.5475
         },
         "mode": "markers",
         "name": "Hamois",
         "showlegend": true,
         "subplot": "mapbox",
         "type": "scattermapbox"
        },
        {
         "hovertemplate": "city=Hastiere<br>deaths=%{marker.size}<br>lat=%{lat}<br>lon=%{lon}<extra></extra>",
         "lat": [
          50.2167,
          50.2167,
          50.2167,
          50.2167,
          50.2167
         ],
         "legendgroup": "Hastiere",
         "lon": [
          4.83333,
          4.83333,
          4.83333,
          4.83333,
          4.83333
         ],
         "marker": {
          "color": "#FF6692",
          "size": [
           1,
           0,
           0,
           1,
           0
          ],
          "sizemode": "area",
          "sizeref": 0.5475
         },
         "mode": "markers",
         "name": "Hastiere",
         "showlegend": true,
         "subplot": "mapbox",
         "type": "scattermapbox"
        },
        {
         "hovertemplate": "city=Yvoir<br>deaths=%{marker.size}<br>lat=%{lat}<br>lon=%{lon}<extra></extra>",
         "lat": [
          50.327,
          50.327
         ],
         "legendgroup": "Yvoir",
         "lon": [
          4.87786,
          4.87786
         ],
         "marker": {
          "color": "#B6E880",
          "size": [
           1,
           0
          ],
          "sizemode": "area",
          "sizeref": 0.5475
         },
         "mode": "markers",
         "name": "Yvoir",
         "showlegend": true,
         "subplot": "mapbox",
         "type": "scattermapbox"
        },
        {
         "hovertemplate": "city=Ohey<br>deaths=%{marker.size}<br>lat=%{lat}<br>lon=%{lon}<extra></extra>",
         "lat": [
          50.4367,
          50.4367,
          50.4367,
          50.4367,
          50.4367,
          50.4367
         ],
         "legendgroup": "Ohey",
         "lon": [
          5.1246,
          5.1246,
          5.1246,
          5.1246,
          5.1246,
          5.1246
         ],
         "marker": {
          "color": "#FF97FF",
          "size": [
           1,
           0,
           1,
           1,
           1,
           0
          ],
          "sizemode": "area",
          "sizeref": 0.5475
         },
         "mode": "markers",
         "name": "Ohey",
         "showlegend": true,
         "subplot": "mapbox",
         "type": "scattermapbox"
        },
        {
         "hovertemplate": "city=Jemeppe-sur-Sambre<br>deaths=%{marker.size}<br>lat=%{lat}<br>lon=%{lon}<extra></extra>",
         "lat": [
          50.4631,
          50.4631,
          50.4631,
          50.4631,
          50.4631,
          50.4631,
          50.4631,
          50.4631,
          50.4631,
          50.4631,
          50.4631,
          50.4631,
          50.4631,
          50.4631,
          50.4631,
          50.4631
         ],
         "legendgroup": "Jemeppe-sur-Sambre",
         "lon": [
          4.67869,
          4.67869,
          4.67869,
          4.67869,
          4.67869,
          4.67869,
          4.67869,
          4.67869,
          4.67869,
          4.67869,
          4.67869,
          4.67869,
          4.67869,
          4.67869,
          4.67869,
          4.67869
         ],
         "marker": {
          "color": "#FECB52",
          "size": [
           1,
           0,
           0,
           1,
           1,
           1,
           1,
           1,
           1,
           1,
           1,
           1,
           1,
           1,
           0,
           0
          ],
          "sizemode": "area",
          "sizeref": 0.5475
         },
         "mode": "markers",
         "name": "Jemeppe-sur-Sambre",
         "showlegend": true,
         "subplot": "mapbox",
         "type": "scattermapbox"
        },
        {
         "hovertemplate": "city=Fernelmont<br>deaths=%{marker.size}<br>lat=%{lat}<br>lon=%{lon}<extra></extra>",
         "lat": [
          50.55,
          50.55,
          50.55,
          50.55,
          50.55,
          50.55,
          50.55,
          50.55,
          50.55
         ],
         "legendgroup": "Fernelmont",
         "lon": [
          4.98333,
          4.98333,
          4.98333,
          4.98333,
          4.98333,
          4.98333,
          4.98333,
          4.98333,
          4.98333
         ],
         "marker": {
          "color": "#636efa",
          "size": [
           0,
           1,
           0,
           1,
           1,
           0,
           1,
           0,
           0
          ],
          "sizemode": "area",
          "sizeref": 0.5475
         },
         "mode": "markers",
         "name": "Fernelmont",
         "showlegend": true,
         "subplot": "mapbox",
         "type": "scattermapbox"
        },
        {
         "hovertemplate": "city=Bioul<br>deaths=%{marker.size}<br>lat=%{lat}<br>lon=%{lon}<extra></extra>",
         "lat": [
          50.3311,
          50.3311
         ],
         "legendgroup": "Bioul",
         "lon": [
          4.7961,
          4.7961
         ],
         "marker": {
          "color": "#EF553B",
          "size": [
           1,
           1
          ],
          "sizemode": "area",
          "sizeref": 0.5475
         },
         "mode": "markers",
         "name": "Bioul",
         "showlegend": true,
         "subplot": "mapbox",
         "type": "scattermapbox"
        },
        {
         "hovertemplate": "city=Charleroi<br>deaths=%{marker.size}<br>lat=%{lat}<br>lon=%{lon}<extra></extra>",
         "lat": [
          50.4108,
          50.4108,
          50.4108,
          50.4108,
          50.4108,
          50.4108,
          50.4108,
          50.4108,
          50.4108,
          50.4108,
          50.4108,
          50.4108
         ],
         "legendgroup": "Charleroi",
         "lon": [
          4.44464,
          4.44464,
          4.44464,
          4.44464,
          4.44464,
          4.44464,
          4.44464,
          4.44464,
          4.44464,
          4.44464,
          4.44464,
          4.44464
         ],
         "marker": {
          "color": "#00cc96",
          "size": [
           0,
           0,
           1,
           1,
           1,
           1,
           1,
           1,
           1,
           1,
           1,
           0
          ],
          "sizemode": "area",
          "sizeref": 0.5475
         },
         "mode": "markers",
         "name": "Charleroi",
         "showlegend": true,
         "subplot": "mapbox",
         "type": "scattermapbox"
        },
        {
         "hovertemplate": "city=Wasseiges<br>deaths=%{marker.size}<br>lat=%{lat}<br>lon=%{lon}<extra></extra>",
         "lat": [
          50.6175
         ],
         "legendgroup": "Wasseiges",
         "lon": [
          5.00162
         ],
         "marker": {
          "color": "#ab63fa",
          "size": [
           1
          ],
          "sizemode": "area",
          "sizeref": 0.5475
         },
         "mode": "markers",
         "name": "Wasseiges",
         "showlegend": true,
         "subplot": "mapbox",
         "type": "scattermapbox"
        },
        {
         "hovertemplate": "city=Pont-a-Celles<br>deaths=%{marker.size}<br>lat=%{lat}<br>lon=%{lon}<extra></extra>",
         "lat": [
          50.5135
         ],
         "legendgroup": "Pont-a-Celles",
         "lon": [
          4.35801
         ],
         "marker": {
          "color": "#FFA15A",
          "size": [
           1
          ],
          "sizemode": "area",
          "sizeref": 0.5475
         },
         "mode": "markers",
         "name": "Pont-a-Celles",
         "showlegend": true,
         "subplot": "mapbox",
         "type": "scattermapbox"
        },
        {
         "hovertemplate": "city=Profondeville<br>deaths=%{marker.size}<br>lat=%{lat}<br>lon=%{lon}<extra></extra>",
         "lat": [
          50.3757,
          50.3757,
          50.3757,
          50.3757
         ],
         "legendgroup": "Profondeville",
         "lon": [
          4.8674,
          4.8674,
          4.8674,
          4.8674
         ],
         "marker": {
          "color": "#19d3f3",
          "size": [
           1,
           1,
           1,
           1
          ],
          "sizemode": "area",
          "sizeref": 0.5475
         },
         "mode": "markers",
         "name": "Profondeville",
         "showlegend": true,
         "subplot": "mapbox",
         "type": "scattermapbox"
        },
        {
         "hovertemplate": "city=Burdinne<br>deaths=%{marker.size}<br>lat=%{lat}<br>lon=%{lon}<extra></extra>",
         "lat": [
          50.5841
         ],
         "legendgroup": "Burdinne",
         "lon": [
          5.07643
         ],
         "marker": {
          "color": "#FF6692",
          "size": [
           1
          ],
          "sizemode": "area",
          "sizeref": 0.5475
         },
         "mode": "markers",
         "name": "Burdinne",
         "showlegend": true,
         "subplot": "mapbox",
         "type": "scattermapbox"
        },
        {
         "hovertemplate": "city=Mons<br>deaths=%{marker.size}<br>lat=%{lat}<br>lon=%{lon}<extra></extra>",
         "lat": [
          50.4542
         ],
         "legendgroup": "Mons",
         "lon": [
          3.95666
         ],
         "marker": {
          "color": "#B6E880",
          "size": [
           1
          ],
          "sizemode": "area",
          "sizeref": 0.5475
         },
         "mode": "markers",
         "name": "Mons",
         "showlegend": true,
         "subplot": "mapbox",
         "type": "scattermapbox"
        },
        {
         "hovertemplate": "city=Seraing<br>deaths=%{marker.size}<br>lat=%{lat}<br>lon=%{lon}<extra></extra>",
         "lat": [
          50.5839
         ],
         "legendgroup": "Seraing",
         "lon": [
          5.49963
         ],
         "marker": {
          "color": "#FF97FF",
          "size": [
           1
          ],
          "sizemode": "area",
          "sizeref": 0.5475
         },
         "mode": "markers",
         "name": "Seraing",
         "showlegend": true,
         "subplot": "mapbox",
         "type": "scattermapbox"
        },
        {
         "hovertemplate": "city=Sambreville<br>deaths=%{marker.size}<br>lat=%{lat}<br>lon=%{lon}<extra></extra>",
         "lat": [
          50.4467
         ],
         "legendgroup": "Sambreville",
         "lon": [
          4.63073
         ],
         "marker": {
          "color": "#FECB52",
          "size": [
           0
          ],
          "sizemode": "area",
          "sizeref": 0.5475
         },
         "mode": "markers",
         "name": "Sambreville",
         "showlegend": true,
         "subplot": "mapbox",
         "type": "scattermapbox"
        },
        {
         "hovertemplate": "city=Assesse<br>deaths=%{marker.size}<br>lat=%{lat}<br>lon=%{lon}<extra></extra>",
         "lat": [
          50.3717,
          50.3717
         ],
         "legendgroup": "Assesse",
         "lon": [
          5.02227,
          5.02227
         ],
         "marker": {
          "color": "#636efa",
          "size": [
           0,
           0
          ],
          "sizemode": "area",
          "sizeref": 0.5475
         },
         "mode": "markers",
         "name": "Assesse",
         "showlegend": true,
         "subplot": "mapbox",
         "type": "scattermapbox"
        },
        {
         "hovertemplate": "city=La Bruyere<br>deaths=%{marker.size}<br>lat=%{lat}<br>lon=%{lon}<extra></extra>",
         "lat": [
          50.5
         ],
         "legendgroup": "La Bruyere",
         "lon": [
          4.8
         ],
         "marker": {
          "color": "#EF553B",
          "size": [
           1
          ],
          "sizemode": "area",
          "sizeref": 0.5475
         },
         "mode": "markers",
         "name": "La Bruyere",
         "showlegend": true,
         "subplot": "mapbox",
         "type": "scattermapbox"
        },
        {
         "hovertemplate": "city=Perwez<br>deaths=%{marker.size}<br>lat=%{lat}<br>lon=%{lon}<extra></extra>",
         "lat": [
          50.624,
          50.624
         ],
         "legendgroup": "Perwez",
         "lon": [
          4.81503,
          4.81503
         ],
         "marker": {
          "color": "#00cc96",
          "size": [
           1,
           1
          ],
          "sizemode": "area",
          "sizeref": 0.5475
         },
         "mode": "markers",
         "name": "Perwez",
         "showlegend": true,
         "subplot": "mapbox",
         "type": "scattermapbox"
        },
        {
         "hovertemplate": "city=Agen<br>deaths=%{marker.size}<br>lat=%{lat}<br>lon=%{lon}<extra></extra>",
         "lat": [
          44.203142,
          44.203142
         ],
         "legendgroup": "Agen",
         "lon": [
          0.616363,
          0.616363
         ],
         "marker": {
          "color": "#ab63fa",
          "size": [
           1,
           1
          ],
          "sizemode": "area",
          "sizeref": 0.5475
         },
         "mode": "markers",
         "name": "Agen",
         "showlegend": true,
         "subplot": "mapbox",
         "type": "scattermapbox"
        },
        {
         "hovertemplate": "city=Bearn<br>deaths=%{marker.size}<br>lat=%{lat}<br>lon=%{lon}<extra></extra>",
         "lat": [
          43.1350202,
          43.1350202,
          43.1350202,
          43.1350202,
          43.1350202,
          43.1350202,
          43.1350202,
          43.1350202,
          43.1350202
         ],
         "legendgroup": "Bearn",
         "lon": [
          -0.2136437,
          -0.2136437,
          -0.2136437,
          -0.2136437,
          -0.2136437,
          -0.2136437,
          -0.2136437,
          -0.2136437,
          -0.2136437
         ],
         "marker": {
          "color": "#FFA15A",
          "size": [
           1,
           0,
           0,
           1,
           0,
           0,
           0,
           0,
           0
          ],
          "sizemode": "area",
          "sizeref": 0.5475
         },
         "mode": "markers",
         "name": "Bearn",
         "showlegend": true,
         "subplot": "mapbox",
         "type": "scattermapbox"
        },
        {
         "hovertemplate": "city=Bordeaux<br>deaths=%{marker.size}<br>lat=%{lat}<br>lon=%{lon}<extra></extra>",
         "lat": [
          44.837789,
          44.837789
         ],
         "legendgroup": "Bordeaux",
         "lon": [
          -0.57918,
          -0.57918
         ],
         "marker": {
          "color": "#19d3f3",
          "size": [
           1,
           1
          ],
          "sizemode": "area",
          "sizeref": 0.5475
         },
         "mode": "markers",
         "name": "Bordeaux",
         "showlegend": true,
         "subplot": "mapbox",
         "type": "scattermapbox"
        },
        {
         "hovertemplate": "city=Saint-Jean-de-Luz<br>deaths=%{marker.size}<br>lat=%{lat}<br>lon=%{lon}<extra></extra>",
         "lat": [
          43.388051
         ],
         "legendgroup": "Saint-Jean-de-Luz",
         "lon": [
          -1.663055
         ],
         "marker": {
          "color": "#FF6692",
          "size": [
           1
          ],
          "sizemode": "area",
          "sizeref": 0.5475
         },
         "mode": "markers",
         "name": "Saint-Jean-de-Luz",
         "showlegend": true,
         "subplot": "mapbox",
         "type": "scattermapbox"
        },
        {
         "hovertemplate": "city=Nerac<br>deaths=%{marker.size}<br>lat=%{lat}<br>lon=%{lon}<extra></extra>",
         "lat": [
          44.136103
         ],
         "legendgroup": "Nerac",
         "lon": [
          0.340128
         ],
         "marker": {
          "color": "#B6E880",
          "size": [
           0
          ],
          "sizemode": "area",
          "sizeref": 0.5475
         },
         "mode": "markers",
         "name": "Nerac",
         "showlegend": true,
         "subplot": "mapbox",
         "type": "scattermapbox"
        },
        {
         "hovertemplate": "city=Riom<br>deaths=%{marker.size}<br>lat=%{lat}<br>lon=%{lon}<extra></extra>",
         "lat": [
          45.8939949,
          45.8939949
         ],
         "legendgroup": "Riom",
         "lon": [
          3.114932,
          3.114932
         ],
         "marker": {
          "color": "#FF97FF",
          "size": [
           1,
           0
          ],
          "sizemode": "area",
          "sizeref": 0.5475
         },
         "mode": "markers",
         "name": "Riom",
         "showlegend": true,
         "subplot": "mapbox",
         "type": "scattermapbox"
        },
        {
         "hovertemplate": "city=L'Oudon<br>deaths=%{marker.size}<br>lat=%{lat}<br>lon=%{lon}<extra></extra>",
         "lat": [
          48.9706758
         ],
         "legendgroup": "L'Oudon",
         "lon": [
          0.0321618
         ],
         "marker": {
          "color": "#FECB52",
          "size": [
           1
          ],
          "sizemode": "area",
          "sizeref": 0.5475
         },
         "mode": "markers",
         "name": "L'Oudon",
         "showlegend": true,
         "subplot": "mapbox",
         "type": "scattermapbox"
        },
        {
         "hovertemplate": "city=Nevers<br>deaths=%{marker.size}<br>lat=%{lat}<br>lon=%{lon}<extra></extra>",
         "lat": [
          46.990896
         ],
         "legendgroup": "Nevers",
         "lon": [
          3.162845
         ],
         "marker": {
          "color": "#636efa",
          "size": [
           1
          ],
          "sizemode": "area",
          "sizeref": 0.5475
         },
         "mode": "markers",
         "name": "Nevers",
         "showlegend": true,
         "subplot": "mapbox",
         "type": "scattermapbox"
        },
        {
         "hovertemplate": "city=Tonnerre<br>deaths=%{marker.size}<br>lat=%{lat}<br>lon=%{lon}<extra></extra>",
         "lat": [
          47.856724
         ],
         "legendgroup": "Tonnerre",
         "lon": [
          3.973527
         ],
         "marker": {
          "color": "#EF553B",
          "size": [
           1
          ],
          "sizemode": "area",
          "sizeref": 0.5475
         },
         "mode": "markers",
         "name": "Tonnerre",
         "showlegend": true,
         "subplot": "mapbox",
         "type": "scattermapbox"
        },
        {
         "hovertemplate": "city=Auxonne<br>deaths=%{marker.size}<br>lat=%{lat}<br>lon=%{lon}<extra></extra>",
         "lat": [
          47.193543
         ],
         "legendgroup": "Auxonne",
         "lon": [
          5.388925
         ],
         "marker": {
          "color": "#00cc96",
          "size": [
           2
          ],
          "sizemode": "area",
          "sizeref": 0.5475
         },
         "mode": "markers",
         "name": "Auxonne",
         "showlegend": true,
         "subplot": "mapbox",
         "type": "scattermapbox"
        },
        {
         "hovertemplate": "city=Dijon<br>deaths=%{marker.size}<br>lat=%{lat}<br>lon=%{lon}<extra></extra>",
         "lat": [
          47.322047
         ],
         "legendgroup": "Dijon",
         "lon": [
          5.04148
         ],
         "marker": {
          "color": "#ab63fa",
          "size": [
           1
          ],
          "sizemode": "area",
          "sizeref": 0.5475
         },
         "mode": "markers",
         "name": "Dijon",
         "showlegend": true,
         "subplot": "mapbox",
         "type": "scattermapbox"
        },
        {
         "hovertemplate": "city=Lorient<br>deaths=%{marker.size}<br>lat=%{lat}<br>lon=%{lon}<extra></extra>",
         "lat": [
          47.7482524
         ],
         "legendgroup": "Lorient",
         "lon": [
          -3.3702449
         ],
         "marker": {
          "color": "#FFA15A",
          "size": [
           0
          ],
          "sizemode": "area",
          "sizeref": 0.5475
         },
         "mode": "markers",
         "name": "Lorient",
         "showlegend": true,
         "subplot": "mapbox",
         "type": "scattermapbox"
        },
        {
         "hovertemplate": "city=Tours<br>deaths=%{marker.size}<br>lat=%{lat}<br>lon=%{lon}<extra></extra>",
         "lat": [
          47.394144
         ],
         "legendgroup": "Tours",
         "lon": [
          0.68484
         ],
         "marker": {
          "color": "#19d3f3",
          "size": [
           0
          ],
          "sizemode": "area",
          "sizeref": 0.5475
         },
         "mode": "markers",
         "name": "Tours",
         "showlegend": true,
         "subplot": "mapbox",
         "type": "scattermapbox"
        },
        {
         "hovertemplate": "city=Orleans<br>deaths=%{marker.size}<br>lat=%{lat}<br>lon=%{lon}<extra></extra>",
         "lat": [
          47.619788
         ],
         "legendgroup": "Orleans",
         "lon": [
          6.15428
         ],
         "marker": {
          "color": "#FF6692",
          "size": [
           18
          ],
          "sizemode": "area",
          "sizeref": 0.5475
         },
         "mode": "markers",
         "name": "Orleans",
         "showlegend": true,
         "subplot": "mapbox",
         "type": "scattermapbox"
        },
        {
         "hovertemplate": "city=Bievres<br>deaths=%{marker.size}<br>lat=%{lat}<br>lon=%{lon}<extra></extra>",
         "lat": [
          49.55626
         ],
         "legendgroup": "Bievres",
         "lon": [
          5.264767
         ],
         "marker": {
          "color": "#B6E880",
          "size": [
           1
          ],
          "sizemode": "area",
          "sizeref": 0.5475
         },
         "mode": "markers",
         "name": "Bievres",
         "showlegend": true,
         "subplot": "mapbox",
         "type": "scattermapbox"
        },
        {
         "hovertemplate": "city=Besancon<br>deaths=%{marker.size}<br>lat=%{lat}<br>lon=%{lon}<extra></extra>",
         "lat": [
          47.237829
         ],
         "legendgroup": "Besancon",
         "lon": [
          6.0240539
         ],
         "marker": {
          "color": "#FF97FF",
          "size": [
           2
          ],
          "sizemode": "area",
          "sizeref": 0.5475
         },
         "mode": "markers",
         "name": "Besancon",
         "showlegend": true,
         "subplot": "mapbox",
         "type": "scattermapbox"
        },
        {
         "hovertemplate": "city=Luxeuil-les-Bains<br>deaths=%{marker.size}<br>lat=%{lat}<br>lon=%{lon}<extra></extra>",
         "lat": [
          47.8168409,
          47.8168,
          47.8168,
          47.8168,
          47.8168,
          47.8168,
          47.8168,
          47.8168,
          47.8168,
          47.8168,
          47.8168,
          47.8168,
          47.8168,
          47.8168,
          47.8168,
          47.8168,
          47.8168,
          47.8168,
          47.8168,
          47.8168,
          47.8168,
          47.8168,
          47.8168,
          47.8168,
          47.8168
         ],
         "legendgroup": "Luxeuil-les-Bains",
         "lon": [
          6.381111,
          6.38111,
          6.38111,
          6.38111,
          6.38111,
          6.38111,
          6.38111,
          6.38111,
          6.38111,
          6.38111,
          6.38111,
          6.38111,
          6.38111,
          6.38111,
          6.38111,
          6.38111,
          6.38111,
          6.38111,
          6.38111,
          6.38111,
          6.38111,
          6.38111,
          6.38111,
          6.38111,
          6.38111
         ],
         "marker": {
          "color": "#FECB52",
          "size": [
           0,
           0,
           1,
           1,
           1,
           1,
           1,
           0,
           0,
           0,
           0,
           0,
           0,
           1,
           0,
           0,
           0,
           1,
           1,
           1,
           0,
           0,
           0,
           0,
           0
          ],
          "sizemode": "area",
          "sizeref": 0.5475
         },
         "mode": "markers",
         "name": "Luxeuil-les-Bains",
         "showlegend": true,
         "subplot": "mapbox",
         "type": "scattermapbox"
        },
        {
         "hovertemplate": "city=Dole<br>deaths=%{marker.size}<br>lat=%{lat}<br>lon=%{lon}<extra></extra>",
         "lat": [
          47.09534,
          47.0953,
          47.0953,
          47.0953,
          47.0953,
          47.0953,
          47.0953,
          47.0953,
          47.0953,
          47.0953,
          47.0953,
          47.0953,
          47.0953,
          47.0953,
          47.0953,
          47.0953,
          47.0953,
          47.0953,
          47.0953,
          47.0953,
          47.0953,
          47.0953,
          47.0953,
          47.0953,
          47.0953
         ],
         "legendgroup": "Dole",
         "lon": [
          5.49081,
          5.49081,
          5.49081,
          5.49081,
          5.49081,
          5.49081,
          5.49081,
          5.49081,
          5.49081,
          5.49081,
          5.49081,
          5.49081,
          5.49081,
          5.49081,
          5.49081,
          5.49081,
          5.49081,
          5.49081,
          5.49081,
          5.49081,
          5.49081,
          5.49081,
          5.49081,
          5.49081,
          5.49081
         ],
         "marker": {
          "color": "#636efa",
          "size": [
           1,
           0,
           1,
           1,
           0,
           1,
           1,
           0,
           0,
           0,
           0,
           0,
           0,
           0,
           0,
           1,
           0,
           1,
           0,
           1,
           0,
           0,
           1,
           1,
           0
          ],
          "sizemode": "area",
          "sizeref": 0.5475
         },
         "mode": "markers",
         "name": "Dole",
         "showlegend": true,
         "subplot": "mapbox",
         "type": "scattermapbox"
        },
        {
         "hovertemplate": "city=Vesoul<br>deaths=%{marker.size}<br>lat=%{lat}<br>lon=%{lon}<extra></extra>",
         "lat": [
          47.619788,
          47.619788,
          47.619788,
          47.6198,
          47.6198,
          47.6198,
          47.6198,
          47.6198,
          47.6198,
          47.6198,
          47.6198,
          47.6198,
          47.6198,
          47.6198,
          47.6198,
          47.6198,
          47.6198,
          47.6198,
          47.6198,
          47.6198,
          47.6198,
          47.6198,
          47.6198,
          47.6198,
          47.6198,
          47.6198,
          47.6198,
          47.6198,
          47.6198,
          47.6198,
          47.6198,
          47.6198,
          47.6198,
          47.6198,
          47.6198,
          47.6198,
          47.6198,
          47.6198,
          47.6198,
          47.6198,
          47.6198,
          47.6198,
          47.6198,
          47.6198,
          47.6198,
          47.6198,
          47.6198,
          47.6198,
          47.6198,
          47.6198,
          47.6198,
          47.6198,
          47.6198,
          47.6198,
          47.6198,
          47.6198,
          47.6198,
          47.6198,
          47.6198,
          47.6198,
          47.6198,
          47.6198,
          47.6198,
          47.6198
         ],
         "legendgroup": "Vesoul",
         "lon": [
          6.15428,
          6.15428,
          6.15428,
          6.15428,
          6.15428,
          6.15428,
          6.15428,
          6.15428,
          6.15428,
          6.15428,
          6.15428,
          6.15428,
          6.15428,
          6.15428,
          6.15428,
          6.15428,
          6.15428,
          6.15428,
          6.15428,
          6.15428,
          6.15428,
          6.15428,
          6.15428,
          6.15428,
          6.15428,
          6.15428,
          6.15428,
          6.15428,
          6.15428,
          6.15428,
          6.15428,
          6.15428,
          6.15428,
          6.15428,
          6.15428,
          6.15428,
          6.15428,
          6.15428,
          6.15428,
          6.15428,
          6.15428,
          6.15428,
          6.15428,
          6.15428,
          6.15428,
          6.15428,
          6.15428,
          6.15428,
          6.15428,
          6.15428,
          6.15428,
          6.15428,
          6.15428,
          6.15428,
          6.15428,
          6.15428,
          6.15428,
          6.15428,
          6.15428,
          6.15428,
          6.15428,
          6.15428,
          6.15428,
          6.15428
         ],
         "marker": {
          "color": "#EF553B",
          "size": [
           1,
           1,
           1,
           1,
           0,
           0,
           0,
           0,
           0,
           0,
           0,
           0,
           1,
           1,
           1,
           1,
           1,
           1,
           1,
           1,
           0,
           0,
           1,
           1,
           1,
           1,
           0,
           0,
           0,
           0,
           0,
           0,
           0,
           0,
           0,
           1,
           1,
           1,
           0,
           0,
           0,
           0,
           0,
           0,
           0,
           0,
           1,
           0,
           1,
           1,
           1,
           1,
           0,
           1,
           1,
           1,
           1,
           1,
           1,
           1,
           1,
           1,
           1,
           1
          ],
          "sizemode": "area",
          "sizeref": 0.5475
         },
         "mode": "markers",
         "name": "Vesoul",
         "showlegend": true,
         "subplot": "mapbox",
         "type": "scattermapbox"
        },
        {
         "hovertemplate": "city=Rouen<br>deaths=%{marker.size}<br>lat=%{lat}<br>lon=%{lon}<extra></extra>",
         "lat": [
          49.443232,
          49.443232,
          49.443232,
          49.443232,
          49.443232,
          49.443232
         ],
         "legendgroup": "Rouen",
         "lon": [
          1.099971,
          1.099971,
          1.099971,
          1.099971,
          1.099971,
          1.099971
         ],
         "marker": {
          "color": "#00cc96",
          "size": [
           1,
           1,
           1,
           1,
           1,
           1
          ],
          "sizemode": "area",
          "sizeref": 0.5475
         },
         "mode": "markers",
         "name": "Rouen",
         "showlegend": true,
         "subplot": "mapbox",
         "type": "scattermapbox"
        },
        {
         "hovertemplate": "city=Louviers<br>deaths=%{marker.size}<br>lat=%{lat}<br>lon=%{lon}<extra></extra>",
         "lat": [
          49.2152477,
          49.2152477,
          49.2152477,
          49.2152477
         ],
         "legendgroup": "Louviers",
         "lon": [
          1.1686123,
          1.1686123,
          1.1686123,
          1.1686123
         ],
         "marker": {
          "color": "#ab63fa",
          "size": [
           0,
           1,
           1,
           1
          ],
          "sizemode": "area",
          "sizeref": 0.5475
         },
         "mode": "markers",
         "name": "Louviers",
         "showlegend": true,
         "subplot": "mapbox",
         "type": "scattermapbox"
        },
        {
         "hovertemplate": "city=Londinieres<br>deaths=%{marker.size}<br>lat=%{lat}<br>lon=%{lon}<extra></extra>",
         "lat": [
          49.832774
         ],
         "legendgroup": "Londinieres",
         "lon": [
          1.402787
         ],
         "marker": {
          "color": "#FFA15A",
          "size": [
           8
          ],
          "sizemode": "area",
          "sizeref": 0.5475
         },
         "mode": "markers",
         "name": "Londinieres",
         "showlegend": true,
         "subplot": "mapbox",
         "type": "scattermapbox"
        },
        {
         "hovertemplate": "city=Paris<br>deaths=%{marker.size}<br>lat=%{lat}<br>lon=%{lon}<extra></extra>",
         "lat": [
          48.856614,
          48.856614,
          48.856614,
          48.856614,
          48.856614,
          48.856614,
          48.856614,
          48.856614,
          48.856614,
          48.856614,
          48.856614,
          48.856614,
          48.856614,
          48.856614,
          48.856614,
          48.856614,
          48.856614,
          48.856614,
          48.856614,
          48.856614,
          48.856614,
          48.856614,
          48.856614
         ],
         "legendgroup": "Paris",
         "lon": [
          2.3522219,
          2.3522219,
          2.3522219,
          2.3522219,
          2.3522219,
          2.3522219,
          2.3522219,
          2.3522219,
          2.3522219,
          2.3522219,
          2.3522219,
          2.3522219,
          2.3522219,
          2.3522219,
          2.3522219,
          2.3522219,
          2.3522219,
          2.3522219,
          2.3522219,
          2.3522219,
          2.3522219,
          2.3522219,
          2.3522219
         ],
         "marker": {
          "color": "#19d3f3",
          "size": [
           0,
           4,
           1,
           1,
           1,
           1,
           1,
           1,
           1,
           1,
           18,
           18,
           2,
           3,
           0,
           2,
           2,
           2,
           0,
           1,
           1,
           0,
           4
          ],
          "sizemode": "area",
          "sizeref": 0.5475
         },
         "mode": "markers",
         "name": "Paris",
         "showlegend": true,
         "subplot": "mapbox",
         "type": "scattermapbox"
        },
        {
         "hovertemplate": "city=Coulommiers<br>deaths=%{marker.size}<br>lat=%{lat}<br>lon=%{lon}<extra></extra>",
         "lat": [
          48.813071
         ],
         "legendgroup": "Coulommiers",
         "lon": [
          3.083497
         ],
         "marker": {
          "color": "#FF6692",
          "size": [
           0
          ],
          "sizemode": "area",
          "sizeref": 0.5475
         },
         "mode": "markers",
         "name": "Coulommiers",
         "showlegend": true,
         "subplot": "mapbox",
         "type": "scattermapbox"
        },
        {
         "hovertemplate": "city=Brie-Comte-Robert<br>deaths=%{marker.size}<br>lat=%{lat}<br>lon=%{lon}<extra></extra>",
         "lat": [
          48.6912267
         ],
         "legendgroup": "Brie-Comte-Robert",
         "lon": [
          2.6103697
         ],
         "marker": {
          "color": "#B6E880",
          "size": [
           3
          ],
          "sizemode": "area",
          "sizeref": 0.5475
         },
         "mode": "markers",
         "name": "Brie-Comte-Robert",
         "showlegend": true,
         "subplot": "mapbox",
         "type": "scattermapbox"
        },
        {
         "hovertemplate": "city=Carcassonne<br>deaths=%{marker.size}<br>lat=%{lat}<br>lon=%{lon}<extra></extra>",
         "lat": [
          43.212161,
          43.212161,
          43.212161,
          43.212161,
          43.212161,
          43.212161,
          43.212161,
          43.212161,
          43.212161,
          43.212161,
          43.212161
         ],
         "legendgroup": "Carcassonne",
         "lon": [
          2.353663,
          2.353663,
          2.353663,
          2.353663,
          2.353663,
          2.353663,
          2.353663,
          2.353663,
          2.353663,
          2.353663,
          2.353663
         ],
         "marker": {
          "color": "#FF97FF",
          "size": [
           1,
           1,
           1,
           1,
           1,
           1,
           0,
           0,
           0,
           0,
           1
          ],
          "sizemode": "area",
          "sizeref": 0.5475
         },
         "mode": "markers",
         "name": "Carcassonne",
         "showlegend": true,
         "subplot": "mapbox",
         "type": "scattermapbox"
        },
        {
         "hovertemplate": "city=Metz<br>deaths=%{marker.size}<br>lat=%{lat}<br>lon=%{lon}<extra></extra>",
         "lat": [
          49.1193089,
          49.119309,
          49.119309,
          49.119309,
          49.119309,
          49.119309,
          49.119309,
          49.119309
         ],
         "legendgroup": "Metz",
         "lon": [
          6.1757156,
          6.175716,
          6.175716,
          6.175716,
          6.175716,
          6.175716,
          6.175716,
          6.175716
         ],
         "marker": {
          "color": "#FECB52",
          "size": [
           4,
           1,
           3,
           1,
           4,
           4,
           11,
           29
          ],
          "sizemode": "area",
          "sizeref": 0.5475
         },
         "mode": "markers",
         "name": "Metz",
         "showlegend": true,
         "subplot": "mapbox",
         "type": "scattermapbox"
        },
        {
         "hovertemplate": "city=Nancy<br>deaths=%{marker.size}<br>lat=%{lat}<br>lon=%{lon}<extra></extra>",
         "lat": [
          48.692054,
          48.692054,
          48.692054
         ],
         "legendgroup": "Nancy",
         "lon": [
          6.184417,
          6.184417,
          6.184417
         ],
         "marker": {
          "color": "#636efa",
          "size": [
           1,
           1,
           1
          ],
          "sizemode": "area",
          "sizeref": 0.5475
         },
         "mode": "markers",
         "name": "Nancy",
         "showlegend": true,
         "subplot": "mapbox",
         "type": "scattermapbox"
        },
        {
         "hovertemplate": "city=Toulouse<br>deaths=%{marker.size}<br>lat=%{lat}<br>lon=%{lon}<extra></extra>",
         "lat": [
          43.604652,
          43.604652,
          43.604652,
          43.604652,
          43.604652,
          43.604652
         ],
         "legendgroup": "Toulouse",
         "lon": [
          1.444209,
          1.444209,
          1.444209,
          1.444209,
          1.444209,
          1.444209
         ],
         "marker": {
          "color": "#EF553B",
          "size": [
           1,
           1,
           8,
           40,
           9,
           0
          ],
          "sizemode": "area",
          "sizeref": 0.5475
         },
         "mode": "markers",
         "name": "Toulouse",
         "showlegend": true,
         "subplot": "mapbox",
         "type": "scattermapbox"
        },
        {
         "hovertemplate": "city=Cambrai<br>deaths=%{marker.size}<br>lat=%{lat}<br>lon=%{lon}<extra></extra>",
         "lat": [
          50.173538,
          50.173538
         ],
         "legendgroup": "Cambrai",
         "lon": [
          3.236633,
          3.236633
         ],
         "marker": {
          "color": "#00cc96",
          "size": [
           1,
           0
          ],
          "sizemode": "area",
          "sizeref": 0.5475
         },
         "mode": "markers",
         "name": "Cambrai",
         "showlegend": true,
         "subplot": "mapbox",
         "type": "scattermapbox"
        },
        {
         "hovertemplate": "city=Bailleul<br>deaths=%{marker.size}<br>lat=%{lat}<br>lon=%{lon}<extra></extra>",
         "lat": [
          50.736482
         ],
         "legendgroup": "Bailleul",
         "lon": [
          2.73559
         ],
         "marker": {
          "color": "#ab63fa",
          "size": [
           1
          ],
          "sizemode": "area",
          "sizeref": 0.5475
         },
         "mode": "markers",
         "name": "Bailleul",
         "showlegend": true,
         "subplot": "mapbox",
         "type": "scattermapbox"
        },
        {
         "hovertemplate": "city=Nantes<br>deaths=%{marker.size}<br>lat=%{lat}<br>lon=%{lon}<extra></extra>",
         "lat": [
          47.218371,
          47.218371
         ],
         "legendgroup": "Nantes",
         "lon": [
          -1.553621,
          -1.553621
         ],
         "marker": {
          "color": "#FFA15A",
          "size": [
           7,
           1
          ],
          "sizemode": "area",
          "sizeref": 0.5475
         },
         "mode": "markers",
         "name": "Nantes",
         "showlegend": true,
         "subplot": "mapbox",
         "type": "scattermapbox"
        },
        {
         "hovertemplate": "city=Saumur<br>deaths=%{marker.size}<br>lat=%{lat}<br>lon=%{lon}<extra></extra>",
         "lat": [
          47.260135
         ],
         "legendgroup": "Saumur",
         "lon": [
          -0.080893
         ],
         "marker": {
          "color": "#19d3f3",
          "size": [
           1
          ],
          "sizemode": "area",
          "sizeref": 0.5475
         },
         "mode": "markers",
         "name": "Saumur",
         "showlegend": true,
         "subplot": "mapbox",
         "type": "scattermapbox"
        },
        {
         "hovertemplate": "city=Angers<br>deaths=%{marker.size}<br>lat=%{lat}<br>lon=%{lon}<extra></extra>",
         "lat": [
          47.478419
         ],
         "legendgroup": "Angers",
         "lon": [
          -0.563166
         ],
         "marker": {
          "color": "#FF6692",
          "size": [
           1
          ],
          "sizemode": "area",
          "sizeref": 0.5475
         },
         "mode": "markers",
         "name": "Angers",
         "showlegend": true,
         "subplot": "mapbox",
         "type": "scattermapbox"
        },
        {
         "hovertemplate": "city=Saint-Quentin<br>deaths=%{marker.size}<br>lat=%{lat}<br>lon=%{lon}<extra></extra>",
         "lat": [
          49.847066
         ],
         "legendgroup": "Saint-Quentin",
         "lon": [
          3.2874
         ],
         "marker": {
          "color": "#B6E880",
          "size": [
           0
          ],
          "sizemode": "area",
          "sizeref": 0.5475
         },
         "mode": "markers",
         "name": "Saint-Quentin",
         "showlegend": true,
         "subplot": "mapbox",
         "type": "scattermapbox"
        },
        {
         "hovertemplate": "city=Chauny<br>deaths=%{marker.size}<br>lat=%{lat}<br>lon=%{lon}<extra></extra>",
         "lat": [
          49.615576,
          49.615576
         ],
         "legendgroup": "Chauny",
         "lon": [
          3.219421,
          3.219421
         ],
         "marker": {
          "color": "#FF97FF",
          "size": [
           2,
           2
          ],
          "sizemode": "area",
          "sizeref": 0.5475
         },
         "mode": "markers",
         "name": "Chauny",
         "showlegend": true,
         "subplot": "mapbox",
         "type": "scattermapbox"
        },
        {
         "hovertemplate": "city=Poitiers<br>deaths=%{marker.size}<br>lat=%{lat}<br>lon=%{lon}<extra></extra>",
         "lat": [
          46.580224,
          46.580224
         ],
         "legendgroup": "Poitiers",
         "lon": [
          0.340375,
          0.340375
         ],
         "marker": {
          "color": "#FECB52",
          "size": [
           1,
           3
          ],
          "sizemode": "area",
          "sizeref": 0.5475
         },
         "mode": "markers",
         "name": "Poitiers",
         "showlegend": true,
         "subplot": "mapbox",
         "type": "scattermapbox"
        },
        {
         "hovertemplate": "city=Nice<br>deaths=%{marker.size}<br>lat=%{lat}<br>lon=%{lon}<extra></extra>",
         "lat": [
          43.7101728,
          43.7101728
         ],
         "legendgroup": "Nice",
         "lon": [
          7.2619532,
          7.2619532
         ],
         "marker": {
          "color": "#636efa",
          "size": [
           0,
           1
          ],
          "sizemode": "area",
          "sizeref": 0.5475
         },
         "mode": "markers",
         "name": "Nice",
         "showlegend": true,
         "subplot": "mapbox",
         "type": "scattermapbox"
        },
        {
         "hovertemplate": "city=Avignon<br>deaths=%{marker.size}<br>lat=%{lat}<br>lon=%{lon}<extra></extra>",
         "lat": [
          43.949317,
          43.949317
         ],
         "legendgroup": "Avignon",
         "lon": [
          4.805528,
          4.805528
         ],
         "marker": {
          "color": "#EF553B",
          "size": [
           18,
           1
          ],
          "sizemode": "area",
          "sizeref": 0.5475
         },
         "mode": "markers",
         "name": "Avignon",
         "showlegend": true,
         "subplot": "mapbox",
         "type": "scattermapbox"
        },
        {
         "hovertemplate": "city=Aix-en-Provence<br>deaths=%{marker.size}<br>lat=%{lat}<br>lon=%{lon}<extra></extra>",
         "lat": [
          43.529742
         ],
         "legendgroup": "Aix-en-Provence",
         "lon": [
          5.447427
         ],
         "marker": {
          "color": "#00cc96",
          "size": [
           0
          ],
          "sizemode": "area",
          "sizeref": 0.5475
         },
         "mode": "markers",
         "name": "Aix-en-Provence",
         "showlegend": true,
         "subplot": "mapbox",
         "type": "scattermapbox"
        },
        {
         "hovertemplate": "city=Chamonix<br>deaths=%{marker.size}<br>lat=%{lat}<br>lon=%{lon}<extra></extra>",
         "lat": [
          45.923697,
          45.923697,
          45.923697,
          45.923697
         ],
         "legendgroup": "Chamonix",
         "lon": [
          6.869433,
          6.869433,
          6.869433,
          6.869433
         ],
         "marker": {
          "color": "#ab63fa",
          "size": [
           11,
           3,
           1,
           8
          ],
          "sizemode": "area",
          "sizeref": 0.5475
         },
         "mode": "markers",
         "name": "Chamonix",
         "showlegend": true,
         "subplot": "mapbox",
         "type": "scattermapbox"
        },
        {
         "hovertemplate": "city=Lyon<br>deaths=%{marker.size}<br>lat=%{lat}<br>lon=%{lon}<extra></extra>",
         "lat": [
          45.764043,
          45.764043,
          45.764043
         ],
         "legendgroup": "Lyon",
         "lon": [
          4.835659,
          4.835659,
          4.835659
         ],
         "marker": {
          "color": "#FFA15A",
          "size": [
           1,
           28,
           1
          ],
          "sizemode": "area",
          "sizeref": 0.5475
         },
         "mode": "markers",
         "name": "Lyon",
         "showlegend": true,
         "subplot": "mapbox",
         "type": "scattermapbox"
        },
        {
         "hovertemplate": "city=Boissey<br>deaths=%{marker.size}<br>lat=%{lat}<br>lon=%{lon}<extra></extra>",
         "lat": [
          46.3812
         ],
         "legendgroup": "Boissey",
         "lon": [
          4.996962
         ],
         "marker": {
          "color": "#19d3f3",
          "size": [
           1
          ],
          "sizemode": "area",
          "sizeref": 0.5475
         },
         "mode": "markers",
         "name": "Boissey",
         "showlegend": true,
         "subplot": "mapbox",
         "type": "scattermapbox"
        },
        {
         "hovertemplate": "city=Winterberg<br>deaths=%{marker.size}<br>lat=%{lat}<br>lon=%{lon}<extra></extra>",
         "lat": [
          51.1935,
          51.1935,
          51.1935,
          51.1935,
          51.1935
         ],
         "legendgroup": "Winterberg",
         "lon": [
          8.52758,
          8.52758,
          8.52758,
          8.52758,
          8.52758
         ],
         "marker": {
          "color": "#FF6692",
          "size": [
           0,
           1,
           0,
           0,
           1
          ],
          "sizemode": "area",
          "sizeref": 0.5475
         },
         "mode": "markers",
         "name": "Winterberg",
         "showlegend": true,
         "subplot": "mapbox",
         "type": "scattermapbox"
        },
        {
         "hovertemplate": "city=Arnsberg<br>deaths=%{marker.size}<br>lat=%{lat}<br>lon=%{lon}<extra></extra>",
         "lat": [
          51.4073,
          51.4073,
          51.4073,
          51.4073,
          51.4073,
          51.4073,
          51.4073,
          51.4073,
          51.4073,
          51.4073,
          51.4073,
          51.4073,
          51.4073,
          51.4073,
          51.4073,
          51.4073,
          51.4073,
          51.4073,
          51.4073,
          51.4073,
          51.4073,
          51.4073,
          51.4073,
          51.4073,
          51.4073,
          51.4073,
          51.4073,
          51.4073,
          51.4073,
          51.4073,
          51.4073,
          51.4073,
          51.4073,
          51.4073,
          51.4073,
          51.4073,
          51.4073,
          51.4073,
          51.4073,
          51.4073,
          51.4073,
          51.4073,
          51.4073,
          51.4073,
          51.4073,
          51.4073,
          51.4073,
          51.4073,
          51.4073
         ],
         "legendgroup": "Arnsberg",
         "lon": [
          8.05277,
          8.05277,
          8.05277,
          8.05277,
          8.05277,
          8.05277,
          8.05277,
          8.05277,
          8.05277,
          8.05277,
          8.05277,
          8.05277,
          8.05277,
          8.05277,
          8.05277,
          8.05277,
          8.05277,
          8.05277,
          8.05277,
          8.05277,
          8.05277,
          8.05277,
          8.05277,
          8.05277,
          8.05277,
          8.05277,
          8.05277,
          8.05277,
          8.05277,
          8.05277,
          8.05277,
          8.05277,
          8.05277,
          8.05277,
          8.05277,
          8.05277,
          8.05277,
          8.05277,
          8.05277,
          8.05277,
          8.05277,
          8.05277,
          8.05277,
          8.05277,
          8.05277,
          8.05277,
          8.05277,
          8.05277,
          8.05277
         ],
         "marker": {
          "color": "#B6E880",
          "size": [
           0,
           0,
           0,
           9,
           6,
           1,
           3,
           5,
           4,
           0,
           1,
           0,
           0,
           13,
           7,
           0,
           0,
           5,
           1,
           0,
           3,
           1,
           0,
           1,
           3,
           0,
           6,
           5,
           1,
           0,
           0,
           24,
           4,
           0,
           8,
           1,
           6,
           5,
           9,
           1,
           2,
           3,
           3,
           0,
           10,
           0,
           1,
           0,
           0
          ],
          "sizemode": "area",
          "sizeref": 0.5475
         },
         "mode": "markers",
         "name": "Arnsberg",
         "showlegend": true,
         "subplot": "mapbox",
         "type": "scattermapbox"
        },
        {
         "hovertemplate": "city=Anrochte<br>deaths=%{marker.size}<br>lat=%{lat}<br>lon=%{lon}<extra></extra>",
         "lat": [
          51.5622,
          51.5622
         ],
         "legendgroup": "Anrochte",
         "lon": [
          8.32562,
          8.32562
         ],
         "marker": {
          "color": "#FF97FF",
          "size": [
           0,
           3
          ],
          "sizemode": "area",
          "sizeref": 0.5475
         },
         "mode": "markers",
         "name": "Anrochte",
         "showlegend": true,
         "subplot": "mapbox",
         "type": "scattermapbox"
        },
        {
         "hovertemplate": "city=Bilstein<br>deaths=%{marker.size}<br>lat=%{lat}<br>lon=%{lon}<extra></extra>",
         "lat": [
          51.0943,
          51.0943,
          51.0943,
          51.0943,
          51.0943,
          51.0943,
          51.0943,
          51.0943,
          51.0943,
          51.0943,
          51.0943,
          51.0943
         ],
         "legendgroup": "Bilstein",
         "lon": [
          8.02011,
          8.02011,
          8.02011,
          8.02011,
          8.02011,
          8.02011,
          8.02011,
          8.02011,
          8.02011,
          8.02011,
          8.02011,
          8.02011
         ],
         "marker": {
          "color": "#FECB52",
          "size": [
           1,
           0,
           21,
           2,
           6,
           0,
           6,
           14,
           2,
           3,
           34,
           0
          ],
          "sizemode": "area",
          "sizeref": 0.5475
         },
         "mode": "markers",
         "name": "Bilstein",
         "showlegend": true,
         "subplot": "mapbox",
         "type": "scattermapbox"
        },
        {
         "hovertemplate": "city=Drolshagen<br>deaths=%{marker.size}<br>lat=%{lat}<br>lon=%{lon}<extra></extra>",
         "lat": [
          51.0245,
          51.0245,
          51.0245
         ],
         "legendgroup": "Drolshagen",
         "lon": [
          7.77063,
          7.77063,
          7.77063
         ],
         "marker": {
          "color": "#636efa",
          "size": [
           2,
           12,
           1
          ],
          "sizemode": "area",
          "sizeref": 0.5475
         },
         "mode": "markers",
         "name": "Drolshagen",
         "showlegend": true,
         "subplot": "mapbox",
         "type": "scattermapbox"
        },
        {
         "hovertemplate": "city=Padberg<br>deaths=%{marker.size}<br>lat=%{lat}<br>lon=%{lon}<extra></extra>",
         "lat": [
          51.4055,
          51.4055,
          51.4055,
          51.4055,
          51.4055,
          51.4055,
          51.4055
         ],
         "legendgroup": "Padberg",
         "lon": [
          8.76502,
          8.76502,
          8.76502,
          8.76502,
          8.76502,
          8.76502,
          8.76502
         ],
         "marker": {
          "color": "#EF553B",
          "size": [
           1,
           0,
           1,
           3,
           1,
           1,
           0
          ],
          "sizemode": "area",
          "sizeref": 0.5475
         },
         "mode": "markers",
         "name": "Padberg",
         "showlegend": true,
         "subplot": "mapbox",
         "type": "scattermapbox"
        },
        {
         "hovertemplate": "city=Finnentrop<br>deaths=%{marker.size}<br>lat=%{lat}<br>lon=%{lon}<extra></extra>",
         "lat": [
          51.1736
         ],
         "legendgroup": "Finnentrop",
         "lon": [
          7.97391
         ],
         "marker": {
          "color": "#00cc96",
          "size": [
           0
          ],
          "sizemode": "area",
          "sizeref": 0.5475
         },
         "mode": "markers",
         "name": "Finnentrop",
         "showlegend": true,
         "subplot": "mapbox",
         "type": "scattermapbox"
        },
        {
         "hovertemplate": "city=Olpe<br>deaths=%{marker.size}<br>lat=%{lat}<br>lon=%{lon}<extra></extra>",
         "lat": [
          51.0282,
          51.0282,
          51.0282,
          51.0282,
          51.0282,
          51.0282,
          51.0282,
          51.0282,
          51.0282,
          51.0282,
          51.0282,
          51.0282,
          51.0282,
          51.0282,
          51.0282,
          51.0282
         ],
         "legendgroup": "Olpe",
         "lon": [
          7.85029,
          7.85029,
          7.85029,
          7.85029,
          7.85029,
          7.85029,
          7.85029,
          7.85029,
          7.85029,
          7.85029,
          7.85029,
          7.85029,
          7.85029,
          7.85029,
          7.85029,
          7.85029
         ],
         "marker": {
          "color": "#ab63fa",
          "size": [
           0,
           0,
           2,
           0,
           2,
           12,
           2,
           0,
           1,
           0,
           0,
           1,
           0,
           1,
           1,
           1
          ],
          "sizemode": "area",
          "sizeref": 0.5475
         },
         "mode": "markers",
         "name": "Olpe",
         "showlegend": true,
         "subplot": "mapbox",
         "type": "scattermapbox"
        },
        {
         "hovertemplate": "city=Hallenberg<br>deaths=%{marker.size}<br>lat=%{lat}<br>lon=%{lon}<extra></extra>",
         "lat": [
          51.1127,
          51.1127,
          51.1127,
          51.1127,
          51.1127,
          51.1127,
          51.1127,
          51.1127,
          51.1127,
          51.1127,
          51.1127
         ],
         "legendgroup": "Hallenberg",
         "lon": [
          8.61958,
          8.61958,
          8.61958,
          8.61958,
          8.61958,
          8.61958,
          8.61958,
          8.61958,
          8.61958,
          8.61958,
          8.61958
         ],
         "marker": {
          "color": "#FFA15A",
          "size": [
           2,
           0,
           1,
           0,
           14,
           0,
           0,
           0,
           0,
           0,
           0
          ],
          "sizemode": "area",
          "sizeref": 0.5475
         },
         "mode": "markers",
         "name": "Hallenberg",
         "showlegend": true,
         "subplot": "mapbox",
         "type": "scattermapbox"
        },
        {
         "hovertemplate": "city=Attendorn<br>deaths=%{marker.size}<br>lat=%{lat}<br>lon=%{lon}<extra></extra>",
         "lat": [
          51.1314,
          51.1314,
          51.1314,
          51.1314
         ],
         "legendgroup": "Attendorn",
         "lon": [
          7.90494,
          7.90494,
          7.90494,
          7.90494
         ],
         "marker": {
          "color": "#19d3f3",
          "size": [
           1,
           0,
           0,
           2
          ],
          "sizemode": "area",
          "sizeref": 0.5475
         },
         "mode": "markers",
         "name": "Attendorn",
         "showlegend": true,
         "subplot": "mapbox",
         "type": "scattermapbox"
        },
        {
         "hovertemplate": "city=Menden<br>deaths=%{marker.size}<br>lat=%{lat}<br>lon=%{lon}<extra></extra>",
         "lat": [
          51.4377,
          51.4377,
          51.4377,
          51.4377,
          51.4377
         ],
         "legendgroup": "Menden",
         "lon": [
          7.79533,
          7.79533,
          7.79533,
          7.79533,
          7.79533
         ],
         "marker": {
          "color": "#FF6692",
          "size": [
           0,
           18,
           36,
           8,
           14
          ],
          "sizemode": "area",
          "sizeref": 0.5475
         },
         "mode": "markers",
         "name": "Menden",
         "showlegend": true,
         "subplot": "mapbox",
         "type": "scattermapbox"
        },
        {
         "hovertemplate": "city=Balve<br>deaths=%{marker.size}<br>lat=%{lat}<br>lon=%{lon}<extra></extra>",
         "lat": [
          51.3309,
          51.3309,
          51.3309,
          51.3309,
          51.3309,
          51.3309,
          51.3309,
          51.3309,
          51.3309,
          51.3309,
          51.3309,
          51.3309
         ],
         "legendgroup": "Balve",
         "lon": [
          7.86462,
          7.86462,
          7.86462,
          7.86462,
          7.86462,
          7.86462,
          7.86462,
          7.86462,
          7.86462,
          7.86462,
          7.86462,
          7.86462
         ],
         "marker": {
          "color": "#B6E880",
          "size": [
           0,
           0,
           2,
           2,
           74,
           110,
           87,
           13,
           11,
           7,
           0,
           1
          ],
          "sizemode": "area",
          "sizeref": 0.5475
         },
         "mode": "markers",
         "name": "Balve",
         "showlegend": true,
         "subplot": "mapbox",
         "type": "scattermapbox"
        },
        {
         "hovertemplate": "city=Warstein<br>deaths=%{marker.size}<br>lat=%{lat}<br>lon=%{lon}<extra></extra>",
         "lat": [
          51.4492,
          51.4492,
          51.4492,
          51.4492,
          51.4492,
          51.4492,
          51.4492,
          51.4492
         ],
         "legendgroup": "Warstein",
         "lon": [
          8.35577,
          8.35577,
          8.35577,
          8.35577,
          8.35577,
          8.35577,
          8.35577,
          8.35577
         ],
         "marker": {
          "color": "#FF97FF",
          "size": [
           4,
           0,
           0,
           0,
           11,
           1,
           1,
           0
          ],
          "sizemode": "area",
          "sizeref": 0.5475
         },
         "mode": "markers",
         "name": "Warstein",
         "showlegend": true,
         "subplot": "mapbox",
         "type": "scattermapbox"
        },
        {
         "hovertemplate": "city=Schmallenberg<br>deaths=%{marker.size}<br>lat=%{lat}<br>lon=%{lon}<extra></extra>",
         "lat": [
          51.1526,
          51.1526,
          51.1526,
          51.1526,
          51.1526,
          51.1526,
          51.1526
         ],
         "legendgroup": "Schmallenberg",
         "lon": [
          8.29079,
          8.29079,
          8.29079,
          8.29079,
          8.29079,
          8.29079,
          8.29079
         ],
         "marker": {
          "color": "#FECB52",
          "size": [
           2,
           52,
           0,
           4,
           4,
           7,
           2
          ],
          "sizemode": "area",
          "sizeref": 0.5475
         },
         "mode": "markers",
         "name": "Schmallenberg",
         "showlegend": true,
         "subplot": "mapbox",
         "type": "scattermapbox"
        },
        {
         "hovertemplate": "city=Bad Fredeburg<br>deaths=%{marker.size}<br>lat=%{lat}<br>lon=%{lon}<extra></extra>",
         "lat": [
          51.1914
         ],
         "legendgroup": "Bad Fredeburg",
         "lon": [
          8.31056
         ],
         "marker": {
          "color": "#636efa",
          "size": [
           40
          ],
          "sizemode": "area",
          "sizeref": 0.5475
         },
         "mode": "markers",
         "name": "Bad Fredeburg",
         "showlegend": true,
         "subplot": "mapbox",
         "type": "scattermapbox"
        },
        {
         "hovertemplate": "city=Medebach<br>deaths=%{marker.size}<br>lat=%{lat}<br>lon=%{lon}<extra></extra>",
         "lat": [
          51.2002
         ],
         "legendgroup": "Medebach",
         "lon": [
          8.70034
         ],
         "marker": {
          "color": "#EF553B",
          "size": [
           2
          ],
          "sizemode": "area",
          "sizeref": 0.5475
         },
         "mode": "markers",
         "name": "Medebach",
         "showlegend": true,
         "subplot": "mapbox",
         "type": "scattermapbox"
        },
        {
         "hovertemplate": "city=Sundern<br>deaths=%{marker.size}<br>lat=%{lat}<br>lon=%{lon}<extra></extra>",
         "lat": [
          51.3254
         ],
         "legendgroup": "Sundern",
         "lon": [
          8.00351
         ],
         "marker": {
          "color": "#00cc96",
          "size": [
           0
          ],
          "sizemode": "area",
          "sizeref": 0.5475
         },
         "mode": "markers",
         "name": "Sundern",
         "showlegend": true,
         "subplot": "mapbox",
         "type": "scattermapbox"
        },
        {
         "hovertemplate": "city=Meschede<br>deaths=%{marker.size}<br>lat=%{lat}<br>lon=%{lon}<extra></extra>",
         "lat": [
          51.3511,
          51.3511
         ],
         "legendgroup": "Meschede",
         "lon": [
          8.28513,
          8.28513
         ],
         "marker": {
          "color": "#ab63fa",
          "size": [
           1,
           1
          ],
          "sizemode": "area",
          "sizeref": 0.5475
         },
         "mode": "markers",
         "name": "Meschede",
         "showlegend": true,
         "subplot": "mapbox",
         "type": "scattermapbox"
        },
        {
         "hovertemplate": "city=Werl<br>deaths=%{marker.size}<br>lat=%{lat}<br>lon=%{lon}<extra></extra>",
         "lat": [
          51.5584,
          51.5584
         ],
         "legendgroup": "Werl",
         "lon": [
          7.91144,
          7.91144
         ],
         "marker": {
          "color": "#FFA15A",
          "size": [
           53,
           0
          ],
          "sizemode": "area",
          "sizeref": 0.5475
         },
         "mode": "markers",
         "name": "Werl",
         "showlegend": true,
         "subplot": "mapbox",
         "type": "scattermapbox"
        },
        {
         "hovertemplate": "city=Marsberg<br>deaths=%{marker.size}<br>lat=%{lat}<br>lon=%{lon}<extra></extra>",
         "lat": [
          51.4575
         ],
         "legendgroup": "Marsberg",
         "lon": [
          8.84746
         ],
         "marker": {
          "color": "#19d3f3",
          "size": [
           2
          ],
          "sizemode": "area",
          "sizeref": 0.5475
         },
         "mode": "markers",
         "name": "Marsberg",
         "showlegend": true,
         "subplot": "mapbox",
         "type": "scattermapbox"
        },
        {
         "hovertemplate": "city=Buren<br>deaths=%{marker.size}<br>lat=%{lat}<br>lon=%{lon}<extra></extra>",
         "lat": [
          51.5509,
          51.5509
         ],
         "legendgroup": "Buren",
         "lon": [
          8.55977,
          8.55977
         ],
         "marker": {
          "color": "#FF6692",
          "size": [
           12,
           1
          ],
          "sizemode": "area",
          "sizeref": 0.5475
         },
         "mode": "markers",
         "name": "Buren",
         "showlegend": true,
         "subplot": "mapbox",
         "type": "scattermapbox"
        },
        {
         "hovertemplate": "city=Reimerswaal<br>deaths=%{marker.size}<br>lat=%{lat}<br>lon=%{lon}<extra></extra>",
         "lat": [
          51.41,
          51.4100025
         ],
         "legendgroup": "Reimerswaal",
         "lon": [
          4.15445,
          4.1544478
         ],
         "marker": {
          "color": "#B6E880",
          "size": [
           0,
           0
          ],
          "sizemode": "area",
          "sizeref": 0.5475
         },
         "mode": "markers",
         "name": "Reimerswaal",
         "showlegend": true,
         "subplot": "mapbox",
         "type": "scattermapbox"
        },
        {
         "hovertemplate": "city=Veere<br>deaths=%{marker.size}<br>lat=%{lat}<br>lon=%{lon}<extra></extra>",
         "lat": [
          51.5483,
          51.5483,
          51.5483,
          51.5483
         ],
         "legendgroup": "Veere",
         "lon": [
          3.66601,
          3.66601,
          3.66601,
          3.66601
         ],
         "marker": {
          "color": "#FF97FF",
          "size": [
           0,
           0,
           1,
           1
          ],
          "sizemode": "area",
          "sizeref": 0.5475
         },
         "mode": "markers",
         "name": "Veere",
         "showlegend": true,
         "subplot": "mapbox",
         "type": "scattermapbox"
        },
        {
         "hovertemplate": "city=Vlissingen<br>deaths=%{marker.size}<br>lat=%{lat}<br>lon=%{lon}<extra></extra>",
         "lat": [
          51.4537,
          51.4537
         ],
         "legendgroup": "Vlissingen",
         "lon": [
          3.57091,
          3.57091
         ],
         "marker": {
          "color": "#FECB52",
          "size": [
           1,
           0
          ],
          "sizemode": "area",
          "sizeref": 0.5475
         },
         "mode": "markers",
         "name": "Vlissingen",
         "showlegend": true,
         "subplot": "mapbox",
         "type": "scattermapbox"
        },
        {
         "hovertemplate": "city=Middelburg<br>deaths=%{marker.size}<br>lat=%{lat}<br>lon=%{lon}<extra></extra>",
         "lat": [
          51.4988,
          51.4988,
          51.4988,
          51.4988,
          51.4988,
          51.4988,
          51.4988
         ],
         "legendgroup": "Middelburg",
         "lon": [
          3.611,
          3.611,
          3.611,
          3.611,
          3.611,
          3.611,
          3.611
         ],
         "marker": {
          "color": "#636efa",
          "size": [
           0,
           0,
           0,
           0,
           0,
           0,
           0
          ],
          "sizemode": "area",
          "sizeref": 0.5475
         },
         "mode": "markers",
         "name": "Middelburg",
         "showlegend": true,
         "subplot": "mapbox",
         "type": "scattermapbox"
        },
        {
         "hovertemplate": "city=Domburg<br>deaths=%{marker.size}<br>lat=%{lat}<br>lon=%{lon}<extra></extra>",
         "lat": [
          51.5635
         ],
         "legendgroup": "Domburg",
         "lon": [
          3.49986
         ],
         "marker": {
          "color": "#EF553B",
          "size": [
           0
          ],
          "sizemode": "area",
          "sizeref": 0.5475
         },
         "mode": "markers",
         "name": "Domburg",
         "showlegend": true,
         "subplot": "mapbox",
         "type": "scattermapbox"
        },
        {
         "hovertemplate": "city=Ouwerkerk<br>deaths=%{marker.size}<br>lat=%{lat}<br>lon=%{lon}<extra></extra>",
         "lat": [
          51.626
         ],
         "legendgroup": "Ouwerkerk",
         "lon": [
          3.98342
         ],
         "marker": {
          "color": "#00cc96",
          "size": [
           0
          ],
          "sizemode": "area",
          "sizeref": 0.5475
         },
         "mode": "markers",
         "name": "Ouwerkerk",
         "showlegend": true,
         "subplot": "mapbox",
         "type": "scattermapbox"
        },
        {
         "hovertemplate": "city=Zierikzee<br>deaths=%{marker.size}<br>lat=%{lat}<br>lon=%{lon}<extra></extra>",
         "lat": [
          51.6501,
          51.6501
         ],
         "legendgroup": "Zierikzee",
         "lon": [
          3.9185,
          3.9185
         ],
         "marker": {
          "color": "#ab63fa",
          "size": [
           0,
           0
          ],
          "sizemode": "area",
          "sizeref": 0.5475
         },
         "mode": "markers",
         "name": "Zierikzee",
         "showlegend": true,
         "subplot": "mapbox",
         "type": "scattermapbox"
        },
        {
         "hovertemplate": "city=Goes<br>deaths=%{marker.size}<br>lat=%{lat}<br>lon=%{lon}<extra></extra>",
         "lat": [
          51.5046,
          51.5046
         ],
         "legendgroup": "Goes",
         "lon": [
          3.89113,
          3.89113
         ],
         "marker": {
          "color": "#FFA15A",
          "size": [
           0,
           0
          ],
          "sizemode": "area",
          "sizeref": 0.5475
         },
         "mode": "markers",
         "name": "Goes",
         "showlegend": true,
         "subplot": "mapbox",
         "type": "scattermapbox"
        },
        {
         "hovertemplate": "city=Breskens<br>deaths=%{marker.size}<br>lat=%{lat}<br>lon=%{lon}<extra></extra>",
         "lat": [
          51.3945,
          51.3945
         ],
         "legendgroup": "Breskens",
         "lon": [
          3.55588,
          3.55588
         ],
         "marker": {
          "color": "#19d3f3",
          "size": [
           0,
           0
          ],
          "sizemode": "area",
          "sizeref": 0.5475
         },
         "mode": "markers",
         "name": "Breskens",
         "showlegend": true,
         "subplot": "mapbox",
         "type": "scattermapbox"
        },
        {
         "hovertemplate": "city=Borssele<br>deaths=%{marker.size}<br>lat=%{lat}<br>lon=%{lon}<extra></extra>",
         "lat": [
          51.4257,
          51.4257,
          51.4257
         ],
         "legendgroup": "Borssele",
         "lon": [
          3.73367,
          3.73367,
          3.73367
         ],
         "marker": {
          "color": "#FF6692",
          "size": [
           0,
           0,
           0
          ],
          "sizemode": "area",
          "sizeref": 0.5475
         },
         "mode": "markers",
         "name": "Borssele",
         "showlegend": true,
         "subplot": "mapbox",
         "type": "scattermapbox"
        },
        {
         "hovertemplate": "city=Hoek<br>deaths=%{marker.size}<br>lat=%{lat}<br>lon=%{lon}<extra></extra>",
         "lat": [
          51.3117,
          51.3117,
          51.3117,
          51.3117
         ],
         "legendgroup": "Hoek",
         "lon": [
          3.78072,
          3.78072,
          3.78072,
          3.78072
         ],
         "marker": {
          "color": "#B6E880",
          "size": [
           0,
           0,
           0,
           0
          ],
          "sizemode": "area",
          "sizeref": 0.5475
         },
         "mode": "markers",
         "name": "Hoek",
         "showlegend": true,
         "subplot": "mapbox",
         "type": "scattermapbox"
        },
        {
         "hovertemplate": "city=Sluis<br>deaths=%{marker.size}<br>lat=%{lat}<br>lon=%{lon}<extra></extra>",
         "lat": [
          51.3087
         ],
         "legendgroup": "Sluis",
         "lon": [
          3.38792
         ],
         "marker": {
          "color": "#FF97FF",
          "size": [
           0
          ],
          "sizemode": "area",
          "sizeref": 0.5475
         },
         "mode": "markers",
         "name": "Sluis",
         "showlegend": true,
         "subplot": "mapbox",
         "type": "scattermapbox"
        },
        {
         "hovertemplate": "city=Sint-Maartensdijk<br>deaths=%{marker.size}<br>lat=%{lat}<br>lon=%{lon}<extra></extra>",
         "lat": [
          51.5491,
          51.5491,
          51.5491
         ],
         "legendgroup": "Sint-Maartensdijk",
         "lon": [
          4.07672,
          4.07672,
          4.07672
         ],
         "marker": {
          "color": "#FECB52",
          "size": [
           0,
           0,
           0
          ],
          "sizemode": "area",
          "sizeref": 0.5475
         },
         "mode": "markers",
         "name": "Sint-Maartensdijk",
         "showlegend": true,
         "subplot": "mapbox",
         "type": "scattermapbox"
        },
        {
         "hovertemplate": "city=Scherpenisse<br>deaths=%{marker.size}<br>lat=%{lat}<br>lon=%{lon}<extra></extra>",
         "lat": [
          51.5463,
          51.5463,
          51.5463
         ],
         "legendgroup": "Scherpenisse",
         "lon": [
          4.10403,
          4.10403,
          4.10403
         ],
         "marker": {
          "color": "#636efa",
          "size": [
           0,
           0,
           0
          ],
          "sizemode": "area",
          "sizeref": 0.5475
         },
         "mode": "markers",
         "name": "Scherpenisse",
         "showlegend": true,
         "subplot": "mapbox",
         "type": "scattermapbox"
        },
        {
         "hovertemplate": "city=Biervliet<br>deaths=%{marker.size}<br>lat=%{lat}<br>lon=%{lon}<extra></extra>",
         "lat": [
          51.3286
         ],
         "legendgroup": "Biervliet",
         "lon": [
          3.6856
         ],
         "marker": {
          "color": "#EF553B",
          "size": [
           0
          ],
          "sizemode": "area",
          "sizeref": 0.5475
         },
         "mode": "markers",
         "name": "Biervliet",
         "showlegend": true,
         "subplot": "mapbox",
         "type": "scattermapbox"
        },
        {
         "hovertemplate": "city=Sint-Annaland<br>deaths=%{marker.size}<br>lat=%{lat}<br>lon=%{lon}<extra></extra>",
         "lat": [
          51.5999
         ],
         "legendgroup": "Sint-Annaland",
         "lon": [
          4.10332
         ],
         "marker": {
          "color": "#00cc96",
          "size": [
           0
          ],
          "sizemode": "area",
          "sizeref": 0.5475
         },
         "mode": "markers",
         "name": "Sint-Annaland",
         "showlegend": true,
         "subplot": "mapbox",
         "type": "scattermapbox"
        },
        {
         "hovertemplate": "city=Vrouwenpolder<br>deaths=%{marker.size}<br>lat=%{lat}<br>lon=%{lon}<extra></extra>",
         "lat": [
          51.5773
         ],
         "legendgroup": "Vrouwenpolder",
         "lon": [
          3.61875
         ],
         "marker": {
          "color": "#ab63fa",
          "size": [
           0
          ],
          "sizemode": "area",
          "sizeref": 0.5475
         },
         "mode": "markers",
         "name": "Vrouwenpolder",
         "showlegend": true,
         "subplot": "mapbox",
         "type": "scattermapbox"
        },
        {
         "hovertemplate": "city=Strassburg<br>deaths=%{marker.size}<br>lat=%{lat}<br>lon=%{lon}<extra></extra>",
         "lat": [
          48.573405,
          48.573405,
          48.573405
         ],
         "legendgroup": "Strassburg",
         "lon": [
          7.752111,
          7.752111,
          7.752111
         ],
         "marker": {
          "color": "#FFA15A",
          "size": [
           0,
           0,
           1
          ],
          "sizemode": "area",
          "sizeref": 0.5475
         },
         "mode": "markers",
         "name": "Strassburg",
         "showlegend": true,
         "subplot": "mapbox",
         "type": "scattermapbox"
        },
        {
         "hovertemplate": "city=Schlettstadt<br>deaths=%{marker.size}<br>lat=%{lat}<br>lon=%{lon}<extra></extra>",
         "lat": [
          48.259386
         ],
         "legendgroup": "Schlettstadt",
         "lon": [
          7.454241
         ],
         "marker": {
          "color": "#19d3f3",
          "size": [
           1
          ],
          "sizemode": "area",
          "sizeref": 0.5475
         },
         "mode": "markers",
         "name": "Schlettstadt",
         "showlegend": true,
         "subplot": "mapbox",
         "type": "scattermapbox"
        },
        {
         "hovertemplate": "city=Marmande<br>deaths=%{marker.size}<br>lat=%{lat}<br>lon=%{lon}<extra></extra>",
         "lat": [
          44.500484
         ],
         "legendgroup": "Marmande",
         "lon": [
          0.159869
         ],
         "marker": {
          "color": "#FF6692",
          "size": [
           7
          ],
          "sizemode": "area",
          "sizeref": 0.5475
         },
         "mode": "markers",
         "name": "Marmande",
         "showlegend": true,
         "subplot": "mapbox",
         "type": "scattermapbox"
        },
        {
         "hovertemplate": "city=Le Puy-en-Velay<br>deaths=%{marker.size}<br>lat=%{lat}<br>lon=%{lon}<extra></extra>",
         "lat": [
          45.042768
         ],
         "legendgroup": "Le Puy-en-Velay",
         "lon": [
          3.882936
         ],
         "marker": {
          "color": "#B6E880",
          "size": [
           1
          ],
          "sizemode": "area",
          "sizeref": 0.5475
         },
         "mode": "markers",
         "name": "Le Puy-en-Velay",
         "showlegend": true,
         "subplot": "mapbox",
         "type": "scattermapbox"
        },
        {
         "hovertemplate": "city=Ehingen<br>deaths=%{marker.size}<br>lat=%{lat}<br>lon=%{lon}<extra></extra>",
         "lat": [
          48.283333
         ],
         "legendgroup": "Ehingen",
         "lon": [
          9.723611
         ],
         "marker": {
          "color": "#FF97FF",
          "size": [
           1
          ],
          "sizemode": "area",
          "sizeref": 0.5475
         },
         "mode": "markers",
         "name": "Ehingen",
         "showlegend": true,
         "subplot": "mapbox",
         "type": "scattermapbox"
        },
        {
         "hovertemplate": "city=Konstanz<br>deaths=%{marker.size}<br>lat=%{lat}<br>lon=%{lon}<extra></extra>",
         "lat": [
          47.6779496,
          47.6779496,
          47.6779496,
          47.6779496,
          47.6779,
          47.6779,
          47.6779,
          47.6779,
          47.6779,
          47.6779,
          47.6779
         ],
         "legendgroup": "Konstanz",
         "lon": [
          9.1732384,
          9.1732384,
          9.1732384,
          9.1732384,
          9.17324,
          9.17324,
          9.17324,
          9.17324,
          9.17324,
          9.17324,
          9.17324
         ],
         "marker": {
          "color": "#FECB52",
          "size": [
           1,
           1,
           1,
           1,
           1,
           2,
           2,
           48,
           0,
           7,
           2
          ],
          "sizemode": "area",
          "sizeref": 0.5475
         },
         "mode": "markers",
         "name": "Konstanz",
         "showlegend": true,
         "subplot": "mapbox",
         "type": "scattermapbox"
        },
        {
         "hovertemplate": "city=Heidelberg<br>deaths=%{marker.size}<br>lat=%{lat}<br>lon=%{lon}<extra></extra>",
         "lat": [
          49.3987524,
          49.3988
         ],
         "legendgroup": "Heidelberg",
         "lon": [
          8.6724335,
          8.67243
         ],
         "marker": {
          "color": "#636efa",
          "size": [
           1,
           2
          ],
          "sizemode": "area",
          "sizeref": 0.5475
         },
         "mode": "markers",
         "name": "Heidelberg",
         "showlegend": true,
         "subplot": "mapbox",
         "type": "scattermapbox"
        },
        {
         "hovertemplate": "city=Ravensburg<br>deaths=%{marker.size}<br>lat=%{lat}<br>lon=%{lon}<extra></extra>",
         "lat": [
          47.7782704,
          47.7783
         ],
         "legendgroup": "Ravensburg",
         "lon": [
          9.6121303,
          9.61213
         ],
         "marker": {
          "color": "#EF553B",
          "size": [
           2,
           0
          ],
          "sizemode": "area",
          "sizeref": 0.5475
         },
         "mode": "markers",
         "name": "Ravensburg",
         "showlegend": true,
         "subplot": "mapbox",
         "type": "scattermapbox"
        },
        {
         "hovertemplate": "city=Liestal<br>deaths=%{marker.size}<br>lat=%{lat}<br>lon=%{lon}<extra></extra>",
         "lat": [
          47.481606
         ],
         "legendgroup": "Liestal",
         "lon": [
          7.7395731
         ],
         "marker": {
          "color": "#00cc96",
          "size": [
           1
          ],
          "sizemode": "area",
          "sizeref": 0.5475
         },
         "mode": "markers",
         "name": "Liestal",
         "showlegend": true,
         "subplot": "mapbox",
         "type": "scattermapbox"
        },
        {
         "hovertemplate": "city=Basel<br>deaths=%{marker.size}<br>lat=%{lat}<br>lon=%{lon}<extra></extra>",
         "lat": [
          47.5674422,
          47.5674422,
          47.5674422,
          47.5674422,
          47.5674422,
          47.5674422
         ],
         "legendgroup": "Basel",
         "lon": [
          7.5975507,
          7.5975507,
          7.5975507,
          7.5975507,
          7.5975507,
          7.5975507
         ],
         "marker": {
          "color": "#ab63fa",
          "size": [
           0,
           0,
           0,
           0,
           0,
           1
          ],
          "sizemode": "area",
          "sizeref": 0.5475
         },
         "mode": "markers",
         "name": "Basel",
         "showlegend": true,
         "subplot": "mapbox",
         "type": "scattermapbox"
        },
        {
         "hovertemplate": "city=Nurnberg<br>deaths=%{marker.size}<br>lat=%{lat}<br>lon=%{lon}<extra></extra>",
         "lat": [
          49.45203
         ],
         "legendgroup": "Nurnberg",
         "lon": [
          11.07675
         ],
         "marker": {
          "color": "#FFA15A",
          "size": [
           0
          ],
          "sizemode": "area",
          "sizeref": 0.5475
         },
         "mode": "markers",
         "name": "Nurnberg",
         "showlegend": true,
         "subplot": "mapbox",
         "type": "scattermapbox"
        },
        {
         "hovertemplate": "city=Nuremberg<br>deaths=%{marker.size}<br>lat=%{lat}<br>lon=%{lon}<extra></extra>",
         "lat": [
          49.45203,
          49.45203,
          49.45203,
          49.45203,
          49.45203,
          49.45203,
          49.45203,
          49.45203,
          49.45203,
          49.45203,
          49.45203,
          49.45203,
          49.45203
         ],
         "legendgroup": "Nuremberg",
         "lon": [
          11.07675,
          11.07675,
          11.07675,
          11.07675,
          11.07675,
          11.07675,
          11.07675,
          11.07675,
          11.07675,
          11.07675,
          11.07675,
          11.07675,
          11.07675
         ],
         "marker": {
          "color": "#19d3f3",
          "size": [
           0,
           0,
           0,
           0,
           0,
           0,
           0,
           0,
           0,
           0,
           0,
           0,
           0
          ],
          "sizemode": "area",
          "sizeref": 0.5475
         },
         "mode": "markers",
         "name": "Nuremberg",
         "showlegend": true,
         "subplot": "mapbox",
         "type": "scattermapbox"
        },
        {
         "hovertemplate": "city=Bamberg<br>deaths=%{marker.size}<br>lat=%{lat}<br>lon=%{lon}<extra></extra>",
         "lat": [
          49.898814
         ],
         "legendgroup": "Bamberg",
         "lon": [
          10.902764
         ],
         "marker": {
          "color": "#FF6692",
          "size": [
           0
          ],
          "sizemode": "area",
          "sizeref": 0.5475
         },
         "mode": "markers",
         "name": "Bamberg",
         "showlegend": true,
         "subplot": "mapbox",
         "type": "scattermapbox"
        },
        {
         "hovertemplate": "city=Holzkirchen<br>deaths=%{marker.size}<br>lat=%{lat}<br>lon=%{lon}<extra></extra>",
         "lat": [
          47.8810573
         ],
         "legendgroup": "Holzkirchen",
         "lon": [
          11.6997577
         ],
         "marker": {
          "color": "#B6E880",
          "size": [
           1
          ],
          "sizemode": "area",
          "sizeref": 0.5475
         },
         "mode": "markers",
         "name": "Holzkirchen",
         "showlegend": true,
         "subplot": "mapbox",
         "type": "scattermapbox"
        },
        {
         "hovertemplate": "city=Berlin<br>deaths=%{marker.size}<br>lat=%{lat}<br>lon=%{lon}<extra></extra>",
         "lat": [
          52.5200066,
          52.5200066,
          52.5200066,
          52.5200066
         ],
         "legendgroup": "Berlin",
         "lon": [
          13.404954,
          13.404954,
          13.404954,
          13.404954
         ],
         "marker": {
          "color": "#FF97FF",
          "size": [
           1,
           1,
           1,
           2
          ],
          "sizemode": "area",
          "sizeref": 0.5475
         },
         "mode": "markers",
         "name": "Berlin",
         "showlegend": true,
         "subplot": "mapbox",
         "type": "scattermapbox"
        },
        {
         "hovertemplate": "city=Bern<br>deaths=%{marker.size}<br>lat=%{lat}<br>lon=%{lon}<extra></extra>",
         "lat": [
          46.9479222,
          46.9479222,
          46.9479222
         ],
         "legendgroup": "Bern",
         "lon": [
          7.4446085,
          7.4446085,
          7.4446085
         ],
         "marker": {
          "color": "#FECB52",
          "size": [
           1,
           1,
           0
          ],
          "sizemode": "area",
          "sizeref": 0.5475
         },
         "mode": "markers",
         "name": "Bern",
         "showlegend": true,
         "subplot": "mapbox",
         "type": "scattermapbox"
        },
        {
         "hovertemplate": "city=Autun<br>deaths=%{marker.size}<br>lat=%{lat}<br>lon=%{lon}<extra></extra>",
         "lat": [
          46.950914
         ],
         "legendgroup": "Autun",
         "lon": [
          4.301565
         ],
         "marker": {
          "color": "#636efa",
          "size": [
           0
          ],
          "sizemode": "area",
          "sizeref": 0.5475
         },
         "mode": "markers",
         "name": "Autun",
         "showlegend": true,
         "subplot": "mapbox",
         "type": "scattermapbox"
        },
        {
         "hovertemplate": "city=Macon<br>deaths=%{marker.size}<br>lat=%{lat}<br>lon=%{lon}<extra></extra>",
         "lat": [
          46.3068839,
          46.3068839,
          46.3068839,
          46.3068839
         ],
         "legendgroup": "Macon",
         "lon": [
          4.828731,
          4.828731,
          4.828731,
          4.828731
         ],
         "marker": {
          "color": "#EF553B",
          "size": [
           1,
           1,
           1,
           1
          ],
          "sizemode": "area",
          "sizeref": 0.5475
         },
         "mode": "markers",
         "name": "Macon",
         "showlegend": true,
         "subplot": "mapbox",
         "type": "scattermapbox"
        },
        {
         "hovertemplate": "city=Angermunde<br>deaths=%{marker.size}<br>lat=%{lat}<br>lon=%{lon}<extra></extra>",
         "lat": [
          53.014542
         ],
         "legendgroup": "Angermunde",
         "lon": [
          13.996593
         ],
         "marker": {
          "color": "#00cc96",
          "size": [
           14
          ],
          "sizemode": "area",
          "sizeref": 0.5475
         },
         "mode": "markers",
         "name": "Angermunde",
         "showlegend": true,
         "subplot": "mapbox",
         "type": "scattermapbox"
        },
        {
         "hovertemplate": "city=Prenzlau<br>deaths=%{marker.size}<br>lat=%{lat}<br>lon=%{lon}<extra></extra>",
         "lat": [
          53.3173433
         ],
         "legendgroup": "Prenzlau",
         "lon": [
          13.8633409
         ],
         "marker": {
          "color": "#ab63fa",
          "size": [
           0
          ],
          "sizemode": "area",
          "sizeref": 0.5475
         },
         "mode": "markers",
         "name": "Prenzlau",
         "showlegend": true,
         "subplot": "mapbox",
         "type": "scattermapbox"
        },
        {
         "hovertemplate": "city=Brussels<br>deaths=%{marker.size}<br>lat=%{lat}<br>lon=%{lon}<extra></extra>",
         "lat": [
          50.85034
         ],
         "legendgroup": "Brussels",
         "lon": [
          4.35171
         ],
         "marker": {
          "color": "#FFA15A",
          "size": [
           0
          ],
          "sizemode": "area",
          "sizeref": 0.5475
         },
         "mode": "markers",
         "name": "Brussels",
         "showlegend": true,
         "subplot": "mapbox",
         "type": "scattermapbox"
        },
        {
         "hovertemplate": "city=Barcelona<br>deaths=%{marker.size}<br>lat=%{lat}<br>lon=%{lon}<extra></extra>",
         "lat": [
          41.3850639,
          41.3850639
         ],
         "legendgroup": "Barcelona",
         "lon": [
          2.1734035,
          2.1734035
         ],
         "marker": {
          "color": "#19d3f3",
          "size": [
           0,
           0
          ],
          "sizemode": "area",
          "sizeref": 0.5475
         },
         "mode": "markers",
         "name": "Barcelona",
         "showlegend": true,
         "subplot": "mapbox",
         "type": "scattermapbox"
        },
        {
         "hovertemplate": "city=Vic<br>deaths=%{marker.size}<br>lat=%{lat}<br>lon=%{lon}<extra></extra>",
         "lat": [
          41.9304373
         ],
         "legendgroup": "Vic",
         "lon": [
          2.2544335
         ],
         "marker": {
          "color": "#FF6692",
          "size": [
           1
          ],
          "sizemode": "area",
          "sizeref": 0.5475
         },
         "mode": "markers",
         "name": "Vic",
         "showlegend": true,
         "subplot": "mapbox",
         "type": "scattermapbox"
        },
        {
         "hovertemplate": "city=Chalons-sur-Marne<br>deaths=%{marker.size}<br>lat=%{lat}<br>lon=%{lon}<extra></extra>",
         "lat": [
          48.956682
         ],
         "legendgroup": "Chalons-sur-Marne",
         "lon": [
          4.363073
         ],
         "marker": {
          "color": "#B6E880",
          "size": [
           0
          ],
          "sizemode": "area",
          "sizeref": 0.5475
         },
         "mode": "markers",
         "name": "Chalons-sur-Marne",
         "showlegend": true,
         "subplot": "mapbox",
         "type": "scattermapbox"
        },
        {
         "hovertemplate": "city=Ferrara<br>deaths=%{marker.size}<br>lat=%{lat}<br>lon=%{lon}<extra></extra>",
         "lat": [
          44.8381237
         ],
         "legendgroup": "Ferrara",
         "lon": [
          11.619787
         ],
         "marker": {
          "color": "#FF97FF",
          "size": [
           1
          ],
          "sizemode": "area",
          "sizeref": 0.5475
         },
         "mode": "markers",
         "name": "Ferrara",
         "showlegend": true,
         "subplot": "mapbox",
         "type": "scattermapbox"
        },
        {
         "hovertemplate": "city=Coventry<br>deaths=%{marker.size}<br>lat=%{lat}<br>lon=%{lon}<extra></extra>",
         "lat": [
          52.406822
         ],
         "legendgroup": "Coventry",
         "lon": [
          -1.519693
         ],
         "marker": {
          "color": "#FECB52",
          "size": [
           0
          ],
          "sizemode": "area",
          "sizeref": 0.5475
         },
         "mode": "markers",
         "name": "Coventry",
         "showlegend": true,
         "subplot": "mapbox",
         "type": "scattermapbox"
        },
        {
         "hovertemplate": "city=Exeter<br>deaths=%{marker.size}<br>lat=%{lat}<br>lon=%{lon}<extra></extra>",
         "lat": [
          50.718412,
          50.718412
         ],
         "legendgroup": "Exeter",
         "lon": [
          -3.533899,
          -3.533899
         ],
         "marker": {
          "color": "#636efa",
          "size": [
           0,
           0
          ],
          "sizemode": "area",
          "sizeref": 0.5475
         },
         "mode": "markers",
         "name": "Exeter",
         "showlegend": true,
         "subplot": "mapbox",
         "type": "scattermapbox"
        },
        {
         "hovertemplate": "city=London<br>deaths=%{marker.size}<br>lat=%{lat}<br>lon=%{lon}<extra></extra>",
         "lat": [
          51.5073509,
          51.5073509,
          51.5073509,
          51.5073509,
          51.5073509,
          51.5073509,
          51.5073509,
          51.5073509,
          51.5073509
         ],
         "legendgroup": "London",
         "lon": [
          -0.1277583,
          -0.1277583,
          -0.1277583,
          -0.1277583,
          -0.1277583,
          -0.1277583,
          -0.1277583,
          -0.1277583,
          -0.1277583
         ],
         "marker": {
          "color": "#EF553B",
          "size": [
           0,
           0,
           1,
           0,
           0,
           2,
           0,
           0,
           0
          ],
          "sizemode": "area",
          "sizeref": 0.5475
         },
         "mode": "markers",
         "name": "London",
         "showlegend": true,
         "subplot": "mapbox",
         "type": "scattermapbox"
        },
        {
         "hovertemplate": "city=Hatfield<br>deaths=%{marker.size}<br>lat=%{lat}<br>lon=%{lon}<extra></extra>",
         "lat": [
          51.763366
         ],
         "legendgroup": "Hatfield",
         "lon": [
          -0.22309
         ],
         "marker": {
          "color": "#00cc96",
          "size": [
           0
          ],
          "sizemode": "area",
          "sizeref": 0.5475
         },
         "mode": "markers",
         "name": "Hatfield",
         "showlegend": true,
         "subplot": "mapbox",
         "type": "scattermapbox"
        },
        {
         "hovertemplate": "city=Southwark<br>deaths=%{marker.size}<br>lat=%{lat}<br>lon=%{lon}<extra></extra>",
         "lat": [
          51.5073509
         ],
         "legendgroup": "Southwark",
         "lon": [
          -0.1277583
         ],
         "marker": {
          "color": "#ab63fa",
          "size": [
           0
          ],
          "sizemode": "area",
          "sizeref": 0.5475
         },
         "mode": "markers",
         "name": "Southwark",
         "showlegend": true,
         "subplot": "mapbox",
         "type": "scattermapbox"
        },
        {
         "hovertemplate": "city=Canterbury<br>deaths=%{marker.size}<br>lat=%{lat}<br>lon=%{lon}<extra></extra>",
         "lat": [
          51.280233
         ],
         "legendgroup": "Canterbury",
         "lon": [
          1.0789089
         ],
         "marker": {
          "color": "#FFA15A",
          "size": [
           0
          ],
          "sizemode": "area",
          "sizeref": 0.5475
         },
         "mode": "markers",
         "name": "Canterbury",
         "showlegend": true,
         "subplot": "mapbox",
         "type": "scattermapbox"
        },
        {
         "hovertemplate": "city=Durham<br>deaths=%{marker.size}<br>lat=%{lat}<br>lon=%{lon}<extra></extra>",
         "lat": [
          54.77525,
          54.77525
         ],
         "legendgroup": "Durham",
         "lon": [
          -1.584852,
          -1.584852
         ],
         "marker": {
          "color": "#19d3f3",
          "size": [
           0,
           0
          ],
          "sizemode": "area",
          "sizeref": 0.5475
         },
         "mode": "markers",
         "name": "Durham",
         "showlegend": true,
         "subplot": "mapbox",
         "type": "scattermapbox"
        },
        {
         "hovertemplate": "city=Wadenhoe<br>deaths=%{marker.size}<br>lat=%{lat}<br>lon=%{lon}<extra></extra>",
         "lat": [
          52.439983
         ],
         "legendgroup": "Wadenhoe",
         "lon": [
          -0.514431
         ],
         "marker": {
          "color": "#FF6692",
          "size": [
           0
          ],
          "sizemode": "area",
          "sizeref": 0.5475
         },
         "mode": "markers",
         "name": "Wadenhoe",
         "showlegend": true,
         "subplot": "mapbox",
         "type": "scattermapbox"
        },
        {
         "hovertemplate": "city=Ely<br>deaths=%{marker.size}<br>lat=%{lat}<br>lon=%{lon}<extra></extra>",
         "lat": [
          52.399539
         ],
         "legendgroup": "Ely",
         "lon": [
          0.262363
         ],
         "marker": {
          "color": "#B6E880",
          "size": [
           0
          ],
          "sizemode": "area",
          "sizeref": 0.5475
         },
         "mode": "markers",
         "name": "Ely",
         "showlegend": true,
         "subplot": "mapbox",
         "type": "scattermapbox"
        },
        {
         "hovertemplate": "city=Fribourg<br>deaths=%{marker.size}<br>lat=%{lat}<br>lon=%{lon}<extra></extra>",
         "lat": [
          46.8016663,
          46.8016663,
          46.8016663,
          46.8016663,
          46.8016663,
          46.8016663,
          46.8016663,
          46.8016663,
          46.8016663,
          46.8016663,
          46.8016663,
          46.8016663,
          46.8016663,
          46.8016663,
          46.8016663,
          46.8016663
         ],
         "legendgroup": "Fribourg",
         "lon": [
          7.1455683,
          7.1455683,
          7.1455683,
          7.1455683,
          7.1455683,
          7.1455683,
          7.1455683,
          7.1455683,
          7.1455683,
          7.1455683,
          7.1455683,
          7.1455683,
          7.1455683,
          7.1455683,
          7.1455683,
          7.1455683
         ],
         "marker": {
          "color": "#FF97FF",
          "size": [
           0,
           0,
           0,
           0,
           0,
           1,
           1,
           2,
           5,
           8,
           1,
           4,
           1,
           2,
           2,
           1
          ],
          "sizemode": "area",
          "sizeref": 0.5475
         },
         "mode": "markers",
         "name": "Fribourg",
         "showlegend": true,
         "subplot": "mapbox",
         "type": "scattermapbox"
        },
        {
         "hovertemplate": "city=Murten<br>deaths=%{marker.size}<br>lat=%{lat}<br>lon=%{lon}<extra></extra>",
         "lat": [
          46.9293433
         ],
         "legendgroup": "Murten",
         "lon": [
          7.1204652
         ],
         "marker": {
          "color": "#FECB52",
          "size": [
           1
          ],
          "sizemode": "area",
          "sizeref": 0.5475
         },
         "mode": "markers",
         "name": "Murten",
         "showlegend": true,
         "subplot": "mapbox",
         "type": "scattermapbox"
        },
        {
         "hovertemplate": "city=Putten<br>deaths=%{marker.size}<br>lat=%{lat}<br>lon=%{lon}<extra></extra>",
         "lat": [
          52.258676,
          52.258676
         ],
         "legendgroup": "Putten",
         "lon": [
          5.6053727,
          5.6053727
         ],
         "marker": {
          "color": "#636efa",
          "size": [
           0,
           0
          ],
          "sizemode": "area",
          "sizeref": 0.5475
         },
         "mode": "markers",
         "name": "Putten",
         "showlegend": true,
         "subplot": "mapbox",
         "type": "scattermapbox"
        },
        {
         "hovertemplate": "city=Zutphen<br>deaths=%{marker.size}<br>lat=%{lat}<br>lon=%{lon}<extra></extra>",
         "lat": [
          52.142736
         ],
         "legendgroup": "Zutphen",
         "lon": [
          6.1960584
         ],
         "marker": {
          "color": "#EF553B",
          "size": [
           1
          ],
          "sizemode": "area",
          "sizeref": 0.5475
         },
         "mode": "markers",
         "name": "Zutphen",
         "showlegend": true,
         "subplot": "mapbox",
         "type": "scattermapbox"
        },
        {
         "hovertemplate": "city=Poznan<br>deaths=%{marker.size}<br>lat=%{lat}<br>lon=%{lon}<extra></extra>",
         "lat": [
          52.406374
         ],
         "legendgroup": "Poznan",
         "lon": [
          16.9251681
         ],
         "marker": {
          "color": "#00cc96",
          "size": [
           0
          ],
          "sizemode": "area",
          "sizeref": 0.5475
         },
         "mode": "markers",
         "name": "Poznan",
         "showlegend": true,
         "subplot": "mapbox",
         "type": "scattermapbox"
        },
        {
         "hovertemplate": "city=Hamburg<br>deaths=%{marker.size}<br>lat=%{lat}<br>lon=%{lon}<extra></extra>",
         "lat": [
          53.5510846,
          53.5510846,
          53.5510846
         ],
         "legendgroup": "Hamburg",
         "lon": [
          9.9936818,
          9.9936818,
          9.9936818
         ],
         "marker": {
          "color": "#ab63fa",
          "size": [
           2,
           1,
           1
          ],
          "sizemode": "area",
          "sizeref": 0.5475
         },
         "mode": "markers",
         "name": "Hamburg",
         "showlegend": true,
         "subplot": "mapbox",
         "type": "scattermapbox"
        },
        {
         "hovertemplate": "city=Frankfurt am Main<br>deaths=%{marker.size}<br>lat=%{lat}<br>lon=%{lon}<extra></extra>",
         "lat": [
          50.1109221,
          50.1109221,
          50.1109221
         ],
         "legendgroup": "Frankfurt am Main",
         "lon": [
          8.6821267,
          8.6821267,
          8.6821267
         ],
         "marker": {
          "color": "#FFA15A",
          "size": [
           0,
           0,
           1
          ],
          "sizemode": "area",
          "sizeref": 0.5475
         },
         "mode": "markers",
         "name": "Frankfurt am Main",
         "showlegend": true,
         "subplot": "mapbox",
         "type": "scattermapbox"
        },
        {
         "hovertemplate": "city=Dillenburg<br>deaths=%{marker.size}<br>lat=%{lat}<br>lon=%{lon}<extra></extra>",
         "lat": [
          50.7452841
         ],
         "legendgroup": "Dillenburg",
         "lon": [
          8.2807631
         ],
         "marker": {
          "color": "#19d3f3",
          "size": [
           1
          ],
          "sizemode": "area",
          "sizeref": 0.5475
         },
         "mode": "markers",
         "name": "Dillenburg",
         "showlegend": true,
         "subplot": "mapbox",
         "type": "scattermapbox"
        },
        {
         "hovertemplate": "city=Chateau-Landon<br>deaths=%{marker.size}<br>lat=%{lat}<br>lon=%{lon}<extra></extra>",
         "lat": [
          48.150232
         ],
         "legendgroup": "Chateau-Landon",
         "lon": [
          2.704426
         ],
         "marker": {
          "color": "#FF6692",
          "size": [
           1
          ],
          "sizemode": "area",
          "sizeref": 0.5475
         },
         "mode": "markers",
         "name": "Chateau-Landon",
         "showlegend": true,
         "subplot": "mapbox",
         "type": "scattermapbox"
        },
        {
         "hovertemplate": "city=Mantes<br>deaths=%{marker.size}<br>lat=%{lat}<br>lon=%{lon}<extra></extra>",
         "lat": [
          48.989323
         ],
         "legendgroup": "Mantes",
         "lon": [
          1.714958
         ],
         "marker": {
          "color": "#B6E880",
          "size": [
           0
          ],
          "sizemode": "area",
          "sizeref": 0.5475
         },
         "mode": "markers",
         "name": "Mantes",
         "showlegend": true,
         "subplot": "mapbox",
         "type": "scattermapbox"
        },
        {
         "hovertemplate": "city=Mende<br>deaths=%{marker.size}<br>lat=%{lat}<br>lon=%{lon}<extra></extra>",
         "lat": [
          44.517611
         ],
         "legendgroup": "Mende",
         "lon": [
          3.501873
         ],
         "marker": {
          "color": "#FF97FF",
          "size": [
           0
          ],
          "sizemode": "area",
          "sizeref": 0.5475
         },
         "mode": "markers",
         "name": "Mende",
         "showlegend": true,
         "subplot": "mapbox",
         "type": "scattermapbox"
        },
        {
         "hovertemplate": "city=Rome<br>deaths=%{marker.size}<br>lat=%{lat}<br>lon=%{lon}<extra></extra>",
         "lat": [
          41.9027835,
          41.9027835
         ],
         "legendgroup": "Rome",
         "lon": [
          12.4963655,
          12.4963655
         ],
         "marker": {
          "color": "#FECB52",
          "size": [
           1,
           1
          ],
          "sizemode": "area",
          "sizeref": 0.5475
         },
         "mode": "markers",
         "name": "Rome",
         "showlegend": true,
         "subplot": "mapbox",
         "type": "scattermapbox"
        },
        {
         "hovertemplate": "city=Milan<br>deaths=%{marker.size}<br>lat=%{lat}<br>lon=%{lon}<extra></extra>",
         "lat": [
          45.4654219,
          45.4654219,
          45.4654219,
          45.4654219,
          45.4654219
         ],
         "legendgroup": "Milan",
         "lon": [
          9.1859243,
          9.1859243,
          9.1859243,
          9.1859243,
          9.1859243
         ],
         "marker": {
          "color": "#636efa",
          "size": [
           0,
           1,
           1,
           1,
           0
          ],
          "sizemode": "area",
          "sizeref": 0.5475
         },
         "mode": "markers",
         "name": "Milan",
         "showlegend": true,
         "subplot": "mapbox",
         "type": "scattermapbox"
        },
        {
         "hovertemplate": "city=Brescia<br>deaths=%{marker.size}<br>lat=%{lat}<br>lon=%{lon}<extra></extra>",
         "lat": [
          45.5415526,
          45.5415526
         ],
         "legendgroup": "Brescia",
         "lon": [
          10.2118019,
          10.2118019
         ],
         "marker": {
          "color": "#EF553B",
          "size": [
           0,
           0
          ],
          "sizemode": "area",
          "sizeref": 0.5475
         },
         "mode": "markers",
         "name": "Brescia",
         "showlegend": true,
         "subplot": "mapbox",
         "type": "scattermapbox"
        },
        {
         "hovertemplate": "city=Bormio<br>deaths=%{marker.size}<br>lat=%{lat}<br>lon=%{lon}<extra></extra>",
         "lat": [
          46.4663571
         ],
         "legendgroup": "Bormio",
         "lon": [
          10.3704671
         ],
         "marker": {
          "color": "#00cc96",
          "size": [
           40
          ],
          "sizemode": "area",
          "sizeref": 0.5475
         },
         "mode": "markers",
         "name": "Bormio",
         "showlegend": true,
         "subplot": "mapbox",
         "type": "scattermapbox"
        },
        {
         "hovertemplate": "city=Halfedanges<br>deaths=%{marker.size}<br>lat=%{lat}<br>lon=%{lon}<extra></extra>",
         "lat": [
          49.073894
         ],
         "legendgroup": "Halfedanges",
         "lon": [
          6.52544
         ],
         "marker": {
          "color": "#ab63fa",
          "size": [
           0
          ],
          "sizemode": "area",
          "sizeref": 0.5475
         },
         "mode": "markers",
         "name": "Halfedanges",
         "showlegend": true,
         "subplot": "mapbox",
         "type": "scattermapbox"
        },
        {
         "hovertemplate": "city=Verdun<br>deaths=%{marker.size}<br>lat=%{lat}<br>lon=%{lon}<extra></extra>",
         "lat": [
          49.1598764
         ],
         "legendgroup": "Verdun",
         "lon": [
          5.3844231
         ],
         "marker": {
          "color": "#FFA15A",
          "size": [
           1
          ],
          "sizemode": "area",
          "sizeref": 0.5475
         },
         "mode": "markers",
         "name": "Verdun",
         "showlegend": true,
         "subplot": "mapbox",
         "type": "scattermapbox"
        },
        {
         "hovertemplate": "city=Gorze<br>deaths=%{marker.size}<br>lat=%{lat}<br>lon=%{lon}<extra></extra>",
         "lat": [
          49.053754
         ],
         "legendgroup": "Gorze",
         "lon": [
          5.998718
         ],
         "marker": {
          "color": "#19d3f3",
          "size": [
           1
          ],
          "sizemode": "area",
          "sizeref": 0.5475
         },
         "mode": "markers",
         "name": "Gorze",
         "showlegend": true,
         "subplot": "mapbox",
         "type": "scattermapbox"
        },
        {
         "hovertemplate": "city=Bar<br>deaths=%{marker.size}<br>lat=%{lat}<br>lon=%{lon}<extra></extra>",
         "lat": [
          48.773605
         ],
         "legendgroup": "Bar",
         "lon": [
          5.158238
         ],
         "marker": {
          "color": "#FF6692",
          "size": [
           1
          ],
          "sizemode": "area",
          "sizeref": 0.5475
         },
         "mode": "markers",
         "name": "Bar",
         "showlegend": true,
         "subplot": "mapbox",
         "type": "scattermapbox"
        },
        {
         "hovertemplate": "city=Monthureux-sur-Saone<br>deaths=%{marker.size}<br>lat=%{lat}<br>lon=%{lon}<extra></extra>",
         "lat": [
          48.030485
         ],
         "legendgroup": "Monthureux-sur-Saone",
         "lon": [
          5.972523
         ],
         "marker": {
          "color": "#B6E880",
          "size": [
           4
          ],
          "sizemode": "area",
          "sizeref": 0.5475
         },
         "mode": "markers",
         "name": "Monthureux-sur-Saone",
         "showlegend": true,
         "subplot": "mapbox",
         "type": "scattermapbox"
        },
        {
         "hovertemplate": "city=Breslau<br>deaths=%{marker.size}<br>lat=%{lat}<br>lon=%{lon}<extra></extra>",
         "lat": [
          51.1078852,
          51.1078852,
          51.1078852,
          51.1078852,
          51.1078852,
          51.1078852
         ],
         "legendgroup": "Breslau",
         "lon": [
          17.0385376,
          17.0385376,
          17.0385376,
          17.0385376,
          17.0385376,
          17.0385376
         ],
         "marker": {
          "color": "#FF97FF",
          "size": [
           2,
           0,
           0,
           1,
           0,
           0
          ],
          "sizemode": "area",
          "sizeref": 0.5475
         },
         "mode": "markers",
         "name": "Breslau",
         "showlegend": true,
         "subplot": "mapbox",
         "type": "scattermapbox"
        },
        {
         "hovertemplate": "city=Willisau<br>deaths=%{marker.size}<br>lat=%{lat}<br>lon=%{lon}<extra></extra>",
         "lat": [
          47.1211763
         ],
         "legendgroup": "Willisau",
         "lon": [
          7.9924888
         ],
         "marker": {
          "color": "#FECB52",
          "size": [
           1
          ],
          "sizemode": "area",
          "sizeref": 0.5475
         },
         "mode": "markers",
         "name": "Willisau",
         "showlegend": true,
         "subplot": "mapbox",
         "type": "scattermapbox"
        },
        {
         "hovertemplate": "city=Stade<br>deaths=%{marker.size}<br>lat=%{lat}<br>lon=%{lon}<extra></extra>",
         "lat": [
          53.5928618
         ],
         "legendgroup": "Stade",
         "lon": [
          9.4709494
         ],
         "marker": {
          "color": "#636efa",
          "size": [
           3
          ],
          "sizemode": "area",
          "sizeref": 0.5475
         },
         "mode": "markers",
         "name": "Stade",
         "showlegend": true,
         "subplot": "mapbox",
         "type": "scattermapbox"
        },
        {
         "hovertemplate": "city=Braunschweig<br>deaths=%{marker.size}<br>lat=%{lat}<br>lon=%{lon}<extra></extra>",
         "lat": [
          52.2688736
         ],
         "legendgroup": "Braunschweig",
         "lon": [
          10.5267696
         ],
         "marker": {
          "color": "#EF553B",
          "size": [
           0
          ],
          "sizemode": "area",
          "sizeref": 0.5475
         },
         "mode": "markers",
         "name": "Braunschweig",
         "showlegend": true,
         "subplot": "mapbox",
         "type": "scattermapbox"
        },
        {
         "hovertemplate": "city=Hildesheim<br>deaths=%{marker.size}<br>lat=%{lat}<br>lon=%{lon}<extra></extra>",
         "lat": [
          52.154778,
          52.154778
         ],
         "legendgroup": "Hildesheim",
         "lon": [
          9.9579652,
          9.9579652
         ],
         "marker": {
          "color": "#00cc96",
          "size": [
           2,
           2
          ],
          "sizemode": "area",
          "sizeref": 0.5475
         },
         "mode": "markers",
         "name": "Hildesheim",
         "showlegend": true,
         "subplot": "mapbox",
         "type": "scattermapbox"
        },
        {
         "hovertemplate": "city=Mons-en-Pevele<br>deaths=%{marker.size}<br>lat=%{lat}<br>lon=%{lon}<extra></extra>",
         "lat": [
          50.480352
         ],
         "legendgroup": "Mons-en-Pevele",
         "lon": [
          3.099575
         ],
         "marker": {
          "color": "#ab63fa",
          "size": [
           0
          ],
          "sizemode": "area",
          "sizeref": 0.5475
         },
         "mode": "markers",
         "name": "Mons-en-Pevele",
         "showlegend": true,
         "subplot": "mapbox",
         "type": "scattermapbox"
        },
        {
         "hovertemplate": "city=Douai<br>deaths=%{marker.size}<br>lat=%{lat}<br>lon=%{lon}<extra></extra>",
         "lat": [
          50.367874,
          50.367874,
          50.367874,
          50.367874,
          50.367874
         ],
         "legendgroup": "Douai",
         "lon": [
          3.080602,
          3.080602,
          3.080602,
          3.080602,
          3.080602
         ],
         "marker": {
          "color": "#FFA15A",
          "size": [
           0,
           0,
           2,
           1,
           1
          ],
          "sizemode": "area",
          "sizeref": 0.5475
         },
         "mode": "markers",
         "name": "Douai",
         "showlegend": true,
         "subplot": "mapbox",
         "type": "scattermapbox"
        },
        {
         "hovertemplate": "city=Lille<br>deaths=%{marker.size}<br>lat=%{lat}<br>lon=%{lon}<extra></extra>",
         "lat": [
          50.62925
         ],
         "legendgroup": "Lille",
         "lon": [
          3.057256
         ],
         "marker": {
          "color": "#19d3f3",
          "size": [
           1
          ],
          "sizemode": "area",
          "sizeref": 0.5475
         },
         "mode": "markers",
         "name": "Lille",
         "showlegend": true,
         "subplot": "mapbox",
         "type": "scattermapbox"
        },
        {
         "hovertemplate": "city=Rouvroy<br>deaths=%{marker.size}<br>lat=%{lat}<br>lon=%{lon}<extra></extra>",
         "lat": [
          50.393268
         ],
         "legendgroup": "Rouvroy",
         "lon": [
          2.90375
         ],
         "marker": {
          "color": "#FF6692",
          "size": [
           0
          ],
          "sizemode": "area",
          "sizeref": 0.5475
         },
         "mode": "markers",
         "name": "Rouvroy",
         "showlegend": true,
         "subplot": "mapbox",
         "type": "scattermapbox"
        },
        {
         "hovertemplate": "city=Paderborn<br>deaths=%{marker.size}<br>lat=%{lat}<br>lon=%{lon}<extra></extra>",
         "lat": [
          51.7189205
         ],
         "legendgroup": "Paderborn",
         "lon": [
          8.7575093
         ],
         "marker": {
          "color": "#B6E880",
          "size": [
           0
          ],
          "sizemode": "area",
          "sizeref": 0.5475
         },
         "mode": "markers",
         "name": "Paderborn",
         "showlegend": true,
         "subplot": "mapbox",
         "type": "scattermapbox"
        },
        {
         "hovertemplate": "city=Cologne<br>deaths=%{marker.size}<br>lat=%{lat}<br>lon=%{lon}<extra></extra>",
         "lat": [
          50.937531,
          50.937531,
          50.937531,
          50.937531,
          50.937531
         ],
         "legendgroup": "Cologne",
         "lon": [
          6.9602786,
          6.9602786,
          6.9602786,
          6.9602786,
          6.9602786
         ],
         "marker": {
          "color": "#FF97FF",
          "size": [
           0,
           0,
           1,
           2,
           0
          ],
          "sizemode": "area",
          "sizeref": 0.5475
         },
         "mode": "markers",
         "name": "Cologne",
         "showlegend": true,
         "subplot": "mapbox",
         "type": "scattermapbox"
        },
        {
         "hovertemplate": "city=Rheinberg<br>deaths=%{marker.size}<br>lat=%{lat}<br>lon=%{lon}<extra></extra>",
         "lat": [
          51.5460798
         ],
         "legendgroup": "Rheinberg",
         "lon": [
          6.5899097
         ],
         "marker": {
          "color": "#FECB52",
          "size": [
           1
          ],
          "sizemode": "area",
          "sizeref": 0.5475
         },
         "mode": "markers",
         "name": "Rheinberg",
         "showlegend": true,
         "subplot": "mapbox",
         "type": "scattermapbox"
        },
        {
         "hovertemplate": "city=Soissons<br>deaths=%{marker.size}<br>lat=%{lat}<br>lon=%{lon}<extra></extra>",
         "lat": [
          49.376636,
          49.376636
         ],
         "legendgroup": "Soissons",
         "lon": [
          3.32342,
          3.32342
         ],
         "marker": {
          "color": "#636efa",
          "size": [
           1,
           1
          ],
          "sizemode": "area",
          "sizeref": 0.5475
         },
         "mode": "markers",
         "name": "Soissons",
         "showlegend": true,
         "subplot": "mapbox",
         "type": "scattermapbox"
        },
        {
         "hovertemplate": "city=Bressuire<br>deaths=%{marker.size}<br>lat=%{lat}<br>lon=%{lon}<extra></extra>",
         "lat": [
          46.84246
         ],
         "legendgroup": "Bressuire",
         "lon": [
          -0.492866
         ],
         "marker": {
          "color": "#EF553B",
          "size": [
           1
          ],
          "sizemode": "area",
          "sizeref": 0.5475
         },
         "mode": "markers",
         "name": "Bressuire",
         "showlegend": true,
         "subplot": "mapbox",
         "type": "scattermapbox"
        },
        {
         "hovertemplate": "city=Draguignan<br>deaths=%{marker.size}<br>lat=%{lat}<br>lon=%{lon}<extra></extra>",
         "lat": [
          43.537727
         ],
         "legendgroup": "Draguignan",
         "lon": [
          6.464993
         ],
         "marker": {
          "color": "#00cc96",
          "size": [
           0
          ],
          "sizemode": "area",
          "sizeref": 0.5475
         },
         "mode": "markers",
         "name": "Draguignan",
         "showlegend": true,
         "subplot": "mapbox",
         "type": "scattermapbox"
        },
        {
         "hovertemplate": "city=Nieder-Hauenstein<br>deaths=%{marker.size}<br>lat=%{lat}<br>lon=%{lon}<extra></extra>",
         "lat": [
          49.193323
         ],
         "legendgroup": "Nieder-Hauenstein",
         "lon": [
          7.845749
         ],
         "marker": {
          "color": "#ab63fa",
          "size": [
           1
          ],
          "sizemode": "area",
          "sizeref": 0.5475
         },
         "mode": "markers",
         "name": "Nieder-Hauenstein",
         "showlegend": true,
         "subplot": "mapbox",
         "type": "scattermapbox"
        },
        {
         "hovertemplate": "city=Rothenbach<br>deaths=%{marker.size}<br>lat=%{lat}<br>lon=%{lon}<extra></extra>",
         "lat": [
          50.5650804
         ],
         "legendgroup": "Rothenbach",
         "lon": [
          7.9014677
         ],
         "marker": {
          "color": "#FFA15A",
          "size": [
           0
          ],
          "sizemode": "area",
          "sizeref": 0.5475
         },
         "mode": "markers",
         "name": "Rothenbach",
         "showlegend": true,
         "subplot": "mapbox",
         "type": "scattermapbox"
        },
        {
         "hovertemplate": "city=Chambery<br>deaths=%{marker.size}<br>lat=%{lat}<br>lon=%{lon}<extra></extra>",
         "lat": [
          45.564601
         ],
         "legendgroup": "Chambery",
         "lon": [
          5.917781
         ],
         "marker": {
          "color": "#19d3f3",
          "size": [
           1
          ],
          "sizemode": "area",
          "sizeref": 0.5475
         },
         "mode": "markers",
         "name": "Chambery",
         "showlegend": true,
         "subplot": "mapbox",
         "type": "scattermapbox"
        },
        {
         "hovertemplate": "city=La Tour-du-Pin<br>deaths=%{marker.size}<br>lat=%{lat}<br>lon=%{lon}<extra></extra>",
         "lat": [
          45.564026
         ],
         "legendgroup": "La Tour-du-Pin",
         "lon": [
          5.445327
         ],
         "marker": {
          "color": "#FF6692",
          "size": [
           1
          ],
          "sizemode": "area",
          "sizeref": 0.5475
         },
         "mode": "markers",
         "name": "La Tour-du-Pin",
         "showlegend": true,
         "subplot": "mapbox",
         "type": "scattermapbox"
        },
        {
         "hovertemplate": "city=Talloires<br>deaths=%{marker.size}<br>lat=%{lat}<br>lon=%{lon}<extra></extra>",
         "lat": [
          45.839395,
          45.839395,
          45.839395
         ],
         "legendgroup": "Talloires",
         "lon": [
          6.2151189,
          6.2151189,
          6.2151189
         ],
         "marker": {
          "color": "#B6E880",
          "size": [
           1,
           2,
           1
          ],
          "sizemode": "area",
          "sizeref": 0.5475
         },
         "mode": "markers",
         "name": "Talloires",
         "showlegend": true,
         "subplot": "mapbox",
         "type": "scattermapbox"
        },
        {
         "hovertemplate": "city=Aubenas<br>deaths=%{marker.size}<br>lat=%{lat}<br>lon=%{lon}<extra></extra>",
         "lat": [
          44.620909,
          44.620909
         ],
         "legendgroup": "Aubenas",
         "lon": [
          4.389863,
          4.389863
         ],
         "marker": {
          "color": "#FF97FF",
          "size": [
           1,
           1
          ],
          "sizemode": "area",
          "sizeref": 0.5475
         },
         "mode": "markers",
         "name": "Aubenas",
         "showlegend": true,
         "subplot": "mapbox",
         "type": "scattermapbox"
        },
        {
         "hovertemplate": "city=Vivarais<br>deaths=%{marker.size}<br>lat=%{lat}<br>lon=%{lon}<extra></extra>",
         "lat": [
          44.480269,
          44.480269
         ],
         "legendgroup": "Vivarais",
         "lon": [
          4.691053,
          4.691053
         ],
         "marker": {
          "color": "#FECB52",
          "size": [
           1,
           1
          ],
          "sizemode": "area",
          "sizeref": 0.5475
         },
         "mode": "markers",
         "name": "Vivarais",
         "showlegend": true,
         "subplot": "mapbox",
         "type": "scattermapbox"
        },
        {
         "hovertemplate": "city=Zwickau<br>deaths=%{marker.size}<br>lat=%{lat}<br>lon=%{lon}<extra></extra>",
         "lat": [
          50.7102169
         ],
         "legendgroup": "Zwickau",
         "lon": [
          12.4733725
         ],
         "marker": {
          "color": "#636efa",
          "size": [
           0
          ],
          "sizemode": "area",
          "sizeref": 0.5475
         },
         "mode": "markers",
         "name": "Zwickau",
         "showlegend": true,
         "subplot": "mapbox",
         "type": "scattermapbox"
        },
        {
         "hovertemplate": "city=Stein am Rhein<br>deaths=%{marker.size}<br>lat=%{lat}<br>lon=%{lon}<extra></extra>",
         "lat": [
          47.658735
         ],
         "legendgroup": "Stein am Rhein",
         "lon": [
          8.8591583
         ],
         "marker": {
          "color": "#EF553B",
          "size": [
           0
          ],
          "sizemode": "area",
          "sizeref": 0.5475
         },
         "mode": "markers",
         "name": "Stein am Rhein",
         "showlegend": true,
         "subplot": "mapbox",
         "type": "scattermapbox"
        },
        {
         "hovertemplate": "city=Olten<br>deaths=%{marker.size}<br>lat=%{lat}<br>lon=%{lon}<extra></extra>",
         "lat": [
          47.3499979
         ],
         "legendgroup": "Olten",
         "lon": [
          7.9023989
         ],
         "marker": {
          "color": "#00cc96",
          "size": [
           0
          ],
          "sizemode": "area",
          "sizeref": 0.5475
         },
         "mode": "markers",
         "name": "Olten",
         "showlegend": true,
         "subplot": "mapbox",
         "type": "scattermapbox"
        },
        {
         "hovertemplate": "city=Busserach<br>deaths=%{marker.size}<br>lat=%{lat}<br>lon=%{lon}<extra></extra>",
         "lat": [
          47.3927
         ],
         "legendgroup": "Busserach",
         "lon": [
          7.54103
         ],
         "marker": {
          "color": "#ab63fa",
          "size": [
           1
          ],
          "sizemode": "area",
          "sizeref": 0.5475
         },
         "mode": "markers",
         "name": "Busserach",
         "showlegend": true,
         "subplot": "mapbox",
         "type": "scattermapbox"
        },
        {
         "hovertemplate": "city=Faido<br>deaths=%{marker.size}<br>lat=%{lat}<br>lon=%{lon}<extra></extra>",
         "lat": [
          46.47855,
          46.47855
         ],
         "legendgroup": "Faido",
         "lon": [
          8.79848,
          8.79848
         ],
         "marker": {
          "color": "#FFA15A",
          "size": [
           0,
           0
          ],
          "sizemode": "area",
          "sizeref": 0.5475
         },
         "mode": "markers",
         "name": "Faido",
         "showlegend": true,
         "subplot": "mapbox",
         "type": "scattermapbox"
        },
        {
         "hovertemplate": "city=Locarno<br>deaths=%{marker.size}<br>lat=%{lat}<br>lon=%{lon}<extra></extra>",
         "lat": [
          46.1679583
         ],
         "legendgroup": "Locarno",
         "lon": [
          8.7889791
         ],
         "marker": {
          "color": "#19d3f3",
          "size": [
           1
          ],
          "sizemode": "area",
          "sizeref": 0.5475
         },
         "mode": "markers",
         "name": "Locarno",
         "showlegend": true,
         "subplot": "mapbox",
         "type": "scattermapbox"
        },
        {
         "hovertemplate": "city=Lugano<br>deaths=%{marker.size}<br>lat=%{lat}<br>lon=%{lon}<extra></extra>",
         "lat": [
          46.1679583
         ],
         "legendgroup": "Lugano",
         "lon": [
          8.7889791
         ],
         "marker": {
          "color": "#FF6692",
          "size": [
           1
          ],
          "sizemode": "area",
          "sizeref": 0.5475
         },
         "mode": "markers",
         "name": "Lugano",
         "showlegend": true,
         "subplot": "mapbox",
         "type": "scattermapbox"
        },
        {
         "hovertemplate": "city=Florence<br>deaths=%{marker.size}<br>lat=%{lat}<br>lon=%{lon}<extra></extra>",
         "lat": [
          43.76956,
          43.76956,
          43.76956,
          43.76956,
          43.76956,
          43.76956,
          43.76956,
          43.76956,
          43.76956
         ],
         "legendgroup": "Florence",
         "lon": [
          11.255814,
          11.255814,
          11.255814,
          11.255814,
          11.255814,
          11.255814,
          11.255814,
          11.255814,
          11.255814
         ],
         "marker": {
          "color": "#B6E880",
          "size": [
           0,
           0,
           1,
           0,
           0,
           0,
           0,
           0,
           1
          ],
          "sizemode": "area",
          "sizeref": 0.5475
         },
         "mode": "markers",
         "name": "Florence",
         "showlegend": true,
         "subplot": "mapbox",
         "type": "scattermapbox"
        },
        {
         "hovertemplate": "city=Pisa<br>deaths=%{marker.size}<br>lat=%{lat}<br>lon=%{lon}<extra></extra>",
         "lat": [
          43.7228386
         ],
         "legendgroup": "Pisa",
         "lon": [
          10.4016888
         ],
         "marker": {
          "color": "#FF97FF",
          "size": [
           0
          ],
          "sizemode": "area",
          "sizeref": 0.5475
         },
         "mode": "markers",
         "name": "Pisa",
         "showlegend": true,
         "subplot": "mapbox",
         "type": "scattermapbox"
        },
        {
         "hovertemplate": "city=Salurn<br>deaths=%{marker.size}<br>lat=%{lat}<br>lon=%{lon}<extra></extra>",
         "lat": [
          46.239346
         ],
         "legendgroup": "Salurn",
         "lon": [
          11.21819
         ],
         "marker": {
          "color": "#FECB52",
          "size": [
           1
          ],
          "sizemode": "area",
          "sizeref": 0.5475
         },
         "mode": "markers",
         "name": "Salurn",
         "showlegend": true,
         "subplot": "mapbox",
         "type": "scattermapbox"
        },
        {
         "hovertemplate": "city=Brixen<br>deaths=%{marker.size}<br>lat=%{lat}<br>lon=%{lon}<extra></extra>",
         "lat": [
          46.717705
         ],
         "legendgroup": "Brixen",
         "lon": [
          11.657244
         ],
         "marker": {
          "color": "#636efa",
          "size": [
           0
          ],
          "sizemode": "area",
          "sizeref": 0.5475
         },
         "mode": "markers",
         "name": "Brixen",
         "showlegend": true,
         "subplot": "mapbox",
         "type": "scattermapbox"
        },
        {
         "hovertemplate": "city=Todi<br>deaths=%{marker.size}<br>lat=%{lat}<br>lon=%{lon}<extra></extra>",
         "lat": [
          42.7819352
         ],
         "legendgroup": "Todi",
         "lon": [
          12.4065686
         ],
         "marker": {
          "color": "#EF553B",
          "size": [
           1
          ],
          "sizemode": "area",
          "sizeref": 0.5475
         },
         "mode": "markers",
         "name": "Todi",
         "showlegend": true,
         "subplot": "mapbox",
         "type": "scattermapbox"
        },
        {
         "hovertemplate": "city=Perugia<br>deaths=%{marker.size}<br>lat=%{lat}<br>lon=%{lon}<extra></extra>",
         "lat": [
          43.1107168
         ],
         "legendgroup": "Perugia",
         "lon": [
          12.3908279
         ],
         "marker": {
          "color": "#00cc96",
          "size": [
           1
          ],
          "sizemode": "area",
          "sizeref": 0.5475
         },
         "mode": "markers",
         "name": "Perugia",
         "showlegend": true,
         "subplot": "mapbox",
         "type": "scattermapbox"
        },
        {
         "hovertemplate": "city=Utrecht<br>deaths=%{marker.size}<br>lat=%{lat}<br>lon=%{lon}<extra></extra>",
         "lat": [
          52.0907374,
          52.0907374,
          52.0907374,
          52.0907374,
          52.0907374
         ],
         "legendgroup": "Utrecht",
         "lon": [
          5.1214201,
          5.1214201,
          5.1214201,
          5.1214201,
          5.1214201
         ],
         "marker": {
          "color": "#ab63fa",
          "size": [
           0,
           0,
           0,
           0,
           0
          ],
          "sizemode": "area",
          "sizeref": 0.5475
         },
         "mode": "markers",
         "name": "Utrecht",
         "showlegend": true,
         "subplot": "mapbox",
         "type": "scattermapbox"
        },
        {
         "hovertemplate": "city=Viege<br>deaths=%{marker.size}<br>lat=%{lat}<br>lon=%{lon}<extra></extra>",
         "lat": [
          46.2944841
         ],
         "legendgroup": "Viege",
         "lon": [
          7.8852075
         ],
         "marker": {
          "color": "#FFA15A",
          "size": [
           0
          ],
          "sizemode": "area",
          "sizeref": 0.5475
         },
         "mode": "markers",
         "name": "Viege",
         "showlegend": true,
         "subplot": "mapbox",
         "type": "scattermapbox"
        },
        {
         "hovertemplate": "city=Lausanne<br>deaths=%{marker.size}<br>lat=%{lat}<br>lon=%{lon}<extra></extra>",
         "lat": [
          46.5199617,
          46.5199617,
          46.5199617,
          46.5199617,
          46.5199617,
          46.5199617,
          46.5199617,
          46.5199617,
          46.5199617
         ],
         "legendgroup": "Lausanne",
         "lon": [
          6.6335971,
          6.6335971,
          6.6335971,
          6.6335971,
          6.6335971,
          6.6335971,
          6.6335971,
          6.6335971,
          6.6335971
         ],
         "marker": {
          "color": "#19d3f3",
          "size": [
           0,
           0,
           1,
           0,
           1,
           1,
           1,
           1,
           2
          ],
          "sizemode": "area",
          "sizeref": 0.5475
         },
         "mode": "markers",
         "name": "Lausanne",
         "showlegend": true,
         "subplot": "mapbox",
         "type": "scattermapbox"
        },
        {
         "hovertemplate": "city=Portogruaro<br>deaths=%{marker.size}<br>lat=%{lat}<br>lon=%{lon}<extra></extra>",
         "lat": [
          45.780576
         ],
         "legendgroup": "Portogruaro",
         "lon": [
          12.837399
         ],
         "marker": {
          "color": "#FF6692",
          "size": [
           1
          ],
          "sizemode": "area",
          "sizeref": 0.5475
         },
         "mode": "markers",
         "name": "Portogruaro",
         "showlegend": true,
         "subplot": "mapbox",
         "type": "scattermapbox"
        },
        {
         "hovertemplate": "city=Venice<br>deaths=%{marker.size}<br>lat=%{lat}<br>lon=%{lon}<extra></extra>",
         "lat": [
          45.440847
         ],
         "legendgroup": "Venice",
         "lon": [
          12.315515
         ],
         "marker": {
          "color": "#B6E880",
          "size": [
           0
          ],
          "sizemode": "area",
          "sizeref": 0.5475
         },
         "mode": "markers",
         "name": "Venice",
         "showlegend": true,
         "subplot": "mapbox",
         "type": "scattermapbox"
        },
        {
         "hovertemplate": "city=Tournai<br>deaths=%{marker.size}<br>lat=%{lat}<br>lon=%{lon}<extra></extra>",
         "lat": [
          50.6056475
         ],
         "legendgroup": "Tournai",
         "lon": [
          3.3879338
         ],
         "marker": {
          "color": "#FF97FF",
          "size": [
           0
          ],
          "sizemode": "area",
          "sizeref": 0.5475
         },
         "mode": "markers",
         "name": "Tournai",
         "showlegend": true,
         "subplot": "mapbox",
         "type": "scattermapbox"
        },
        {
         "hovertemplate": "city=Braunsberg<br>deaths=%{marker.size}<br>lat=%{lat}<br>lon=%{lon}<extra></extra>",
         "lat": [
          54.3797128
         ],
         "legendgroup": "Braunsberg",
         "lon": [
          19.8200536
         ],
         "marker": {
          "color": "#FECB52",
          "size": [
           0
          ],
          "sizemode": "area",
          "sizeref": 0.5475
         },
         "mode": "markers",
         "name": "Braunsberg",
         "showlegend": true,
         "subplot": "mapbox",
         "type": "scattermapbox"
        },
        {
         "hovertemplate": "city=Vienna<br>deaths=%{marker.size}<br>lat=%{lat}<br>lon=%{lon}<extra></extra>",
         "lat": [
          48.2081743
         ],
         "legendgroup": "Vienna",
         "lon": [
          16.3738189
         ],
         "marker": {
          "color": "#636efa",
          "size": [
           1
          ],
          "sizemode": "area",
          "sizeref": 0.5475
         },
         "mode": "markers",
         "name": "Vienna",
         "showlegend": true,
         "subplot": "mapbox",
         "type": "scattermapbox"
        },
        {
         "hovertemplate": "city=Gouda<br>deaths=%{marker.size}<br>lat=%{lat}<br>lon=%{lon}<extra></extra>",
         "lat": [
          52.0115205
         ],
         "legendgroup": "Gouda",
         "lon": [
          4.7104633
         ],
         "marker": {
          "color": "#EF553B",
          "size": [
           0
          ],
          "sizemode": "area",
          "sizeref": 0.5475
         },
         "mode": "markers",
         "name": "Gouda",
         "showlegend": true,
         "subplot": "mapbox",
         "type": "scattermapbox"
        },
        {
         "hovertemplate": "city=Dordrecht<br>deaths=%{marker.size}<br>lat=%{lat}<br>lon=%{lon}<extra></extra>",
         "lat": [
          51.813298
         ],
         "legendgroup": "Dordrecht",
         "lon": [
          4.690093
         ],
         "marker": {
          "color": "#00cc96",
          "size": [
           0
          ],
          "sizemode": "area",
          "sizeref": 0.5475
         },
         "mode": "markers",
         "name": "Dordrecht",
         "showlegend": true,
         "subplot": "mapbox",
         "type": "scattermapbox"
        },
        {
         "hovertemplate": "city=Habsburg<br>deaths=%{marker.size}<br>lat=%{lat}<br>lon=%{lon}<extra></extra>",
         "lat": [
          47.4622,
          47.4622
         ],
         "legendgroup": "Habsburg",
         "lon": [
          8.18606,
          8.18606
         ],
         "marker": {
          "color": "#ab63fa",
          "size": [
           5,
           15
          ],
          "sizemode": "area",
          "sizeref": 0.5475
         },
         "mode": "markers",
         "name": "Habsburg",
         "showlegend": true,
         "subplot": "mapbox",
         "type": "scattermapbox"
        },
        {
         "hovertemplate": "city=Villigen<br>deaths=%{marker.size}<br>lat=%{lat}<br>lon=%{lon}<extra></extra>",
         "lat": [
          47.5269,
          47.5269
         ],
         "legendgroup": "Villigen",
         "lon": [
          8.21475,
          8.21475
         ],
         "marker": {
          "color": "#FFA15A",
          "size": [
           19,
           1
          ],
          "sizemode": "area",
          "sizeref": 0.5475
         },
         "mode": "markers",
         "name": "Villigen",
         "showlegend": true,
         "subplot": "mapbox",
         "type": "scattermapbox"
        },
        {
         "hovertemplate": "city=Ensisheim<br>deaths=%{marker.size}<br>lat=%{lat}<br>lon=%{lon}<extra></extra>",
         "lat": [
          47.8659
         ],
         "legendgroup": "Ensisheim",
         "lon": [
          7.35181
         ],
         "marker": {
          "color": "#19d3f3",
          "size": [
           5
          ],
          "sizemode": "area",
          "sizeref": 0.5475
         },
         "mode": "markers",
         "name": "Ensisheim",
         "showlegend": true,
         "subplot": "mapbox",
         "type": "scattermapbox"
        },
        {
         "hovertemplate": "city=La Wantzenau<br>deaths=%{marker.size}<br>lat=%{lat}<br>lon=%{lon}<extra></extra>",
         "lat": [
          48.658
         ],
         "legendgroup": "La Wantzenau",
         "lon": [
          7.82713
         ],
         "marker": {
          "color": "#FF6692",
          "size": [
           4
          ],
          "sizemode": "area",
          "sizeref": 0.5475
         },
         "mode": "markers",
         "name": "La Wantzenau",
         "showlegend": true,
         "subplot": "mapbox",
         "type": "scattermapbox"
        },
        {
         "hovertemplate": "city=Erstein<br>deaths=%{marker.size}<br>lat=%{lat}<br>lon=%{lon}<extra></extra>",
         "lat": [
          48.4235
         ],
         "legendgroup": "Erstein",
         "lon": [
          7.66326
         ],
         "marker": {
          "color": "#B6E880",
          "size": [
           1
          ],
          "sizemode": "area",
          "sizeref": 0.5475
         },
         "mode": "markers",
         "name": "Erstein",
         "showlegend": true,
         "subplot": "mapbox",
         "type": "scattermapbox"
        },
        {
         "hovertemplate": "city=Diersburg<br>deaths=%{marker.size}<br>lat=%{lat}<br>lon=%{lon}<extra></extra>",
         "lat": [
          48.3989
         ],
         "legendgroup": "Diersburg",
         "lon": [
          7.93809
         ],
         "marker": {
          "color": "#FF97FF",
          "size": [
           2
          ],
          "sizemode": "area",
          "sizeref": 0.5475
         },
         "mode": "markers",
         "name": "Diersburg",
         "showlegend": true,
         "subplot": "mapbox",
         "type": "scattermapbox"
        },
        {
         "hovertemplate": "city=Veringenstadt<br>deaths=%{marker.size}<br>lat=%{lat}<br>lon=%{lon}<extra></extra>",
         "lat": [
          48.183,
          48.183
         ],
         "legendgroup": "Veringenstadt",
         "lon": [
          9.21059,
          9.21059
         ],
         "marker": {
          "color": "#FECB52",
          "size": [
           1,
           1
          ],
          "sizemode": "area",
          "sizeref": 0.5475
         },
         "mode": "markers",
         "name": "Veringenstadt",
         "showlegend": true,
         "subplot": "mapbox",
         "type": "scattermapbox"
        },
        {
         "hovertemplate": "city=Bretten<br>deaths=%{marker.size}<br>lat=%{lat}<br>lon=%{lon}<extra></extra>",
         "lat": [
          49.0363
         ],
         "legendgroup": "Bretten",
         "lon": [
          8.70106
         ],
         "marker": {
          "color": "#636efa",
          "size": [
           2
          ],
          "sizemode": "area",
          "sizeref": 0.5475
         },
         "mode": "markers",
         "name": "Bretten",
         "showlegend": true,
         "subplot": "mapbox",
         "type": "scattermapbox"
        },
        {
         "hovertemplate": "city=Tubingen<br>deaths=%{marker.size}<br>lat=%{lat}<br>lon=%{lon}<extra></extra>",
         "lat": [
          48.5216,
          48.5216,
          48.5216,
          48.5216,
          48.5216,
          48.5216
         ],
         "legendgroup": "Tubingen",
         "lon": [
          9.05764,
          9.05764,
          9.05764,
          9.05764,
          9.05764,
          9.05764
         ],
         "marker": {
          "color": "#EF553B",
          "size": [
           1,
           0,
           0,
           0,
           0,
           0
          ],
          "sizemode": "area",
          "sizeref": 0.5475
         },
         "mode": "markers",
         "name": "Tubingen",
         "showlegend": true,
         "subplot": "mapbox",
         "type": "scattermapbox"
        },
        {
         "hovertemplate": "city=Blaubeuren<br>deaths=%{marker.size}<br>lat=%{lat}<br>lon=%{lon}<extra></extra>",
         "lat": [
          48.4073
         ],
         "legendgroup": "Blaubeuren",
         "lon": [
          9.78355
         ],
         "marker": {
          "color": "#00cc96",
          "size": [
           1
          ],
          "sizemode": "area",
          "sizeref": 0.5475
         },
         "mode": "markers",
         "name": "Blaubeuren",
         "showlegend": true,
         "subplot": "mapbox",
         "type": "scattermapbox"
        },
        {
         "hovertemplate": "city=Bad Saulgau<br>deaths=%{marker.size}<br>lat=%{lat}<br>lon=%{lon}<extra></extra>",
         "lat": [
          48.0147,
          48.0147,
          48.0147,
          48.0147,
          48.0147
         ],
         "legendgroup": "Bad Saulgau",
         "lon": [
          9.5002,
          9.5002,
          9.5002,
          9.5002,
          9.5002
         ],
         "marker": {
          "color": "#ab63fa",
          "size": [
           2,
           1,
           1,
           1,
           1
          ],
          "sizemode": "area",
          "sizeref": 0.5475
         },
         "mode": "markers",
         "name": "Bad Saulgau",
         "showlegend": true,
         "subplot": "mapbox",
         "type": "scattermapbox"
        },
        {
         "hovertemplate": "city=Brackenheim<br>deaths=%{marker.size}<br>lat=%{lat}<br>lon=%{lon}<extra></extra>",
         "lat": [
          49.0809,
          49.0809
         ],
         "legendgroup": "Brackenheim",
         "lon": [
          9.07031,
          9.07031
         ],
         "marker": {
          "color": "#FFA15A",
          "size": [
           0,
           1
          ],
          "sizemode": "area",
          "sizeref": 0.5475
         },
         "mode": "markers",
         "name": "Brackenheim",
         "showlegend": true,
         "subplot": "mapbox",
         "type": "scattermapbox"
        },
        {
         "hovertemplate": "city=Ellwangen<br>deaths=%{marker.size}<br>lat=%{lat}<br>lon=%{lon}<extra></extra>",
         "lat": [
          48.9627,
          48.9627,
          48.9627,
          48.9627,
          48.9627,
          48.9627,
          48.9627,
          48.9627,
          48.9627
         ],
         "legendgroup": "Ellwangen",
         "lon": [
          10.1302,
          10.1302,
          10.1302,
          10.1302,
          10.1302,
          10.1302,
          10.1302,
          10.1302,
          10.1302
         ],
         "marker": {
          "color": "#19d3f3",
          "size": [
           2,
           1,
           100,
           160,
           50,
           27,
           33,
           13,
           10
          ],
          "sizemode": "area",
          "sizeref": 0.5475
         },
         "mode": "markers",
         "name": "Ellwangen",
         "showlegend": true,
         "subplot": "mapbox",
         "type": "scattermapbox"
        },
        {
         "hovertemplate": "city=Bad Waldsee<br>deaths=%{marker.size}<br>lat=%{lat}<br>lon=%{lon}<extra></extra>",
         "lat": [
          47.9227,
          47.9227,
          47.9227,
          47.9227,
          47.9227,
          47.9227,
          47.9227,
          47.9227
         ],
         "legendgroup": "Bad Waldsee",
         "lon": [
          9.75328,
          9.75328,
          9.75328,
          9.75328,
          9.75328,
          9.75328,
          9.75328,
          9.75328
         ],
         "marker": {
          "color": "#FF6692",
          "size": [
           1,
           9,
           7,
           16,
           5,
           1,
           1,
           1
          ],
          "sizemode": "area",
          "sizeref": 0.5475
         },
         "mode": "markers",
         "name": "Bad Waldsee",
         "showlegend": true,
         "subplot": "mapbox",
         "type": "scattermapbox"
        },
        {
         "hovertemplate": "city=Stuttgart<br>deaths=%{marker.size}<br>lat=%{lat}<br>lon=%{lon}<extra></extra>",
         "lat": [
          48.7758,
          48.7758,
          48.7758,
          48.7758,
          48.7758,
          48.7758,
          48.7758,
          48.7758,
          48.7758
         ],
         "legendgroup": "Stuttgart",
         "lon": [
          9.18293,
          9.18293,
          9.18293,
          9.18293,
          9.18293,
          9.18293,
          9.18293,
          9.18293,
          9.18293
         ],
         "marker": {
          "color": "#B6E880",
          "size": [
           0,
           11,
           1,
           0,
           2,
           1,
           2,
           0,
           5
          ],
          "sizemode": "area",
          "sizeref": 0.5475
         },
         "mode": "markers",
         "name": "Stuttgart",
         "showlegend": true,
         "subplot": "mapbox",
         "type": "scattermapbox"
        },
        {
         "hovertemplate": "city=Rottenburg am Neckar<br>deaths=%{marker.size}<br>lat=%{lat}<br>lon=%{lon}<extra></extra>",
         "lat": [
          48.4791,
          48.4791,
          48.4791,
          48.4791,
          48.4791,
          48.4791,
          48.4791,
          48.4791,
          48.4791,
          48.4791,
          48.4791,
          48.4791,
          48.4791,
          48.4791,
          48.4791,
          48.4791,
          48.4791,
          48.4791,
          48.4791,
          48.4791
         ],
         "legendgroup": "Rottenburg am Neckar",
         "lon": [
          8.94095,
          8.94095,
          8.94095,
          8.94095,
          8.94095,
          8.94095,
          8.94095,
          8.94095,
          8.94095,
          8.94095,
          8.94095,
          8.94095,
          8.94095,
          8.94095,
          8.94095,
          8.94095,
          8.94095,
          8.94095,
          8.94095,
          8.94095
         ],
         "marker": {
          "color": "#FF97FF",
          "size": [
           1,
           3,
           7,
           8,
           12,
           9,
           3,
           6,
           36,
           1,
           10,
           17,
           15,
           1,
           6,
           6,
           4,
           0,
           2,
           1
          ],
          "sizemode": "area",
          "sizeref": 0.5475
         },
         "mode": "markers",
         "name": "Rottenburg am Neckar",
         "showlegend": true,
         "subplot": "mapbox",
         "type": "scattermapbox"
        },
        {
         "hovertemplate": "city=Grossbottwar<br>deaths=%{marker.size}<br>lat=%{lat}<br>lon=%{lon}<extra></extra>",
         "lat": [
          49.0019
         ],
         "legendgroup": "Grossbottwar",
         "lon": [
          9.29395
         ],
         "marker": {
          "color": "#FECB52",
          "size": [
           1
          ],
          "sizemode": "area",
          "sizeref": 0.5475
         },
         "mode": "markers",
         "name": "Grossbottwar",
         "showlegend": true,
         "subplot": "mapbox",
         "type": "scattermapbox"
        },
        {
         "hovertemplate": "city=Oberndorf am Neckar<br>deaths=%{marker.size}<br>lat=%{lat}<br>lon=%{lon}<extra></extra>",
         "lat": [
          48.2946,
          48.2946,
          48.2946,
          48.2946,
          48.2946,
          48.2946
         ],
         "legendgroup": "Oberndorf am Neckar",
         "lon": [
          8.57658,
          8.57658,
          8.57658,
          8.57658,
          8.57658,
          8.57658
         ],
         "marker": {
          "color": "#636efa",
          "size": [
           1,
           7,
           21,
           6,
           6,
           2
          ],
          "sizemode": "area",
          "sizeref": 0.5475
         },
         "mode": "markers",
         "name": "Oberndorf am Neckar",
         "showlegend": true,
         "subplot": "mapbox",
         "type": "scattermapbox"
        },
        {
         "hovertemplate": "city=Schiltach<br>deaths=%{marker.size}<br>lat=%{lat}<br>lon=%{lon}<extra></extra>",
         "lat": [
          48.2918,
          48.2918,
          48.2918,
          48.2918,
          48.2918
         ],
         "legendgroup": "Schiltach",
         "lon": [
          8.34689,
          8.34689,
          8.34689,
          8.34689,
          8.34689
         ],
         "marker": {
          "color": "#EF553B",
          "size": [
           1,
           2,
           1,
           4,
           1
          ],
          "sizemode": "area",
          "sizeref": 0.5475
         },
         "mode": "markers",
         "name": "Schiltach",
         "showlegend": true,
         "subplot": "mapbox",
         "type": "scattermapbox"
        },
        {
         "hovertemplate": "city=Hechingen<br>deaths=%{marker.size}<br>lat=%{lat}<br>lon=%{lon}<extra></extra>",
         "lat": [
          48.3539,
          48.3539
         ],
         "legendgroup": "Hechingen",
         "lon": [
          8.96136,
          8.96136
         ],
         "marker": {
          "color": "#00cc96",
          "size": [
           1,
           15
          ],
          "sizemode": "area",
          "sizeref": 0.5475
         },
         "mode": "markers",
         "name": "Hechingen",
         "showlegend": true,
         "subplot": "mapbox",
         "type": "scattermapbox"
        },
        {
         "hovertemplate": "city=Ulm<br>deaths=%{marker.size}<br>lat=%{lat}<br>lon=%{lon}<extra></extra>",
         "lat": [
          48.4011,
          48.4011,
          48.4011,
          48.4011,
          48.4011,
          48.4011,
          48.4011
         ],
         "legendgroup": "Ulm",
         "lon": [
          9.98761,
          9.98761,
          9.98761,
          9.98761,
          9.98761,
          9.98761,
          9.98761
         ],
         "marker": {
          "color": "#ab63fa",
          "size": [
           0,
           1,
           1,
           1,
           1,
           9,
           1
          ],
          "sizemode": "area",
          "sizeref": 0.5475
         },
         "mode": "markers",
         "name": "Ulm",
         "showlegend": true,
         "subplot": "mapbox",
         "type": "scattermapbox"
        },
        {
         "hovertemplate": "city=Renchen<br>deaths=%{marker.size}<br>lat=%{lat}<br>lon=%{lon}<extra></extra>",
         "lat": [
          48.5862,
          48.5862
         ],
         "legendgroup": "Renchen",
         "lon": [
          8.01188,
          8.01188
         ],
         "marker": {
          "color": "#FFA15A",
          "size": [
           5,
           12
          ],
          "sizemode": "area",
          "sizeref": 0.5475
         },
         "mode": "markers",
         "name": "Renchen",
         "showlegend": true,
         "subplot": "mapbox",
         "type": "scattermapbox"
        },
        {
         "hovertemplate": "city=Esslingen<br>deaths=%{marker.size}<br>lat=%{lat}<br>lon=%{lon}<extra></extra>",
         "lat": [
          48.7433,
          48.7433,
          48.7433,
          48.7433,
          48.7433,
          48.7433,
          48.7433,
          48.7433,
          48.7433,
          48.7433,
          48.7433,
          48.7433,
          48.7433,
          48.7433
         ],
         "legendgroup": "Esslingen",
         "lon": [
          9.32011,
          9.32011,
          9.32011,
          9.32011,
          9.32011,
          9.32011,
          9.32011,
          9.32011,
          9.32011,
          9.32011,
          9.32011,
          9.32011,
          9.32011,
          9.32011
         ],
         "marker": {
          "color": "#19d3f3",
          "size": [
           2,
           1,
           0,
           1,
           0,
           0,
           0,
           0,
           0,
           4,
           1,
           28,
           1,
           8
          ],
          "sizemode": "area",
          "sizeref": 0.5475
         },
         "mode": "markers",
         "name": "Esslingen",
         "showlegend": true,
         "subplot": "mapbox",
         "type": "scattermapbox"
        },
        {
         "hovertemplate": "city=Freiburg<br>deaths=%{marker.size}<br>lat=%{lat}<br>lon=%{lon}<extra></extra>",
         "lat": [
          47.999,
          47.999,
          47.999,
          47.999,
          47.999,
          47.999,
          47.999,
          47.999,
          47.999
         ],
         "legendgroup": "Freiburg",
         "lon": [
          7.8421,
          7.8421,
          7.8421,
          7.8421,
          7.8421,
          7.8421,
          7.8421,
          7.8421,
          7.8421
         ],
         "marker": {
          "color": "#FF6692",
          "size": [
           1,
           3,
           3,
           18,
           13,
           0,
           0,
           1,
           2
          ],
          "sizemode": "area",
          "sizeref": 0.5475
         },
         "mode": "markers",
         "name": "Freiburg",
         "showlegend": true,
         "subplot": "mapbox",
         "type": "scattermapbox"
        },
        {
         "hovertemplate": "city=Dornstetten<br>deaths=%{marker.size}<br>lat=%{lat}<br>lon=%{lon}<extra></extra>",
         "lat": [
          48.4717,
          48.4717
         ],
         "legendgroup": "Dornstetten",
         "lon": [
          8.49816,
          8.49816
         ],
         "marker": {
          "color": "#B6E880",
          "size": [
           1,
           1
          ],
          "sizemode": "area",
          "sizeref": 0.5475
         },
         "mode": "markers",
         "name": "Dornstetten",
         "showlegend": true,
         "subplot": "mapbox",
         "type": "scattermapbox"
        },
        {
         "hovertemplate": "city=Crailsheim<br>deaths=%{marker.size}<br>lat=%{lat}<br>lon=%{lon}<extra></extra>",
         "lat": [
          49.1337,
          49.1337
         ],
         "legendgroup": "Crailsheim",
         "lon": [
          10.0634,
          10.0634
         ],
         "marker": {
          "color": "#FF97FF",
          "size": [
           1,
           4
          ],
          "sizemode": "area",
          "sizeref": 0.5475
         },
         "mode": "markers",
         "name": "Crailsheim",
         "showlegend": true,
         "subplot": "mapbox",
         "type": "scattermapbox"
        },
        {
         "hovertemplate": "city=Oberkirch<br>deaths=%{marker.size}<br>lat=%{lat}<br>lon=%{lon}<extra></extra>",
         "lat": [
          48.5336,
          48.5336,
          48.5336,
          48.5336,
          48.5336
         ],
         "legendgroup": "Oberkirch",
         "lon": [
          8.07678,
          8.07678,
          8.07678,
          8.07678,
          8.07678
         ],
         "marker": {
          "color": "#FECB52",
          "size": [
           0,
           0,
           0,
           0,
           1
          ],
          "sizemode": "area",
          "sizeref": 0.5475
         },
         "mode": "markers",
         "name": "Oberkirch",
         "showlegend": true,
         "subplot": "mapbox",
         "type": "scattermapbox"
        },
        {
         "hovertemplate": "city=Ortenaukreis<br>deaths=%{marker.size}<br>lat=%{lat}<br>lon=%{lon}<extra></extra>",
         "lat": [
          48.3645,
          48.3645,
          48.3645,
          48.3645,
          48.3645,
          48.3645,
          48.3645,
          48.3645,
          48.3645,
          48.3645,
          48.3645,
          48.3645,
          48.3645,
          48.3645
         ],
         "legendgroup": "Ortenaukreis",
         "lon": [
          7.94714,
          7.94714,
          7.94714,
          7.94714,
          7.94714,
          7.94714,
          7.94714,
          7.94714,
          7.94714,
          7.94714,
          7.94714,
          7.94714,
          7.94714,
          7.94714
         ],
         "marker": {
          "color": "#636efa",
          "size": [
           2,
           1,
           1,
           3,
           2,
           7,
           2,
           6,
           2,
           0,
           4,
           39,
           22,
           14
          ],
          "sizemode": "area",
          "sizeref": 0.5475
         },
         "mode": "markers",
         "name": "Ortenaukreis",
         "showlegend": true,
         "subplot": "mapbox",
         "type": "scattermapbox"
        },
        {
         "hovertemplate": "city=Zell am Harmersbach<br>deaths=%{marker.size}<br>lat=%{lat}<br>lon=%{lon}<extra></extra>",
         "lat": [
          48.3472
         ],
         "legendgroup": "Zell am Harmersbach",
         "lon": [
          8.06565
         ],
         "marker": {
          "color": "#EF553B",
          "size": [
           1
          ],
          "sizemode": "area",
          "sizeref": 0.5475
         },
         "mode": "markers",
         "name": "Zell am Harmersbach",
         "showlegend": true,
         "subplot": "mapbox",
         "type": "scattermapbox"
        },
        {
         "hovertemplate": "city=Heilbronn<br>deaths=%{marker.size}<br>lat=%{lat}<br>lon=%{lon}<extra></extra>",
         "lat": [
          49.1427,
          49.1427,
          49.1427,
          49.1427,
          49.1427,
          49.1427,
          49.1427,
          49.1427,
          49.1427,
          49.1427
         ],
         "legendgroup": "Heilbronn",
         "lon": [
          9.21088,
          9.21088,
          9.21088,
          9.21088,
          9.21088,
          9.21088,
          9.21088,
          9.21088,
          9.21088,
          9.21088
         ],
         "marker": {
          "color": "#00cc96",
          "size": [
           1,
           1,
           1,
           2,
           1,
           3,
           1,
           1,
           1,
           1
          ],
          "sizemode": "area",
          "sizeref": 0.5475
         },
         "mode": "markers",
         "name": "Heilbronn",
         "showlegend": true,
         "subplot": "mapbox",
         "type": "scattermapbox"
        },
        {
         "hovertemplate": "city=Horb am Neckar<br>deaths=%{marker.size}<br>lat=%{lat}<br>lon=%{lon}<extra></extra>",
         "lat": [
          48.4421,
          48.4421,
          48.4421,
          48.4421,
          48.4421,
          48.4421,
          48.4421,
          48.4421,
          48.4421,
          48.4421,
          48.4421,
          48.4421,
          48.4421
         ],
         "legendgroup": "Horb am Neckar",
         "lon": [
          8.68485,
          8.68485,
          8.68485,
          8.68485,
          8.68485,
          8.68485,
          8.68485,
          8.68485,
          8.68485,
          8.68485,
          8.68485,
          8.68485,
          8.68485
         ],
         "marker": {
          "color": "#ab63fa",
          "size": [
           2,
           0,
           1,
           1,
           9,
           9,
           9,
           13,
           5,
           1,
           16,
           0,
           1
          ],
          "sizemode": "area",
          "sizeref": 0.5475
         },
         "mode": "markers",
         "name": "Horb am Neckar",
         "showlegend": true,
         "subplot": "mapbox",
         "type": "scattermapbox"
        },
        {
         "hovertemplate": "city=Wertheim am Main<br>deaths=%{marker.size}<br>lat=%{lat}<br>lon=%{lon}<extra></extra>",
         "lat": [
          49.7586,
          49.7586,
          49.7586,
          49.7586,
          49.7586,
          49.7586,
          49.7586,
          49.7586,
          49.7586
         ],
         "legendgroup": "Wertheim am Main",
         "lon": [
          9.51285,
          9.51285,
          9.51285,
          9.51285,
          9.51285,
          9.51285,
          9.51285,
          9.51285,
          9.51285
         ],
         "marker": {
          "color": "#FFA15A",
          "size": [
           8,
           10,
           2,
           11,
           16,
           0,
           2,
           4,
           3
          ],
          "sizemode": "area",
          "sizeref": 0.5475
         },
         "mode": "markers",
         "name": "Wertheim am Main",
         "showlegend": true,
         "subplot": "mapbox",
         "type": "scattermapbox"
        },
        {
         "hovertemplate": "city=Rottweil<br>deaths=%{marker.size}<br>lat=%{lat}<br>lon=%{lon}<extra></extra>",
         "lat": [
          48.1611,
          48.1611,
          48.1611,
          48.1611,
          48.1611,
          48.1611,
          48.1611,
          48.1611,
          48.1611,
          48.1611,
          48.1611,
          48.1611,
          48.1611,
          48.1611,
          48.1611,
          48.1611,
          48.1611
         ],
         "legendgroup": "Rottweil",
         "lon": [
          8.63162,
          8.63162,
          8.63162,
          8.63162,
          8.63162,
          8.63162,
          8.63162,
          8.63162,
          8.63162,
          8.63162,
          8.63162,
          8.63162,
          8.63162,
          8.63162,
          8.63162,
          8.63162,
          8.63162
         ],
         "marker": {
          "color": "#19d3f3",
          "size": [
           1,
           1,
           2,
           2,
           1,
           5,
           2,
           1,
           30,
           9,
           6,
           2,
           1,
           2,
           1,
           1,
           1
          ],
          "sizemode": "area",
          "sizeref": 0.5475
         },
         "mode": "markers",
         "name": "Rottweil",
         "showlegend": true,
         "subplot": "mapbox",
         "type": "scattermapbox"
        },
        {
         "hovertemplate": "city=Elzach<br>deaths=%{marker.size}<br>lat=%{lat}<br>lon=%{lon}<extra></extra>",
         "lat": [
          48.1732,
          48.1732
         ],
         "legendgroup": "Elzach",
         "lon": [
          8.06868,
          8.06868
         ],
         "marker": {
          "color": "#FF6692",
          "size": [
           0,
           14
          ],
          "sizemode": "area",
          "sizeref": 0.5475
         },
         "mode": "markers",
         "name": "Elzach",
         "showlegend": true,
         "subplot": "mapbox",
         "type": "scattermapbox"
        },
        {
         "hovertemplate": "city=Boblingen<br>deaths=%{marker.size}<br>lat=%{lat}<br>lon=%{lon}<extra></extra>",
         "lat": [
          48.6813,
          48.6813,
          48.6813,
          48.6813,
          48.6813
         ],
         "legendgroup": "Boblingen",
         "lon": [
          9.00883,
          9.00883,
          9.00883,
          9.00883,
          9.00883
         ],
         "marker": {
          "color": "#B6E880",
          "size": [
           1,
           3,
           3,
           1,
           0
          ],
          "sizemode": "area",
          "sizeref": 0.5475
         },
         "mode": "markers",
         "name": "Boblingen",
         "showlegend": true,
         "subplot": "mapbox",
         "type": "scattermapbox"
        },
        {
         "hovertemplate": "city=Sindelfingen<br>deaths=%{marker.size}<br>lat=%{lat}<br>lon=%{lon}<extra></extra>",
         "lat": [
          48.7075,
          48.7075,
          48.7075,
          48.7075,
          48.7075,
          48.7075,
          48.7075,
          48.7075,
          48.7075,
          48.7075
         ],
         "legendgroup": "Sindelfingen",
         "lon": [
          9.00441,
          9.00441,
          9.00441,
          9.00441,
          9.00441,
          9.00441,
          9.00441,
          9.00441,
          9.00441,
          9.00441
         ],
         "marker": {
          "color": "#FF97FF",
          "size": [
           2,
           3,
           0,
           4,
           0,
           12,
           0,
           0,
           0,
           0
          ],
          "sizemode": "area",
          "sizeref": 0.5475
         },
         "mode": "markers",
         "name": "Sindelfingen",
         "showlegend": true,
         "subplot": "mapbox",
         "type": "scattermapbox"
        },
        {
         "hovertemplate": "city=Wiesensteig<br>deaths=%{marker.size}<br>lat=%{lat}<br>lon=%{lon}<extra></extra>",
         "lat": [
          48.5652,
          48.5652,
          48.5652
         ],
         "legendgroup": "Wiesensteig",
         "lon": [
          9.62756,
          9.62756,
          9.62756
         ],
         "marker": {
          "color": "#FECB52",
          "size": [
           63,
           25,
           4
          ],
          "sizemode": "area",
          "sizeref": 0.5475
         },
         "mode": "markers",
         "name": "Wiesensteig",
         "showlegend": true,
         "subplot": "mapbox",
         "type": "scattermapbox"
        },
        {
         "hovertemplate": "city=Gemmingen<br>deaths=%{marker.size}<br>lat=%{lat}<br>lon=%{lon}<extra></extra>",
         "lat": [
          49.1556
         ],
         "legendgroup": "Gemmingen",
         "lon": [
          8.98112
         ],
         "marker": {
          "color": "#636efa",
          "size": [
           1
          ],
          "sizemode": "area",
          "sizeref": 0.5475
         },
         "mode": "markers",
         "name": "Gemmingen",
         "showlegend": true,
         "subplot": "mapbox",
         "type": "scattermapbox"
        },
        {
         "hovertemplate": "city=Wolfach<br>deaths=%{marker.size}<br>lat=%{lat}<br>lon=%{lon}<extra></extra>",
         "lat": [
          48.2924,
          48.2924,
          48.2924,
          48.2924,
          48.2924,
          48.2924,
          48.2924,
          48.2924,
          48.2924,
          48.2924,
          48.2924
         ],
         "legendgroup": "Wolfach",
         "lon": [
          8.21492,
          8.21492,
          8.21492,
          8.21492,
          8.21492,
          8.21492,
          8.21492,
          8.21492,
          8.21492,
          8.21492,
          8.21492
         ],
         "marker": {
          "color": "#EF553B",
          "size": [
           1,
           5,
           1,
           2,
           0,
           15,
           8,
           0,
           3,
           0,
           1
          ],
          "sizemode": "area",
          "sizeref": 0.5475
         },
         "mode": "markers",
         "name": "Wolfach",
         "showlegend": true,
         "subplot": "mapbox",
         "type": "scattermapbox"
        },
        {
         "hovertemplate": "city=Appenweier<br>deaths=%{marker.size}<br>lat=%{lat}<br>lon=%{lon}<extra></extra>",
         "lat": [
          48.5477
         ],
         "legendgroup": "Appenweier",
         "lon": [
          7.9745
         ],
         "marker": {
          "color": "#00cc96",
          "size": [
           3
          ],
          "sizemode": "area",
          "sizeref": 0.5475
         },
         "mode": "markers",
         "name": "Appenweier",
         "showlegend": true,
         "subplot": "mapbox",
         "type": "scattermapbox"
        },
        {
         "hovertemplate": "city=Badenweiler<br>deaths=%{marker.size}<br>lat=%{lat}<br>lon=%{lon}<extra></extra>",
         "lat": [
          47.8027
         ],
         "legendgroup": "Badenweiler",
         "lon": [
          7.67211
         ],
         "marker": {
          "color": "#ab63fa",
          "size": [
           1
          ],
          "sizemode": "area",
          "sizeref": 0.5475
         },
         "mode": "markers",
         "name": "Badenweiler",
         "showlegend": true,
         "subplot": "mapbox",
         "type": "scattermapbox"
        },
        {
         "hovertemplate": "city=Unlingen<br>deaths=%{marker.size}<br>lat=%{lat}<br>lon=%{lon}<extra></extra>",
         "lat": [
          48.167,
          48.167
         ],
         "legendgroup": "Unlingen",
         "lon": [
          9.51956,
          9.51956
         ],
         "marker": {
          "color": "#FFA15A",
          "size": [
           2,
           5
          ],
          "sizemode": "area",
          "sizeref": 0.5475
         },
         "mode": "markers",
         "name": "Unlingen",
         "showlegend": true,
         "subplot": "mapbox",
         "type": "scattermapbox"
        },
        {
         "hovertemplate": "city=Bildechingen<br>deaths=%{marker.size}<br>lat=%{lat}<br>lon=%{lon}<extra></extra>",
         "lat": [
          48.4647
         ],
         "legendgroup": "Bildechingen",
         "lon": [
          8.71509
         ],
         "marker": {
          "color": "#19d3f3",
          "size": [
           0
          ],
          "sizemode": "area",
          "sizeref": 0.5475
         },
         "mode": "markers",
         "name": "Bildechingen",
         "showlegend": true,
         "subplot": "mapbox",
         "type": "scattermapbox"
        },
        {
         "hovertemplate": "city=Baden-Baden<br>deaths=%{marker.size}<br>lat=%{lat}<br>lon=%{lon}<extra></extra>",
         "lat": [
          48.7656,
          48.7656,
          48.7656,
          48.7656,
          48.7656,
          48.7656,
          48.7656,
          48.7656
         ],
         "legendgroup": "Baden-Baden",
         "lon": [
          8.22852,
          8.22852,
          8.22852,
          8.22852,
          8.22852,
          8.22852,
          8.22852,
          8.22852
         ],
         "marker": {
          "color": "#FF6692",
          "size": [
           2,
           4,
           2,
           4,
           3,
           5,
           70,
           33
          ],
          "sizemode": "area",
          "sizeref": 0.5475
         },
         "mode": "markers",
         "name": "Baden-Baden",
         "showlegend": true,
         "subplot": "mapbox",
         "type": "scattermapbox"
        },
        {
         "hovertemplate": "city=Gengenbach<br>deaths=%{marker.size}<br>lat=%{lat}<br>lon=%{lon}<extra></extra>",
         "lat": [
          48.4098,
          48.4098,
          48.4098,
          48.4098,
          48.4098,
          48.4098,
          48.4098,
          48.4098
         ],
         "legendgroup": "Gengenbach",
         "lon": [
          8.0096,
          8.0096,
          8.0096,
          8.0096,
          8.0096,
          8.0096,
          8.0096,
          8.0096
         ],
         "marker": {
          "color": "#B6E880",
          "size": [
           7,
           1,
           0,
           70,
           2,
           2,
           2,
           2
          ],
          "sizemode": "area",
          "sizeref": 0.5475
         },
         "mode": "markers",
         "name": "Gengenbach",
         "showlegend": true,
         "subplot": "mapbox",
         "type": "scattermapbox"
        },
        {
         "hovertemplate": "city=Vogtsburg<br>deaths=%{marker.size}<br>lat=%{lat}<br>lon=%{lon}<extra></extra>",
         "lat": [
          48.0971
         ],
         "legendgroup": "Vogtsburg",
         "lon": [
          7.64078
         ],
         "marker": {
          "color": "#FF97FF",
          "size": [
           2
          ],
          "sizemode": "area",
          "sizeref": 0.5475
         },
         "mode": "markers",
         "name": "Vogtsburg",
         "showlegend": true,
         "subplot": "mapbox",
         "type": "scattermapbox"
        },
        {
         "hovertemplate": "city=Kampfelbach<br>deaths=%{marker.size}<br>lat=%{lat}<br>lon=%{lon}<extra></extra>",
         "lat": [
          48.9486,
          48.9486,
          48.9486
         ],
         "legendgroup": "Kampfelbach",
         "lon": [
          8.62351,
          8.62351,
          8.62351
         ],
         "marker": {
          "color": "#FECB52",
          "size": [
           2,
           2,
           2
          ],
          "sizemode": "area",
          "sizeref": 0.5475
         },
         "mode": "markers",
         "name": "Kampfelbach",
         "showlegend": true,
         "subplot": "mapbox",
         "type": "scattermapbox"
        },
        {
         "hovertemplate": "city=Buhl<br>deaths=%{marker.size}<br>lat=%{lat}<br>lon=%{lon}<extra></extra>",
         "lat": [
          48.6955,
          48.6955
         ],
         "legendgroup": "Buhl",
         "lon": [
          8.13806,
          8.13806
         ],
         "marker": {
          "color": "#636efa",
          "size": [
           3,
           70
          ],
          "sizemode": "area",
          "sizeref": 0.5475
         },
         "mode": "markers",
         "name": "Buhl",
         "showlegend": true,
         "subplot": "mapbox",
         "type": "scattermapbox"
        },
        {
         "hovertemplate": "city=Schwabisch Hall<br>deaths=%{marker.size}<br>lat=%{lat}<br>lon=%{lon}<extra></extra>",
         "lat": [
          49.1125,
          49.1125,
          49.1125,
          49.1125,
          49.1125
         ],
         "legendgroup": "Schwabisch Hall",
         "lon": [
          9.73726,
          9.73726,
          9.73726,
          9.73726,
          9.73726
         ],
         "marker": {
          "color": "#EF553B",
          "size": [
           1,
           1,
           2,
           0,
           5
          ],
          "sizemode": "area",
          "sizeref": 0.5475
         },
         "mode": "markers",
         "name": "Schwabisch Hall",
         "showlegend": true,
         "subplot": "mapbox",
         "type": "scattermapbox"
        },
        {
         "hovertemplate": "city=Uberlingen<br>deaths=%{marker.size}<br>lat=%{lat}<br>lon=%{lon}<extra></extra>",
         "lat": [
          47.7662,
          47.7662,
          47.7662,
          47.7662
         ],
         "legendgroup": "Uberlingen",
         "lon": [
          9.17028,
          9.17028,
          9.17028,
          9.17028
         ],
         "marker": {
          "color": "#00cc96",
          "size": [
           8,
           3,
           6,
           4
          ],
          "sizemode": "area",
          "sizeref": 0.5475
         },
         "mode": "markers",
         "name": "Uberlingen",
         "showlegend": true,
         "subplot": "mapbox",
         "type": "scattermapbox"
        },
        {
         "hovertemplate": "city=Bad Wurzach<br>deaths=%{marker.size}<br>lat=%{lat}<br>lon=%{lon}<extra></extra>",
         "lat": [
          47.9082,
          47.9082,
          47.9082,
          47.9082,
          47.9082
         ],
         "legendgroup": "Bad Wurzach",
         "lon": [
          9.89383,
          9.89383,
          9.89383,
          9.89383,
          9.89383
         ],
         "marker": {
          "color": "#ab63fa",
          "size": [
           16,
           16,
           9,
           4,
           1
          ],
          "sizemode": "area",
          "sizeref": 0.5475
         },
         "mode": "markers",
         "name": "Bad Wurzach",
         "showlegend": true,
         "subplot": "mapbox",
         "type": "scattermapbox"
        },
        {
         "hovertemplate": "city=Waldkirch<br>deaths=%{marker.size}<br>lat=%{lat}<br>lon=%{lon}<extra></extra>",
         "lat": [
          48.0915
         ],
         "legendgroup": "Waldkirch",
         "lon": [
          7.95865
         ],
         "marker": {
          "color": "#FFA15A",
          "size": [
           6
          ],
          "sizemode": "area",
          "sizeref": 0.5475
         },
         "mode": "markers",
         "name": "Waldkirch",
         "showlegend": true,
         "subplot": "mapbox",
         "type": "scattermapbox"
        },
        {
         "hovertemplate": "city=Brigach<br>deaths=%{marker.size}<br>lat=%{lat}<br>lon=%{lon}<extra></extra>",
         "lat": [
          48.1071
         ],
         "legendgroup": "Brigach",
         "lon": [
          8.28305
         ],
         "marker": {
          "color": "#19d3f3",
          "size": [
           6
          ],
          "sizemode": "area",
          "sizeref": 0.5475
         },
         "mode": "markers",
         "name": "Brigach",
         "showlegend": true,
         "subplot": "mapbox",
         "type": "scattermapbox"
        },
        {
         "hovertemplate": "city=Endingen<br>deaths=%{marker.size}<br>lat=%{lat}<br>lon=%{lon}<extra></extra>",
         "lat": [
          48.1437,
          48.1437
         ],
         "legendgroup": "Endingen",
         "lon": [
          7.70059,
          7.70059
         ],
         "marker": {
          "color": "#FF6692",
          "size": [
           3,
           4
          ],
          "sizemode": "area",
          "sizeref": 0.5475
         },
         "mode": "markers",
         "name": "Endingen",
         "showlegend": true,
         "subplot": "mapbox",
         "type": "scattermapbox"
        },
        {
         "hovertemplate": "city=Schopfheim<br>deaths=%{marker.size}<br>lat=%{lat}<br>lon=%{lon}<extra></extra>",
         "lat": [
          47.6519
         ],
         "legendgroup": "Schopfheim",
         "lon": [
          7.82357
         ],
         "marker": {
          "color": "#B6E880",
          "size": [
           5
          ],
          "sizemode": "area",
          "sizeref": 0.5475
         },
         "mode": "markers",
         "name": "Schopfheim",
         "showlegend": true,
         "subplot": "mapbox",
         "type": "scattermapbox"
        },
        {
         "hovertemplate": "city=Hohenzollern<br>deaths=%{marker.size}<br>lat=%{lat}<br>lon=%{lon}<extra></extra>",
         "lat": [
          48.3231,
          48.3231,
          48.3231,
          48.3231,
          48.3231,
          48.3231,
          48.3231,
          48.3231,
          48.3231,
          48.3231,
          48.3231,
          48.3231,
          48.3231,
          48.3231,
          48.3231,
          48.3231,
          48.3231,
          48.3231,
          48.3231,
          48.3231,
          48.3231,
          48.3231,
          48.3231,
          48.3231,
          48.3231
         ],
         "legendgroup": "Hohenzollern",
         "lon": [
          8.96778,
          8.96778,
          8.96778,
          8.96778,
          8.96778,
          8.96778,
          8.96778,
          8.96778,
          8.96778,
          8.96778,
          8.96778,
          8.96778,
          8.96778,
          8.96778,
          8.96778,
          8.96778,
          8.96778,
          8.96778,
          8.96778,
          8.96778,
          8.96778,
          8.96778,
          8.96778,
          8.96778,
          8.96778
         ],
         "marker": {
          "color": "#FF97FF",
          "size": [
           1,
           1,
           1,
           3,
           11,
           1,
           2,
           8,
           1,
           5,
           2,
           5,
           1,
           3,
           2,
           1,
           1,
           0,
           1,
           1,
           2,
           1,
           0,
           2,
           1
          ],
          "sizemode": "area",
          "sizeref": 0.5475
         },
         "mode": "markers",
         "name": "Hohenzollern",
         "showlegend": true,
         "subplot": "mapbox",
         "type": "scattermapbox"
        },
        {
         "hovertemplate": "city=Breisach<br>deaths=%{marker.size}<br>lat=%{lat}<br>lon=%{lon}<extra></extra>",
         "lat": [
          48.0348,
          48.0348
         ],
         "legendgroup": "Breisach",
         "lon": [
          7.58361,
          7.58361
         ],
         "marker": {
          "color": "#FECB52",
          "size": [
           1,
           1
          ],
          "sizemode": "area",
          "sizeref": 0.5475
         },
         "mode": "markers",
         "name": "Breisach",
         "showlegend": true,
         "subplot": "mapbox",
         "type": "scattermapbox"
        },
        {
         "hovertemplate": "city=Ettlingen<br>deaths=%{marker.size}<br>lat=%{lat}<br>lon=%{lon}<extra></extra>",
         "lat": [
          48.9432,
          48.9432
         ],
         "legendgroup": "Ettlingen",
         "lon": [
          8.39802,
          8.39802
         ],
         "marker": {
          "color": "#636efa",
          "size": [
           1,
           1
          ],
          "sizemode": "area",
          "sizeref": 0.5475
         },
         "mode": "markers",
         "name": "Ettlingen",
         "showlegend": true,
         "subplot": "mapbox",
         "type": "scattermapbox"
        },
        {
         "hovertemplate": "city=Rastatt<br>deaths=%{marker.size}<br>lat=%{lat}<br>lon=%{lon}<extra></extra>",
         "lat": [
          48.8591,
          48.8591
         ],
         "legendgroup": "Rastatt",
         "lon": [
          8.20591,
          8.20591
         ],
         "marker": {
          "color": "#EF553B",
          "size": [
           7,
           1
          ],
          "sizemode": "area",
          "sizeref": 0.5475
         },
         "mode": "markers",
         "name": "Rastatt",
         "showlegend": true,
         "subplot": "mapbox",
         "type": "scattermapbox"
        },
        {
         "hovertemplate": "city=Kuppenheim<br>deaths=%{marker.size}<br>lat=%{lat}<br>lon=%{lon}<extra></extra>",
         "lat": [
          48.8289
         ],
         "legendgroup": "Kuppenheim",
         "lon": [
          8.25624
         ],
         "marker": {
          "color": "#00cc96",
          "size": [
           6
          ],
          "sizemode": "area",
          "sizeref": 0.5475
         },
         "mode": "markers",
         "name": "Kuppenheim",
         "showlegend": true,
         "subplot": "mapbox",
         "type": "scattermapbox"
        },
        {
         "hovertemplate": "city=Isny im Allgau<br>deaths=%{marker.size}<br>lat=%{lat}<br>lon=%{lon}<extra></extra>",
         "lat": [
          47.695
         ],
         "legendgroup": "Isny im Allgau",
         "lon": [
          10.042
         ],
         "marker": {
          "color": "#ab63fa",
          "size": [
           3
          ],
          "sizemode": "area",
          "sizeref": 0.5475
         },
         "mode": "markers",
         "name": "Isny im Allgau",
         "showlegend": true,
         "subplot": "mapbox",
         "type": "scattermapbox"
        },
        {
         "hovertemplate": "city=Biberach<br>deaths=%{marker.size}<br>lat=%{lat}<br>lon=%{lon}<extra></extra>",
         "lat": [
          48.0951,
          48.0951
         ],
         "legendgroup": "Biberach",
         "lon": [
          9.79015,
          9.79015
         ],
         "marker": {
          "color": "#FFA15A",
          "size": [
           5,
           1
          ],
          "sizemode": "area",
          "sizeref": 0.5475
         },
         "mode": "markers",
         "name": "Biberach",
         "showlegend": true,
         "subplot": "mapbox",
         "type": "scattermapbox"
        },
        {
         "hovertemplate": "city=Heiligkreuztal<br>deaths=%{marker.size}<br>lat=%{lat}<br>lon=%{lon}<extra></extra>",
         "lat": [
          48.1351
         ],
         "legendgroup": "Heiligkreuztal",
         "lon": [
          9.40386
         ],
         "marker": {
          "color": "#19d3f3",
          "size": [
           1
          ],
          "sizemode": "area",
          "sizeref": 0.5475
         },
         "mode": "markers",
         "name": "Heiligkreuztal",
         "showlegend": true,
         "subplot": "mapbox",
         "type": "scattermapbox"
        },
        {
         "hovertemplate": "city=Obermarchtal<br>deaths=%{marker.size}<br>lat=%{lat}<br>lon=%{lon}<extra></extra>",
         "lat": [
          48.2338,
          48.2338,
          48.2338,
          48.2338,
          48.2338,
          48.2338,
          48.2338,
          48.2338,
          48.2338,
          48.2338,
          48.2338,
          48.2338
         ],
         "legendgroup": "Obermarchtal",
         "lon": [
          9.56997,
          9.56997,
          9.56997,
          9.56997,
          9.56997,
          9.56997,
          9.56997,
          9.56997,
          9.56997,
          9.56997,
          9.56997,
          9.56997
         ],
         "marker": {
          "color": "#FF6692",
          "size": [
           1,
           22,
           25,
           6,
           1,
           3,
           3,
           4,
           1,
           7,
           1,
           1
          ],
          "sizemode": "area",
          "sizeref": 0.5475
         },
         "mode": "markers",
         "name": "Obermarchtal",
         "showlegend": true,
         "subplot": "mapbox",
         "type": "scattermapbox"
        },
        {
         "hovertemplate": "city=Reute<br>deaths=%{marker.size}<br>lat=%{lat}<br>lon=%{lon}<extra></extra>",
         "lat": [
          48.0833
         ],
         "legendgroup": "Reute",
         "lon": [
          7.82609
         ],
         "marker": {
          "color": "#B6E880",
          "size": [
           38
          ],
          "sizemode": "area",
          "sizeref": 0.5475
         },
         "mode": "markers",
         "name": "Reute",
         "showlegend": true,
         "subplot": "mapbox",
         "type": "scattermapbox"
        },
        {
         "hovertemplate": "city=Offenburg<br>deaths=%{marker.size}<br>lat=%{lat}<br>lon=%{lon}<extra></extra>",
         "lat": [
          48.4735,
          48.4735,
          48.4735,
          48.4735,
          48.4735,
          48.4735,
          48.4735,
          48.4735,
          48.4735,
          48.4735,
          48.4735,
          48.4735,
          48.4735,
          48.4735,
          48.4735,
          48.4735,
          48.4735
         ],
         "legendgroup": "Offenburg",
         "lon": [
          7.9498,
          7.9498,
          7.9498,
          7.9498,
          7.9498,
          7.9498,
          7.9498,
          7.9498,
          7.9498,
          7.9498,
          7.9498,
          7.9498,
          7.9498,
          7.9498,
          7.9498,
          7.9498,
          7.9498
         ],
         "marker": {
          "color": "#FF97FF",
          "size": [
           0,
           4,
           0,
           3,
           0,
           2,
           1,
           12,
           7,
           5,
           17,
           3,
           32,
           0,
           1,
           0,
           1
          ],
          "sizemode": "area",
          "sizeref": 0.5475
         },
         "mode": "markers",
         "name": "Offenburg",
         "showlegend": true,
         "subplot": "mapbox",
         "type": "scattermapbox"
        },
        {
         "hovertemplate": "city=Bad Mergentheim<br>deaths=%{marker.size}<br>lat=%{lat}<br>lon=%{lon}<extra></extra>",
         "lat": [
          49.4885,
          49.4885,
          49.4885,
          49.4885,
          49.4885,
          49.4885,
          49.4885
         ],
         "legendgroup": "Bad Mergentheim",
         "lon": [
          9.77042,
          9.77042,
          9.77042,
          9.77042,
          9.77042,
          9.77042,
          9.77042
         ],
         "marker": {
          "color": "#FECB52",
          "size": [
           2,
           7,
           5,
           17,
           94,
           13,
           1
          ],
          "sizemode": "area",
          "sizeref": 0.5475
         },
         "mode": "markers",
         "name": "Bad Mergentheim",
         "showlegend": true,
         "subplot": "mapbox",
         "type": "scattermapbox"
        },
        {
         "hovertemplate": "city=Riedlingen<br>deaths=%{marker.size}<br>lat=%{lat}<br>lon=%{lon}<extra></extra>",
         "lat": [
          48.1596,
          48.1596,
          48.1596
         ],
         "legendgroup": "Riedlingen",
         "lon": [
          9.47133,
          9.47133,
          9.47133
         ],
         "marker": {
          "color": "#636efa",
          "size": [
           2,
           1,
           1
          ],
          "sizemode": "area",
          "sizeref": 0.5475
         },
         "mode": "markers",
         "name": "Riedlingen",
         "showlegend": true,
         "subplot": "mapbox",
         "type": "scattermapbox"
        },
        {
         "hovertemplate": "city=Neuenburg<br>deaths=%{marker.size}<br>lat=%{lat}<br>lon=%{lon}<extra></extra>",
         "lat": [
          48.8484
         ],
         "legendgroup": "Neuenburg",
         "lon": [
          8.588
         ],
         "marker": {
          "color": "#EF553B",
          "size": [
           0
          ],
          "sizemode": "area",
          "sizeref": 0.5475
         },
         "mode": "markers",
         "name": "Neuenburg",
         "showlegend": true,
         "subplot": "mapbox",
         "type": "scattermapbox"
        },
        {
         "hovertemplate": "city=Bernau im Schwarzwald<br>deaths=%{marker.size}<br>lat=%{lat}<br>lon=%{lon}<extra></extra>",
         "lat": [
          47.7925
         ],
         "legendgroup": "Bernau im Schwarzwald",
         "lon": [
          8.06365
         ],
         "marker": {
          "color": "#00cc96",
          "size": [
           17
          ],
          "sizemode": "area",
          "sizeref": 0.5475
         },
         "mode": "markers",
         "name": "Bernau im Schwarzwald",
         "showlegend": true,
         "subplot": "mapbox",
         "type": "scattermapbox"
        },
        {
         "hovertemplate": "city=Balingen<br>deaths=%{marker.size}<br>lat=%{lat}<br>lon=%{lon}<extra></extra>",
         "lat": [
          48.2748,
          48.2748,
          48.2748
         ],
         "legendgroup": "Balingen",
         "lon": [
          8.84953,
          8.84953,
          8.84953
         ],
         "marker": {
          "color": "#ab63fa",
          "size": [
           2,
           0,
           0
          ],
          "sizemode": "area",
          "sizeref": 0.5475
         },
         "mode": "markers",
         "name": "Balingen",
         "showlegend": true,
         "subplot": "mapbox",
         "type": "scattermapbox"
        },
        {
         "hovertemplate": "city=Giengen<br>deaths=%{marker.size}<br>lat=%{lat}<br>lon=%{lon}<extra></extra>",
         "lat": [
          48.6224
         ],
         "legendgroup": "Giengen",
         "lon": [
          10.2392
         ],
         "marker": {
          "color": "#FFA15A",
          "size": [
           1
          ],
          "sizemode": "area",
          "sizeref": 0.5475
         },
         "mode": "markers",
         "name": "Giengen",
         "showlegend": true,
         "subplot": "mapbox",
         "type": "scattermapbox"
        },
        {
         "hovertemplate": "city=Schomberg<br>deaths=%{marker.size}<br>lat=%{lat}<br>lon=%{lon}<extra></extra>",
         "lat": [
          48.2069
         ],
         "legendgroup": "Schomberg",
         "lon": [
          8.75791
         ],
         "marker": {
          "color": "#19d3f3",
          "size": [
           2
          ],
          "sizemode": "area",
          "sizeref": 0.5475
         },
         "mode": "markers",
         "name": "Schomberg",
         "showlegend": true,
         "subplot": "mapbox",
         "type": "scattermapbox"
        },
        {
         "hovertemplate": "city=Reutlingen<br>deaths=%{marker.size}<br>lat=%{lat}<br>lon=%{lon}<extra></extra>",
         "lat": [
          48.5069,
          48.5069,
          48.5069,
          48.5069,
          48.5069,
          48.5069,
          48.5069,
          48.5069,
          48.5069
         ],
         "legendgroup": "Reutlingen",
         "lon": [
          9.2038,
          9.2038,
          9.2038,
          9.2038,
          9.2038,
          9.2038,
          9.2038,
          9.2038,
          9.2038
         ],
         "marker": {
          "color": "#FF6692",
          "size": [
           1,
           5,
           3,
           1,
           0,
           1,
           0,
           0,
           14
          ],
          "sizemode": "area",
          "sizeref": 0.5475
         },
         "mode": "markers",
         "name": "Reutlingen",
         "showlegend": true,
         "subplot": "mapbox",
         "type": "scattermapbox"
        },
        {
         "hovertemplate": "city=Kirchheim unter Teck<br>deaths=%{marker.size}<br>lat=%{lat}<br>lon=%{lon}<extra></extra>",
         "lat": [
          48.6471,
          48.6471
         ],
         "legendgroup": "Kirchheim unter Teck",
         "lon": [
          9.45196,
          9.45196
         ],
         "marker": {
          "color": "#B6E880",
          "size": [
           1,
           1
          ],
          "sizemode": "area",
          "sizeref": 0.5475
         },
         "mode": "markers",
         "name": "Kirchheim unter Teck",
         "showlegend": true,
         "subplot": "mapbox",
         "type": "scattermapbox"
        },
        {
         "hovertemplate": "city=Bad Rappenau<br>deaths=%{marker.size}<br>lat=%{lat}<br>lon=%{lon}<extra></extra>",
         "lat": [
          49.2402
         ],
         "legendgroup": "Bad Rappenau",
         "lon": [
          9.10202
         ],
         "marker": {
          "color": "#FF97FF",
          "size": [
           1
          ],
          "sizemode": "area",
          "sizeref": 0.5475
         },
         "mode": "markers",
         "name": "Bad Rappenau",
         "showlegend": true,
         "subplot": "mapbox",
         "type": "scattermapbox"
        },
        {
         "hovertemplate": "city=Freudenberg am Main<br>deaths=%{marker.size}<br>lat=%{lat}<br>lon=%{lon}<extra></extra>",
         "lat": [
          49.7541,
          49.7541
         ],
         "legendgroup": "Freudenberg am Main",
         "lon": [
          9.32665,
          9.32665
         ],
         "marker": {
          "color": "#FECB52",
          "size": [
           9,
           50
          ],
          "sizemode": "area",
          "sizeref": 0.5475
         },
         "mode": "markers",
         "name": "Freudenberg am Main",
         "showlegend": true,
         "subplot": "mapbox",
         "type": "scattermapbox"
        },
        {
         "hovertemplate": "city=Calw<br>deaths=%{marker.size}<br>lat=%{lat}<br>lon=%{lon}<extra></extra>",
         "lat": [
          48.7122,
          48.7122
         ],
         "legendgroup": "Calw",
         "lon": [
          8.74724,
          8.74724
         ],
         "marker": {
          "color": "#636efa",
          "size": [
           0,
           2
          ],
          "sizemode": "area",
          "sizeref": 0.5475
         },
         "mode": "markers",
         "name": "Calw",
         "showlegend": true,
         "subplot": "mapbox",
         "type": "scattermapbox"
        },
        {
         "hovertemplate": "city=Niederstetten<br>deaths=%{marker.size}<br>lat=%{lat}<br>lon=%{lon}<extra></extra>",
         "lat": [
          49.3995
         ],
         "legendgroup": "Niederstetten",
         "lon": [
          9.91944
         ],
         "marker": {
          "color": "#EF553B",
          "size": [
           1
          ],
          "sizemode": "area",
          "sizeref": 0.5475
         },
         "mode": "markers",
         "name": "Niederstetten",
         "showlegend": true,
         "subplot": "mapbox",
         "type": "scattermapbox"
        },
        {
         "hovertemplate": "city=Ingelfingen<br>deaths=%{marker.size}<br>lat=%{lat}<br>lon=%{lon}<extra></extra>",
         "lat": [
          49.2997
         ],
         "legendgroup": "Ingelfingen",
         "lon": [
          9.65725
         ],
         "marker": {
          "color": "#00cc96",
          "size": [
           14
          ],
          "sizemode": "area",
          "sizeref": 0.5475
         },
         "mode": "markers",
         "name": "Ingelfingen",
         "showlegend": true,
         "subplot": "mapbox",
         "type": "scattermapbox"
        },
        {
         "hovertemplate": "city=Niedernhall<br>deaths=%{marker.size}<br>lat=%{lat}<br>lon=%{lon}<extra></extra>",
         "lat": [
          49.2861,
          49.2861,
          49.2861
         ],
         "legendgroup": "Niedernhall",
         "lon": [
          9.61854,
          9.61854,
          9.61854
         ],
         "marker": {
          "color": "#ab63fa",
          "size": [
           3,
           2,
           2
          ],
          "sizemode": "area",
          "sizeref": 0.5475
         },
         "mode": "markers",
         "name": "Niedernhall",
         "showlegend": true,
         "subplot": "mapbox",
         "type": "scattermapbox"
        },
        {
         "hovertemplate": "city=Reichenbach am Heuberg<br>deaths=%{marker.size}<br>lat=%{lat}<br>lon=%{lon}<extra></extra>",
         "lat": [
          48.1334
         ],
         "legendgroup": "Reichenbach am Heuberg",
         "lon": [
          8.84119
         ],
         "marker": {
          "color": "#FFA15A",
          "size": [
           1
          ],
          "sizemode": "area",
          "sizeref": 0.5475
         },
         "mode": "markers",
         "name": "Reichenbach am Heuberg",
         "showlegend": true,
         "subplot": "mapbox",
         "type": "scattermapbox"
        },
        {
         "hovertemplate": "city=Weil der Stadt<br>deaths=%{marker.size}<br>lat=%{lat}<br>lon=%{lon}<extra></extra>",
         "lat": [
          48.7536,
          48.7536,
          48.7536
         ],
         "legendgroup": "Weil der Stadt",
         "lon": [
          8.87274,
          8.87274,
          8.87274
         ],
         "marker": {
          "color": "#19d3f3",
          "size": [
           1,
           1,
           1
          ],
          "sizemode": "area",
          "sizeref": 0.5475
         },
         "mode": "markers",
         "name": "Weil der Stadt",
         "showlegend": true,
         "subplot": "mapbox",
         "type": "scattermapbox"
        },
        {
         "hovertemplate": "city=Kenzingen<br>deaths=%{marker.size}<br>lat=%{lat}<br>lon=%{lon}<extra></extra>",
         "lat": [
          48.1955,
          48.1955,
          48.1955
         ],
         "legendgroup": "Kenzingen",
         "lon": [
          7.76968,
          7.76968,
          7.76968
         ],
         "marker": {
          "color": "#FF6692",
          "size": [
           12,
           2,
           2
          ],
          "sizemode": "area",
          "sizeref": 0.5475
         },
         "mode": "markers",
         "name": "Kenzingen",
         "showlegend": true,
         "subplot": "mapbox",
         "type": "scattermapbox"
        },
        {
         "hovertemplate": "city=Trochtelfingen<br>deaths=%{marker.size}<br>lat=%{lat}<br>lon=%{lon}<extra></extra>",
         "lat": [
          48.3091
         ],
         "legendgroup": "Trochtelfingen",
         "lon": [
          9.23991
         ],
         "marker": {
          "color": "#B6E880",
          "size": [
           13
          ],
          "sizemode": "area",
          "sizeref": 0.5475
         },
         "mode": "markers",
         "name": "Trochtelfingen",
         "showlegend": true,
         "subplot": "mapbox",
         "type": "scattermapbox"
        },
        {
         "hovertemplate": "city=Sulz am Neckar<br>deaths=%{marker.size}<br>lat=%{lat}<br>lon=%{lon}<extra></extra>",
         "lat": [
          48.3537,
          48.3537,
          48.3537,
          48.3537,
          48.3537,
          48.3537,
          48.3537,
          48.3537,
          48.3537,
          48.3537,
          48.3537
         ],
         "legendgroup": "Sulz am Neckar",
         "lon": [
          8.63442,
          8.63442,
          8.63442,
          8.63442,
          8.63442,
          8.63442,
          8.63442,
          8.63442,
          8.63442,
          8.63442,
          8.63442
         ],
         "marker": {
          "color": "#FF97FF",
          "size": [
           5,
           1,
           1,
           11,
           1,
           2,
           9,
           2,
           1,
           5,
           1
          ],
          "sizemode": "area",
          "sizeref": 0.5475
         },
         "mode": "markers",
         "name": "Sulz am Neckar",
         "showlegend": true,
         "subplot": "mapbox",
         "type": "scattermapbox"
        },
        {
         "hovertemplate": "city=Vohringen<br>deaths=%{marker.size}<br>lat=%{lat}<br>lon=%{lon}<extra></extra>",
         "lat": [
          48.3346
         ],
         "legendgroup": "Vohringen",
         "lon": [
          8.66422
         ],
         "marker": {
          "color": "#FECB52",
          "size": [
           1
          ],
          "sizemode": "area",
          "sizeref": 0.5475
         },
         "mode": "markers",
         "name": "Vohringen",
         "showlegend": true,
         "subplot": "mapbox",
         "type": "scattermapbox"
        },
        {
         "hovertemplate": "city=Boll<br>deaths=%{marker.size}<br>lat=%{lat}<br>lon=%{lon}<extra></extra>",
         "lat": [
          48.6406
         ],
         "legendgroup": "Boll",
         "lon": [
          9.61378
         ],
         "marker": {
          "color": "#636efa",
          "size": [
           1
          ],
          "sizemode": "area",
          "sizeref": 0.5475
         },
         "mode": "markers",
         "name": "Boll",
         "showlegend": true,
         "subplot": "mapbox",
         "type": "scattermapbox"
        },
        {
         "hovertemplate": "city=Haigerloch<br>deaths=%{marker.size}<br>lat=%{lat}<br>lon=%{lon}<extra></extra>",
         "lat": [
          48.3667,
          48.3667,
          48.3667,
          48.3667,
          48.3667,
          48.3667
         ],
         "legendgroup": "Haigerloch",
         "lon": [
          8.79197,
          8.79197,
          8.79197,
          8.79197,
          8.79197,
          8.79197
         ],
         "marker": {
          "color": "#EF553B",
          "size": [
           1,
           1,
           2,
           1,
           2,
           2
          ],
          "sizemode": "area",
          "sizeref": 0.5475
         },
         "mode": "markers",
         "name": "Haigerloch",
         "showlegend": true,
         "subplot": "mapbox",
         "type": "scattermapbox"
        },
        {
         "hovertemplate": "city=Lauda-Konigshofen<br>deaths=%{marker.size}<br>lat=%{lat}<br>lon=%{lon}<extra></extra>",
         "lat": [
          49.5651,
          49.5651,
          49.5651
         ],
         "legendgroup": "Lauda-Konigshofen",
         "lon": [
          9.70038,
          9.70038,
          9.70038
         ],
         "marker": {
          "color": "#00cc96",
          "size": [
           2,
           7,
           1
          ],
          "sizemode": "area",
          "sizeref": 0.5475
         },
         "mode": "markers",
         "name": "Lauda-Konigshofen",
         "showlegend": true,
         "subplot": "mapbox",
         "type": "scattermapbox"
        },
        {
         "hovertemplate": "city=Marbach am Neckar<br>deaths=%{marker.size}<br>lat=%{lat}<br>lon=%{lon}<extra></extra>",
         "lat": [
          48.9396,
          48.9396,
          48.9396,
          48.9396,
          48.9396
         ],
         "legendgroup": "Marbach am Neckar",
         "lon": [
          9.2646,
          9.2646,
          9.2646,
          9.2646,
          9.2646
         ],
         "marker": {
          "color": "#ab63fa",
          "size": [
           2,
           1,
           1,
           0,
           0
          ],
          "sizemode": "area",
          "sizeref": 0.5475
         },
         "mode": "markers",
         "name": "Marbach am Neckar",
         "showlegend": true,
         "subplot": "mapbox",
         "type": "scattermapbox"
        },
        {
         "hovertemplate": "city=Krautheim<br>deaths=%{marker.size}<br>lat=%{lat}<br>lon=%{lon}<extra></extra>",
         "lat": [
          49.3827
         ],
         "legendgroup": "Krautheim",
         "lon": [
          9.63439
         ],
         "marker": {
          "color": "#FFA15A",
          "size": [
           2
          ],
          "sizemode": "area",
          "sizeref": 0.5475
         },
         "mode": "markers",
         "name": "Krautheim",
         "showlegend": true,
         "subplot": "mapbox",
         "type": "scattermapbox"
        },
        {
         "hovertemplate": "city=Beilstein<br>deaths=%{marker.size}<br>lat=%{lat}<br>lon=%{lon}<extra></extra>",
         "lat": [
          49.0417
         ],
         "legendgroup": "Beilstein",
         "lon": [
          9.31295
         ],
         "marker": {
          "color": "#19d3f3",
          "size": [
           0
          ],
          "sizemode": "area",
          "sizeref": 0.5475
         },
         "mode": "markers",
         "name": "Beilstein",
         "showlegend": true,
         "subplot": "mapbox",
         "type": "scattermapbox"
        },
        {
         "hovertemplate": "city=Freudenstadt<br>deaths=%{marker.size}<br>lat=%{lat}<br>lon=%{lon}<extra></extra>",
         "lat": [
          48.4645,
          48.4645,
          48.4645,
          48.4645
         ],
         "legendgroup": "Freudenstadt",
         "lon": [
          8.418,
          8.418,
          8.418,
          8.418
         ],
         "marker": {
          "color": "#FF6692",
          "size": [
           2,
           0,
           2,
           1
          ],
          "sizemode": "area",
          "sizeref": 0.5475
         },
         "mode": "markers",
         "name": "Freudenstadt",
         "showlegend": true,
         "subplot": "mapbox",
         "type": "scattermapbox"
        },
        {
         "hovertemplate": "city=Rosenfeld<br>deaths=%{marker.size}<br>lat=%{lat}<br>lon=%{lon}<extra></extra>",
         "lat": [
          48.2874
         ],
         "legendgroup": "Rosenfeld",
         "lon": [
          8.72004
         ],
         "marker": {
          "color": "#B6E880",
          "size": [
           2
          ],
          "sizemode": "area",
          "sizeref": 0.5475
         },
         "mode": "markers",
         "name": "Rosenfeld",
         "showlegend": true,
         "subplot": "mapbox",
         "type": "scattermapbox"
        },
        {
         "hovertemplate": "city=Geislingen an der Steige<br>deaths=%{marker.size}<br>lat=%{lat}<br>lon=%{lon}<extra></extra>",
         "lat": [
          48.6215
         ],
         "legendgroup": "Geislingen an der Steige",
         "lon": [
          9.82945
         ],
         "marker": {
          "color": "#FF97FF",
          "size": [
           14
          ],
          "sizemode": "area",
          "sizeref": 0.5475
         },
         "mode": "markers",
         "name": "Geislingen an der Steige",
         "showlegend": true,
         "subplot": "mapbox",
         "type": "scattermapbox"
        },
        {
         "hovertemplate": "city=Lichtenau<br>deaths=%{marker.size}<br>lat=%{lat}<br>lon=%{lon}<extra></extra>",
         "lat": [
          48.7254
         ],
         "legendgroup": "Lichtenau",
         "lon": [
          8.00684
         ],
         "marker": {
          "color": "#FECB52",
          "size": [
           0
          ],
          "sizemode": "area",
          "sizeref": 0.5475
         },
         "mode": "markers",
         "name": "Lichtenau",
         "showlegend": true,
         "subplot": "mapbox",
         "type": "scattermapbox"
        },
        {
         "hovertemplate": "city=Besigheim<br>deaths=%{marker.size}<br>lat=%{lat}<br>lon=%{lon}<extra></extra>",
         "lat": [
          48.9988,
          48.9988
         ],
         "legendgroup": "Besigheim",
         "lon": [
          9.14839,
          9.14839
         ],
         "marker": {
          "color": "#636efa",
          "size": [
           1,
           0
          ],
          "sizemode": "area",
          "sizeref": 0.5475
         },
         "mode": "markers",
         "name": "Besigheim",
         "showlegend": true,
         "subplot": "mapbox",
         "type": "scattermapbox"
        },
        {
         "hovertemplate": "city=Dornhan<br>deaths=%{marker.size}<br>lat=%{lat}<br>lon=%{lon}<extra></extra>",
         "lat": [
          48.3493,
          48.3493
         ],
         "legendgroup": "Dornhan",
         "lon": [
          8.50887,
          8.50887
         ],
         "marker": {
          "color": "#EF553B",
          "size": [
           6,
           5
          ],
          "sizemode": "area",
          "sizeref": 0.5475
         },
         "mode": "markers",
         "name": "Dornhan",
         "showlegend": true,
         "subplot": "mapbox",
         "type": "scattermapbox"
        },
        {
         "hovertemplate": "city=Heidenheim<br>deaths=%{marker.size}<br>lat=%{lat}<br>lon=%{lon}<extra></extra>",
         "lat": [
          48.6894,
          48.6894
         ],
         "legendgroup": "Heidenheim",
         "lon": [
          10.1611,
          10.1611
         ],
         "marker": {
          "color": "#00cc96",
          "size": [
           2,
           1
          ],
          "sizemode": "area",
          "sizeref": 0.5475
         },
         "mode": "markers",
         "name": "Heidenheim",
         "showlegend": true,
         "subplot": "mapbox",
         "type": "scattermapbox"
        },
        {
         "hovertemplate": "city=Bad Urach<br>deaths=%{marker.size}<br>lat=%{lat}<br>lon=%{lon}<extra></extra>",
         "lat": [
          48.4969,
          48.4969
         ],
         "legendgroup": "Bad Urach",
         "lon": [
          9.39487,
          9.39487
         ],
         "marker": {
          "color": "#ab63fa",
          "size": [
           3,
           0
          ],
          "sizemode": "area",
          "sizeref": 0.5475
         },
         "mode": "markers",
         "name": "Bad Urach",
         "showlegend": true,
         "subplot": "mapbox",
         "type": "scattermapbox"
        },
        {
         "hovertemplate": "city=Backnang<br>deaths=%{marker.size}<br>lat=%{lat}<br>lon=%{lon}<extra></extra>",
         "lat": [
          48.9471
         ],
         "legendgroup": "Backnang",
         "lon": [
          9.43418
         ],
         "marker": {
          "color": "#FFA15A",
          "size": [
           1
          ],
          "sizemode": "area",
          "sizeref": 0.5475
         },
         "mode": "markers",
         "name": "Backnang",
         "showlegend": true,
         "subplot": "mapbox",
         "type": "scattermapbox"
        },
        {
         "hovertemplate": "city=Gaildorf<br>deaths=%{marker.size}<br>lat=%{lat}<br>lon=%{lon}<extra></extra>",
         "lat": [
          48.9999,
          48.9999,
          48.9999
         ],
         "legendgroup": "Gaildorf",
         "lon": [
          9.76551,
          9.76551,
          9.76551
         ],
         "marker": {
          "color": "#19d3f3",
          "size": [
           4,
           6,
           1
          ],
          "sizemode": "area",
          "sizeref": 0.5475
         },
         "mode": "markers",
         "name": "Gaildorf",
         "showlegend": true,
         "subplot": "mapbox",
         "type": "scattermapbox"
        },
        {
         "hovertemplate": "city=Hornberg<br>deaths=%{marker.size}<br>lat=%{lat}<br>lon=%{lon}<extra></extra>",
         "lat": [
          48.2099
         ],
         "legendgroup": "Hornberg",
         "lon": [
          8.23197
         ],
         "marker": {
          "color": "#FF6692",
          "size": [
           1
          ],
          "sizemode": "area",
          "sizeref": 0.5475
         },
         "mode": "markers",
         "name": "Hornberg",
         "showlegend": true,
         "subplot": "mapbox",
         "type": "scattermapbox"
        },
        {
         "hovertemplate": "city=Burkheim<br>deaths=%{marker.size}<br>lat=%{lat}<br>lon=%{lon}<extra></extra>",
         "lat": [
          48.1013,
          48.1013
         ],
         "legendgroup": "Burkheim",
         "lon": [
          7.59347,
          7.59347
         ],
         "marker": {
          "color": "#B6E880",
          "size": [
           7,
           1
          ],
          "sizemode": "area",
          "sizeref": 0.5475
         },
         "mode": "markers",
         "name": "Burkheim",
         "showlegend": true,
         "subplot": "mapbox",
         "type": "scattermapbox"
        },
        {
         "hovertemplate": "city=Ohringen<br>deaths=%{marker.size}<br>lat=%{lat}<br>lon=%{lon}<extra></extra>",
         "lat": [
          49.1999
         ],
         "legendgroup": "Ohringen",
         "lon": [
          9.50295
         ],
         "marker": {
          "color": "#FF97FF",
          "size": [
           2
          ],
          "sizemode": "area",
          "sizeref": 0.5475
         },
         "mode": "markers",
         "name": "Ohringen",
         "showlegend": true,
         "subplot": "mapbox",
         "type": "scattermapbox"
        },
        {
         "hovertemplate": "city=Hufingen<br>deaths=%{marker.size}<br>lat=%{lat}<br>lon=%{lon}<extra></extra>",
         "lat": [
          47.9284,
          47.9284,
          47.9284
         ],
         "legendgroup": "Hufingen",
         "lon": [
          8.48753,
          8.48753,
          8.48753
         ],
         "marker": {
          "color": "#FECB52",
          "size": [
           2,
           10,
           2
          ],
          "sizemode": "area",
          "sizeref": 0.5475
         },
         "mode": "markers",
         "name": "Hufingen",
         "showlegend": true,
         "subplot": "mapbox",
         "type": "scattermapbox"
        },
        {
         "hovertemplate": "city=Schwabisch Gmund<br>deaths=%{marker.size}<br>lat=%{lat}<br>lon=%{lon}<extra></extra>",
         "lat": [
          48.7994,
          48.7994,
          48.7994,
          48.7994,
          48.7994
         ],
         "legendgroup": "Schwabisch Gmund",
         "lon": [
          9.80457,
          9.80457,
          9.80457,
          9.80457,
          9.80457
         ],
         "marker": {
          "color": "#636efa",
          "size": [
           11,
           27,
           5,
           1,
           4
          ],
          "sizemode": "area",
          "sizeref": 0.5475
         },
         "mode": "markers",
         "name": "Schwabisch Gmund",
         "showlegend": true,
         "subplot": "mapbox",
         "type": "scattermapbox"
        },
        {
         "hovertemplate": "city=Ettenheim<br>deaths=%{marker.size}<br>lat=%{lat}<br>lon=%{lon}<extra></extra>",
         "lat": [
          48.2566,
          48.2566,
          48.2566,
          48.2566,
          48.2566,
          48.2566,
          48.2566,
          48.2566,
          48.2566
         ],
         "legendgroup": "Ettenheim",
         "lon": [
          7.81381,
          7.81381,
          7.81381,
          7.81381,
          7.81381,
          7.81381,
          7.81381,
          7.81381,
          7.81381
         ],
         "marker": {
          "color": "#EF553B",
          "size": [
           3,
           0,
           0,
           13,
           1,
           1,
           0,
           0,
           0
          ],
          "sizemode": "area",
          "sizeref": 0.5475
         },
         "mode": "markers",
         "name": "Ettenheim",
         "showlegend": true,
         "subplot": "mapbox",
         "type": "scattermapbox"
        },
        {
         "hovertemplate": "city=Kraichgau<br>deaths=%{marker.size}<br>lat=%{lat}<br>lon=%{lon}<extra></extra>",
         "lat": [
          49.1005
         ],
         "legendgroup": "Kraichgau",
         "lon": [
          8.96897
         ],
         "marker": {
          "color": "#00cc96",
          "size": [
           1
          ],
          "sizemode": "area",
          "sizeref": 0.5475
         },
         "mode": "markers",
         "name": "Kraichgau",
         "showlegend": true,
         "subplot": "mapbox",
         "type": "scattermapbox"
        },
        {
         "hovertemplate": "city=Haslach im Kinzigtal<br>deaths=%{marker.size}<br>lat=%{lat}<br>lon=%{lon}<extra></extra>",
         "lat": [
          48.2774,
          48.2774,
          48.2774,
          48.2774
         ],
         "legendgroup": "Haslach im Kinzigtal",
         "lon": [
          8.09,
          8.09,
          8.09,
          8.09
         ],
         "marker": {
          "color": "#ab63fa",
          "size": [
           10,
           6,
           3,
           1
          ],
          "sizemode": "area",
          "sizeref": 0.5475
         },
         "mode": "markers",
         "name": "Haslach im Kinzigtal",
         "showlegend": true,
         "subplot": "mapbox",
         "type": "scattermapbox"
        },
        {
         "hovertemplate": "city=Muhringen<br>deaths=%{marker.size}<br>lat=%{lat}<br>lon=%{lon}<extra></extra>",
         "lat": [
          48.4172,
          48.4172,
          48.4172
         ],
         "legendgroup": "Muhringen",
         "lon": [
          8.75259,
          8.75259,
          8.75259
         ],
         "marker": {
          "color": "#FFA15A",
          "size": [
           6,
           3,
           1
          ],
          "sizemode": "area",
          "sizeref": 0.5475
         },
         "mode": "markers",
         "name": "Muhringen",
         "showlegend": true,
         "subplot": "mapbox",
         "type": "scattermapbox"
        },
        {
         "hovertemplate": "city=Leonberg<br>deaths=%{marker.size}<br>lat=%{lat}<br>lon=%{lon}<extra></extra>",
         "lat": [
          48.796
         ],
         "legendgroup": "Leonberg",
         "lon": [
          9.00957
         ],
         "marker": {
          "color": "#19d3f3",
          "size": [
           6
          ],
          "sizemode": "area",
          "sizeref": 0.5475
         },
         "mode": "markers",
         "name": "Leonberg",
         "showlegend": true,
         "subplot": "mapbox",
         "type": "scattermapbox"
        },
        {
         "hovertemplate": "city=Goppingen<br>deaths=%{marker.size}<br>lat=%{lat}<br>lon=%{lon}<extra></extra>",
         "lat": [
          48.7054,
          48.7054
         ],
         "legendgroup": "Goppingen",
         "lon": [
          9.65125,
          9.65125
         ],
         "marker": {
          "color": "#FF6692",
          "size": [
           1,
           0
          ],
          "sizemode": "area",
          "sizeref": 0.5475
         },
         "mode": "markers",
         "name": "Goppingen",
         "showlegend": true,
         "subplot": "mapbox",
         "type": "scattermapbox"
        },
        {
         "hovertemplate": "city=Bad Wimpfen<br>deaths=%{marker.size}<br>lat=%{lat}<br>lon=%{lon}<extra></extra>",
         "lat": [
          49.2285
         ],
         "legendgroup": "Bad Wimpfen",
         "lon": [
          9.15714
         ],
         "marker": {
          "color": "#B6E880",
          "size": [
           2
          ],
          "sizemode": "area",
          "sizeref": 0.5475
         },
         "mode": "markers",
         "name": "Bad Wimpfen",
         "showlegend": true,
         "subplot": "mapbox",
         "type": "scattermapbox"
        },
        {
         "hovertemplate": "city=Neibsheim<br>deaths=%{marker.size}<br>lat=%{lat}<br>lon=%{lon}<extra></extra>",
         "lat": [
          49.0681
         ],
         "legendgroup": "Neibsheim",
         "lon": [
          8.68386
         ],
         "marker": {
          "color": "#FF97FF",
          "size": [
           3
          ],
          "sizemode": "area",
          "sizeref": 0.5475
         },
         "mode": "markers",
         "name": "Neibsheim",
         "showlegend": true,
         "subplot": "mapbox",
         "type": "scattermapbox"
        },
        {
         "hovertemplate": "city=Altensteig<br>deaths=%{marker.size}<br>lat=%{lat}<br>lon=%{lon}<extra></extra>",
         "lat": [
          48.5884,
          48.5884
         ],
         "legendgroup": "Altensteig",
         "lon": [
          8.60606,
          8.60606
         ],
         "marker": {
          "color": "#FECB52",
          "size": [
           0,
           0
          ],
          "sizemode": "area",
          "sizeref": 0.5475
         },
         "mode": "markers",
         "name": "Altensteig",
         "showlegend": true,
         "subplot": "mapbox",
         "type": "scattermapbox"
        },
        {
         "hovertemplate": "city=Oppenau<br>deaths=%{marker.size}<br>lat=%{lat}<br>lon=%{lon}<extra></extra>",
         "lat": [
          48.4743,
          48.4743,
          48.4743,
          48.4743
         ],
         "legendgroup": "Oppenau",
         "lon": [
          8.16158,
          8.16158,
          8.16158,
          8.16158
         ],
         "marker": {
          "color": "#636efa",
          "size": [
           0,
           0,
           50,
           0
          ],
          "sizemode": "area",
          "sizeref": 0.5475
         },
         "mode": "markers",
         "name": "Oppenau",
         "showlegend": true,
         "subplot": "mapbox",
         "type": "scattermapbox"
        },
        {
         "hovertemplate": "city=Efringen-Kirchen<br>deaths=%{marker.size}<br>lat=%{lat}<br>lon=%{lon}<extra></extra>",
         "lat": [
          47.6532
         ],
         "legendgroup": "Efringen-Kirchen",
         "lon": [
          7.5676
         ],
         "marker": {
          "color": "#EF553B",
          "size": [
           1
          ],
          "sizemode": "area",
          "sizeref": 0.5475
         },
         "mode": "markers",
         "name": "Efringen-Kirchen",
         "showlegend": true,
         "subplot": "mapbox",
         "type": "scattermapbox"
        },
        {
         "hovertemplate": "city=Black Forest<br>deaths=%{marker.size}<br>lat=%{lat}<br>lon=%{lon}<extra></extra>",
         "lat": [
          48.3556
         ],
         "legendgroup": "Black Forest",
         "lon": [
          7.82537
         ],
         "marker": {
          "color": "#00cc96",
          "size": [
           2
          ],
          "sizemode": "area",
          "sizeref": 0.5475
         },
         "mode": "markers",
         "name": "Black Forest",
         "showlegend": true,
         "subplot": "mapbox",
         "type": "scattermapbox"
        },
        {
         "hovertemplate": "city=Tettnang<br>deaths=%{marker.size}<br>lat=%{lat}<br>lon=%{lon}<extra></extra>",
         "lat": [
          47.6682
         ],
         "legendgroup": "Tettnang",
         "lon": [
          9.5916
         ],
         "marker": {
          "color": "#ab63fa",
          "size": [
           1
          ],
          "sizemode": "area",
          "sizeref": 0.5475
         },
         "mode": "markers",
         "name": "Tettnang",
         "showlegend": true,
         "subplot": "mapbox",
         "type": "scattermapbox"
        },
        {
         "hovertemplate": "city=Alpirsbach<br>deaths=%{marker.size}<br>lat=%{lat}<br>lon=%{lon}<extra></extra>",
         "lat": [
          48.3436
         ],
         "legendgroup": "Alpirsbach",
         "lon": [
          8.4017
         ],
         "marker": {
          "color": "#FFA15A",
          "size": [
           0
          ],
          "sizemode": "area",
          "sizeref": 0.5475
         },
         "mode": "markers",
         "name": "Alpirsbach",
         "showlegend": true,
         "subplot": "mapbox",
         "type": "scattermapbox"
        },
        {
         "hovertemplate": "city=Hofweier<br>deaths=%{marker.size}<br>lat=%{lat}<br>lon=%{lon}<extra></extra>",
         "lat": [
          48.4241
         ],
         "legendgroup": "Hofweier",
         "lon": [
          7.90955
         ],
         "marker": {
          "color": "#19d3f3",
          "size": [
           6
          ],
          "sizemode": "area",
          "sizeref": 0.5475
         },
         "mode": "markers",
         "name": "Hofweier",
         "showlegend": true,
         "subplot": "mapbox",
         "type": "scattermapbox"
        },
        {
         "hovertemplate": "city=Achern<br>deaths=%{marker.size}<br>lat=%{lat}<br>lon=%{lon}<extra></extra>",
         "lat": [
          48.6266
         ],
         "legendgroup": "Achern",
         "lon": [
          8.07492
         ],
         "marker": {
          "color": "#FF6692",
          "size": [
           2
          ],
          "sizemode": "area",
          "sizeref": 0.5475
         },
         "mode": "markers",
         "name": "Achern",
         "showlegend": true,
         "subplot": "mapbox",
         "type": "scattermapbox"
        },
        {
         "hovertemplate": "city=Schutterwald<br>deaths=%{marker.size}<br>lat=%{lat}<br>lon=%{lon}<extra></extra>",
         "lat": [
          48.4583
         ],
         "legendgroup": "Schutterwald",
         "lon": [
          7.88423
         ],
         "marker": {
          "color": "#B6E880",
          "size": [
           10
          ],
          "sizemode": "area",
          "sizeref": 0.5475
         },
         "mode": "markers",
         "name": "Schutterwald",
         "showlegend": true,
         "subplot": "mapbox",
         "type": "scattermapbox"
        },
        {
         "hovertemplate": "city=Kloster Wittichen<br>deaths=%{marker.size}<br>lat=%{lat}<br>lon=%{lon}<extra></extra>",
         "lat": [
          48.335
         ],
         "legendgroup": "Kloster Wittichen",
         "lon": [
          8.34732
         ],
         "marker": {
          "color": "#FF97FF",
          "size": [
           0
          ],
          "sizemode": "area",
          "sizeref": 0.5475
         },
         "mode": "markers",
         "name": "Kloster Wittichen",
         "showlegend": true,
         "subplot": "mapbox",
         "type": "scattermapbox"
        },
        {
         "hovertemplate": "city=Durmentingen<br>deaths=%{marker.size}<br>lat=%{lat}<br>lon=%{lon}<extra></extra>",
         "lat": [
          48.1135
         ],
         "legendgroup": "Durmentingen",
         "lon": [
          9.53633
         ],
         "marker": {
          "color": "#FECB52",
          "size": [
           1
          ],
          "sizemode": "area",
          "sizeref": 0.5475
         },
         "mode": "markers",
         "name": "Durmentingen",
         "showlegend": true,
         "subplot": "mapbox",
         "type": "scattermapbox"
        },
        {
         "hovertemplate": "city=Mengen<br>deaths=%{marker.size}<br>lat=%{lat}<br>lon=%{lon}<extra></extra>",
         "lat": [
          48.0497
         ],
         "legendgroup": "Mengen",
         "lon": [
          9.33624
         ],
         "marker": {
          "color": "#636efa",
          "size": [
           2
          ],
          "sizemode": "area",
          "sizeref": 0.5475
         },
         "mode": "markers",
         "name": "Mengen",
         "showlegend": true,
         "subplot": "mapbox",
         "type": "scattermapbox"
        },
        {
         "hovertemplate": "city=Sasbach<br>deaths=%{marker.size}<br>lat=%{lat}<br>lon=%{lon}<extra></extra>",
         "lat": [
          48.1403
         ],
         "legendgroup": "Sasbach",
         "lon": [
          7.61733
         ],
         "marker": {
          "color": "#EF553B",
          "size": [
           63
          ],
          "sizemode": "area",
          "sizeref": 0.5475
         },
         "mode": "markers",
         "name": "Sasbach",
         "showlegend": true,
         "subplot": "mapbox",
         "type": "scattermapbox"
        },
        {
         "hovertemplate": "city=Lahr<br>deaths=%{marker.size}<br>lat=%{lat}<br>lon=%{lon}<extra></extra>",
         "lat": [
          48.3333,
          48.3333
         ],
         "legendgroup": "Lahr",
         "lon": [
          7.86667,
          7.86667
         ],
         "marker": {
          "color": "#00cc96",
          "size": [
           1,
           2
          ],
          "sizemode": "area",
          "sizeref": 0.5475
         },
         "mode": "markers",
         "name": "Lahr",
         "showlegend": true,
         "subplot": "mapbox",
         "type": "scattermapbox"
        },
        {
         "hovertemplate": "city=Herbertingen<br>deaths=%{marker.size}<br>lat=%{lat}<br>lon=%{lon}<extra></extra>",
         "lat": [
          48.0614
         ],
         "legendgroup": "Herbertingen",
         "lon": [
          9.42967
         ],
         "marker": {
          "color": "#ab63fa",
          "size": [
           8
          ],
          "sizemode": "area",
          "sizeref": 0.5475
         },
         "mode": "markers",
         "name": "Herbertingen",
         "showlegend": true,
         "subplot": "mapbox",
         "type": "scattermapbox"
        },
        {
         "hovertemplate": "city=Neuried<br>deaths=%{marker.size}<br>lat=%{lat}<br>lon=%{lon}<extra></extra>",
         "lat": [
          48.4489
         ],
         "legendgroup": "Neuried",
         "lon": [
          7.80236
         ],
         "marker": {
          "color": "#FFA15A",
          "size": [
           1
          ],
          "sizemode": "area",
          "sizeref": 0.5475
         },
         "mode": "markers",
         "name": "Neuried",
         "showlegend": true,
         "subplot": "mapbox",
         "type": "scattermapbox"
        },
        {
         "hovertemplate": "city=Donaueschingen<br>deaths=%{marker.size}<br>lat=%{lat}<br>lon=%{lon}<extra></extra>",
         "lat": [
          47.9522
         ],
         "legendgroup": "Donaueschingen",
         "lon": [
          8.49795
         ],
         "marker": {
          "color": "#19d3f3",
          "size": [
           7
          ],
          "sizemode": "area",
          "sizeref": 0.5475
         },
         "mode": "markers",
         "name": "Donaueschingen",
         "showlegend": true,
         "subplot": "mapbox",
         "type": "scattermapbox"
        },
        {
         "hovertemplate": "city=Braunlingen<br>deaths=%{marker.size}<br>lat=%{lat}<br>lon=%{lon}<extra></extra>",
         "lat": [
          47.9294,
          47.9294
         ],
         "legendgroup": "Braunlingen",
         "lon": [
          8.44544,
          8.44544
         ],
         "marker": {
          "color": "#FF6692",
          "size": [
           2,
           5
          ],
          "sizemode": "area",
          "sizeref": 0.5475
         },
         "mode": "markers",
         "name": "Braunlingen",
         "showlegend": true,
         "subplot": "mapbox",
         "type": "scattermapbox"
        },
        {
         "hovertemplate": "city=Karlsruhe<br>deaths=%{marker.size}<br>lat=%{lat}<br>lon=%{lon}<extra></extra>",
         "lat": [
          49.0069
         ],
         "legendgroup": "Karlsruhe",
         "lon": [
          8.40365
         ],
         "marker": {
          "color": "#B6E880",
          "size": [
           0
          ],
          "sizemode": "area",
          "sizeref": 0.5475
         },
         "mode": "markers",
         "name": "Karlsruhe",
         "showlegend": true,
         "subplot": "mapbox",
         "type": "scattermapbox"
        },
        {
         "hovertemplate": "city=Schramberg<br>deaths=%{marker.size}<br>lat=%{lat}<br>lon=%{lon}<extra></extra>",
         "lat": [
          48.2281
         ],
         "legendgroup": "Schramberg",
         "lon": [
          8.38447
         ],
         "marker": {
          "color": "#FF97FF",
          "size": [
           2
          ],
          "sizemode": "area",
          "sizeref": 0.5475
         },
         "mode": "markers",
         "name": "Schramberg",
         "showlegend": true,
         "subplot": "mapbox",
         "type": "scattermapbox"
        },
        {
         "hovertemplate": "city=Dorzbach<br>deaths=%{marker.size}<br>lat=%{lat}<br>lon=%{lon}<extra></extra>",
         "lat": [
          49.384
         ],
         "legendgroup": "Dorzbach",
         "lon": [
          9.70592
         ],
         "marker": {
          "color": "#FECB52",
          "size": [
           2
          ],
          "sizemode": "area",
          "sizeref": 0.5475
         },
         "mode": "markers",
         "name": "Dorzbach",
         "showlegend": true,
         "subplot": "mapbox",
         "type": "scattermapbox"
        },
        {
         "hovertemplate": "city=Neuenstadt am Kocher<br>deaths=%{marker.size}<br>lat=%{lat}<br>lon=%{lon}<extra></extra>",
         "lat": [
          49.2348
         ],
         "legendgroup": "Neuenstadt am Kocher",
         "lon": [
          9.33581
         ],
         "marker": {
          "color": "#636efa",
          "size": [
           4
          ],
          "sizemode": "area",
          "sizeref": 0.5475
         },
         "mode": "markers",
         "name": "Neuenstadt am Kocher",
         "showlegend": true,
         "subplot": "mapbox",
         "type": "scattermapbox"
        },
        {
         "hovertemplate": "city=Gammertingen<br>deaths=%{marker.size}<br>lat=%{lat}<br>lon=%{lon}<extra></extra>",
         "lat": [
          48.2471
         ],
         "legendgroup": "Gammertingen",
         "lon": [
          9.21526
         ],
         "marker": {
          "color": "#EF553B",
          "size": [
           1
          ],
          "sizemode": "area",
          "sizeref": 0.5475
         },
         "mode": "markers",
         "name": "Gammertingen",
         "showlegend": true,
         "subplot": "mapbox",
         "type": "scattermapbox"
        },
        {
         "hovertemplate": "city=Owen<br>deaths=%{marker.size}<br>lat=%{lat}<br>lon=%{lon}<extra></extra>",
         "lat": [
          48.5879,
          48.5879
         ],
         "legendgroup": "Owen",
         "lon": [
          9.45012,
          9.45012
         ],
         "marker": {
          "color": "#00cc96",
          "size": [
           0,
           0
          ],
          "sizemode": "area",
          "sizeref": 0.5475
         },
         "mode": "markers",
         "name": "Owen",
         "showlegend": true,
         "subplot": "mapbox",
         "type": "scattermapbox"
        },
        {
         "hovertemplate": "city=Bad Liebenzell<br>deaths=%{marker.size}<br>lat=%{lat}<br>lon=%{lon}<extra></extra>",
         "lat": [
          48.7747
         ],
         "legendgroup": "Bad Liebenzell",
         "lon": [
          8.72998
         ],
         "marker": {
          "color": "#ab63fa",
          "size": [
           1
          ],
          "sizemode": "area",
          "sizeref": 0.5475
         },
         "mode": "markers",
         "name": "Bad Liebenzell",
         "showlegend": true,
         "subplot": "mapbox",
         "type": "scattermapbox"
        },
        {
         "hovertemplate": "city=Fellbach<br>deaths=%{marker.size}<br>lat=%{lat}<br>lon=%{lon}<extra></extra>",
         "lat": [
          48.8216,
          48.8216
         ],
         "legendgroup": "Fellbach",
         "lon": [
          9.27029,
          9.27029
         ],
         "marker": {
          "color": "#FFA15A",
          "size": [
           1,
           1
          ],
          "sizemode": "area",
          "sizeref": 0.5475
         },
         "mode": "markers",
         "name": "Fellbach",
         "showlegend": true,
         "subplot": "mapbox",
         "type": "scattermapbox"
        },
        {
         "hovertemplate": "city=Waiblingen<br>deaths=%{marker.size}<br>lat=%{lat}<br>lon=%{lon}<extra></extra>",
         "lat": [
          48.8294
         ],
         "legendgroup": "Waiblingen",
         "lon": [
          9.31857
         ],
         "marker": {
          "color": "#19d3f3",
          "size": [
           0
          ],
          "sizemode": "area",
          "sizeref": 0.5475
         },
         "mode": "markers",
         "name": "Waiblingen",
         "showlegend": true,
         "subplot": "mapbox",
         "type": "scattermapbox"
        },
        {
         "hovertemplate": "city=Nurtingen<br>deaths=%{marker.size}<br>lat=%{lat}<br>lon=%{lon}<extra></extra>",
         "lat": [
          48.6244
         ],
         "legendgroup": "Nurtingen",
         "lon": [
          9.34691
         ],
         "marker": {
          "color": "#FF6692",
          "size": [
           1
          ],
          "sizemode": "area",
          "sizeref": 0.5475
         },
         "mode": "markers",
         "name": "Nurtingen",
         "showlegend": true,
         "subplot": "mapbox",
         "type": "scattermapbox"
        },
        {
         "hovertemplate": "city=Guggenhausen<br>deaths=%{marker.size}<br>lat=%{lat}<br>lon=%{lon}<extra></extra>",
         "lat": [
          47.8936,
          47.8936
         ],
         "legendgroup": "Guggenhausen",
         "lon": [
          9.45558,
          9.45558
         ],
         "marker": {
          "color": "#B6E880",
          "size": [
           2,
           1
          ],
          "sizemode": "area",
          "sizeref": 0.5475
         },
         "mode": "markers",
         "name": "Guggenhausen",
         "showlegend": true,
         "subplot": "mapbox",
         "type": "scattermapbox"
        },
        {
         "hovertemplate": "city=Altshausen<br>deaths=%{marker.size}<br>lat=%{lat}<br>lon=%{lon}<extra></extra>",
         "lat": [
          47.9328
         ],
         "legendgroup": "Altshausen",
         "lon": [
          9.54131
         ],
         "marker": {
          "color": "#FF97FF",
          "size": [
           1
          ],
          "sizemode": "area",
          "sizeref": 0.5475
         },
         "mode": "markers",
         "name": "Altshausen",
         "showlegend": true,
         "subplot": "mapbox",
         "type": "scattermapbox"
        },
        {
         "hovertemplate": "city=Nimburg<br>deaths=%{marker.size}<br>lat=%{lat}<br>lon=%{lon}<extra></extra>",
         "lat": [
          48.1062
         ],
         "legendgroup": "Nimburg",
         "lon": [
          7.7806
         ],
         "marker": {
          "color": "#FECB52",
          "size": [
           1
          ],
          "sizemode": "area",
          "sizeref": 0.5475
         },
         "mode": "markers",
         "name": "Nimburg",
         "showlegend": true,
         "subplot": "mapbox",
         "type": "scattermapbox"
        },
        {
         "hovertemplate": "city=Lenzkirch<br>deaths=%{marker.size}<br>lat=%{lat}<br>lon=%{lon}<extra></extra>",
         "lat": [
          47.8692
         ],
         "legendgroup": "Lenzkirch",
         "lon": [
          8.20426
         ],
         "marker": {
          "color": "#636efa",
          "size": [
           0
          ],
          "sizemode": "area",
          "sizeref": 0.5475
         },
         "mode": "markers",
         "name": "Lenzkirch",
         "showlegend": true,
         "subplot": "mapbox",
         "type": "scattermapbox"
        },
        {
         "hovertemplate": "city=Hosskirch<br>deaths=%{marker.size}<br>lat=%{lat}<br>lon=%{lon}<extra></extra>",
         "lat": [
          47.9413
         ],
         "legendgroup": "Hosskirch",
         "lon": [
          9.4435
         ],
         "marker": {
          "color": "#EF553B",
          "size": [
           1
          ],
          "sizemode": "area",
          "sizeref": 0.5475
         },
         "mode": "markers",
         "name": "Hosskirch",
         "showlegend": true,
         "subplot": "mapbox",
         "type": "scattermapbox"
        },
        {
         "hovertemplate": "city=Weingarten<br>deaths=%{marker.size}<br>lat=%{lat}<br>lon=%{lon}<extra></extra>",
         "lat": [
          47.8096
         ],
         "legendgroup": "Weingarten",
         "lon": [
          9.63798
         ],
         "marker": {
          "color": "#00cc96",
          "size": [
           1
          ],
          "sizemode": "area",
          "sizeref": 0.5475
         },
         "mode": "markers",
         "name": "Weingarten",
         "showlegend": true,
         "subplot": "mapbox",
         "type": "scattermapbox"
        },
        {
         "hovertemplate": "city=Konigseggwald<br>deaths=%{marker.size}<br>lat=%{lat}<br>lon=%{lon}<extra></extra>",
         "lat": [
          47.9291
         ],
         "legendgroup": "Konigseggwald",
         "lon": [
          9.4223
         ],
         "marker": {
          "color": "#ab63fa",
          "size": [
           1
          ],
          "sizemode": "area",
          "sizeref": 0.5475
         },
         "mode": "markers",
         "name": "Konigseggwald",
         "showlegend": true,
         "subplot": "mapbox",
         "type": "scattermapbox"
        },
        {
         "hovertemplate": "city=Bietigheim<br>deaths=%{marker.size}<br>lat=%{lat}<br>lon=%{lon}<extra></extra>",
         "lat": [
          48.9099
         ],
         "legendgroup": "Bietigheim",
         "lon": [
          8.24995
         ],
         "marker": {
          "color": "#FFA15A",
          "size": [
           0
          ],
          "sizemode": "area",
          "sizeref": 0.5475
         },
         "mode": "markers",
         "name": "Bietigheim",
         "showlegend": true,
         "subplot": "mapbox",
         "type": "scattermapbox"
        },
        {
         "hovertemplate": "city=Hochberg<br>deaths=%{marker.size}<br>lat=%{lat}<br>lon=%{lon}<extra></extra>",
         "lat": [
          49.7822
         ],
         "legendgroup": "Hochberg",
         "lon": [
          9.88089
         ],
         "marker": {
          "color": "#19d3f3",
          "size": [
           1
          ],
          "sizemode": "area",
          "sizeref": 0.5475
         },
         "mode": "markers",
         "name": "Hochberg",
         "showlegend": true,
         "subplot": "mapbox",
         "type": "scattermapbox"
        },
        {
         "hovertemplate": "city=Grossheirath<br>deaths=%{marker.size}<br>lat=%{lat}<br>lon=%{lon}<extra></extra>",
         "lat": [
          50.176
         ],
         "legendgroup": "Grossheirath",
         "lon": [
          10.951
         ],
         "marker": {
          "color": "#FF6692",
          "size": [
           4
          ],
          "sizemode": "area",
          "sizeref": 0.5475
         },
         "mode": "markers",
         "name": "Grossheirath",
         "showlegend": true,
         "subplot": "mapbox",
         "type": "scattermapbox"
        },
        {
         "hovertemplate": "city=Lindenberg<br>deaths=%{marker.size}<br>lat=%{lat}<br>lon=%{lon}<extra></extra>",
         "lat": [
          47.6034
         ],
         "legendgroup": "Lindenberg",
         "lon": [
          9.88792
         ],
         "marker": {
          "color": "#B6E880",
          "size": [
           40
          ],
          "sizemode": "area",
          "sizeref": 0.5475
         },
         "mode": "markers",
         "name": "Lindenberg",
         "showlegend": true,
         "subplot": "mapbox",
         "type": "scattermapbox"
        },
        {
         "hovertemplate": "city=Oettingen in Bayern<br>deaths=%{marker.size}<br>lat=%{lat}<br>lon=%{lon}<extra></extra>",
         "lat": [
          48.9518
         ],
         "legendgroup": "Oettingen in Bayern",
         "lon": [
          10.6021
         ],
         "marker": {
          "color": "#FF97FF",
          "size": [
           22
          ],
          "sizemode": "area",
          "sizeref": 0.5475
         },
         "mode": "markers",
         "name": "Oettingen in Bayern",
         "showlegend": true,
         "subplot": "mapbox",
         "type": "scattermapbox"
        },
        {
         "hovertemplate": "city=Wollbach<br>deaths=%{marker.size}<br>lat=%{lat}<br>lon=%{lon}<extra></extra>",
         "lat": [
          50.365
         ],
         "legendgroup": "Wollbach",
         "lon": [
          10.2236
         ],
         "marker": {
          "color": "#FECB52",
          "size": [
           1
          ],
          "sizemode": "area",
          "sizeref": 0.5475
         },
         "mode": "markers",
         "name": "Wollbach",
         "showlegend": true,
         "subplot": "mapbox",
         "type": "scattermapbox"
        },
        {
         "hovertemplate": "city=Lohr<br>deaths=%{marker.size}<br>lat=%{lat}<br>lon=%{lon}<extra></extra>",
         "lat": [
          49.9892
         ],
         "legendgroup": "Lohr",
         "lon": [
          9.57223
         ],
         "marker": {
          "color": "#636efa",
          "size": [
           15
          ],
          "sizemode": "area",
          "sizeref": 0.5475
         },
         "mode": "markers",
         "name": "Lohr",
         "showlegend": true,
         "subplot": "mapbox",
         "type": "scattermapbox"
        },
        {
         "hovertemplate": "city=Mainleus<br>deaths=%{marker.size}<br>lat=%{lat}<br>lon=%{lon}<extra></extra>",
         "lat": [
          50.1014,
          50.1014,
          50.1014
         ],
         "legendgroup": "Mainleus",
         "lon": [
          11.3807,
          11.3807,
          11.3807
         ],
         "marker": {
          "color": "#EF553B",
          "size": [
           1,
           2,
           2
          ],
          "sizemode": "area",
          "sizeref": 0.5475
         },
         "mode": "markers",
         "name": "Mainleus",
         "showlegend": true,
         "subplot": "mapbox",
         "type": "scattermapbox"
        },
        {
         "hovertemplate": "city=Wurzburg<br>deaths=%{marker.size}<br>lat=%{lat}<br>lon=%{lon}<extra></extra>",
         "lat": [
          49.7913
         ],
         "legendgroup": "Wurzburg",
         "lon": [
          9.95335
         ],
         "marker": {
          "color": "#00cc96",
          "size": [
           219
          ],
          "sizemode": "area",
          "sizeref": 0.5475
         },
         "mode": "markers",
         "name": "Wurzburg",
         "showlegend": true,
         "subplot": "mapbox",
         "type": "scattermapbox"
        },
        {
         "hovertemplate": "city=Erlach<br>deaths=%{marker.size}<br>lat=%{lat}<br>lon=%{lon}<extra></extra>",
         "lat": [
          47.0435
         ],
         "legendgroup": "Erlach",
         "lon": [
          7.09682
         ],
         "marker": {
          "color": "#ab63fa",
          "size": [
           2
          ],
          "sizemode": "area",
          "sizeref": 0.5475
         },
         "mode": "markers",
         "name": "Erlach",
         "showlegend": true,
         "subplot": "mapbox",
         "type": "scattermapbox"
        },
        {
         "hovertemplate": "city=Limburg<br>deaths=%{marker.size}<br>lat=%{lat}<br>lon=%{lon}<extra></extra>",
         "lat": [
          50.3986
         ],
         "legendgroup": "Limburg",
         "lon": [
          8.07958
         ],
         "marker": {
          "color": "#FFA15A",
          "size": [
           1
          ],
          "sizemode": "area",
          "sizeref": 0.5475
         },
         "mode": "markers",
         "name": "Limburg",
         "showlegend": true,
         "subplot": "mapbox",
         "type": "scattermapbox"
        },
        {
         "hovertemplate": "city=Cappel<br>deaths=%{marker.size}<br>lat=%{lat}<br>lon=%{lon}<extra></extra>",
         "lat": [
          49.0751
         ],
         "legendgroup": "Cappel",
         "lon": [
          6.8585
         ],
         "marker": {
          "color": "#19d3f3",
          "size": [
           20
          ],
          "sizemode": "area",
          "sizeref": 0.5475
         },
         "mode": "markers",
         "name": "Cappel",
         "showlegend": true,
         "subplot": "mapbox",
         "type": "scattermapbox"
        },
        {
         "hovertemplate": "city=Fussach<br>deaths=%{marker.size}<br>lat=%{lat}<br>lon=%{lon}<extra></extra>",
         "lat": [
          47.4743
         ],
         "legendgroup": "Fussach",
         "lon": [
          9.65997
         ],
         "marker": {
          "color": "#FF6692",
          "size": [
           11
          ],
          "sizemode": "area",
          "sizeref": 0.5475
         },
         "mode": "markers",
         "name": "Fussach",
         "showlegend": true,
         "subplot": "mapbox",
         "type": "scattermapbox"
        },
        {
         "hovertemplate": "city=Stofel<br>deaths=%{marker.size}<br>lat=%{lat}<br>lon=%{lon}<extra></extra>",
         "lat": [
          47.4164
         ],
         "legendgroup": "Stofel",
         "lon": [
          8.54885
         ],
         "marker": {
          "color": "#B6E880",
          "size": [
           1
          ],
          "sizemode": "area",
          "sizeref": 0.5475
         },
         "mode": "markers",
         "name": "Stofel",
         "showlegend": true,
         "subplot": "mapbox",
         "type": "scattermapbox"
        },
        {
         "hovertemplate": "city=Baume-les-Dames<br>deaths=%{marker.size}<br>lat=%{lat}<br>lon=%{lon}<extra></extra>",
         "lat": [
          47.3527,
          47.3527,
          47.3527,
          47.3527,
          47.3527,
          47.3527,
          47.3527,
          47.3527,
          47.3527,
          47.3527,
          47.3527,
          47.3527,
          47.3527,
          47.3527,
          47.3527,
          47.3527,
          47.3527,
          47.3527
         ],
         "legendgroup": "Baume-les-Dames",
         "lon": [
          6.36176,
          6.36176,
          6.36176,
          6.36176,
          6.36176,
          6.36176,
          6.36176,
          6.36176,
          6.36176,
          6.36176,
          6.36176,
          6.36176,
          6.36176,
          6.36176,
          6.36176,
          6.36176,
          6.36176,
          6.36176
         ],
         "marker": {
          "color": "#FF97FF",
          "size": [
           0,
           0,
           0,
           0,
           0,
           1,
           0,
           1,
           0,
           1,
           1,
           0,
           0,
           0,
           1,
           0,
           0,
           0
          ],
          "sizemode": "area",
          "sizeref": 0.5475
         },
         "mode": "markers",
         "name": "Baume-les-Dames",
         "showlegend": true,
         "subplot": "mapbox",
         "type": "scattermapbox"
        },
        {
         "hovertemplate": "city=Saint-Claude<br>deaths=%{marker.size}<br>lat=%{lat}<br>lon=%{lon}<extra></extra>",
         "lat": [
          46.3874,
          46.3874,
          46.3874,
          46.3874,
          46.3874,
          46.3874
         ],
         "legendgroup": "Saint-Claude",
         "lon": [
          5.86777,
          5.86777,
          5.86777,
          5.86777,
          5.86777,
          5.86777
         ],
         "marker": {
          "color": "#FECB52",
          "size": [
           0,
           1,
           0,
           0,
           0,
           0
          ],
          "sizemode": "area",
          "sizeref": 0.5475
         },
         "mode": "markers",
         "name": "Saint-Claude",
         "showlegend": true,
         "subplot": "mapbox",
         "type": "scattermapbox"
        },
        {
         "hovertemplate": "city=Arbois<br>deaths=%{marker.size}<br>lat=%{lat}<br>lon=%{lon}<extra></extra>",
         "lat": [
          46.9029,
          46.9029,
          46.9029
         ],
         "legendgroup": "Arbois",
         "lon": [
          5.77234,
          5.77234,
          5.77234
         ],
         "marker": {
          "color": "#636efa",
          "size": [
           0,
           0,
           0
          ],
          "sizemode": "area",
          "sizeref": 0.5475
         },
         "mode": "markers",
         "name": "Arbois",
         "showlegend": true,
         "subplot": "mapbox",
         "type": "scattermapbox"
        },
        {
         "hovertemplate": "city=Gray<br>deaths=%{marker.size}<br>lat=%{lat}<br>lon=%{lon}<extra></extra>",
         "lat": [
          47.4458,
          47.4458,
          47.4458,
          47.4458,
          47.4458,
          47.4458,
          47.4458,
          47.4458,
          47.4458,
          47.4458,
          47.4458,
          47.4458,
          47.4458
         ],
         "legendgroup": "Gray",
         "lon": [
          5.59235,
          5.59235,
          5.59235,
          5.59235,
          5.59235,
          5.59235,
          5.59235,
          5.59235,
          5.59235,
          5.59235,
          5.59235,
          5.59235,
          5.59235
         ],
         "marker": {
          "color": "#EF553B",
          "size": [
           0,
           1,
           0,
           0,
           1,
           0,
           0,
           0,
           0,
           1,
           0,
           0,
           0
          ],
          "sizemode": "area",
          "sizeref": 0.5475
         },
         "mode": "markers",
         "name": "Gray",
         "showlegend": true,
         "subplot": "mapbox",
         "type": "scattermapbox"
        },
        {
         "hovertemplate": "city=Orgelet<br>deaths=%{marker.size}<br>lat=%{lat}<br>lon=%{lon}<extra></extra>",
         "lat": [
          46.5225,
          46.5225,
          46.5225,
          46.5225,
          46.5225,
          46.5225,
          46.5225,
          46.5225,
          46.5225,
          46.5225,
          46.5225,
          46.5225,
          46.5225,
          46.5225,
          46.5225,
          46.5225,
          46.5225,
          46.5225
         ],
         "legendgroup": "Orgelet",
         "lon": [
          5.61297,
          5.61297,
          5.61297,
          5.61297,
          5.61297,
          5.61297,
          5.61297,
          5.61297,
          5.61297,
          5.61297,
          5.61297,
          5.61297,
          5.61297,
          5.61297,
          5.61297,
          5.61297,
          5.61297,
          5.61297
         ],
         "marker": {
          "color": "#00cc96",
          "size": [
           1,
           1,
           0,
           1,
           0,
           0,
           0,
           0,
           0,
           1,
           0,
           0,
           0,
           0,
           1,
           1,
           1,
           0
          ],
          "sizemode": "area",
          "sizeref": 0.5475
         },
         "mode": "markers",
         "name": "Orgelet",
         "showlegend": true,
         "subplot": "mapbox",
         "type": "scattermapbox"
        },
        {
         "hovertemplate": "city=Poligny<br>deaths=%{marker.size}<br>lat=%{lat}<br>lon=%{lon}<extra></extra>",
         "lat": [
          46.8364,
          46.8364,
          46.8364
         ],
         "legendgroup": "Poligny",
         "lon": [
          5.7091,
          5.7091,
          5.7091
         ],
         "marker": {
          "color": "#ab63fa",
          "size": [
           1,
           0,
           0
          ],
          "sizemode": "area",
          "sizeref": 0.5475
         },
         "mode": "markers",
         "name": "Poligny",
         "showlegend": true,
         "subplot": "mapbox",
         "type": "scattermapbox"
        },
        {
         "hovertemplate": "city=Lons-le-Saunier<br>deaths=%{marker.size}<br>lat=%{lat}<br>lon=%{lon}<extra></extra>",
         "lat": [
          46.6714,
          46.6714,
          46.6714
         ],
         "legendgroup": "Lons-le-Saunier",
         "lon": [
          5.5508,
          5.5508,
          5.5508
         ],
         "marker": {
          "color": "#FFA15A",
          "size": [
           0,
           1,
           1
          ],
          "sizemode": "area",
          "sizeref": 0.5475
         },
         "mode": "markers",
         "name": "Lons-le-Saunier",
         "showlegend": true,
         "subplot": "mapbox",
         "type": "scattermapbox"
        },
        {
         "hovertemplate": "city=Salins-les-Bains<br>deaths=%{marker.size}<br>lat=%{lat}<br>lon=%{lon}<extra></extra>",
         "lat": [
          46.9397,
          46.9397,
          46.9397,
          46.9397,
          46.9397,
          46.9397,
          46.9397,
          46.9397,
          46.9397
         ],
         "legendgroup": "Salins-les-Bains",
         "lon": [
          5.8758,
          5.8758,
          5.8758,
          5.8758,
          5.8758,
          5.8758,
          5.8758,
          5.8758,
          5.8758
         ],
         "marker": {
          "color": "#19d3f3",
          "size": [
           1,
           1,
           0,
           0,
           1,
           1,
           1,
           0,
           0
          ],
          "sizemode": "area",
          "sizeref": 0.5475
         },
         "mode": "markers",
         "name": "Salins-les-Bains",
         "showlegend": true,
         "subplot": "mapbox",
         "type": "scattermapbox"
        },
        {
         "hovertemplate": "city=Ornans<br>deaths=%{marker.size}<br>lat=%{lat}<br>lon=%{lon}<extra></extra>",
         "lat": [
          47.106,
          47.106,
          47.106,
          47.106,
          47.106,
          47.106,
          47.106,
          47.106
         ],
         "legendgroup": "Ornans",
         "lon": [
          6.14701,
          6.14701,
          6.14701,
          6.14701,
          6.14701,
          6.14701,
          6.14701,
          6.14701
         ],
         "marker": {
          "color": "#FF6692",
          "size": [
           1,
           0,
           1,
           0,
           0,
           1,
           0,
           0
          ],
          "sizemode": "area",
          "sizeref": 0.5475
         },
         "mode": "markers",
         "name": "Ornans",
         "showlegend": true,
         "subplot": "mapbox",
         "type": "scattermapbox"
        },
        {
         "hovertemplate": "city=Quingey<br>deaths=%{marker.size}<br>lat=%{lat}<br>lon=%{lon}<extra></extra>",
         "lat": [
          47.1031,
          47.1031,
          47.1031,
          47.1031,
          47.1031,
          47.1031,
          47.1031,
          47.1031,
          47.1031,
          47.1031
         ],
         "legendgroup": "Quingey",
         "lon": [
          5.88324,
          5.88324,
          5.88324,
          5.88324,
          5.88324,
          5.88324,
          5.88324,
          5.88324,
          5.88324,
          5.88324
         ],
         "marker": {
          "color": "#B6E880",
          "size": [
           0,
           0,
           0,
           1,
           1,
           1,
           1,
           0,
           0,
           0
          ],
          "sizemode": "area",
          "sizeref": 0.5475
         },
         "mode": "markers",
         "name": "Quingey",
         "showlegend": true,
         "subplot": "mapbox",
         "type": "scattermapbox"
        },
        {
         "hovertemplate": "city=Geneva<br>deaths=%{marker.size}<br>lat=%{lat}<br>lon=%{lon}<extra></extra>",
         "lat": [
          46.1984,
          46.1984,
          46.1984,
          46.1984,
          46.1984,
          46.1984,
          46.1984,
          46.1984,
          46.1984,
          46.1984,
          46.1984,
          46.1984,
          46.1984,
          46.1984,
          46.1984,
          46.1984,
          46.1984,
          46.1984,
          46.1984,
          46.1984,
          46.1984,
          46.1984,
          46.1984,
          46.1984,
          46.1984,
          46.1984,
          46.1984,
          46.1984,
          46.1984,
          46.1984,
          46.1984,
          46.1984,
          46.1984,
          46.1984,
          46.1984,
          46.1984,
          46.1984,
          46.1984,
          46.1984,
          46.1984,
          46.1984,
          46.1984,
          46.1984,
          46.1984,
          46.1984,
          46.1984,
          46.1984,
          46.1984,
          46.1984,
          46.1984,
          46.1984,
          46.1984,
          46.1984,
          46.1984,
          46.1984,
          46.1984,
          46.1984,
          46.1984,
          46.1984,
          46.1984,
          46.1984,
          46.1984,
          46.1984,
          46.1984,
          46.1984,
          46.1984,
          46.1984,
          46.1984,
          46.1984,
          46.1984,
          46.1984,
          46.1984,
          46.1984,
          46.1984,
          46.1984,
          46.1984,
          46.1984,
          46.1984,
          46.1984,
          46.1984,
          46.1984,
          46.1984,
          46.1984,
          46.1984,
          46.1984,
          46.1984,
          46.1984,
          46.1984,
          46.1984,
          46.1984,
          46.1984,
          46.1984,
          46.1984,
          46.1984,
          46.1984,
          46.1984,
          46.1984,
          46.1984,
          46.1984,
          46.1984,
          46.1984,
          46.1984,
          46.1984,
          46.1984,
          46.1984,
          46.1984,
          46.1984,
          46.1984,
          46.1984,
          46.1984,
          46.1984,
          46.1984,
          46.1984,
          46.1984,
          46.1984,
          46.1984,
          46.1984,
          46.1984,
          46.1984,
          46.1984,
          46.1984,
          46.1984,
          46.1984,
          46.1984,
          46.1984,
          46.1984,
          46.1984,
          46.1984,
          46.1984,
          46.1984,
          46.1984,
          46.1984,
          46.1984,
          46.1984,
          46.1984,
          46.1984,
          46.1984,
          46.1984,
          46.1984,
          46.1984,
          46.1984,
          46.1984,
          46.1984,
          46.1984,
          46.1984,
          46.1984,
          46.1984,
          46.1984,
          46.1984,
          46.1984,
          46.1984,
          46.1984,
          46.1984,
          46.1984,
          46.1984,
          46.1984,
          46.1984,
          46.1984,
          46.1984,
          46.1984,
          46.1984,
          46.1984,
          46.1984,
          46.1984,
          46.1984,
          46.1984,
          46.1984,
          46.1984,
          46.1984,
          46.1984,
          46.1984,
          46.1984,
          46.1984,
          46.1984,
          46.1984,
          46.1984,
          46.1984,
          46.1984,
          46.1984,
          46.1984,
          46.1984,
          46.1984,
          46.1984,
          46.1984,
          46.1984,
          46.1984,
          46.1984,
          46.1984,
          46.1984,
          46.1984,
          46.1984,
          46.1984,
          46.1984,
          46.1984,
          46.1984,
          46.1984,
          46.1984,
          46.1984,
          46.1984,
          46.1984,
          46.1984,
          46.1984,
          46.1984,
          46.1984,
          46.1984,
          46.1984,
          46.1984,
          46.1984,
          46.1984,
          46.1984,
          46.1984,
          46.1984,
          46.1984,
          46.1984,
          46.1984,
          46.1984,
          46.1984,
          46.1984,
          46.1984,
          46.1984,
          46.1984,
          46.1984,
          46.1984,
          46.1984,
          46.1984,
          46.1984,
          46.1984,
          46.1984,
          46.1984,
          46.1984,
          46.1984,
          46.1984,
          46.1984,
          46.1984,
          46.1984,
          46.1984,
          46.1984,
          46.1984,
          46.1984,
          46.1984,
          46.1984,
          46.1984,
          46.1984,
          46.1984,
          46.1984,
          46.1984,
          46.1984,
          46.1984,
          46.1984,
          46.1984,
          46.1984,
          46.1984,
          46.1984,
          46.1984,
          46.1984,
          46.1984,
          46.1984,
          46.1984,
          46.1984,
          46.1984,
          46.1984,
          46.1984,
          46.1984,
          46.1984,
          46.1984,
          46.1984,
          46.1984,
          46.1984,
          46.1984,
          46.1984,
          46.1984,
          46.1984,
          46.1984,
          46.1984,
          46.1984,
          46.1984,
          46.1984,
          46.1984,
          46.1984,
          46.1984,
          46.1984,
          46.1984,
          46.1984,
          46.1984,
          46.1984,
          46.1984,
          46.1984,
          46.1984,
          46.1984,
          46.1984,
          46.1984,
          46.1984,
          46.1984,
          46.1984,
          46.1984,
          46.1984,
          46.1984,
          46.1984,
          46.1984,
          46.1984,
          46.1984,
          46.1984,
          46.1984,
          46.1984,
          46.1984,
          46.1984,
          46.1984,
          46.1984,
          46.1984,
          46.1984,
          46.1984,
          46.1984,
          46.1984,
          46.1984,
          46.1984,
          46.1984,
          46.1984,
          46.1984,
          46.1984
         ],
         "legendgroup": "Geneva",
         "lon": [
          6.1423,
          6.1423,
          6.1423,
          6.1423,
          6.1423,
          6.1423,
          6.1423,
          6.1423,
          6.1423,
          6.1423,
          6.1423,
          6.1423,
          6.1423,
          6.1423,
          6.1423,
          6.1423,
          6.1423,
          6.1423,
          6.1423,
          6.1423,
          6.1423,
          6.1423,
          6.1423,
          6.1423,
          6.1423,
          6.1423,
          6.1423,
          6.1423,
          6.1423,
          6.1423,
          6.1423,
          6.1423,
          6.1423,
          6.1423,
          6.1423,
          6.1423,
          6.1423,
          6.1423,
          6.1423,
          6.1423,
          6.1423,
          6.1423,
          6.1423,
          6.1423,
          6.1423,
          6.1423,
          6.1423,
          6.1423,
          6.1423,
          6.1423,
          6.1423,
          6.1423,
          6.1423,
          6.1423,
          6.1423,
          6.1423,
          6.1423,
          6.1423,
          6.1423,
          6.1423,
          6.1423,
          6.1423,
          6.1423,
          6.1423,
          6.1423,
          6.1423,
          6.1423,
          6.1423,
          6.1423,
          6.1423,
          6.1423,
          6.1423,
          6.1423,
          6.1423,
          6.1423,
          6.1423,
          6.1423,
          6.1423,
          6.1423,
          6.1423,
          6.1423,
          6.1423,
          6.1423,
          6.1423,
          6.1423,
          6.1423,
          6.1423,
          6.1423,
          6.1423,
          6.1423,
          6.1423,
          6.1423,
          6.1423,
          6.1423,
          6.1423,
          6.1423,
          6.1423,
          6.1423,
          6.1423,
          6.1423,
          6.1423,
          6.1423,
          6.1423,
          6.1423,
          6.1423,
          6.1423,
          6.1423,
          6.1423,
          6.1423,
          6.1423,
          6.1423,
          6.1423,
          6.1423,
          6.1423,
          6.1423,
          6.1423,
          6.1423,
          6.1423,
          6.1423,
          6.1423,
          6.1423,
          6.1423,
          6.1423,
          6.1423,
          6.1423,
          6.1423,
          6.1423,
          6.1423,
          6.1423,
          6.1423,
          6.1423,
          6.1423,
          6.1423,
          6.1423,
          6.1423,
          6.1423,
          6.1423,
          6.1423,
          6.1423,
          6.1423,
          6.1423,
          6.1423,
          6.1423,
          6.1423,
          6.1423,
          6.1423,
          6.1423,
          6.1423,
          6.1423,
          6.1423,
          6.1423,
          6.1423,
          6.1423,
          6.1423,
          6.1423,
          6.1423,
          6.1423,
          6.1423,
          6.1423,
          6.1423,
          6.1423,
          6.1423,
          6.1423,
          6.1423,
          6.1423,
          6.1423,
          6.1423,
          6.1423,
          6.1423,
          6.1423,
          6.1423,
          6.1423,
          6.1423,
          6.1423,
          6.1423,
          6.1423,
          6.1423,
          6.1423,
          6.1423,
          6.1423,
          6.1423,
          6.1423,
          6.1423,
          6.1423,
          6.1423,
          6.1423,
          6.1423,
          6.1423,
          6.1423,
          6.1423,
          6.1423,
          6.1423,
          6.1423,
          6.1423,
          6.1423,
          6.1423,
          6.1423,
          6.1423,
          6.1423,
          6.1423,
          6.1423,
          6.1423,
          6.1423,
          6.1423,
          6.1423,
          6.1423,
          6.1423,
          6.1423,
          6.1423,
          6.1423,
          6.1423,
          6.1423,
          6.1423,
          6.1423,
          6.1423,
          6.1423,
          6.1423,
          6.1423,
          6.1423,
          6.1423,
          6.1423,
          6.1423,
          6.1423,
          6.1423,
          6.1423,
          6.1423,
          6.1423,
          6.1423,
          6.1423,
          6.1423,
          6.1423,
          6.1423,
          6.1423,
          6.1423,
          6.1423,
          6.1423,
          6.1423,
          6.1423,
          6.1423,
          6.1423,
          6.1423,
          6.1423,
          6.1423,
          6.1423,
          6.1423,
          6.1423,
          6.1423,
          6.1423,
          6.1423,
          6.1423,
          6.1423,
          6.1423,
          6.1423,
          6.1423,
          6.1423,
          6.1423,
          6.1423,
          6.1423,
          6.1423,
          6.1423,
          6.1423,
          6.1423,
          6.1423,
          6.1423,
          6.1423,
          6.1423,
          6.1423,
          6.1423,
          6.1423,
          6.1423,
          6.1423,
          6.1423,
          6.1423,
          6.1423,
          6.1423,
          6.1423,
          6.1423,
          6.1423,
          6.1423,
          6.1423,
          6.1423,
          6.1423,
          6.1423,
          6.1423,
          6.1423,
          6.1423,
          6.1423,
          6.1423,
          6.1423,
          6.1423,
          6.1423,
          6.1423,
          6.1423,
          6.1423,
          6.1423,
          6.1423,
          6.1423,
          6.1423,
          6.1423,
          6.1423,
          6.1423,
          6.1423,
          6.1423,
          6.1423,
          6.1423,
          6.1423,
          6.1423,
          6.1423,
          6.1423,
          6.1423,
          6.1423,
          6.1423,
          6.1423,
          6.1423,
          6.1423,
          6.1423,
          6.1423,
          6.1423,
          6.1423
         ],
         "marker": {
          "color": "#FF97FF",
          "size": [
           1,
           1,
           0,
           0,
           1,
           0,
           0,
           1,
           1,
           0,
           0,
           0,
           0,
           1,
           0,
           1,
           0,
           0,
           0,
           1,
           1,
           0,
           0,
           1,
           0,
           0,
           0,
           0,
           0,
           0,
           1,
           1,
           1,
           1,
           1,
           0,
           0,
           0,
           0,
           0,
           0,
           0,
           0,
           0,
           0,
           0,
           0,
           1,
           0,
           0,
           0,
           0,
           0,
           1,
           0,
           0,
           0,
           0,
           0,
           0,
           0,
           0,
           0,
           1,
           1,
           0,
           1,
           1,
           1,
           1,
           0,
           0,
           0,
           0,
           0,
           0,
           1,
           1,
           1,
           1,
           0,
           1,
           0,
           0,
           0,
           0,
           0,
           1,
           1,
           0,
           1,
           1,
           1,
           0,
           0,
           0,
           0,
           1,
           0,
           0,
           0,
           1,
           0,
           0,
           0,
           1,
           0,
           0,
           1,
           0,
           0,
           1,
           1,
           0,
           0,
           0,
           0,
           0,
           0,
           0,
           0,
           0,
           0,
           0,
           0,
           0,
           1,
           0,
           0,
           1,
           0,
           0,
           0,
           0,
           0,
           0,
           0,
           0,
           1,
           0,
           0,
           0,
           0,
           0,
           0,
           1,
           1,
           0,
           0,
           0,
           0,
           0,
           0,
           1,
           0,
           0,
           0,
           0,
           0,
           0,
           0,
           0,
           0,
           0,
           0,
           0,
           0,
           0,
           1,
           0,
           0,
           0,
           0,
           1,
           0,
           0,
           0,
           0,
           0,
           0,
           0,
           0,
           0,
           0,
           1,
           1,
           1,
           0,
           0,
           0,
           0,
           1,
           0,
           0,
           1,
           1,
           0,
           0,
           0,
           0,
           0,
           0,
           1,
           0,
           0,
           0,
           0,
           0,
           0,
           0,
           0,
           0,
           0,
           0,
           0,
           0,
           0,
           0,
           0,
           0,
           0,
           0,
           0,
           0,
           0,
           0,
           0,
           1,
           0,
           1,
           1,
           0,
           1,
           1,
           1,
           0,
           0,
           0,
           0,
           0,
           0,
           0,
           0,
           0,
           0,
           1,
           0,
           0,
           0,
           1,
           0,
           0,
           0,
           0,
           0,
           0,
           0,
           0,
           0,
           0,
           1,
           0,
           1,
           0,
           1,
           1,
           0,
           0,
           0,
           0,
           1,
           0,
           0,
           0,
           0,
           1,
           0,
           0,
           0,
           0,
           0,
           0,
           0,
           0,
           0,
           0,
           0,
           0,
           0,
           0,
           0,
           0,
           0,
           0,
           0,
           0,
           0,
           0,
           0,
           0,
           0,
           0,
           0,
           0,
           0,
           0,
           0,
           1,
           0,
           0,
           0,
           0,
           0,
           0,
           0,
           0,
           0,
           0,
           0
          ],
          "sizemode": "area",
          "sizeref": 0.5475
         },
         "mode": "markers",
         "name": "Geneva",
         "showlegend": true,
         "subplot": "mapbox",
         "type": "scattermapbox"
        },
        {
         "hovertemplate": "city=Neuchatel<br>deaths=%{marker.size}<br>lat=%{lat}<br>lon=%{lon}<extra></extra>",
         "lat": [
          46.993,
          46.993,
          46.993,
          46.993,
          46.993,
          46.993,
          46.993,
          46.993,
          46.993,
          46.993,
          46.993,
          46.993,
          46.993,
          46.993,
          46.993,
          46.993,
          46.993,
          46.993,
          46.993,
          46.993,
          46.993,
          46.993,
          46.993,
          46.993,
          46.993,
          46.993,
          46.993,
          46.993,
          46.993,
          46.993,
          46.993,
          46.993,
          46.993,
          46.993,
          46.993,
          46.993,
          46.993,
          46.993,
          46.993,
          46.993,
          46.993,
          46.993
         ],
         "legendgroup": "Neuchatel",
         "lon": [
          6.93193,
          6.93193,
          6.93193,
          6.93193,
          6.93193,
          6.93193,
          6.93193,
          6.93193,
          6.93193,
          6.93193,
          6.93193,
          6.93193,
          6.93193,
          6.93193,
          6.93193,
          6.93193,
          6.93193,
          6.93193,
          6.93193,
          6.93193,
          6.93193,
          6.93193,
          6.93193,
          6.93193,
          6.93193,
          6.93193,
          6.93193,
          6.93193,
          6.93193,
          6.93193,
          6.93193,
          6.93193,
          6.93193,
          6.93193,
          6.93193,
          6.93193,
          6.93193,
          6.93193,
          6.93193,
          6.93193,
          6.93193,
          6.93193
         ],
         "marker": {
          "color": "#FECB52",
          "size": [
           0,
           0,
           0,
           0,
           0,
           0,
           0,
           0,
           0,
           0,
           0,
           0,
           0,
           0,
           0,
           0,
           0,
           0,
           0,
           0,
           0,
           0,
           0,
           0,
           0,
           0,
           0,
           0,
           0,
           0,
           0,
           0,
           0,
           0,
           0,
           0,
           0,
           0,
           0,
           0,
           0,
           0
          ],
          "sizemode": "area",
          "sizeref": 0.5475
         },
         "mode": "markers",
         "name": "Neuchatel",
         "showlegend": true,
         "subplot": "mapbox",
         "type": "scattermapbox"
        },
        {
         "hovertemplate": "city=Fleurier<br>deaths=%{marker.size}<br>lat=%{lat}<br>lon=%{lon}<extra></extra>",
         "lat": [
          46.9019,
          46.9019,
          46.9019,
          46.9019,
          46.9019,
          46.9019,
          46.9019,
          46.9019,
          46.9019,
          46.9019,
          46.9019,
          46.9019,
          46.9019,
          46.9019,
          46.9019,
          46.9019,
          46.9019,
          46.9019,
          46.9019,
          46.9019,
          46.9019,
          46.9019,
          46.9019,
          46.9019,
          46.9019,
          46.9019,
          46.9019,
          46.9019,
          46.9019,
          46.9019,
          46.9019,
          46.9019,
          46.9019,
          46.9019,
          46.9019,
          46.9019,
          46.9019,
          46.9019,
          46.9019,
          46.9019,
          46.9019,
          46.9019,
          46.9019,
          46.9019,
          46.9019,
          46.9019,
          46.9019,
          46.9019,
          46.9019,
          46.9019,
          46.9019,
          46.9019,
          46.9019,
          46.9019
         ],
         "legendgroup": "Fleurier",
         "lon": [
          6.58495,
          6.58495,
          6.58495,
          6.58495,
          6.58495,
          6.58495,
          6.58495,
          6.58495,
          6.58495,
          6.58495,
          6.58495,
          6.58495,
          6.58495,
          6.58495,
          6.58495,
          6.58495,
          6.58495,
          6.58495,
          6.58495,
          6.58495,
          6.58495,
          6.58495,
          6.58495,
          6.58495,
          6.58495,
          6.58495,
          6.58495,
          6.58495,
          6.58495,
          6.58495,
          6.58495,
          6.58495,
          6.58495,
          6.58495,
          6.58495,
          6.58495,
          6.58495,
          6.58495,
          6.58495,
          6.58495,
          6.58495,
          6.58495,
          6.58495,
          6.58495,
          6.58495,
          6.58495,
          6.58495,
          6.58495,
          6.58495,
          6.58495,
          6.58495,
          6.58495,
          6.58495,
          6.58495
         ],
         "marker": {
          "color": "#636efa",
          "size": [
           0,
           0,
           0,
           0,
           0,
           0,
           0,
           0,
           0,
           0,
           0,
           0,
           0,
           0,
           0,
           0,
           0,
           0,
           0,
           0,
           0,
           0,
           0,
           0,
           0,
           0,
           0,
           0,
           0,
           0,
           0,
           0,
           0,
           0,
           0,
           0,
           0,
           0,
           0,
           0,
           0,
           0,
           0,
           0,
           0,
           0,
           0,
           0,
           0,
           0,
           0,
           0,
           0,
           0
          ],
          "sizemode": "area",
          "sizeref": 0.5475
         },
         "mode": "markers",
         "name": "Fleurier",
         "showlegend": true,
         "subplot": "mapbox",
         "type": "scattermapbox"
        },
        {
         "hovertemplate": "city=Colombier<br>deaths=%{marker.size}<br>lat=%{lat}<br>lon=%{lon}<extra></extra>",
         "lat": [
          46.9669,
          46.9669,
          46.9669,
          46.9669,
          46.9669,
          46.9669,
          46.9669,
          46.9669,
          46.9669,
          46.9669,
          46.9669,
          46.9669,
          46.9669,
          46.9669,
          46.9669,
          46.9669,
          46.9669,
          46.9669,
          46.9669,
          46.9669,
          46.9669,
          46.9669,
          46.9669,
          46.9669,
          46.9669,
          46.9669,
          46.9669,
          46.9669,
          46.9669,
          46.9669,
          46.9669,
          46.9669,
          46.9669,
          46.9669,
          46.9669,
          46.9669,
          46.9669,
          46.9669,
          46.9669,
          46.9669,
          46.9669,
          46.9669
         ],
         "legendgroup": "Colombier",
         "lon": [
          6.85897,
          6.85897,
          6.85897,
          6.85897,
          6.85897,
          6.85897,
          6.85897,
          6.85897,
          6.85897,
          6.85897,
          6.85897,
          6.85897,
          6.85897,
          6.85897,
          6.85897,
          6.85897,
          6.85897,
          6.85897,
          6.85897,
          6.85897,
          6.85897,
          6.85897,
          6.85897,
          6.85897,
          6.85897,
          6.85897,
          6.85897,
          6.85897,
          6.85897,
          6.85897,
          6.85897,
          6.85897,
          6.85897,
          6.85897,
          6.85897,
          6.85897,
          6.85897,
          6.85897,
          6.85897,
          6.85897,
          6.85897,
          6.85897
         ],
         "marker": {
          "color": "#EF553B",
          "size": [
           0,
           0,
           0,
           0,
           0,
           0,
           0,
           0,
           0,
           0,
           0,
           0,
           0,
           0,
           0,
           0,
           0,
           0,
           0,
           0,
           0,
           0,
           0,
           0,
           0,
           0,
           0,
           0,
           0,
           0,
           0,
           0,
           0,
           0,
           0,
           0,
           0,
           0,
           0,
           0,
           0,
           0
          ],
          "sizemode": "area",
          "sizeref": 0.5475
         },
         "mode": "markers",
         "name": "Colombier",
         "showlegend": true,
         "subplot": "mapbox",
         "type": "scattermapbox"
        },
        {
         "hovertemplate": "city=Boudry<br>deaths=%{marker.size}<br>lat=%{lat}<br>lon=%{lon}<extra></extra>",
         "lat": [
          46.9547,
          46.9547,
          46.9547,
          46.9547,
          46.9547,
          46.9547,
          46.9547,
          46.9547,
          46.9547,
          46.9547,
          46.9547,
          46.9547,
          46.9547,
          46.9547,
          46.9547,
          46.9547,
          46.9547,
          46.9547,
          46.9547,
          46.9547,
          46.9547,
          46.9547,
          46.9547,
          46.9547,
          46.9547,
          46.9547,
          46.9547,
          46.9547,
          46.9547,
          46.9547,
          46.9547,
          46.9547,
          46.9547,
          46.9547,
          46.9547,
          46.9547,
          46.9547,
          46.9547,
          46.9547,
          46.9547,
          46.9547,
          46.9547,
          46.9547,
          46.9547,
          46.9547,
          46.9547,
          46.9547,
          46.9547,
          46.9547,
          46.9547,
          46.9547,
          46.9547,
          46.9547,
          46.9547,
          46.9547,
          46.9547,
          46.9547
         ],
         "legendgroup": "Boudry",
         "lon": [
          6.84996,
          6.84996,
          6.84996,
          6.84996,
          6.84996,
          6.84996,
          6.84996,
          6.84996,
          6.84996,
          6.84996,
          6.84996,
          6.84996,
          6.84996,
          6.84996,
          6.84996,
          6.84996,
          6.84996,
          6.84996,
          6.84996,
          6.84996,
          6.84996,
          6.84996,
          6.84996,
          6.84996,
          6.84996,
          6.84996,
          6.84996,
          6.84996,
          6.84996,
          6.84996,
          6.84996,
          6.84996,
          6.84996,
          6.84996,
          6.84996,
          6.84996,
          6.84996,
          6.84996,
          6.84996,
          6.84996,
          6.84996,
          6.84996,
          6.84996,
          6.84996,
          6.84996,
          6.84996,
          6.84996,
          6.84996,
          6.84996,
          6.84996,
          6.84996,
          6.84996,
          6.84996,
          6.84996,
          6.84996,
          6.84996,
          6.84996
         ],
         "marker": {
          "color": "#00cc96",
          "size": [
           0,
           0,
           0,
           0,
           0,
           0,
           0,
           0,
           0,
           0,
           0,
           0,
           0,
           0,
           0,
           0,
           0,
           0,
           0,
           0,
           0,
           0,
           0,
           0,
           0,
           0,
           0,
           0,
           0,
           0,
           0,
           0,
           0,
           0,
           0,
           0,
           0,
           0,
           0,
           0,
           0,
           0,
           0,
           0,
           0,
           0,
           0,
           0,
           0,
           0,
           0,
           0,
           0,
           0,
           0,
           0,
           0
          ],
          "sizemode": "area",
          "sizeref": 0.5475
         },
         "mode": "markers",
         "name": "Boudry",
         "showlegend": true,
         "subplot": "mapbox",
         "type": "scattermapbox"
        },
        {
         "hovertemplate": "city=Gorgier<br>deaths=%{marker.size}<br>lat=%{lat}<br>lon=%{lon}<extra></extra>",
         "lat": [
          46.9032,
          46.9032,
          46.9032,
          46.9032,
          46.9032,
          46.9032
         ],
         "legendgroup": "Gorgier",
         "lon": [
          6.78062,
          6.78062,
          6.78062,
          6.78062,
          6.78062,
          6.78062
         ],
         "marker": {
          "color": "#ab63fa",
          "size": [
           0,
           0,
           0,
           0,
           0,
           0
          ],
          "sizemode": "area",
          "sizeref": 0.5475
         },
         "mode": "markers",
         "name": "Gorgier",
         "showlegend": true,
         "subplot": "mapbox",
         "type": "scattermapbox"
        },
        {
         "hovertemplate": "city=Le Landeron<br>deaths=%{marker.size}<br>lat=%{lat}<br>lon=%{lon}<extra></extra>",
         "lat": [
          47.056,
          47.056,
          47.056,
          47.056,
          47.056,
          47.056,
          47.056,
          47.056,
          47.056
         ],
         "legendgroup": "Le Landeron",
         "lon": [
          7.06732,
          7.06732,
          7.06732,
          7.06732,
          7.06732,
          7.06732,
          7.06732,
          7.06732,
          7.06732
         ],
         "marker": {
          "color": "#FFA15A",
          "size": [
           0,
           0,
           0,
           0,
           0,
           0,
           0,
           0,
           0
          ],
          "sizemode": "area",
          "sizeref": 0.5475
         },
         "mode": "markers",
         "name": "Le Landeron",
         "showlegend": true,
         "subplot": "mapbox",
         "type": "scattermapbox"
        },
        {
         "hovertemplate": "city=Valangin<br>deaths=%{marker.size}<br>lat=%{lat}<br>lon=%{lon}<extra></extra>",
         "lat": [
          47.0162,
          47.0162,
          47.0162,
          47.0162,
          47.0162,
          47.0162,
          47.0162,
          47.0162,
          47.0162,
          47.0162,
          47.0162,
          47.0162,
          47.0162,
          47.0162,
          47.0162,
          47.0162,
          47.0162,
          47.0162,
          47.0162,
          47.0162,
          47.0162,
          47.0162,
          47.0162,
          47.0162,
          47.0162,
          47.0162,
          47.0162,
          47.0162,
          47.0162,
          47.0162,
          47.0162,
          47.0162,
          47.0162,
          47.0162,
          47.0162,
          47.0162,
          47.0162,
          47.0162,
          47.0162,
          47.0162,
          47.0162,
          47.0162,
          47.0162,
          47.0162,
          47.0162,
          47.0162,
          47.0162,
          47.0162,
          47.0162,
          47.0162,
          47.0162,
          47.0162,
          47.0162,
          47.0162,
          47.0162,
          47.0162,
          47.0162,
          47.0162
         ],
         "legendgroup": "Valangin",
         "lon": [
          6.90646,
          6.90646,
          6.90646,
          6.90646,
          6.90646,
          6.90646,
          6.90646,
          6.90646,
          6.90646,
          6.90646,
          6.90646,
          6.90646,
          6.90646,
          6.90646,
          6.90646,
          6.90646,
          6.90646,
          6.90646,
          6.90646,
          6.90646,
          6.90646,
          6.90646,
          6.90646,
          6.90646,
          6.90646,
          6.90646,
          6.90646,
          6.90646,
          6.90646,
          6.90646,
          6.90646,
          6.90646,
          6.90646,
          6.90646,
          6.90646,
          6.90646,
          6.90646,
          6.90646,
          6.90646,
          6.90646,
          6.90646,
          6.90646,
          6.90646,
          6.90646,
          6.90646,
          6.90646,
          6.90646,
          6.90646,
          6.90646,
          6.90646,
          6.90646,
          6.90646,
          6.90646,
          6.90646,
          6.90646,
          6.90646,
          6.90646,
          6.90646
         ],
         "marker": {
          "color": "#19d3f3",
          "size": [
           0,
           0,
           0,
           0,
           0,
           0,
           0,
           0,
           0,
           0,
           0,
           0,
           0,
           0,
           0,
           0,
           0,
           0,
           0,
           1,
           0,
           0,
           0,
           0,
           0,
           0,
           0,
           0,
           0,
           0,
           0,
           0,
           0,
           0,
           0,
           0,
           0,
           0,
           0,
           0,
           0,
           0,
           0,
           0,
           0,
           0,
           1,
           0,
           0,
           0,
           0,
           0,
           0,
           0,
           0,
           0,
           0,
           0
          ],
          "sizemode": "area",
          "sizeref": 0.5475
         },
         "mode": "markers",
         "name": "Valangin",
         "showlegend": true,
         "subplot": "mapbox",
         "type": "scattermapbox"
        },
        {
         "hovertemplate": "city=Thielle-Wavre<br>deaths=%{marker.size}<br>lat=%{lat}<br>lon=%{lon}<extra></extra>",
         "lat": [
          47.0254,
          47.0254,
          47.0254,
          47.0254,
          47.0254,
          47.0254,
          47.0254,
          47.0254,
          47.0254,
          47.0254,
          47.0254,
          47.0254,
          47.0254,
          47.0254,
          47.0254,
          47.0254,
          47.0254,
          47.0254,
          47.0254,
          47.0254,
          47.0254,
          47.0254,
          47.0254,
          47.0254,
          47.0254,
          47.0254,
          47.0254,
          47.0254,
          47.0254,
          47.0254,
          47.0254,
          47.0254,
          47.0254,
          47.0254,
          47.0254,
          47.0254,
          47.0254,
          47.0254,
          47.0254,
          47.0254,
          47.0254,
          47.0254,
          47.0254,
          47.0254,
          47.0254,
          47.0254,
          47.0254
         ],
         "legendgroup": "Thielle-Wavre",
         "lon": [
          7.02123,
          7.02123,
          7.02123,
          7.02123,
          7.02123,
          7.02123,
          7.02123,
          7.02123,
          7.02123,
          7.02123,
          7.02123,
          7.02123,
          7.02123,
          7.02123,
          7.02123,
          7.02123,
          7.02123,
          7.02123,
          7.02123,
          7.02123,
          7.02123,
          7.02123,
          7.02123,
          7.02123,
          7.02123,
          7.02123,
          7.02123,
          7.02123,
          7.02123,
          7.02123,
          7.02123,
          7.02123,
          7.02123,
          7.02123,
          7.02123,
          7.02123,
          7.02123,
          7.02123,
          7.02123,
          7.02123,
          7.02123,
          7.02123,
          7.02123,
          7.02123,
          7.02123,
          7.02123,
          7.02123
         ],
         "marker": {
          "color": "#FF6692",
          "size": [
           0,
           0,
           0,
           0,
           0,
           0,
           0,
           0,
           0,
           0,
           0,
           0,
           0,
           0,
           0,
           0,
           0,
           0,
           0,
           0,
           0,
           0,
           0,
           0,
           0,
           0,
           0,
           0,
           0,
           0,
           0,
           0,
           0,
           0,
           0,
           0,
           0,
           0,
           0,
           0,
           0,
           0,
           0,
           0,
           0,
           0,
           0
          ],
          "sizemode": "area",
          "sizeref": 0.5475
         },
         "mode": "markers",
         "name": "Thielle-Wavre",
         "showlegend": true,
         "subplot": "mapbox",
         "type": "scattermapbox"
        },
        {
         "hovertemplate": "city=Bruges<br>deaths=%{marker.size}<br>lat=%{lat}<br>lon=%{lon}<extra></extra>",
         "lat": [
          51.2094,
          51.2094,
          51.2094,
          51.2094,
          51.2094,
          51.2094,
          51.2094,
          51.2094,
          51.2094,
          51.2094,
          51.2094,
          51.2094,
          51.2094,
          51.2094,
          51.2094,
          51.2094,
          51.2094,
          51.2094,
          51.2094,
          51.2094,
          51.2094,
          51.2094,
          51.2094,
          51.2094,
          51.2094,
          51.2094,
          51.2094,
          51.2094,
          51.2094,
          51.2094,
          51.2094,
          51.2094,
          51.2094,
          51.2094,
          51.2094,
          51.2094,
          51.2094,
          51.2094,
          51.2094,
          51.2094,
          51.2094,
          51.2094,
          51.2094,
          51.2094,
          51.2094,
          51.2094,
          51.2094,
          51.2094,
          51.2094,
          51.2094,
          51.2094,
          51.2094,
          51.2094,
          51.2094,
          51.2094,
          51.2094,
          51.2094,
          51.2094,
          51.2094,
          51.2094,
          51.2094,
          51.2094,
          51.2094,
          51.2094,
          51.2094,
          51.2094,
          51.2094,
          51.2094,
          51.2094,
          51.2094,
          51.2094,
          51.2094,
          51.2094,
          51.2094,
          51.2094,
          51.2094,
          51.2094,
          51.2094,
          51.2094,
          51.2094,
          51.2094,
          51.2094,
          51.2094,
          51.2094,
          51.2094,
          51.2094,
          51.2094,
          51.2094,
          51.2094,
          51.2094,
          51.2094,
          51.2094,
          51.2094,
          51.2094,
          51.2094,
          51.2094,
          51.2094
         ],
         "legendgroup": "Bruges",
         "lon": [
          3.2247,
          3.2247,
          3.2247,
          3.2247,
          3.2247,
          3.2247,
          3.2247,
          3.2247,
          3.2247,
          3.2247,
          3.2247,
          3.2247,
          3.2247,
          3.2247,
          3.2247,
          3.2247,
          3.2247,
          3.2247,
          3.2247,
          3.2247,
          3.2247,
          3.2247,
          3.2247,
          3.2247,
          3.2247,
          3.2247,
          3.2247,
          3.2247,
          3.2247,
          3.2247,
          3.2247,
          3.2247,
          3.2247,
          3.2247,
          3.2247,
          3.2247,
          3.2247,
          3.2247,
          3.2247,
          3.2247,
          3.2247,
          3.2247,
          3.2247,
          3.2247,
          3.2247,
          3.2247,
          3.2247,
          3.2247,
          3.2247,
          3.2247,
          3.2247,
          3.2247,
          3.2247,
          3.2247,
          3.2247,
          3.2247,
          3.2247,
          3.2247,
          3.2247,
          3.2247,
          3.2247,
          3.2247,
          3.2247,
          3.2247,
          3.2247,
          3.2247,
          3.2247,
          3.2247,
          3.2247,
          3.2247,
          3.2247,
          3.2247,
          3.2247,
          3.2247,
          3.2247,
          3.2247,
          3.2247,
          3.2247,
          3.2247,
          3.2247,
          3.2247,
          3.2247,
          3.2247,
          3.2247,
          3.2247,
          3.2247,
          3.2247,
          3.2247,
          3.2247,
          3.2247,
          3.2247,
          3.2247,
          3.2247,
          3.2247,
          3.2247,
          3.2247,
          3.2247
         ],
         "marker": {
          "color": "#B6E880",
          "size": [
           1,
           1,
           1,
           0,
           0,
           0,
           1,
           1,
           1,
           0,
           0,
           0,
           0,
           0,
           0,
           0,
           0,
           0,
           0,
           1,
           1,
           0,
           0,
           0,
           0,
           0,
           0,
           0,
           0,
           0,
           0,
           0,
           1,
           1,
           1,
           1,
           0,
           0,
           0,
           0,
           0,
           0,
           1,
           0,
           0,
           0,
           1,
           0,
           0,
           0,
           0,
           0,
           0,
           0,
           0,
           0,
           0,
           0,
           2,
           0,
           0,
           0,
           1,
           0,
           0,
           0,
           1,
           1,
           0,
           0,
           0,
           0,
           0,
           0,
           0,
           0,
           0,
           0,
           0,
           0,
           0,
           0,
           0,
           0,
           0,
           0,
           0,
           0,
           0,
           0,
           1,
           0,
           0,
           0,
           0,
           1,
           0
          ],
          "sizemode": "area",
          "sizeref": 0.5475
         },
         "mode": "markers",
         "name": "Bruges",
         "showlegend": true,
         "subplot": "mapbox",
         "type": "scattermapbox"
        }
       ],
       "layout": {
        "height": 900,
        "legend": {
         "itemsizing": "constant",
         "title": {
          "text": "city"
         },
         "tracegroupgap": 0
        },
        "mapbox": {
         "center": {
          "lat": 48.34377572174237,
          "lon": 7.437817902829485
         },
         "domain": {
          "x": [
           0,
           1
          ],
          "y": [
           0,
           1
          ]
         },
         "style": "open-street-map",
         "zoom": 3
        },
        "margin": {
         "b": 10,
         "l": 0,
         "r": 0,
         "t": 50
        },
        "template": {
         "data": {
          "bar": [
           {
            "error_x": {
             "color": "#2a3f5f"
            },
            "error_y": {
             "color": "#2a3f5f"
            },
            "marker": {
             "line": {
              "color": "#E5ECF6",
              "width": 0.5
             },
             "pattern": {
              "fillmode": "overlay",
              "size": 10,
              "solidity": 0.2
             }
            },
            "type": "bar"
           }
          ],
          "barpolar": [
           {
            "marker": {
             "line": {
              "color": "#E5ECF6",
              "width": 0.5
             },
             "pattern": {
              "fillmode": "overlay",
              "size": 10,
              "solidity": 0.2
             }
            },
            "type": "barpolar"
           }
          ],
          "carpet": [
           {
            "aaxis": {
             "endlinecolor": "#2a3f5f",
             "gridcolor": "white",
             "linecolor": "white",
             "minorgridcolor": "white",
             "startlinecolor": "#2a3f5f"
            },
            "baxis": {
             "endlinecolor": "#2a3f5f",
             "gridcolor": "white",
             "linecolor": "white",
             "minorgridcolor": "white",
             "startlinecolor": "#2a3f5f"
            },
            "type": "carpet"
           }
          ],
          "choropleth": [
           {
            "colorbar": {
             "outlinewidth": 0,
             "ticks": ""
            },
            "type": "choropleth"
           }
          ],
          "contour": [
           {
            "colorbar": {
             "outlinewidth": 0,
             "ticks": ""
            },
            "colorscale": [
             [
              0,
              "#0d0887"
             ],
             [
              0.1111111111111111,
              "#46039f"
             ],
             [
              0.2222222222222222,
              "#7201a8"
             ],
             [
              0.3333333333333333,
              "#9c179e"
             ],
             [
              0.4444444444444444,
              "#bd3786"
             ],
             [
              0.5555555555555556,
              "#d8576b"
             ],
             [
              0.6666666666666666,
              "#ed7953"
             ],
             [
              0.7777777777777778,
              "#fb9f3a"
             ],
             [
              0.8888888888888888,
              "#fdca26"
             ],
             [
              1,
              "#f0f921"
             ]
            ],
            "type": "contour"
           }
          ],
          "contourcarpet": [
           {
            "colorbar": {
             "outlinewidth": 0,
             "ticks": ""
            },
            "type": "contourcarpet"
           }
          ],
          "heatmap": [
           {
            "colorbar": {
             "outlinewidth": 0,
             "ticks": ""
            },
            "colorscale": [
             [
              0,
              "#0d0887"
             ],
             [
              0.1111111111111111,
              "#46039f"
             ],
             [
              0.2222222222222222,
              "#7201a8"
             ],
             [
              0.3333333333333333,
              "#9c179e"
             ],
             [
              0.4444444444444444,
              "#bd3786"
             ],
             [
              0.5555555555555556,
              "#d8576b"
             ],
             [
              0.6666666666666666,
              "#ed7953"
             ],
             [
              0.7777777777777778,
              "#fb9f3a"
             ],
             [
              0.8888888888888888,
              "#fdca26"
             ],
             [
              1,
              "#f0f921"
             ]
            ],
            "type": "heatmap"
           }
          ],
          "heatmapgl": [
           {
            "colorbar": {
             "outlinewidth": 0,
             "ticks": ""
            },
            "colorscale": [
             [
              0,
              "#0d0887"
             ],
             [
              0.1111111111111111,
              "#46039f"
             ],
             [
              0.2222222222222222,
              "#7201a8"
             ],
             [
              0.3333333333333333,
              "#9c179e"
             ],
             [
              0.4444444444444444,
              "#bd3786"
             ],
             [
              0.5555555555555556,
              "#d8576b"
             ],
             [
              0.6666666666666666,
              "#ed7953"
             ],
             [
              0.7777777777777778,
              "#fb9f3a"
             ],
             [
              0.8888888888888888,
              "#fdca26"
             ],
             [
              1,
              "#f0f921"
             ]
            ],
            "type": "heatmapgl"
           }
          ],
          "histogram": [
           {
            "marker": {
             "pattern": {
              "fillmode": "overlay",
              "size": 10,
              "solidity": 0.2
             }
            },
            "type": "histogram"
           }
          ],
          "histogram2d": [
           {
            "colorbar": {
             "outlinewidth": 0,
             "ticks": ""
            },
            "colorscale": [
             [
              0,
              "#0d0887"
             ],
             [
              0.1111111111111111,
              "#46039f"
             ],
             [
              0.2222222222222222,
              "#7201a8"
             ],
             [
              0.3333333333333333,
              "#9c179e"
             ],
             [
              0.4444444444444444,
              "#bd3786"
             ],
             [
              0.5555555555555556,
              "#d8576b"
             ],
             [
              0.6666666666666666,
              "#ed7953"
             ],
             [
              0.7777777777777778,
              "#fb9f3a"
             ],
             [
              0.8888888888888888,
              "#fdca26"
             ],
             [
              1,
              "#f0f921"
             ]
            ],
            "type": "histogram2d"
           }
          ],
          "histogram2dcontour": [
           {
            "colorbar": {
             "outlinewidth": 0,
             "ticks": ""
            },
            "colorscale": [
             [
              0,
              "#0d0887"
             ],
             [
              0.1111111111111111,
              "#46039f"
             ],
             [
              0.2222222222222222,
              "#7201a8"
             ],
             [
              0.3333333333333333,
              "#9c179e"
             ],
             [
              0.4444444444444444,
              "#bd3786"
             ],
             [
              0.5555555555555556,
              "#d8576b"
             ],
             [
              0.6666666666666666,
              "#ed7953"
             ],
             [
              0.7777777777777778,
              "#fb9f3a"
             ],
             [
              0.8888888888888888,
              "#fdca26"
             ],
             [
              1,
              "#f0f921"
             ]
            ],
            "type": "histogram2dcontour"
           }
          ],
          "mesh3d": [
           {
            "colorbar": {
             "outlinewidth": 0,
             "ticks": ""
            },
            "type": "mesh3d"
           }
          ],
          "parcoords": [
           {
            "line": {
             "colorbar": {
              "outlinewidth": 0,
              "ticks": ""
             }
            },
            "type": "parcoords"
           }
          ],
          "pie": [
           {
            "automargin": true,
            "type": "pie"
           }
          ],
          "scatter": [
           {
            "fillpattern": {
             "fillmode": "overlay",
             "size": 10,
             "solidity": 0.2
            },
            "type": "scatter"
           }
          ],
          "scatter3d": [
           {
            "line": {
             "colorbar": {
              "outlinewidth": 0,
              "ticks": ""
             }
            },
            "marker": {
             "colorbar": {
              "outlinewidth": 0,
              "ticks": ""
             }
            },
            "type": "scatter3d"
           }
          ],
          "scattercarpet": [
           {
            "marker": {
             "colorbar": {
              "outlinewidth": 0,
              "ticks": ""
             }
            },
            "type": "scattercarpet"
           }
          ],
          "scattergeo": [
           {
            "marker": {
             "colorbar": {
              "outlinewidth": 0,
              "ticks": ""
             }
            },
            "type": "scattergeo"
           }
          ],
          "scattergl": [
           {
            "marker": {
             "colorbar": {
              "outlinewidth": 0,
              "ticks": ""
             }
            },
            "type": "scattergl"
           }
          ],
          "scattermapbox": [
           {
            "marker": {
             "colorbar": {
              "outlinewidth": 0,
              "ticks": ""
             }
            },
            "type": "scattermapbox"
           }
          ],
          "scatterpolar": [
           {
            "marker": {
             "colorbar": {
              "outlinewidth": 0,
              "ticks": ""
             }
            },
            "type": "scatterpolar"
           }
          ],
          "scatterpolargl": [
           {
            "marker": {
             "colorbar": {
              "outlinewidth": 0,
              "ticks": ""
             }
            },
            "type": "scatterpolargl"
           }
          ],
          "scatterternary": [
           {
            "marker": {
             "colorbar": {
              "outlinewidth": 0,
              "ticks": ""
             }
            },
            "type": "scatterternary"
           }
          ],
          "surface": [
           {
            "colorbar": {
             "outlinewidth": 0,
             "ticks": ""
            },
            "colorscale": [
             [
              0,
              "#0d0887"
             ],
             [
              0.1111111111111111,
              "#46039f"
             ],
             [
              0.2222222222222222,
              "#7201a8"
             ],
             [
              0.3333333333333333,
              "#9c179e"
             ],
             [
              0.4444444444444444,
              "#bd3786"
             ],
             [
              0.5555555555555556,
              "#d8576b"
             ],
             [
              0.6666666666666666,
              "#ed7953"
             ],
             [
              0.7777777777777778,
              "#fb9f3a"
             ],
             [
              0.8888888888888888,
              "#fdca26"
             ],
             [
              1,
              "#f0f921"
             ]
            ],
            "type": "surface"
           }
          ],
          "table": [
           {
            "cells": {
             "fill": {
              "color": "#EBF0F8"
             },
             "line": {
              "color": "white"
             }
            },
            "header": {
             "fill": {
              "color": "#C8D4E3"
             },
             "line": {
              "color": "white"
             }
            },
            "type": "table"
           }
          ]
         },
         "layout": {
          "annotationdefaults": {
           "arrowcolor": "#2a3f5f",
           "arrowhead": 0,
           "arrowwidth": 1
          },
          "autotypenumbers": "strict",
          "coloraxis": {
           "colorbar": {
            "outlinewidth": 0,
            "ticks": ""
           }
          },
          "colorscale": {
           "diverging": [
            [
             0,
             "#8e0152"
            ],
            [
             0.1,
             "#c51b7d"
            ],
            [
             0.2,
             "#de77ae"
            ],
            [
             0.3,
             "#f1b6da"
            ],
            [
             0.4,
             "#fde0ef"
            ],
            [
             0.5,
             "#f7f7f7"
            ],
            [
             0.6,
             "#e6f5d0"
            ],
            [
             0.7,
             "#b8e186"
            ],
            [
             0.8,
             "#7fbc41"
            ],
            [
             0.9,
             "#4d9221"
            ],
            [
             1,
             "#276419"
            ]
           ],
           "sequential": [
            [
             0,
             "#0d0887"
            ],
            [
             0.1111111111111111,
             "#46039f"
            ],
            [
             0.2222222222222222,
             "#7201a8"
            ],
            [
             0.3333333333333333,
             "#9c179e"
            ],
            [
             0.4444444444444444,
             "#bd3786"
            ],
            [
             0.5555555555555556,
             "#d8576b"
            ],
            [
             0.6666666666666666,
             "#ed7953"
            ],
            [
             0.7777777777777778,
             "#fb9f3a"
            ],
            [
             0.8888888888888888,
             "#fdca26"
            ],
            [
             1,
             "#f0f921"
            ]
           ],
           "sequentialminus": [
            [
             0,
             "#0d0887"
            ],
            [
             0.1111111111111111,
             "#46039f"
            ],
            [
             0.2222222222222222,
             "#7201a8"
            ],
            [
             0.3333333333333333,
             "#9c179e"
            ],
            [
             0.4444444444444444,
             "#bd3786"
            ],
            [
             0.5555555555555556,
             "#d8576b"
            ],
            [
             0.6666666666666666,
             "#ed7953"
            ],
            [
             0.7777777777777778,
             "#fb9f3a"
            ],
            [
             0.8888888888888888,
             "#fdca26"
            ],
            [
             1,
             "#f0f921"
            ]
           ]
          },
          "colorway": [
           "#636efa",
           "#EF553B",
           "#00cc96",
           "#ab63fa",
           "#FFA15A",
           "#19d3f3",
           "#FF6692",
           "#B6E880",
           "#FF97FF",
           "#FECB52"
          ],
          "font": {
           "color": "#2a3f5f"
          },
          "geo": {
           "bgcolor": "white",
           "lakecolor": "white",
           "landcolor": "#E5ECF6",
           "showlakes": true,
           "showland": true,
           "subunitcolor": "white"
          },
          "hoverlabel": {
           "align": "left"
          },
          "hovermode": "closest",
          "mapbox": {
           "style": "light"
          },
          "paper_bgcolor": "white",
          "plot_bgcolor": "#E5ECF6",
          "polar": {
           "angularaxis": {
            "gridcolor": "white",
            "linecolor": "white",
            "ticks": ""
           },
           "bgcolor": "#E5ECF6",
           "radialaxis": {
            "gridcolor": "white",
            "linecolor": "white",
            "ticks": ""
           }
          },
          "scene": {
           "xaxis": {
            "backgroundcolor": "#E5ECF6",
            "gridcolor": "white",
            "gridwidth": 2,
            "linecolor": "white",
            "showbackground": true,
            "ticks": "",
            "zerolinecolor": "white"
           },
           "yaxis": {
            "backgroundcolor": "#E5ECF6",
            "gridcolor": "white",
            "gridwidth": 2,
            "linecolor": "white",
            "showbackground": true,
            "ticks": "",
            "zerolinecolor": "white"
           },
           "zaxis": {
            "backgroundcolor": "#E5ECF6",
            "gridcolor": "white",
            "gridwidth": 2,
            "linecolor": "white",
            "showbackground": true,
            "ticks": "",
            "zerolinecolor": "white"
           }
          },
          "shapedefaults": {
           "line": {
            "color": "#2a3f5f"
           }
          },
          "ternary": {
           "aaxis": {
            "gridcolor": "white",
            "linecolor": "white",
            "ticks": ""
           },
           "baxis": {
            "gridcolor": "white",
            "linecolor": "white",
            "ticks": ""
           },
           "bgcolor": "#E5ECF6",
           "caxis": {
            "gridcolor": "white",
            "linecolor": "white",
            "ticks": ""
           }
          },
          "title": {
           "x": 0.05
          },
          "xaxis": {
           "automargin": true,
           "gridcolor": "white",
           "linecolor": "white",
           "ticks": "",
           "title": {
            "standoff": 15
           },
           "zerolinecolor": "white",
           "zerolinewidth": 2
          },
          "yaxis": {
           "automargin": true,
           "gridcolor": "white",
           "linecolor": "white",
           "ticks": "",
           "title": {
            "standoff": 15
           },
           "zerolinecolor": "white",
           "zerolinewidth": 2
          }
         }
        },
        "title": {
         "text": "number of deaths by country"
        },
        "width": 1200
       }
      },
      "text/html": [
       "<div>                            <div id=\"31ccac35-fba5-449f-a005-a4c94b8ab7f5\" class=\"plotly-graph-div\" style=\"height:900px; width:1200px;\"></div>            <script type=\"text/javascript\">                require([\"plotly\"], function(Plotly) {                    window.PLOTLYENV=window.PLOTLYENV || {};                                    if (document.getElementById(\"31ccac35-fba5-449f-a005-a4c94b8ab7f5\")) {                    Plotly.newPlot(                        \"31ccac35-fba5-449f-a005-a4c94b8ab7f5\",                        [{\"hovertemplate\":\"city=Erolzheim<br>deaths=%{marker.size}<br>lat=%{lat}<br>lon=%{lon}<extra></extra>\",\"lat\":[48.0917],\"legendgroup\":\"Erolzheim\",\"lon\":[10.0708],\"marker\":{\"color\":\"#636efa\",\"size\":[6.0],\"sizemode\":\"area\",\"sizeref\":0.5475},\"mode\":\"markers\",\"name\":\"Erolzheim\",\"showlegend\":true,\"subplot\":\"mapbox\",\"type\":\"scattermapbox\"},{\"hovertemplate\":\"city=Straubing<br>deaths=%{marker.size}<br>lat=%{lat}<br>lon=%{lon}<extra></extra>\",\"lat\":[48.8777,48.8777,48.8777,48.8777,48.8777,48.8777,48.8777,48.8777,48.8777333],\"legendgroup\":\"Straubing\",\"lon\":[12.5802,12.5802,12.5802,12.5802,12.5802,12.5802,12.5802,12.5802,12.5801538],\"marker\":{\"color\":\"#EF553B\",\"size\":[1.0,0.0,1.0,0.0,1.0,1.0,2.0,1.0,1.0],\"sizemode\":\"area\",\"sizeref\":0.5475},\"mode\":\"markers\",\"name\":\"Straubing\",\"showlegend\":true,\"subplot\":\"mapbox\",\"type\":\"scattermapbox\"},{\"hovertemplate\":\"city=Lindau<br>deaths=%{marker.size}<br>lat=%{lat}<br>lon=%{lon}<extra></extra>\",\"lat\":[47.5798,47.5798,47.5798,47.5798],\"legendgroup\":\"Lindau\",\"lon\":[9.67893,9.67893,9.67893,9.67893],\"marker\":{\"color\":\"#00cc96\",\"size\":[2.0,1.0,1.0,1.0],\"sizemode\":\"area\",\"sizeref\":0.5475},\"mode\":\"markers\",\"name\":\"Lindau\",\"showlegend\":true,\"subplot\":\"mapbox\",\"type\":\"scattermapbox\"},{\"hovertemplate\":\"city=Regensburg<br>deaths=%{marker.size}<br>lat=%{lat}<br>lon=%{lon}<extra></extra>\",\"lat\":[49.0134,49.0134,49.0134,49.0134,49.0134,49.0134,49.0134,49.0134,49.0134297],\"legendgroup\":\"Regensburg\",\"lon\":[12.1016,12.1016,12.1016,12.1016,12.1016,12.1016,12.1016,12.1016,12.1016236],\"marker\":{\"color\":\"#ab63fa\",\"size\":[1.0,1.0,1.0,14.0,8.0,5.0,6.0,12.0,1.0],\"sizemode\":\"area\",\"sizeref\":0.5475},\"mode\":\"markers\",\"name\":\"Regensburg\",\"showlegend\":true,\"subplot\":\"mapbox\",\"type\":\"scattermapbox\"},{\"hovertemplate\":\"city=Aschau<br>deaths=%{marker.size}<br>lat=%{lat}<br>lon=%{lon}<extra></extra>\",\"lat\":[47.7771],\"legendgroup\":\"Aschau\",\"lon\":[12.3225],\"marker\":{\"color\":\"#FFA15A\",\"size\":[0.0],\"sizemode\":\"area\",\"sizeref\":0.5475},\"mode\":\"markers\",\"name\":\"Aschau\",\"showlegend\":true,\"subplot\":\"mapbox\",\"type\":\"scattermapbox\"},{\"hovertemplate\":\"city=Immenstadt<br>deaths=%{marker.size}<br>lat=%{lat}<br>lon=%{lon}<extra></extra>\",\"lat\":[47.5592],\"legendgroup\":\"Immenstadt\",\"lon\":[10.2207],\"marker\":{\"color\":\"#19d3f3\",\"size\":[1.0],\"sizemode\":\"area\",\"sizeref\":0.5475},\"mode\":\"markers\",\"name\":\"Immenstadt\",\"showlegend\":true,\"subplot\":\"mapbox\",\"type\":\"scattermapbox\"},{\"hovertemplate\":\"city=Munich<br>deaths=%{marker.size}<br>lat=%{lat}<br>lon=%{lon}<extra></extra>\",\"lat\":[48.1351,48.1351,48.1351,48.1351,48.1351,48.1351,48.1351,48.1351,48.1351,48.1351,48.1351,48.1351,48.1351,48.1351,48.1351,48.1351,48.1351],\"legendgroup\":\"Munich\",\"lon\":[11.582,11.582,11.582,11.582,11.582,11.582,11.582,11.582,11.582,11.582,11.582,11.582,11.582,11.582,11.582,11.582,11.582],\"marker\":{\"color\":\"#FF6692\",\"size\":[0.0,1.0,5.0,1.0,0.0,0.0,0.0,1.0,0.0,0.0,0.0,1.0,0.0,1.0,1.0,1.0,1.0],\"sizemode\":\"area\",\"sizeref\":0.5475},\"mode\":\"markers\",\"name\":\"Munich\",\"showlegend\":true,\"subplot\":\"mapbox\",\"type\":\"scattermapbox\"},{\"hovertemplate\":\"city=Weissenhorn<br>deaths=%{marker.size}<br>lat=%{lat}<br>lon=%{lon}<extra></extra>\",\"lat\":[48.3037],\"legendgroup\":\"Weissenhorn\",\"lon\":[10.1561],\"marker\":{\"color\":\"#B6E880\",\"size\":[1.0],\"sizemode\":\"area\",\"sizeref\":0.5475},\"mode\":\"markers\",\"name\":\"Weissenhorn\",\"showlegend\":true,\"subplot\":\"mapbox\",\"type\":\"scattermapbox\"},{\"hovertemplate\":\"city=Spalt<br>deaths=%{marker.size}<br>lat=%{lat}<br>lon=%{lon}<extra></extra>\",\"lat\":[49.1746,49.1746],\"legendgroup\":\"Spalt\",\"lon\":[10.9262,10.9262],\"marker\":{\"color\":\"#FF97FF\",\"size\":[1.0,1.0],\"sizemode\":\"area\",\"sizeref\":0.5475},\"mode\":\"markers\",\"name\":\"Spalt\",\"showlegend\":true,\"subplot\":\"mapbox\",\"type\":\"scattermapbox\"},{\"hovertemplate\":\"city=Augsburg<br>deaths=%{marker.size}<br>lat=%{lat}<br>lon=%{lon}<extra></extra>\",\"lat\":[48.3705,48.3705,48.3705,48.3705,48.3705,48.3705,48.3705,48.3705,48.3705,48.3705,48.3705,48.3705,48.3705,48.3705,48.3705,48.3705449,48.3705449,48.3705449],\"legendgroup\":\"Augsburg\",\"lon\":[10.8978,10.8978,10.8978,10.8978,10.8978,10.8978,10.8978,10.8978,10.8978,10.8978,10.8978,10.8978,10.8978,10.8978,10.8978,10.89779,10.89779,10.89779],\"marker\":{\"color\":\"#FECB52\",\"size\":[1.0,5.0,1.0,1.0,1.0,2.0,1.0,1.0,1.0,1.0,3.0,4.0,1.0,2.0,1.0,0.0,0.0,0.0],\"sizemode\":\"area\",\"sizeref\":0.5475},\"mode\":\"markers\",\"name\":\"Augsburg\",\"showlegend\":true,\"subplot\":\"mapbox\",\"type\":\"scattermapbox\"},{\"hovertemplate\":\"city=Hochstadt an der Donau<br>deaths=%{marker.size}<br>lat=%{lat}<br>lon=%{lon}<extra></extra>\",\"lat\":[48.6147,48.6147,48.6147],\"legendgroup\":\"Hochstadt an der Donau\",\"lon\":[10.5672,10.5672,10.5672],\"marker\":{\"color\":\"#636efa\",\"size\":[1.0,5.0,1.0],\"sizemode\":\"area\",\"sizeref\":0.5475},\"mode\":\"markers\",\"name\":\"Hochstadt an der Donau\",\"showlegend\":true,\"subplot\":\"mapbox\",\"type\":\"scattermapbox\"},{\"hovertemplate\":\"city=Dillingen an der Donau<br>deaths=%{marker.size}<br>lat=%{lat}<br>lon=%{lon}<extra></extra>\",\"lat\":[48.5791,48.5791,48.5791,48.5791,48.5791,48.5791,48.5791,48.5791,48.5791,48.5791,48.5791,48.5791,48.5791,48.5791,48.5791,48.5791,48.5791],\"legendgroup\":\"Dillingen an der Donau\",\"lon\":[10.494,10.494,10.494,10.494,10.494,10.494,10.494,10.494,10.494,10.494,10.494,10.494,10.494,10.494,10.494,10.494,10.494],\"marker\":{\"color\":\"#EF553B\",\"size\":[1.0,1.0,1.0,7.0,9.0,1.0,1.0,2.0,8.0,6.0,1.0,1.0,1.0,2.0,3.0,1.0,1.0],\"sizemode\":\"area\",\"sizeref\":0.5475},\"mode\":\"markers\",\"name\":\"Dillingen an der Donau\",\"showlegend\":true,\"subplot\":\"mapbox\",\"type\":\"scattermapbox\"},{\"hovertemplate\":\"city=Memmingen<br>deaths=%{marker.size}<br>lat=%{lat}<br>lon=%{lon}<extra></extra>\",\"lat\":[47.9838,47.9838,47.9838,47.9838,47.9838,47.9838,47.9838,47.9838,47.9838],\"legendgroup\":\"Memmingen\",\"lon\":[10.1802,10.1802,10.1802,10.1802,10.1802,10.1802,10.1802,10.1802,10.1802],\"marker\":{\"color\":\"#00cc96\",\"size\":[10.0,3.0,1.0,1.0,1.0,3.0,2.0,10.0,5.0],\"sizemode\":\"area\",\"sizeref\":0.5475},\"mode\":\"markers\",\"name\":\"Memmingen\",\"showlegend\":true,\"subplot\":\"mapbox\",\"type\":\"scattermapbox\"},{\"hovertemplate\":\"city=Rettenberg<br>deaths=%{marker.size}<br>lat=%{lat}<br>lon=%{lon}<extra></extra>\",\"lat\":[47.5743,47.5743,47.5743,47.5743],\"legendgroup\":\"Rettenberg\",\"lon\":[10.2922,10.2922,10.2922,10.2922],\"marker\":{\"color\":\"#ab63fa\",\"size\":[1.0,2.0,25.0,9.0],\"sizemode\":\"area\",\"sizeref\":0.5475},\"mode\":\"markers\",\"name\":\"Rettenberg\",\"showlegend\":true,\"subplot\":\"mapbox\",\"type\":\"scattermapbox\"},{\"hovertemplate\":\"city=Pfaffenhofen<br>deaths=%{marker.size}<br>lat=%{lat}<br>lon=%{lon}<extra></extra>\",\"lat\":[48.5325,48.5325,48.5325,48.5325,48.5325,48.5325,48.5325,48.5325],\"legendgroup\":\"Pfaffenhofen\",\"lon\":[11.4977,11.4977,11.4977,11.4977,11.4977,11.4977,11.4977,11.4977],\"marker\":{\"color\":\"#FFA15A\",\"size\":[0.0,0.0,0.0,0.0,0.0,0.0,0.0,0.0],\"sizemode\":\"area\",\"sizeref\":0.5475},\"mode\":\"markers\",\"name\":\"Pfaffenhofen\",\"showlegend\":true,\"subplot\":\"mapbox\",\"type\":\"scattermapbox\"},{\"hovertemplate\":\"city=Burgau<br>deaths=%{marker.size}<br>lat=%{lat}<br>lon=%{lon}<extra></extra>\",\"lat\":[48.4302,48.4302,48.4302],\"legendgroup\":\"Burgau\",\"lon\":[10.4108,10.4108,10.4108],\"marker\":{\"color\":\"#19d3f3\",\"size\":[6.0,4.0,6.0],\"sizemode\":\"area\",\"sizeref\":0.5475},\"mode\":\"markers\",\"name\":\"Burgau\",\"showlegend\":true,\"subplot\":\"mapbox\",\"type\":\"scattermapbox\"},{\"hovertemplate\":\"city=Rain<br>deaths=%{marker.size}<br>lat=%{lat}<br>lon=%{lon}<extra></extra>\",\"lat\":[48.6902,48.6902,48.6902,48.6902,48.6902,48.6902,48.6902],\"legendgroup\":\"Rain\",\"lon\":[10.9209,10.9209,10.9209,10.9209,10.9209,10.9209,10.9209],\"marker\":{\"color\":\"#FF6692\",\"size\":[2.0,1.0,5.0,0.0,0.0,0.0,2.0],\"sizemode\":\"area\",\"sizeref\":0.5475},\"mode\":\"markers\",\"name\":\"Rain\",\"showlegend\":true,\"subplot\":\"mapbox\",\"type\":\"scattermapbox\"},{\"hovertemplate\":\"city=Lauingen<br>deaths=%{marker.size}<br>lat=%{lat}<br>lon=%{lon}<extra></extra>\",\"lat\":[48.5703,48.5703,48.5703],\"legendgroup\":\"Lauingen\",\"lon\":[10.43,10.43,10.43],\"marker\":{\"color\":\"#B6E880\",\"size\":[1.0,2.0,1.0],\"sizemode\":\"area\",\"sizeref\":0.5475},\"mode\":\"markers\",\"name\":\"Lauingen\",\"showlegend\":true,\"subplot\":\"mapbox\",\"type\":\"scattermapbox\"},{\"hovertemplate\":\"city=Wallerstein<br>deaths=%{marker.size}<br>lat=%{lat}<br>lon=%{lon}<extra></extra>\",\"lat\":[48.8887,48.8887,48.8887,48.8887,48.8887],\"legendgroup\":\"Wallerstein\",\"lon\":[10.4738,10.4738,10.4738,10.4738,10.4738],\"marker\":{\"color\":\"#FF97FF\",\"size\":[13.0,25.0,1.0,1.0,20.0],\"sizemode\":\"area\",\"sizeref\":0.5475},\"mode\":\"markers\",\"name\":\"Wallerstein\",\"showlegend\":true,\"subplot\":\"mapbox\",\"type\":\"scattermapbox\"},{\"hovertemplate\":\"city=Schwabmunchen<br>deaths=%{marker.size}<br>lat=%{lat}<br>lon=%{lon}<extra></extra>\",\"lat\":[48.18,48.18,48.18,48.18,48.18],\"legendgroup\":\"Schwabmunchen\",\"lon\":[10.7557,10.7557,10.7557,10.7557,10.7557],\"marker\":{\"color\":\"#FECB52\",\"size\":[27.0,11.0,11.0,1.0,3.0],\"sizemode\":\"area\",\"sizeref\":0.5475},\"mode\":\"markers\",\"name\":\"Schwabmunchen\",\"showlegend\":true,\"subplot\":\"mapbox\",\"type\":\"scattermapbox\"},{\"hovertemplate\":\"city=Tapfheim<br>deaths=%{marker.size}<br>lat=%{lat}<br>lon=%{lon}<extra></extra>\",\"lat\":[48.6737],\"legendgroup\":\"Tapfheim\",\"lon\":[10.6854],\"marker\":{\"color\":\"#636efa\",\"size\":[2.0],\"sizemode\":\"area\",\"sizeref\":0.5475},\"mode\":\"markers\",\"name\":\"Tapfheim\",\"showlegend\":true,\"subplot\":\"mapbox\",\"type\":\"scattermapbox\"},{\"hovertemplate\":\"city=Schongau<br>deaths=%{marker.size}<br>lat=%{lat}<br>lon=%{lon}<extra></extra>\",\"lat\":[47.815,47.815],\"legendgroup\":\"Schongau\",\"lon\":[10.8943,10.8943],\"marker\":{\"color\":\"#EF553B\",\"size\":[7.0,63.0],\"sizemode\":\"area\",\"sizeref\":0.5475},\"mode\":\"markers\",\"name\":\"Schongau\",\"showlegend\":true,\"subplot\":\"mapbox\",\"type\":\"scattermapbox\"},{\"hovertemplate\":\"city=Ingolstadt<br>deaths=%{marker.size}<br>lat=%{lat}<br>lon=%{lon}<extra></extra>\",\"lat\":[48.7665,48.7665,48.7665,48.7665,48.7665,48.7665],\"legendgroup\":\"Ingolstadt\",\"lon\":[11.4258,11.4258,11.4258,11.4258,11.4258,11.4258],\"marker\":{\"color\":\"#00cc96\",\"size\":[22.0,5.0,0.0,1.0,0.0,1.0],\"sizemode\":\"area\",\"sizeref\":0.5475},\"mode\":\"markers\",\"name\":\"Ingolstadt\",\"showlegend\":true,\"subplot\":\"mapbox\",\"type\":\"scattermapbox\"},{\"hovertemplate\":\"city=Freising<br>deaths=%{marker.size}<br>lat=%{lat}<br>lon=%{lon}<extra></extra>\",\"lat\":[48.4029,48.4029,48.4029,48.4029,48.4029,48.4029,48.4029,48.4029],\"legendgroup\":\"Freising\",\"lon\":[11.7412,11.7412,11.7412,11.7412,11.7412,11.7412,11.7412,11.7412],\"marker\":{\"color\":\"#ab63fa\",\"size\":[52.0,20.0,2.0,3.0,7.0,5.0,11.0,2.0],\"sizemode\":\"area\",\"sizeref\":0.5475},\"mode\":\"markers\",\"name\":\"Freising\",\"showlegend\":true,\"subplot\":\"mapbox\",\"type\":\"scattermapbox\"},{\"hovertemplate\":\"city=Vohburg<br>deaths=%{marker.size}<br>lat=%{lat}<br>lon=%{lon}<extra></extra>\",\"lat\":[48.766,48.766,48.766,48.766,48.766,48.766,48.766,48.766],\"legendgroup\":\"Vohburg\",\"lon\":[11.6227,11.6227,11.6227,11.6227,11.6227,11.6227,11.6227,11.6227],\"marker\":{\"color\":\"#FFA15A\",\"size\":[1.0,0.0,0.0,1.0,0.0,0.0,0.0,0.0],\"sizemode\":\"area\",\"sizeref\":0.5475},\"mode\":\"markers\",\"name\":\"Vohburg\",\"showlegend\":true,\"subplot\":\"mapbox\",\"type\":\"scattermapbox\"},{\"hovertemplate\":\"city=Weilheim<br>deaths=%{marker.size}<br>lat=%{lat}<br>lon=%{lon}<extra></extra>\",\"lat\":[47.8407,47.8407,47.8407,47.8407,47.8407,47.8407,47.8407,47.8407,47.8407,47.8407,47.8407,47.8407,47.8407,47.8407],\"legendgroup\":\"Weilheim\",\"lon\":[11.1421,11.1421,11.1421,11.1421,11.1421,11.1421,11.1421,11.1421,11.1421,11.1421,11.1421,11.1421,11.1421,11.1421],\"marker\":{\"color\":\"#19d3f3\",\"size\":[2.0,2.0,0.0,0.0,0.0,0.0,0.0,0.0,0.0,0.0,0.0,0.0,1.0,0.0],\"sizemode\":\"area\",\"sizeref\":0.5475},\"mode\":\"markers\",\"name\":\"Weilheim\",\"showlegend\":true,\"subplot\":\"mapbox\",\"type\":\"scattermapbox\"},{\"hovertemplate\":\"city=Zusmarshausen<br>deaths=%{marker.size}<br>lat=%{lat}<br>lon=%{lon}<extra></extra>\",\"lat\":[48.3983,48.3983],\"legendgroup\":\"Zusmarshausen\",\"lon\":[10.5995,10.5995],\"marker\":{\"color\":\"#FF6692\",\"size\":[2.0,3.0],\"sizemode\":\"area\",\"sizeref\":0.5475},\"mode\":\"markers\",\"name\":\"Zusmarshausen\",\"showlegend\":true,\"subplot\":\"mapbox\",\"type\":\"scattermapbox\"},{\"hovertemplate\":\"city=Marktoberdorf<br>deaths=%{marker.size}<br>lat=%{lat}<br>lon=%{lon}<extra></extra>\",\"lat\":[47.7785,47.7785,47.7785],\"legendgroup\":\"Marktoberdorf\",\"lon\":[10.6158,10.6158,10.6158],\"marker\":{\"color\":\"#B6E880\",\"size\":[68.0,27.0,14.0],\"sizemode\":\"area\",\"sizeref\":0.5475},\"mode\":\"markers\",\"name\":\"Marktoberdorf\",\"showlegend\":true,\"subplot\":\"mapbox\",\"type\":\"scattermapbox\"},{\"hovertemplate\":\"city=Osterzell<br>deaths=%{marker.size}<br>lat=%{lat}<br>lon=%{lon}<extra></extra>\",\"lat\":[47.8779],\"legendgroup\":\"Osterzell\",\"lon\":[10.7446],\"marker\":{\"color\":\"#FF97FF\",\"size\":[9.0],\"sizemode\":\"area\",\"sizeref\":0.5475},\"mode\":\"markers\",\"name\":\"Osterzell\",\"showlegend\":true,\"subplot\":\"mapbox\",\"type\":\"scattermapbox\"},{\"hovertemplate\":\"city=Donauworth<br>deaths=%{marker.size}<br>lat=%{lat}<br>lon=%{lon}<extra></extra>\",\"lat\":[48.7186,48.7186,48.7186,48.7186,48.7186,48.7186,48.7186,48.7186,48.7186,48.7186,48.7186,48.7186,48.7186,48.7186],\"legendgroup\":\"Donauworth\",\"lon\":[10.7778,10.7778,10.7778,10.7778,10.7778,10.7778,10.7778,10.7778,10.7778,10.7778,10.7778,10.7778,10.7778,10.7778],\"marker\":{\"color\":\"#FECB52\",\"size\":[2.0,1.0,1.0,2.0,2.0,2.0,0.0,1.0,0.0,0.0,1.0,1.0,1.0,1.0],\"sizemode\":\"area\",\"sizeref\":0.5475},\"mode\":\"markers\",\"name\":\"Donauworth\",\"showlegend\":true,\"subplot\":\"mapbox\",\"type\":\"scattermapbox\"},{\"hovertemplate\":\"city=Nordlingen<br>deaths=%{marker.size}<br>lat=%{lat}<br>lon=%{lon}<extra></extra>\",\"lat\":[48.8508,48.8508,48.8508,48.8508,48.8508157,48.8508],\"legendgroup\":\"Nordlingen\",\"lon\":[10.4895,10.4895,10.4895,10.4895,10.4894906,10.4895],\"marker\":{\"color\":\"#636efa\",\"size\":[36.0,14.0,2.0,2.0,0.0,35.0],\"sizemode\":\"area\",\"sizeref\":0.5475},\"mode\":\"markers\",\"name\":\"Nordlingen\",\"showlegend\":true,\"subplot\":\"mapbox\",\"type\":\"scattermapbox\"},{\"hovertemplate\":\"city=Kellmunz<br>deaths=%{marker.size}<br>lat=%{lat}<br>lon=%{lon}<extra></extra>\",\"lat\":[48.1225],\"legendgroup\":\"Kellmunz\",\"lon\":[10.1271],\"marker\":{\"color\":\"#EF553B\",\"size\":[5.0],\"sizemode\":\"area\",\"sizeref\":0.5475},\"mode\":\"markers\",\"name\":\"Kellmunz\",\"showlegend\":true,\"subplot\":\"mapbox\",\"type\":\"scattermapbox\"},{\"hovertemplate\":\"city=Unterfohring<br>deaths=%{marker.size}<br>lat=%{lat}<br>lon=%{lon}<extra></extra>\",\"lat\":[48.1917],\"legendgroup\":\"Unterfohring\",\"lon\":[11.646],\"marker\":{\"color\":\"#00cc96\",\"size\":[4.0],\"sizemode\":\"area\",\"sizeref\":0.5475},\"mode\":\"markers\",\"name\":\"Unterfohring\",\"showlegend\":true,\"subplot\":\"mapbox\",\"type\":\"scattermapbox\"},{\"hovertemplate\":\"city=Grossaitingen<br>deaths=%{marker.size}<br>lat=%{lat}<br>lon=%{lon}<extra></extra>\",\"lat\":[48.2281],\"legendgroup\":\"Grossaitingen\",\"lon\":[10.7777],\"marker\":{\"color\":\"#ab63fa\",\"size\":[1.0],\"sizemode\":\"area\",\"sizeref\":0.5475},\"mode\":\"markers\",\"name\":\"Grossaitingen\",\"showlegend\":true,\"subplot\":\"mapbox\",\"type\":\"scattermapbox\"},{\"hovertemplate\":\"city=Kaufbeuren<br>deaths=%{marker.size}<br>lat=%{lat}<br>lon=%{lon}<extra></extra>\",\"lat\":[47.883],\"legendgroup\":\"Kaufbeuren\",\"lon\":[10.626],\"marker\":{\"color\":\"#FFA15A\",\"size\":[13.0],\"sizemode\":\"area\",\"sizeref\":0.5475},\"mode\":\"markers\",\"name\":\"Kaufbeuren\",\"showlegend\":true,\"subplot\":\"mapbox\",\"type\":\"scattermapbox\"},{\"hovertemplate\":\"city=Durrwangen<br>deaths=%{marker.size}<br>lat=%{lat}<br>lon=%{lon}<extra></extra>\",\"lat\":[49.1075],\"legendgroup\":\"Durrwangen\",\"lon\":[10.385],\"marker\":{\"color\":\"#19d3f3\",\"size\":[2.0],\"sizemode\":\"area\",\"sizeref\":0.5475},\"mode\":\"markers\",\"name\":\"Durrwangen\",\"showlegend\":true,\"subplot\":\"mapbox\",\"type\":\"scattermapbox\"},{\"hovertemplate\":\"city=Nesselwang<br>deaths=%{marker.size}<br>lat=%{lat}<br>lon=%{lon}<extra></extra>\",\"lat\":[47.6233],\"legendgroup\":\"Nesselwang\",\"lon\":[10.5037],\"marker\":{\"color\":\"#FF6692\",\"size\":[1.0],\"sizemode\":\"area\",\"sizeref\":0.5475},\"mode\":\"markers\",\"name\":\"Nesselwang\",\"showlegend\":true,\"subplot\":\"mapbox\",\"type\":\"scattermapbox\"},{\"hovertemplate\":\"city=Dinkelscherben<br>deaths=%{marker.size}<br>lat=%{lat}<br>lon=%{lon}<extra></extra>\",\"lat\":[48.3476],\"legendgroup\":\"Dinkelscherben\",\"lon\":[10.5898],\"marker\":{\"color\":\"#B6E880\",\"size\":[1.0],\"sizemode\":\"area\",\"sizeref\":0.5475},\"mode\":\"markers\",\"name\":\"Dinkelscherben\",\"showlegend\":true,\"subplot\":\"mapbox\",\"type\":\"scattermapbox\"},{\"hovertemplate\":\"city=Abensberg<br>deaths=%{marker.size}<br>lat=%{lat}<br>lon=%{lon}<extra></extra>\",\"lat\":[48.8177,48.8177,48.8177,48.8177,48.8177],\"legendgroup\":\"Abensberg\",\"lon\":[11.8508,11.8508,11.8508,11.8508,11.8508],\"marker\":{\"color\":\"#FF97FF\",\"size\":[1.0,0.0,0.0,0.0,0.0],\"sizemode\":\"area\",\"sizeref\":0.5475},\"mode\":\"markers\",\"name\":\"Abensberg\",\"showlegend\":true,\"subplot\":\"mapbox\",\"type\":\"scattermapbox\"},{\"hovertemplate\":\"city=Landshut<br>deaths=%{marker.size}<br>lat=%{lat}<br>lon=%{lon}<extra></extra>\",\"lat\":[48.5442,48.5442,48.5442,48.5442,48.5442,48.5442,48.5442,48.5442,48.544192],\"legendgroup\":\"Landshut\",\"lon\":[12.1469,12.1469,12.1469,12.1469,12.1469,12.1469,12.1469,12.1469,12.146853],\"marker\":{\"color\":\"#FECB52\",\"size\":[2.0,1.0,1.0,0.0,2.0,1.0,1.0,1.0,0.0],\"sizemode\":\"area\",\"sizeref\":0.5475},\"mode\":\"markers\",\"name\":\"Landshut\",\"showlegend\":true,\"subplot\":\"mapbox\",\"type\":\"scattermapbox\"},{\"hovertemplate\":\"city=Wemding<br>deaths=%{marker.size}<br>lat=%{lat}<br>lon=%{lon}<extra></extra>\",\"lat\":[48.8722,48.8722,48.8722,48.8722,48.8722,48.8722,48.8722,48.8722],\"legendgroup\":\"Wemding\",\"lon\":[10.7223,10.7223,10.7223,10.7223,10.7223,10.7223,10.7223,10.7223],\"marker\":{\"color\":\"#636efa\",\"size\":[10.0,2.0,1.0,40.0,29.0,2.0,0.0,0.0],\"sizemode\":\"area\",\"sizeref\":0.5475},\"mode\":\"markers\",\"name\":\"Wemding\",\"showlegend\":true,\"subplot\":\"mapbox\",\"type\":\"scattermapbox\"},{\"hovertemplate\":\"city=Thannhausen<br>deaths=%{marker.size}<br>lat=%{lat}<br>lon=%{lon}<extra></extra>\",\"lat\":[48.2814,48.2814,48.2814,48.2814,48.2814,48.2814,48.2814,48.2814,48.2814,48.2814,48.2814,48.2814,48.2814,48.2814,48.2814,48.2814,48.2814,48.2814],\"legendgroup\":\"Thannhausen\",\"lon\":[10.4675,10.4675,10.4675,10.4675,10.4675,10.4675,10.4675,10.4675,10.4675,10.4675,10.4675,10.4675,10.4675,10.4675,10.4675,10.4675,10.4675,10.4675],\"marker\":{\"color\":\"#EF553B\",\"size\":[0.0,0.0,1.0,0.0,0.0,0.0,0.0,0.0,0.0,0.0,0.0,0.0,0.0,1.0,0.0,0.0,0.0,0.0],\"sizemode\":\"area\",\"sizeref\":0.5475},\"mode\":\"markers\",\"name\":\"Thannhausen\",\"showlegend\":true,\"subplot\":\"mapbox\",\"type\":\"scattermapbox\"},{\"hovertemplate\":\"city=Traunstein<br>deaths=%{marker.size}<br>lat=%{lat}<br>lon=%{lon}<extra></extra>\",\"lat\":[47.8678,47.8678,47.8678,47.8678,47.8678,47.8678],\"legendgroup\":\"Traunstein\",\"lon\":[12.6384,12.6384,12.6384,12.6384,12.6384,12.6384],\"marker\":{\"color\":\"#00cc96\",\"size\":[0.0,0.0,0.0,0.0,0.0,0.0],\"sizemode\":\"area\",\"sizeref\":0.5475},\"mode\":\"markers\",\"name\":\"Traunstein\",\"showlegend\":true,\"subplot\":\"mapbox\",\"type\":\"scattermapbox\"},{\"hovertemplate\":\"city=Hemau<br>deaths=%{marker.size}<br>lat=%{lat}<br>lon=%{lon}<extra></extra>\",\"lat\":[49.0534,49.0534,49.0534,49.0534,49.0534],\"legendgroup\":\"Hemau\",\"lon\":[11.7833,11.7833,11.7833,11.7833,11.7833],\"marker\":{\"color\":\"#ab63fa\",\"size\":[1.0,6.0,1.0,5.0,2.0],\"sizemode\":\"area\",\"sizeref\":0.5475},\"mode\":\"markers\",\"name\":\"Hemau\",\"showlegend\":true,\"subplot\":\"mapbox\",\"type\":\"scattermapbox\"},{\"hovertemplate\":\"city=Pfronten<br>deaths=%{marker.size}<br>lat=%{lat}<br>lon=%{lon}<extra></extra>\",\"lat\":[47.5833,47.5833],\"legendgroup\":\"Pfronten\",\"lon\":[10.55,10.55],\"marker\":{\"color\":\"#FFA15A\",\"size\":[1.0,1.0],\"sizemode\":\"area\",\"sizeref\":0.5475},\"mode\":\"markers\",\"name\":\"Pfronten\",\"showlegend\":true,\"subplot\":\"mapbox\",\"type\":\"scattermapbox\"},{\"hovertemplate\":\"city=Salzweg<br>deaths=%{marker.size}<br>lat=%{lat}<br>lon=%{lon}<extra></extra>\",\"lat\":[48.6148],\"legendgroup\":\"Salzweg\",\"lon\":[13.4851],\"marker\":{\"color\":\"#19d3f3\",\"size\":[20.0],\"sizemode\":\"area\",\"sizeref\":0.5475},\"mode\":\"markers\",\"name\":\"Salzweg\",\"showlegend\":true,\"subplot\":\"mapbox\",\"type\":\"scattermapbox\"},{\"hovertemplate\":\"city=Bad Tolz<br>deaths=%{marker.size}<br>lat=%{lat}<br>lon=%{lon}<extra></extra>\",\"lat\":[47.7615,47.7615,47.7615,47.7615],\"legendgroup\":\"Bad Tolz\",\"lon\":[11.5652,11.5652,11.5652,11.5652],\"marker\":{\"color\":\"#FF6692\",\"size\":[1.0,0.0,0.0,0.0],\"sizemode\":\"area\",\"sizeref\":0.5475},\"mode\":\"markers\",\"name\":\"Bad Tolz\",\"showlegend\":true,\"subplot\":\"mapbox\",\"type\":\"scattermapbox\"},{\"hovertemplate\":\"city=Laaber<br>deaths=%{marker.size}<br>lat=%{lat}<br>lon=%{lon}<extra></extra>\",\"lat\":[49.0683],\"legendgroup\":\"Laaber\",\"lon\":[11.8831],\"marker\":{\"color\":\"#B6E880\",\"size\":[1.0],\"sizemode\":\"area\",\"sizeref\":0.5475},\"mode\":\"markers\",\"name\":\"Laaber\",\"showlegend\":true,\"subplot\":\"mapbox\",\"type\":\"scattermapbox\"},{\"hovertemplate\":\"city=Wengen<br>deaths=%{marker.size}<br>lat=%{lat}<br>lon=%{lon}<extra></extra>\",\"lat\":[47.6764,47.6764,47.6764],\"legendgroup\":\"Wengen\",\"lon\":[10.1466,10.1466,10.1466],\"marker\":{\"color\":\"#FF97FF\",\"size\":[4.0,5.0,2.0],\"sizemode\":\"area\",\"sizeref\":0.5475},\"mode\":\"markers\",\"name\":\"Wengen\",\"showlegend\":true,\"subplot\":\"mapbox\",\"type\":\"scattermapbox\"},{\"hovertemplate\":\"city=Zwiesel<br>deaths=%{marker.size}<br>lat=%{lat}<br>lon=%{lon}<extra></extra>\",\"lat\":[49.0178,49.0178],\"legendgroup\":\"Zwiesel\",\"lon\":[13.2379,13.2379],\"marker\":{\"color\":\"#FECB52\",\"size\":[1.0,1.0],\"sizemode\":\"area\",\"sizeref\":0.5475},\"mode\":\"markers\",\"name\":\"Zwiesel\",\"showlegend\":true,\"subplot\":\"mapbox\",\"type\":\"scattermapbox\"},{\"hovertemplate\":\"city=Mainburg<br>deaths=%{marker.size}<br>lat=%{lat}<br>lon=%{lon}<extra></extra>\",\"lat\":[48.6431,48.6431,48.6431],\"legendgroup\":\"Mainburg\",\"lon\":[11.7817,11.7817,11.7817],\"marker\":{\"color\":\"#636efa\",\"size\":[0.0,0.0,0.0],\"sizemode\":\"area\",\"sizeref\":0.5475},\"mode\":\"markers\",\"name\":\"Mainburg\",\"showlegend\":true,\"subplot\":\"mapbox\",\"type\":\"scattermapbox\"},{\"hovertemplate\":\"city=Riedenburg<br>deaths=%{marker.size}<br>lat=%{lat}<br>lon=%{lon}<extra></extra>\",\"lat\":[48.9637,48.9637,48.9637,48.9637],\"legendgroup\":\"Riedenburg\",\"lon\":[11.6918,11.6918,11.6918,11.6918],\"marker\":{\"color\":\"#EF553B\",\"size\":[0.0,0.0,0.0,0.0],\"sizemode\":\"area\",\"sizeref\":0.5475},\"mode\":\"markers\",\"name\":\"Riedenburg\",\"showlegend\":true,\"subplot\":\"mapbox\",\"type\":\"scattermapbox\"},{\"hovertemplate\":\"city=Bad Aibling<br>deaths=%{marker.size}<br>lat=%{lat}<br>lon=%{lon}<extra></extra>\",\"lat\":[47.864,47.864,47.864,47.864,47.864,47.864],\"legendgroup\":\"Bad Aibling\",\"lon\":[12.0093,12.0093,12.0093,12.0093,12.0093,12.0093],\"marker\":{\"color\":\"#00cc96\",\"size\":[0.0,0.0,0.0,0.0,0.0,1.0],\"sizemode\":\"area\",\"sizeref\":0.5475},\"mode\":\"markers\",\"name\":\"Bad Aibling\",\"showlegend\":true,\"subplot\":\"mapbox\",\"type\":\"scattermapbox\"},{\"hovertemplate\":\"city=Dachau<br>deaths=%{marker.size}<br>lat=%{lat}<br>lon=%{lon}<extra></extra>\",\"lat\":[48.263,48.263,48.263,48.263,48.263,48.263,48.263,48.263,48.263],\"legendgroup\":\"Dachau\",\"lon\":[11.4339,11.4339,11.4339,11.4339,11.4339,11.4339,11.4339,11.4339,11.4339],\"marker\":{\"color\":\"#ab63fa\",\"size\":[0.0,0.0,0.0,1.0,0.0,0.0,0.0,0.0,1.0],\"sizemode\":\"area\",\"sizeref\":0.5475},\"mode\":\"markers\",\"name\":\"Dachau\",\"showlegend\":true,\"subplot\":\"mapbox\",\"type\":\"scattermapbox\"},{\"hovertemplate\":\"city=Deggendorf<br>deaths=%{marker.size}<br>lat=%{lat}<br>lon=%{lon}<extra></extra>\",\"lat\":[48.8409,48.8409],\"legendgroup\":\"Deggendorf\",\"lon\":[12.9575,12.9575],\"marker\":{\"color\":\"#FFA15A\",\"size\":[6.0,0.0],\"sizemode\":\"area\",\"sizeref\":0.5475},\"mode\":\"markers\",\"name\":\"Deggendorf\",\"showlegend\":true,\"subplot\":\"mapbox\",\"type\":\"scattermapbox\"},{\"hovertemplate\":\"city=Wasserburg am Bodensee<br>deaths=%{marker.size}<br>lat=%{lat}<br>lon=%{lon}<extra></extra>\",\"lat\":[47.5786,47.5786,47.5786,47.5786,47.5786,47.5786],\"legendgroup\":\"Wasserburg am Bodensee\",\"lon\":[9.6351,9.6351,9.6351,9.6351,9.6351,9.6351],\"marker\":{\"color\":\"#19d3f3\",\"size\":[1.0,15.0,3.0,3.0,2.0,1.0],\"sizemode\":\"area\",\"sizeref\":0.5475},\"mode\":\"markers\",\"name\":\"Wasserburg am Bodensee\",\"showlegend\":true,\"subplot\":\"mapbox\",\"type\":\"scattermapbox\"},{\"hovertemplate\":\"city=Reichertshofen<br>deaths=%{marker.size}<br>lat=%{lat}<br>lon=%{lon}<extra></extra>\",\"lat\":[48.657,48.657,48.657,48.657],\"legendgroup\":\"Reichertshofen\",\"lon\":[11.4678,11.4678,11.4678,11.4678],\"marker\":{\"color\":\"#FF6692\",\"size\":[51.0,23.0,18.0,1.0],\"sizemode\":\"area\",\"sizeref\":0.5475},\"mode\":\"markers\",\"name\":\"Reichertshofen\",\"showlegend\":true,\"subplot\":\"mapbox\",\"type\":\"scattermapbox\"},{\"hovertemplate\":\"city=Mindelheim<br>deaths=%{marker.size}<br>lat=%{lat}<br>lon=%{lon}<extra></extra>\",\"lat\":[48.0462,48.0462,48.0462],\"legendgroup\":\"Mindelheim\",\"lon\":[10.4949,10.4949,10.4949],\"marker\":{\"color\":\"#B6E880\",\"size\":[1.0,1.0,1.0],\"sizemode\":\"area\",\"sizeref\":0.5475},\"mode\":\"markers\",\"name\":\"Mindelheim\",\"showlegend\":true,\"subplot\":\"mapbox\",\"type\":\"scattermapbox\"},{\"hovertemplate\":\"city=Rosenheim<br>deaths=%{marker.size}<br>lat=%{lat}<br>lon=%{lon}<extra></extra>\",\"lat\":[47.8571,47.8571,47.8571,47.8571,47.8571,47.8571],\"legendgroup\":\"Rosenheim\",\"lon\":[12.1181,12.1181,12.1181,12.1181,12.1181,12.1181],\"marker\":{\"color\":\"#FF97FF\",\"size\":[1.0,0.0,0.0,0.0,0.0,0.0],\"sizemode\":\"area\",\"sizeref\":0.5475},\"mode\":\"markers\",\"name\":\"Rosenheim\",\"showlegend\":true,\"subplot\":\"mapbox\",\"type\":\"scattermapbox\"},{\"hovertemplate\":\"city=Schrobenhausen<br>deaths=%{marker.size}<br>lat=%{lat}<br>lon=%{lon}<extra></extra>\",\"lat\":[48.5626,48.5626,48.5626,48.5626,48.5626,48.5626],\"legendgroup\":\"Schrobenhausen\",\"lon\":[11.2631,11.2631,11.2631,11.2631,11.2631,11.2631],\"marker\":{\"color\":\"#FECB52\",\"size\":[0.0,0.0,0.0,0.0,0.0,0.0],\"sizemode\":\"area\",\"sizeref\":0.5475},\"mode\":\"markers\",\"name\":\"Schrobenhausen\",\"showlegend\":true,\"subplot\":\"mapbox\",\"type\":\"scattermapbox\"},{\"hovertemplate\":\"city=Friedberg<br>deaths=%{marker.size}<br>lat=%{lat}<br>lon=%{lon}<extra></extra>\",\"lat\":[48.356,48.356,48.356,48.356,48.356,48.356,48.356],\"legendgroup\":\"Friedberg\",\"lon\":[10.9865,10.9865,10.9865,10.9865,10.9865,10.9865,10.9865],\"marker\":{\"color\":\"#636efa\",\"size\":[0.0,0.0,0.0,0.0,0.0,0.0,0.0],\"sizemode\":\"area\",\"sizeref\":0.5475},\"mode\":\"markers\",\"name\":\"Friedberg\",\"showlegend\":true,\"subplot\":\"mapbox\",\"type\":\"scattermapbox\"},{\"hovertemplate\":\"city=Wolfratshausen<br>deaths=%{marker.size}<br>lat=%{lat}<br>lon=%{lon}<extra></extra>\",\"lat\":[47.9102,47.9102,47.9102,47.9102,47.9102,47.9102,47.9102],\"legendgroup\":\"Wolfratshausen\",\"lon\":[11.4274,11.4274,11.4274,11.4274,11.4274,11.4274,11.4274],\"marker\":{\"color\":\"#EF553B\",\"size\":[0.0,0.0,0.0,0.0,0.0,0.0,0.0],\"sizemode\":\"area\",\"sizeref\":0.5475},\"mode\":\"markers\",\"name\":\"Wolfratshausen\",\"showlegend\":true,\"subplot\":\"mapbox\",\"type\":\"scattermapbox\"},{\"hovertemplate\":\"city=Starnberg<br>deaths=%{marker.size}<br>lat=%{lat}<br>lon=%{lon}<extra></extra>\",\"lat\":[48.0,48.0,48.0,48.0,48.0,48.0],\"legendgroup\":\"Starnberg\",\"lon\":[11.339,11.339,11.339,11.339,11.339,11.339],\"marker\":{\"color\":\"#00cc96\",\"size\":[0.0,0.0,0.0,0.0,0.0,0.0],\"sizemode\":\"area\",\"sizeref\":0.5475},\"mode\":\"markers\",\"name\":\"Starnberg\",\"showlegend\":true,\"subplot\":\"mapbox\",\"type\":\"scattermapbox\"},{\"hovertemplate\":\"city=Aichach<br>deaths=%{marker.size}<br>lat=%{lat}<br>lon=%{lon}<extra></extra>\",\"lat\":[48.4577,48.4577,48.4577,48.4577,48.4577,48.4577,48.4577],\"legendgroup\":\"Aichach\",\"lon\":[11.136,11.136,11.136,11.136,11.136,11.136,11.136],\"marker\":{\"color\":\"#ab63fa\",\"size\":[0.0,0.0,0.0,0.0,0.0,0.0,0.0],\"sizemode\":\"area\",\"sizeref\":0.5475},\"mode\":\"markers\",\"name\":\"Aichach\",\"showlegend\":true,\"subplot\":\"mapbox\",\"type\":\"scattermapbox\"},{\"hovertemplate\":\"city=Neuburg an der Donau<br>deaths=%{marker.size}<br>lat=%{lat}<br>lon=%{lon}<extra></extra>\",\"lat\":[48.7303],\"legendgroup\":\"Neuburg an der Donau\",\"lon\":[11.1888],\"marker\":{\"color\":\"#FFA15A\",\"size\":[16.0],\"sizemode\":\"area\",\"sizeref\":0.5475},\"mode\":\"markers\",\"name\":\"Neuburg an der Donau\",\"showlegend\":true,\"subplot\":\"mapbox\",\"type\":\"scattermapbox\"},{\"hovertemplate\":\"city=Kranzberg<br>deaths=%{marker.size}<br>lat=%{lat}<br>lon=%{lon}<extra></extra>\",\"lat\":[48.4063,48.4063,48.4063,48.4063,48.4063,48.4063],\"legendgroup\":\"Kranzberg\",\"lon\":[11.6194,11.6194,11.6194,11.6194,11.6194,11.6194],\"marker\":{\"color\":\"#19d3f3\",\"size\":[0.0,0.0,0.0,0.0,0.0,0.0],\"sizemode\":\"area\",\"sizeref\":0.5475},\"mode\":\"markers\",\"name\":\"Kranzberg\",\"showlegend\":true,\"subplot\":\"mapbox\",\"type\":\"scattermapbox\"},{\"hovertemplate\":\"city=Marquartstein<br>deaths=%{marker.size}<br>lat=%{lat}<br>lon=%{lon}<extra></extra>\",\"lat\":[47.7614,47.7614,47.7614],\"legendgroup\":\"Marquartstein\",\"lon\":[12.4604,12.4604,12.4604],\"marker\":{\"color\":\"#FF6692\",\"size\":[0.0,0.0,0.0],\"sizemode\":\"area\",\"sizeref\":0.5475},\"mode\":\"markers\",\"name\":\"Marquartstein\",\"showlegend\":true,\"subplot\":\"mapbox\",\"type\":\"scattermapbox\"},{\"hovertemplate\":\"city=Tittmoning<br>deaths=%{marker.size}<br>lat=%{lat}<br>lon=%{lon}<extra></extra>\",\"lat\":[48.0581,48.0581],\"legendgroup\":\"Tittmoning\",\"lon\":[12.7689,12.7689],\"marker\":{\"color\":\"#B6E880\",\"size\":[1.0,1.0],\"sizemode\":\"area\",\"sizeref\":0.5475},\"mode\":\"markers\",\"name\":\"Tittmoning\",\"showlegend\":true,\"subplot\":\"mapbox\",\"type\":\"scattermapbox\"},{\"hovertemplate\":\"city=Hengersberg<br>deaths=%{marker.size}<br>lat=%{lat}<br>lon=%{lon}<extra></extra>\",\"lat\":[48.7703,48.7703],\"legendgroup\":\"Hengersberg\",\"lon\":[13.0554,13.0554],\"marker\":{\"color\":\"#FF97FF\",\"size\":[1.0,3.0],\"sizemode\":\"area\",\"sizeref\":0.5475},\"mode\":\"markers\",\"name\":\"Hengersberg\",\"showlegend\":true,\"subplot\":\"mapbox\",\"type\":\"scattermapbox\"},{\"hovertemplate\":\"city=Bad Reichenhall<br>deaths=%{marker.size}<br>lat=%{lat}<br>lon=%{lon}<extra></extra>\",\"lat\":[47.7303,47.7303,47.7303],\"legendgroup\":\"Bad Reichenhall\",\"lon\":[12.8816,12.8816,12.8816],\"marker\":{\"color\":\"#FECB52\",\"size\":[0.0,0.0,0.0],\"sizemode\":\"area\",\"sizeref\":0.5475},\"mode\":\"markers\",\"name\":\"Bad Reichenhall\",\"showlegend\":true,\"subplot\":\"mapbox\",\"type\":\"scattermapbox\"},{\"hovertemplate\":\"city=Roding<br>deaths=%{marker.size}<br>lat=%{lat}<br>lon=%{lon}<extra></extra>\",\"lat\":[49.1941,49.1941],\"legendgroup\":\"Roding\",\"lon\":[12.5223,12.5223],\"marker\":{\"color\":\"#636efa\",\"size\":[1.0,1.0],\"sizemode\":\"area\",\"sizeref\":0.5475},\"mode\":\"markers\",\"name\":\"Roding\",\"showlegend\":true,\"subplot\":\"mapbox\",\"type\":\"scattermapbox\"},{\"hovertemplate\":\"city=Monheim<br>deaths=%{marker.size}<br>lat=%{lat}<br>lon=%{lon}<extra></extra>\",\"lat\":[48.8427,48.8427],\"legendgroup\":\"Monheim\",\"lon\":[10.8537,10.8537],\"marker\":{\"color\":\"#EF553B\",\"size\":[1.0,1.0],\"sizemode\":\"area\",\"sizeref\":0.5475},\"mode\":\"markers\",\"name\":\"Monheim\",\"showlegend\":true,\"subplot\":\"mapbox\",\"type\":\"scattermapbox\"},{\"hovertemplate\":\"city=Lengdorf<br>deaths=%{marker.size}<br>lat=%{lat}<br>lon=%{lon}<extra></extra>\",\"lat\":[48.2578],\"legendgroup\":\"Lengdorf\",\"lon\":[12.0473],\"marker\":{\"color\":\"#00cc96\",\"size\":[2.0],\"sizemode\":\"area\",\"sizeref\":0.5475},\"mode\":\"markers\",\"name\":\"Lengdorf\",\"showlegend\":true,\"subplot\":\"mapbox\",\"type\":\"scattermapbox\"},{\"hovertemplate\":\"city=Amberg<br>deaths=%{marker.size}<br>lat=%{lat}<br>lon=%{lon}<extra></extra>\",\"lat\":[49.4403,49.4403,49.4403,49.4403],\"legendgroup\":\"Amberg\",\"lon\":[11.8633,11.8633,11.8633,11.8633],\"marker\":{\"color\":\"#ab63fa\",\"size\":[1.0,0.0,1.0,1.0],\"sizemode\":\"area\",\"sizeref\":0.5475},\"mode\":\"markers\",\"name\":\"Amberg\",\"showlegend\":true,\"subplot\":\"mapbox\",\"type\":\"scattermapbox\"},{\"hovertemplate\":\"city=Illerbeuren<br>deaths=%{marker.size}<br>lat=%{lat}<br>lon=%{lon}<extra></extra>\",\"lat\":[47.9016],\"legendgroup\":\"Illerbeuren\",\"lon\":[10.1267],\"marker\":{\"color\":\"#FFA15A\",\"size\":[1.0],\"sizemode\":\"area\",\"sizeref\":0.5475},\"mode\":\"markers\",\"name\":\"Illerbeuren\",\"showlegend\":true,\"subplot\":\"mapbox\",\"type\":\"scattermapbox\"},{\"hovertemplate\":\"city=Gerolfing<br>deaths=%{marker.size}<br>lat=%{lat}<br>lon=%{lon}<extra></extra>\",\"lat\":[48.7558,48.7558],\"legendgroup\":\"Gerolfing\",\"lon\":[11.3488,11.3488],\"marker\":{\"color\":\"#19d3f3\",\"size\":[0.0,0.0],\"sizemode\":\"area\",\"sizeref\":0.5475},\"mode\":\"markers\",\"name\":\"Gerolfing\",\"showlegend\":true,\"subplot\":\"mapbox\",\"type\":\"scattermapbox\"},{\"hovertemplate\":\"city=Wasserburg am Inn<br>deaths=%{marker.size}<br>lat=%{lat}<br>lon=%{lon}<extra></extra>\",\"lat\":[48.0527,48.0527,48.0527],\"legendgroup\":\"Wasserburg am Inn\",\"lon\":[12.2245,12.2245,12.2245],\"marker\":{\"color\":\"#FF6692\",\"size\":[1.0,0.0,0.0],\"sizemode\":\"area\",\"sizeref\":0.5475},\"mode\":\"markers\",\"name\":\"Wasserburg am Inn\",\"showlegend\":true,\"subplot\":\"mapbox\",\"type\":\"scattermapbox\"},{\"hovertemplate\":\"city=Martinszell<br>deaths=%{marker.size}<br>lat=%{lat}<br>lon=%{lon}<extra></extra>\",\"lat\":[47.6257],\"legendgroup\":\"Martinszell\",\"lon\":[10.2804],\"marker\":{\"color\":\"#B6E880\",\"size\":[1.0],\"sizemode\":\"area\",\"sizeref\":0.5475},\"mode\":\"markers\",\"name\":\"Martinszell\",\"showlegend\":true,\"subplot\":\"mapbox\",\"type\":\"scattermapbox\"},{\"hovertemplate\":\"city=Neustadt an der Donau<br>deaths=%{marker.size}<br>lat=%{lat}<br>lon=%{lon}<extra></extra>\",\"lat\":[48.803,48.803],\"legendgroup\":\"Neustadt an der Donau\",\"lon\":[11.7671,11.7671],\"marker\":{\"color\":\"#FF97FF\",\"size\":[5.0,0.0],\"sizemode\":\"area\",\"sizeref\":0.5475},\"mode\":\"markers\",\"name\":\"Neustadt an der Donau\",\"showlegend\":true,\"subplot\":\"mapbox\",\"type\":\"scattermapbox\"},{\"hovertemplate\":\"city=Laufen<br>deaths=%{marker.size}<br>lat=%{lat}<br>lon=%{lon}<extra></extra>\",\"lat\":[47.9347],\"legendgroup\":\"Laufen\",\"lon\":[12.9301],\"marker\":{\"color\":\"#FECB52\",\"size\":[6.0],\"sizemode\":\"area\",\"sizeref\":0.5475},\"mode\":\"markers\",\"name\":\"Laufen\",\"showlegend\":true,\"subplot\":\"mapbox\",\"type\":\"scattermapbox\"},{\"hovertemplate\":\"city=Mitterfels<br>deaths=%{marker.size}<br>lat=%{lat}<br>lon=%{lon}<extra></extra>\",\"lat\":[48.976,48.976,48.976,48.976,48.976,48.976,48.976,48.976,48.976,48.976,48.976,48.976,48.976,48.976,48.976,48.976,48.976,48.976,48.976,48.976,48.976,48.976,48.976,48.976,48.976,48.976,48.976,48.976],\"legendgroup\":\"Mitterfels\",\"lon\":[12.6804,12.6804,12.6804,12.6804,12.6804,12.6804,12.6804,12.6804,12.6804,12.6804,12.6804,12.6804,12.6804,12.6804,12.6804,12.6804,12.6804,12.6804,12.6804,12.6804,12.6804,12.6804,12.6804,12.6804,12.6804,12.6804,12.6804,12.6804],\"marker\":{\"color\":\"#636efa\",\"size\":[0.0,1.0,0.0,0.0,3.0,0.0,0.0,0.0,0.0,0.0,1.0,1.0,3.0,3.0,0.0,0.0,0.0,0.0,0.0,0.0,1.0,0.0,1.0,1.0,0.0,0.0,0.0,0.0],\"sizemode\":\"area\",\"sizeref\":0.5475},\"mode\":\"markers\",\"name\":\"Mitterfels\",\"showlegend\":true,\"subplot\":\"mapbox\",\"type\":\"scattermapbox\"},{\"hovertemplate\":\"city=Landsberg am Lech<br>deaths=%{marker.size}<br>lat=%{lat}<br>lon=%{lon}<extra></extra>\",\"lat\":[48.0508,48.0508,48.0508,48.0508,48.0508],\"legendgroup\":\"Landsberg am Lech\",\"lon\":[10.8704,10.8704,10.8704,10.8704,10.8704],\"marker\":{\"color\":\"#EF553B\",\"size\":[1.0,0.0,0.0,0.0,0.0],\"sizemode\":\"area\",\"sizeref\":0.5475},\"mode\":\"markers\",\"name\":\"Landsberg am Lech\",\"showlegend\":true,\"subplot\":\"mapbox\",\"type\":\"scattermapbox\"},{\"hovertemplate\":\"city=Mering<br>deaths=%{marker.size}<br>lat=%{lat}<br>lon=%{lon}<extra></extra>\",\"lat\":[48.2654,48.2654,48.2654],\"legendgroup\":\"Mering\",\"lon\":[10.9861,10.9861,10.9861],\"marker\":{\"color\":\"#00cc96\",\"size\":[0.0,0.0,0.0],\"sizemode\":\"area\",\"sizeref\":0.5475},\"mode\":\"markers\",\"name\":\"Mering\",\"showlegend\":true,\"subplot\":\"mapbox\",\"type\":\"scattermapbox\"},{\"hovertemplate\":\"city=Dingolfing<br>deaths=%{marker.size}<br>lat=%{lat}<br>lon=%{lon}<extra></extra>\",\"lat\":[48.6435,48.6435,48.6435],\"legendgroup\":\"Dingolfing\",\"lon\":[12.4852,12.4852,12.4852],\"marker\":{\"color\":\"#ab63fa\",\"size\":[0.0,1.0,1.0],\"sizemode\":\"area\",\"sizeref\":0.5475},\"mode\":\"markers\",\"name\":\"Dingolfing\",\"showlegend\":true,\"subplot\":\"mapbox\",\"type\":\"scattermapbox\"},{\"hovertemplate\":\"city=Berchtesgaden<br>deaths=%{marker.size}<br>lat=%{lat}<br>lon=%{lon}<extra></extra>\",\"lat\":[47.6302],\"legendgroup\":\"Berchtesgaden\",\"lon\":[13.0001],\"marker\":{\"color\":\"#FFA15A\",\"size\":[2.0],\"sizemode\":\"area\",\"sizeref\":0.5475},\"mode\":\"markers\",\"name\":\"Berchtesgaden\",\"showlegend\":true,\"subplot\":\"mapbox\",\"type\":\"scattermapbox\"},{\"hovertemplate\":\"city=Muhldorf<br>deaths=%{marker.size}<br>lat=%{lat}<br>lon=%{lon}<extra></extra>\",\"lat\":[48.2458,48.2458],\"legendgroup\":\"Muhldorf\",\"lon\":[12.522,12.522],\"marker\":{\"color\":\"#19d3f3\",\"size\":[1.0,1.0],\"sizemode\":\"area\",\"sizeref\":0.5475},\"mode\":\"markers\",\"name\":\"Muhldorf\",\"showlegend\":true,\"subplot\":\"mapbox\",\"type\":\"scattermapbox\"},{\"hovertemplate\":\"city=Burghausen<br>deaths=%{marker.size}<br>lat=%{lat}<br>lon=%{lon}<extra></extra>\",\"lat\":[48.1726,48.1726,48.1726,48.1726,48.1726,48.1726,48.1726,48.1726,48.1726,48.1726,48.1726,48.1726],\"legendgroup\":\"Burghausen\",\"lon\":[12.8311,12.8311,12.8311,12.8311,12.8311,12.8311,12.8311,12.8311,12.8311,12.8311,12.8311,12.8311],\"marker\":{\"color\":\"#FF6692\",\"size\":[5.0,1.0,1.0,3.0,2.0,0.0,2.0,1.0,1.0,1.0,1.0,0.0],\"sizemode\":\"area\",\"sizeref\":0.5475},\"mode\":\"markers\",\"name\":\"Burghausen\",\"showlegend\":true,\"subplot\":\"mapbox\",\"type\":\"scattermapbox\"},{\"hovertemplate\":\"city=Hilpoltstein<br>deaths=%{marker.size}<br>lat=%{lat}<br>lon=%{lon}<extra></extra>\",\"lat\":[49.1891],\"legendgroup\":\"Hilpoltstein\",\"lon\":[11.1886],\"marker\":{\"color\":\"#B6E880\",\"size\":[1.0],\"sizemode\":\"area\",\"sizeref\":0.5475},\"mode\":\"markers\",\"name\":\"Hilpoltstein\",\"showlegend\":true,\"subplot\":\"mapbox\",\"type\":\"scattermapbox\"},{\"hovertemplate\":\"city=Moosburg<br>deaths=%{marker.size}<br>lat=%{lat}<br>lon=%{lon}<extra></extra>\",\"lat\":[48.4702,48.4702,48.4702],\"legendgroup\":\"Moosburg\",\"lon\":[11.9359,11.9359,11.9359],\"marker\":{\"color\":\"#FF97FF\",\"size\":[1.0,1.0,1.0],\"sizemode\":\"area\",\"sizeref\":0.5475},\"mode\":\"markers\",\"name\":\"Moosburg\",\"showlegend\":true,\"subplot\":\"mapbox\",\"type\":\"scattermapbox\"},{\"hovertemplate\":\"city=Kirchberg<br>deaths=%{marker.size}<br>lat=%{lat}<br>lon=%{lon}<extra></extra>\",\"lat\":[48.8982],\"legendgroup\":\"Kirchberg\",\"lon\":[13.1822],\"marker\":{\"color\":\"#FECB52\",\"size\":[0.0],\"sizemode\":\"area\",\"sizeref\":0.5475},\"mode\":\"markers\",\"name\":\"Kirchberg\",\"showlegend\":true,\"subplot\":\"mapbox\",\"type\":\"scattermapbox\"},{\"hovertemplate\":\"city=Turkheim<br>deaths=%{marker.size}<br>lat=%{lat}<br>lon=%{lon}<extra></extra>\",\"lat\":[48.0616],\"legendgroup\":\"Turkheim\",\"lon\":[10.6428],\"marker\":{\"color\":\"#636efa\",\"size\":[0.0],\"sizemode\":\"area\",\"sizeref\":0.5475},\"mode\":\"markers\",\"name\":\"Turkheim\",\"showlegend\":true,\"subplot\":\"mapbox\",\"type\":\"scattermapbox\"},{\"hovertemplate\":\"city=Neuotting<br>deaths=%{marker.size}<br>lat=%{lat}<br>lon=%{lon}<extra></extra>\",\"lat\":[48.2413],\"legendgroup\":\"Neuotting\",\"lon\":[12.6896],\"marker\":{\"color\":\"#EF553B\",\"size\":[0.0],\"sizemode\":\"area\",\"sizeref\":0.5475},\"mode\":\"markers\",\"name\":\"Neuotting\",\"showlegend\":true,\"subplot\":\"mapbox\",\"type\":\"scattermapbox\"},{\"hovertemplate\":\"city=Haag in Oberbayern<br>deaths=%{marker.size}<br>lat=%{lat}<br>lon=%{lon}<extra></extra>\",\"lat\":[48.1619,48.1619],\"legendgroup\":\"Haag in Oberbayern\",\"lon\":[12.1795,12.1795],\"marker\":{\"color\":\"#00cc96\",\"size\":[0.0,0.0],\"sizemode\":\"area\",\"sizeref\":0.5475},\"mode\":\"markers\",\"name\":\"Haag in Oberbayern\",\"showlegend\":true,\"subplot\":\"mapbox\",\"type\":\"scattermapbox\"},{\"hovertemplate\":\"city=Fursteneck<br>deaths=%{marker.size}<br>lat=%{lat}<br>lon=%{lon}<extra></extra>\",\"lat\":[48.7215],\"legendgroup\":\"Fursteneck\",\"lon\":[13.4622],\"marker\":{\"color\":\"#ab63fa\",\"size\":[1.0],\"sizemode\":\"area\",\"sizeref\":0.5475},\"mode\":\"markers\",\"name\":\"Fursteneck\",\"showlegend\":true,\"subplot\":\"mapbox\",\"type\":\"scattermapbox\"},{\"hovertemplate\":\"city=Kelheim<br>deaths=%{marker.size}<br>lat=%{lat}<br>lon=%{lon}<extra></extra>\",\"lat\":[48.9184,48.9184],\"legendgroup\":\"Kelheim\",\"lon\":[11.8866,11.8866],\"marker\":{\"color\":\"#FFA15A\",\"size\":[1.0,0.0],\"sizemode\":\"area\",\"sizeref\":0.5475},\"mode\":\"markers\",\"name\":\"Kelheim\",\"showlegend\":true,\"subplot\":\"mapbox\",\"type\":\"scattermapbox\"},{\"hovertemplate\":\"city=Barnstein<br>deaths=%{marker.size}<br>lat=%{lat}<br>lon=%{lon}<extra></extra>\",\"lat\":[47.7059],\"legendgroup\":\"Barnstein\",\"lon\":[10.5355],\"marker\":{\"color\":\"#19d3f3\",\"size\":[1.0],\"sizemode\":\"area\",\"sizeref\":0.5475},\"mode\":\"markers\",\"name\":\"Barnstein\",\"showlegend\":true,\"subplot\":\"mapbox\",\"type\":\"scattermapbox\"},{\"hovertemplate\":\"city=Vilsbiburg<br>deaths=%{marker.size}<br>lat=%{lat}<br>lon=%{lon}<extra></extra>\",\"lat\":[48.4509],\"legendgroup\":\"Vilsbiburg\",\"lon\":[12.3526],\"marker\":{\"color\":\"#FF6692\",\"size\":[1.0],\"sizemode\":\"area\",\"sizeref\":0.5475},\"mode\":\"markers\",\"name\":\"Vilsbiburg\",\"showlegend\":true,\"subplot\":\"mapbox\",\"type\":\"scattermapbox\"},{\"hovertemplate\":\"city=Bogen<br>deaths=%{marker.size}<br>lat=%{lat}<br>lon=%{lon}<extra></extra>\",\"lat\":[48.9128],\"legendgroup\":\"Bogen\",\"lon\":[12.6928],\"marker\":{\"color\":\"#B6E880\",\"size\":[1.0],\"sizemode\":\"area\",\"sizeref\":0.5475},\"mode\":\"markers\",\"name\":\"Bogen\",\"showlegend\":true,\"subplot\":\"mapbox\",\"type\":\"scattermapbox\"},{\"hovertemplate\":\"city=Kempten<br>deaths=%{marker.size}<br>lat=%{lat}<br>lon=%{lon}<extra></extra>\",\"lat\":[47.7286,47.7286,47.7286,47.72857],\"legendgroup\":\"Kempten\",\"lon\":[10.3158,10.3158,10.3158,10.315783],\"marker\":{\"color\":\"#FF97FF\",\"size\":[1.0,1.0,1.0,0.0],\"sizemode\":\"area\",\"sizeref\":0.5475},\"mode\":\"markers\",\"name\":\"Kempten\",\"showlegend\":true,\"subplot\":\"mapbox\",\"type\":\"scattermapbox\"},{\"hovertemplate\":\"city=Obergunzburg<br>deaths=%{marker.size}<br>lat=%{lat}<br>lon=%{lon}<extra></extra>\",\"lat\":[47.8462],\"legendgroup\":\"Obergunzburg\",\"lon\":[10.4206],\"marker\":{\"color\":\"#FECB52\",\"size\":[1.0],\"sizemode\":\"area\",\"sizeref\":0.5475},\"mode\":\"markers\",\"name\":\"Obergunzburg\",\"showlegend\":true,\"subplot\":\"mapbox\",\"type\":\"scattermapbox\"},{\"hovertemplate\":\"city=Erding<br>deaths=%{marker.size}<br>lat=%{lat}<br>lon=%{lon}<extra></extra>\",\"lat\":[48.3115,48.3115],\"legendgroup\":\"Erding\",\"lon\":[11.9189,11.9189],\"marker\":{\"color\":\"#636efa\",\"size\":[1.0,5.0],\"sizemode\":\"area\",\"sizeref\":0.5475},\"mode\":\"markers\",\"name\":\"Erding\",\"showlegend\":true,\"subplot\":\"mapbox\",\"type\":\"scattermapbox\"},{\"hovertemplate\":\"city=Ottobeuren<br>deaths=%{marker.size}<br>lat=%{lat}<br>lon=%{lon}<extra></extra>\",\"lat\":[47.941],\"legendgroup\":\"Ottobeuren\",\"lon\":[10.3007],\"marker\":{\"color\":\"#EF553B\",\"size\":[1.0],\"sizemode\":\"area\",\"sizeref\":0.5475},\"mode\":\"markers\",\"name\":\"Ottobeuren\",\"showlegend\":true,\"subplot\":\"mapbox\",\"type\":\"scattermapbox\"},{\"hovertemplate\":\"city=Bobingen<br>deaths=%{marker.size}<br>lat=%{lat}<br>lon=%{lon}<extra></extra>\",\"lat\":[48.2697],\"legendgroup\":\"Bobingen\",\"lon\":[10.8296],\"marker\":{\"color\":\"#00cc96\",\"size\":[4.0],\"sizemode\":\"area\",\"sizeref\":0.5475},\"mode\":\"markers\",\"name\":\"Bobingen\",\"showlegend\":true,\"subplot\":\"mapbox\",\"type\":\"scattermapbox\"},{\"hovertemplate\":\"city=Buchloe<br>deaths=%{marker.size}<br>lat=%{lat}<br>lon=%{lon}<extra></extra>\",\"lat\":[48.0361],\"legendgroup\":\"Buchloe\",\"lon\":[10.7211],\"marker\":{\"color\":\"#ab63fa\",\"size\":[1.0],\"sizemode\":\"area\",\"sizeref\":0.5475},\"mode\":\"markers\",\"name\":\"Buchloe\",\"showlegend\":true,\"subplot\":\"mapbox\",\"type\":\"scattermapbox\"},{\"hovertemplate\":\"city=Braunau am Inn<br>deaths=%{marker.size}<br>lat=%{lat}<br>lon=%{lon}<extra></extra>\",\"lat\":[48.2557],\"legendgroup\":\"Braunau am Inn\",\"lon\":[13.0443],\"marker\":{\"color\":\"#FFA15A\",\"size\":[1.0],\"sizemode\":\"area\",\"sizeref\":0.5475},\"mode\":\"markers\",\"name\":\"Braunau am Inn\",\"showlegend\":true,\"subplot\":\"mapbox\",\"type\":\"scattermapbox\"},{\"hovertemplate\":\"city=Onhaye<br>deaths=%{marker.size}<br>lat=%{lat}<br>lon=%{lon}<extra></extra>\",\"lat\":[50.2415,50.2415,50.2415,50.2415,50.2415,50.2415,50.2415,50.2415,50.2415,50.2415],\"legendgroup\":\"Onhaye\",\"lon\":[4.83986,4.83986,4.83986,4.83986,4.83986,4.83986,4.83986,4.83986,4.83986,4.83986],\"marker\":{\"color\":\"#19d3f3\",\"size\":[1.0,0.0,0.0,0.0,0.0,1.0,1.0,1.0,1.0,1.0],\"sizemode\":\"area\",\"sizeref\":0.5475},\"mode\":\"markers\",\"name\":\"Onhaye\",\"showlegend\":true,\"subplot\":\"mapbox\",\"type\":\"scattermapbox\"},{\"hovertemplate\":\"city=Floreffe<br>deaths=%{marker.size}<br>lat=%{lat}<br>lon=%{lon}<extra></extra>\",\"lat\":[50.434,50.434,50.434,50.434,50.434,50.434,50.434,50.434,50.434,50.434,50.434,50.434,50.434,50.434],\"legendgroup\":\"Floreffe\",\"lon\":[4.75922,4.75922,4.75922,4.75922,4.75922,4.75922,4.75922,4.75922,4.75922,4.75922,4.75922,4.75922,4.75922,4.75922],\"marker\":{\"color\":\"#FF6692\",\"size\":[1.0,1.0,1.0,1.0,1.0,0.0,0.0,1.0,1.0,0.0,1.0,1.0,0.0,0.0],\"sizemode\":\"area\",\"sizeref\":0.5475},\"mode\":\"markers\",\"name\":\"Floreffe\",\"showlegend\":true,\"subplot\":\"mapbox\",\"type\":\"scattermapbox\"},{\"hovertemplate\":\"city=Walcourt<br>deaths=%{marker.size}<br>lat=%{lat}<br>lon=%{lon}<extra></extra>\",\"lat\":[50.2539,50.2539,50.2539,50.2539,50.2539,50.2539,50.2539,50.2539,50.2539,50.2539,50.2539,50.2539,50.2539],\"legendgroup\":\"Walcourt\",\"lon\":[4.43492,4.43492,4.43492,4.43492,4.43492,4.43492,4.43492,4.43492,4.43492,4.43492,4.43492,4.43492,4.43492],\"marker\":{\"color\":\"#B6E880\",\"size\":[1.0,1.0,0.0,1.0,1.0,0.0,1.0,0.0,0.0,0.0,1.0,0.0,1.0],\"sizemode\":\"area\",\"sizeref\":0.5475},\"mode\":\"markers\",\"name\":\"Walcourt\",\"showlegend\":true,\"subplot\":\"mapbox\",\"type\":\"scattermapbox\"},{\"hovertemplate\":\"city=Dinant<br>deaths=%{marker.size}<br>lat=%{lat}<br>lon=%{lon}<extra></extra>\",\"lat\":[50.2605,50.2605,50.2605,50.2605,50.2605,50.2605,50.2605,50.2605,50.2605,50.2605,50.2605,50.2605,50.2605,50.2605],\"legendgroup\":\"Dinant\",\"lon\":[4.91275,4.91275,4.91275,4.91275,4.91275,4.91275,4.91275,4.91275,4.91275,4.91275,4.91275,4.91275,4.91275,4.91275],\"marker\":{\"color\":\"#FF97FF\",\"size\":[0.0,0.0,1.0,0.0,1.0,1.0,0.0,1.0,1.0,1.0,1.0,0.0,0.0,1.0],\"sizemode\":\"area\",\"sizeref\":0.5475},\"mode\":\"markers\",\"name\":\"Dinant\",\"showlegend\":true,\"subplot\":\"mapbox\",\"type\":\"scattermapbox\"},{\"hovertemplate\":\"city=Andenne<br>deaths=%{marker.size}<br>lat=%{lat}<br>lon=%{lon}<extra></extra>\",\"lat\":[50.4912,50.4912,50.4912,50.4912,50.4912,50.4912],\"legendgroup\":\"Andenne\",\"lon\":[5.09645,5.09645,5.09645,5.09645,5.09645,5.09645],\"marker\":{\"color\":\"#FECB52\",\"size\":[0.0,1.0,1.0,0.0,0.0,0.0],\"sizemode\":\"area\",\"sizeref\":0.5475},\"mode\":\"markers\",\"name\":\"Andenne\",\"showlegend\":true,\"subplot\":\"mapbox\",\"type\":\"scattermapbox\"},{\"hovertemplate\":\"city=Braives<br>deaths=%{marker.size}<br>lat=%{lat}<br>lon=%{lon}<extra></extra>\",\"lat\":[50.6282,50.6282,50.6282,50.6282],\"legendgroup\":\"Braives\",\"lon\":[5.14881,5.14881,5.14881,5.14881],\"marker\":{\"color\":\"#636efa\",\"size\":[1.0,0.0,0.0,0.0],\"sizemode\":\"area\",\"sizeref\":0.5475},\"mode\":\"markers\",\"name\":\"Braives\",\"showlegend\":true,\"subplot\":\"mapbox\",\"type\":\"scattermapbox\"},{\"hovertemplate\":\"city=Namur<br>deaths=%{marker.size}<br>lat=%{lat}<br>lon=%{lon}<extra></extra>\",\"lat\":[50.4674,50.4674,50.4674,50.4674,50.4674,50.4674,50.4674,50.4674,50.4674,50.4674,50.4674,50.4674,50.4674,50.4674,50.4674,50.4674,50.4674,50.4674,50.4674,50.4674,50.4674,50.4674,50.4674,50.4674,50.4674,50.4674,50.4674,50.4674,50.4674,50.4674,50.4674,50.4674,50.4674,50.4674],\"legendgroup\":\"Namur\",\"lon\":[4.87199,4.87199,4.87199,4.87199,4.87199,4.87199,4.87199,4.87199,4.87199,4.87199,4.87199,4.87199,4.87199,4.87199,4.87199,4.87199,4.87199,4.87199,4.87199,4.87199,4.87199,4.87199,4.87199,4.87199,4.87199,4.87199,4.87199,4.87199,4.87199,4.87199,4.87199,4.87199,4.87199,4.87199],\"marker\":{\"color\":\"#EF553B\",\"size\":[1.0,0.0,0.0,0.0,1.0,0.0,0.0,0.0,0.0,1.0,1.0,0.0,1.0,1.0,1.0,0.0,1.0,1.0,1.0,1.0,1.0,0.0,0.0,1.0,1.0,1.0,0.0,0.0,0.0,0.0,1.0,0.0,0.0,1.0],\"sizemode\":\"area\",\"sizeref\":0.5475},\"mode\":\"markers\",\"name\":\"Namur\",\"showlegend\":true,\"subplot\":\"mapbox\",\"type\":\"scattermapbox\"},{\"hovertemplate\":\"city=Gerpinnes<br>deaths=%{marker.size}<br>lat=%{lat}<br>lon=%{lon}<extra></extra>\",\"lat\":[50.3373],\"legendgroup\":\"Gerpinnes\",\"lon\":[4.52779],\"marker\":{\"color\":\"#00cc96\",\"size\":[1.0],\"sizemode\":\"area\",\"sizeref\":0.5475},\"mode\":\"markers\",\"name\":\"Gerpinnes\",\"showlegend\":true,\"subplot\":\"mapbox\",\"type\":\"scattermapbox\"},{\"hovertemplate\":\"city=Mettet<br>deaths=%{marker.size}<br>lat=%{lat}<br>lon=%{lon}<extra></extra>\",\"lat\":[50.32,50.32,50.32,50.32,50.32,50.32,50.32,50.32,50.32,50.32,50.32,50.32,50.32,50.32,50.32,50.32],\"legendgroup\":\"Mettet\",\"lon\":[4.65785,4.65785,4.65785,4.65785,4.65785,4.65785,4.65785,4.65785,4.65785,4.65785,4.65785,4.65785,4.65785,4.65785,4.65785,4.65785],\"marker\":{\"color\":\"#ab63fa\",\"size\":[0.0,0.0,0.0,0.0,1.0,1.0,1.0,0.0,0.0,0.0,1.0,1.0,0.0,0.0,1.0,1.0],\"sizemode\":\"area\",\"sizeref\":0.5475},\"mode\":\"markers\",\"name\":\"Mettet\",\"showlegend\":true,\"subplot\":\"mapbox\",\"type\":\"scattermapbox\"},{\"hovertemplate\":\"city=Fleurus<br>deaths=%{marker.size}<br>lat=%{lat}<br>lon=%{lon}<extra></extra>\",\"lat\":[50.4823,50.4823,50.4823,50.4823,50.4823,50.4823,50.4823,50.4823,50.4823,50.4823,50.4823],\"legendgroup\":\"Fleurus\",\"lon\":[4.55119,4.55119,4.55119,4.55119,4.55119,4.55119,4.55119,4.55119,4.55119,4.55119,4.55119],\"marker\":{\"color\":\"#FFA15A\",\"size\":[1.0,1.0,1.0,0.0,0.0,1.0,0.0,0.0,0.0,1.0,1.0],\"sizemode\":\"area\",\"sizeref\":0.5475},\"mode\":\"markers\",\"name\":\"Fleurus\",\"showlegend\":true,\"subplot\":\"mapbox\",\"type\":\"scattermapbox\"},{\"hovertemplate\":\"city=Eghezee<br>deaths=%{marker.size}<br>lat=%{lat}<br>lon=%{lon}<extra></extra>\",\"lat\":[50.5926,50.5926,50.5926,50.5926,50.5926,50.5926,50.5926,50.5926,50.5926,50.5926,50.5926,50.5926,50.59265],\"legendgroup\":\"Eghezee\",\"lon\":[4.90365,4.90365,4.90365,4.90365,4.90365,4.90365,4.90365,4.90365,4.90365,4.90365,4.90365,4.90365,4.90365],\"marker\":{\"color\":\"#19d3f3\",\"size\":[0.0,1.0,1.0,0.0,0.0,0.0,1.0,1.0,0.0,1.0,0.0,1.0,1.0],\"sizemode\":\"area\",\"sizeref\":0.5475},\"mode\":\"markers\",\"name\":\"Eghezee\",\"showlegend\":true,\"subplot\":\"mapbox\",\"type\":\"scattermapbox\"},{\"hovertemplate\":\"city=Sombreffe<br>deaths=%{marker.size}<br>lat=%{lat}<br>lon=%{lon}<extra></extra>\",\"lat\":[50.5287],\"legendgroup\":\"Sombreffe\",\"lon\":[4.5884],\"marker\":{\"color\":\"#FF6692\",\"size\":[1.0],\"sizemode\":\"area\",\"sizeref\":0.5475},\"mode\":\"markers\",\"name\":\"Sombreffe\",\"showlegend\":true,\"subplot\":\"mapbox\",\"type\":\"scattermapbox\"},{\"hovertemplate\":\"city=Villers-la-Ville<br>deaths=%{marker.size}<br>lat=%{lat}<br>lon=%{lon}<extra></extra>\",\"lat\":[50.5792,50.5792],\"legendgroup\":\"Villers-la-Ville\",\"lon\":[4.53454,4.53454],\"marker\":{\"color\":\"#B6E880\",\"size\":[0.0,1.0],\"sizemode\":\"area\",\"sizeref\":0.5475},\"mode\":\"markers\",\"name\":\"Villers-la-Ville\",\"showlegend\":true,\"subplot\":\"mapbox\",\"type\":\"scattermapbox\"},{\"hovertemplate\":\"city=Chatelet<br>deaths=%{marker.size}<br>lat=%{lat}<br>lon=%{lon}<extra></extra>\",\"lat\":[50.4061,50.4061,50.4061,50.4061,50.4061],\"legendgroup\":\"Chatelet\",\"lon\":[4.52786,4.52786,4.52786,4.52786,4.52786],\"marker\":{\"color\":\"#FF97FF\",\"size\":[0.0,1.0,0.0,1.0,1.0],\"sizemode\":\"area\",\"sizeref\":0.5475},\"mode\":\"markers\",\"name\":\"Chatelet\",\"showlegend\":true,\"subplot\":\"mapbox\",\"type\":\"scattermapbox\"},{\"hovertemplate\":\"city=Hannut<br>deaths=%{marker.size}<br>lat=%{lat}<br>lon=%{lon}<extra></extra>\",\"lat\":[50.6722,50.6722,50.6722],\"legendgroup\":\"Hannut\",\"lon\":[5.07776,5.07776,5.07776],\"marker\":{\"color\":\"#FECB52\",\"size\":[0.0,0.0,0.0],\"sizemode\":\"area\",\"sizeref\":0.5475},\"mode\":\"markers\",\"name\":\"Hannut\",\"showlegend\":true,\"subplot\":\"mapbox\",\"type\":\"scattermapbox\"},{\"hovertemplate\":\"city=Ciney<br>deaths=%{marker.size}<br>lat=%{lat}<br>lon=%{lon}<extra></extra>\",\"lat\":[50.2957,50.2957,50.2957],\"legendgroup\":\"Ciney\",\"lon\":[5.10083,5.10083,5.10083],\"marker\":{\"color\":\"#636efa\",\"size\":[1.0,1.0,0.0],\"sizemode\":\"area\",\"sizeref\":0.5475},\"mode\":\"markers\",\"name\":\"Ciney\",\"showlegend\":true,\"subplot\":\"mapbox\",\"type\":\"scattermapbox\"},{\"hovertemplate\":\"city=Florennes<br>deaths=%{marker.size}<br>lat=%{lat}<br>lon=%{lon}<extra></extra>\",\"lat\":[50.2506,50.2506,50.2506,50.2506,50.2506,50.2506,50.2506,50.2506,50.2506,50.2506],\"legendgroup\":\"Florennes\",\"lon\":[4.60511,4.60511,4.60511,4.60511,4.60511,4.60511,4.60511,4.60511,4.60511,4.60511],\"marker\":{\"color\":\"#EF553B\",\"size\":[0.0,1.0,1.0,1.0,0.0,1.0,0.0,0.0,1.0,1.0],\"sizemode\":\"area\",\"sizeref\":0.5475},\"mode\":\"markers\",\"name\":\"Florennes\",\"showlegend\":true,\"subplot\":\"mapbox\",\"type\":\"scattermapbox\"},{\"hovertemplate\":\"city=Gembloux<br>deaths=%{marker.size}<br>lat=%{lat}<br>lon=%{lon}<extra></extra>\",\"lat\":[50.5652,50.5652,50.5652,50.5652,50.5652,50.5652,50.5652,50.5652,50.5652,50.5652,50.5652,50.5652],\"legendgroup\":\"Gembloux\",\"lon\":[4.68843,4.68843,4.68843,4.68843,4.68843,4.68843,4.68843,4.68843,4.68843,4.68843,4.68843,4.68843],\"marker\":{\"color\":\"#00cc96\",\"size\":[0.0,1.0,1.0,1.0,1.0,1.0,1.0,1.0,1.0,1.0,0.0,1.0],\"sizemode\":\"area\",\"sizeref\":0.5475},\"mode\":\"markers\",\"name\":\"Gembloux\",\"showlegend\":true,\"subplot\":\"mapbox\",\"type\":\"scattermapbox\"},{\"hovertemplate\":\"city=Houyet<br>deaths=%{marker.size}<br>lat=%{lat}<br>lon=%{lon}<extra></extra>\",\"lat\":[50.1855],\"legendgroup\":\"Houyet\",\"lon\":[5.00997],\"marker\":{\"color\":\"#ab63fa\",\"size\":[1.0],\"sizemode\":\"area\",\"sizeref\":0.5475},\"mode\":\"markers\",\"name\":\"Houyet\",\"showlegend\":true,\"subplot\":\"mapbox\",\"type\":\"scattermapbox\"},{\"hovertemplate\":\"city=Gesves<br>deaths=%{marker.size}<br>lat=%{lat}<br>lon=%{lon}<extra></extra>\",\"lat\":[50.4025,50.4025],\"legendgroup\":\"Gesves\",\"lon\":[5.07555,5.07555],\"marker\":{\"color\":\"#FFA15A\",\"size\":[1.0,0.0],\"sizemode\":\"area\",\"sizeref\":0.5475},\"mode\":\"markers\",\"name\":\"Gesves\",\"showlegend\":true,\"subplot\":\"mapbox\",\"type\":\"scattermapbox\"},{\"hovertemplate\":\"city=Hamois<br>deaths=%{marker.size}<br>lat=%{lat}<br>lon=%{lon}<extra></extra>\",\"lat\":[50.341,50.341,50.341,50.341,50.341,50.341,50.341,50.341],\"legendgroup\":\"Hamois\",\"lon\":[5.15685,5.15685,5.15685,5.15685,5.15685,5.15685,5.15685,5.15685],\"marker\":{\"color\":\"#19d3f3\",\"size\":[1.0,0.0,0.0,0.0,0.0,0.0,0.0,0.0],\"sizemode\":\"area\",\"sizeref\":0.5475},\"mode\":\"markers\",\"name\":\"Hamois\",\"showlegend\":true,\"subplot\":\"mapbox\",\"type\":\"scattermapbox\"},{\"hovertemplate\":\"city=Hastiere<br>deaths=%{marker.size}<br>lat=%{lat}<br>lon=%{lon}<extra></extra>\",\"lat\":[50.2167,50.2167,50.2167,50.2167,50.2167],\"legendgroup\":\"Hastiere\",\"lon\":[4.83333,4.83333,4.83333,4.83333,4.83333],\"marker\":{\"color\":\"#FF6692\",\"size\":[1.0,0.0,0.0,1.0,0.0],\"sizemode\":\"area\",\"sizeref\":0.5475},\"mode\":\"markers\",\"name\":\"Hastiere\",\"showlegend\":true,\"subplot\":\"mapbox\",\"type\":\"scattermapbox\"},{\"hovertemplate\":\"city=Yvoir<br>deaths=%{marker.size}<br>lat=%{lat}<br>lon=%{lon}<extra></extra>\",\"lat\":[50.327,50.327],\"legendgroup\":\"Yvoir\",\"lon\":[4.87786,4.87786],\"marker\":{\"color\":\"#B6E880\",\"size\":[1.0,0.0],\"sizemode\":\"area\",\"sizeref\":0.5475},\"mode\":\"markers\",\"name\":\"Yvoir\",\"showlegend\":true,\"subplot\":\"mapbox\",\"type\":\"scattermapbox\"},{\"hovertemplate\":\"city=Ohey<br>deaths=%{marker.size}<br>lat=%{lat}<br>lon=%{lon}<extra></extra>\",\"lat\":[50.4367,50.4367,50.4367,50.4367,50.4367,50.4367],\"legendgroup\":\"Ohey\",\"lon\":[5.1246,5.1246,5.1246,5.1246,5.1246,5.1246],\"marker\":{\"color\":\"#FF97FF\",\"size\":[1.0,0.0,1.0,1.0,1.0,0.0],\"sizemode\":\"area\",\"sizeref\":0.5475},\"mode\":\"markers\",\"name\":\"Ohey\",\"showlegend\":true,\"subplot\":\"mapbox\",\"type\":\"scattermapbox\"},{\"hovertemplate\":\"city=Jemeppe-sur-Sambre<br>deaths=%{marker.size}<br>lat=%{lat}<br>lon=%{lon}<extra></extra>\",\"lat\":[50.4631,50.4631,50.4631,50.4631,50.4631,50.4631,50.4631,50.4631,50.4631,50.4631,50.4631,50.4631,50.4631,50.4631,50.4631,50.4631],\"legendgroup\":\"Jemeppe-sur-Sambre\",\"lon\":[4.67869,4.67869,4.67869,4.67869,4.67869,4.67869,4.67869,4.67869,4.67869,4.67869,4.67869,4.67869,4.67869,4.67869,4.67869,4.67869],\"marker\":{\"color\":\"#FECB52\",\"size\":[1.0,0.0,0.0,1.0,1.0,1.0,1.0,1.0,1.0,1.0,1.0,1.0,1.0,1.0,0.0,0.0],\"sizemode\":\"area\",\"sizeref\":0.5475},\"mode\":\"markers\",\"name\":\"Jemeppe-sur-Sambre\",\"showlegend\":true,\"subplot\":\"mapbox\",\"type\":\"scattermapbox\"},{\"hovertemplate\":\"city=Fernelmont<br>deaths=%{marker.size}<br>lat=%{lat}<br>lon=%{lon}<extra></extra>\",\"lat\":[50.55,50.55,50.55,50.55,50.55,50.55,50.55,50.55,50.55],\"legendgroup\":\"Fernelmont\",\"lon\":[4.98333,4.98333,4.98333,4.98333,4.98333,4.98333,4.98333,4.98333,4.98333],\"marker\":{\"color\":\"#636efa\",\"size\":[0.0,1.0,0.0,1.0,1.0,0.0,1.0,0.0,0.0],\"sizemode\":\"area\",\"sizeref\":0.5475},\"mode\":\"markers\",\"name\":\"Fernelmont\",\"showlegend\":true,\"subplot\":\"mapbox\",\"type\":\"scattermapbox\"},{\"hovertemplate\":\"city=Bioul<br>deaths=%{marker.size}<br>lat=%{lat}<br>lon=%{lon}<extra></extra>\",\"lat\":[50.3311,50.3311],\"legendgroup\":\"Bioul\",\"lon\":[4.7961,4.7961],\"marker\":{\"color\":\"#EF553B\",\"size\":[1.0,1.0],\"sizemode\":\"area\",\"sizeref\":0.5475},\"mode\":\"markers\",\"name\":\"Bioul\",\"showlegend\":true,\"subplot\":\"mapbox\",\"type\":\"scattermapbox\"},{\"hovertemplate\":\"city=Charleroi<br>deaths=%{marker.size}<br>lat=%{lat}<br>lon=%{lon}<extra></extra>\",\"lat\":[50.4108,50.4108,50.4108,50.4108,50.4108,50.4108,50.4108,50.4108,50.4108,50.4108,50.4108,50.4108],\"legendgroup\":\"Charleroi\",\"lon\":[4.44464,4.44464,4.44464,4.44464,4.44464,4.44464,4.44464,4.44464,4.44464,4.44464,4.44464,4.44464],\"marker\":{\"color\":\"#00cc96\",\"size\":[0.0,0.0,1.0,1.0,1.0,1.0,1.0,1.0,1.0,1.0,1.0,0.0],\"sizemode\":\"area\",\"sizeref\":0.5475},\"mode\":\"markers\",\"name\":\"Charleroi\",\"showlegend\":true,\"subplot\":\"mapbox\",\"type\":\"scattermapbox\"},{\"hovertemplate\":\"city=Wasseiges<br>deaths=%{marker.size}<br>lat=%{lat}<br>lon=%{lon}<extra></extra>\",\"lat\":[50.6175],\"legendgroup\":\"Wasseiges\",\"lon\":[5.00162],\"marker\":{\"color\":\"#ab63fa\",\"size\":[1.0],\"sizemode\":\"area\",\"sizeref\":0.5475},\"mode\":\"markers\",\"name\":\"Wasseiges\",\"showlegend\":true,\"subplot\":\"mapbox\",\"type\":\"scattermapbox\"},{\"hovertemplate\":\"city=Pont-a-Celles<br>deaths=%{marker.size}<br>lat=%{lat}<br>lon=%{lon}<extra></extra>\",\"lat\":[50.5135],\"legendgroup\":\"Pont-a-Celles\",\"lon\":[4.35801],\"marker\":{\"color\":\"#FFA15A\",\"size\":[1.0],\"sizemode\":\"area\",\"sizeref\":0.5475},\"mode\":\"markers\",\"name\":\"Pont-a-Celles\",\"showlegend\":true,\"subplot\":\"mapbox\",\"type\":\"scattermapbox\"},{\"hovertemplate\":\"city=Profondeville<br>deaths=%{marker.size}<br>lat=%{lat}<br>lon=%{lon}<extra></extra>\",\"lat\":[50.3757,50.3757,50.3757,50.3757],\"legendgroup\":\"Profondeville\",\"lon\":[4.8674,4.8674,4.8674,4.8674],\"marker\":{\"color\":\"#19d3f3\",\"size\":[1.0,1.0,1.0,1.0],\"sizemode\":\"area\",\"sizeref\":0.5475},\"mode\":\"markers\",\"name\":\"Profondeville\",\"showlegend\":true,\"subplot\":\"mapbox\",\"type\":\"scattermapbox\"},{\"hovertemplate\":\"city=Burdinne<br>deaths=%{marker.size}<br>lat=%{lat}<br>lon=%{lon}<extra></extra>\",\"lat\":[50.5841],\"legendgroup\":\"Burdinne\",\"lon\":[5.07643],\"marker\":{\"color\":\"#FF6692\",\"size\":[1.0],\"sizemode\":\"area\",\"sizeref\":0.5475},\"mode\":\"markers\",\"name\":\"Burdinne\",\"showlegend\":true,\"subplot\":\"mapbox\",\"type\":\"scattermapbox\"},{\"hovertemplate\":\"city=Mons<br>deaths=%{marker.size}<br>lat=%{lat}<br>lon=%{lon}<extra></extra>\",\"lat\":[50.4542],\"legendgroup\":\"Mons\",\"lon\":[3.95666],\"marker\":{\"color\":\"#B6E880\",\"size\":[1.0],\"sizemode\":\"area\",\"sizeref\":0.5475},\"mode\":\"markers\",\"name\":\"Mons\",\"showlegend\":true,\"subplot\":\"mapbox\",\"type\":\"scattermapbox\"},{\"hovertemplate\":\"city=Seraing<br>deaths=%{marker.size}<br>lat=%{lat}<br>lon=%{lon}<extra></extra>\",\"lat\":[50.5839],\"legendgroup\":\"Seraing\",\"lon\":[5.49963],\"marker\":{\"color\":\"#FF97FF\",\"size\":[1.0],\"sizemode\":\"area\",\"sizeref\":0.5475},\"mode\":\"markers\",\"name\":\"Seraing\",\"showlegend\":true,\"subplot\":\"mapbox\",\"type\":\"scattermapbox\"},{\"hovertemplate\":\"city=Sambreville<br>deaths=%{marker.size}<br>lat=%{lat}<br>lon=%{lon}<extra></extra>\",\"lat\":[50.4467],\"legendgroup\":\"Sambreville\",\"lon\":[4.63073],\"marker\":{\"color\":\"#FECB52\",\"size\":[0.0],\"sizemode\":\"area\",\"sizeref\":0.5475},\"mode\":\"markers\",\"name\":\"Sambreville\",\"showlegend\":true,\"subplot\":\"mapbox\",\"type\":\"scattermapbox\"},{\"hovertemplate\":\"city=Assesse<br>deaths=%{marker.size}<br>lat=%{lat}<br>lon=%{lon}<extra></extra>\",\"lat\":[50.3717,50.3717],\"legendgroup\":\"Assesse\",\"lon\":[5.02227,5.02227],\"marker\":{\"color\":\"#636efa\",\"size\":[0.0,0.0],\"sizemode\":\"area\",\"sizeref\":0.5475},\"mode\":\"markers\",\"name\":\"Assesse\",\"showlegend\":true,\"subplot\":\"mapbox\",\"type\":\"scattermapbox\"},{\"hovertemplate\":\"city=La Bruyere<br>deaths=%{marker.size}<br>lat=%{lat}<br>lon=%{lon}<extra></extra>\",\"lat\":[50.5],\"legendgroup\":\"La Bruyere\",\"lon\":[4.8],\"marker\":{\"color\":\"#EF553B\",\"size\":[1.0],\"sizemode\":\"area\",\"sizeref\":0.5475},\"mode\":\"markers\",\"name\":\"La Bruyere\",\"showlegend\":true,\"subplot\":\"mapbox\",\"type\":\"scattermapbox\"},{\"hovertemplate\":\"city=Perwez<br>deaths=%{marker.size}<br>lat=%{lat}<br>lon=%{lon}<extra></extra>\",\"lat\":[50.624,50.624],\"legendgroup\":\"Perwez\",\"lon\":[4.81503,4.81503],\"marker\":{\"color\":\"#00cc96\",\"size\":[1.0,1.0],\"sizemode\":\"area\",\"sizeref\":0.5475},\"mode\":\"markers\",\"name\":\"Perwez\",\"showlegend\":true,\"subplot\":\"mapbox\",\"type\":\"scattermapbox\"},{\"hovertemplate\":\"city=Agen<br>deaths=%{marker.size}<br>lat=%{lat}<br>lon=%{lon}<extra></extra>\",\"lat\":[44.203142,44.203142],\"legendgroup\":\"Agen\",\"lon\":[0.616363,0.616363],\"marker\":{\"color\":\"#ab63fa\",\"size\":[1.0,1.0],\"sizemode\":\"area\",\"sizeref\":0.5475},\"mode\":\"markers\",\"name\":\"Agen\",\"showlegend\":true,\"subplot\":\"mapbox\",\"type\":\"scattermapbox\"},{\"hovertemplate\":\"city=Bearn<br>deaths=%{marker.size}<br>lat=%{lat}<br>lon=%{lon}<extra></extra>\",\"lat\":[43.1350202,43.1350202,43.1350202,43.1350202,43.1350202,43.1350202,43.1350202,43.1350202,43.1350202],\"legendgroup\":\"Bearn\",\"lon\":[-0.2136437,-0.2136437,-0.2136437,-0.2136437,-0.2136437,-0.2136437,-0.2136437,-0.2136437,-0.2136437],\"marker\":{\"color\":\"#FFA15A\",\"size\":[1.0,0.0,0.0,1.0,0.0,0.0,0.0,0.0,0.0],\"sizemode\":\"area\",\"sizeref\":0.5475},\"mode\":\"markers\",\"name\":\"Bearn\",\"showlegend\":true,\"subplot\":\"mapbox\",\"type\":\"scattermapbox\"},{\"hovertemplate\":\"city=Bordeaux<br>deaths=%{marker.size}<br>lat=%{lat}<br>lon=%{lon}<extra></extra>\",\"lat\":[44.837789,44.837789],\"legendgroup\":\"Bordeaux\",\"lon\":[-0.57918,-0.57918],\"marker\":{\"color\":\"#19d3f3\",\"size\":[1.0,1.0],\"sizemode\":\"area\",\"sizeref\":0.5475},\"mode\":\"markers\",\"name\":\"Bordeaux\",\"showlegend\":true,\"subplot\":\"mapbox\",\"type\":\"scattermapbox\"},{\"hovertemplate\":\"city=Saint-Jean-de-Luz<br>deaths=%{marker.size}<br>lat=%{lat}<br>lon=%{lon}<extra></extra>\",\"lat\":[43.388051],\"legendgroup\":\"Saint-Jean-de-Luz\",\"lon\":[-1.663055],\"marker\":{\"color\":\"#FF6692\",\"size\":[1.0],\"sizemode\":\"area\",\"sizeref\":0.5475},\"mode\":\"markers\",\"name\":\"Saint-Jean-de-Luz\",\"showlegend\":true,\"subplot\":\"mapbox\",\"type\":\"scattermapbox\"},{\"hovertemplate\":\"city=Nerac<br>deaths=%{marker.size}<br>lat=%{lat}<br>lon=%{lon}<extra></extra>\",\"lat\":[44.136103],\"legendgroup\":\"Nerac\",\"lon\":[0.340128],\"marker\":{\"color\":\"#B6E880\",\"size\":[0.0],\"sizemode\":\"area\",\"sizeref\":0.5475},\"mode\":\"markers\",\"name\":\"Nerac\",\"showlegend\":true,\"subplot\":\"mapbox\",\"type\":\"scattermapbox\"},{\"hovertemplate\":\"city=Riom<br>deaths=%{marker.size}<br>lat=%{lat}<br>lon=%{lon}<extra></extra>\",\"lat\":[45.8939949,45.8939949],\"legendgroup\":\"Riom\",\"lon\":[3.114932,3.114932],\"marker\":{\"color\":\"#FF97FF\",\"size\":[1.0,0.0],\"sizemode\":\"area\",\"sizeref\":0.5475},\"mode\":\"markers\",\"name\":\"Riom\",\"showlegend\":true,\"subplot\":\"mapbox\",\"type\":\"scattermapbox\"},{\"hovertemplate\":\"city=L'Oudon<br>deaths=%{marker.size}<br>lat=%{lat}<br>lon=%{lon}<extra></extra>\",\"lat\":[48.9706758],\"legendgroup\":\"L'Oudon\",\"lon\":[0.0321618],\"marker\":{\"color\":\"#FECB52\",\"size\":[1.0],\"sizemode\":\"area\",\"sizeref\":0.5475},\"mode\":\"markers\",\"name\":\"L'Oudon\",\"showlegend\":true,\"subplot\":\"mapbox\",\"type\":\"scattermapbox\"},{\"hovertemplate\":\"city=Nevers<br>deaths=%{marker.size}<br>lat=%{lat}<br>lon=%{lon}<extra></extra>\",\"lat\":[46.990896],\"legendgroup\":\"Nevers\",\"lon\":[3.162845],\"marker\":{\"color\":\"#636efa\",\"size\":[1.0],\"sizemode\":\"area\",\"sizeref\":0.5475},\"mode\":\"markers\",\"name\":\"Nevers\",\"showlegend\":true,\"subplot\":\"mapbox\",\"type\":\"scattermapbox\"},{\"hovertemplate\":\"city=Tonnerre<br>deaths=%{marker.size}<br>lat=%{lat}<br>lon=%{lon}<extra></extra>\",\"lat\":[47.856724],\"legendgroup\":\"Tonnerre\",\"lon\":[3.973527],\"marker\":{\"color\":\"#EF553B\",\"size\":[1.0],\"sizemode\":\"area\",\"sizeref\":0.5475},\"mode\":\"markers\",\"name\":\"Tonnerre\",\"showlegend\":true,\"subplot\":\"mapbox\",\"type\":\"scattermapbox\"},{\"hovertemplate\":\"city=Auxonne<br>deaths=%{marker.size}<br>lat=%{lat}<br>lon=%{lon}<extra></extra>\",\"lat\":[47.193543],\"legendgroup\":\"Auxonne\",\"lon\":[5.388925],\"marker\":{\"color\":\"#00cc96\",\"size\":[2.0],\"sizemode\":\"area\",\"sizeref\":0.5475},\"mode\":\"markers\",\"name\":\"Auxonne\",\"showlegend\":true,\"subplot\":\"mapbox\",\"type\":\"scattermapbox\"},{\"hovertemplate\":\"city=Dijon<br>deaths=%{marker.size}<br>lat=%{lat}<br>lon=%{lon}<extra></extra>\",\"lat\":[47.322047],\"legendgroup\":\"Dijon\",\"lon\":[5.04148],\"marker\":{\"color\":\"#ab63fa\",\"size\":[1.0],\"sizemode\":\"area\",\"sizeref\":0.5475},\"mode\":\"markers\",\"name\":\"Dijon\",\"showlegend\":true,\"subplot\":\"mapbox\",\"type\":\"scattermapbox\"},{\"hovertemplate\":\"city=Lorient<br>deaths=%{marker.size}<br>lat=%{lat}<br>lon=%{lon}<extra></extra>\",\"lat\":[47.7482524],\"legendgroup\":\"Lorient\",\"lon\":[-3.3702449],\"marker\":{\"color\":\"#FFA15A\",\"size\":[0.0],\"sizemode\":\"area\",\"sizeref\":0.5475},\"mode\":\"markers\",\"name\":\"Lorient\",\"showlegend\":true,\"subplot\":\"mapbox\",\"type\":\"scattermapbox\"},{\"hovertemplate\":\"city=Tours<br>deaths=%{marker.size}<br>lat=%{lat}<br>lon=%{lon}<extra></extra>\",\"lat\":[47.394144],\"legendgroup\":\"Tours\",\"lon\":[0.68484],\"marker\":{\"color\":\"#19d3f3\",\"size\":[0.0],\"sizemode\":\"area\",\"sizeref\":0.5475},\"mode\":\"markers\",\"name\":\"Tours\",\"showlegend\":true,\"subplot\":\"mapbox\",\"type\":\"scattermapbox\"},{\"hovertemplate\":\"city=Orleans<br>deaths=%{marker.size}<br>lat=%{lat}<br>lon=%{lon}<extra></extra>\",\"lat\":[47.619788],\"legendgroup\":\"Orleans\",\"lon\":[6.15428],\"marker\":{\"color\":\"#FF6692\",\"size\":[18.0],\"sizemode\":\"area\",\"sizeref\":0.5475},\"mode\":\"markers\",\"name\":\"Orleans\",\"showlegend\":true,\"subplot\":\"mapbox\",\"type\":\"scattermapbox\"},{\"hovertemplate\":\"city=Bievres<br>deaths=%{marker.size}<br>lat=%{lat}<br>lon=%{lon}<extra></extra>\",\"lat\":[49.55626],\"legendgroup\":\"Bievres\",\"lon\":[5.264767],\"marker\":{\"color\":\"#B6E880\",\"size\":[1.0],\"sizemode\":\"area\",\"sizeref\":0.5475},\"mode\":\"markers\",\"name\":\"Bievres\",\"showlegend\":true,\"subplot\":\"mapbox\",\"type\":\"scattermapbox\"},{\"hovertemplate\":\"city=Besancon<br>deaths=%{marker.size}<br>lat=%{lat}<br>lon=%{lon}<extra></extra>\",\"lat\":[47.237829],\"legendgroup\":\"Besancon\",\"lon\":[6.0240539],\"marker\":{\"color\":\"#FF97FF\",\"size\":[2.0],\"sizemode\":\"area\",\"sizeref\":0.5475},\"mode\":\"markers\",\"name\":\"Besancon\",\"showlegend\":true,\"subplot\":\"mapbox\",\"type\":\"scattermapbox\"},{\"hovertemplate\":\"city=Luxeuil-les-Bains<br>deaths=%{marker.size}<br>lat=%{lat}<br>lon=%{lon}<extra></extra>\",\"lat\":[47.8168409,47.8168,47.8168,47.8168,47.8168,47.8168,47.8168,47.8168,47.8168,47.8168,47.8168,47.8168,47.8168,47.8168,47.8168,47.8168,47.8168,47.8168,47.8168,47.8168,47.8168,47.8168,47.8168,47.8168,47.8168],\"legendgroup\":\"Luxeuil-les-Bains\",\"lon\":[6.381111,6.38111,6.38111,6.38111,6.38111,6.38111,6.38111,6.38111,6.38111,6.38111,6.38111,6.38111,6.38111,6.38111,6.38111,6.38111,6.38111,6.38111,6.38111,6.38111,6.38111,6.38111,6.38111,6.38111,6.38111],\"marker\":{\"color\":\"#FECB52\",\"size\":[0.0,0.0,1.0,1.0,1.0,1.0,1.0,0.0,0.0,0.0,0.0,0.0,0.0,1.0,0.0,0.0,0.0,1.0,1.0,1.0,0.0,0.0,0.0,0.0,0.0],\"sizemode\":\"area\",\"sizeref\":0.5475},\"mode\":\"markers\",\"name\":\"Luxeuil-les-Bains\",\"showlegend\":true,\"subplot\":\"mapbox\",\"type\":\"scattermapbox\"},{\"hovertemplate\":\"city=Dole<br>deaths=%{marker.size}<br>lat=%{lat}<br>lon=%{lon}<extra></extra>\",\"lat\":[47.09534,47.0953,47.0953,47.0953,47.0953,47.0953,47.0953,47.0953,47.0953,47.0953,47.0953,47.0953,47.0953,47.0953,47.0953,47.0953,47.0953,47.0953,47.0953,47.0953,47.0953,47.0953,47.0953,47.0953,47.0953],\"legendgroup\":\"Dole\",\"lon\":[5.49081,5.49081,5.49081,5.49081,5.49081,5.49081,5.49081,5.49081,5.49081,5.49081,5.49081,5.49081,5.49081,5.49081,5.49081,5.49081,5.49081,5.49081,5.49081,5.49081,5.49081,5.49081,5.49081,5.49081,5.49081],\"marker\":{\"color\":\"#636efa\",\"size\":[1.0,0.0,1.0,1.0,0.0,1.0,1.0,0.0,0.0,0.0,0.0,0.0,0.0,0.0,0.0,1.0,0.0,1.0,0.0,1.0,0.0,0.0,1.0,1.0,0.0],\"sizemode\":\"area\",\"sizeref\":0.5475},\"mode\":\"markers\",\"name\":\"Dole\",\"showlegend\":true,\"subplot\":\"mapbox\",\"type\":\"scattermapbox\"},{\"hovertemplate\":\"city=Vesoul<br>deaths=%{marker.size}<br>lat=%{lat}<br>lon=%{lon}<extra></extra>\",\"lat\":[47.619788,47.619788,47.619788,47.6198,47.6198,47.6198,47.6198,47.6198,47.6198,47.6198,47.6198,47.6198,47.6198,47.6198,47.6198,47.6198,47.6198,47.6198,47.6198,47.6198,47.6198,47.6198,47.6198,47.6198,47.6198,47.6198,47.6198,47.6198,47.6198,47.6198,47.6198,47.6198,47.6198,47.6198,47.6198,47.6198,47.6198,47.6198,47.6198,47.6198,47.6198,47.6198,47.6198,47.6198,47.6198,47.6198,47.6198,47.6198,47.6198,47.6198,47.6198,47.6198,47.6198,47.6198,47.6198,47.6198,47.6198,47.6198,47.6198,47.6198,47.6198,47.6198,47.6198,47.6198],\"legendgroup\":\"Vesoul\",\"lon\":[6.15428,6.15428,6.15428,6.15428,6.15428,6.15428,6.15428,6.15428,6.15428,6.15428,6.15428,6.15428,6.15428,6.15428,6.15428,6.15428,6.15428,6.15428,6.15428,6.15428,6.15428,6.15428,6.15428,6.15428,6.15428,6.15428,6.15428,6.15428,6.15428,6.15428,6.15428,6.15428,6.15428,6.15428,6.15428,6.15428,6.15428,6.15428,6.15428,6.15428,6.15428,6.15428,6.15428,6.15428,6.15428,6.15428,6.15428,6.15428,6.15428,6.15428,6.15428,6.15428,6.15428,6.15428,6.15428,6.15428,6.15428,6.15428,6.15428,6.15428,6.15428,6.15428,6.15428,6.15428],\"marker\":{\"color\":\"#EF553B\",\"size\":[1.0,1.0,1.0,1.0,0.0,0.0,0.0,0.0,0.0,0.0,0.0,0.0,1.0,1.0,1.0,1.0,1.0,1.0,1.0,1.0,0.0,0.0,1.0,1.0,1.0,1.0,0.0,0.0,0.0,0.0,0.0,0.0,0.0,0.0,0.0,1.0,1.0,1.0,0.0,0.0,0.0,0.0,0.0,0.0,0.0,0.0,1.0,0.0,1.0,1.0,1.0,1.0,0.0,1.0,1.0,1.0,1.0,1.0,1.0,1.0,1.0,1.0,1.0,1.0],\"sizemode\":\"area\",\"sizeref\":0.5475},\"mode\":\"markers\",\"name\":\"Vesoul\",\"showlegend\":true,\"subplot\":\"mapbox\",\"type\":\"scattermapbox\"},{\"hovertemplate\":\"city=Rouen<br>deaths=%{marker.size}<br>lat=%{lat}<br>lon=%{lon}<extra></extra>\",\"lat\":[49.443232,49.443232,49.443232,49.443232,49.443232,49.443232],\"legendgroup\":\"Rouen\",\"lon\":[1.099971,1.099971,1.099971,1.099971,1.099971,1.099971],\"marker\":{\"color\":\"#00cc96\",\"size\":[1.0,1.0,1.0,1.0,1.0,1.0],\"sizemode\":\"area\",\"sizeref\":0.5475},\"mode\":\"markers\",\"name\":\"Rouen\",\"showlegend\":true,\"subplot\":\"mapbox\",\"type\":\"scattermapbox\"},{\"hovertemplate\":\"city=Louviers<br>deaths=%{marker.size}<br>lat=%{lat}<br>lon=%{lon}<extra></extra>\",\"lat\":[49.2152477,49.2152477,49.2152477,49.2152477],\"legendgroup\":\"Louviers\",\"lon\":[1.1686123,1.1686123,1.1686123,1.1686123],\"marker\":{\"color\":\"#ab63fa\",\"size\":[0.0,1.0,1.0,1.0],\"sizemode\":\"area\",\"sizeref\":0.5475},\"mode\":\"markers\",\"name\":\"Louviers\",\"showlegend\":true,\"subplot\":\"mapbox\",\"type\":\"scattermapbox\"},{\"hovertemplate\":\"city=Londinieres<br>deaths=%{marker.size}<br>lat=%{lat}<br>lon=%{lon}<extra></extra>\",\"lat\":[49.832774],\"legendgroup\":\"Londinieres\",\"lon\":[1.402787],\"marker\":{\"color\":\"#FFA15A\",\"size\":[8.0],\"sizemode\":\"area\",\"sizeref\":0.5475},\"mode\":\"markers\",\"name\":\"Londinieres\",\"showlegend\":true,\"subplot\":\"mapbox\",\"type\":\"scattermapbox\"},{\"hovertemplate\":\"city=Paris<br>deaths=%{marker.size}<br>lat=%{lat}<br>lon=%{lon}<extra></extra>\",\"lat\":[48.856614,48.856614,48.856614,48.856614,48.856614,48.856614,48.856614,48.856614,48.856614,48.856614,48.856614,48.856614,48.856614,48.856614,48.856614,48.856614,48.856614,48.856614,48.856614,48.856614,48.856614,48.856614,48.856614],\"legendgroup\":\"Paris\",\"lon\":[2.3522219,2.3522219,2.3522219,2.3522219,2.3522219,2.3522219,2.3522219,2.3522219,2.3522219,2.3522219,2.3522219,2.3522219,2.3522219,2.3522219,2.3522219,2.3522219,2.3522219,2.3522219,2.3522219,2.3522219,2.3522219,2.3522219,2.3522219],\"marker\":{\"color\":\"#19d3f3\",\"size\":[0.0,4.0,1.0,1.0,1.0,1.0,1.0,1.0,1.0,1.0,18.0,18.0,2.0,3.0,0.0,2.0,2.0,2.0,0.0,1.0,1.0,0.0,4.0],\"sizemode\":\"area\",\"sizeref\":0.5475},\"mode\":\"markers\",\"name\":\"Paris\",\"showlegend\":true,\"subplot\":\"mapbox\",\"type\":\"scattermapbox\"},{\"hovertemplate\":\"city=Coulommiers<br>deaths=%{marker.size}<br>lat=%{lat}<br>lon=%{lon}<extra></extra>\",\"lat\":[48.813071],\"legendgroup\":\"Coulommiers\",\"lon\":[3.083497],\"marker\":{\"color\":\"#FF6692\",\"size\":[0.0],\"sizemode\":\"area\",\"sizeref\":0.5475},\"mode\":\"markers\",\"name\":\"Coulommiers\",\"showlegend\":true,\"subplot\":\"mapbox\",\"type\":\"scattermapbox\"},{\"hovertemplate\":\"city=Brie-Comte-Robert<br>deaths=%{marker.size}<br>lat=%{lat}<br>lon=%{lon}<extra></extra>\",\"lat\":[48.6912267],\"legendgroup\":\"Brie-Comte-Robert\",\"lon\":[2.6103697],\"marker\":{\"color\":\"#B6E880\",\"size\":[3.0],\"sizemode\":\"area\",\"sizeref\":0.5475},\"mode\":\"markers\",\"name\":\"Brie-Comte-Robert\",\"showlegend\":true,\"subplot\":\"mapbox\",\"type\":\"scattermapbox\"},{\"hovertemplate\":\"city=Carcassonne<br>deaths=%{marker.size}<br>lat=%{lat}<br>lon=%{lon}<extra></extra>\",\"lat\":[43.212161,43.212161,43.212161,43.212161,43.212161,43.212161,43.212161,43.212161,43.212161,43.212161,43.212161],\"legendgroup\":\"Carcassonne\",\"lon\":[2.353663,2.353663,2.353663,2.353663,2.353663,2.353663,2.353663,2.353663,2.353663,2.353663,2.353663],\"marker\":{\"color\":\"#FF97FF\",\"size\":[1.0,1.0,1.0,1.0,1.0,1.0,0.0,0.0,0.0,0.0,1.0],\"sizemode\":\"area\",\"sizeref\":0.5475},\"mode\":\"markers\",\"name\":\"Carcassonne\",\"showlegend\":true,\"subplot\":\"mapbox\",\"type\":\"scattermapbox\"},{\"hovertemplate\":\"city=Metz<br>deaths=%{marker.size}<br>lat=%{lat}<br>lon=%{lon}<extra></extra>\",\"lat\":[49.1193089,49.119309,49.119309,49.119309,49.119309,49.119309,49.119309,49.119309],\"legendgroup\":\"Metz\",\"lon\":[6.1757156,6.175716,6.175716,6.175716,6.175716,6.175716,6.175716,6.175716],\"marker\":{\"color\":\"#FECB52\",\"size\":[4.0,1.0,3.0,1.0,4.0,4.0,11.0,29.0],\"sizemode\":\"area\",\"sizeref\":0.5475},\"mode\":\"markers\",\"name\":\"Metz\",\"showlegend\":true,\"subplot\":\"mapbox\",\"type\":\"scattermapbox\"},{\"hovertemplate\":\"city=Nancy<br>deaths=%{marker.size}<br>lat=%{lat}<br>lon=%{lon}<extra></extra>\",\"lat\":[48.692054,48.692054,48.692054],\"legendgroup\":\"Nancy\",\"lon\":[6.184417,6.184417,6.184417],\"marker\":{\"color\":\"#636efa\",\"size\":[1.0,1.0,1.0],\"sizemode\":\"area\",\"sizeref\":0.5475},\"mode\":\"markers\",\"name\":\"Nancy\",\"showlegend\":true,\"subplot\":\"mapbox\",\"type\":\"scattermapbox\"},{\"hovertemplate\":\"city=Toulouse<br>deaths=%{marker.size}<br>lat=%{lat}<br>lon=%{lon}<extra></extra>\",\"lat\":[43.604652,43.604652,43.604652,43.604652,43.604652,43.604652],\"legendgroup\":\"Toulouse\",\"lon\":[1.444209,1.444209,1.444209,1.444209,1.444209,1.444209],\"marker\":{\"color\":\"#EF553B\",\"size\":[1.0,1.0,8.0,40.0,9.0,0.0],\"sizemode\":\"area\",\"sizeref\":0.5475},\"mode\":\"markers\",\"name\":\"Toulouse\",\"showlegend\":true,\"subplot\":\"mapbox\",\"type\":\"scattermapbox\"},{\"hovertemplate\":\"city=Cambrai<br>deaths=%{marker.size}<br>lat=%{lat}<br>lon=%{lon}<extra></extra>\",\"lat\":[50.173538,50.173538],\"legendgroup\":\"Cambrai\",\"lon\":[3.236633,3.236633],\"marker\":{\"color\":\"#00cc96\",\"size\":[1.0,0.0],\"sizemode\":\"area\",\"sizeref\":0.5475},\"mode\":\"markers\",\"name\":\"Cambrai\",\"showlegend\":true,\"subplot\":\"mapbox\",\"type\":\"scattermapbox\"},{\"hovertemplate\":\"city=Bailleul<br>deaths=%{marker.size}<br>lat=%{lat}<br>lon=%{lon}<extra></extra>\",\"lat\":[50.736482],\"legendgroup\":\"Bailleul\",\"lon\":[2.73559],\"marker\":{\"color\":\"#ab63fa\",\"size\":[1.0],\"sizemode\":\"area\",\"sizeref\":0.5475},\"mode\":\"markers\",\"name\":\"Bailleul\",\"showlegend\":true,\"subplot\":\"mapbox\",\"type\":\"scattermapbox\"},{\"hovertemplate\":\"city=Nantes<br>deaths=%{marker.size}<br>lat=%{lat}<br>lon=%{lon}<extra></extra>\",\"lat\":[47.218371,47.218371],\"legendgroup\":\"Nantes\",\"lon\":[-1.553621,-1.553621],\"marker\":{\"color\":\"#FFA15A\",\"size\":[7.0,1.0],\"sizemode\":\"area\",\"sizeref\":0.5475},\"mode\":\"markers\",\"name\":\"Nantes\",\"showlegend\":true,\"subplot\":\"mapbox\",\"type\":\"scattermapbox\"},{\"hovertemplate\":\"city=Saumur<br>deaths=%{marker.size}<br>lat=%{lat}<br>lon=%{lon}<extra></extra>\",\"lat\":[47.260135],\"legendgroup\":\"Saumur\",\"lon\":[-0.080893],\"marker\":{\"color\":\"#19d3f3\",\"size\":[1.0],\"sizemode\":\"area\",\"sizeref\":0.5475},\"mode\":\"markers\",\"name\":\"Saumur\",\"showlegend\":true,\"subplot\":\"mapbox\",\"type\":\"scattermapbox\"},{\"hovertemplate\":\"city=Angers<br>deaths=%{marker.size}<br>lat=%{lat}<br>lon=%{lon}<extra></extra>\",\"lat\":[47.478419],\"legendgroup\":\"Angers\",\"lon\":[-0.563166],\"marker\":{\"color\":\"#FF6692\",\"size\":[1.0],\"sizemode\":\"area\",\"sizeref\":0.5475},\"mode\":\"markers\",\"name\":\"Angers\",\"showlegend\":true,\"subplot\":\"mapbox\",\"type\":\"scattermapbox\"},{\"hovertemplate\":\"city=Saint-Quentin<br>deaths=%{marker.size}<br>lat=%{lat}<br>lon=%{lon}<extra></extra>\",\"lat\":[49.847066],\"legendgroup\":\"Saint-Quentin\",\"lon\":[3.2874],\"marker\":{\"color\":\"#B6E880\",\"size\":[0.0],\"sizemode\":\"area\",\"sizeref\":0.5475},\"mode\":\"markers\",\"name\":\"Saint-Quentin\",\"showlegend\":true,\"subplot\":\"mapbox\",\"type\":\"scattermapbox\"},{\"hovertemplate\":\"city=Chauny<br>deaths=%{marker.size}<br>lat=%{lat}<br>lon=%{lon}<extra></extra>\",\"lat\":[49.615576,49.615576],\"legendgroup\":\"Chauny\",\"lon\":[3.219421,3.219421],\"marker\":{\"color\":\"#FF97FF\",\"size\":[2.0,2.0],\"sizemode\":\"area\",\"sizeref\":0.5475},\"mode\":\"markers\",\"name\":\"Chauny\",\"showlegend\":true,\"subplot\":\"mapbox\",\"type\":\"scattermapbox\"},{\"hovertemplate\":\"city=Poitiers<br>deaths=%{marker.size}<br>lat=%{lat}<br>lon=%{lon}<extra></extra>\",\"lat\":[46.580224,46.580224],\"legendgroup\":\"Poitiers\",\"lon\":[0.340375,0.340375],\"marker\":{\"color\":\"#FECB52\",\"size\":[1.0,3.0],\"sizemode\":\"area\",\"sizeref\":0.5475},\"mode\":\"markers\",\"name\":\"Poitiers\",\"showlegend\":true,\"subplot\":\"mapbox\",\"type\":\"scattermapbox\"},{\"hovertemplate\":\"city=Nice<br>deaths=%{marker.size}<br>lat=%{lat}<br>lon=%{lon}<extra></extra>\",\"lat\":[43.7101728,43.7101728],\"legendgroup\":\"Nice\",\"lon\":[7.2619532,7.2619532],\"marker\":{\"color\":\"#636efa\",\"size\":[0.0,1.0],\"sizemode\":\"area\",\"sizeref\":0.5475},\"mode\":\"markers\",\"name\":\"Nice\",\"showlegend\":true,\"subplot\":\"mapbox\",\"type\":\"scattermapbox\"},{\"hovertemplate\":\"city=Avignon<br>deaths=%{marker.size}<br>lat=%{lat}<br>lon=%{lon}<extra></extra>\",\"lat\":[43.949317,43.949317],\"legendgroup\":\"Avignon\",\"lon\":[4.805528,4.805528],\"marker\":{\"color\":\"#EF553B\",\"size\":[18.0,1.0],\"sizemode\":\"area\",\"sizeref\":0.5475},\"mode\":\"markers\",\"name\":\"Avignon\",\"showlegend\":true,\"subplot\":\"mapbox\",\"type\":\"scattermapbox\"},{\"hovertemplate\":\"city=Aix-en-Provence<br>deaths=%{marker.size}<br>lat=%{lat}<br>lon=%{lon}<extra></extra>\",\"lat\":[43.529742],\"legendgroup\":\"Aix-en-Provence\",\"lon\":[5.447427],\"marker\":{\"color\":\"#00cc96\",\"size\":[0.0],\"sizemode\":\"area\",\"sizeref\":0.5475},\"mode\":\"markers\",\"name\":\"Aix-en-Provence\",\"showlegend\":true,\"subplot\":\"mapbox\",\"type\":\"scattermapbox\"},{\"hovertemplate\":\"city=Chamonix<br>deaths=%{marker.size}<br>lat=%{lat}<br>lon=%{lon}<extra></extra>\",\"lat\":[45.923697,45.923697,45.923697,45.923697],\"legendgroup\":\"Chamonix\",\"lon\":[6.869433,6.869433,6.869433,6.869433],\"marker\":{\"color\":\"#ab63fa\",\"size\":[11.0,3.0,1.0,8.0],\"sizemode\":\"area\",\"sizeref\":0.5475},\"mode\":\"markers\",\"name\":\"Chamonix\",\"showlegend\":true,\"subplot\":\"mapbox\",\"type\":\"scattermapbox\"},{\"hovertemplate\":\"city=Lyon<br>deaths=%{marker.size}<br>lat=%{lat}<br>lon=%{lon}<extra></extra>\",\"lat\":[45.764043,45.764043,45.764043],\"legendgroup\":\"Lyon\",\"lon\":[4.835659,4.835659,4.835659],\"marker\":{\"color\":\"#FFA15A\",\"size\":[1.0,28.0,1.0],\"sizemode\":\"area\",\"sizeref\":0.5475},\"mode\":\"markers\",\"name\":\"Lyon\",\"showlegend\":true,\"subplot\":\"mapbox\",\"type\":\"scattermapbox\"},{\"hovertemplate\":\"city=Boissey<br>deaths=%{marker.size}<br>lat=%{lat}<br>lon=%{lon}<extra></extra>\",\"lat\":[46.3812],\"legendgroup\":\"Boissey\",\"lon\":[4.996962],\"marker\":{\"color\":\"#19d3f3\",\"size\":[1.0],\"sizemode\":\"area\",\"sizeref\":0.5475},\"mode\":\"markers\",\"name\":\"Boissey\",\"showlegend\":true,\"subplot\":\"mapbox\",\"type\":\"scattermapbox\"},{\"hovertemplate\":\"city=Winterberg<br>deaths=%{marker.size}<br>lat=%{lat}<br>lon=%{lon}<extra></extra>\",\"lat\":[51.1935,51.1935,51.1935,51.1935,51.1935],\"legendgroup\":\"Winterberg\",\"lon\":[8.52758,8.52758,8.52758,8.52758,8.52758],\"marker\":{\"color\":\"#FF6692\",\"size\":[0.0,1.0,0.0,0.0,1.0],\"sizemode\":\"area\",\"sizeref\":0.5475},\"mode\":\"markers\",\"name\":\"Winterberg\",\"showlegend\":true,\"subplot\":\"mapbox\",\"type\":\"scattermapbox\"},{\"hovertemplate\":\"city=Arnsberg<br>deaths=%{marker.size}<br>lat=%{lat}<br>lon=%{lon}<extra></extra>\",\"lat\":[51.4073,51.4073,51.4073,51.4073,51.4073,51.4073,51.4073,51.4073,51.4073,51.4073,51.4073,51.4073,51.4073,51.4073,51.4073,51.4073,51.4073,51.4073,51.4073,51.4073,51.4073,51.4073,51.4073,51.4073,51.4073,51.4073,51.4073,51.4073,51.4073,51.4073,51.4073,51.4073,51.4073,51.4073,51.4073,51.4073,51.4073,51.4073,51.4073,51.4073,51.4073,51.4073,51.4073,51.4073,51.4073,51.4073,51.4073,51.4073,51.4073],\"legendgroup\":\"Arnsberg\",\"lon\":[8.05277,8.05277,8.05277,8.05277,8.05277,8.05277,8.05277,8.05277,8.05277,8.05277,8.05277,8.05277,8.05277,8.05277,8.05277,8.05277,8.05277,8.05277,8.05277,8.05277,8.05277,8.05277,8.05277,8.05277,8.05277,8.05277,8.05277,8.05277,8.05277,8.05277,8.05277,8.05277,8.05277,8.05277,8.05277,8.05277,8.05277,8.05277,8.05277,8.05277,8.05277,8.05277,8.05277,8.05277,8.05277,8.05277,8.05277,8.05277,8.05277],\"marker\":{\"color\":\"#B6E880\",\"size\":[0.0,0.0,0.0,9.0,6.0,1.0,3.0,5.0,4.0,0.0,1.0,0.0,0.0,13.0,7.0,0.0,0.0,5.0,1.0,0.0,3.0,1.0,0.0,1.0,3.0,0.0,6.0,5.0,1.0,0.0,0.0,24.0,4.0,0.0,8.0,1.0,6.0,5.0,9.0,1.0,2.0,3.0,3.0,0.0,10.0,0.0,1.0,0.0,0.0],\"sizemode\":\"area\",\"sizeref\":0.5475},\"mode\":\"markers\",\"name\":\"Arnsberg\",\"showlegend\":true,\"subplot\":\"mapbox\",\"type\":\"scattermapbox\"},{\"hovertemplate\":\"city=Anrochte<br>deaths=%{marker.size}<br>lat=%{lat}<br>lon=%{lon}<extra></extra>\",\"lat\":[51.5622,51.5622],\"legendgroup\":\"Anrochte\",\"lon\":[8.32562,8.32562],\"marker\":{\"color\":\"#FF97FF\",\"size\":[0.0,3.0],\"sizemode\":\"area\",\"sizeref\":0.5475},\"mode\":\"markers\",\"name\":\"Anrochte\",\"showlegend\":true,\"subplot\":\"mapbox\",\"type\":\"scattermapbox\"},{\"hovertemplate\":\"city=Bilstein<br>deaths=%{marker.size}<br>lat=%{lat}<br>lon=%{lon}<extra></extra>\",\"lat\":[51.0943,51.0943,51.0943,51.0943,51.0943,51.0943,51.0943,51.0943,51.0943,51.0943,51.0943,51.0943],\"legendgroup\":\"Bilstein\",\"lon\":[8.02011,8.02011,8.02011,8.02011,8.02011,8.02011,8.02011,8.02011,8.02011,8.02011,8.02011,8.02011],\"marker\":{\"color\":\"#FECB52\",\"size\":[1.0,0.0,21.0,2.0,6.0,0.0,6.0,14.0,2.0,3.0,34.0,0.0],\"sizemode\":\"area\",\"sizeref\":0.5475},\"mode\":\"markers\",\"name\":\"Bilstein\",\"showlegend\":true,\"subplot\":\"mapbox\",\"type\":\"scattermapbox\"},{\"hovertemplate\":\"city=Drolshagen<br>deaths=%{marker.size}<br>lat=%{lat}<br>lon=%{lon}<extra></extra>\",\"lat\":[51.0245,51.0245,51.0245],\"legendgroup\":\"Drolshagen\",\"lon\":[7.77063,7.77063,7.77063],\"marker\":{\"color\":\"#636efa\",\"size\":[2.0,12.0,1.0],\"sizemode\":\"area\",\"sizeref\":0.5475},\"mode\":\"markers\",\"name\":\"Drolshagen\",\"showlegend\":true,\"subplot\":\"mapbox\",\"type\":\"scattermapbox\"},{\"hovertemplate\":\"city=Padberg<br>deaths=%{marker.size}<br>lat=%{lat}<br>lon=%{lon}<extra></extra>\",\"lat\":[51.4055,51.4055,51.4055,51.4055,51.4055,51.4055,51.4055],\"legendgroup\":\"Padberg\",\"lon\":[8.76502,8.76502,8.76502,8.76502,8.76502,8.76502,8.76502],\"marker\":{\"color\":\"#EF553B\",\"size\":[1.0,0.0,1.0,3.0,1.0,1.0,0.0],\"sizemode\":\"area\",\"sizeref\":0.5475},\"mode\":\"markers\",\"name\":\"Padberg\",\"showlegend\":true,\"subplot\":\"mapbox\",\"type\":\"scattermapbox\"},{\"hovertemplate\":\"city=Finnentrop<br>deaths=%{marker.size}<br>lat=%{lat}<br>lon=%{lon}<extra></extra>\",\"lat\":[51.1736],\"legendgroup\":\"Finnentrop\",\"lon\":[7.97391],\"marker\":{\"color\":\"#00cc96\",\"size\":[0.0],\"sizemode\":\"area\",\"sizeref\":0.5475},\"mode\":\"markers\",\"name\":\"Finnentrop\",\"showlegend\":true,\"subplot\":\"mapbox\",\"type\":\"scattermapbox\"},{\"hovertemplate\":\"city=Olpe<br>deaths=%{marker.size}<br>lat=%{lat}<br>lon=%{lon}<extra></extra>\",\"lat\":[51.0282,51.0282,51.0282,51.0282,51.0282,51.0282,51.0282,51.0282,51.0282,51.0282,51.0282,51.0282,51.0282,51.0282,51.0282,51.0282],\"legendgroup\":\"Olpe\",\"lon\":[7.85029,7.85029,7.85029,7.85029,7.85029,7.85029,7.85029,7.85029,7.85029,7.85029,7.85029,7.85029,7.85029,7.85029,7.85029,7.85029],\"marker\":{\"color\":\"#ab63fa\",\"size\":[0.0,0.0,2.0,0.0,2.0,12.0,2.0,0.0,1.0,0.0,0.0,1.0,0.0,1.0,1.0,1.0],\"sizemode\":\"area\",\"sizeref\":0.5475},\"mode\":\"markers\",\"name\":\"Olpe\",\"showlegend\":true,\"subplot\":\"mapbox\",\"type\":\"scattermapbox\"},{\"hovertemplate\":\"city=Hallenberg<br>deaths=%{marker.size}<br>lat=%{lat}<br>lon=%{lon}<extra></extra>\",\"lat\":[51.1127,51.1127,51.1127,51.1127,51.1127,51.1127,51.1127,51.1127,51.1127,51.1127,51.1127],\"legendgroup\":\"Hallenberg\",\"lon\":[8.61958,8.61958,8.61958,8.61958,8.61958,8.61958,8.61958,8.61958,8.61958,8.61958,8.61958],\"marker\":{\"color\":\"#FFA15A\",\"size\":[2.0,0.0,1.0,0.0,14.0,0.0,0.0,0.0,0.0,0.0,0.0],\"sizemode\":\"area\",\"sizeref\":0.5475},\"mode\":\"markers\",\"name\":\"Hallenberg\",\"showlegend\":true,\"subplot\":\"mapbox\",\"type\":\"scattermapbox\"},{\"hovertemplate\":\"city=Attendorn<br>deaths=%{marker.size}<br>lat=%{lat}<br>lon=%{lon}<extra></extra>\",\"lat\":[51.1314,51.1314,51.1314,51.1314],\"legendgroup\":\"Attendorn\",\"lon\":[7.90494,7.90494,7.90494,7.90494],\"marker\":{\"color\":\"#19d3f3\",\"size\":[1.0,0.0,0.0,2.0],\"sizemode\":\"area\",\"sizeref\":0.5475},\"mode\":\"markers\",\"name\":\"Attendorn\",\"showlegend\":true,\"subplot\":\"mapbox\",\"type\":\"scattermapbox\"},{\"hovertemplate\":\"city=Menden<br>deaths=%{marker.size}<br>lat=%{lat}<br>lon=%{lon}<extra></extra>\",\"lat\":[51.4377,51.4377,51.4377,51.4377,51.4377],\"legendgroup\":\"Menden\",\"lon\":[7.79533,7.79533,7.79533,7.79533,7.79533],\"marker\":{\"color\":\"#FF6692\",\"size\":[0.0,18.0,36.0,8.0,14.0],\"sizemode\":\"area\",\"sizeref\":0.5475},\"mode\":\"markers\",\"name\":\"Menden\",\"showlegend\":true,\"subplot\":\"mapbox\",\"type\":\"scattermapbox\"},{\"hovertemplate\":\"city=Balve<br>deaths=%{marker.size}<br>lat=%{lat}<br>lon=%{lon}<extra></extra>\",\"lat\":[51.3309,51.3309,51.3309,51.3309,51.3309,51.3309,51.3309,51.3309,51.3309,51.3309,51.3309,51.3309],\"legendgroup\":\"Balve\",\"lon\":[7.86462,7.86462,7.86462,7.86462,7.86462,7.86462,7.86462,7.86462,7.86462,7.86462,7.86462,7.86462],\"marker\":{\"color\":\"#B6E880\",\"size\":[0.0,0.0,2.0,2.0,74.0,110.0,87.0,13.0,11.0,7.0,0.0,1.0],\"sizemode\":\"area\",\"sizeref\":0.5475},\"mode\":\"markers\",\"name\":\"Balve\",\"showlegend\":true,\"subplot\":\"mapbox\",\"type\":\"scattermapbox\"},{\"hovertemplate\":\"city=Warstein<br>deaths=%{marker.size}<br>lat=%{lat}<br>lon=%{lon}<extra></extra>\",\"lat\":[51.4492,51.4492,51.4492,51.4492,51.4492,51.4492,51.4492,51.4492],\"legendgroup\":\"Warstein\",\"lon\":[8.35577,8.35577,8.35577,8.35577,8.35577,8.35577,8.35577,8.35577],\"marker\":{\"color\":\"#FF97FF\",\"size\":[4.0,0.0,0.0,0.0,11.0,1.0,1.0,0.0],\"sizemode\":\"area\",\"sizeref\":0.5475},\"mode\":\"markers\",\"name\":\"Warstein\",\"showlegend\":true,\"subplot\":\"mapbox\",\"type\":\"scattermapbox\"},{\"hovertemplate\":\"city=Schmallenberg<br>deaths=%{marker.size}<br>lat=%{lat}<br>lon=%{lon}<extra></extra>\",\"lat\":[51.1526,51.1526,51.1526,51.1526,51.1526,51.1526,51.1526],\"legendgroup\":\"Schmallenberg\",\"lon\":[8.29079,8.29079,8.29079,8.29079,8.29079,8.29079,8.29079],\"marker\":{\"color\":\"#FECB52\",\"size\":[2.0,52.0,0.0,4.0,4.0,7.0,2.0],\"sizemode\":\"area\",\"sizeref\":0.5475},\"mode\":\"markers\",\"name\":\"Schmallenberg\",\"showlegend\":true,\"subplot\":\"mapbox\",\"type\":\"scattermapbox\"},{\"hovertemplate\":\"city=Bad Fredeburg<br>deaths=%{marker.size}<br>lat=%{lat}<br>lon=%{lon}<extra></extra>\",\"lat\":[51.1914],\"legendgroup\":\"Bad Fredeburg\",\"lon\":[8.31056],\"marker\":{\"color\":\"#636efa\",\"size\":[40.0],\"sizemode\":\"area\",\"sizeref\":0.5475},\"mode\":\"markers\",\"name\":\"Bad Fredeburg\",\"showlegend\":true,\"subplot\":\"mapbox\",\"type\":\"scattermapbox\"},{\"hovertemplate\":\"city=Medebach<br>deaths=%{marker.size}<br>lat=%{lat}<br>lon=%{lon}<extra></extra>\",\"lat\":[51.2002],\"legendgroup\":\"Medebach\",\"lon\":[8.70034],\"marker\":{\"color\":\"#EF553B\",\"size\":[2.0],\"sizemode\":\"area\",\"sizeref\":0.5475},\"mode\":\"markers\",\"name\":\"Medebach\",\"showlegend\":true,\"subplot\":\"mapbox\",\"type\":\"scattermapbox\"},{\"hovertemplate\":\"city=Sundern<br>deaths=%{marker.size}<br>lat=%{lat}<br>lon=%{lon}<extra></extra>\",\"lat\":[51.3254],\"legendgroup\":\"Sundern\",\"lon\":[8.00351],\"marker\":{\"color\":\"#00cc96\",\"size\":[0.0],\"sizemode\":\"area\",\"sizeref\":0.5475},\"mode\":\"markers\",\"name\":\"Sundern\",\"showlegend\":true,\"subplot\":\"mapbox\",\"type\":\"scattermapbox\"},{\"hovertemplate\":\"city=Meschede<br>deaths=%{marker.size}<br>lat=%{lat}<br>lon=%{lon}<extra></extra>\",\"lat\":[51.3511,51.3511],\"legendgroup\":\"Meschede\",\"lon\":[8.28513,8.28513],\"marker\":{\"color\":\"#ab63fa\",\"size\":[1.0,1.0],\"sizemode\":\"area\",\"sizeref\":0.5475},\"mode\":\"markers\",\"name\":\"Meschede\",\"showlegend\":true,\"subplot\":\"mapbox\",\"type\":\"scattermapbox\"},{\"hovertemplate\":\"city=Werl<br>deaths=%{marker.size}<br>lat=%{lat}<br>lon=%{lon}<extra></extra>\",\"lat\":[51.5584,51.5584],\"legendgroup\":\"Werl\",\"lon\":[7.91144,7.91144],\"marker\":{\"color\":\"#FFA15A\",\"size\":[53.0,0.0],\"sizemode\":\"area\",\"sizeref\":0.5475},\"mode\":\"markers\",\"name\":\"Werl\",\"showlegend\":true,\"subplot\":\"mapbox\",\"type\":\"scattermapbox\"},{\"hovertemplate\":\"city=Marsberg<br>deaths=%{marker.size}<br>lat=%{lat}<br>lon=%{lon}<extra></extra>\",\"lat\":[51.4575],\"legendgroup\":\"Marsberg\",\"lon\":[8.84746],\"marker\":{\"color\":\"#19d3f3\",\"size\":[2.0],\"sizemode\":\"area\",\"sizeref\":0.5475},\"mode\":\"markers\",\"name\":\"Marsberg\",\"showlegend\":true,\"subplot\":\"mapbox\",\"type\":\"scattermapbox\"},{\"hovertemplate\":\"city=Buren<br>deaths=%{marker.size}<br>lat=%{lat}<br>lon=%{lon}<extra></extra>\",\"lat\":[51.5509,51.5509],\"legendgroup\":\"Buren\",\"lon\":[8.55977,8.55977],\"marker\":{\"color\":\"#FF6692\",\"size\":[12.0,1.0],\"sizemode\":\"area\",\"sizeref\":0.5475},\"mode\":\"markers\",\"name\":\"Buren\",\"showlegend\":true,\"subplot\":\"mapbox\",\"type\":\"scattermapbox\"},{\"hovertemplate\":\"city=Reimerswaal<br>deaths=%{marker.size}<br>lat=%{lat}<br>lon=%{lon}<extra></extra>\",\"lat\":[51.41,51.4100025],\"legendgroup\":\"Reimerswaal\",\"lon\":[4.15445,4.1544478],\"marker\":{\"color\":\"#B6E880\",\"size\":[0.0,0.0],\"sizemode\":\"area\",\"sizeref\":0.5475},\"mode\":\"markers\",\"name\":\"Reimerswaal\",\"showlegend\":true,\"subplot\":\"mapbox\",\"type\":\"scattermapbox\"},{\"hovertemplate\":\"city=Veere<br>deaths=%{marker.size}<br>lat=%{lat}<br>lon=%{lon}<extra></extra>\",\"lat\":[51.5483,51.5483,51.5483,51.5483],\"legendgroup\":\"Veere\",\"lon\":[3.66601,3.66601,3.66601,3.66601],\"marker\":{\"color\":\"#FF97FF\",\"size\":[0.0,0.0,1.0,1.0],\"sizemode\":\"area\",\"sizeref\":0.5475},\"mode\":\"markers\",\"name\":\"Veere\",\"showlegend\":true,\"subplot\":\"mapbox\",\"type\":\"scattermapbox\"},{\"hovertemplate\":\"city=Vlissingen<br>deaths=%{marker.size}<br>lat=%{lat}<br>lon=%{lon}<extra></extra>\",\"lat\":[51.4537,51.4537],\"legendgroup\":\"Vlissingen\",\"lon\":[3.57091,3.57091],\"marker\":{\"color\":\"#FECB52\",\"size\":[1.0,0.0],\"sizemode\":\"area\",\"sizeref\":0.5475},\"mode\":\"markers\",\"name\":\"Vlissingen\",\"showlegend\":true,\"subplot\":\"mapbox\",\"type\":\"scattermapbox\"},{\"hovertemplate\":\"city=Middelburg<br>deaths=%{marker.size}<br>lat=%{lat}<br>lon=%{lon}<extra></extra>\",\"lat\":[51.4988,51.4988,51.4988,51.4988,51.4988,51.4988,51.4988],\"legendgroup\":\"Middelburg\",\"lon\":[3.611,3.611,3.611,3.611,3.611,3.611,3.611],\"marker\":{\"color\":\"#636efa\",\"size\":[0.0,0.0,0.0,0.0,0.0,0.0,0.0],\"sizemode\":\"area\",\"sizeref\":0.5475},\"mode\":\"markers\",\"name\":\"Middelburg\",\"showlegend\":true,\"subplot\":\"mapbox\",\"type\":\"scattermapbox\"},{\"hovertemplate\":\"city=Domburg<br>deaths=%{marker.size}<br>lat=%{lat}<br>lon=%{lon}<extra></extra>\",\"lat\":[51.5635],\"legendgroup\":\"Domburg\",\"lon\":[3.49986],\"marker\":{\"color\":\"#EF553B\",\"size\":[0.0],\"sizemode\":\"area\",\"sizeref\":0.5475},\"mode\":\"markers\",\"name\":\"Domburg\",\"showlegend\":true,\"subplot\":\"mapbox\",\"type\":\"scattermapbox\"},{\"hovertemplate\":\"city=Ouwerkerk<br>deaths=%{marker.size}<br>lat=%{lat}<br>lon=%{lon}<extra></extra>\",\"lat\":[51.626],\"legendgroup\":\"Ouwerkerk\",\"lon\":[3.98342],\"marker\":{\"color\":\"#00cc96\",\"size\":[0.0],\"sizemode\":\"area\",\"sizeref\":0.5475},\"mode\":\"markers\",\"name\":\"Ouwerkerk\",\"showlegend\":true,\"subplot\":\"mapbox\",\"type\":\"scattermapbox\"},{\"hovertemplate\":\"city=Zierikzee<br>deaths=%{marker.size}<br>lat=%{lat}<br>lon=%{lon}<extra></extra>\",\"lat\":[51.6501,51.6501],\"legendgroup\":\"Zierikzee\",\"lon\":[3.9185,3.9185],\"marker\":{\"color\":\"#ab63fa\",\"size\":[0.0,0.0],\"sizemode\":\"area\",\"sizeref\":0.5475},\"mode\":\"markers\",\"name\":\"Zierikzee\",\"showlegend\":true,\"subplot\":\"mapbox\",\"type\":\"scattermapbox\"},{\"hovertemplate\":\"city=Goes<br>deaths=%{marker.size}<br>lat=%{lat}<br>lon=%{lon}<extra></extra>\",\"lat\":[51.5046,51.5046],\"legendgroup\":\"Goes\",\"lon\":[3.89113,3.89113],\"marker\":{\"color\":\"#FFA15A\",\"size\":[0.0,0.0],\"sizemode\":\"area\",\"sizeref\":0.5475},\"mode\":\"markers\",\"name\":\"Goes\",\"showlegend\":true,\"subplot\":\"mapbox\",\"type\":\"scattermapbox\"},{\"hovertemplate\":\"city=Breskens<br>deaths=%{marker.size}<br>lat=%{lat}<br>lon=%{lon}<extra></extra>\",\"lat\":[51.3945,51.3945],\"legendgroup\":\"Breskens\",\"lon\":[3.55588,3.55588],\"marker\":{\"color\":\"#19d3f3\",\"size\":[0.0,0.0],\"sizemode\":\"area\",\"sizeref\":0.5475},\"mode\":\"markers\",\"name\":\"Breskens\",\"showlegend\":true,\"subplot\":\"mapbox\",\"type\":\"scattermapbox\"},{\"hovertemplate\":\"city=Borssele<br>deaths=%{marker.size}<br>lat=%{lat}<br>lon=%{lon}<extra></extra>\",\"lat\":[51.4257,51.4257,51.4257],\"legendgroup\":\"Borssele\",\"lon\":[3.73367,3.73367,3.73367],\"marker\":{\"color\":\"#FF6692\",\"size\":[0.0,0.0,0.0],\"sizemode\":\"area\",\"sizeref\":0.5475},\"mode\":\"markers\",\"name\":\"Borssele\",\"showlegend\":true,\"subplot\":\"mapbox\",\"type\":\"scattermapbox\"},{\"hovertemplate\":\"city=Hoek<br>deaths=%{marker.size}<br>lat=%{lat}<br>lon=%{lon}<extra></extra>\",\"lat\":[51.3117,51.3117,51.3117,51.3117],\"legendgroup\":\"Hoek\",\"lon\":[3.78072,3.78072,3.78072,3.78072],\"marker\":{\"color\":\"#B6E880\",\"size\":[0.0,0.0,0.0,0.0],\"sizemode\":\"area\",\"sizeref\":0.5475},\"mode\":\"markers\",\"name\":\"Hoek\",\"showlegend\":true,\"subplot\":\"mapbox\",\"type\":\"scattermapbox\"},{\"hovertemplate\":\"city=Sluis<br>deaths=%{marker.size}<br>lat=%{lat}<br>lon=%{lon}<extra></extra>\",\"lat\":[51.3087],\"legendgroup\":\"Sluis\",\"lon\":[3.38792],\"marker\":{\"color\":\"#FF97FF\",\"size\":[0.0],\"sizemode\":\"area\",\"sizeref\":0.5475},\"mode\":\"markers\",\"name\":\"Sluis\",\"showlegend\":true,\"subplot\":\"mapbox\",\"type\":\"scattermapbox\"},{\"hovertemplate\":\"city=Sint-Maartensdijk<br>deaths=%{marker.size}<br>lat=%{lat}<br>lon=%{lon}<extra></extra>\",\"lat\":[51.5491,51.5491,51.5491],\"legendgroup\":\"Sint-Maartensdijk\",\"lon\":[4.07672,4.07672,4.07672],\"marker\":{\"color\":\"#FECB52\",\"size\":[0.0,0.0,0.0],\"sizemode\":\"area\",\"sizeref\":0.5475},\"mode\":\"markers\",\"name\":\"Sint-Maartensdijk\",\"showlegend\":true,\"subplot\":\"mapbox\",\"type\":\"scattermapbox\"},{\"hovertemplate\":\"city=Scherpenisse<br>deaths=%{marker.size}<br>lat=%{lat}<br>lon=%{lon}<extra></extra>\",\"lat\":[51.5463,51.5463,51.5463],\"legendgroup\":\"Scherpenisse\",\"lon\":[4.10403,4.10403,4.10403],\"marker\":{\"color\":\"#636efa\",\"size\":[0.0,0.0,0.0],\"sizemode\":\"area\",\"sizeref\":0.5475},\"mode\":\"markers\",\"name\":\"Scherpenisse\",\"showlegend\":true,\"subplot\":\"mapbox\",\"type\":\"scattermapbox\"},{\"hovertemplate\":\"city=Biervliet<br>deaths=%{marker.size}<br>lat=%{lat}<br>lon=%{lon}<extra></extra>\",\"lat\":[51.3286],\"legendgroup\":\"Biervliet\",\"lon\":[3.6856],\"marker\":{\"color\":\"#EF553B\",\"size\":[0.0],\"sizemode\":\"area\",\"sizeref\":0.5475},\"mode\":\"markers\",\"name\":\"Biervliet\",\"showlegend\":true,\"subplot\":\"mapbox\",\"type\":\"scattermapbox\"},{\"hovertemplate\":\"city=Sint-Annaland<br>deaths=%{marker.size}<br>lat=%{lat}<br>lon=%{lon}<extra></extra>\",\"lat\":[51.5999],\"legendgroup\":\"Sint-Annaland\",\"lon\":[4.10332],\"marker\":{\"color\":\"#00cc96\",\"size\":[0.0],\"sizemode\":\"area\",\"sizeref\":0.5475},\"mode\":\"markers\",\"name\":\"Sint-Annaland\",\"showlegend\":true,\"subplot\":\"mapbox\",\"type\":\"scattermapbox\"},{\"hovertemplate\":\"city=Vrouwenpolder<br>deaths=%{marker.size}<br>lat=%{lat}<br>lon=%{lon}<extra></extra>\",\"lat\":[51.5773],\"legendgroup\":\"Vrouwenpolder\",\"lon\":[3.61875],\"marker\":{\"color\":\"#ab63fa\",\"size\":[0.0],\"sizemode\":\"area\",\"sizeref\":0.5475},\"mode\":\"markers\",\"name\":\"Vrouwenpolder\",\"showlegend\":true,\"subplot\":\"mapbox\",\"type\":\"scattermapbox\"},{\"hovertemplate\":\"city=Strassburg<br>deaths=%{marker.size}<br>lat=%{lat}<br>lon=%{lon}<extra></extra>\",\"lat\":[48.573405,48.573405,48.573405],\"legendgroup\":\"Strassburg\",\"lon\":[7.752111,7.752111,7.752111],\"marker\":{\"color\":\"#FFA15A\",\"size\":[0.0,0.0,1.0],\"sizemode\":\"area\",\"sizeref\":0.5475},\"mode\":\"markers\",\"name\":\"Strassburg\",\"showlegend\":true,\"subplot\":\"mapbox\",\"type\":\"scattermapbox\"},{\"hovertemplate\":\"city=Schlettstadt<br>deaths=%{marker.size}<br>lat=%{lat}<br>lon=%{lon}<extra></extra>\",\"lat\":[48.259386],\"legendgroup\":\"Schlettstadt\",\"lon\":[7.454241],\"marker\":{\"color\":\"#19d3f3\",\"size\":[1.0],\"sizemode\":\"area\",\"sizeref\":0.5475},\"mode\":\"markers\",\"name\":\"Schlettstadt\",\"showlegend\":true,\"subplot\":\"mapbox\",\"type\":\"scattermapbox\"},{\"hovertemplate\":\"city=Marmande<br>deaths=%{marker.size}<br>lat=%{lat}<br>lon=%{lon}<extra></extra>\",\"lat\":[44.500484],\"legendgroup\":\"Marmande\",\"lon\":[0.159869],\"marker\":{\"color\":\"#FF6692\",\"size\":[7.0],\"sizemode\":\"area\",\"sizeref\":0.5475},\"mode\":\"markers\",\"name\":\"Marmande\",\"showlegend\":true,\"subplot\":\"mapbox\",\"type\":\"scattermapbox\"},{\"hovertemplate\":\"city=Le Puy-en-Velay<br>deaths=%{marker.size}<br>lat=%{lat}<br>lon=%{lon}<extra></extra>\",\"lat\":[45.042768],\"legendgroup\":\"Le Puy-en-Velay\",\"lon\":[3.882936],\"marker\":{\"color\":\"#B6E880\",\"size\":[1.0],\"sizemode\":\"area\",\"sizeref\":0.5475},\"mode\":\"markers\",\"name\":\"Le Puy-en-Velay\",\"showlegend\":true,\"subplot\":\"mapbox\",\"type\":\"scattermapbox\"},{\"hovertemplate\":\"city=Ehingen<br>deaths=%{marker.size}<br>lat=%{lat}<br>lon=%{lon}<extra></extra>\",\"lat\":[48.283333],\"legendgroup\":\"Ehingen\",\"lon\":[9.723611],\"marker\":{\"color\":\"#FF97FF\",\"size\":[1.0],\"sizemode\":\"area\",\"sizeref\":0.5475},\"mode\":\"markers\",\"name\":\"Ehingen\",\"showlegend\":true,\"subplot\":\"mapbox\",\"type\":\"scattermapbox\"},{\"hovertemplate\":\"city=Konstanz<br>deaths=%{marker.size}<br>lat=%{lat}<br>lon=%{lon}<extra></extra>\",\"lat\":[47.6779496,47.6779496,47.6779496,47.6779496,47.6779,47.6779,47.6779,47.6779,47.6779,47.6779,47.6779],\"legendgroup\":\"Konstanz\",\"lon\":[9.1732384,9.1732384,9.1732384,9.1732384,9.17324,9.17324,9.17324,9.17324,9.17324,9.17324,9.17324],\"marker\":{\"color\":\"#FECB52\",\"size\":[1.0,1.0,1.0,1.0,1.0,2.0,2.0,48.0,0.0,7.0,2.0],\"sizemode\":\"area\",\"sizeref\":0.5475},\"mode\":\"markers\",\"name\":\"Konstanz\",\"showlegend\":true,\"subplot\":\"mapbox\",\"type\":\"scattermapbox\"},{\"hovertemplate\":\"city=Heidelberg<br>deaths=%{marker.size}<br>lat=%{lat}<br>lon=%{lon}<extra></extra>\",\"lat\":[49.3987524,49.3988],\"legendgroup\":\"Heidelberg\",\"lon\":[8.6724335,8.67243],\"marker\":{\"color\":\"#636efa\",\"size\":[1.0,2.0],\"sizemode\":\"area\",\"sizeref\":0.5475},\"mode\":\"markers\",\"name\":\"Heidelberg\",\"showlegend\":true,\"subplot\":\"mapbox\",\"type\":\"scattermapbox\"},{\"hovertemplate\":\"city=Ravensburg<br>deaths=%{marker.size}<br>lat=%{lat}<br>lon=%{lon}<extra></extra>\",\"lat\":[47.7782704,47.7783],\"legendgroup\":\"Ravensburg\",\"lon\":[9.6121303,9.61213],\"marker\":{\"color\":\"#EF553B\",\"size\":[2.0,0.0],\"sizemode\":\"area\",\"sizeref\":0.5475},\"mode\":\"markers\",\"name\":\"Ravensburg\",\"showlegend\":true,\"subplot\":\"mapbox\",\"type\":\"scattermapbox\"},{\"hovertemplate\":\"city=Liestal<br>deaths=%{marker.size}<br>lat=%{lat}<br>lon=%{lon}<extra></extra>\",\"lat\":[47.481606],\"legendgroup\":\"Liestal\",\"lon\":[7.7395731],\"marker\":{\"color\":\"#00cc96\",\"size\":[1.0],\"sizemode\":\"area\",\"sizeref\":0.5475},\"mode\":\"markers\",\"name\":\"Liestal\",\"showlegend\":true,\"subplot\":\"mapbox\",\"type\":\"scattermapbox\"},{\"hovertemplate\":\"city=Basel<br>deaths=%{marker.size}<br>lat=%{lat}<br>lon=%{lon}<extra></extra>\",\"lat\":[47.5674422,47.5674422,47.5674422,47.5674422,47.5674422,47.5674422],\"legendgroup\":\"Basel\",\"lon\":[7.5975507,7.5975507,7.5975507,7.5975507,7.5975507,7.5975507],\"marker\":{\"color\":\"#ab63fa\",\"size\":[0.0,0.0,0.0,0.0,0.0,1.0],\"sizemode\":\"area\",\"sizeref\":0.5475},\"mode\":\"markers\",\"name\":\"Basel\",\"showlegend\":true,\"subplot\":\"mapbox\",\"type\":\"scattermapbox\"},{\"hovertemplate\":\"city=Nurnberg<br>deaths=%{marker.size}<br>lat=%{lat}<br>lon=%{lon}<extra></extra>\",\"lat\":[49.45203],\"legendgroup\":\"Nurnberg\",\"lon\":[11.07675],\"marker\":{\"color\":\"#FFA15A\",\"size\":[0.0],\"sizemode\":\"area\",\"sizeref\":0.5475},\"mode\":\"markers\",\"name\":\"Nurnberg\",\"showlegend\":true,\"subplot\":\"mapbox\",\"type\":\"scattermapbox\"},{\"hovertemplate\":\"city=Nuremberg<br>deaths=%{marker.size}<br>lat=%{lat}<br>lon=%{lon}<extra></extra>\",\"lat\":[49.45203,49.45203,49.45203,49.45203,49.45203,49.45203,49.45203,49.45203,49.45203,49.45203,49.45203,49.45203,49.45203],\"legendgroup\":\"Nuremberg\",\"lon\":[11.07675,11.07675,11.07675,11.07675,11.07675,11.07675,11.07675,11.07675,11.07675,11.07675,11.07675,11.07675,11.07675],\"marker\":{\"color\":\"#19d3f3\",\"size\":[0.0,0.0,0.0,0.0,0.0,0.0,0.0,0.0,0.0,0.0,0.0,0.0,0.0],\"sizemode\":\"area\",\"sizeref\":0.5475},\"mode\":\"markers\",\"name\":\"Nuremberg\",\"showlegend\":true,\"subplot\":\"mapbox\",\"type\":\"scattermapbox\"},{\"hovertemplate\":\"city=Bamberg<br>deaths=%{marker.size}<br>lat=%{lat}<br>lon=%{lon}<extra></extra>\",\"lat\":[49.898814],\"legendgroup\":\"Bamberg\",\"lon\":[10.902764],\"marker\":{\"color\":\"#FF6692\",\"size\":[0.0],\"sizemode\":\"area\",\"sizeref\":0.5475},\"mode\":\"markers\",\"name\":\"Bamberg\",\"showlegend\":true,\"subplot\":\"mapbox\",\"type\":\"scattermapbox\"},{\"hovertemplate\":\"city=Holzkirchen<br>deaths=%{marker.size}<br>lat=%{lat}<br>lon=%{lon}<extra></extra>\",\"lat\":[47.8810573],\"legendgroup\":\"Holzkirchen\",\"lon\":[11.6997577],\"marker\":{\"color\":\"#B6E880\",\"size\":[1.0],\"sizemode\":\"area\",\"sizeref\":0.5475},\"mode\":\"markers\",\"name\":\"Holzkirchen\",\"showlegend\":true,\"subplot\":\"mapbox\",\"type\":\"scattermapbox\"},{\"hovertemplate\":\"city=Berlin<br>deaths=%{marker.size}<br>lat=%{lat}<br>lon=%{lon}<extra></extra>\",\"lat\":[52.5200066,52.5200066,52.5200066,52.5200066],\"legendgroup\":\"Berlin\",\"lon\":[13.404954,13.404954,13.404954,13.404954],\"marker\":{\"color\":\"#FF97FF\",\"size\":[1.0,1.0,1.0,2.0],\"sizemode\":\"area\",\"sizeref\":0.5475},\"mode\":\"markers\",\"name\":\"Berlin\",\"showlegend\":true,\"subplot\":\"mapbox\",\"type\":\"scattermapbox\"},{\"hovertemplate\":\"city=Bern<br>deaths=%{marker.size}<br>lat=%{lat}<br>lon=%{lon}<extra></extra>\",\"lat\":[46.9479222,46.9479222,46.9479222],\"legendgroup\":\"Bern\",\"lon\":[7.4446085,7.4446085,7.4446085],\"marker\":{\"color\":\"#FECB52\",\"size\":[1.0,1.0,0.0],\"sizemode\":\"area\",\"sizeref\":0.5475},\"mode\":\"markers\",\"name\":\"Bern\",\"showlegend\":true,\"subplot\":\"mapbox\",\"type\":\"scattermapbox\"},{\"hovertemplate\":\"city=Autun<br>deaths=%{marker.size}<br>lat=%{lat}<br>lon=%{lon}<extra></extra>\",\"lat\":[46.950914],\"legendgroup\":\"Autun\",\"lon\":[4.301565],\"marker\":{\"color\":\"#636efa\",\"size\":[0.0],\"sizemode\":\"area\",\"sizeref\":0.5475},\"mode\":\"markers\",\"name\":\"Autun\",\"showlegend\":true,\"subplot\":\"mapbox\",\"type\":\"scattermapbox\"},{\"hovertemplate\":\"city=Macon<br>deaths=%{marker.size}<br>lat=%{lat}<br>lon=%{lon}<extra></extra>\",\"lat\":[46.3068839,46.3068839,46.3068839,46.3068839],\"legendgroup\":\"Macon\",\"lon\":[4.828731,4.828731,4.828731,4.828731],\"marker\":{\"color\":\"#EF553B\",\"size\":[1.0,1.0,1.0,1.0],\"sizemode\":\"area\",\"sizeref\":0.5475},\"mode\":\"markers\",\"name\":\"Macon\",\"showlegend\":true,\"subplot\":\"mapbox\",\"type\":\"scattermapbox\"},{\"hovertemplate\":\"city=Angermunde<br>deaths=%{marker.size}<br>lat=%{lat}<br>lon=%{lon}<extra></extra>\",\"lat\":[53.014542],\"legendgroup\":\"Angermunde\",\"lon\":[13.996593],\"marker\":{\"color\":\"#00cc96\",\"size\":[14.0],\"sizemode\":\"area\",\"sizeref\":0.5475},\"mode\":\"markers\",\"name\":\"Angermunde\",\"showlegend\":true,\"subplot\":\"mapbox\",\"type\":\"scattermapbox\"},{\"hovertemplate\":\"city=Prenzlau<br>deaths=%{marker.size}<br>lat=%{lat}<br>lon=%{lon}<extra></extra>\",\"lat\":[53.3173433],\"legendgroup\":\"Prenzlau\",\"lon\":[13.8633409],\"marker\":{\"color\":\"#ab63fa\",\"size\":[0.0],\"sizemode\":\"area\",\"sizeref\":0.5475},\"mode\":\"markers\",\"name\":\"Prenzlau\",\"showlegend\":true,\"subplot\":\"mapbox\",\"type\":\"scattermapbox\"},{\"hovertemplate\":\"city=Brussels<br>deaths=%{marker.size}<br>lat=%{lat}<br>lon=%{lon}<extra></extra>\",\"lat\":[50.85034],\"legendgroup\":\"Brussels\",\"lon\":[4.35171],\"marker\":{\"color\":\"#FFA15A\",\"size\":[0.0],\"sizemode\":\"area\",\"sizeref\":0.5475},\"mode\":\"markers\",\"name\":\"Brussels\",\"showlegend\":true,\"subplot\":\"mapbox\",\"type\":\"scattermapbox\"},{\"hovertemplate\":\"city=Barcelona<br>deaths=%{marker.size}<br>lat=%{lat}<br>lon=%{lon}<extra></extra>\",\"lat\":[41.3850639,41.3850639],\"legendgroup\":\"Barcelona\",\"lon\":[2.1734035,2.1734035],\"marker\":{\"color\":\"#19d3f3\",\"size\":[0.0,0.0],\"sizemode\":\"area\",\"sizeref\":0.5475},\"mode\":\"markers\",\"name\":\"Barcelona\",\"showlegend\":true,\"subplot\":\"mapbox\",\"type\":\"scattermapbox\"},{\"hovertemplate\":\"city=Vic<br>deaths=%{marker.size}<br>lat=%{lat}<br>lon=%{lon}<extra></extra>\",\"lat\":[41.9304373],\"legendgroup\":\"Vic\",\"lon\":[2.2544335],\"marker\":{\"color\":\"#FF6692\",\"size\":[1.0],\"sizemode\":\"area\",\"sizeref\":0.5475},\"mode\":\"markers\",\"name\":\"Vic\",\"showlegend\":true,\"subplot\":\"mapbox\",\"type\":\"scattermapbox\"},{\"hovertemplate\":\"city=Chalons-sur-Marne<br>deaths=%{marker.size}<br>lat=%{lat}<br>lon=%{lon}<extra></extra>\",\"lat\":[48.956682],\"legendgroup\":\"Chalons-sur-Marne\",\"lon\":[4.363073],\"marker\":{\"color\":\"#B6E880\",\"size\":[0.0],\"sizemode\":\"area\",\"sizeref\":0.5475},\"mode\":\"markers\",\"name\":\"Chalons-sur-Marne\",\"showlegend\":true,\"subplot\":\"mapbox\",\"type\":\"scattermapbox\"},{\"hovertemplate\":\"city=Ferrara<br>deaths=%{marker.size}<br>lat=%{lat}<br>lon=%{lon}<extra></extra>\",\"lat\":[44.8381237],\"legendgroup\":\"Ferrara\",\"lon\":[11.619787],\"marker\":{\"color\":\"#FF97FF\",\"size\":[1.0],\"sizemode\":\"area\",\"sizeref\":0.5475},\"mode\":\"markers\",\"name\":\"Ferrara\",\"showlegend\":true,\"subplot\":\"mapbox\",\"type\":\"scattermapbox\"},{\"hovertemplate\":\"city=Coventry<br>deaths=%{marker.size}<br>lat=%{lat}<br>lon=%{lon}<extra></extra>\",\"lat\":[52.406822],\"legendgroup\":\"Coventry\",\"lon\":[-1.519693],\"marker\":{\"color\":\"#FECB52\",\"size\":[0.0],\"sizemode\":\"area\",\"sizeref\":0.5475},\"mode\":\"markers\",\"name\":\"Coventry\",\"showlegend\":true,\"subplot\":\"mapbox\",\"type\":\"scattermapbox\"},{\"hovertemplate\":\"city=Exeter<br>deaths=%{marker.size}<br>lat=%{lat}<br>lon=%{lon}<extra></extra>\",\"lat\":[50.718412,50.718412],\"legendgroup\":\"Exeter\",\"lon\":[-3.533899,-3.533899],\"marker\":{\"color\":\"#636efa\",\"size\":[0.0,0.0],\"sizemode\":\"area\",\"sizeref\":0.5475},\"mode\":\"markers\",\"name\":\"Exeter\",\"showlegend\":true,\"subplot\":\"mapbox\",\"type\":\"scattermapbox\"},{\"hovertemplate\":\"city=London<br>deaths=%{marker.size}<br>lat=%{lat}<br>lon=%{lon}<extra></extra>\",\"lat\":[51.5073509,51.5073509,51.5073509,51.5073509,51.5073509,51.5073509,51.5073509,51.5073509,51.5073509],\"legendgroup\":\"London\",\"lon\":[-0.1277583,-0.1277583,-0.1277583,-0.1277583,-0.1277583,-0.1277583,-0.1277583,-0.1277583,-0.1277583],\"marker\":{\"color\":\"#EF553B\",\"size\":[0.0,0.0,1.0,0.0,0.0,2.0,0.0,0.0,0.0],\"sizemode\":\"area\",\"sizeref\":0.5475},\"mode\":\"markers\",\"name\":\"London\",\"showlegend\":true,\"subplot\":\"mapbox\",\"type\":\"scattermapbox\"},{\"hovertemplate\":\"city=Hatfield<br>deaths=%{marker.size}<br>lat=%{lat}<br>lon=%{lon}<extra></extra>\",\"lat\":[51.763366],\"legendgroup\":\"Hatfield\",\"lon\":[-0.22309],\"marker\":{\"color\":\"#00cc96\",\"size\":[0.0],\"sizemode\":\"area\",\"sizeref\":0.5475},\"mode\":\"markers\",\"name\":\"Hatfield\",\"showlegend\":true,\"subplot\":\"mapbox\",\"type\":\"scattermapbox\"},{\"hovertemplate\":\"city=Southwark<br>deaths=%{marker.size}<br>lat=%{lat}<br>lon=%{lon}<extra></extra>\",\"lat\":[51.5073509],\"legendgroup\":\"Southwark\",\"lon\":[-0.1277583],\"marker\":{\"color\":\"#ab63fa\",\"size\":[0.0],\"sizemode\":\"area\",\"sizeref\":0.5475},\"mode\":\"markers\",\"name\":\"Southwark\",\"showlegend\":true,\"subplot\":\"mapbox\",\"type\":\"scattermapbox\"},{\"hovertemplate\":\"city=Canterbury<br>deaths=%{marker.size}<br>lat=%{lat}<br>lon=%{lon}<extra></extra>\",\"lat\":[51.280233],\"legendgroup\":\"Canterbury\",\"lon\":[1.0789089],\"marker\":{\"color\":\"#FFA15A\",\"size\":[0.0],\"sizemode\":\"area\",\"sizeref\":0.5475},\"mode\":\"markers\",\"name\":\"Canterbury\",\"showlegend\":true,\"subplot\":\"mapbox\",\"type\":\"scattermapbox\"},{\"hovertemplate\":\"city=Durham<br>deaths=%{marker.size}<br>lat=%{lat}<br>lon=%{lon}<extra></extra>\",\"lat\":[54.77525,54.77525],\"legendgroup\":\"Durham\",\"lon\":[-1.584852,-1.584852],\"marker\":{\"color\":\"#19d3f3\",\"size\":[0.0,0.0],\"sizemode\":\"area\",\"sizeref\":0.5475},\"mode\":\"markers\",\"name\":\"Durham\",\"showlegend\":true,\"subplot\":\"mapbox\",\"type\":\"scattermapbox\"},{\"hovertemplate\":\"city=Wadenhoe<br>deaths=%{marker.size}<br>lat=%{lat}<br>lon=%{lon}<extra></extra>\",\"lat\":[52.439983],\"legendgroup\":\"Wadenhoe\",\"lon\":[-0.514431],\"marker\":{\"color\":\"#FF6692\",\"size\":[0.0],\"sizemode\":\"area\",\"sizeref\":0.5475},\"mode\":\"markers\",\"name\":\"Wadenhoe\",\"showlegend\":true,\"subplot\":\"mapbox\",\"type\":\"scattermapbox\"},{\"hovertemplate\":\"city=Ely<br>deaths=%{marker.size}<br>lat=%{lat}<br>lon=%{lon}<extra></extra>\",\"lat\":[52.399539],\"legendgroup\":\"Ely\",\"lon\":[0.262363],\"marker\":{\"color\":\"#B6E880\",\"size\":[0.0],\"sizemode\":\"area\",\"sizeref\":0.5475},\"mode\":\"markers\",\"name\":\"Ely\",\"showlegend\":true,\"subplot\":\"mapbox\",\"type\":\"scattermapbox\"},{\"hovertemplate\":\"city=Fribourg<br>deaths=%{marker.size}<br>lat=%{lat}<br>lon=%{lon}<extra></extra>\",\"lat\":[46.8016663,46.8016663,46.8016663,46.8016663,46.8016663,46.8016663,46.8016663,46.8016663,46.8016663,46.8016663,46.8016663,46.8016663,46.8016663,46.8016663,46.8016663,46.8016663],\"legendgroup\":\"Fribourg\",\"lon\":[7.1455683,7.1455683,7.1455683,7.1455683,7.1455683,7.1455683,7.1455683,7.1455683,7.1455683,7.1455683,7.1455683,7.1455683,7.1455683,7.1455683,7.1455683,7.1455683],\"marker\":{\"color\":\"#FF97FF\",\"size\":[0.0,0.0,0.0,0.0,0.0,1.0,1.0,2.0,5.0,8.0,1.0,4.0,1.0,2.0,2.0,1.0],\"sizemode\":\"area\",\"sizeref\":0.5475},\"mode\":\"markers\",\"name\":\"Fribourg\",\"showlegend\":true,\"subplot\":\"mapbox\",\"type\":\"scattermapbox\"},{\"hovertemplate\":\"city=Murten<br>deaths=%{marker.size}<br>lat=%{lat}<br>lon=%{lon}<extra></extra>\",\"lat\":[46.9293433],\"legendgroup\":\"Murten\",\"lon\":[7.1204652],\"marker\":{\"color\":\"#FECB52\",\"size\":[1.0],\"sizemode\":\"area\",\"sizeref\":0.5475},\"mode\":\"markers\",\"name\":\"Murten\",\"showlegend\":true,\"subplot\":\"mapbox\",\"type\":\"scattermapbox\"},{\"hovertemplate\":\"city=Putten<br>deaths=%{marker.size}<br>lat=%{lat}<br>lon=%{lon}<extra></extra>\",\"lat\":[52.258676,52.258676],\"legendgroup\":\"Putten\",\"lon\":[5.6053727,5.6053727],\"marker\":{\"color\":\"#636efa\",\"size\":[0.0,0.0],\"sizemode\":\"area\",\"sizeref\":0.5475},\"mode\":\"markers\",\"name\":\"Putten\",\"showlegend\":true,\"subplot\":\"mapbox\",\"type\":\"scattermapbox\"},{\"hovertemplate\":\"city=Zutphen<br>deaths=%{marker.size}<br>lat=%{lat}<br>lon=%{lon}<extra></extra>\",\"lat\":[52.142736],\"legendgroup\":\"Zutphen\",\"lon\":[6.1960584],\"marker\":{\"color\":\"#EF553B\",\"size\":[1.0],\"sizemode\":\"area\",\"sizeref\":0.5475},\"mode\":\"markers\",\"name\":\"Zutphen\",\"showlegend\":true,\"subplot\":\"mapbox\",\"type\":\"scattermapbox\"},{\"hovertemplate\":\"city=Poznan<br>deaths=%{marker.size}<br>lat=%{lat}<br>lon=%{lon}<extra></extra>\",\"lat\":[52.406374],\"legendgroup\":\"Poznan\",\"lon\":[16.9251681],\"marker\":{\"color\":\"#00cc96\",\"size\":[0.0],\"sizemode\":\"area\",\"sizeref\":0.5475},\"mode\":\"markers\",\"name\":\"Poznan\",\"showlegend\":true,\"subplot\":\"mapbox\",\"type\":\"scattermapbox\"},{\"hovertemplate\":\"city=Hamburg<br>deaths=%{marker.size}<br>lat=%{lat}<br>lon=%{lon}<extra></extra>\",\"lat\":[53.5510846,53.5510846,53.5510846],\"legendgroup\":\"Hamburg\",\"lon\":[9.9936818,9.9936818,9.9936818],\"marker\":{\"color\":\"#ab63fa\",\"size\":[2.0,1.0,1.0],\"sizemode\":\"area\",\"sizeref\":0.5475},\"mode\":\"markers\",\"name\":\"Hamburg\",\"showlegend\":true,\"subplot\":\"mapbox\",\"type\":\"scattermapbox\"},{\"hovertemplate\":\"city=Frankfurt am Main<br>deaths=%{marker.size}<br>lat=%{lat}<br>lon=%{lon}<extra></extra>\",\"lat\":[50.1109221,50.1109221,50.1109221],\"legendgroup\":\"Frankfurt am Main\",\"lon\":[8.6821267,8.6821267,8.6821267],\"marker\":{\"color\":\"#FFA15A\",\"size\":[0.0,0.0,1.0],\"sizemode\":\"area\",\"sizeref\":0.5475},\"mode\":\"markers\",\"name\":\"Frankfurt am Main\",\"showlegend\":true,\"subplot\":\"mapbox\",\"type\":\"scattermapbox\"},{\"hovertemplate\":\"city=Dillenburg<br>deaths=%{marker.size}<br>lat=%{lat}<br>lon=%{lon}<extra></extra>\",\"lat\":[50.7452841],\"legendgroup\":\"Dillenburg\",\"lon\":[8.2807631],\"marker\":{\"color\":\"#19d3f3\",\"size\":[1.0],\"sizemode\":\"area\",\"sizeref\":0.5475},\"mode\":\"markers\",\"name\":\"Dillenburg\",\"showlegend\":true,\"subplot\":\"mapbox\",\"type\":\"scattermapbox\"},{\"hovertemplate\":\"city=Chateau-Landon<br>deaths=%{marker.size}<br>lat=%{lat}<br>lon=%{lon}<extra></extra>\",\"lat\":[48.150232],\"legendgroup\":\"Chateau-Landon\",\"lon\":[2.704426],\"marker\":{\"color\":\"#FF6692\",\"size\":[1.0],\"sizemode\":\"area\",\"sizeref\":0.5475},\"mode\":\"markers\",\"name\":\"Chateau-Landon\",\"showlegend\":true,\"subplot\":\"mapbox\",\"type\":\"scattermapbox\"},{\"hovertemplate\":\"city=Mantes<br>deaths=%{marker.size}<br>lat=%{lat}<br>lon=%{lon}<extra></extra>\",\"lat\":[48.989323],\"legendgroup\":\"Mantes\",\"lon\":[1.714958],\"marker\":{\"color\":\"#B6E880\",\"size\":[0.0],\"sizemode\":\"area\",\"sizeref\":0.5475},\"mode\":\"markers\",\"name\":\"Mantes\",\"showlegend\":true,\"subplot\":\"mapbox\",\"type\":\"scattermapbox\"},{\"hovertemplate\":\"city=Mende<br>deaths=%{marker.size}<br>lat=%{lat}<br>lon=%{lon}<extra></extra>\",\"lat\":[44.517611],\"legendgroup\":\"Mende\",\"lon\":[3.501873],\"marker\":{\"color\":\"#FF97FF\",\"size\":[0.0],\"sizemode\":\"area\",\"sizeref\":0.5475},\"mode\":\"markers\",\"name\":\"Mende\",\"showlegend\":true,\"subplot\":\"mapbox\",\"type\":\"scattermapbox\"},{\"hovertemplate\":\"city=Rome<br>deaths=%{marker.size}<br>lat=%{lat}<br>lon=%{lon}<extra></extra>\",\"lat\":[41.9027835,41.9027835],\"legendgroup\":\"Rome\",\"lon\":[12.4963655,12.4963655],\"marker\":{\"color\":\"#FECB52\",\"size\":[1.0,1.0],\"sizemode\":\"area\",\"sizeref\":0.5475},\"mode\":\"markers\",\"name\":\"Rome\",\"showlegend\":true,\"subplot\":\"mapbox\",\"type\":\"scattermapbox\"},{\"hovertemplate\":\"city=Milan<br>deaths=%{marker.size}<br>lat=%{lat}<br>lon=%{lon}<extra></extra>\",\"lat\":[45.4654219,45.4654219,45.4654219,45.4654219,45.4654219],\"legendgroup\":\"Milan\",\"lon\":[9.1859243,9.1859243,9.1859243,9.1859243,9.1859243],\"marker\":{\"color\":\"#636efa\",\"size\":[0.0,1.0,1.0,1.0,0.0],\"sizemode\":\"area\",\"sizeref\":0.5475},\"mode\":\"markers\",\"name\":\"Milan\",\"showlegend\":true,\"subplot\":\"mapbox\",\"type\":\"scattermapbox\"},{\"hovertemplate\":\"city=Brescia<br>deaths=%{marker.size}<br>lat=%{lat}<br>lon=%{lon}<extra></extra>\",\"lat\":[45.5415526,45.5415526],\"legendgroup\":\"Brescia\",\"lon\":[10.2118019,10.2118019],\"marker\":{\"color\":\"#EF553B\",\"size\":[0.0,0.0],\"sizemode\":\"area\",\"sizeref\":0.5475},\"mode\":\"markers\",\"name\":\"Brescia\",\"showlegend\":true,\"subplot\":\"mapbox\",\"type\":\"scattermapbox\"},{\"hovertemplate\":\"city=Bormio<br>deaths=%{marker.size}<br>lat=%{lat}<br>lon=%{lon}<extra></extra>\",\"lat\":[46.4663571],\"legendgroup\":\"Bormio\",\"lon\":[10.3704671],\"marker\":{\"color\":\"#00cc96\",\"size\":[40.0],\"sizemode\":\"area\",\"sizeref\":0.5475},\"mode\":\"markers\",\"name\":\"Bormio\",\"showlegend\":true,\"subplot\":\"mapbox\",\"type\":\"scattermapbox\"},{\"hovertemplate\":\"city=Halfedanges<br>deaths=%{marker.size}<br>lat=%{lat}<br>lon=%{lon}<extra></extra>\",\"lat\":[49.073894],\"legendgroup\":\"Halfedanges\",\"lon\":[6.52544],\"marker\":{\"color\":\"#ab63fa\",\"size\":[0.0],\"sizemode\":\"area\",\"sizeref\":0.5475},\"mode\":\"markers\",\"name\":\"Halfedanges\",\"showlegend\":true,\"subplot\":\"mapbox\",\"type\":\"scattermapbox\"},{\"hovertemplate\":\"city=Verdun<br>deaths=%{marker.size}<br>lat=%{lat}<br>lon=%{lon}<extra></extra>\",\"lat\":[49.1598764],\"legendgroup\":\"Verdun\",\"lon\":[5.3844231],\"marker\":{\"color\":\"#FFA15A\",\"size\":[1.0],\"sizemode\":\"area\",\"sizeref\":0.5475},\"mode\":\"markers\",\"name\":\"Verdun\",\"showlegend\":true,\"subplot\":\"mapbox\",\"type\":\"scattermapbox\"},{\"hovertemplate\":\"city=Gorze<br>deaths=%{marker.size}<br>lat=%{lat}<br>lon=%{lon}<extra></extra>\",\"lat\":[49.053754],\"legendgroup\":\"Gorze\",\"lon\":[5.998718],\"marker\":{\"color\":\"#19d3f3\",\"size\":[1.0],\"sizemode\":\"area\",\"sizeref\":0.5475},\"mode\":\"markers\",\"name\":\"Gorze\",\"showlegend\":true,\"subplot\":\"mapbox\",\"type\":\"scattermapbox\"},{\"hovertemplate\":\"city=Bar<br>deaths=%{marker.size}<br>lat=%{lat}<br>lon=%{lon}<extra></extra>\",\"lat\":[48.773605],\"legendgroup\":\"Bar\",\"lon\":[5.158238],\"marker\":{\"color\":\"#FF6692\",\"size\":[1.0],\"sizemode\":\"area\",\"sizeref\":0.5475},\"mode\":\"markers\",\"name\":\"Bar\",\"showlegend\":true,\"subplot\":\"mapbox\",\"type\":\"scattermapbox\"},{\"hovertemplate\":\"city=Monthureux-sur-Saone<br>deaths=%{marker.size}<br>lat=%{lat}<br>lon=%{lon}<extra></extra>\",\"lat\":[48.030485],\"legendgroup\":\"Monthureux-sur-Saone\",\"lon\":[5.972523],\"marker\":{\"color\":\"#B6E880\",\"size\":[4.0],\"sizemode\":\"area\",\"sizeref\":0.5475},\"mode\":\"markers\",\"name\":\"Monthureux-sur-Saone\",\"showlegend\":true,\"subplot\":\"mapbox\",\"type\":\"scattermapbox\"},{\"hovertemplate\":\"city=Breslau<br>deaths=%{marker.size}<br>lat=%{lat}<br>lon=%{lon}<extra></extra>\",\"lat\":[51.1078852,51.1078852,51.1078852,51.1078852,51.1078852,51.1078852],\"legendgroup\":\"Breslau\",\"lon\":[17.0385376,17.0385376,17.0385376,17.0385376,17.0385376,17.0385376],\"marker\":{\"color\":\"#FF97FF\",\"size\":[2.0,0.0,0.0,1.0,0.0,0.0],\"sizemode\":\"area\",\"sizeref\":0.5475},\"mode\":\"markers\",\"name\":\"Breslau\",\"showlegend\":true,\"subplot\":\"mapbox\",\"type\":\"scattermapbox\"},{\"hovertemplate\":\"city=Willisau<br>deaths=%{marker.size}<br>lat=%{lat}<br>lon=%{lon}<extra></extra>\",\"lat\":[47.1211763],\"legendgroup\":\"Willisau\",\"lon\":[7.9924888],\"marker\":{\"color\":\"#FECB52\",\"size\":[1.0],\"sizemode\":\"area\",\"sizeref\":0.5475},\"mode\":\"markers\",\"name\":\"Willisau\",\"showlegend\":true,\"subplot\":\"mapbox\",\"type\":\"scattermapbox\"},{\"hovertemplate\":\"city=Stade<br>deaths=%{marker.size}<br>lat=%{lat}<br>lon=%{lon}<extra></extra>\",\"lat\":[53.5928618],\"legendgroup\":\"Stade\",\"lon\":[9.4709494],\"marker\":{\"color\":\"#636efa\",\"size\":[3.0],\"sizemode\":\"area\",\"sizeref\":0.5475},\"mode\":\"markers\",\"name\":\"Stade\",\"showlegend\":true,\"subplot\":\"mapbox\",\"type\":\"scattermapbox\"},{\"hovertemplate\":\"city=Braunschweig<br>deaths=%{marker.size}<br>lat=%{lat}<br>lon=%{lon}<extra></extra>\",\"lat\":[52.2688736],\"legendgroup\":\"Braunschweig\",\"lon\":[10.5267696],\"marker\":{\"color\":\"#EF553B\",\"size\":[0.0],\"sizemode\":\"area\",\"sizeref\":0.5475},\"mode\":\"markers\",\"name\":\"Braunschweig\",\"showlegend\":true,\"subplot\":\"mapbox\",\"type\":\"scattermapbox\"},{\"hovertemplate\":\"city=Hildesheim<br>deaths=%{marker.size}<br>lat=%{lat}<br>lon=%{lon}<extra></extra>\",\"lat\":[52.154778,52.154778],\"legendgroup\":\"Hildesheim\",\"lon\":[9.9579652,9.9579652],\"marker\":{\"color\":\"#00cc96\",\"size\":[2.0,2.0],\"sizemode\":\"area\",\"sizeref\":0.5475},\"mode\":\"markers\",\"name\":\"Hildesheim\",\"showlegend\":true,\"subplot\":\"mapbox\",\"type\":\"scattermapbox\"},{\"hovertemplate\":\"city=Mons-en-Pevele<br>deaths=%{marker.size}<br>lat=%{lat}<br>lon=%{lon}<extra></extra>\",\"lat\":[50.480352],\"legendgroup\":\"Mons-en-Pevele\",\"lon\":[3.099575],\"marker\":{\"color\":\"#ab63fa\",\"size\":[0.0],\"sizemode\":\"area\",\"sizeref\":0.5475},\"mode\":\"markers\",\"name\":\"Mons-en-Pevele\",\"showlegend\":true,\"subplot\":\"mapbox\",\"type\":\"scattermapbox\"},{\"hovertemplate\":\"city=Douai<br>deaths=%{marker.size}<br>lat=%{lat}<br>lon=%{lon}<extra></extra>\",\"lat\":[50.367874,50.367874,50.367874,50.367874,50.367874],\"legendgroup\":\"Douai\",\"lon\":[3.080602,3.080602,3.080602,3.080602,3.080602],\"marker\":{\"color\":\"#FFA15A\",\"size\":[0.0,0.0,2.0,1.0,1.0],\"sizemode\":\"area\",\"sizeref\":0.5475},\"mode\":\"markers\",\"name\":\"Douai\",\"showlegend\":true,\"subplot\":\"mapbox\",\"type\":\"scattermapbox\"},{\"hovertemplate\":\"city=Lille<br>deaths=%{marker.size}<br>lat=%{lat}<br>lon=%{lon}<extra></extra>\",\"lat\":[50.62925],\"legendgroup\":\"Lille\",\"lon\":[3.057256],\"marker\":{\"color\":\"#19d3f3\",\"size\":[1.0],\"sizemode\":\"area\",\"sizeref\":0.5475},\"mode\":\"markers\",\"name\":\"Lille\",\"showlegend\":true,\"subplot\":\"mapbox\",\"type\":\"scattermapbox\"},{\"hovertemplate\":\"city=Rouvroy<br>deaths=%{marker.size}<br>lat=%{lat}<br>lon=%{lon}<extra></extra>\",\"lat\":[50.393268],\"legendgroup\":\"Rouvroy\",\"lon\":[2.90375],\"marker\":{\"color\":\"#FF6692\",\"size\":[0.0],\"sizemode\":\"area\",\"sizeref\":0.5475},\"mode\":\"markers\",\"name\":\"Rouvroy\",\"showlegend\":true,\"subplot\":\"mapbox\",\"type\":\"scattermapbox\"},{\"hovertemplate\":\"city=Paderborn<br>deaths=%{marker.size}<br>lat=%{lat}<br>lon=%{lon}<extra></extra>\",\"lat\":[51.7189205],\"legendgroup\":\"Paderborn\",\"lon\":[8.7575093],\"marker\":{\"color\":\"#B6E880\",\"size\":[0.0],\"sizemode\":\"area\",\"sizeref\":0.5475},\"mode\":\"markers\",\"name\":\"Paderborn\",\"showlegend\":true,\"subplot\":\"mapbox\",\"type\":\"scattermapbox\"},{\"hovertemplate\":\"city=Cologne<br>deaths=%{marker.size}<br>lat=%{lat}<br>lon=%{lon}<extra></extra>\",\"lat\":[50.937531,50.937531,50.937531,50.937531,50.937531],\"legendgroup\":\"Cologne\",\"lon\":[6.9602786,6.9602786,6.9602786,6.9602786,6.9602786],\"marker\":{\"color\":\"#FF97FF\",\"size\":[0.0,0.0,1.0,2.0,0.0],\"sizemode\":\"area\",\"sizeref\":0.5475},\"mode\":\"markers\",\"name\":\"Cologne\",\"showlegend\":true,\"subplot\":\"mapbox\",\"type\":\"scattermapbox\"},{\"hovertemplate\":\"city=Rheinberg<br>deaths=%{marker.size}<br>lat=%{lat}<br>lon=%{lon}<extra></extra>\",\"lat\":[51.5460798],\"legendgroup\":\"Rheinberg\",\"lon\":[6.5899097],\"marker\":{\"color\":\"#FECB52\",\"size\":[1.0],\"sizemode\":\"area\",\"sizeref\":0.5475},\"mode\":\"markers\",\"name\":\"Rheinberg\",\"showlegend\":true,\"subplot\":\"mapbox\",\"type\":\"scattermapbox\"},{\"hovertemplate\":\"city=Soissons<br>deaths=%{marker.size}<br>lat=%{lat}<br>lon=%{lon}<extra></extra>\",\"lat\":[49.376636,49.376636],\"legendgroup\":\"Soissons\",\"lon\":[3.32342,3.32342],\"marker\":{\"color\":\"#636efa\",\"size\":[1.0,1.0],\"sizemode\":\"area\",\"sizeref\":0.5475},\"mode\":\"markers\",\"name\":\"Soissons\",\"showlegend\":true,\"subplot\":\"mapbox\",\"type\":\"scattermapbox\"},{\"hovertemplate\":\"city=Bressuire<br>deaths=%{marker.size}<br>lat=%{lat}<br>lon=%{lon}<extra></extra>\",\"lat\":[46.84246],\"legendgroup\":\"Bressuire\",\"lon\":[-0.492866],\"marker\":{\"color\":\"#EF553B\",\"size\":[1.0],\"sizemode\":\"area\",\"sizeref\":0.5475},\"mode\":\"markers\",\"name\":\"Bressuire\",\"showlegend\":true,\"subplot\":\"mapbox\",\"type\":\"scattermapbox\"},{\"hovertemplate\":\"city=Draguignan<br>deaths=%{marker.size}<br>lat=%{lat}<br>lon=%{lon}<extra></extra>\",\"lat\":[43.537727],\"legendgroup\":\"Draguignan\",\"lon\":[6.464993],\"marker\":{\"color\":\"#00cc96\",\"size\":[0.0],\"sizemode\":\"area\",\"sizeref\":0.5475},\"mode\":\"markers\",\"name\":\"Draguignan\",\"showlegend\":true,\"subplot\":\"mapbox\",\"type\":\"scattermapbox\"},{\"hovertemplate\":\"city=Nieder-Hauenstein<br>deaths=%{marker.size}<br>lat=%{lat}<br>lon=%{lon}<extra></extra>\",\"lat\":[49.193323],\"legendgroup\":\"Nieder-Hauenstein\",\"lon\":[7.845749],\"marker\":{\"color\":\"#ab63fa\",\"size\":[1.0],\"sizemode\":\"area\",\"sizeref\":0.5475},\"mode\":\"markers\",\"name\":\"Nieder-Hauenstein\",\"showlegend\":true,\"subplot\":\"mapbox\",\"type\":\"scattermapbox\"},{\"hovertemplate\":\"city=Rothenbach<br>deaths=%{marker.size}<br>lat=%{lat}<br>lon=%{lon}<extra></extra>\",\"lat\":[50.5650804],\"legendgroup\":\"Rothenbach\",\"lon\":[7.9014677],\"marker\":{\"color\":\"#FFA15A\",\"size\":[0.0],\"sizemode\":\"area\",\"sizeref\":0.5475},\"mode\":\"markers\",\"name\":\"Rothenbach\",\"showlegend\":true,\"subplot\":\"mapbox\",\"type\":\"scattermapbox\"},{\"hovertemplate\":\"city=Chambery<br>deaths=%{marker.size}<br>lat=%{lat}<br>lon=%{lon}<extra></extra>\",\"lat\":[45.564601],\"legendgroup\":\"Chambery\",\"lon\":[5.917781],\"marker\":{\"color\":\"#19d3f3\",\"size\":[1.0],\"sizemode\":\"area\",\"sizeref\":0.5475},\"mode\":\"markers\",\"name\":\"Chambery\",\"showlegend\":true,\"subplot\":\"mapbox\",\"type\":\"scattermapbox\"},{\"hovertemplate\":\"city=La Tour-du-Pin<br>deaths=%{marker.size}<br>lat=%{lat}<br>lon=%{lon}<extra></extra>\",\"lat\":[45.564026],\"legendgroup\":\"La Tour-du-Pin\",\"lon\":[5.445327],\"marker\":{\"color\":\"#FF6692\",\"size\":[1.0],\"sizemode\":\"area\",\"sizeref\":0.5475},\"mode\":\"markers\",\"name\":\"La Tour-du-Pin\",\"showlegend\":true,\"subplot\":\"mapbox\",\"type\":\"scattermapbox\"},{\"hovertemplate\":\"city=Talloires<br>deaths=%{marker.size}<br>lat=%{lat}<br>lon=%{lon}<extra></extra>\",\"lat\":[45.839395,45.839395,45.839395],\"legendgroup\":\"Talloires\",\"lon\":[6.2151189,6.2151189,6.2151189],\"marker\":{\"color\":\"#B6E880\",\"size\":[1.0,2.0,1.0],\"sizemode\":\"area\",\"sizeref\":0.5475},\"mode\":\"markers\",\"name\":\"Talloires\",\"showlegend\":true,\"subplot\":\"mapbox\",\"type\":\"scattermapbox\"},{\"hovertemplate\":\"city=Aubenas<br>deaths=%{marker.size}<br>lat=%{lat}<br>lon=%{lon}<extra></extra>\",\"lat\":[44.620909,44.620909],\"legendgroup\":\"Aubenas\",\"lon\":[4.389863,4.389863],\"marker\":{\"color\":\"#FF97FF\",\"size\":[1.0,1.0],\"sizemode\":\"area\",\"sizeref\":0.5475},\"mode\":\"markers\",\"name\":\"Aubenas\",\"showlegend\":true,\"subplot\":\"mapbox\",\"type\":\"scattermapbox\"},{\"hovertemplate\":\"city=Vivarais<br>deaths=%{marker.size}<br>lat=%{lat}<br>lon=%{lon}<extra></extra>\",\"lat\":[44.480269,44.480269],\"legendgroup\":\"Vivarais\",\"lon\":[4.691053,4.691053],\"marker\":{\"color\":\"#FECB52\",\"size\":[1.0,1.0],\"sizemode\":\"area\",\"sizeref\":0.5475},\"mode\":\"markers\",\"name\":\"Vivarais\",\"showlegend\":true,\"subplot\":\"mapbox\",\"type\":\"scattermapbox\"},{\"hovertemplate\":\"city=Zwickau<br>deaths=%{marker.size}<br>lat=%{lat}<br>lon=%{lon}<extra></extra>\",\"lat\":[50.7102169],\"legendgroup\":\"Zwickau\",\"lon\":[12.4733725],\"marker\":{\"color\":\"#636efa\",\"size\":[0.0],\"sizemode\":\"area\",\"sizeref\":0.5475},\"mode\":\"markers\",\"name\":\"Zwickau\",\"showlegend\":true,\"subplot\":\"mapbox\",\"type\":\"scattermapbox\"},{\"hovertemplate\":\"city=Stein am Rhein<br>deaths=%{marker.size}<br>lat=%{lat}<br>lon=%{lon}<extra></extra>\",\"lat\":[47.658735],\"legendgroup\":\"Stein am Rhein\",\"lon\":[8.8591583],\"marker\":{\"color\":\"#EF553B\",\"size\":[0.0],\"sizemode\":\"area\",\"sizeref\":0.5475},\"mode\":\"markers\",\"name\":\"Stein am Rhein\",\"showlegend\":true,\"subplot\":\"mapbox\",\"type\":\"scattermapbox\"},{\"hovertemplate\":\"city=Olten<br>deaths=%{marker.size}<br>lat=%{lat}<br>lon=%{lon}<extra></extra>\",\"lat\":[47.3499979],\"legendgroup\":\"Olten\",\"lon\":[7.9023989],\"marker\":{\"color\":\"#00cc96\",\"size\":[0.0],\"sizemode\":\"area\",\"sizeref\":0.5475},\"mode\":\"markers\",\"name\":\"Olten\",\"showlegend\":true,\"subplot\":\"mapbox\",\"type\":\"scattermapbox\"},{\"hovertemplate\":\"city=Busserach<br>deaths=%{marker.size}<br>lat=%{lat}<br>lon=%{lon}<extra></extra>\",\"lat\":[47.3927],\"legendgroup\":\"Busserach\",\"lon\":[7.54103],\"marker\":{\"color\":\"#ab63fa\",\"size\":[1.0],\"sizemode\":\"area\",\"sizeref\":0.5475},\"mode\":\"markers\",\"name\":\"Busserach\",\"showlegend\":true,\"subplot\":\"mapbox\",\"type\":\"scattermapbox\"},{\"hovertemplate\":\"city=Faido<br>deaths=%{marker.size}<br>lat=%{lat}<br>lon=%{lon}<extra></extra>\",\"lat\":[46.47855,46.47855],\"legendgroup\":\"Faido\",\"lon\":[8.79848,8.79848],\"marker\":{\"color\":\"#FFA15A\",\"size\":[0.0,0.0],\"sizemode\":\"area\",\"sizeref\":0.5475},\"mode\":\"markers\",\"name\":\"Faido\",\"showlegend\":true,\"subplot\":\"mapbox\",\"type\":\"scattermapbox\"},{\"hovertemplate\":\"city=Locarno<br>deaths=%{marker.size}<br>lat=%{lat}<br>lon=%{lon}<extra></extra>\",\"lat\":[46.1679583],\"legendgroup\":\"Locarno\",\"lon\":[8.7889791],\"marker\":{\"color\":\"#19d3f3\",\"size\":[1.0],\"sizemode\":\"area\",\"sizeref\":0.5475},\"mode\":\"markers\",\"name\":\"Locarno\",\"showlegend\":true,\"subplot\":\"mapbox\",\"type\":\"scattermapbox\"},{\"hovertemplate\":\"city=Lugano<br>deaths=%{marker.size}<br>lat=%{lat}<br>lon=%{lon}<extra></extra>\",\"lat\":[46.1679583],\"legendgroup\":\"Lugano\",\"lon\":[8.7889791],\"marker\":{\"color\":\"#FF6692\",\"size\":[1.0],\"sizemode\":\"area\",\"sizeref\":0.5475},\"mode\":\"markers\",\"name\":\"Lugano\",\"showlegend\":true,\"subplot\":\"mapbox\",\"type\":\"scattermapbox\"},{\"hovertemplate\":\"city=Florence<br>deaths=%{marker.size}<br>lat=%{lat}<br>lon=%{lon}<extra></extra>\",\"lat\":[43.76956,43.76956,43.76956,43.76956,43.76956,43.76956,43.76956,43.76956,43.76956],\"legendgroup\":\"Florence\",\"lon\":[11.255814,11.255814,11.255814,11.255814,11.255814,11.255814,11.255814,11.255814,11.255814],\"marker\":{\"color\":\"#B6E880\",\"size\":[0.0,0.0,1.0,0.0,0.0,0.0,0.0,0.0,1.0],\"sizemode\":\"area\",\"sizeref\":0.5475},\"mode\":\"markers\",\"name\":\"Florence\",\"showlegend\":true,\"subplot\":\"mapbox\",\"type\":\"scattermapbox\"},{\"hovertemplate\":\"city=Pisa<br>deaths=%{marker.size}<br>lat=%{lat}<br>lon=%{lon}<extra></extra>\",\"lat\":[43.7228386],\"legendgroup\":\"Pisa\",\"lon\":[10.4016888],\"marker\":{\"color\":\"#FF97FF\",\"size\":[0.0],\"sizemode\":\"area\",\"sizeref\":0.5475},\"mode\":\"markers\",\"name\":\"Pisa\",\"showlegend\":true,\"subplot\":\"mapbox\",\"type\":\"scattermapbox\"},{\"hovertemplate\":\"city=Salurn<br>deaths=%{marker.size}<br>lat=%{lat}<br>lon=%{lon}<extra></extra>\",\"lat\":[46.239346],\"legendgroup\":\"Salurn\",\"lon\":[11.21819],\"marker\":{\"color\":\"#FECB52\",\"size\":[1.0],\"sizemode\":\"area\",\"sizeref\":0.5475},\"mode\":\"markers\",\"name\":\"Salurn\",\"showlegend\":true,\"subplot\":\"mapbox\",\"type\":\"scattermapbox\"},{\"hovertemplate\":\"city=Brixen<br>deaths=%{marker.size}<br>lat=%{lat}<br>lon=%{lon}<extra></extra>\",\"lat\":[46.717705],\"legendgroup\":\"Brixen\",\"lon\":[11.657244],\"marker\":{\"color\":\"#636efa\",\"size\":[0.0],\"sizemode\":\"area\",\"sizeref\":0.5475},\"mode\":\"markers\",\"name\":\"Brixen\",\"showlegend\":true,\"subplot\":\"mapbox\",\"type\":\"scattermapbox\"},{\"hovertemplate\":\"city=Todi<br>deaths=%{marker.size}<br>lat=%{lat}<br>lon=%{lon}<extra></extra>\",\"lat\":[42.7819352],\"legendgroup\":\"Todi\",\"lon\":[12.4065686],\"marker\":{\"color\":\"#EF553B\",\"size\":[1.0],\"sizemode\":\"area\",\"sizeref\":0.5475},\"mode\":\"markers\",\"name\":\"Todi\",\"showlegend\":true,\"subplot\":\"mapbox\",\"type\":\"scattermapbox\"},{\"hovertemplate\":\"city=Perugia<br>deaths=%{marker.size}<br>lat=%{lat}<br>lon=%{lon}<extra></extra>\",\"lat\":[43.1107168],\"legendgroup\":\"Perugia\",\"lon\":[12.3908279],\"marker\":{\"color\":\"#00cc96\",\"size\":[1.0],\"sizemode\":\"area\",\"sizeref\":0.5475},\"mode\":\"markers\",\"name\":\"Perugia\",\"showlegend\":true,\"subplot\":\"mapbox\",\"type\":\"scattermapbox\"},{\"hovertemplate\":\"city=Utrecht<br>deaths=%{marker.size}<br>lat=%{lat}<br>lon=%{lon}<extra></extra>\",\"lat\":[52.0907374,52.0907374,52.0907374,52.0907374,52.0907374],\"legendgroup\":\"Utrecht\",\"lon\":[5.1214201,5.1214201,5.1214201,5.1214201,5.1214201],\"marker\":{\"color\":\"#ab63fa\",\"size\":[0.0,0.0,0.0,0.0,0.0],\"sizemode\":\"area\",\"sizeref\":0.5475},\"mode\":\"markers\",\"name\":\"Utrecht\",\"showlegend\":true,\"subplot\":\"mapbox\",\"type\":\"scattermapbox\"},{\"hovertemplate\":\"city=Viege<br>deaths=%{marker.size}<br>lat=%{lat}<br>lon=%{lon}<extra></extra>\",\"lat\":[46.2944841],\"legendgroup\":\"Viege\",\"lon\":[7.8852075],\"marker\":{\"color\":\"#FFA15A\",\"size\":[0.0],\"sizemode\":\"area\",\"sizeref\":0.5475},\"mode\":\"markers\",\"name\":\"Viege\",\"showlegend\":true,\"subplot\":\"mapbox\",\"type\":\"scattermapbox\"},{\"hovertemplate\":\"city=Lausanne<br>deaths=%{marker.size}<br>lat=%{lat}<br>lon=%{lon}<extra></extra>\",\"lat\":[46.5199617,46.5199617,46.5199617,46.5199617,46.5199617,46.5199617,46.5199617,46.5199617,46.5199617],\"legendgroup\":\"Lausanne\",\"lon\":[6.6335971,6.6335971,6.6335971,6.6335971,6.6335971,6.6335971,6.6335971,6.6335971,6.6335971],\"marker\":{\"color\":\"#19d3f3\",\"size\":[0.0,0.0,1.0,0.0,1.0,1.0,1.0,1.0,2.0],\"sizemode\":\"area\",\"sizeref\":0.5475},\"mode\":\"markers\",\"name\":\"Lausanne\",\"showlegend\":true,\"subplot\":\"mapbox\",\"type\":\"scattermapbox\"},{\"hovertemplate\":\"city=Portogruaro<br>deaths=%{marker.size}<br>lat=%{lat}<br>lon=%{lon}<extra></extra>\",\"lat\":[45.780576],\"legendgroup\":\"Portogruaro\",\"lon\":[12.837399],\"marker\":{\"color\":\"#FF6692\",\"size\":[1.0],\"sizemode\":\"area\",\"sizeref\":0.5475},\"mode\":\"markers\",\"name\":\"Portogruaro\",\"showlegend\":true,\"subplot\":\"mapbox\",\"type\":\"scattermapbox\"},{\"hovertemplate\":\"city=Venice<br>deaths=%{marker.size}<br>lat=%{lat}<br>lon=%{lon}<extra></extra>\",\"lat\":[45.440847],\"legendgroup\":\"Venice\",\"lon\":[12.315515],\"marker\":{\"color\":\"#B6E880\",\"size\":[0.0],\"sizemode\":\"area\",\"sizeref\":0.5475},\"mode\":\"markers\",\"name\":\"Venice\",\"showlegend\":true,\"subplot\":\"mapbox\",\"type\":\"scattermapbox\"},{\"hovertemplate\":\"city=Tournai<br>deaths=%{marker.size}<br>lat=%{lat}<br>lon=%{lon}<extra></extra>\",\"lat\":[50.6056475],\"legendgroup\":\"Tournai\",\"lon\":[3.3879338],\"marker\":{\"color\":\"#FF97FF\",\"size\":[0.0],\"sizemode\":\"area\",\"sizeref\":0.5475},\"mode\":\"markers\",\"name\":\"Tournai\",\"showlegend\":true,\"subplot\":\"mapbox\",\"type\":\"scattermapbox\"},{\"hovertemplate\":\"city=Braunsberg<br>deaths=%{marker.size}<br>lat=%{lat}<br>lon=%{lon}<extra></extra>\",\"lat\":[54.3797128],\"legendgroup\":\"Braunsberg\",\"lon\":[19.8200536],\"marker\":{\"color\":\"#FECB52\",\"size\":[0.0],\"sizemode\":\"area\",\"sizeref\":0.5475},\"mode\":\"markers\",\"name\":\"Braunsberg\",\"showlegend\":true,\"subplot\":\"mapbox\",\"type\":\"scattermapbox\"},{\"hovertemplate\":\"city=Vienna<br>deaths=%{marker.size}<br>lat=%{lat}<br>lon=%{lon}<extra></extra>\",\"lat\":[48.2081743],\"legendgroup\":\"Vienna\",\"lon\":[16.3738189],\"marker\":{\"color\":\"#636efa\",\"size\":[1.0],\"sizemode\":\"area\",\"sizeref\":0.5475},\"mode\":\"markers\",\"name\":\"Vienna\",\"showlegend\":true,\"subplot\":\"mapbox\",\"type\":\"scattermapbox\"},{\"hovertemplate\":\"city=Gouda<br>deaths=%{marker.size}<br>lat=%{lat}<br>lon=%{lon}<extra></extra>\",\"lat\":[52.0115205],\"legendgroup\":\"Gouda\",\"lon\":[4.7104633],\"marker\":{\"color\":\"#EF553B\",\"size\":[0.0],\"sizemode\":\"area\",\"sizeref\":0.5475},\"mode\":\"markers\",\"name\":\"Gouda\",\"showlegend\":true,\"subplot\":\"mapbox\",\"type\":\"scattermapbox\"},{\"hovertemplate\":\"city=Dordrecht<br>deaths=%{marker.size}<br>lat=%{lat}<br>lon=%{lon}<extra></extra>\",\"lat\":[51.813298],\"legendgroup\":\"Dordrecht\",\"lon\":[4.690093],\"marker\":{\"color\":\"#00cc96\",\"size\":[0.0],\"sizemode\":\"area\",\"sizeref\":0.5475},\"mode\":\"markers\",\"name\":\"Dordrecht\",\"showlegend\":true,\"subplot\":\"mapbox\",\"type\":\"scattermapbox\"},{\"hovertemplate\":\"city=Habsburg<br>deaths=%{marker.size}<br>lat=%{lat}<br>lon=%{lon}<extra></extra>\",\"lat\":[47.4622,47.4622],\"legendgroup\":\"Habsburg\",\"lon\":[8.18606,8.18606],\"marker\":{\"color\":\"#ab63fa\",\"size\":[5.0,15.0],\"sizemode\":\"area\",\"sizeref\":0.5475},\"mode\":\"markers\",\"name\":\"Habsburg\",\"showlegend\":true,\"subplot\":\"mapbox\",\"type\":\"scattermapbox\"},{\"hovertemplate\":\"city=Villigen<br>deaths=%{marker.size}<br>lat=%{lat}<br>lon=%{lon}<extra></extra>\",\"lat\":[47.5269,47.5269],\"legendgroup\":\"Villigen\",\"lon\":[8.21475,8.21475],\"marker\":{\"color\":\"#FFA15A\",\"size\":[19.0,1.0],\"sizemode\":\"area\",\"sizeref\":0.5475},\"mode\":\"markers\",\"name\":\"Villigen\",\"showlegend\":true,\"subplot\":\"mapbox\",\"type\":\"scattermapbox\"},{\"hovertemplate\":\"city=Ensisheim<br>deaths=%{marker.size}<br>lat=%{lat}<br>lon=%{lon}<extra></extra>\",\"lat\":[47.8659],\"legendgroup\":\"Ensisheim\",\"lon\":[7.35181],\"marker\":{\"color\":\"#19d3f3\",\"size\":[5.0],\"sizemode\":\"area\",\"sizeref\":0.5475},\"mode\":\"markers\",\"name\":\"Ensisheim\",\"showlegend\":true,\"subplot\":\"mapbox\",\"type\":\"scattermapbox\"},{\"hovertemplate\":\"city=La Wantzenau<br>deaths=%{marker.size}<br>lat=%{lat}<br>lon=%{lon}<extra></extra>\",\"lat\":[48.658],\"legendgroup\":\"La Wantzenau\",\"lon\":[7.82713],\"marker\":{\"color\":\"#FF6692\",\"size\":[4.0],\"sizemode\":\"area\",\"sizeref\":0.5475},\"mode\":\"markers\",\"name\":\"La Wantzenau\",\"showlegend\":true,\"subplot\":\"mapbox\",\"type\":\"scattermapbox\"},{\"hovertemplate\":\"city=Erstein<br>deaths=%{marker.size}<br>lat=%{lat}<br>lon=%{lon}<extra></extra>\",\"lat\":[48.4235],\"legendgroup\":\"Erstein\",\"lon\":[7.66326],\"marker\":{\"color\":\"#B6E880\",\"size\":[1.0],\"sizemode\":\"area\",\"sizeref\":0.5475},\"mode\":\"markers\",\"name\":\"Erstein\",\"showlegend\":true,\"subplot\":\"mapbox\",\"type\":\"scattermapbox\"},{\"hovertemplate\":\"city=Diersburg<br>deaths=%{marker.size}<br>lat=%{lat}<br>lon=%{lon}<extra></extra>\",\"lat\":[48.3989],\"legendgroup\":\"Diersburg\",\"lon\":[7.93809],\"marker\":{\"color\":\"#FF97FF\",\"size\":[2.0],\"sizemode\":\"area\",\"sizeref\":0.5475},\"mode\":\"markers\",\"name\":\"Diersburg\",\"showlegend\":true,\"subplot\":\"mapbox\",\"type\":\"scattermapbox\"},{\"hovertemplate\":\"city=Veringenstadt<br>deaths=%{marker.size}<br>lat=%{lat}<br>lon=%{lon}<extra></extra>\",\"lat\":[48.183,48.183],\"legendgroup\":\"Veringenstadt\",\"lon\":[9.21059,9.21059],\"marker\":{\"color\":\"#FECB52\",\"size\":[1.0,1.0],\"sizemode\":\"area\",\"sizeref\":0.5475},\"mode\":\"markers\",\"name\":\"Veringenstadt\",\"showlegend\":true,\"subplot\":\"mapbox\",\"type\":\"scattermapbox\"},{\"hovertemplate\":\"city=Bretten<br>deaths=%{marker.size}<br>lat=%{lat}<br>lon=%{lon}<extra></extra>\",\"lat\":[49.0363],\"legendgroup\":\"Bretten\",\"lon\":[8.70106],\"marker\":{\"color\":\"#636efa\",\"size\":[2.0],\"sizemode\":\"area\",\"sizeref\":0.5475},\"mode\":\"markers\",\"name\":\"Bretten\",\"showlegend\":true,\"subplot\":\"mapbox\",\"type\":\"scattermapbox\"},{\"hovertemplate\":\"city=Tubingen<br>deaths=%{marker.size}<br>lat=%{lat}<br>lon=%{lon}<extra></extra>\",\"lat\":[48.5216,48.5216,48.5216,48.5216,48.5216,48.5216],\"legendgroup\":\"Tubingen\",\"lon\":[9.05764,9.05764,9.05764,9.05764,9.05764,9.05764],\"marker\":{\"color\":\"#EF553B\",\"size\":[1.0,0.0,0.0,0.0,0.0,0.0],\"sizemode\":\"area\",\"sizeref\":0.5475},\"mode\":\"markers\",\"name\":\"Tubingen\",\"showlegend\":true,\"subplot\":\"mapbox\",\"type\":\"scattermapbox\"},{\"hovertemplate\":\"city=Blaubeuren<br>deaths=%{marker.size}<br>lat=%{lat}<br>lon=%{lon}<extra></extra>\",\"lat\":[48.4073],\"legendgroup\":\"Blaubeuren\",\"lon\":[9.78355],\"marker\":{\"color\":\"#00cc96\",\"size\":[1.0],\"sizemode\":\"area\",\"sizeref\":0.5475},\"mode\":\"markers\",\"name\":\"Blaubeuren\",\"showlegend\":true,\"subplot\":\"mapbox\",\"type\":\"scattermapbox\"},{\"hovertemplate\":\"city=Bad Saulgau<br>deaths=%{marker.size}<br>lat=%{lat}<br>lon=%{lon}<extra></extra>\",\"lat\":[48.0147,48.0147,48.0147,48.0147,48.0147],\"legendgroup\":\"Bad Saulgau\",\"lon\":[9.5002,9.5002,9.5002,9.5002,9.5002],\"marker\":{\"color\":\"#ab63fa\",\"size\":[2.0,1.0,1.0,1.0,1.0],\"sizemode\":\"area\",\"sizeref\":0.5475},\"mode\":\"markers\",\"name\":\"Bad Saulgau\",\"showlegend\":true,\"subplot\":\"mapbox\",\"type\":\"scattermapbox\"},{\"hovertemplate\":\"city=Brackenheim<br>deaths=%{marker.size}<br>lat=%{lat}<br>lon=%{lon}<extra></extra>\",\"lat\":[49.0809,49.0809],\"legendgroup\":\"Brackenheim\",\"lon\":[9.07031,9.07031],\"marker\":{\"color\":\"#FFA15A\",\"size\":[0.0,1.0],\"sizemode\":\"area\",\"sizeref\":0.5475},\"mode\":\"markers\",\"name\":\"Brackenheim\",\"showlegend\":true,\"subplot\":\"mapbox\",\"type\":\"scattermapbox\"},{\"hovertemplate\":\"city=Ellwangen<br>deaths=%{marker.size}<br>lat=%{lat}<br>lon=%{lon}<extra></extra>\",\"lat\":[48.9627,48.9627,48.9627,48.9627,48.9627,48.9627,48.9627,48.9627,48.9627],\"legendgroup\":\"Ellwangen\",\"lon\":[10.1302,10.1302,10.1302,10.1302,10.1302,10.1302,10.1302,10.1302,10.1302],\"marker\":{\"color\":\"#19d3f3\",\"size\":[2.0,1.0,100.0,160.0,50.0,27.0,33.0,13.0,10.0],\"sizemode\":\"area\",\"sizeref\":0.5475},\"mode\":\"markers\",\"name\":\"Ellwangen\",\"showlegend\":true,\"subplot\":\"mapbox\",\"type\":\"scattermapbox\"},{\"hovertemplate\":\"city=Bad Waldsee<br>deaths=%{marker.size}<br>lat=%{lat}<br>lon=%{lon}<extra></extra>\",\"lat\":[47.9227,47.9227,47.9227,47.9227,47.9227,47.9227,47.9227,47.9227],\"legendgroup\":\"Bad Waldsee\",\"lon\":[9.75328,9.75328,9.75328,9.75328,9.75328,9.75328,9.75328,9.75328],\"marker\":{\"color\":\"#FF6692\",\"size\":[1.0,9.0,7.0,16.0,5.0,1.0,1.0,1.0],\"sizemode\":\"area\",\"sizeref\":0.5475},\"mode\":\"markers\",\"name\":\"Bad Waldsee\",\"showlegend\":true,\"subplot\":\"mapbox\",\"type\":\"scattermapbox\"},{\"hovertemplate\":\"city=Stuttgart<br>deaths=%{marker.size}<br>lat=%{lat}<br>lon=%{lon}<extra></extra>\",\"lat\":[48.7758,48.7758,48.7758,48.7758,48.7758,48.7758,48.7758,48.7758,48.7758],\"legendgroup\":\"Stuttgart\",\"lon\":[9.18293,9.18293,9.18293,9.18293,9.18293,9.18293,9.18293,9.18293,9.18293],\"marker\":{\"color\":\"#B6E880\",\"size\":[0.0,11.0,1.0,0.0,2.0,1.0,2.0,0.0,5.0],\"sizemode\":\"area\",\"sizeref\":0.5475},\"mode\":\"markers\",\"name\":\"Stuttgart\",\"showlegend\":true,\"subplot\":\"mapbox\",\"type\":\"scattermapbox\"},{\"hovertemplate\":\"city=Rottenburg am Neckar<br>deaths=%{marker.size}<br>lat=%{lat}<br>lon=%{lon}<extra></extra>\",\"lat\":[48.4791,48.4791,48.4791,48.4791,48.4791,48.4791,48.4791,48.4791,48.4791,48.4791,48.4791,48.4791,48.4791,48.4791,48.4791,48.4791,48.4791,48.4791,48.4791,48.4791],\"legendgroup\":\"Rottenburg am Neckar\",\"lon\":[8.94095,8.94095,8.94095,8.94095,8.94095,8.94095,8.94095,8.94095,8.94095,8.94095,8.94095,8.94095,8.94095,8.94095,8.94095,8.94095,8.94095,8.94095,8.94095,8.94095],\"marker\":{\"color\":\"#FF97FF\",\"size\":[1.0,3.0,7.0,8.0,12.0,9.0,3.0,6.0,36.0,1.0,10.0,17.0,15.0,1.0,6.0,6.0,4.0,0.0,2.0,1.0],\"sizemode\":\"area\",\"sizeref\":0.5475},\"mode\":\"markers\",\"name\":\"Rottenburg am Neckar\",\"showlegend\":true,\"subplot\":\"mapbox\",\"type\":\"scattermapbox\"},{\"hovertemplate\":\"city=Grossbottwar<br>deaths=%{marker.size}<br>lat=%{lat}<br>lon=%{lon}<extra></extra>\",\"lat\":[49.0019],\"legendgroup\":\"Grossbottwar\",\"lon\":[9.29395],\"marker\":{\"color\":\"#FECB52\",\"size\":[1.0],\"sizemode\":\"area\",\"sizeref\":0.5475},\"mode\":\"markers\",\"name\":\"Grossbottwar\",\"showlegend\":true,\"subplot\":\"mapbox\",\"type\":\"scattermapbox\"},{\"hovertemplate\":\"city=Oberndorf am Neckar<br>deaths=%{marker.size}<br>lat=%{lat}<br>lon=%{lon}<extra></extra>\",\"lat\":[48.2946,48.2946,48.2946,48.2946,48.2946,48.2946],\"legendgroup\":\"Oberndorf am Neckar\",\"lon\":[8.57658,8.57658,8.57658,8.57658,8.57658,8.57658],\"marker\":{\"color\":\"#636efa\",\"size\":[1.0,7.0,21.0,6.0,6.0,2.0],\"sizemode\":\"area\",\"sizeref\":0.5475},\"mode\":\"markers\",\"name\":\"Oberndorf am Neckar\",\"showlegend\":true,\"subplot\":\"mapbox\",\"type\":\"scattermapbox\"},{\"hovertemplate\":\"city=Schiltach<br>deaths=%{marker.size}<br>lat=%{lat}<br>lon=%{lon}<extra></extra>\",\"lat\":[48.2918,48.2918,48.2918,48.2918,48.2918],\"legendgroup\":\"Schiltach\",\"lon\":[8.34689,8.34689,8.34689,8.34689,8.34689],\"marker\":{\"color\":\"#EF553B\",\"size\":[1.0,2.0,1.0,4.0,1.0],\"sizemode\":\"area\",\"sizeref\":0.5475},\"mode\":\"markers\",\"name\":\"Schiltach\",\"showlegend\":true,\"subplot\":\"mapbox\",\"type\":\"scattermapbox\"},{\"hovertemplate\":\"city=Hechingen<br>deaths=%{marker.size}<br>lat=%{lat}<br>lon=%{lon}<extra></extra>\",\"lat\":[48.3539,48.3539],\"legendgroup\":\"Hechingen\",\"lon\":[8.96136,8.96136],\"marker\":{\"color\":\"#00cc96\",\"size\":[1.0,15.0],\"sizemode\":\"area\",\"sizeref\":0.5475},\"mode\":\"markers\",\"name\":\"Hechingen\",\"showlegend\":true,\"subplot\":\"mapbox\",\"type\":\"scattermapbox\"},{\"hovertemplate\":\"city=Ulm<br>deaths=%{marker.size}<br>lat=%{lat}<br>lon=%{lon}<extra></extra>\",\"lat\":[48.4011,48.4011,48.4011,48.4011,48.4011,48.4011,48.4011],\"legendgroup\":\"Ulm\",\"lon\":[9.98761,9.98761,9.98761,9.98761,9.98761,9.98761,9.98761],\"marker\":{\"color\":\"#ab63fa\",\"size\":[0.0,1.0,1.0,1.0,1.0,9.0,1.0],\"sizemode\":\"area\",\"sizeref\":0.5475},\"mode\":\"markers\",\"name\":\"Ulm\",\"showlegend\":true,\"subplot\":\"mapbox\",\"type\":\"scattermapbox\"},{\"hovertemplate\":\"city=Renchen<br>deaths=%{marker.size}<br>lat=%{lat}<br>lon=%{lon}<extra></extra>\",\"lat\":[48.5862,48.5862],\"legendgroup\":\"Renchen\",\"lon\":[8.01188,8.01188],\"marker\":{\"color\":\"#FFA15A\",\"size\":[5.0,12.0],\"sizemode\":\"area\",\"sizeref\":0.5475},\"mode\":\"markers\",\"name\":\"Renchen\",\"showlegend\":true,\"subplot\":\"mapbox\",\"type\":\"scattermapbox\"},{\"hovertemplate\":\"city=Esslingen<br>deaths=%{marker.size}<br>lat=%{lat}<br>lon=%{lon}<extra></extra>\",\"lat\":[48.7433,48.7433,48.7433,48.7433,48.7433,48.7433,48.7433,48.7433,48.7433,48.7433,48.7433,48.7433,48.7433,48.7433],\"legendgroup\":\"Esslingen\",\"lon\":[9.32011,9.32011,9.32011,9.32011,9.32011,9.32011,9.32011,9.32011,9.32011,9.32011,9.32011,9.32011,9.32011,9.32011],\"marker\":{\"color\":\"#19d3f3\",\"size\":[2.0,1.0,0.0,1.0,0.0,0.0,0.0,0.0,0.0,4.0,1.0,28.0,1.0,8.0],\"sizemode\":\"area\",\"sizeref\":0.5475},\"mode\":\"markers\",\"name\":\"Esslingen\",\"showlegend\":true,\"subplot\":\"mapbox\",\"type\":\"scattermapbox\"},{\"hovertemplate\":\"city=Freiburg<br>deaths=%{marker.size}<br>lat=%{lat}<br>lon=%{lon}<extra></extra>\",\"lat\":[47.999,47.999,47.999,47.999,47.999,47.999,47.999,47.999,47.999],\"legendgroup\":\"Freiburg\",\"lon\":[7.8421,7.8421,7.8421,7.8421,7.8421,7.8421,7.8421,7.8421,7.8421],\"marker\":{\"color\":\"#FF6692\",\"size\":[1.0,3.0,3.0,18.0,13.0,0.0,0.0,1.0,2.0],\"sizemode\":\"area\",\"sizeref\":0.5475},\"mode\":\"markers\",\"name\":\"Freiburg\",\"showlegend\":true,\"subplot\":\"mapbox\",\"type\":\"scattermapbox\"},{\"hovertemplate\":\"city=Dornstetten<br>deaths=%{marker.size}<br>lat=%{lat}<br>lon=%{lon}<extra></extra>\",\"lat\":[48.4717,48.4717],\"legendgroup\":\"Dornstetten\",\"lon\":[8.49816,8.49816],\"marker\":{\"color\":\"#B6E880\",\"size\":[1.0,1.0],\"sizemode\":\"area\",\"sizeref\":0.5475},\"mode\":\"markers\",\"name\":\"Dornstetten\",\"showlegend\":true,\"subplot\":\"mapbox\",\"type\":\"scattermapbox\"},{\"hovertemplate\":\"city=Crailsheim<br>deaths=%{marker.size}<br>lat=%{lat}<br>lon=%{lon}<extra></extra>\",\"lat\":[49.1337,49.1337],\"legendgroup\":\"Crailsheim\",\"lon\":[10.0634,10.0634],\"marker\":{\"color\":\"#FF97FF\",\"size\":[1.0,4.0],\"sizemode\":\"area\",\"sizeref\":0.5475},\"mode\":\"markers\",\"name\":\"Crailsheim\",\"showlegend\":true,\"subplot\":\"mapbox\",\"type\":\"scattermapbox\"},{\"hovertemplate\":\"city=Oberkirch<br>deaths=%{marker.size}<br>lat=%{lat}<br>lon=%{lon}<extra></extra>\",\"lat\":[48.5336,48.5336,48.5336,48.5336,48.5336],\"legendgroup\":\"Oberkirch\",\"lon\":[8.07678,8.07678,8.07678,8.07678,8.07678],\"marker\":{\"color\":\"#FECB52\",\"size\":[0.0,0.0,0.0,0.0,1.0],\"sizemode\":\"area\",\"sizeref\":0.5475},\"mode\":\"markers\",\"name\":\"Oberkirch\",\"showlegend\":true,\"subplot\":\"mapbox\",\"type\":\"scattermapbox\"},{\"hovertemplate\":\"city=Ortenaukreis<br>deaths=%{marker.size}<br>lat=%{lat}<br>lon=%{lon}<extra></extra>\",\"lat\":[48.3645,48.3645,48.3645,48.3645,48.3645,48.3645,48.3645,48.3645,48.3645,48.3645,48.3645,48.3645,48.3645,48.3645],\"legendgroup\":\"Ortenaukreis\",\"lon\":[7.94714,7.94714,7.94714,7.94714,7.94714,7.94714,7.94714,7.94714,7.94714,7.94714,7.94714,7.94714,7.94714,7.94714],\"marker\":{\"color\":\"#636efa\",\"size\":[2.0,1.0,1.0,3.0,2.0,7.0,2.0,6.0,2.0,0.0,4.0,39.0,22.0,14.0],\"sizemode\":\"area\",\"sizeref\":0.5475},\"mode\":\"markers\",\"name\":\"Ortenaukreis\",\"showlegend\":true,\"subplot\":\"mapbox\",\"type\":\"scattermapbox\"},{\"hovertemplate\":\"city=Zell am Harmersbach<br>deaths=%{marker.size}<br>lat=%{lat}<br>lon=%{lon}<extra></extra>\",\"lat\":[48.3472],\"legendgroup\":\"Zell am Harmersbach\",\"lon\":[8.06565],\"marker\":{\"color\":\"#EF553B\",\"size\":[1.0],\"sizemode\":\"area\",\"sizeref\":0.5475},\"mode\":\"markers\",\"name\":\"Zell am Harmersbach\",\"showlegend\":true,\"subplot\":\"mapbox\",\"type\":\"scattermapbox\"},{\"hovertemplate\":\"city=Heilbronn<br>deaths=%{marker.size}<br>lat=%{lat}<br>lon=%{lon}<extra></extra>\",\"lat\":[49.1427,49.1427,49.1427,49.1427,49.1427,49.1427,49.1427,49.1427,49.1427,49.1427],\"legendgroup\":\"Heilbronn\",\"lon\":[9.21088,9.21088,9.21088,9.21088,9.21088,9.21088,9.21088,9.21088,9.21088,9.21088],\"marker\":{\"color\":\"#00cc96\",\"size\":[1.0,1.0,1.0,2.0,1.0,3.0,1.0,1.0,1.0,1.0],\"sizemode\":\"area\",\"sizeref\":0.5475},\"mode\":\"markers\",\"name\":\"Heilbronn\",\"showlegend\":true,\"subplot\":\"mapbox\",\"type\":\"scattermapbox\"},{\"hovertemplate\":\"city=Horb am Neckar<br>deaths=%{marker.size}<br>lat=%{lat}<br>lon=%{lon}<extra></extra>\",\"lat\":[48.4421,48.4421,48.4421,48.4421,48.4421,48.4421,48.4421,48.4421,48.4421,48.4421,48.4421,48.4421,48.4421],\"legendgroup\":\"Horb am Neckar\",\"lon\":[8.68485,8.68485,8.68485,8.68485,8.68485,8.68485,8.68485,8.68485,8.68485,8.68485,8.68485,8.68485,8.68485],\"marker\":{\"color\":\"#ab63fa\",\"size\":[2.0,0.0,1.0,1.0,9.0,9.0,9.0,13.0,5.0,1.0,16.0,0.0,1.0],\"sizemode\":\"area\",\"sizeref\":0.5475},\"mode\":\"markers\",\"name\":\"Horb am Neckar\",\"showlegend\":true,\"subplot\":\"mapbox\",\"type\":\"scattermapbox\"},{\"hovertemplate\":\"city=Wertheim am Main<br>deaths=%{marker.size}<br>lat=%{lat}<br>lon=%{lon}<extra></extra>\",\"lat\":[49.7586,49.7586,49.7586,49.7586,49.7586,49.7586,49.7586,49.7586,49.7586],\"legendgroup\":\"Wertheim am Main\",\"lon\":[9.51285,9.51285,9.51285,9.51285,9.51285,9.51285,9.51285,9.51285,9.51285],\"marker\":{\"color\":\"#FFA15A\",\"size\":[8.0,10.0,2.0,11.0,16.0,0.0,2.0,4.0,3.0],\"sizemode\":\"area\",\"sizeref\":0.5475},\"mode\":\"markers\",\"name\":\"Wertheim am Main\",\"showlegend\":true,\"subplot\":\"mapbox\",\"type\":\"scattermapbox\"},{\"hovertemplate\":\"city=Rottweil<br>deaths=%{marker.size}<br>lat=%{lat}<br>lon=%{lon}<extra></extra>\",\"lat\":[48.1611,48.1611,48.1611,48.1611,48.1611,48.1611,48.1611,48.1611,48.1611,48.1611,48.1611,48.1611,48.1611,48.1611,48.1611,48.1611,48.1611],\"legendgroup\":\"Rottweil\",\"lon\":[8.63162,8.63162,8.63162,8.63162,8.63162,8.63162,8.63162,8.63162,8.63162,8.63162,8.63162,8.63162,8.63162,8.63162,8.63162,8.63162,8.63162],\"marker\":{\"color\":\"#19d3f3\",\"size\":[1.0,1.0,2.0,2.0,1.0,5.0,2.0,1.0,30.0,9.0,6.0,2.0,1.0,2.0,1.0,1.0,1.0],\"sizemode\":\"area\",\"sizeref\":0.5475},\"mode\":\"markers\",\"name\":\"Rottweil\",\"showlegend\":true,\"subplot\":\"mapbox\",\"type\":\"scattermapbox\"},{\"hovertemplate\":\"city=Elzach<br>deaths=%{marker.size}<br>lat=%{lat}<br>lon=%{lon}<extra></extra>\",\"lat\":[48.1732,48.1732],\"legendgroup\":\"Elzach\",\"lon\":[8.06868,8.06868],\"marker\":{\"color\":\"#FF6692\",\"size\":[0.0,14.0],\"sizemode\":\"area\",\"sizeref\":0.5475},\"mode\":\"markers\",\"name\":\"Elzach\",\"showlegend\":true,\"subplot\":\"mapbox\",\"type\":\"scattermapbox\"},{\"hovertemplate\":\"city=Boblingen<br>deaths=%{marker.size}<br>lat=%{lat}<br>lon=%{lon}<extra></extra>\",\"lat\":[48.6813,48.6813,48.6813,48.6813,48.6813],\"legendgroup\":\"Boblingen\",\"lon\":[9.00883,9.00883,9.00883,9.00883,9.00883],\"marker\":{\"color\":\"#B6E880\",\"size\":[1.0,3.0,3.0,1.0,0.0],\"sizemode\":\"area\",\"sizeref\":0.5475},\"mode\":\"markers\",\"name\":\"Boblingen\",\"showlegend\":true,\"subplot\":\"mapbox\",\"type\":\"scattermapbox\"},{\"hovertemplate\":\"city=Sindelfingen<br>deaths=%{marker.size}<br>lat=%{lat}<br>lon=%{lon}<extra></extra>\",\"lat\":[48.7075,48.7075,48.7075,48.7075,48.7075,48.7075,48.7075,48.7075,48.7075,48.7075],\"legendgroup\":\"Sindelfingen\",\"lon\":[9.00441,9.00441,9.00441,9.00441,9.00441,9.00441,9.00441,9.00441,9.00441,9.00441],\"marker\":{\"color\":\"#FF97FF\",\"size\":[2.0,3.0,0.0,4.0,0.0,12.0,0.0,0.0,0.0,0.0],\"sizemode\":\"area\",\"sizeref\":0.5475},\"mode\":\"markers\",\"name\":\"Sindelfingen\",\"showlegend\":true,\"subplot\":\"mapbox\",\"type\":\"scattermapbox\"},{\"hovertemplate\":\"city=Wiesensteig<br>deaths=%{marker.size}<br>lat=%{lat}<br>lon=%{lon}<extra></extra>\",\"lat\":[48.5652,48.5652,48.5652],\"legendgroup\":\"Wiesensteig\",\"lon\":[9.62756,9.62756,9.62756],\"marker\":{\"color\":\"#FECB52\",\"size\":[63.0,25.0,4.0],\"sizemode\":\"area\",\"sizeref\":0.5475},\"mode\":\"markers\",\"name\":\"Wiesensteig\",\"showlegend\":true,\"subplot\":\"mapbox\",\"type\":\"scattermapbox\"},{\"hovertemplate\":\"city=Gemmingen<br>deaths=%{marker.size}<br>lat=%{lat}<br>lon=%{lon}<extra></extra>\",\"lat\":[49.1556],\"legendgroup\":\"Gemmingen\",\"lon\":[8.98112],\"marker\":{\"color\":\"#636efa\",\"size\":[1.0],\"sizemode\":\"area\",\"sizeref\":0.5475},\"mode\":\"markers\",\"name\":\"Gemmingen\",\"showlegend\":true,\"subplot\":\"mapbox\",\"type\":\"scattermapbox\"},{\"hovertemplate\":\"city=Wolfach<br>deaths=%{marker.size}<br>lat=%{lat}<br>lon=%{lon}<extra></extra>\",\"lat\":[48.2924,48.2924,48.2924,48.2924,48.2924,48.2924,48.2924,48.2924,48.2924,48.2924,48.2924],\"legendgroup\":\"Wolfach\",\"lon\":[8.21492,8.21492,8.21492,8.21492,8.21492,8.21492,8.21492,8.21492,8.21492,8.21492,8.21492],\"marker\":{\"color\":\"#EF553B\",\"size\":[1.0,5.0,1.0,2.0,0.0,15.0,8.0,0.0,3.0,0.0,1.0],\"sizemode\":\"area\",\"sizeref\":0.5475},\"mode\":\"markers\",\"name\":\"Wolfach\",\"showlegend\":true,\"subplot\":\"mapbox\",\"type\":\"scattermapbox\"},{\"hovertemplate\":\"city=Appenweier<br>deaths=%{marker.size}<br>lat=%{lat}<br>lon=%{lon}<extra></extra>\",\"lat\":[48.5477],\"legendgroup\":\"Appenweier\",\"lon\":[7.9745],\"marker\":{\"color\":\"#00cc96\",\"size\":[3.0],\"sizemode\":\"area\",\"sizeref\":0.5475},\"mode\":\"markers\",\"name\":\"Appenweier\",\"showlegend\":true,\"subplot\":\"mapbox\",\"type\":\"scattermapbox\"},{\"hovertemplate\":\"city=Badenweiler<br>deaths=%{marker.size}<br>lat=%{lat}<br>lon=%{lon}<extra></extra>\",\"lat\":[47.8027],\"legendgroup\":\"Badenweiler\",\"lon\":[7.67211],\"marker\":{\"color\":\"#ab63fa\",\"size\":[1.0],\"sizemode\":\"area\",\"sizeref\":0.5475},\"mode\":\"markers\",\"name\":\"Badenweiler\",\"showlegend\":true,\"subplot\":\"mapbox\",\"type\":\"scattermapbox\"},{\"hovertemplate\":\"city=Unlingen<br>deaths=%{marker.size}<br>lat=%{lat}<br>lon=%{lon}<extra></extra>\",\"lat\":[48.167,48.167],\"legendgroup\":\"Unlingen\",\"lon\":[9.51956,9.51956],\"marker\":{\"color\":\"#FFA15A\",\"size\":[2.0,5.0],\"sizemode\":\"area\",\"sizeref\":0.5475},\"mode\":\"markers\",\"name\":\"Unlingen\",\"showlegend\":true,\"subplot\":\"mapbox\",\"type\":\"scattermapbox\"},{\"hovertemplate\":\"city=Bildechingen<br>deaths=%{marker.size}<br>lat=%{lat}<br>lon=%{lon}<extra></extra>\",\"lat\":[48.4647],\"legendgroup\":\"Bildechingen\",\"lon\":[8.71509],\"marker\":{\"color\":\"#19d3f3\",\"size\":[0.0],\"sizemode\":\"area\",\"sizeref\":0.5475},\"mode\":\"markers\",\"name\":\"Bildechingen\",\"showlegend\":true,\"subplot\":\"mapbox\",\"type\":\"scattermapbox\"},{\"hovertemplate\":\"city=Baden-Baden<br>deaths=%{marker.size}<br>lat=%{lat}<br>lon=%{lon}<extra></extra>\",\"lat\":[48.7656,48.7656,48.7656,48.7656,48.7656,48.7656,48.7656,48.7656],\"legendgroup\":\"Baden-Baden\",\"lon\":[8.22852,8.22852,8.22852,8.22852,8.22852,8.22852,8.22852,8.22852],\"marker\":{\"color\":\"#FF6692\",\"size\":[2.0,4.0,2.0,4.0,3.0,5.0,70.0,33.0],\"sizemode\":\"area\",\"sizeref\":0.5475},\"mode\":\"markers\",\"name\":\"Baden-Baden\",\"showlegend\":true,\"subplot\":\"mapbox\",\"type\":\"scattermapbox\"},{\"hovertemplate\":\"city=Gengenbach<br>deaths=%{marker.size}<br>lat=%{lat}<br>lon=%{lon}<extra></extra>\",\"lat\":[48.4098,48.4098,48.4098,48.4098,48.4098,48.4098,48.4098,48.4098],\"legendgroup\":\"Gengenbach\",\"lon\":[8.0096,8.0096,8.0096,8.0096,8.0096,8.0096,8.0096,8.0096],\"marker\":{\"color\":\"#B6E880\",\"size\":[7.0,1.0,0.0,70.0,2.0,2.0,2.0,2.0],\"sizemode\":\"area\",\"sizeref\":0.5475},\"mode\":\"markers\",\"name\":\"Gengenbach\",\"showlegend\":true,\"subplot\":\"mapbox\",\"type\":\"scattermapbox\"},{\"hovertemplate\":\"city=Vogtsburg<br>deaths=%{marker.size}<br>lat=%{lat}<br>lon=%{lon}<extra></extra>\",\"lat\":[48.0971],\"legendgroup\":\"Vogtsburg\",\"lon\":[7.64078],\"marker\":{\"color\":\"#FF97FF\",\"size\":[2.0],\"sizemode\":\"area\",\"sizeref\":0.5475},\"mode\":\"markers\",\"name\":\"Vogtsburg\",\"showlegend\":true,\"subplot\":\"mapbox\",\"type\":\"scattermapbox\"},{\"hovertemplate\":\"city=Kampfelbach<br>deaths=%{marker.size}<br>lat=%{lat}<br>lon=%{lon}<extra></extra>\",\"lat\":[48.9486,48.9486,48.9486],\"legendgroup\":\"Kampfelbach\",\"lon\":[8.62351,8.62351,8.62351],\"marker\":{\"color\":\"#FECB52\",\"size\":[2.0,2.0,2.0],\"sizemode\":\"area\",\"sizeref\":0.5475},\"mode\":\"markers\",\"name\":\"Kampfelbach\",\"showlegend\":true,\"subplot\":\"mapbox\",\"type\":\"scattermapbox\"},{\"hovertemplate\":\"city=Buhl<br>deaths=%{marker.size}<br>lat=%{lat}<br>lon=%{lon}<extra></extra>\",\"lat\":[48.6955,48.6955],\"legendgroup\":\"Buhl\",\"lon\":[8.13806,8.13806],\"marker\":{\"color\":\"#636efa\",\"size\":[3.0,70.0],\"sizemode\":\"area\",\"sizeref\":0.5475},\"mode\":\"markers\",\"name\":\"Buhl\",\"showlegend\":true,\"subplot\":\"mapbox\",\"type\":\"scattermapbox\"},{\"hovertemplate\":\"city=Schwabisch Hall<br>deaths=%{marker.size}<br>lat=%{lat}<br>lon=%{lon}<extra></extra>\",\"lat\":[49.1125,49.1125,49.1125,49.1125,49.1125],\"legendgroup\":\"Schwabisch Hall\",\"lon\":[9.73726,9.73726,9.73726,9.73726,9.73726],\"marker\":{\"color\":\"#EF553B\",\"size\":[1.0,1.0,2.0,0.0,5.0],\"sizemode\":\"area\",\"sizeref\":0.5475},\"mode\":\"markers\",\"name\":\"Schwabisch Hall\",\"showlegend\":true,\"subplot\":\"mapbox\",\"type\":\"scattermapbox\"},{\"hovertemplate\":\"city=Uberlingen<br>deaths=%{marker.size}<br>lat=%{lat}<br>lon=%{lon}<extra></extra>\",\"lat\":[47.7662,47.7662,47.7662,47.7662],\"legendgroup\":\"Uberlingen\",\"lon\":[9.17028,9.17028,9.17028,9.17028],\"marker\":{\"color\":\"#00cc96\",\"size\":[8.0,3.0,6.0,4.0],\"sizemode\":\"area\",\"sizeref\":0.5475},\"mode\":\"markers\",\"name\":\"Uberlingen\",\"showlegend\":true,\"subplot\":\"mapbox\",\"type\":\"scattermapbox\"},{\"hovertemplate\":\"city=Bad Wurzach<br>deaths=%{marker.size}<br>lat=%{lat}<br>lon=%{lon}<extra></extra>\",\"lat\":[47.9082,47.9082,47.9082,47.9082,47.9082],\"legendgroup\":\"Bad Wurzach\",\"lon\":[9.89383,9.89383,9.89383,9.89383,9.89383],\"marker\":{\"color\":\"#ab63fa\",\"size\":[16.0,16.0,9.0,4.0,1.0],\"sizemode\":\"area\",\"sizeref\":0.5475},\"mode\":\"markers\",\"name\":\"Bad Wurzach\",\"showlegend\":true,\"subplot\":\"mapbox\",\"type\":\"scattermapbox\"},{\"hovertemplate\":\"city=Waldkirch<br>deaths=%{marker.size}<br>lat=%{lat}<br>lon=%{lon}<extra></extra>\",\"lat\":[48.0915],\"legendgroup\":\"Waldkirch\",\"lon\":[7.95865],\"marker\":{\"color\":\"#FFA15A\",\"size\":[6.0],\"sizemode\":\"area\",\"sizeref\":0.5475},\"mode\":\"markers\",\"name\":\"Waldkirch\",\"showlegend\":true,\"subplot\":\"mapbox\",\"type\":\"scattermapbox\"},{\"hovertemplate\":\"city=Brigach<br>deaths=%{marker.size}<br>lat=%{lat}<br>lon=%{lon}<extra></extra>\",\"lat\":[48.1071],\"legendgroup\":\"Brigach\",\"lon\":[8.28305],\"marker\":{\"color\":\"#19d3f3\",\"size\":[6.0],\"sizemode\":\"area\",\"sizeref\":0.5475},\"mode\":\"markers\",\"name\":\"Brigach\",\"showlegend\":true,\"subplot\":\"mapbox\",\"type\":\"scattermapbox\"},{\"hovertemplate\":\"city=Endingen<br>deaths=%{marker.size}<br>lat=%{lat}<br>lon=%{lon}<extra></extra>\",\"lat\":[48.1437,48.1437],\"legendgroup\":\"Endingen\",\"lon\":[7.70059,7.70059],\"marker\":{\"color\":\"#FF6692\",\"size\":[3.0,4.0],\"sizemode\":\"area\",\"sizeref\":0.5475},\"mode\":\"markers\",\"name\":\"Endingen\",\"showlegend\":true,\"subplot\":\"mapbox\",\"type\":\"scattermapbox\"},{\"hovertemplate\":\"city=Schopfheim<br>deaths=%{marker.size}<br>lat=%{lat}<br>lon=%{lon}<extra></extra>\",\"lat\":[47.6519],\"legendgroup\":\"Schopfheim\",\"lon\":[7.82357],\"marker\":{\"color\":\"#B6E880\",\"size\":[5.0],\"sizemode\":\"area\",\"sizeref\":0.5475},\"mode\":\"markers\",\"name\":\"Schopfheim\",\"showlegend\":true,\"subplot\":\"mapbox\",\"type\":\"scattermapbox\"},{\"hovertemplate\":\"city=Hohenzollern<br>deaths=%{marker.size}<br>lat=%{lat}<br>lon=%{lon}<extra></extra>\",\"lat\":[48.3231,48.3231,48.3231,48.3231,48.3231,48.3231,48.3231,48.3231,48.3231,48.3231,48.3231,48.3231,48.3231,48.3231,48.3231,48.3231,48.3231,48.3231,48.3231,48.3231,48.3231,48.3231,48.3231,48.3231,48.3231],\"legendgroup\":\"Hohenzollern\",\"lon\":[8.96778,8.96778,8.96778,8.96778,8.96778,8.96778,8.96778,8.96778,8.96778,8.96778,8.96778,8.96778,8.96778,8.96778,8.96778,8.96778,8.96778,8.96778,8.96778,8.96778,8.96778,8.96778,8.96778,8.96778,8.96778],\"marker\":{\"color\":\"#FF97FF\",\"size\":[1.0,1.0,1.0,3.0,11.0,1.0,2.0,8.0,1.0,5.0,2.0,5.0,1.0,3.0,2.0,1.0,1.0,0.0,1.0,1.0,2.0,1.0,0.0,2.0,1.0],\"sizemode\":\"area\",\"sizeref\":0.5475},\"mode\":\"markers\",\"name\":\"Hohenzollern\",\"showlegend\":true,\"subplot\":\"mapbox\",\"type\":\"scattermapbox\"},{\"hovertemplate\":\"city=Breisach<br>deaths=%{marker.size}<br>lat=%{lat}<br>lon=%{lon}<extra></extra>\",\"lat\":[48.0348,48.0348],\"legendgroup\":\"Breisach\",\"lon\":[7.58361,7.58361],\"marker\":{\"color\":\"#FECB52\",\"size\":[1.0,1.0],\"sizemode\":\"area\",\"sizeref\":0.5475},\"mode\":\"markers\",\"name\":\"Breisach\",\"showlegend\":true,\"subplot\":\"mapbox\",\"type\":\"scattermapbox\"},{\"hovertemplate\":\"city=Ettlingen<br>deaths=%{marker.size}<br>lat=%{lat}<br>lon=%{lon}<extra></extra>\",\"lat\":[48.9432,48.9432],\"legendgroup\":\"Ettlingen\",\"lon\":[8.39802,8.39802],\"marker\":{\"color\":\"#636efa\",\"size\":[1.0,1.0],\"sizemode\":\"area\",\"sizeref\":0.5475},\"mode\":\"markers\",\"name\":\"Ettlingen\",\"showlegend\":true,\"subplot\":\"mapbox\",\"type\":\"scattermapbox\"},{\"hovertemplate\":\"city=Rastatt<br>deaths=%{marker.size}<br>lat=%{lat}<br>lon=%{lon}<extra></extra>\",\"lat\":[48.8591,48.8591],\"legendgroup\":\"Rastatt\",\"lon\":[8.20591,8.20591],\"marker\":{\"color\":\"#EF553B\",\"size\":[7.0,1.0],\"sizemode\":\"area\",\"sizeref\":0.5475},\"mode\":\"markers\",\"name\":\"Rastatt\",\"showlegend\":true,\"subplot\":\"mapbox\",\"type\":\"scattermapbox\"},{\"hovertemplate\":\"city=Kuppenheim<br>deaths=%{marker.size}<br>lat=%{lat}<br>lon=%{lon}<extra></extra>\",\"lat\":[48.8289],\"legendgroup\":\"Kuppenheim\",\"lon\":[8.25624],\"marker\":{\"color\":\"#00cc96\",\"size\":[6.0],\"sizemode\":\"area\",\"sizeref\":0.5475},\"mode\":\"markers\",\"name\":\"Kuppenheim\",\"showlegend\":true,\"subplot\":\"mapbox\",\"type\":\"scattermapbox\"},{\"hovertemplate\":\"city=Isny im Allgau<br>deaths=%{marker.size}<br>lat=%{lat}<br>lon=%{lon}<extra></extra>\",\"lat\":[47.695],\"legendgroup\":\"Isny im Allgau\",\"lon\":[10.042],\"marker\":{\"color\":\"#ab63fa\",\"size\":[3.0],\"sizemode\":\"area\",\"sizeref\":0.5475},\"mode\":\"markers\",\"name\":\"Isny im Allgau\",\"showlegend\":true,\"subplot\":\"mapbox\",\"type\":\"scattermapbox\"},{\"hovertemplate\":\"city=Biberach<br>deaths=%{marker.size}<br>lat=%{lat}<br>lon=%{lon}<extra></extra>\",\"lat\":[48.0951,48.0951],\"legendgroup\":\"Biberach\",\"lon\":[9.79015,9.79015],\"marker\":{\"color\":\"#FFA15A\",\"size\":[5.0,1.0],\"sizemode\":\"area\",\"sizeref\":0.5475},\"mode\":\"markers\",\"name\":\"Biberach\",\"showlegend\":true,\"subplot\":\"mapbox\",\"type\":\"scattermapbox\"},{\"hovertemplate\":\"city=Heiligkreuztal<br>deaths=%{marker.size}<br>lat=%{lat}<br>lon=%{lon}<extra></extra>\",\"lat\":[48.1351],\"legendgroup\":\"Heiligkreuztal\",\"lon\":[9.40386],\"marker\":{\"color\":\"#19d3f3\",\"size\":[1.0],\"sizemode\":\"area\",\"sizeref\":0.5475},\"mode\":\"markers\",\"name\":\"Heiligkreuztal\",\"showlegend\":true,\"subplot\":\"mapbox\",\"type\":\"scattermapbox\"},{\"hovertemplate\":\"city=Obermarchtal<br>deaths=%{marker.size}<br>lat=%{lat}<br>lon=%{lon}<extra></extra>\",\"lat\":[48.2338,48.2338,48.2338,48.2338,48.2338,48.2338,48.2338,48.2338,48.2338,48.2338,48.2338,48.2338],\"legendgroup\":\"Obermarchtal\",\"lon\":[9.56997,9.56997,9.56997,9.56997,9.56997,9.56997,9.56997,9.56997,9.56997,9.56997,9.56997,9.56997],\"marker\":{\"color\":\"#FF6692\",\"size\":[1.0,22.0,25.0,6.0,1.0,3.0,3.0,4.0,1.0,7.0,1.0,1.0],\"sizemode\":\"area\",\"sizeref\":0.5475},\"mode\":\"markers\",\"name\":\"Obermarchtal\",\"showlegend\":true,\"subplot\":\"mapbox\",\"type\":\"scattermapbox\"},{\"hovertemplate\":\"city=Reute<br>deaths=%{marker.size}<br>lat=%{lat}<br>lon=%{lon}<extra></extra>\",\"lat\":[48.0833],\"legendgroup\":\"Reute\",\"lon\":[7.82609],\"marker\":{\"color\":\"#B6E880\",\"size\":[38.0],\"sizemode\":\"area\",\"sizeref\":0.5475},\"mode\":\"markers\",\"name\":\"Reute\",\"showlegend\":true,\"subplot\":\"mapbox\",\"type\":\"scattermapbox\"},{\"hovertemplate\":\"city=Offenburg<br>deaths=%{marker.size}<br>lat=%{lat}<br>lon=%{lon}<extra></extra>\",\"lat\":[48.4735,48.4735,48.4735,48.4735,48.4735,48.4735,48.4735,48.4735,48.4735,48.4735,48.4735,48.4735,48.4735,48.4735,48.4735,48.4735,48.4735],\"legendgroup\":\"Offenburg\",\"lon\":[7.9498,7.9498,7.9498,7.9498,7.9498,7.9498,7.9498,7.9498,7.9498,7.9498,7.9498,7.9498,7.9498,7.9498,7.9498,7.9498,7.9498],\"marker\":{\"color\":\"#FF97FF\",\"size\":[0.0,4.0,0.0,3.0,0.0,2.0,1.0,12.0,7.0,5.0,17.0,3.0,32.0,0.0,1.0,0.0,1.0],\"sizemode\":\"area\",\"sizeref\":0.5475},\"mode\":\"markers\",\"name\":\"Offenburg\",\"showlegend\":true,\"subplot\":\"mapbox\",\"type\":\"scattermapbox\"},{\"hovertemplate\":\"city=Bad Mergentheim<br>deaths=%{marker.size}<br>lat=%{lat}<br>lon=%{lon}<extra></extra>\",\"lat\":[49.4885,49.4885,49.4885,49.4885,49.4885,49.4885,49.4885],\"legendgroup\":\"Bad Mergentheim\",\"lon\":[9.77042,9.77042,9.77042,9.77042,9.77042,9.77042,9.77042],\"marker\":{\"color\":\"#FECB52\",\"size\":[2.0,7.0,5.0,17.0,94.0,13.0,1.0],\"sizemode\":\"area\",\"sizeref\":0.5475},\"mode\":\"markers\",\"name\":\"Bad Mergentheim\",\"showlegend\":true,\"subplot\":\"mapbox\",\"type\":\"scattermapbox\"},{\"hovertemplate\":\"city=Riedlingen<br>deaths=%{marker.size}<br>lat=%{lat}<br>lon=%{lon}<extra></extra>\",\"lat\":[48.1596,48.1596,48.1596],\"legendgroup\":\"Riedlingen\",\"lon\":[9.47133,9.47133,9.47133],\"marker\":{\"color\":\"#636efa\",\"size\":[2.0,1.0,1.0],\"sizemode\":\"area\",\"sizeref\":0.5475},\"mode\":\"markers\",\"name\":\"Riedlingen\",\"showlegend\":true,\"subplot\":\"mapbox\",\"type\":\"scattermapbox\"},{\"hovertemplate\":\"city=Neuenburg<br>deaths=%{marker.size}<br>lat=%{lat}<br>lon=%{lon}<extra></extra>\",\"lat\":[48.8484],\"legendgroup\":\"Neuenburg\",\"lon\":[8.588],\"marker\":{\"color\":\"#EF553B\",\"size\":[0.0],\"sizemode\":\"area\",\"sizeref\":0.5475},\"mode\":\"markers\",\"name\":\"Neuenburg\",\"showlegend\":true,\"subplot\":\"mapbox\",\"type\":\"scattermapbox\"},{\"hovertemplate\":\"city=Bernau im Schwarzwald<br>deaths=%{marker.size}<br>lat=%{lat}<br>lon=%{lon}<extra></extra>\",\"lat\":[47.7925],\"legendgroup\":\"Bernau im Schwarzwald\",\"lon\":[8.06365],\"marker\":{\"color\":\"#00cc96\",\"size\":[17.0],\"sizemode\":\"area\",\"sizeref\":0.5475},\"mode\":\"markers\",\"name\":\"Bernau im Schwarzwald\",\"showlegend\":true,\"subplot\":\"mapbox\",\"type\":\"scattermapbox\"},{\"hovertemplate\":\"city=Balingen<br>deaths=%{marker.size}<br>lat=%{lat}<br>lon=%{lon}<extra></extra>\",\"lat\":[48.2748,48.2748,48.2748],\"legendgroup\":\"Balingen\",\"lon\":[8.84953,8.84953,8.84953],\"marker\":{\"color\":\"#ab63fa\",\"size\":[2.0,0.0,0.0],\"sizemode\":\"area\",\"sizeref\":0.5475},\"mode\":\"markers\",\"name\":\"Balingen\",\"showlegend\":true,\"subplot\":\"mapbox\",\"type\":\"scattermapbox\"},{\"hovertemplate\":\"city=Giengen<br>deaths=%{marker.size}<br>lat=%{lat}<br>lon=%{lon}<extra></extra>\",\"lat\":[48.6224],\"legendgroup\":\"Giengen\",\"lon\":[10.2392],\"marker\":{\"color\":\"#FFA15A\",\"size\":[1.0],\"sizemode\":\"area\",\"sizeref\":0.5475},\"mode\":\"markers\",\"name\":\"Giengen\",\"showlegend\":true,\"subplot\":\"mapbox\",\"type\":\"scattermapbox\"},{\"hovertemplate\":\"city=Schomberg<br>deaths=%{marker.size}<br>lat=%{lat}<br>lon=%{lon}<extra></extra>\",\"lat\":[48.2069],\"legendgroup\":\"Schomberg\",\"lon\":[8.75791],\"marker\":{\"color\":\"#19d3f3\",\"size\":[2.0],\"sizemode\":\"area\",\"sizeref\":0.5475},\"mode\":\"markers\",\"name\":\"Schomberg\",\"showlegend\":true,\"subplot\":\"mapbox\",\"type\":\"scattermapbox\"},{\"hovertemplate\":\"city=Reutlingen<br>deaths=%{marker.size}<br>lat=%{lat}<br>lon=%{lon}<extra></extra>\",\"lat\":[48.5069,48.5069,48.5069,48.5069,48.5069,48.5069,48.5069,48.5069,48.5069],\"legendgroup\":\"Reutlingen\",\"lon\":[9.2038,9.2038,9.2038,9.2038,9.2038,9.2038,9.2038,9.2038,9.2038],\"marker\":{\"color\":\"#FF6692\",\"size\":[1.0,5.0,3.0,1.0,0.0,1.0,0.0,0.0,14.0],\"sizemode\":\"area\",\"sizeref\":0.5475},\"mode\":\"markers\",\"name\":\"Reutlingen\",\"showlegend\":true,\"subplot\":\"mapbox\",\"type\":\"scattermapbox\"},{\"hovertemplate\":\"city=Kirchheim unter Teck<br>deaths=%{marker.size}<br>lat=%{lat}<br>lon=%{lon}<extra></extra>\",\"lat\":[48.6471,48.6471],\"legendgroup\":\"Kirchheim unter Teck\",\"lon\":[9.45196,9.45196],\"marker\":{\"color\":\"#B6E880\",\"size\":[1.0,1.0],\"sizemode\":\"area\",\"sizeref\":0.5475},\"mode\":\"markers\",\"name\":\"Kirchheim unter Teck\",\"showlegend\":true,\"subplot\":\"mapbox\",\"type\":\"scattermapbox\"},{\"hovertemplate\":\"city=Bad Rappenau<br>deaths=%{marker.size}<br>lat=%{lat}<br>lon=%{lon}<extra></extra>\",\"lat\":[49.2402],\"legendgroup\":\"Bad Rappenau\",\"lon\":[9.10202],\"marker\":{\"color\":\"#FF97FF\",\"size\":[1.0],\"sizemode\":\"area\",\"sizeref\":0.5475},\"mode\":\"markers\",\"name\":\"Bad Rappenau\",\"showlegend\":true,\"subplot\":\"mapbox\",\"type\":\"scattermapbox\"},{\"hovertemplate\":\"city=Freudenberg am Main<br>deaths=%{marker.size}<br>lat=%{lat}<br>lon=%{lon}<extra></extra>\",\"lat\":[49.7541,49.7541],\"legendgroup\":\"Freudenberg am Main\",\"lon\":[9.32665,9.32665],\"marker\":{\"color\":\"#FECB52\",\"size\":[9.0,50.0],\"sizemode\":\"area\",\"sizeref\":0.5475},\"mode\":\"markers\",\"name\":\"Freudenberg am Main\",\"showlegend\":true,\"subplot\":\"mapbox\",\"type\":\"scattermapbox\"},{\"hovertemplate\":\"city=Calw<br>deaths=%{marker.size}<br>lat=%{lat}<br>lon=%{lon}<extra></extra>\",\"lat\":[48.7122,48.7122],\"legendgroup\":\"Calw\",\"lon\":[8.74724,8.74724],\"marker\":{\"color\":\"#636efa\",\"size\":[0.0,2.0],\"sizemode\":\"area\",\"sizeref\":0.5475},\"mode\":\"markers\",\"name\":\"Calw\",\"showlegend\":true,\"subplot\":\"mapbox\",\"type\":\"scattermapbox\"},{\"hovertemplate\":\"city=Niederstetten<br>deaths=%{marker.size}<br>lat=%{lat}<br>lon=%{lon}<extra></extra>\",\"lat\":[49.3995],\"legendgroup\":\"Niederstetten\",\"lon\":[9.91944],\"marker\":{\"color\":\"#EF553B\",\"size\":[1.0],\"sizemode\":\"area\",\"sizeref\":0.5475},\"mode\":\"markers\",\"name\":\"Niederstetten\",\"showlegend\":true,\"subplot\":\"mapbox\",\"type\":\"scattermapbox\"},{\"hovertemplate\":\"city=Ingelfingen<br>deaths=%{marker.size}<br>lat=%{lat}<br>lon=%{lon}<extra></extra>\",\"lat\":[49.2997],\"legendgroup\":\"Ingelfingen\",\"lon\":[9.65725],\"marker\":{\"color\":\"#00cc96\",\"size\":[14.0],\"sizemode\":\"area\",\"sizeref\":0.5475},\"mode\":\"markers\",\"name\":\"Ingelfingen\",\"showlegend\":true,\"subplot\":\"mapbox\",\"type\":\"scattermapbox\"},{\"hovertemplate\":\"city=Niedernhall<br>deaths=%{marker.size}<br>lat=%{lat}<br>lon=%{lon}<extra></extra>\",\"lat\":[49.2861,49.2861,49.2861],\"legendgroup\":\"Niedernhall\",\"lon\":[9.61854,9.61854,9.61854],\"marker\":{\"color\":\"#ab63fa\",\"size\":[3.0,2.0,2.0],\"sizemode\":\"area\",\"sizeref\":0.5475},\"mode\":\"markers\",\"name\":\"Niedernhall\",\"showlegend\":true,\"subplot\":\"mapbox\",\"type\":\"scattermapbox\"},{\"hovertemplate\":\"city=Reichenbach am Heuberg<br>deaths=%{marker.size}<br>lat=%{lat}<br>lon=%{lon}<extra></extra>\",\"lat\":[48.1334],\"legendgroup\":\"Reichenbach am Heuberg\",\"lon\":[8.84119],\"marker\":{\"color\":\"#FFA15A\",\"size\":[1.0],\"sizemode\":\"area\",\"sizeref\":0.5475},\"mode\":\"markers\",\"name\":\"Reichenbach am Heuberg\",\"showlegend\":true,\"subplot\":\"mapbox\",\"type\":\"scattermapbox\"},{\"hovertemplate\":\"city=Weil der Stadt<br>deaths=%{marker.size}<br>lat=%{lat}<br>lon=%{lon}<extra></extra>\",\"lat\":[48.7536,48.7536,48.7536],\"legendgroup\":\"Weil der Stadt\",\"lon\":[8.87274,8.87274,8.87274],\"marker\":{\"color\":\"#19d3f3\",\"size\":[1.0,1.0,1.0],\"sizemode\":\"area\",\"sizeref\":0.5475},\"mode\":\"markers\",\"name\":\"Weil der Stadt\",\"showlegend\":true,\"subplot\":\"mapbox\",\"type\":\"scattermapbox\"},{\"hovertemplate\":\"city=Kenzingen<br>deaths=%{marker.size}<br>lat=%{lat}<br>lon=%{lon}<extra></extra>\",\"lat\":[48.1955,48.1955,48.1955],\"legendgroup\":\"Kenzingen\",\"lon\":[7.76968,7.76968,7.76968],\"marker\":{\"color\":\"#FF6692\",\"size\":[12.0,2.0,2.0],\"sizemode\":\"area\",\"sizeref\":0.5475},\"mode\":\"markers\",\"name\":\"Kenzingen\",\"showlegend\":true,\"subplot\":\"mapbox\",\"type\":\"scattermapbox\"},{\"hovertemplate\":\"city=Trochtelfingen<br>deaths=%{marker.size}<br>lat=%{lat}<br>lon=%{lon}<extra></extra>\",\"lat\":[48.3091],\"legendgroup\":\"Trochtelfingen\",\"lon\":[9.23991],\"marker\":{\"color\":\"#B6E880\",\"size\":[13.0],\"sizemode\":\"area\",\"sizeref\":0.5475},\"mode\":\"markers\",\"name\":\"Trochtelfingen\",\"showlegend\":true,\"subplot\":\"mapbox\",\"type\":\"scattermapbox\"},{\"hovertemplate\":\"city=Sulz am Neckar<br>deaths=%{marker.size}<br>lat=%{lat}<br>lon=%{lon}<extra></extra>\",\"lat\":[48.3537,48.3537,48.3537,48.3537,48.3537,48.3537,48.3537,48.3537,48.3537,48.3537,48.3537],\"legendgroup\":\"Sulz am Neckar\",\"lon\":[8.63442,8.63442,8.63442,8.63442,8.63442,8.63442,8.63442,8.63442,8.63442,8.63442,8.63442],\"marker\":{\"color\":\"#FF97FF\",\"size\":[5.0,1.0,1.0,11.0,1.0,2.0,9.0,2.0,1.0,5.0,1.0],\"sizemode\":\"area\",\"sizeref\":0.5475},\"mode\":\"markers\",\"name\":\"Sulz am Neckar\",\"showlegend\":true,\"subplot\":\"mapbox\",\"type\":\"scattermapbox\"},{\"hovertemplate\":\"city=Vohringen<br>deaths=%{marker.size}<br>lat=%{lat}<br>lon=%{lon}<extra></extra>\",\"lat\":[48.3346],\"legendgroup\":\"Vohringen\",\"lon\":[8.66422],\"marker\":{\"color\":\"#FECB52\",\"size\":[1.0],\"sizemode\":\"area\",\"sizeref\":0.5475},\"mode\":\"markers\",\"name\":\"Vohringen\",\"showlegend\":true,\"subplot\":\"mapbox\",\"type\":\"scattermapbox\"},{\"hovertemplate\":\"city=Boll<br>deaths=%{marker.size}<br>lat=%{lat}<br>lon=%{lon}<extra></extra>\",\"lat\":[48.6406],\"legendgroup\":\"Boll\",\"lon\":[9.61378],\"marker\":{\"color\":\"#636efa\",\"size\":[1.0],\"sizemode\":\"area\",\"sizeref\":0.5475},\"mode\":\"markers\",\"name\":\"Boll\",\"showlegend\":true,\"subplot\":\"mapbox\",\"type\":\"scattermapbox\"},{\"hovertemplate\":\"city=Haigerloch<br>deaths=%{marker.size}<br>lat=%{lat}<br>lon=%{lon}<extra></extra>\",\"lat\":[48.3667,48.3667,48.3667,48.3667,48.3667,48.3667],\"legendgroup\":\"Haigerloch\",\"lon\":[8.79197,8.79197,8.79197,8.79197,8.79197,8.79197],\"marker\":{\"color\":\"#EF553B\",\"size\":[1.0,1.0,2.0,1.0,2.0,2.0],\"sizemode\":\"area\",\"sizeref\":0.5475},\"mode\":\"markers\",\"name\":\"Haigerloch\",\"showlegend\":true,\"subplot\":\"mapbox\",\"type\":\"scattermapbox\"},{\"hovertemplate\":\"city=Lauda-Konigshofen<br>deaths=%{marker.size}<br>lat=%{lat}<br>lon=%{lon}<extra></extra>\",\"lat\":[49.5651,49.5651,49.5651],\"legendgroup\":\"Lauda-Konigshofen\",\"lon\":[9.70038,9.70038,9.70038],\"marker\":{\"color\":\"#00cc96\",\"size\":[2.0,7.0,1.0],\"sizemode\":\"area\",\"sizeref\":0.5475},\"mode\":\"markers\",\"name\":\"Lauda-Konigshofen\",\"showlegend\":true,\"subplot\":\"mapbox\",\"type\":\"scattermapbox\"},{\"hovertemplate\":\"city=Marbach am Neckar<br>deaths=%{marker.size}<br>lat=%{lat}<br>lon=%{lon}<extra></extra>\",\"lat\":[48.9396,48.9396,48.9396,48.9396,48.9396],\"legendgroup\":\"Marbach am Neckar\",\"lon\":[9.2646,9.2646,9.2646,9.2646,9.2646],\"marker\":{\"color\":\"#ab63fa\",\"size\":[2.0,1.0,1.0,0.0,0.0],\"sizemode\":\"area\",\"sizeref\":0.5475},\"mode\":\"markers\",\"name\":\"Marbach am Neckar\",\"showlegend\":true,\"subplot\":\"mapbox\",\"type\":\"scattermapbox\"},{\"hovertemplate\":\"city=Krautheim<br>deaths=%{marker.size}<br>lat=%{lat}<br>lon=%{lon}<extra></extra>\",\"lat\":[49.3827],\"legendgroup\":\"Krautheim\",\"lon\":[9.63439],\"marker\":{\"color\":\"#FFA15A\",\"size\":[2.0],\"sizemode\":\"area\",\"sizeref\":0.5475},\"mode\":\"markers\",\"name\":\"Krautheim\",\"showlegend\":true,\"subplot\":\"mapbox\",\"type\":\"scattermapbox\"},{\"hovertemplate\":\"city=Beilstein<br>deaths=%{marker.size}<br>lat=%{lat}<br>lon=%{lon}<extra></extra>\",\"lat\":[49.0417],\"legendgroup\":\"Beilstein\",\"lon\":[9.31295],\"marker\":{\"color\":\"#19d3f3\",\"size\":[0.0],\"sizemode\":\"area\",\"sizeref\":0.5475},\"mode\":\"markers\",\"name\":\"Beilstein\",\"showlegend\":true,\"subplot\":\"mapbox\",\"type\":\"scattermapbox\"},{\"hovertemplate\":\"city=Freudenstadt<br>deaths=%{marker.size}<br>lat=%{lat}<br>lon=%{lon}<extra></extra>\",\"lat\":[48.4645,48.4645,48.4645,48.4645],\"legendgroup\":\"Freudenstadt\",\"lon\":[8.418,8.418,8.418,8.418],\"marker\":{\"color\":\"#FF6692\",\"size\":[2.0,0.0,2.0,1.0],\"sizemode\":\"area\",\"sizeref\":0.5475},\"mode\":\"markers\",\"name\":\"Freudenstadt\",\"showlegend\":true,\"subplot\":\"mapbox\",\"type\":\"scattermapbox\"},{\"hovertemplate\":\"city=Rosenfeld<br>deaths=%{marker.size}<br>lat=%{lat}<br>lon=%{lon}<extra></extra>\",\"lat\":[48.2874],\"legendgroup\":\"Rosenfeld\",\"lon\":[8.72004],\"marker\":{\"color\":\"#B6E880\",\"size\":[2.0],\"sizemode\":\"area\",\"sizeref\":0.5475},\"mode\":\"markers\",\"name\":\"Rosenfeld\",\"showlegend\":true,\"subplot\":\"mapbox\",\"type\":\"scattermapbox\"},{\"hovertemplate\":\"city=Geislingen an der Steige<br>deaths=%{marker.size}<br>lat=%{lat}<br>lon=%{lon}<extra></extra>\",\"lat\":[48.6215],\"legendgroup\":\"Geislingen an der Steige\",\"lon\":[9.82945],\"marker\":{\"color\":\"#FF97FF\",\"size\":[14.0],\"sizemode\":\"area\",\"sizeref\":0.5475},\"mode\":\"markers\",\"name\":\"Geislingen an der Steige\",\"showlegend\":true,\"subplot\":\"mapbox\",\"type\":\"scattermapbox\"},{\"hovertemplate\":\"city=Lichtenau<br>deaths=%{marker.size}<br>lat=%{lat}<br>lon=%{lon}<extra></extra>\",\"lat\":[48.7254],\"legendgroup\":\"Lichtenau\",\"lon\":[8.00684],\"marker\":{\"color\":\"#FECB52\",\"size\":[0.0],\"sizemode\":\"area\",\"sizeref\":0.5475},\"mode\":\"markers\",\"name\":\"Lichtenau\",\"showlegend\":true,\"subplot\":\"mapbox\",\"type\":\"scattermapbox\"},{\"hovertemplate\":\"city=Besigheim<br>deaths=%{marker.size}<br>lat=%{lat}<br>lon=%{lon}<extra></extra>\",\"lat\":[48.9988,48.9988],\"legendgroup\":\"Besigheim\",\"lon\":[9.14839,9.14839],\"marker\":{\"color\":\"#636efa\",\"size\":[1.0,0.0],\"sizemode\":\"area\",\"sizeref\":0.5475},\"mode\":\"markers\",\"name\":\"Besigheim\",\"showlegend\":true,\"subplot\":\"mapbox\",\"type\":\"scattermapbox\"},{\"hovertemplate\":\"city=Dornhan<br>deaths=%{marker.size}<br>lat=%{lat}<br>lon=%{lon}<extra></extra>\",\"lat\":[48.3493,48.3493],\"legendgroup\":\"Dornhan\",\"lon\":[8.50887,8.50887],\"marker\":{\"color\":\"#EF553B\",\"size\":[6.0,5.0],\"sizemode\":\"area\",\"sizeref\":0.5475},\"mode\":\"markers\",\"name\":\"Dornhan\",\"showlegend\":true,\"subplot\":\"mapbox\",\"type\":\"scattermapbox\"},{\"hovertemplate\":\"city=Heidenheim<br>deaths=%{marker.size}<br>lat=%{lat}<br>lon=%{lon}<extra></extra>\",\"lat\":[48.6894,48.6894],\"legendgroup\":\"Heidenheim\",\"lon\":[10.1611,10.1611],\"marker\":{\"color\":\"#00cc96\",\"size\":[2.0,1.0],\"sizemode\":\"area\",\"sizeref\":0.5475},\"mode\":\"markers\",\"name\":\"Heidenheim\",\"showlegend\":true,\"subplot\":\"mapbox\",\"type\":\"scattermapbox\"},{\"hovertemplate\":\"city=Bad Urach<br>deaths=%{marker.size}<br>lat=%{lat}<br>lon=%{lon}<extra></extra>\",\"lat\":[48.4969,48.4969],\"legendgroup\":\"Bad Urach\",\"lon\":[9.39487,9.39487],\"marker\":{\"color\":\"#ab63fa\",\"size\":[3.0,0.0],\"sizemode\":\"area\",\"sizeref\":0.5475},\"mode\":\"markers\",\"name\":\"Bad Urach\",\"showlegend\":true,\"subplot\":\"mapbox\",\"type\":\"scattermapbox\"},{\"hovertemplate\":\"city=Backnang<br>deaths=%{marker.size}<br>lat=%{lat}<br>lon=%{lon}<extra></extra>\",\"lat\":[48.9471],\"legendgroup\":\"Backnang\",\"lon\":[9.43418],\"marker\":{\"color\":\"#FFA15A\",\"size\":[1.0],\"sizemode\":\"area\",\"sizeref\":0.5475},\"mode\":\"markers\",\"name\":\"Backnang\",\"showlegend\":true,\"subplot\":\"mapbox\",\"type\":\"scattermapbox\"},{\"hovertemplate\":\"city=Gaildorf<br>deaths=%{marker.size}<br>lat=%{lat}<br>lon=%{lon}<extra></extra>\",\"lat\":[48.9999,48.9999,48.9999],\"legendgroup\":\"Gaildorf\",\"lon\":[9.76551,9.76551,9.76551],\"marker\":{\"color\":\"#19d3f3\",\"size\":[4.0,6.0,1.0],\"sizemode\":\"area\",\"sizeref\":0.5475},\"mode\":\"markers\",\"name\":\"Gaildorf\",\"showlegend\":true,\"subplot\":\"mapbox\",\"type\":\"scattermapbox\"},{\"hovertemplate\":\"city=Hornberg<br>deaths=%{marker.size}<br>lat=%{lat}<br>lon=%{lon}<extra></extra>\",\"lat\":[48.2099],\"legendgroup\":\"Hornberg\",\"lon\":[8.23197],\"marker\":{\"color\":\"#FF6692\",\"size\":[1.0],\"sizemode\":\"area\",\"sizeref\":0.5475},\"mode\":\"markers\",\"name\":\"Hornberg\",\"showlegend\":true,\"subplot\":\"mapbox\",\"type\":\"scattermapbox\"},{\"hovertemplate\":\"city=Burkheim<br>deaths=%{marker.size}<br>lat=%{lat}<br>lon=%{lon}<extra></extra>\",\"lat\":[48.1013,48.1013],\"legendgroup\":\"Burkheim\",\"lon\":[7.59347,7.59347],\"marker\":{\"color\":\"#B6E880\",\"size\":[7.0,1.0],\"sizemode\":\"area\",\"sizeref\":0.5475},\"mode\":\"markers\",\"name\":\"Burkheim\",\"showlegend\":true,\"subplot\":\"mapbox\",\"type\":\"scattermapbox\"},{\"hovertemplate\":\"city=Ohringen<br>deaths=%{marker.size}<br>lat=%{lat}<br>lon=%{lon}<extra></extra>\",\"lat\":[49.1999],\"legendgroup\":\"Ohringen\",\"lon\":[9.50295],\"marker\":{\"color\":\"#FF97FF\",\"size\":[2.0],\"sizemode\":\"area\",\"sizeref\":0.5475},\"mode\":\"markers\",\"name\":\"Ohringen\",\"showlegend\":true,\"subplot\":\"mapbox\",\"type\":\"scattermapbox\"},{\"hovertemplate\":\"city=Hufingen<br>deaths=%{marker.size}<br>lat=%{lat}<br>lon=%{lon}<extra></extra>\",\"lat\":[47.9284,47.9284,47.9284],\"legendgroup\":\"Hufingen\",\"lon\":[8.48753,8.48753,8.48753],\"marker\":{\"color\":\"#FECB52\",\"size\":[2.0,10.0,2.0],\"sizemode\":\"area\",\"sizeref\":0.5475},\"mode\":\"markers\",\"name\":\"Hufingen\",\"showlegend\":true,\"subplot\":\"mapbox\",\"type\":\"scattermapbox\"},{\"hovertemplate\":\"city=Schwabisch Gmund<br>deaths=%{marker.size}<br>lat=%{lat}<br>lon=%{lon}<extra></extra>\",\"lat\":[48.7994,48.7994,48.7994,48.7994,48.7994],\"legendgroup\":\"Schwabisch Gmund\",\"lon\":[9.80457,9.80457,9.80457,9.80457,9.80457],\"marker\":{\"color\":\"#636efa\",\"size\":[11.0,27.0,5.0,1.0,4.0],\"sizemode\":\"area\",\"sizeref\":0.5475},\"mode\":\"markers\",\"name\":\"Schwabisch Gmund\",\"showlegend\":true,\"subplot\":\"mapbox\",\"type\":\"scattermapbox\"},{\"hovertemplate\":\"city=Ettenheim<br>deaths=%{marker.size}<br>lat=%{lat}<br>lon=%{lon}<extra></extra>\",\"lat\":[48.2566,48.2566,48.2566,48.2566,48.2566,48.2566,48.2566,48.2566,48.2566],\"legendgroup\":\"Ettenheim\",\"lon\":[7.81381,7.81381,7.81381,7.81381,7.81381,7.81381,7.81381,7.81381,7.81381],\"marker\":{\"color\":\"#EF553B\",\"size\":[3.0,0.0,0.0,13.0,1.0,1.0,0.0,0.0,0.0],\"sizemode\":\"area\",\"sizeref\":0.5475},\"mode\":\"markers\",\"name\":\"Ettenheim\",\"showlegend\":true,\"subplot\":\"mapbox\",\"type\":\"scattermapbox\"},{\"hovertemplate\":\"city=Kraichgau<br>deaths=%{marker.size}<br>lat=%{lat}<br>lon=%{lon}<extra></extra>\",\"lat\":[49.1005],\"legendgroup\":\"Kraichgau\",\"lon\":[8.96897],\"marker\":{\"color\":\"#00cc96\",\"size\":[1.0],\"sizemode\":\"area\",\"sizeref\":0.5475},\"mode\":\"markers\",\"name\":\"Kraichgau\",\"showlegend\":true,\"subplot\":\"mapbox\",\"type\":\"scattermapbox\"},{\"hovertemplate\":\"city=Haslach im Kinzigtal<br>deaths=%{marker.size}<br>lat=%{lat}<br>lon=%{lon}<extra></extra>\",\"lat\":[48.2774,48.2774,48.2774,48.2774],\"legendgroup\":\"Haslach im Kinzigtal\",\"lon\":[8.09,8.09,8.09,8.09],\"marker\":{\"color\":\"#ab63fa\",\"size\":[10.0,6.0,3.0,1.0],\"sizemode\":\"area\",\"sizeref\":0.5475},\"mode\":\"markers\",\"name\":\"Haslach im Kinzigtal\",\"showlegend\":true,\"subplot\":\"mapbox\",\"type\":\"scattermapbox\"},{\"hovertemplate\":\"city=Muhringen<br>deaths=%{marker.size}<br>lat=%{lat}<br>lon=%{lon}<extra></extra>\",\"lat\":[48.4172,48.4172,48.4172],\"legendgroup\":\"Muhringen\",\"lon\":[8.75259,8.75259,8.75259],\"marker\":{\"color\":\"#FFA15A\",\"size\":[6.0,3.0,1.0],\"sizemode\":\"area\",\"sizeref\":0.5475},\"mode\":\"markers\",\"name\":\"Muhringen\",\"showlegend\":true,\"subplot\":\"mapbox\",\"type\":\"scattermapbox\"},{\"hovertemplate\":\"city=Leonberg<br>deaths=%{marker.size}<br>lat=%{lat}<br>lon=%{lon}<extra></extra>\",\"lat\":[48.796],\"legendgroup\":\"Leonberg\",\"lon\":[9.00957],\"marker\":{\"color\":\"#19d3f3\",\"size\":[6.0],\"sizemode\":\"area\",\"sizeref\":0.5475},\"mode\":\"markers\",\"name\":\"Leonberg\",\"showlegend\":true,\"subplot\":\"mapbox\",\"type\":\"scattermapbox\"},{\"hovertemplate\":\"city=Goppingen<br>deaths=%{marker.size}<br>lat=%{lat}<br>lon=%{lon}<extra></extra>\",\"lat\":[48.7054,48.7054],\"legendgroup\":\"Goppingen\",\"lon\":[9.65125,9.65125],\"marker\":{\"color\":\"#FF6692\",\"size\":[1.0,0.0],\"sizemode\":\"area\",\"sizeref\":0.5475},\"mode\":\"markers\",\"name\":\"Goppingen\",\"showlegend\":true,\"subplot\":\"mapbox\",\"type\":\"scattermapbox\"},{\"hovertemplate\":\"city=Bad Wimpfen<br>deaths=%{marker.size}<br>lat=%{lat}<br>lon=%{lon}<extra></extra>\",\"lat\":[49.2285],\"legendgroup\":\"Bad Wimpfen\",\"lon\":[9.15714],\"marker\":{\"color\":\"#B6E880\",\"size\":[2.0],\"sizemode\":\"area\",\"sizeref\":0.5475},\"mode\":\"markers\",\"name\":\"Bad Wimpfen\",\"showlegend\":true,\"subplot\":\"mapbox\",\"type\":\"scattermapbox\"},{\"hovertemplate\":\"city=Neibsheim<br>deaths=%{marker.size}<br>lat=%{lat}<br>lon=%{lon}<extra></extra>\",\"lat\":[49.0681],\"legendgroup\":\"Neibsheim\",\"lon\":[8.68386],\"marker\":{\"color\":\"#FF97FF\",\"size\":[3.0],\"sizemode\":\"area\",\"sizeref\":0.5475},\"mode\":\"markers\",\"name\":\"Neibsheim\",\"showlegend\":true,\"subplot\":\"mapbox\",\"type\":\"scattermapbox\"},{\"hovertemplate\":\"city=Altensteig<br>deaths=%{marker.size}<br>lat=%{lat}<br>lon=%{lon}<extra></extra>\",\"lat\":[48.5884,48.5884],\"legendgroup\":\"Altensteig\",\"lon\":[8.60606,8.60606],\"marker\":{\"color\":\"#FECB52\",\"size\":[0.0,0.0],\"sizemode\":\"area\",\"sizeref\":0.5475},\"mode\":\"markers\",\"name\":\"Altensteig\",\"showlegend\":true,\"subplot\":\"mapbox\",\"type\":\"scattermapbox\"},{\"hovertemplate\":\"city=Oppenau<br>deaths=%{marker.size}<br>lat=%{lat}<br>lon=%{lon}<extra></extra>\",\"lat\":[48.4743,48.4743,48.4743,48.4743],\"legendgroup\":\"Oppenau\",\"lon\":[8.16158,8.16158,8.16158,8.16158],\"marker\":{\"color\":\"#636efa\",\"size\":[0.0,0.0,50.0,0.0],\"sizemode\":\"area\",\"sizeref\":0.5475},\"mode\":\"markers\",\"name\":\"Oppenau\",\"showlegend\":true,\"subplot\":\"mapbox\",\"type\":\"scattermapbox\"},{\"hovertemplate\":\"city=Efringen-Kirchen<br>deaths=%{marker.size}<br>lat=%{lat}<br>lon=%{lon}<extra></extra>\",\"lat\":[47.6532],\"legendgroup\":\"Efringen-Kirchen\",\"lon\":[7.5676],\"marker\":{\"color\":\"#EF553B\",\"size\":[1.0],\"sizemode\":\"area\",\"sizeref\":0.5475},\"mode\":\"markers\",\"name\":\"Efringen-Kirchen\",\"showlegend\":true,\"subplot\":\"mapbox\",\"type\":\"scattermapbox\"},{\"hovertemplate\":\"city=Black Forest<br>deaths=%{marker.size}<br>lat=%{lat}<br>lon=%{lon}<extra></extra>\",\"lat\":[48.3556],\"legendgroup\":\"Black Forest\",\"lon\":[7.82537],\"marker\":{\"color\":\"#00cc96\",\"size\":[2.0],\"sizemode\":\"area\",\"sizeref\":0.5475},\"mode\":\"markers\",\"name\":\"Black Forest\",\"showlegend\":true,\"subplot\":\"mapbox\",\"type\":\"scattermapbox\"},{\"hovertemplate\":\"city=Tettnang<br>deaths=%{marker.size}<br>lat=%{lat}<br>lon=%{lon}<extra></extra>\",\"lat\":[47.6682],\"legendgroup\":\"Tettnang\",\"lon\":[9.5916],\"marker\":{\"color\":\"#ab63fa\",\"size\":[1.0],\"sizemode\":\"area\",\"sizeref\":0.5475},\"mode\":\"markers\",\"name\":\"Tettnang\",\"showlegend\":true,\"subplot\":\"mapbox\",\"type\":\"scattermapbox\"},{\"hovertemplate\":\"city=Alpirsbach<br>deaths=%{marker.size}<br>lat=%{lat}<br>lon=%{lon}<extra></extra>\",\"lat\":[48.3436],\"legendgroup\":\"Alpirsbach\",\"lon\":[8.4017],\"marker\":{\"color\":\"#FFA15A\",\"size\":[0.0],\"sizemode\":\"area\",\"sizeref\":0.5475},\"mode\":\"markers\",\"name\":\"Alpirsbach\",\"showlegend\":true,\"subplot\":\"mapbox\",\"type\":\"scattermapbox\"},{\"hovertemplate\":\"city=Hofweier<br>deaths=%{marker.size}<br>lat=%{lat}<br>lon=%{lon}<extra></extra>\",\"lat\":[48.4241],\"legendgroup\":\"Hofweier\",\"lon\":[7.90955],\"marker\":{\"color\":\"#19d3f3\",\"size\":[6.0],\"sizemode\":\"area\",\"sizeref\":0.5475},\"mode\":\"markers\",\"name\":\"Hofweier\",\"showlegend\":true,\"subplot\":\"mapbox\",\"type\":\"scattermapbox\"},{\"hovertemplate\":\"city=Achern<br>deaths=%{marker.size}<br>lat=%{lat}<br>lon=%{lon}<extra></extra>\",\"lat\":[48.6266],\"legendgroup\":\"Achern\",\"lon\":[8.07492],\"marker\":{\"color\":\"#FF6692\",\"size\":[2.0],\"sizemode\":\"area\",\"sizeref\":0.5475},\"mode\":\"markers\",\"name\":\"Achern\",\"showlegend\":true,\"subplot\":\"mapbox\",\"type\":\"scattermapbox\"},{\"hovertemplate\":\"city=Schutterwald<br>deaths=%{marker.size}<br>lat=%{lat}<br>lon=%{lon}<extra></extra>\",\"lat\":[48.4583],\"legendgroup\":\"Schutterwald\",\"lon\":[7.88423],\"marker\":{\"color\":\"#B6E880\",\"size\":[10.0],\"sizemode\":\"area\",\"sizeref\":0.5475},\"mode\":\"markers\",\"name\":\"Schutterwald\",\"showlegend\":true,\"subplot\":\"mapbox\",\"type\":\"scattermapbox\"},{\"hovertemplate\":\"city=Kloster Wittichen<br>deaths=%{marker.size}<br>lat=%{lat}<br>lon=%{lon}<extra></extra>\",\"lat\":[48.335],\"legendgroup\":\"Kloster Wittichen\",\"lon\":[8.34732],\"marker\":{\"color\":\"#FF97FF\",\"size\":[0.0],\"sizemode\":\"area\",\"sizeref\":0.5475},\"mode\":\"markers\",\"name\":\"Kloster Wittichen\",\"showlegend\":true,\"subplot\":\"mapbox\",\"type\":\"scattermapbox\"},{\"hovertemplate\":\"city=Durmentingen<br>deaths=%{marker.size}<br>lat=%{lat}<br>lon=%{lon}<extra></extra>\",\"lat\":[48.1135],\"legendgroup\":\"Durmentingen\",\"lon\":[9.53633],\"marker\":{\"color\":\"#FECB52\",\"size\":[1.0],\"sizemode\":\"area\",\"sizeref\":0.5475},\"mode\":\"markers\",\"name\":\"Durmentingen\",\"showlegend\":true,\"subplot\":\"mapbox\",\"type\":\"scattermapbox\"},{\"hovertemplate\":\"city=Mengen<br>deaths=%{marker.size}<br>lat=%{lat}<br>lon=%{lon}<extra></extra>\",\"lat\":[48.0497],\"legendgroup\":\"Mengen\",\"lon\":[9.33624],\"marker\":{\"color\":\"#636efa\",\"size\":[2.0],\"sizemode\":\"area\",\"sizeref\":0.5475},\"mode\":\"markers\",\"name\":\"Mengen\",\"showlegend\":true,\"subplot\":\"mapbox\",\"type\":\"scattermapbox\"},{\"hovertemplate\":\"city=Sasbach<br>deaths=%{marker.size}<br>lat=%{lat}<br>lon=%{lon}<extra></extra>\",\"lat\":[48.1403],\"legendgroup\":\"Sasbach\",\"lon\":[7.61733],\"marker\":{\"color\":\"#EF553B\",\"size\":[63.0],\"sizemode\":\"area\",\"sizeref\":0.5475},\"mode\":\"markers\",\"name\":\"Sasbach\",\"showlegend\":true,\"subplot\":\"mapbox\",\"type\":\"scattermapbox\"},{\"hovertemplate\":\"city=Lahr<br>deaths=%{marker.size}<br>lat=%{lat}<br>lon=%{lon}<extra></extra>\",\"lat\":[48.3333,48.3333],\"legendgroup\":\"Lahr\",\"lon\":[7.86667,7.86667],\"marker\":{\"color\":\"#00cc96\",\"size\":[1.0,2.0],\"sizemode\":\"area\",\"sizeref\":0.5475},\"mode\":\"markers\",\"name\":\"Lahr\",\"showlegend\":true,\"subplot\":\"mapbox\",\"type\":\"scattermapbox\"},{\"hovertemplate\":\"city=Herbertingen<br>deaths=%{marker.size}<br>lat=%{lat}<br>lon=%{lon}<extra></extra>\",\"lat\":[48.0614],\"legendgroup\":\"Herbertingen\",\"lon\":[9.42967],\"marker\":{\"color\":\"#ab63fa\",\"size\":[8.0],\"sizemode\":\"area\",\"sizeref\":0.5475},\"mode\":\"markers\",\"name\":\"Herbertingen\",\"showlegend\":true,\"subplot\":\"mapbox\",\"type\":\"scattermapbox\"},{\"hovertemplate\":\"city=Neuried<br>deaths=%{marker.size}<br>lat=%{lat}<br>lon=%{lon}<extra></extra>\",\"lat\":[48.4489],\"legendgroup\":\"Neuried\",\"lon\":[7.80236],\"marker\":{\"color\":\"#FFA15A\",\"size\":[1.0],\"sizemode\":\"area\",\"sizeref\":0.5475},\"mode\":\"markers\",\"name\":\"Neuried\",\"showlegend\":true,\"subplot\":\"mapbox\",\"type\":\"scattermapbox\"},{\"hovertemplate\":\"city=Donaueschingen<br>deaths=%{marker.size}<br>lat=%{lat}<br>lon=%{lon}<extra></extra>\",\"lat\":[47.9522],\"legendgroup\":\"Donaueschingen\",\"lon\":[8.49795],\"marker\":{\"color\":\"#19d3f3\",\"size\":[7.0],\"sizemode\":\"area\",\"sizeref\":0.5475},\"mode\":\"markers\",\"name\":\"Donaueschingen\",\"showlegend\":true,\"subplot\":\"mapbox\",\"type\":\"scattermapbox\"},{\"hovertemplate\":\"city=Braunlingen<br>deaths=%{marker.size}<br>lat=%{lat}<br>lon=%{lon}<extra></extra>\",\"lat\":[47.9294,47.9294],\"legendgroup\":\"Braunlingen\",\"lon\":[8.44544,8.44544],\"marker\":{\"color\":\"#FF6692\",\"size\":[2.0,5.0],\"sizemode\":\"area\",\"sizeref\":0.5475},\"mode\":\"markers\",\"name\":\"Braunlingen\",\"showlegend\":true,\"subplot\":\"mapbox\",\"type\":\"scattermapbox\"},{\"hovertemplate\":\"city=Karlsruhe<br>deaths=%{marker.size}<br>lat=%{lat}<br>lon=%{lon}<extra></extra>\",\"lat\":[49.0069],\"legendgroup\":\"Karlsruhe\",\"lon\":[8.40365],\"marker\":{\"color\":\"#B6E880\",\"size\":[0.0],\"sizemode\":\"area\",\"sizeref\":0.5475},\"mode\":\"markers\",\"name\":\"Karlsruhe\",\"showlegend\":true,\"subplot\":\"mapbox\",\"type\":\"scattermapbox\"},{\"hovertemplate\":\"city=Schramberg<br>deaths=%{marker.size}<br>lat=%{lat}<br>lon=%{lon}<extra></extra>\",\"lat\":[48.2281],\"legendgroup\":\"Schramberg\",\"lon\":[8.38447],\"marker\":{\"color\":\"#FF97FF\",\"size\":[2.0],\"sizemode\":\"area\",\"sizeref\":0.5475},\"mode\":\"markers\",\"name\":\"Schramberg\",\"showlegend\":true,\"subplot\":\"mapbox\",\"type\":\"scattermapbox\"},{\"hovertemplate\":\"city=Dorzbach<br>deaths=%{marker.size}<br>lat=%{lat}<br>lon=%{lon}<extra></extra>\",\"lat\":[49.384],\"legendgroup\":\"Dorzbach\",\"lon\":[9.70592],\"marker\":{\"color\":\"#FECB52\",\"size\":[2.0],\"sizemode\":\"area\",\"sizeref\":0.5475},\"mode\":\"markers\",\"name\":\"Dorzbach\",\"showlegend\":true,\"subplot\":\"mapbox\",\"type\":\"scattermapbox\"},{\"hovertemplate\":\"city=Neuenstadt am Kocher<br>deaths=%{marker.size}<br>lat=%{lat}<br>lon=%{lon}<extra></extra>\",\"lat\":[49.2348],\"legendgroup\":\"Neuenstadt am Kocher\",\"lon\":[9.33581],\"marker\":{\"color\":\"#636efa\",\"size\":[4.0],\"sizemode\":\"area\",\"sizeref\":0.5475},\"mode\":\"markers\",\"name\":\"Neuenstadt am Kocher\",\"showlegend\":true,\"subplot\":\"mapbox\",\"type\":\"scattermapbox\"},{\"hovertemplate\":\"city=Gammertingen<br>deaths=%{marker.size}<br>lat=%{lat}<br>lon=%{lon}<extra></extra>\",\"lat\":[48.2471],\"legendgroup\":\"Gammertingen\",\"lon\":[9.21526],\"marker\":{\"color\":\"#EF553B\",\"size\":[1.0],\"sizemode\":\"area\",\"sizeref\":0.5475},\"mode\":\"markers\",\"name\":\"Gammertingen\",\"showlegend\":true,\"subplot\":\"mapbox\",\"type\":\"scattermapbox\"},{\"hovertemplate\":\"city=Owen<br>deaths=%{marker.size}<br>lat=%{lat}<br>lon=%{lon}<extra></extra>\",\"lat\":[48.5879,48.5879],\"legendgroup\":\"Owen\",\"lon\":[9.45012,9.45012],\"marker\":{\"color\":\"#00cc96\",\"size\":[0.0,0.0],\"sizemode\":\"area\",\"sizeref\":0.5475},\"mode\":\"markers\",\"name\":\"Owen\",\"showlegend\":true,\"subplot\":\"mapbox\",\"type\":\"scattermapbox\"},{\"hovertemplate\":\"city=Bad Liebenzell<br>deaths=%{marker.size}<br>lat=%{lat}<br>lon=%{lon}<extra></extra>\",\"lat\":[48.7747],\"legendgroup\":\"Bad Liebenzell\",\"lon\":[8.72998],\"marker\":{\"color\":\"#ab63fa\",\"size\":[1.0],\"sizemode\":\"area\",\"sizeref\":0.5475},\"mode\":\"markers\",\"name\":\"Bad Liebenzell\",\"showlegend\":true,\"subplot\":\"mapbox\",\"type\":\"scattermapbox\"},{\"hovertemplate\":\"city=Fellbach<br>deaths=%{marker.size}<br>lat=%{lat}<br>lon=%{lon}<extra></extra>\",\"lat\":[48.8216,48.8216],\"legendgroup\":\"Fellbach\",\"lon\":[9.27029,9.27029],\"marker\":{\"color\":\"#FFA15A\",\"size\":[1.0,1.0],\"sizemode\":\"area\",\"sizeref\":0.5475},\"mode\":\"markers\",\"name\":\"Fellbach\",\"showlegend\":true,\"subplot\":\"mapbox\",\"type\":\"scattermapbox\"},{\"hovertemplate\":\"city=Waiblingen<br>deaths=%{marker.size}<br>lat=%{lat}<br>lon=%{lon}<extra></extra>\",\"lat\":[48.8294],\"legendgroup\":\"Waiblingen\",\"lon\":[9.31857],\"marker\":{\"color\":\"#19d3f3\",\"size\":[0.0],\"sizemode\":\"area\",\"sizeref\":0.5475},\"mode\":\"markers\",\"name\":\"Waiblingen\",\"showlegend\":true,\"subplot\":\"mapbox\",\"type\":\"scattermapbox\"},{\"hovertemplate\":\"city=Nurtingen<br>deaths=%{marker.size}<br>lat=%{lat}<br>lon=%{lon}<extra></extra>\",\"lat\":[48.6244],\"legendgroup\":\"Nurtingen\",\"lon\":[9.34691],\"marker\":{\"color\":\"#FF6692\",\"size\":[1.0],\"sizemode\":\"area\",\"sizeref\":0.5475},\"mode\":\"markers\",\"name\":\"Nurtingen\",\"showlegend\":true,\"subplot\":\"mapbox\",\"type\":\"scattermapbox\"},{\"hovertemplate\":\"city=Guggenhausen<br>deaths=%{marker.size}<br>lat=%{lat}<br>lon=%{lon}<extra></extra>\",\"lat\":[47.8936,47.8936],\"legendgroup\":\"Guggenhausen\",\"lon\":[9.45558,9.45558],\"marker\":{\"color\":\"#B6E880\",\"size\":[2.0,1.0],\"sizemode\":\"area\",\"sizeref\":0.5475},\"mode\":\"markers\",\"name\":\"Guggenhausen\",\"showlegend\":true,\"subplot\":\"mapbox\",\"type\":\"scattermapbox\"},{\"hovertemplate\":\"city=Altshausen<br>deaths=%{marker.size}<br>lat=%{lat}<br>lon=%{lon}<extra></extra>\",\"lat\":[47.9328],\"legendgroup\":\"Altshausen\",\"lon\":[9.54131],\"marker\":{\"color\":\"#FF97FF\",\"size\":[1.0],\"sizemode\":\"area\",\"sizeref\":0.5475},\"mode\":\"markers\",\"name\":\"Altshausen\",\"showlegend\":true,\"subplot\":\"mapbox\",\"type\":\"scattermapbox\"},{\"hovertemplate\":\"city=Nimburg<br>deaths=%{marker.size}<br>lat=%{lat}<br>lon=%{lon}<extra></extra>\",\"lat\":[48.1062],\"legendgroup\":\"Nimburg\",\"lon\":[7.7806],\"marker\":{\"color\":\"#FECB52\",\"size\":[1.0],\"sizemode\":\"area\",\"sizeref\":0.5475},\"mode\":\"markers\",\"name\":\"Nimburg\",\"showlegend\":true,\"subplot\":\"mapbox\",\"type\":\"scattermapbox\"},{\"hovertemplate\":\"city=Lenzkirch<br>deaths=%{marker.size}<br>lat=%{lat}<br>lon=%{lon}<extra></extra>\",\"lat\":[47.8692],\"legendgroup\":\"Lenzkirch\",\"lon\":[8.20426],\"marker\":{\"color\":\"#636efa\",\"size\":[0.0],\"sizemode\":\"area\",\"sizeref\":0.5475},\"mode\":\"markers\",\"name\":\"Lenzkirch\",\"showlegend\":true,\"subplot\":\"mapbox\",\"type\":\"scattermapbox\"},{\"hovertemplate\":\"city=Hosskirch<br>deaths=%{marker.size}<br>lat=%{lat}<br>lon=%{lon}<extra></extra>\",\"lat\":[47.9413],\"legendgroup\":\"Hosskirch\",\"lon\":[9.4435],\"marker\":{\"color\":\"#EF553B\",\"size\":[1.0],\"sizemode\":\"area\",\"sizeref\":0.5475},\"mode\":\"markers\",\"name\":\"Hosskirch\",\"showlegend\":true,\"subplot\":\"mapbox\",\"type\":\"scattermapbox\"},{\"hovertemplate\":\"city=Weingarten<br>deaths=%{marker.size}<br>lat=%{lat}<br>lon=%{lon}<extra></extra>\",\"lat\":[47.8096],\"legendgroup\":\"Weingarten\",\"lon\":[9.63798],\"marker\":{\"color\":\"#00cc96\",\"size\":[1.0],\"sizemode\":\"area\",\"sizeref\":0.5475},\"mode\":\"markers\",\"name\":\"Weingarten\",\"showlegend\":true,\"subplot\":\"mapbox\",\"type\":\"scattermapbox\"},{\"hovertemplate\":\"city=Konigseggwald<br>deaths=%{marker.size}<br>lat=%{lat}<br>lon=%{lon}<extra></extra>\",\"lat\":[47.9291],\"legendgroup\":\"Konigseggwald\",\"lon\":[9.4223],\"marker\":{\"color\":\"#ab63fa\",\"size\":[1.0],\"sizemode\":\"area\",\"sizeref\":0.5475},\"mode\":\"markers\",\"name\":\"Konigseggwald\",\"showlegend\":true,\"subplot\":\"mapbox\",\"type\":\"scattermapbox\"},{\"hovertemplate\":\"city=Bietigheim<br>deaths=%{marker.size}<br>lat=%{lat}<br>lon=%{lon}<extra></extra>\",\"lat\":[48.9099],\"legendgroup\":\"Bietigheim\",\"lon\":[8.24995],\"marker\":{\"color\":\"#FFA15A\",\"size\":[0.0],\"sizemode\":\"area\",\"sizeref\":0.5475},\"mode\":\"markers\",\"name\":\"Bietigheim\",\"showlegend\":true,\"subplot\":\"mapbox\",\"type\":\"scattermapbox\"},{\"hovertemplate\":\"city=Hochberg<br>deaths=%{marker.size}<br>lat=%{lat}<br>lon=%{lon}<extra></extra>\",\"lat\":[49.7822],\"legendgroup\":\"Hochberg\",\"lon\":[9.88089],\"marker\":{\"color\":\"#19d3f3\",\"size\":[1.0],\"sizemode\":\"area\",\"sizeref\":0.5475},\"mode\":\"markers\",\"name\":\"Hochberg\",\"showlegend\":true,\"subplot\":\"mapbox\",\"type\":\"scattermapbox\"},{\"hovertemplate\":\"city=Grossheirath<br>deaths=%{marker.size}<br>lat=%{lat}<br>lon=%{lon}<extra></extra>\",\"lat\":[50.176],\"legendgroup\":\"Grossheirath\",\"lon\":[10.951],\"marker\":{\"color\":\"#FF6692\",\"size\":[4.0],\"sizemode\":\"area\",\"sizeref\":0.5475},\"mode\":\"markers\",\"name\":\"Grossheirath\",\"showlegend\":true,\"subplot\":\"mapbox\",\"type\":\"scattermapbox\"},{\"hovertemplate\":\"city=Lindenberg<br>deaths=%{marker.size}<br>lat=%{lat}<br>lon=%{lon}<extra></extra>\",\"lat\":[47.6034],\"legendgroup\":\"Lindenberg\",\"lon\":[9.88792],\"marker\":{\"color\":\"#B6E880\",\"size\":[40.0],\"sizemode\":\"area\",\"sizeref\":0.5475},\"mode\":\"markers\",\"name\":\"Lindenberg\",\"showlegend\":true,\"subplot\":\"mapbox\",\"type\":\"scattermapbox\"},{\"hovertemplate\":\"city=Oettingen in Bayern<br>deaths=%{marker.size}<br>lat=%{lat}<br>lon=%{lon}<extra></extra>\",\"lat\":[48.9518],\"legendgroup\":\"Oettingen in Bayern\",\"lon\":[10.6021],\"marker\":{\"color\":\"#FF97FF\",\"size\":[22.0],\"sizemode\":\"area\",\"sizeref\":0.5475},\"mode\":\"markers\",\"name\":\"Oettingen in Bayern\",\"showlegend\":true,\"subplot\":\"mapbox\",\"type\":\"scattermapbox\"},{\"hovertemplate\":\"city=Wollbach<br>deaths=%{marker.size}<br>lat=%{lat}<br>lon=%{lon}<extra></extra>\",\"lat\":[50.365],\"legendgroup\":\"Wollbach\",\"lon\":[10.2236],\"marker\":{\"color\":\"#FECB52\",\"size\":[1.0],\"sizemode\":\"area\",\"sizeref\":0.5475},\"mode\":\"markers\",\"name\":\"Wollbach\",\"showlegend\":true,\"subplot\":\"mapbox\",\"type\":\"scattermapbox\"},{\"hovertemplate\":\"city=Lohr<br>deaths=%{marker.size}<br>lat=%{lat}<br>lon=%{lon}<extra></extra>\",\"lat\":[49.9892],\"legendgroup\":\"Lohr\",\"lon\":[9.57223],\"marker\":{\"color\":\"#636efa\",\"size\":[15.0],\"sizemode\":\"area\",\"sizeref\":0.5475},\"mode\":\"markers\",\"name\":\"Lohr\",\"showlegend\":true,\"subplot\":\"mapbox\",\"type\":\"scattermapbox\"},{\"hovertemplate\":\"city=Mainleus<br>deaths=%{marker.size}<br>lat=%{lat}<br>lon=%{lon}<extra></extra>\",\"lat\":[50.1014,50.1014,50.1014],\"legendgroup\":\"Mainleus\",\"lon\":[11.3807,11.3807,11.3807],\"marker\":{\"color\":\"#EF553B\",\"size\":[1.0,2.0,2.0],\"sizemode\":\"area\",\"sizeref\":0.5475},\"mode\":\"markers\",\"name\":\"Mainleus\",\"showlegend\":true,\"subplot\":\"mapbox\",\"type\":\"scattermapbox\"},{\"hovertemplate\":\"city=Wurzburg<br>deaths=%{marker.size}<br>lat=%{lat}<br>lon=%{lon}<extra></extra>\",\"lat\":[49.7913],\"legendgroup\":\"Wurzburg\",\"lon\":[9.95335],\"marker\":{\"color\":\"#00cc96\",\"size\":[219.0],\"sizemode\":\"area\",\"sizeref\":0.5475},\"mode\":\"markers\",\"name\":\"Wurzburg\",\"showlegend\":true,\"subplot\":\"mapbox\",\"type\":\"scattermapbox\"},{\"hovertemplate\":\"city=Erlach<br>deaths=%{marker.size}<br>lat=%{lat}<br>lon=%{lon}<extra></extra>\",\"lat\":[47.0435],\"legendgroup\":\"Erlach\",\"lon\":[7.09682],\"marker\":{\"color\":\"#ab63fa\",\"size\":[2.0],\"sizemode\":\"area\",\"sizeref\":0.5475},\"mode\":\"markers\",\"name\":\"Erlach\",\"showlegend\":true,\"subplot\":\"mapbox\",\"type\":\"scattermapbox\"},{\"hovertemplate\":\"city=Limburg<br>deaths=%{marker.size}<br>lat=%{lat}<br>lon=%{lon}<extra></extra>\",\"lat\":[50.3986],\"legendgroup\":\"Limburg\",\"lon\":[8.07958],\"marker\":{\"color\":\"#FFA15A\",\"size\":[1.0],\"sizemode\":\"area\",\"sizeref\":0.5475},\"mode\":\"markers\",\"name\":\"Limburg\",\"showlegend\":true,\"subplot\":\"mapbox\",\"type\":\"scattermapbox\"},{\"hovertemplate\":\"city=Cappel<br>deaths=%{marker.size}<br>lat=%{lat}<br>lon=%{lon}<extra></extra>\",\"lat\":[49.0751],\"legendgroup\":\"Cappel\",\"lon\":[6.8585],\"marker\":{\"color\":\"#19d3f3\",\"size\":[20.0],\"sizemode\":\"area\",\"sizeref\":0.5475},\"mode\":\"markers\",\"name\":\"Cappel\",\"showlegend\":true,\"subplot\":\"mapbox\",\"type\":\"scattermapbox\"},{\"hovertemplate\":\"city=Fussach<br>deaths=%{marker.size}<br>lat=%{lat}<br>lon=%{lon}<extra></extra>\",\"lat\":[47.4743],\"legendgroup\":\"Fussach\",\"lon\":[9.65997],\"marker\":{\"color\":\"#FF6692\",\"size\":[11.0],\"sizemode\":\"area\",\"sizeref\":0.5475},\"mode\":\"markers\",\"name\":\"Fussach\",\"showlegend\":true,\"subplot\":\"mapbox\",\"type\":\"scattermapbox\"},{\"hovertemplate\":\"city=Stofel<br>deaths=%{marker.size}<br>lat=%{lat}<br>lon=%{lon}<extra></extra>\",\"lat\":[47.4164],\"legendgroup\":\"Stofel\",\"lon\":[8.54885],\"marker\":{\"color\":\"#B6E880\",\"size\":[1.0],\"sizemode\":\"area\",\"sizeref\":0.5475},\"mode\":\"markers\",\"name\":\"Stofel\",\"showlegend\":true,\"subplot\":\"mapbox\",\"type\":\"scattermapbox\"},{\"hovertemplate\":\"city=Baume-les-Dames<br>deaths=%{marker.size}<br>lat=%{lat}<br>lon=%{lon}<extra></extra>\",\"lat\":[47.3527,47.3527,47.3527,47.3527,47.3527,47.3527,47.3527,47.3527,47.3527,47.3527,47.3527,47.3527,47.3527,47.3527,47.3527,47.3527,47.3527,47.3527],\"legendgroup\":\"Baume-les-Dames\",\"lon\":[6.36176,6.36176,6.36176,6.36176,6.36176,6.36176,6.36176,6.36176,6.36176,6.36176,6.36176,6.36176,6.36176,6.36176,6.36176,6.36176,6.36176,6.36176],\"marker\":{\"color\":\"#FF97FF\",\"size\":[0.0,0.0,0.0,0.0,0.0,1.0,0.0,1.0,0.0,1.0,1.0,0.0,0.0,0.0,1.0,0.0,0.0,0.0],\"sizemode\":\"area\",\"sizeref\":0.5475},\"mode\":\"markers\",\"name\":\"Baume-les-Dames\",\"showlegend\":true,\"subplot\":\"mapbox\",\"type\":\"scattermapbox\"},{\"hovertemplate\":\"city=Saint-Claude<br>deaths=%{marker.size}<br>lat=%{lat}<br>lon=%{lon}<extra></extra>\",\"lat\":[46.3874,46.3874,46.3874,46.3874,46.3874,46.3874],\"legendgroup\":\"Saint-Claude\",\"lon\":[5.86777,5.86777,5.86777,5.86777,5.86777,5.86777],\"marker\":{\"color\":\"#FECB52\",\"size\":[0.0,1.0,0.0,0.0,0.0,0.0],\"sizemode\":\"area\",\"sizeref\":0.5475},\"mode\":\"markers\",\"name\":\"Saint-Claude\",\"showlegend\":true,\"subplot\":\"mapbox\",\"type\":\"scattermapbox\"},{\"hovertemplate\":\"city=Arbois<br>deaths=%{marker.size}<br>lat=%{lat}<br>lon=%{lon}<extra></extra>\",\"lat\":[46.9029,46.9029,46.9029],\"legendgroup\":\"Arbois\",\"lon\":[5.77234,5.77234,5.77234],\"marker\":{\"color\":\"#636efa\",\"size\":[0.0,0.0,0.0],\"sizemode\":\"area\",\"sizeref\":0.5475},\"mode\":\"markers\",\"name\":\"Arbois\",\"showlegend\":true,\"subplot\":\"mapbox\",\"type\":\"scattermapbox\"},{\"hovertemplate\":\"city=Gray<br>deaths=%{marker.size}<br>lat=%{lat}<br>lon=%{lon}<extra></extra>\",\"lat\":[47.4458,47.4458,47.4458,47.4458,47.4458,47.4458,47.4458,47.4458,47.4458,47.4458,47.4458,47.4458,47.4458],\"legendgroup\":\"Gray\",\"lon\":[5.59235,5.59235,5.59235,5.59235,5.59235,5.59235,5.59235,5.59235,5.59235,5.59235,5.59235,5.59235,5.59235],\"marker\":{\"color\":\"#EF553B\",\"size\":[0.0,1.0,0.0,0.0,1.0,0.0,0.0,0.0,0.0,1.0,0.0,0.0,0.0],\"sizemode\":\"area\",\"sizeref\":0.5475},\"mode\":\"markers\",\"name\":\"Gray\",\"showlegend\":true,\"subplot\":\"mapbox\",\"type\":\"scattermapbox\"},{\"hovertemplate\":\"city=Orgelet<br>deaths=%{marker.size}<br>lat=%{lat}<br>lon=%{lon}<extra></extra>\",\"lat\":[46.5225,46.5225,46.5225,46.5225,46.5225,46.5225,46.5225,46.5225,46.5225,46.5225,46.5225,46.5225,46.5225,46.5225,46.5225,46.5225,46.5225,46.5225],\"legendgroup\":\"Orgelet\",\"lon\":[5.61297,5.61297,5.61297,5.61297,5.61297,5.61297,5.61297,5.61297,5.61297,5.61297,5.61297,5.61297,5.61297,5.61297,5.61297,5.61297,5.61297,5.61297],\"marker\":{\"color\":\"#00cc96\",\"size\":[1.0,1.0,0.0,1.0,0.0,0.0,0.0,0.0,0.0,1.0,0.0,0.0,0.0,0.0,1.0,1.0,1.0,0.0],\"sizemode\":\"area\",\"sizeref\":0.5475},\"mode\":\"markers\",\"name\":\"Orgelet\",\"showlegend\":true,\"subplot\":\"mapbox\",\"type\":\"scattermapbox\"},{\"hovertemplate\":\"city=Poligny<br>deaths=%{marker.size}<br>lat=%{lat}<br>lon=%{lon}<extra></extra>\",\"lat\":[46.8364,46.8364,46.8364],\"legendgroup\":\"Poligny\",\"lon\":[5.7091,5.7091,5.7091],\"marker\":{\"color\":\"#ab63fa\",\"size\":[1.0,0.0,0.0],\"sizemode\":\"area\",\"sizeref\":0.5475},\"mode\":\"markers\",\"name\":\"Poligny\",\"showlegend\":true,\"subplot\":\"mapbox\",\"type\":\"scattermapbox\"},{\"hovertemplate\":\"city=Lons-le-Saunier<br>deaths=%{marker.size}<br>lat=%{lat}<br>lon=%{lon}<extra></extra>\",\"lat\":[46.6714,46.6714,46.6714],\"legendgroup\":\"Lons-le-Saunier\",\"lon\":[5.5508,5.5508,5.5508],\"marker\":{\"color\":\"#FFA15A\",\"size\":[0.0,1.0,1.0],\"sizemode\":\"area\",\"sizeref\":0.5475},\"mode\":\"markers\",\"name\":\"Lons-le-Saunier\",\"showlegend\":true,\"subplot\":\"mapbox\",\"type\":\"scattermapbox\"},{\"hovertemplate\":\"city=Salins-les-Bains<br>deaths=%{marker.size}<br>lat=%{lat}<br>lon=%{lon}<extra></extra>\",\"lat\":[46.9397,46.9397,46.9397,46.9397,46.9397,46.9397,46.9397,46.9397,46.9397],\"legendgroup\":\"Salins-les-Bains\",\"lon\":[5.8758,5.8758,5.8758,5.8758,5.8758,5.8758,5.8758,5.8758,5.8758],\"marker\":{\"color\":\"#19d3f3\",\"size\":[1.0,1.0,0.0,0.0,1.0,1.0,1.0,0.0,0.0],\"sizemode\":\"area\",\"sizeref\":0.5475},\"mode\":\"markers\",\"name\":\"Salins-les-Bains\",\"showlegend\":true,\"subplot\":\"mapbox\",\"type\":\"scattermapbox\"},{\"hovertemplate\":\"city=Ornans<br>deaths=%{marker.size}<br>lat=%{lat}<br>lon=%{lon}<extra></extra>\",\"lat\":[47.106,47.106,47.106,47.106,47.106,47.106,47.106,47.106],\"legendgroup\":\"Ornans\",\"lon\":[6.14701,6.14701,6.14701,6.14701,6.14701,6.14701,6.14701,6.14701],\"marker\":{\"color\":\"#FF6692\",\"size\":[1.0,0.0,1.0,0.0,0.0,1.0,0.0,0.0],\"sizemode\":\"area\",\"sizeref\":0.5475},\"mode\":\"markers\",\"name\":\"Ornans\",\"showlegend\":true,\"subplot\":\"mapbox\",\"type\":\"scattermapbox\"},{\"hovertemplate\":\"city=Quingey<br>deaths=%{marker.size}<br>lat=%{lat}<br>lon=%{lon}<extra></extra>\",\"lat\":[47.1031,47.1031,47.1031,47.1031,47.1031,47.1031,47.1031,47.1031,47.1031,47.1031],\"legendgroup\":\"Quingey\",\"lon\":[5.88324,5.88324,5.88324,5.88324,5.88324,5.88324,5.88324,5.88324,5.88324,5.88324],\"marker\":{\"color\":\"#B6E880\",\"size\":[0.0,0.0,0.0,1.0,1.0,1.0,1.0,0.0,0.0,0.0],\"sizemode\":\"area\",\"sizeref\":0.5475},\"mode\":\"markers\",\"name\":\"Quingey\",\"showlegend\":true,\"subplot\":\"mapbox\",\"type\":\"scattermapbox\"},{\"hovertemplate\":\"city=Geneva<br>deaths=%{marker.size}<br>lat=%{lat}<br>lon=%{lon}<extra></extra>\",\"lat\":[46.1984,46.1984,46.1984,46.1984,46.1984,46.1984,46.1984,46.1984,46.1984,46.1984,46.1984,46.1984,46.1984,46.1984,46.1984,46.1984,46.1984,46.1984,46.1984,46.1984,46.1984,46.1984,46.1984,46.1984,46.1984,46.1984,46.1984,46.1984,46.1984,46.1984,46.1984,46.1984,46.1984,46.1984,46.1984,46.1984,46.1984,46.1984,46.1984,46.1984,46.1984,46.1984,46.1984,46.1984,46.1984,46.1984,46.1984,46.1984,46.1984,46.1984,46.1984,46.1984,46.1984,46.1984,46.1984,46.1984,46.1984,46.1984,46.1984,46.1984,46.1984,46.1984,46.1984,46.1984,46.1984,46.1984,46.1984,46.1984,46.1984,46.1984,46.1984,46.1984,46.1984,46.1984,46.1984,46.1984,46.1984,46.1984,46.1984,46.1984,46.1984,46.1984,46.1984,46.1984,46.1984,46.1984,46.1984,46.1984,46.1984,46.1984,46.1984,46.1984,46.1984,46.1984,46.1984,46.1984,46.1984,46.1984,46.1984,46.1984,46.1984,46.1984,46.1984,46.1984,46.1984,46.1984,46.1984,46.1984,46.1984,46.1984,46.1984,46.1984,46.1984,46.1984,46.1984,46.1984,46.1984,46.1984,46.1984,46.1984,46.1984,46.1984,46.1984,46.1984,46.1984,46.1984,46.1984,46.1984,46.1984,46.1984,46.1984,46.1984,46.1984,46.1984,46.1984,46.1984,46.1984,46.1984,46.1984,46.1984,46.1984,46.1984,46.1984,46.1984,46.1984,46.1984,46.1984,46.1984,46.1984,46.1984,46.1984,46.1984,46.1984,46.1984,46.1984,46.1984,46.1984,46.1984,46.1984,46.1984,46.1984,46.1984,46.1984,46.1984,46.1984,46.1984,46.1984,46.1984,46.1984,46.1984,46.1984,46.1984,46.1984,46.1984,46.1984,46.1984,46.1984,46.1984,46.1984,46.1984,46.1984,46.1984,46.1984,46.1984,46.1984,46.1984,46.1984,46.1984,46.1984,46.1984,46.1984,46.1984,46.1984,46.1984,46.1984,46.1984,46.1984,46.1984,46.1984,46.1984,46.1984,46.1984,46.1984,46.1984,46.1984,46.1984,46.1984,46.1984,46.1984,46.1984,46.1984,46.1984,46.1984,46.1984,46.1984,46.1984,46.1984,46.1984,46.1984,46.1984,46.1984,46.1984,46.1984,46.1984,46.1984,46.1984,46.1984,46.1984,46.1984,46.1984,46.1984,46.1984,46.1984,46.1984,46.1984,46.1984,46.1984,46.1984,46.1984,46.1984,46.1984,46.1984,46.1984,46.1984,46.1984,46.1984,46.1984,46.1984,46.1984,46.1984,46.1984,46.1984,46.1984,46.1984,46.1984,46.1984,46.1984,46.1984,46.1984,46.1984,46.1984,46.1984,46.1984,46.1984,46.1984,46.1984,46.1984,46.1984,46.1984,46.1984,46.1984,46.1984,46.1984,46.1984,46.1984,46.1984,46.1984,46.1984,46.1984,46.1984,46.1984,46.1984,46.1984,46.1984,46.1984,46.1984,46.1984,46.1984,46.1984,46.1984,46.1984,46.1984,46.1984,46.1984,46.1984,46.1984,46.1984,46.1984,46.1984,46.1984,46.1984,46.1984,46.1984,46.1984,46.1984,46.1984,46.1984,46.1984,46.1984,46.1984,46.1984,46.1984,46.1984,46.1984,46.1984,46.1984,46.1984,46.1984,46.1984],\"legendgroup\":\"Geneva\",\"lon\":[6.1423,6.1423,6.1423,6.1423,6.1423,6.1423,6.1423,6.1423,6.1423,6.1423,6.1423,6.1423,6.1423,6.1423,6.1423,6.1423,6.1423,6.1423,6.1423,6.1423,6.1423,6.1423,6.1423,6.1423,6.1423,6.1423,6.1423,6.1423,6.1423,6.1423,6.1423,6.1423,6.1423,6.1423,6.1423,6.1423,6.1423,6.1423,6.1423,6.1423,6.1423,6.1423,6.1423,6.1423,6.1423,6.1423,6.1423,6.1423,6.1423,6.1423,6.1423,6.1423,6.1423,6.1423,6.1423,6.1423,6.1423,6.1423,6.1423,6.1423,6.1423,6.1423,6.1423,6.1423,6.1423,6.1423,6.1423,6.1423,6.1423,6.1423,6.1423,6.1423,6.1423,6.1423,6.1423,6.1423,6.1423,6.1423,6.1423,6.1423,6.1423,6.1423,6.1423,6.1423,6.1423,6.1423,6.1423,6.1423,6.1423,6.1423,6.1423,6.1423,6.1423,6.1423,6.1423,6.1423,6.1423,6.1423,6.1423,6.1423,6.1423,6.1423,6.1423,6.1423,6.1423,6.1423,6.1423,6.1423,6.1423,6.1423,6.1423,6.1423,6.1423,6.1423,6.1423,6.1423,6.1423,6.1423,6.1423,6.1423,6.1423,6.1423,6.1423,6.1423,6.1423,6.1423,6.1423,6.1423,6.1423,6.1423,6.1423,6.1423,6.1423,6.1423,6.1423,6.1423,6.1423,6.1423,6.1423,6.1423,6.1423,6.1423,6.1423,6.1423,6.1423,6.1423,6.1423,6.1423,6.1423,6.1423,6.1423,6.1423,6.1423,6.1423,6.1423,6.1423,6.1423,6.1423,6.1423,6.1423,6.1423,6.1423,6.1423,6.1423,6.1423,6.1423,6.1423,6.1423,6.1423,6.1423,6.1423,6.1423,6.1423,6.1423,6.1423,6.1423,6.1423,6.1423,6.1423,6.1423,6.1423,6.1423,6.1423,6.1423,6.1423,6.1423,6.1423,6.1423,6.1423,6.1423,6.1423,6.1423,6.1423,6.1423,6.1423,6.1423,6.1423,6.1423,6.1423,6.1423,6.1423,6.1423,6.1423,6.1423,6.1423,6.1423,6.1423,6.1423,6.1423,6.1423,6.1423,6.1423,6.1423,6.1423,6.1423,6.1423,6.1423,6.1423,6.1423,6.1423,6.1423,6.1423,6.1423,6.1423,6.1423,6.1423,6.1423,6.1423,6.1423,6.1423,6.1423,6.1423,6.1423,6.1423,6.1423,6.1423,6.1423,6.1423,6.1423,6.1423,6.1423,6.1423,6.1423,6.1423,6.1423,6.1423,6.1423,6.1423,6.1423,6.1423,6.1423,6.1423,6.1423,6.1423,6.1423,6.1423,6.1423,6.1423,6.1423,6.1423,6.1423,6.1423,6.1423,6.1423,6.1423,6.1423,6.1423,6.1423,6.1423,6.1423,6.1423,6.1423,6.1423,6.1423,6.1423,6.1423,6.1423,6.1423,6.1423,6.1423,6.1423,6.1423,6.1423,6.1423,6.1423,6.1423,6.1423,6.1423,6.1423,6.1423,6.1423,6.1423,6.1423,6.1423,6.1423,6.1423,6.1423,6.1423,6.1423,6.1423,6.1423,6.1423,6.1423,6.1423,6.1423,6.1423,6.1423,6.1423,6.1423,6.1423,6.1423,6.1423,6.1423,6.1423,6.1423,6.1423,6.1423,6.1423,6.1423],\"marker\":{\"color\":\"#FF97FF\",\"size\":[1.0,1.0,0.0,0.0,1.0,0.0,0.0,1.0,1.0,0.0,0.0,0.0,0.0,1.0,0.0,1.0,0.0,0.0,0.0,1.0,1.0,0.0,0.0,1.0,0.0,0.0,0.0,0.0,0.0,0.0,1.0,1.0,1.0,1.0,1.0,0.0,0.0,0.0,0.0,0.0,0.0,0.0,0.0,0.0,0.0,0.0,0.0,1.0,0.0,0.0,0.0,0.0,0.0,1.0,0.0,0.0,0.0,0.0,0.0,0.0,0.0,0.0,0.0,1.0,1.0,0.0,1.0,1.0,1.0,1.0,0.0,0.0,0.0,0.0,0.0,0.0,1.0,1.0,1.0,1.0,0.0,1.0,0.0,0.0,0.0,0.0,0.0,1.0,1.0,0.0,1.0,1.0,1.0,0.0,0.0,0.0,0.0,1.0,0.0,0.0,0.0,1.0,0.0,0.0,0.0,1.0,0.0,0.0,1.0,0.0,0.0,1.0,1.0,0.0,0.0,0.0,0.0,0.0,0.0,0.0,0.0,0.0,0.0,0.0,0.0,0.0,1.0,0.0,0.0,1.0,0.0,0.0,0.0,0.0,0.0,0.0,0.0,0.0,1.0,0.0,0.0,0.0,0.0,0.0,0.0,1.0,1.0,0.0,0.0,0.0,0.0,0.0,0.0,1.0,0.0,0.0,0.0,0.0,0.0,0.0,0.0,0.0,0.0,0.0,0.0,0.0,0.0,0.0,1.0,0.0,0.0,0.0,0.0,1.0,0.0,0.0,0.0,0.0,0.0,0.0,0.0,0.0,0.0,0.0,1.0,1.0,1.0,0.0,0.0,0.0,0.0,1.0,0.0,0.0,1.0,1.0,0.0,0.0,0.0,0.0,0.0,0.0,1.0,0.0,0.0,0.0,0.0,0.0,0.0,0.0,0.0,0.0,0.0,0.0,0.0,0.0,0.0,0.0,0.0,0.0,0.0,0.0,0.0,0.0,0.0,0.0,0.0,1.0,0.0,1.0,1.0,0.0,1.0,1.0,1.0,0.0,0.0,0.0,0.0,0.0,0.0,0.0,0.0,0.0,0.0,1.0,0.0,0.0,0.0,1.0,0.0,0.0,0.0,0.0,0.0,0.0,0.0,0.0,0.0,0.0,1.0,0.0,1.0,0.0,1.0,1.0,0.0,0.0,0.0,0.0,1.0,0.0,0.0,0.0,0.0,1.0,0.0,0.0,0.0,0.0,0.0,0.0,0.0,0.0,0.0,0.0,0.0,0.0,0.0,0.0,0.0,0.0,0.0,0.0,0.0,0.0,0.0,0.0,0.0,0.0,0.0,0.0,0.0,0.0,0.0,0.0,0.0,1.0,0.0,0.0,0.0,0.0,0.0,0.0,0.0,0.0,0.0,0.0,0.0],\"sizemode\":\"area\",\"sizeref\":0.5475},\"mode\":\"markers\",\"name\":\"Geneva\",\"showlegend\":true,\"subplot\":\"mapbox\",\"type\":\"scattermapbox\"},{\"hovertemplate\":\"city=Neuchatel<br>deaths=%{marker.size}<br>lat=%{lat}<br>lon=%{lon}<extra></extra>\",\"lat\":[46.993,46.993,46.993,46.993,46.993,46.993,46.993,46.993,46.993,46.993,46.993,46.993,46.993,46.993,46.993,46.993,46.993,46.993,46.993,46.993,46.993,46.993,46.993,46.993,46.993,46.993,46.993,46.993,46.993,46.993,46.993,46.993,46.993,46.993,46.993,46.993,46.993,46.993,46.993,46.993,46.993,46.993],\"legendgroup\":\"Neuchatel\",\"lon\":[6.93193,6.93193,6.93193,6.93193,6.93193,6.93193,6.93193,6.93193,6.93193,6.93193,6.93193,6.93193,6.93193,6.93193,6.93193,6.93193,6.93193,6.93193,6.93193,6.93193,6.93193,6.93193,6.93193,6.93193,6.93193,6.93193,6.93193,6.93193,6.93193,6.93193,6.93193,6.93193,6.93193,6.93193,6.93193,6.93193,6.93193,6.93193,6.93193,6.93193,6.93193,6.93193],\"marker\":{\"color\":\"#FECB52\",\"size\":[0.0,0.0,0.0,0.0,0.0,0.0,0.0,0.0,0.0,0.0,0.0,0.0,0.0,0.0,0.0,0.0,0.0,0.0,0.0,0.0,0.0,0.0,0.0,0.0,0.0,0.0,0.0,0.0,0.0,0.0,0.0,0.0,0.0,0.0,0.0,0.0,0.0,0.0,0.0,0.0,0.0,0.0],\"sizemode\":\"area\",\"sizeref\":0.5475},\"mode\":\"markers\",\"name\":\"Neuchatel\",\"showlegend\":true,\"subplot\":\"mapbox\",\"type\":\"scattermapbox\"},{\"hovertemplate\":\"city=Fleurier<br>deaths=%{marker.size}<br>lat=%{lat}<br>lon=%{lon}<extra></extra>\",\"lat\":[46.9019,46.9019,46.9019,46.9019,46.9019,46.9019,46.9019,46.9019,46.9019,46.9019,46.9019,46.9019,46.9019,46.9019,46.9019,46.9019,46.9019,46.9019,46.9019,46.9019,46.9019,46.9019,46.9019,46.9019,46.9019,46.9019,46.9019,46.9019,46.9019,46.9019,46.9019,46.9019,46.9019,46.9019,46.9019,46.9019,46.9019,46.9019,46.9019,46.9019,46.9019,46.9019,46.9019,46.9019,46.9019,46.9019,46.9019,46.9019,46.9019,46.9019,46.9019,46.9019,46.9019,46.9019],\"legendgroup\":\"Fleurier\",\"lon\":[6.58495,6.58495,6.58495,6.58495,6.58495,6.58495,6.58495,6.58495,6.58495,6.58495,6.58495,6.58495,6.58495,6.58495,6.58495,6.58495,6.58495,6.58495,6.58495,6.58495,6.58495,6.58495,6.58495,6.58495,6.58495,6.58495,6.58495,6.58495,6.58495,6.58495,6.58495,6.58495,6.58495,6.58495,6.58495,6.58495,6.58495,6.58495,6.58495,6.58495,6.58495,6.58495,6.58495,6.58495,6.58495,6.58495,6.58495,6.58495,6.58495,6.58495,6.58495,6.58495,6.58495,6.58495],\"marker\":{\"color\":\"#636efa\",\"size\":[0.0,0.0,0.0,0.0,0.0,0.0,0.0,0.0,0.0,0.0,0.0,0.0,0.0,0.0,0.0,0.0,0.0,0.0,0.0,0.0,0.0,0.0,0.0,0.0,0.0,0.0,0.0,0.0,0.0,0.0,0.0,0.0,0.0,0.0,0.0,0.0,0.0,0.0,0.0,0.0,0.0,0.0,0.0,0.0,0.0,0.0,0.0,0.0,0.0,0.0,0.0,0.0,0.0,0.0],\"sizemode\":\"area\",\"sizeref\":0.5475},\"mode\":\"markers\",\"name\":\"Fleurier\",\"showlegend\":true,\"subplot\":\"mapbox\",\"type\":\"scattermapbox\"},{\"hovertemplate\":\"city=Colombier<br>deaths=%{marker.size}<br>lat=%{lat}<br>lon=%{lon}<extra></extra>\",\"lat\":[46.9669,46.9669,46.9669,46.9669,46.9669,46.9669,46.9669,46.9669,46.9669,46.9669,46.9669,46.9669,46.9669,46.9669,46.9669,46.9669,46.9669,46.9669,46.9669,46.9669,46.9669,46.9669,46.9669,46.9669,46.9669,46.9669,46.9669,46.9669,46.9669,46.9669,46.9669,46.9669,46.9669,46.9669,46.9669,46.9669,46.9669,46.9669,46.9669,46.9669,46.9669,46.9669],\"legendgroup\":\"Colombier\",\"lon\":[6.85897,6.85897,6.85897,6.85897,6.85897,6.85897,6.85897,6.85897,6.85897,6.85897,6.85897,6.85897,6.85897,6.85897,6.85897,6.85897,6.85897,6.85897,6.85897,6.85897,6.85897,6.85897,6.85897,6.85897,6.85897,6.85897,6.85897,6.85897,6.85897,6.85897,6.85897,6.85897,6.85897,6.85897,6.85897,6.85897,6.85897,6.85897,6.85897,6.85897,6.85897,6.85897],\"marker\":{\"color\":\"#EF553B\",\"size\":[0.0,0.0,0.0,0.0,0.0,0.0,0.0,0.0,0.0,0.0,0.0,0.0,0.0,0.0,0.0,0.0,0.0,0.0,0.0,0.0,0.0,0.0,0.0,0.0,0.0,0.0,0.0,0.0,0.0,0.0,0.0,0.0,0.0,0.0,0.0,0.0,0.0,0.0,0.0,0.0,0.0,0.0],\"sizemode\":\"area\",\"sizeref\":0.5475},\"mode\":\"markers\",\"name\":\"Colombier\",\"showlegend\":true,\"subplot\":\"mapbox\",\"type\":\"scattermapbox\"},{\"hovertemplate\":\"city=Boudry<br>deaths=%{marker.size}<br>lat=%{lat}<br>lon=%{lon}<extra></extra>\",\"lat\":[46.9547,46.9547,46.9547,46.9547,46.9547,46.9547,46.9547,46.9547,46.9547,46.9547,46.9547,46.9547,46.9547,46.9547,46.9547,46.9547,46.9547,46.9547,46.9547,46.9547,46.9547,46.9547,46.9547,46.9547,46.9547,46.9547,46.9547,46.9547,46.9547,46.9547,46.9547,46.9547,46.9547,46.9547,46.9547,46.9547,46.9547,46.9547,46.9547,46.9547,46.9547,46.9547,46.9547,46.9547,46.9547,46.9547,46.9547,46.9547,46.9547,46.9547,46.9547,46.9547,46.9547,46.9547,46.9547,46.9547,46.9547],\"legendgroup\":\"Boudry\",\"lon\":[6.84996,6.84996,6.84996,6.84996,6.84996,6.84996,6.84996,6.84996,6.84996,6.84996,6.84996,6.84996,6.84996,6.84996,6.84996,6.84996,6.84996,6.84996,6.84996,6.84996,6.84996,6.84996,6.84996,6.84996,6.84996,6.84996,6.84996,6.84996,6.84996,6.84996,6.84996,6.84996,6.84996,6.84996,6.84996,6.84996,6.84996,6.84996,6.84996,6.84996,6.84996,6.84996,6.84996,6.84996,6.84996,6.84996,6.84996,6.84996,6.84996,6.84996,6.84996,6.84996,6.84996,6.84996,6.84996,6.84996,6.84996],\"marker\":{\"color\":\"#00cc96\",\"size\":[0.0,0.0,0.0,0.0,0.0,0.0,0.0,0.0,0.0,0.0,0.0,0.0,0.0,0.0,0.0,0.0,0.0,0.0,0.0,0.0,0.0,0.0,0.0,0.0,0.0,0.0,0.0,0.0,0.0,0.0,0.0,0.0,0.0,0.0,0.0,0.0,0.0,0.0,0.0,0.0,0.0,0.0,0.0,0.0,0.0,0.0,0.0,0.0,0.0,0.0,0.0,0.0,0.0,0.0,0.0,0.0,0.0],\"sizemode\":\"area\",\"sizeref\":0.5475},\"mode\":\"markers\",\"name\":\"Boudry\",\"showlegend\":true,\"subplot\":\"mapbox\",\"type\":\"scattermapbox\"},{\"hovertemplate\":\"city=Gorgier<br>deaths=%{marker.size}<br>lat=%{lat}<br>lon=%{lon}<extra></extra>\",\"lat\":[46.9032,46.9032,46.9032,46.9032,46.9032,46.9032],\"legendgroup\":\"Gorgier\",\"lon\":[6.78062,6.78062,6.78062,6.78062,6.78062,6.78062],\"marker\":{\"color\":\"#ab63fa\",\"size\":[0.0,0.0,0.0,0.0,0.0,0.0],\"sizemode\":\"area\",\"sizeref\":0.5475},\"mode\":\"markers\",\"name\":\"Gorgier\",\"showlegend\":true,\"subplot\":\"mapbox\",\"type\":\"scattermapbox\"},{\"hovertemplate\":\"city=Le Landeron<br>deaths=%{marker.size}<br>lat=%{lat}<br>lon=%{lon}<extra></extra>\",\"lat\":[47.056,47.056,47.056,47.056,47.056,47.056,47.056,47.056,47.056],\"legendgroup\":\"Le Landeron\",\"lon\":[7.06732,7.06732,7.06732,7.06732,7.06732,7.06732,7.06732,7.06732,7.06732],\"marker\":{\"color\":\"#FFA15A\",\"size\":[0.0,0.0,0.0,0.0,0.0,0.0,0.0,0.0,0.0],\"sizemode\":\"area\",\"sizeref\":0.5475},\"mode\":\"markers\",\"name\":\"Le Landeron\",\"showlegend\":true,\"subplot\":\"mapbox\",\"type\":\"scattermapbox\"},{\"hovertemplate\":\"city=Valangin<br>deaths=%{marker.size}<br>lat=%{lat}<br>lon=%{lon}<extra></extra>\",\"lat\":[47.0162,47.0162,47.0162,47.0162,47.0162,47.0162,47.0162,47.0162,47.0162,47.0162,47.0162,47.0162,47.0162,47.0162,47.0162,47.0162,47.0162,47.0162,47.0162,47.0162,47.0162,47.0162,47.0162,47.0162,47.0162,47.0162,47.0162,47.0162,47.0162,47.0162,47.0162,47.0162,47.0162,47.0162,47.0162,47.0162,47.0162,47.0162,47.0162,47.0162,47.0162,47.0162,47.0162,47.0162,47.0162,47.0162,47.0162,47.0162,47.0162,47.0162,47.0162,47.0162,47.0162,47.0162,47.0162,47.0162,47.0162,47.0162],\"legendgroup\":\"Valangin\",\"lon\":[6.90646,6.90646,6.90646,6.90646,6.90646,6.90646,6.90646,6.90646,6.90646,6.90646,6.90646,6.90646,6.90646,6.90646,6.90646,6.90646,6.90646,6.90646,6.90646,6.90646,6.90646,6.90646,6.90646,6.90646,6.90646,6.90646,6.90646,6.90646,6.90646,6.90646,6.90646,6.90646,6.90646,6.90646,6.90646,6.90646,6.90646,6.90646,6.90646,6.90646,6.90646,6.90646,6.90646,6.90646,6.90646,6.90646,6.90646,6.90646,6.90646,6.90646,6.90646,6.90646,6.90646,6.90646,6.90646,6.90646,6.90646,6.90646],\"marker\":{\"color\":\"#19d3f3\",\"size\":[0.0,0.0,0.0,0.0,0.0,0.0,0.0,0.0,0.0,0.0,0.0,0.0,0.0,0.0,0.0,0.0,0.0,0.0,0.0,1.0,0.0,0.0,0.0,0.0,0.0,0.0,0.0,0.0,0.0,0.0,0.0,0.0,0.0,0.0,0.0,0.0,0.0,0.0,0.0,0.0,0.0,0.0,0.0,0.0,0.0,0.0,1.0,0.0,0.0,0.0,0.0,0.0,0.0,0.0,0.0,0.0,0.0,0.0],\"sizemode\":\"area\",\"sizeref\":0.5475},\"mode\":\"markers\",\"name\":\"Valangin\",\"showlegend\":true,\"subplot\":\"mapbox\",\"type\":\"scattermapbox\"},{\"hovertemplate\":\"city=Thielle-Wavre<br>deaths=%{marker.size}<br>lat=%{lat}<br>lon=%{lon}<extra></extra>\",\"lat\":[47.0254,47.0254,47.0254,47.0254,47.0254,47.0254,47.0254,47.0254,47.0254,47.0254,47.0254,47.0254,47.0254,47.0254,47.0254,47.0254,47.0254,47.0254,47.0254,47.0254,47.0254,47.0254,47.0254,47.0254,47.0254,47.0254,47.0254,47.0254,47.0254,47.0254,47.0254,47.0254,47.0254,47.0254,47.0254,47.0254,47.0254,47.0254,47.0254,47.0254,47.0254,47.0254,47.0254,47.0254,47.0254,47.0254,47.0254],\"legendgroup\":\"Thielle-Wavre\",\"lon\":[7.02123,7.02123,7.02123,7.02123,7.02123,7.02123,7.02123,7.02123,7.02123,7.02123,7.02123,7.02123,7.02123,7.02123,7.02123,7.02123,7.02123,7.02123,7.02123,7.02123,7.02123,7.02123,7.02123,7.02123,7.02123,7.02123,7.02123,7.02123,7.02123,7.02123,7.02123,7.02123,7.02123,7.02123,7.02123,7.02123,7.02123,7.02123,7.02123,7.02123,7.02123,7.02123,7.02123,7.02123,7.02123,7.02123,7.02123],\"marker\":{\"color\":\"#FF6692\",\"size\":[0.0,0.0,0.0,0.0,0.0,0.0,0.0,0.0,0.0,0.0,0.0,0.0,0.0,0.0,0.0,0.0,0.0,0.0,0.0,0.0,0.0,0.0,0.0,0.0,0.0,0.0,0.0,0.0,0.0,0.0,0.0,0.0,0.0,0.0,0.0,0.0,0.0,0.0,0.0,0.0,0.0,0.0,0.0,0.0,0.0,0.0,0.0],\"sizemode\":\"area\",\"sizeref\":0.5475},\"mode\":\"markers\",\"name\":\"Thielle-Wavre\",\"showlegend\":true,\"subplot\":\"mapbox\",\"type\":\"scattermapbox\"},{\"hovertemplate\":\"city=Bruges<br>deaths=%{marker.size}<br>lat=%{lat}<br>lon=%{lon}<extra></extra>\",\"lat\":[51.2094,51.2094,51.2094,51.2094,51.2094,51.2094,51.2094,51.2094,51.2094,51.2094,51.2094,51.2094,51.2094,51.2094,51.2094,51.2094,51.2094,51.2094,51.2094,51.2094,51.2094,51.2094,51.2094,51.2094,51.2094,51.2094,51.2094,51.2094,51.2094,51.2094,51.2094,51.2094,51.2094,51.2094,51.2094,51.2094,51.2094,51.2094,51.2094,51.2094,51.2094,51.2094,51.2094,51.2094,51.2094,51.2094,51.2094,51.2094,51.2094,51.2094,51.2094,51.2094,51.2094,51.2094,51.2094,51.2094,51.2094,51.2094,51.2094,51.2094,51.2094,51.2094,51.2094,51.2094,51.2094,51.2094,51.2094,51.2094,51.2094,51.2094,51.2094,51.2094,51.2094,51.2094,51.2094,51.2094,51.2094,51.2094,51.2094,51.2094,51.2094,51.2094,51.2094,51.2094,51.2094,51.2094,51.2094,51.2094,51.2094,51.2094,51.2094,51.2094,51.2094,51.2094,51.2094,51.2094,51.2094],\"legendgroup\":\"Bruges\",\"lon\":[3.2247,3.2247,3.2247,3.2247,3.2247,3.2247,3.2247,3.2247,3.2247,3.2247,3.2247,3.2247,3.2247,3.2247,3.2247,3.2247,3.2247,3.2247,3.2247,3.2247,3.2247,3.2247,3.2247,3.2247,3.2247,3.2247,3.2247,3.2247,3.2247,3.2247,3.2247,3.2247,3.2247,3.2247,3.2247,3.2247,3.2247,3.2247,3.2247,3.2247,3.2247,3.2247,3.2247,3.2247,3.2247,3.2247,3.2247,3.2247,3.2247,3.2247,3.2247,3.2247,3.2247,3.2247,3.2247,3.2247,3.2247,3.2247,3.2247,3.2247,3.2247,3.2247,3.2247,3.2247,3.2247,3.2247,3.2247,3.2247,3.2247,3.2247,3.2247,3.2247,3.2247,3.2247,3.2247,3.2247,3.2247,3.2247,3.2247,3.2247,3.2247,3.2247,3.2247,3.2247,3.2247,3.2247,3.2247,3.2247,3.2247,3.2247,3.2247,3.2247,3.2247,3.2247,3.2247,3.2247,3.2247],\"marker\":{\"color\":\"#B6E880\",\"size\":[1.0,1.0,1.0,0.0,0.0,0.0,1.0,1.0,1.0,0.0,0.0,0.0,0.0,0.0,0.0,0.0,0.0,0.0,0.0,1.0,1.0,0.0,0.0,0.0,0.0,0.0,0.0,0.0,0.0,0.0,0.0,0.0,1.0,1.0,1.0,1.0,0.0,0.0,0.0,0.0,0.0,0.0,1.0,0.0,0.0,0.0,1.0,0.0,0.0,0.0,0.0,0.0,0.0,0.0,0.0,0.0,0.0,0.0,2.0,0.0,0.0,0.0,1.0,0.0,0.0,0.0,1.0,1.0,0.0,0.0,0.0,0.0,0.0,0.0,0.0,0.0,0.0,0.0,0.0,0.0,0.0,0.0,0.0,0.0,0.0,0.0,0.0,0.0,0.0,0.0,1.0,0.0,0.0,0.0,0.0,1.0,0.0],\"sizemode\":\"area\",\"sizeref\":0.5475},\"mode\":\"markers\",\"name\":\"Bruges\",\"showlegend\":true,\"subplot\":\"mapbox\",\"type\":\"scattermapbox\"}],                        {\"template\":{\"data\":{\"histogram2dcontour\":[{\"type\":\"histogram2dcontour\",\"colorbar\":{\"outlinewidth\":0,\"ticks\":\"\"},\"colorscale\":[[0.0,\"#0d0887\"],[0.1111111111111111,\"#46039f\"],[0.2222222222222222,\"#7201a8\"],[0.3333333333333333,\"#9c179e\"],[0.4444444444444444,\"#bd3786\"],[0.5555555555555556,\"#d8576b\"],[0.6666666666666666,\"#ed7953\"],[0.7777777777777778,\"#fb9f3a\"],[0.8888888888888888,\"#fdca26\"],[1.0,\"#f0f921\"]]}],\"choropleth\":[{\"type\":\"choropleth\",\"colorbar\":{\"outlinewidth\":0,\"ticks\":\"\"}}],\"histogram2d\":[{\"type\":\"histogram2d\",\"colorbar\":{\"outlinewidth\":0,\"ticks\":\"\"},\"colorscale\":[[0.0,\"#0d0887\"],[0.1111111111111111,\"#46039f\"],[0.2222222222222222,\"#7201a8\"],[0.3333333333333333,\"#9c179e\"],[0.4444444444444444,\"#bd3786\"],[0.5555555555555556,\"#d8576b\"],[0.6666666666666666,\"#ed7953\"],[0.7777777777777778,\"#fb9f3a\"],[0.8888888888888888,\"#fdca26\"],[1.0,\"#f0f921\"]]}],\"heatmap\":[{\"type\":\"heatmap\",\"colorbar\":{\"outlinewidth\":0,\"ticks\":\"\"},\"colorscale\":[[0.0,\"#0d0887\"],[0.1111111111111111,\"#46039f\"],[0.2222222222222222,\"#7201a8\"],[0.3333333333333333,\"#9c179e\"],[0.4444444444444444,\"#bd3786\"],[0.5555555555555556,\"#d8576b\"],[0.6666666666666666,\"#ed7953\"],[0.7777777777777778,\"#fb9f3a\"],[0.8888888888888888,\"#fdca26\"],[1.0,\"#f0f921\"]]}],\"heatmapgl\":[{\"type\":\"heatmapgl\",\"colorbar\":{\"outlinewidth\":0,\"ticks\":\"\"},\"colorscale\":[[0.0,\"#0d0887\"],[0.1111111111111111,\"#46039f\"],[0.2222222222222222,\"#7201a8\"],[0.3333333333333333,\"#9c179e\"],[0.4444444444444444,\"#bd3786\"],[0.5555555555555556,\"#d8576b\"],[0.6666666666666666,\"#ed7953\"],[0.7777777777777778,\"#fb9f3a\"],[0.8888888888888888,\"#fdca26\"],[1.0,\"#f0f921\"]]}],\"contourcarpet\":[{\"type\":\"contourcarpet\",\"colorbar\":{\"outlinewidth\":0,\"ticks\":\"\"}}],\"contour\":[{\"type\":\"contour\",\"colorbar\":{\"outlinewidth\":0,\"ticks\":\"\"},\"colorscale\":[[0.0,\"#0d0887\"],[0.1111111111111111,\"#46039f\"],[0.2222222222222222,\"#7201a8\"],[0.3333333333333333,\"#9c179e\"],[0.4444444444444444,\"#bd3786\"],[0.5555555555555556,\"#d8576b\"],[0.6666666666666666,\"#ed7953\"],[0.7777777777777778,\"#fb9f3a\"],[0.8888888888888888,\"#fdca26\"],[1.0,\"#f0f921\"]]}],\"surface\":[{\"type\":\"surface\",\"colorbar\":{\"outlinewidth\":0,\"ticks\":\"\"},\"colorscale\":[[0.0,\"#0d0887\"],[0.1111111111111111,\"#46039f\"],[0.2222222222222222,\"#7201a8\"],[0.3333333333333333,\"#9c179e\"],[0.4444444444444444,\"#bd3786\"],[0.5555555555555556,\"#d8576b\"],[0.6666666666666666,\"#ed7953\"],[0.7777777777777778,\"#fb9f3a\"],[0.8888888888888888,\"#fdca26\"],[1.0,\"#f0f921\"]]}],\"mesh3d\":[{\"type\":\"mesh3d\",\"colorbar\":{\"outlinewidth\":0,\"ticks\":\"\"}}],\"scatter\":[{\"fillpattern\":{\"fillmode\":\"overlay\",\"size\":10,\"solidity\":0.2},\"type\":\"scatter\"}],\"parcoords\":[{\"type\":\"parcoords\",\"line\":{\"colorbar\":{\"outlinewidth\":0,\"ticks\":\"\"}}}],\"scatterpolargl\":[{\"type\":\"scatterpolargl\",\"marker\":{\"colorbar\":{\"outlinewidth\":0,\"ticks\":\"\"}}}],\"bar\":[{\"error_x\":{\"color\":\"#2a3f5f\"},\"error_y\":{\"color\":\"#2a3f5f\"},\"marker\":{\"line\":{\"color\":\"#E5ECF6\",\"width\":0.5},\"pattern\":{\"fillmode\":\"overlay\",\"size\":10,\"solidity\":0.2}},\"type\":\"bar\"}],\"scattergeo\":[{\"type\":\"scattergeo\",\"marker\":{\"colorbar\":{\"outlinewidth\":0,\"ticks\":\"\"}}}],\"scatterpolar\":[{\"type\":\"scatterpolar\",\"marker\":{\"colorbar\":{\"outlinewidth\":0,\"ticks\":\"\"}}}],\"histogram\":[{\"marker\":{\"pattern\":{\"fillmode\":\"overlay\",\"size\":10,\"solidity\":0.2}},\"type\":\"histogram\"}],\"scattergl\":[{\"type\":\"scattergl\",\"marker\":{\"colorbar\":{\"outlinewidth\":0,\"ticks\":\"\"}}}],\"scatter3d\":[{\"type\":\"scatter3d\",\"line\":{\"colorbar\":{\"outlinewidth\":0,\"ticks\":\"\"}},\"marker\":{\"colorbar\":{\"outlinewidth\":0,\"ticks\":\"\"}}}],\"scattermapbox\":[{\"type\":\"scattermapbox\",\"marker\":{\"colorbar\":{\"outlinewidth\":0,\"ticks\":\"\"}}}],\"scatterternary\":[{\"type\":\"scatterternary\",\"marker\":{\"colorbar\":{\"outlinewidth\":0,\"ticks\":\"\"}}}],\"scattercarpet\":[{\"type\":\"scattercarpet\",\"marker\":{\"colorbar\":{\"outlinewidth\":0,\"ticks\":\"\"}}}],\"carpet\":[{\"aaxis\":{\"endlinecolor\":\"#2a3f5f\",\"gridcolor\":\"white\",\"linecolor\":\"white\",\"minorgridcolor\":\"white\",\"startlinecolor\":\"#2a3f5f\"},\"baxis\":{\"endlinecolor\":\"#2a3f5f\",\"gridcolor\":\"white\",\"linecolor\":\"white\",\"minorgridcolor\":\"white\",\"startlinecolor\":\"#2a3f5f\"},\"type\":\"carpet\"}],\"table\":[{\"cells\":{\"fill\":{\"color\":\"#EBF0F8\"},\"line\":{\"color\":\"white\"}},\"header\":{\"fill\":{\"color\":\"#C8D4E3\"},\"line\":{\"color\":\"white\"}},\"type\":\"table\"}],\"barpolar\":[{\"marker\":{\"line\":{\"color\":\"#E5ECF6\",\"width\":0.5},\"pattern\":{\"fillmode\":\"overlay\",\"size\":10,\"solidity\":0.2}},\"type\":\"barpolar\"}],\"pie\":[{\"automargin\":true,\"type\":\"pie\"}]},\"layout\":{\"autotypenumbers\":\"strict\",\"colorway\":[\"#636efa\",\"#EF553B\",\"#00cc96\",\"#ab63fa\",\"#FFA15A\",\"#19d3f3\",\"#FF6692\",\"#B6E880\",\"#FF97FF\",\"#FECB52\"],\"font\":{\"color\":\"#2a3f5f\"},\"hovermode\":\"closest\",\"hoverlabel\":{\"align\":\"left\"},\"paper_bgcolor\":\"white\",\"plot_bgcolor\":\"#E5ECF6\",\"polar\":{\"bgcolor\":\"#E5ECF6\",\"angularaxis\":{\"gridcolor\":\"white\",\"linecolor\":\"white\",\"ticks\":\"\"},\"radialaxis\":{\"gridcolor\":\"white\",\"linecolor\":\"white\",\"ticks\":\"\"}},\"ternary\":{\"bgcolor\":\"#E5ECF6\",\"aaxis\":{\"gridcolor\":\"white\",\"linecolor\":\"white\",\"ticks\":\"\"},\"baxis\":{\"gridcolor\":\"white\",\"linecolor\":\"white\",\"ticks\":\"\"},\"caxis\":{\"gridcolor\":\"white\",\"linecolor\":\"white\",\"ticks\":\"\"}},\"coloraxis\":{\"colorbar\":{\"outlinewidth\":0,\"ticks\":\"\"}},\"colorscale\":{\"sequential\":[[0.0,\"#0d0887\"],[0.1111111111111111,\"#46039f\"],[0.2222222222222222,\"#7201a8\"],[0.3333333333333333,\"#9c179e\"],[0.4444444444444444,\"#bd3786\"],[0.5555555555555556,\"#d8576b\"],[0.6666666666666666,\"#ed7953\"],[0.7777777777777778,\"#fb9f3a\"],[0.8888888888888888,\"#fdca26\"],[1.0,\"#f0f921\"]],\"sequentialminus\":[[0.0,\"#0d0887\"],[0.1111111111111111,\"#46039f\"],[0.2222222222222222,\"#7201a8\"],[0.3333333333333333,\"#9c179e\"],[0.4444444444444444,\"#bd3786\"],[0.5555555555555556,\"#d8576b\"],[0.6666666666666666,\"#ed7953\"],[0.7777777777777778,\"#fb9f3a\"],[0.8888888888888888,\"#fdca26\"],[1.0,\"#f0f921\"]],\"diverging\":[[0,\"#8e0152\"],[0.1,\"#c51b7d\"],[0.2,\"#de77ae\"],[0.3,\"#f1b6da\"],[0.4,\"#fde0ef\"],[0.5,\"#f7f7f7\"],[0.6,\"#e6f5d0\"],[0.7,\"#b8e186\"],[0.8,\"#7fbc41\"],[0.9,\"#4d9221\"],[1,\"#276419\"]]},\"xaxis\":{\"gridcolor\":\"white\",\"linecolor\":\"white\",\"ticks\":\"\",\"title\":{\"standoff\":15},\"zerolinecolor\":\"white\",\"automargin\":true,\"zerolinewidth\":2},\"yaxis\":{\"gridcolor\":\"white\",\"linecolor\":\"white\",\"ticks\":\"\",\"title\":{\"standoff\":15},\"zerolinecolor\":\"white\",\"automargin\":true,\"zerolinewidth\":2},\"scene\":{\"xaxis\":{\"backgroundcolor\":\"#E5ECF6\",\"gridcolor\":\"white\",\"linecolor\":\"white\",\"showbackground\":true,\"ticks\":\"\",\"zerolinecolor\":\"white\",\"gridwidth\":2},\"yaxis\":{\"backgroundcolor\":\"#E5ECF6\",\"gridcolor\":\"white\",\"linecolor\":\"white\",\"showbackground\":true,\"ticks\":\"\",\"zerolinecolor\":\"white\",\"gridwidth\":2},\"zaxis\":{\"backgroundcolor\":\"#E5ECF6\",\"gridcolor\":\"white\",\"linecolor\":\"white\",\"showbackground\":true,\"ticks\":\"\",\"zerolinecolor\":\"white\",\"gridwidth\":2}},\"shapedefaults\":{\"line\":{\"color\":\"#2a3f5f\"}},\"annotationdefaults\":{\"arrowcolor\":\"#2a3f5f\",\"arrowhead\":0,\"arrowwidth\":1},\"geo\":{\"bgcolor\":\"white\",\"landcolor\":\"#E5ECF6\",\"subunitcolor\":\"white\",\"showland\":true,\"showlakes\":true,\"lakecolor\":\"white\"},\"title\":{\"x\":0.05},\"mapbox\":{\"style\":\"light\"}}},\"mapbox\":{\"domain\":{\"x\":[0.0,1.0],\"y\":[0.0,1.0]},\"center\":{\"lat\":48.34377572174237,\"lon\":7.437817902829485},\"zoom\":3,\"style\":\"open-street-map\"},\"legend\":{\"title\":{\"text\":\"city\"},\"tracegroupgap\":0,\"itemsizing\":\"constant\"},\"title\":{\"text\":\"number of deaths by country\"},\"height\":900,\"width\":1200,\"margin\":{\"r\":0,\"t\":50,\"l\":0,\"b\":10}},                        {\"responsive\": true}                    ).then(function(){\n",
       "                            \n",
       "var gd = document.getElementById('31ccac35-fba5-449f-a005-a4c94b8ab7f5');\n",
       "var x = new MutationObserver(function (mutations, observer) {{\n",
       "        var display = window.getComputedStyle(gd).display;\n",
       "        if (!display || display === 'none') {{\n",
       "            console.log([gd, 'removed!']);\n",
       "            Plotly.purge(gd);\n",
       "            observer.disconnect();\n",
       "        }}\n",
       "}});\n",
       "\n",
       "// Listen for the removal of the full notebook cells\n",
       "var notebookContainer = gd.closest('#notebook-container');\n",
       "if (notebookContainer) {{\n",
       "    x.observe(notebookContainer, {childList: true});\n",
       "}}\n",
       "\n",
       "// Listen for the clearing of the current output cell\n",
       "var outputEl = gd.closest('.output');\n",
       "if (outputEl) {{\n",
       "    x.observe(outputEl, {childList: true});\n",
       "}}\n",
       "\n",
       "                        })                };                });            </script>        </div>"
      ]
     },
     "metadata": {},
     "output_type": "display_data"
    }
   ],
   "source": [
    "fig = px.scatter_mapbox(dfTrials,\n",
    "                        lon=dfTrials['lon'],\n",
    "                        lat=dfTrials['lat'],\n",
    "                        zoom = 3,\n",
    "                        color = dfTrials['city'], # Color de la burbuja segun la ciudad\n",
    "                        size=dfTrials['deaths'], # tamaño de la burbuja segun la cantiada de muertes\n",
    "                        width=1200,\n",
    "                        height=900,\n",
    "                        title=\"Number of deaths by country\"\n",
    "                        )\n",
    "# Elegimos el tipo de grafico stree map para mostrar\n",
    "fig.update_layout(mapbox_style=\"open-street-map\")\n",
    "# Le damos margenes a la imagen para que entre bien en la pantalla\n",
    "fig.update_layout(margin={\"r\":0,\"t\":50,\"l\":0,\"b\":10})\n",
    "fig.show()"
   ]
  }
 ],
 "metadata": {
  "kernelspec": {
   "display_name": "Python 3 (ipykernel)",
   "language": "python",
   "name": "python3"
  },
  "language_info": {
   "codemirror_mode": {
    "name": "ipython",
    "version": 3
   },
   "file_extension": ".py",
   "mimetype": "text/x-python",
   "name": "python",
   "nbconvert_exporter": "python",
   "pygments_lexer": "ipython3",
   "version": "3.10.4"
  },
  "vscode": {
   "interpreter": {
    "hash": "33c0426c69565b4250b7956a4e3e998048039162d89330fb2f8bc2f70600e656"
   }
  }
 },
 "nbformat": 4,
 "nbformat_minor": 2
}
