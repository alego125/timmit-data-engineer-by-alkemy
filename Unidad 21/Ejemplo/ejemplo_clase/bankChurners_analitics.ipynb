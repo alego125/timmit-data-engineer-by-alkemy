{
 "cells": [
  {
   "cell_type": "code",
   "execution_count": 1,
   "id": "e7585aa1-4dba-45d1-b243-2d44ef19704c",
   "metadata": {},
   "outputs": [],
   "source": [
    "# import necessary libraries\n",
    "import pandas as pd \n",
    "import numpy\n",
    "import matplotlib.pyplot as plt \n",
    "from pyspark.sql import SparkSession\n",
    "\n",
    "\n",
    "# create sparksession\n",
    "spark = SparkSession \\\n",
    "    .builder \\\n",
    "    .appName(\"Pysparkexample\") \\\n",
    "    .config(\"spark.some.config.option\", \"some-value\") \\\n",
    "    .getOrCreate()"
   ]
  },
  {
   "cell_type": "code",
   "execution_count": 2,
   "id": "216275a0-82da-4416-9508-38e4e208849b",
   "metadata": {},
   "outputs": [],
   "source": [
    "df = spark.read.csv('BankChurners.csv', header='true', inferSchema = True)\n"
   ]
  },
  {
   "cell_type": "code",
   "execution_count": 3,
   "id": "fae1d95f-961e-4070-844e-422ef4c615be",
   "metadata": {},
   "outputs": [
    {
     "data": {
      "text/plain": [
       "['CLIENTNUM',\n",
       " 'Attrition_Flag',\n",
       " 'Customer_Age',\n",
       " 'Gender',\n",
       " 'Dependent_count',\n",
       " 'Education_Level',\n",
       " 'Marital_Status',\n",
       " 'Income_Category',\n",
       " 'Card_Category',\n",
       " 'Months_on_book',\n",
       " 'Months_Inactive_12_mon',\n",
       " 'Contacts_Count_12_mon',\n",
       " 'Credit_Limit']"
      ]
     },
     "execution_count": 3,
     "metadata": {},
     "output_type": "execute_result"
    }
   ],
   "source": [
    "df.columns"
   ]
  },
  {
   "cell_type": "code",
   "execution_count": 4,
   "id": "433de0ac-c135-4174-bc05-ae98e6773af0",
   "metadata": {},
   "outputs": [
    {
     "name": "stdout",
     "output_type": "stream",
     "text": [
      "The total number of columns is: 13 \n",
      "The total number of rows is: 10127\n"
     ]
    }
   ],
   "source": [
    "print('The total number of columns is:', len(df.columns), '\\nThe total number of rows is:', df.count())"
   ]
  },
  {
   "cell_type": "code",
   "execution_count": 5,
   "id": "1aadb258-78a0-4c68-b70a-5c9379a1d199",
   "metadata": {},
   "outputs": [
    {
     "data": {
      "text/plain": [
       "Row(CLIENTNUM=768805383, Attrition_Flag='Existing Customer', Customer_Age=45, Gender='M', Dependent_count=3, Education_Level='High School', Marital_Status='Married', Income_Category='$60K - $80K', Card_Category='Blue', Months_on_book=39, Months_Inactive_12_mon=1, Contacts_Count_12_mon=3, Credit_Limit=12691.0)"
      ]
     },
     "execution_count": 5,
     "metadata": {},
     "output_type": "execute_result"
    }
   ],
   "source": [
    "df.head()"
   ]
  },
  {
   "cell_type": "code",
   "execution_count": 6,
   "id": "09a86635-6b7a-4128-a793-c9988075e99b",
   "metadata": {},
   "outputs": [
    {
     "name": "stdout",
     "output_type": "stream",
     "text": [
      "+---------+-----------------+------------+------+---------------+---------------+--------------+---------------+-------------+--------------+----------------------+---------------------+------------+\n",
      "|CLIENTNUM|   Attrition_Flag|Customer_Age|Gender|Dependent_count|Education_Level|Marital_Status|Income_Category|Card_Category|Months_on_book|Months_Inactive_12_mon|Contacts_Count_12_mon|Credit_Limit|\n",
      "+---------+-----------------+------------+------+---------------+---------------+--------------+---------------+-------------+--------------+----------------------+---------------------+------------+\n",
      "|768805383|Existing Customer|          45|     M|              3|    High School|       Married|    $60K - $80K|         Blue|            39|                     1|                    3|     12691.0|\n",
      "|818770008|Existing Customer|          49|     F|              5|       Graduate|        Single| Less than $40K|         Blue|            44|                     1|                    2|      8256.0|\n",
      "|713982108|Existing Customer|          51|     M|              3|       Graduate|       Married|   $80K - $120K|         Blue|            36|                     1|                    0|      3418.0|\n",
      "|769911858|Existing Customer|          40|     F|              4|    High School|       Unknown| Less than $40K|         Blue|            34|                     4|                    1|      3313.0|\n",
      "|709106358|Existing Customer|          40|     M|              3|     Uneducated|       Married|    $60K - $80K|         Blue|            21|                     1|                    0|      4716.0|\n",
      "+---------+-----------------+------------+------+---------------+---------------+--------------+---------------+-------------+--------------+----------------------+---------------------+------------+\n",
      "only showing top 5 rows\n",
      "\n"
     ]
    }
   ],
   "source": [
    "df.show(5)"
   ]
  },
  {
   "cell_type": "code",
   "execution_count": 9,
   "id": "f9d7890c-3ca0-4401-910a-d2ae54cb757a",
   "metadata": {},
   "outputs": [
    {
     "name": "stdout",
     "output_type": "stream",
     "text": [
      "+-----------------+------------+------+---------------+\n",
      "|   Attrition_Flag|Customer_Age|Gender|Dependent_count|\n",
      "+-----------------+------------+------+---------------+\n",
      "|Existing Customer|          45|     M|              3|\n",
      "|Existing Customer|          49|     F|              5|\n",
      "|Existing Customer|          51|     M|              3|\n",
      "|Existing Customer|          40|     F|              4|\n",
      "|Existing Customer|          40|     M|              3|\n",
      "|Existing Customer|          44|     M|              2|\n",
      "|Existing Customer|          51|     M|              4|\n",
      "|Existing Customer|          32|     M|              0|\n",
      "|Existing Customer|          37|     M|              3|\n",
      "|Existing Customer|          48|     M|              2|\n",
      "+-----------------+------------+------+---------------+\n",
      "\n"
     ]
    }
   ],
   "source": [
    "#Creating temporary table\n",
    "\n",
    "df.createOrReplaceTempView('BankChurners')\n",
    "# Manera de crear una consulta con sql comun\n",
    "spark.sql(\n",
    "    '''\n",
    "    Select Attrition_Flag,Customer_Age,Gender,Dependent_count FROM BankChurners LIMIT 10\n",
    "    '''\n",
    ").show()"
   ]
  },
  {
   "cell_type": "code",
   "execution_count": 10,
   "id": "d503ce17-ce92-48ce-a5b3-cf9bcf86dd73",
   "metadata": {},
   "outputs": [
    {
     "name": "stdout",
     "output_type": "stream",
     "text": [
      "+-----------------+------------+------+---------------+\n",
      "|   Attrition_Flag|Customer_Age|Gender|Dependent_count|\n",
      "+-----------------+------------+------+---------------+\n",
      "|Existing Customer|          45|     M|              3|\n",
      "|Existing Customer|          49|     F|              5|\n",
      "|Existing Customer|          51|     M|              3|\n",
      "|Existing Customer|          40|     F|              4|\n",
      "|Existing Customer|          40|     M|              3|\n",
      "|Existing Customer|          44|     M|              2|\n",
      "|Existing Customer|          51|     M|              4|\n",
      "|Existing Customer|          32|     M|              0|\n",
      "|Existing Customer|          37|     M|              3|\n",
      "|Existing Customer|          48|     M|              2|\n",
      "+-----------------+------------+------+---------------+\n",
      "only showing top 10 rows\n",
      "\n"
     ]
    }
   ],
   "source": [
    "# Otra forma de generar una consulta con el metodo select\n",
    "df.select('Attrition_Flag','Customer_Age','Gender','Dependent_count').show(10)"
   ]
  },
  {
   "cell_type": "code",
   "execution_count": 11,
   "id": "7f8c5572-2284-43ee-9c4b-6e5e31afcf5f",
   "metadata": {},
   "outputs": [
    {
     "name": "stdout",
     "output_type": "stream",
     "text": [
      "+-----------------+------------+------+---------------+\n",
      "|   Attrition_Flag|Customer_Age|Gender|Dependent_count|\n",
      "+-----------------+------------+------+---------------+\n",
      "|Existing Customer|          45|     M|              3|\n",
      "|Existing Customer|          51|     M|              3|\n",
      "|Existing Customer|          40|     M|              3|\n",
      "|Existing Customer|          44|     M|              2|\n",
      "|Existing Customer|          51|     M|              4|\n",
      "|Existing Customer|          65|     M|              1|\n",
      "|Existing Customer|          57|     F|              2|\n",
      "|Existing Customer|          41|     M|              3|\n",
      "|Existing Customer|          61|     M|              1|\n",
      "|Existing Customer|          45|     F|              2|\n",
      "|Attrited Customer|          62|     F|              0|\n",
      "|Existing Customer|          41|     M|              3|\n",
      "|Existing Customer|          54|     M|              2|\n",
      "|Existing Customer|          63|     M|              1|\n",
      "|Existing Customer|          47|     M|              4|\n",
      "|Existing Customer|          53|     M|              3|\n",
      "|Existing Customer|          53|     M|              2|\n",
      "|Existing Customer|          41|     M|              4|\n",
      "|Existing Customer|          53|     F|              2|\n",
      "|Existing Customer|          58|     M|              0|\n",
      "+-----------------+------------+------+---------------+\n",
      "only showing top 20 rows\n",
      "\n"
     ]
    }
   ],
   "source": [
    "spark.sql(\n",
    "    '''\n",
    "    SELECT Attrition_Flag,Customer_Age,Gender,Dependent_count \n",
    "    FROM BankChurners\n",
    "    WHERE Marital_Status = 'Married'\n",
    "    '''\n",
    ").show()\n",
    "    "
   ]
  },
  {
   "cell_type": "code",
   "execution_count": 12,
   "id": "bddb9083-d9e5-40a4-9bc1-22995c8341f8",
   "metadata": {},
   "outputs": [
    {
     "name": "stdout",
     "output_type": "stream",
     "text": [
      "+-----------------+------------+------+---------------+\n",
      "|   Attrition_Flag|Customer_Age|Gender|Dependent_count|\n",
      "+-----------------+------------+------+---------------+\n",
      "|Existing Customer|          45|     M|              3|\n",
      "|Existing Customer|          51|     M|              3|\n",
      "|Existing Customer|          40|     M|              3|\n",
      "|Existing Customer|          44|     M|              2|\n",
      "|Existing Customer|          51|     M|              4|\n",
      "|Existing Customer|          65|     M|              1|\n",
      "|Existing Customer|          57|     F|              2|\n",
      "|Existing Customer|          41|     M|              3|\n",
      "|Existing Customer|          61|     M|              1|\n",
      "|Existing Customer|          45|     F|              2|\n",
      "|Attrited Customer|          62|     F|              0|\n",
      "|Existing Customer|          41|     M|              3|\n",
      "|Existing Customer|          54|     M|              2|\n",
      "|Existing Customer|          63|     M|              1|\n",
      "|Existing Customer|          47|     M|              4|\n",
      "|Existing Customer|          53|     M|              3|\n",
      "|Existing Customer|          53|     M|              2|\n",
      "|Existing Customer|          41|     M|              4|\n",
      "|Existing Customer|          53|     F|              2|\n",
      "|Existing Customer|          58|     M|              0|\n",
      "+-----------------+------------+------+---------------+\n",
      "only showing top 20 rows\n",
      "\n"
     ]
    }
   ],
   "source": [
    "df.select('Attrition_Flag','Customer_Age','Gender','Dependent_count').filter(df['Marital_Status'] == 'Married').show(20)"
   ]
  },
  {
   "cell_type": "code",
   "execution_count": 13,
   "id": "ab50ba1d-63b9-4bab-9892-f9f0021d67b0",
   "metadata": {},
   "outputs": [
    {
     "data": {
      "image/png": "[encoded data removed]",
      "text/plain": [
       "<Figure size 1000x600 with 1 Axes>"
      ]
     },
     "metadata": {},
     "output_type": "display_data"
    }
   ],
   "source": [
    "plot_df = spark.sql(\n",
    "    '''\n",
    "    SELECT Marital_Status, count(*) as Total\n",
    "    FROM BankChurners\n",
    "    GROUP BY Marital_Status\n",
    "    ''').toPandas()\n",
    "\n",
    "fig,ax = plt.subplots(1,1,figsize=(10,6))\n",
    "plot_df.plot(x = 'Marital_Status', y = 'Total', kind = 'barh', color = 'C0', ax = ax, legend = False)\n",
    "ax.set_xlabel('Marital Status', size = 16)\n",
    "ax.set_ylabel('Total', size = 16)\n",
    "plt.grid()\n",
    "plt.tight_layout()\n",
    "plt.show()"
   ]
  },
  {
   "cell_type": "code",
   "execution_count": 14,
   "id": "9bd6a212-2bee-4d2c-bfb1-fed615171f90",
   "metadata": {},
   "outputs": [
    {
     "data": {
      "image/png": "[encoded data removed]",
      "text/plain": [
       "<Figure size 640x480 with 1 Axes>"
      ]
     },
     "metadata": {},
     "output_type": "display_data"
    }
   ],
   "source": [
    "import numpy as np\n",
    "import seaborn as sns\n",
    "plot_df2 = spark.sql(\n",
    "    '''\n",
    "    SELECT Education_Level, count(*) as Total\n",
    "    FROM BankChurners\n",
    "    GROUP BY Education_Level\n",
    "    '''\n",
    ").toPandas()\n",
    "\n",
    "palette_color = sns.color_palette('bright')\n",
    "\n",
    "plt.pie(plot_df2['Total'], labels=plot_df2['Education_Level'], colors=palette_color, autopct='%.0f%%')\n",
    "plt.show()"
   ]
  },
  {
   "cell_type": "code",
   "execution_count": 16,
   "id": "2ad77dbf-972a-45e8-ace3-a77c0b22edf8",
   "metadata": {},
   "outputs": [],
   "source": [
    "from pyspark.ml.stat import Correlation\n",
    "from pyspark.ml.feature import VectorAssembler"
   ]
  },
  {
   "cell_type": "code",
   "execution_count": 17,
   "id": "c3c874b9-1158-4bf3-8924-26786a304dab",
   "metadata": {},
   "outputs": [
    {
     "name": "stderr",
     "output_type": "stream",
     "text": [
      "/tmp/ipykernel_409/3973971414.py:10: FutureWarning: this method is deprecated in favour of `Styler.format(precision=..)`\n",
      "  corr_matrix_df.style.background_gradient(cmap='coolwarm').set_precision(2)\n"
     ]
    },
    {
     "data": {
      "text/html": [
       "<style type=\"text/css\">\n",
       "#T_6862a_row0_col0, #T_6862a_row1_col1, #T_6862a_row2_col2, #T_6862a_row3_col3, #T_6862a_row4_col4, #T_6862a_row5_col5 {\n",
       "  background-color: #b40426;\n",
       "  color: #f1f1f1;\n",
       "}\n",
       "#T_6862a_row0_col1, #T_6862a_row1_col0, #T_6862a_row1_col2, #T_6862a_row1_col4, #T_6862a_row3_col5, #T_6862a_row5_col3 {\n",
       "  background-color: #3b4cc0;\n",
       "  color: #f1f1f1;\n",
       "}\n",
       "#T_6862a_row0_col2, #T_6862a_row2_col0 {\n",
       "  background-color: #ec7f63;\n",
       "  color: #f1f1f1;\n",
       "}\n",
       "#T_6862a_row0_col3, #T_6862a_row4_col1 {\n",
       "  background-color: #506bda;\n",
       "  color: #f1f1f1;\n",
       "}\n",
       "#T_6862a_row0_col4, #T_6862a_row0_col5 {\n",
       "  background-color: #4055c8;\n",
       "  color: #f1f1f1;\n",
       "}\n",
       "#T_6862a_row1_col3 {\n",
       "  background-color: #3d50c3;\n",
       "  color: #f1f1f1;\n",
       "}\n",
       "#T_6862a_row1_col5 {\n",
       "  background-color: #5572df;\n",
       "  color: #f1f1f1;\n",
       "}\n",
       "#T_6862a_row2_col1 {\n",
       "  background-color: #3f53c6;\n",
       "  color: #f1f1f1;\n",
       "}\n",
       "#T_6862a_row2_col3, #T_6862a_row4_col0 {\n",
       "  background-color: #5673e0;\n",
       "  color: #f1f1f1;\n",
       "}\n",
       "#T_6862a_row2_col4 {\n",
       "  background-color: #4358cb;\n",
       "  color: #f1f1f1;\n",
       "}\n",
       "#T_6862a_row2_col5 {\n",
       "  background-color: #4257c9;\n",
       "  color: #f1f1f1;\n",
       "}\n",
       "#T_6862a_row3_col0 {\n",
       "  background-color: #6c8ff1;\n",
       "  color: #f1f1f1;\n",
       "}\n",
       "#T_6862a_row3_col1, #T_6862a_row5_col2 {\n",
       "  background-color: #5977e3;\n",
       "  color: #f1f1f1;\n",
       "}\n",
       "#T_6862a_row3_col2 {\n",
       "  background-color: #6e90f2;\n",
       "  color: #f1f1f1;\n",
       "}\n",
       "#T_6862a_row3_col4 {\n",
       "  background-color: #4f69d9;\n",
       "  color: #f1f1f1;\n",
       "}\n",
       "#T_6862a_row4_col2 {\n",
       "  background-color: #5470de;\n",
       "  color: #f1f1f1;\n",
       "}\n",
       "#T_6862a_row4_col3 {\n",
       "  background-color: #4961d2;\n",
       "  color: #f1f1f1;\n",
       "}\n",
       "#T_6862a_row4_col5 {\n",
       "  background-color: #465ecf;\n",
       "  color: #f1f1f1;\n",
       "}\n",
       "#T_6862a_row5_col0 {\n",
       "  background-color: #5d7ce6;\n",
       "  color: #f1f1f1;\n",
       "}\n",
       "#T_6862a_row5_col1 {\n",
       "  background-color: #7093f3;\n",
       "  color: #f1f1f1;\n",
       "}\n",
       "#T_6862a_row5_col4 {\n",
       "  background-color: #4c66d6;\n",
       "  color: #f1f1f1;\n",
       "}\n",
       "</style>\n",
       "<table id=\"T_6862a\">\n",
       "  <thead>\n",
       "    <tr>\n",
       "      <th class=\"blank level0\" >&nbsp;</th>\n",
       "      <th id=\"T_6862a_level0_col0\" class=\"col_heading level0 col0\" >Customer_Age</th>\n",
       "      <th id=\"T_6862a_level0_col1\" class=\"col_heading level0 col1\" >Dependent_count</th>\n",
       "      <th id=\"T_6862a_level0_col2\" class=\"col_heading level0 col2\" >Months_on_book</th>\n",
       "      <th id=\"T_6862a_level0_col3\" class=\"col_heading level0 col3\" >Months_Inactive_12_mon</th>\n",
       "      <th id=\"T_6862a_level0_col4\" class=\"col_heading level0 col4\" >Contacts_Count_12_mon</th>\n",
       "      <th id=\"T_6862a_level0_col5\" class=\"col_heading level0 col5\" >Credit_Limit</th>\n",
       "    </tr>\n",
       "  </thead>\n",
       "  <tbody>\n",
       "    <tr>\n",
       "      <th id=\"T_6862a_level0_row0\" class=\"row_heading level0 row0\" >Customer_Age</th>\n",
       "      <td id=\"T_6862a_row0_col0\" class=\"data row0 col0\" >1.00</td>\n",
       "      <td id=\"T_6862a_row0_col1\" class=\"data row0 col1\" >-0.12</td>\n",
       "      <td id=\"T_6862a_row0_col2\" class=\"data row0 col2\" >0.79</td>\n",
       "      <td id=\"T_6862a_row0_col3\" class=\"data row0 col3\" >0.05</td>\n",
       "      <td id=\"T_6862a_row0_col4\" class=\"data row0 col4\" >-0.02</td>\n",
       "      <td id=\"T_6862a_row0_col5\" class=\"data row0 col5\" >0.00</td>\n",
       "    </tr>\n",
       "    <tr>\n",
       "      <th id=\"T_6862a_level0_row1\" class=\"row_heading level0 row1\" >Dependent_count</th>\n",
       "      <td id=\"T_6862a_row1_col0\" class=\"data row1 col0\" >-0.12</td>\n",
       "      <td id=\"T_6862a_row1_col1\" class=\"data row1 col1\" >1.00</td>\n",
       "      <td id=\"T_6862a_row1_col2\" class=\"data row1 col2\" >-0.10</td>\n",
       "      <td id=\"T_6862a_row1_col3\" class=\"data row1 col3\" >-0.01</td>\n",
       "      <td id=\"T_6862a_row1_col4\" class=\"data row1 col4\" >-0.04</td>\n",
       "      <td id=\"T_6862a_row1_col5\" class=\"data row1 col5\" >0.07</td>\n",
       "    </tr>\n",
       "    <tr>\n",
       "      <th id=\"T_6862a_level0_row2\" class=\"row_heading level0 row2\" >Months_on_book</th>\n",
       "      <td id=\"T_6862a_row2_col0\" class=\"data row2 col0\" >0.79</td>\n",
       "      <td id=\"T_6862a_row2_col1\" class=\"data row2 col1\" >-0.10</td>\n",
       "      <td id=\"T_6862a_row2_col2\" class=\"data row2 col2\" >1.00</td>\n",
       "      <td id=\"T_6862a_row2_col3\" class=\"data row2 col3\" >0.07</td>\n",
       "      <td id=\"T_6862a_row2_col4\" class=\"data row2 col4\" >-0.01</td>\n",
       "      <td id=\"T_6862a_row2_col5\" class=\"data row2 col5\" >0.01</td>\n",
       "    </tr>\n",
       "    <tr>\n",
       "      <th id=\"T_6862a_level0_row3\" class=\"row_heading level0 row3\" >Months_Inactive_12_mon</th>\n",
       "      <td id=\"T_6862a_row3_col0\" class=\"data row3 col0\" >0.05</td>\n",
       "      <td id=\"T_6862a_row3_col1\" class=\"data row3 col1\" >-0.01</td>\n",
       "      <td id=\"T_6862a_row3_col2\" class=\"data row3 col2\" >0.07</td>\n",
       "      <td id=\"T_6862a_row3_col3\" class=\"data row3 col3\" >1.00</td>\n",
       "      <td id=\"T_6862a_row3_col4\" class=\"data row3 col4\" >0.03</td>\n",
       "      <td id=\"T_6862a_row3_col5\" class=\"data row3 col5\" >-0.02</td>\n",
       "    </tr>\n",
       "    <tr>\n",
       "      <th id=\"T_6862a_level0_row4\" class=\"row_heading level0 row4\" >Contacts_Count_12_mon</th>\n",
       "      <td id=\"T_6862a_row4_col0\" class=\"data row4 col0\" >-0.02</td>\n",
       "      <td id=\"T_6862a_row4_col1\" class=\"data row4 col1\" >-0.04</td>\n",
       "      <td id=\"T_6862a_row4_col2\" class=\"data row4 col2\" >-0.01</td>\n",
       "      <td id=\"T_6862a_row4_col3\" class=\"data row4 col3\" >0.03</td>\n",
       "      <td id=\"T_6862a_row4_col4\" class=\"data row4 col4\" >1.00</td>\n",
       "      <td id=\"T_6862a_row4_col5\" class=\"data row4 col5\" >0.02</td>\n",
       "    </tr>\n",
       "    <tr>\n",
       "      <th id=\"T_6862a_level0_row5\" class=\"row_heading level0 row5\" >Credit_Limit</th>\n",
       "      <td id=\"T_6862a_row5_col0\" class=\"data row5 col0\" >0.00</td>\n",
       "      <td id=\"T_6862a_row5_col1\" class=\"data row5 col1\" >0.07</td>\n",
       "      <td id=\"T_6862a_row5_col2\" class=\"data row5 col2\" >0.01</td>\n",
       "      <td id=\"T_6862a_row5_col3\" class=\"data row5 col3\" >-0.02</td>\n",
       "      <td id=\"T_6862a_row5_col4\" class=\"data row5 col4\" >0.02</td>\n",
       "      <td id=\"T_6862a_row5_col5\" class=\"data row5 col5\" >1.00</td>\n",
       "    </tr>\n",
       "  </tbody>\n",
       "</table>\n"
      ],
      "text/plain": [
       "<pandas.io.formats.style.Styler at 0x7f5b554d7280>"
      ]
     },
     "execution_count": 17,
     "metadata": {},
     "output_type": "execute_result"
    }
   ],
   "source": [
    "numeric_variables = ['Customer_Age','Dependent_count','Months_on_book','Months_Inactive_12_mon','Contacts_Count_12_mon','Credit_Limit']\n",
    "# convert to vector column first\n",
    "vector_col = \"corr_features\"\n",
    "assembler = VectorAssembler(inputCols=numeric_variables, outputCol=vector_col)\n",
    "df_vector = assembler.transform(df.select(numeric_variables)).select(vector_col)\n",
    "matrix = Correlation.corr(df_vector, vector_col)\n",
    "matrix = Correlation.corr(df_vector, 'corr_features').collect()[0][0] \n",
    "corr_matrix = matrix.toArray().tolist() \n",
    "corr_matrix_df = pd.DataFrame(data=corr_matrix, columns = numeric_variables, index=[numeric_variables]) \n",
    "corr_matrix_df.style.background_gradient(cmap='coolwarm').set_precision(2)"
   ]
  }
 ],
 "metadata": {
  "kernelspec": {
   "display_name": "Python 3 (ipykernel)",
   "language": "python",
   "name": "python3"
  },
  "language_info": {
   "codemirror_mode": {
    "name": "ipython",
    "version": 3
   },
   "file_extension": ".py",
   "mimetype": "text/x-python",
   "name": "python",
   "nbconvert_exporter": "python",
   "pygments_lexer": "ipython3",
   "version": "3.10.6"
  }
 },
 "nbformat": 4,
 "nbformat_minor": 5
}
