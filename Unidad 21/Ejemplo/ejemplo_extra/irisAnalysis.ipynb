{
 "cells": [
  {
   "cell_type": "markdown",
   "id": "ba6bdb85-566c-47d2-aae5-ba7019af77e4",
   "metadata": {},
   "source": [
    "## Dataset que analiza y predice predominancia de caracteristicas de la especie de la planta de iris"
   ]
  },
  {
   "cell_type": "code",
   "execution_count": 1,
   "id": "064a6457-14d4-479a-b7e7-b6169b5cd662",
   "metadata": {},
   "outputs": [],
   "source": [
    "#Generic Libraries\n",
    "import numpy as np # linear algebra\n",
    "import pandas as pd # data processing, CSV file I/O (e.g. pd.read_csv)\n",
    "\n",
    "#Apache Spark Libraries\n",
    "import pyspark\n",
    "from pyspark.sql import SparkSession\n",
    "\n",
    "#Apache Spark ML CLassifier Libraries\n",
    "from pyspark.ml.classification import DecisionTreeClassifier,RandomForestClassifier,NaiveBayes\n",
    "\n",
    "#Apache Spark Evaluation Library\n",
    "from pyspark.ml.evaluation import MulticlassClassificationEvaluator\n",
    "\n",
    "#Apache Spark Features libraries\n",
    "from pyspark.ml.feature import StandardScaler,StringIndexer, VectorAssembler, VectorIndexer, OneHotEncoder\n",
    "\n",
    "#Apache Spark Pipelin Library\n",
    "from pyspark.ml import Pipeline\n",
    "\n",
    "# Apache Spark `DenseVector`\n",
    "from pyspark.ml.linalg import DenseVector\n",
    "\n",
    "#Data Split Libraries\n",
    "import sklearn\n",
    "from sklearn.model_selection import train_test_split\n",
    "\n",
    "#Garbage\n",
    "import gc"
   ]
  },
  {
   "cell_type": "markdown",
   "id": "e55b633d-7252-4877-b2e7-d1c0d058703c",
   "metadata": {},
   "source": [
    "### Creacion de sesion de spark"
   ]
  },
  {
   "cell_type": "code",
   "execution_count": 2,
   "id": "c5e79f68-8feb-471e-9697-10b2897dd25e",
   "metadata": {},
   "outputs": [],
   "source": [
    "#Building Spark Session\n",
    "spark = (SparkSession.builder\n",
    "                  .appName('Apache Spark Beginner Tutorial')\n",
    "                  .config(\"spark.executor.memory\", \"1G\")\n",
    "                  .config(\"spark.executor.cores\",\"4\")\n",
    "                  .getOrCreate())"
   ]
  },
  {
   "cell_type": "code",
   "execution_count": 3,
   "id": "5731ac77-0948-47b4-8981-86a532340e9d",
   "metadata": {},
   "outputs": [],
   "source": [
    "spark.sparkContext.setLogLevel('INFO')"
   ]
  },
  {
   "cell_type": "markdown",
   "id": "44ad563d-cb4e-4050-8601-08969f57feaa",
   "metadata": {},
   "source": [
    "#### Cargado de informacion"
   ]
  },
  {
   "cell_type": "code",
   "execution_count": 4,
   "id": "d5b2d097-3f8e-4ee8-a075-de946aed5bac",
   "metadata": {},
   "outputs": [
    {
     "data": {
      "text/plain": [
       "DataFrame[sepal_length: double, sepal_width: double, petal_length: double, petal_width: double, species: string]"
      ]
     },
     "execution_count": 4,
     "metadata": {},
     "output_type": "execute_result"
    }
   ],
   "source": [
    "url = 'iris.csv'\n",
    "\n",
    "data = spark.read.format(\"csv\") \\\n",
    "       .option(\"header\", \"true\") \\\n",
    "       .option(\"inferSchema\",\"true\")\\\n",
    "       .load(url) \n",
    "\n",
    "data.cache() #for faster re-use"
   ]
  },
  {
   "cell_type": "markdown",
   "id": "a4cbd107-1827-441f-b562-975d663b289d",
   "metadata": {},
   "source": [
    "### Exploracion y preparacion de datos"
   ]
  },
  {
   "cell_type": "code",
   "execution_count": 5,
   "id": "0d649d94-8a47-40ac-bcc2-44a63559e5b6",
   "metadata": {},
   "outputs": [
    {
     "data": {
      "text/plain": [
       "150"
      ]
     },
     "execution_count": 5,
     "metadata": {},
     "output_type": "execute_result"
    }
   ],
   "source": [
    "#Total de registros\n",
    "data.count()"
   ]
  },
  {
   "cell_type": "code",
   "execution_count": 6,
   "id": "097b42aa-aaf5-4058-8ba7-7ea54821b6a8",
   "metadata": {},
   "outputs": [
    {
     "name": "stdout",
     "output_type": "stream",
     "text": [
      "root\n",
      " |-- sepal_length: double (nullable = true)\n",
      " |-- sepal_width: double (nullable = true)\n",
      " |-- petal_length: double (nullable = true)\n",
      " |-- petal_width: double (nullable = true)\n",
      " |-- species: string (nullable = true)\n",
      "\n"
     ]
    }
   ],
   "source": [
    "#Tipos de datos\n",
    "data.printSchema()"
   ]
  },
  {
   "cell_type": "code",
   "execution_count": 7,
   "id": "8196affc-6e5e-4665-b826-0ceb1184ec77",
   "metadata": {},
   "outputs": [
    {
     "name": "stdout",
     "output_type": "stream",
     "text": [
      "+------------+-----------+------------+-----------+-------+\n",
      "|sepal_length|sepal_width|petal_length|petal_width|species|\n",
      "+------------+-----------+------------+-----------+-------+\n",
      "|         5.1|        3.5|         1.4|        0.2| setosa|\n",
      "|         4.9|        3.0|         1.4|        0.2| setosa|\n",
      "|         4.7|        3.2|         1.3|        0.2| setosa|\n",
      "|         4.6|        3.1|         1.5|        0.2| setosa|\n",
      "|         5.0|        3.6|         1.4|        0.2| setosa|\n",
      "+------------+-----------+------------+-----------+-------+\n",
      "only showing top 5 rows\n",
      "\n"
     ]
    }
   ],
   "source": [
    "#Mostramos los registros\n",
    "data.show(5)"
   ]
  },
  {
   "cell_type": "code",
   "execution_count": 8,
   "id": "ef8c1315-8051-40d1-b256-564b6091f47e",
   "metadata": {},
   "outputs": [
    {
     "name": "stdout",
     "output_type": "stream",
     "text": [
      "+----------+-----+\n",
      "|   species|count|\n",
      "+----------+-----+\n",
      "| virginica|   50|\n",
      "|versicolor|   50|\n",
      "|    setosa|   50|\n",
      "+----------+-----+\n",
      "\n"
     ]
    }
   ],
   "source": [
    "#Registros por especies\n",
    "data.groupBy('species').count().show()"
   ]
  },
  {
   "cell_type": "code",
   "execution_count": 9,
   "id": "cab89b8b-ae07-41af-b61a-3a6ef8111394",
   "metadata": {},
   "outputs": [
    {
     "name": "stdout",
     "output_type": "stream",
     "text": [
      "+-------+------------------+-------------------+------------------+------------------+---------+\n",
      "|summary|      sepal_length|        sepal_width|      petal_length|       petal_width|  species|\n",
      "+-------+------------------+-------------------+------------------+------------------+---------+\n",
      "|  count|               150|                150|               150|               150|      150|\n",
      "|   mean| 5.843333333333335| 3.0540000000000007|3.7586666666666693|1.1986666666666672|     null|\n",
      "| stddev|0.8280661279778637|0.43359431136217375| 1.764420419952262|0.7631607417008414|     null|\n",
      "|    min|               4.3|                2.0|               1.0|               0.1|   setosa|\n",
      "|    max|               7.9|                4.4|               6.9|               2.5|virginica|\n",
      "+-------+------------------+-------------------+------------------+------------------+---------+\n",
      "\n"
     ]
    }
   ],
   "source": [
    "#Dataset con resumen de caracteristicas\n",
    "data.describe().show()"
   ]
  },
  {
   "cell_type": "code",
   "execution_count": 10,
   "id": "779e45e1-25ef-49cd-a033-1a25ffa9ebed",
   "metadata": {},
   "outputs": [
    {
     "name": "stdout",
     "output_type": "stream",
     "text": [
      "+------------+-----------+------------+-----------+-------+------------+\n",
      "|sepal_length|sepal_width|petal_length|petal_width|species|species_indx|\n",
      "+------------+-----------+------------+-----------+-------+------------+\n",
      "|         5.1|        3.5|         1.4|        0.2| setosa|         0.0|\n",
      "|         4.9|        3.0|         1.4|        0.2| setosa|         0.0|\n",
      "|         4.7|        3.2|         1.3|        0.2| setosa|         0.0|\n",
      "|         4.6|        3.1|         1.5|        0.2| setosa|         0.0|\n",
      "|         5.0|        3.6|         1.4|        0.2| setosa|         0.0|\n",
      "+------------+-----------+------------+-----------+-------+------------+\n",
      "only showing top 5 rows\n",
      "\n"
     ]
    }
   ],
   "source": [
    "#Indexacion de string de la columna de especies\n",
    "SIndexer = StringIndexer(inputCol='species', outputCol='species_indx')\n",
    "data = SIndexer.fit(data).transform(data)\n",
    "\n",
    "#Inspeccion del dataset\n",
    "data.show(5)"
   ]
  },
  {
   "cell_type": "markdown",
   "id": "b88b1a00-4f89-4c5b-aa80-aed5864505df",
   "metadata": {},
   "source": [
    "### Ingenieria de las caracteristicas"
   ]
  },
  {
   "cell_type": "code",
   "execution_count": 11,
   "id": "bc5d791a-2b21-4182-919b-3aada7fe1b20",
   "metadata": {},
   "outputs": [
    {
     "name": "stdout",
     "output_type": "stream",
     "text": [
      "+------------+------------+-----------+------------+-----------+\n",
      "|species_indx|sepal_length|sepal_width|petal_length|petal_width|\n",
      "+------------+------------+-----------+------------+-----------+\n",
      "|         0.0|         5.1|        3.5|         1.4|        0.2|\n",
      "|         0.0|         4.9|        3.0|         1.4|        0.2|\n",
      "|         0.0|         4.7|        3.2|         1.3|        0.2|\n",
      "|         0.0|         4.6|        3.1|         1.5|        0.2|\n",
      "|         0.0|         5.0|        3.6|         1.4|        0.2|\n",
      "+------------+------------+-----------+------------+-----------+\n",
      "only showing top 5 rows\n",
      "\n"
     ]
    }
   ],
   "source": [
    "#Creamos un dataframe separado con columnas reordenadas\n",
    "df = data.select(\"species_indx\",\"sepal_length\", \"sepal_width\", \"petal_length\", \"petal_width\")\n",
    "\n",
    "#Inspeccionamos el dataframe\n",
    "df.show(5)"
   ]
  },
  {
   "cell_type": "markdown",
   "id": "fce3ac13-247e-4bba-a32b-4f03a4cf51d3",
   "metadata": {},
   "source": [
    "Ahora podemos observar que la columna de especies que es nuestra etiqueta (también conocida como Target) está ahora al principio del marco de datos"
   ]
  },
  {
   "cell_type": "code",
   "execution_count": 12,
   "id": "fa49f0b7-41b8-43db-9cc2-6be8bf59e897",
   "metadata": {},
   "outputs": [],
   "source": [
    "# Definimos el `input_data` como vector denso\n",
    "input_data = df.rdd.map(lambda x: (x[0], DenseVector(x[1:])))"
   ]
  },
  {
   "cell_type": "markdown",
   "id": "73c5628c-ebf9-4030-866a-35e193f11a7b",
   "metadata": {},
   "source": [
    "Creamos un Vector Denso. Así, luego cuando creamos un nuevo dataframe indexado (el de abajo) la máquina entiende que la primera columna es una Etiqueta (Objetivo) y las restantes columnas son Características"
   ]
  },
  {
   "cell_type": "code",
   "execution_count": 13,
   "id": "f628f19e-be92-4728-8e65-ff03411bc65c",
   "metadata": {},
   "outputs": [],
   "source": [
    "# Creamos un dataframe indexado\n",
    "df_indx = spark.createDataFrame(input_data, [\"label\", \"features\"])"
   ]
  },
  {
   "cell_type": "code",
   "execution_count": 14,
   "id": "fefdac9d-8615-4310-a4d6-80207525f91c",
   "metadata": {},
   "outputs": [
    {
     "name": "stdout",
     "output_type": "stream",
     "text": [
      "+-----+-----------------+\n",
      "|label|         features|\n",
      "+-----+-----------------+\n",
      "|  0.0|[5.1,3.5,1.4,0.2]|\n",
      "|  0.0|[4.9,3.0,1.4,0.2]|\n",
      "|  0.0|[4.7,3.2,1.3,0.2]|\n",
      "|  0.0|[4.6,3.1,1.5,0.2]|\n",
      "|  0.0|[5.0,3.6,1.4,0.2]|\n",
      "+-----+-----------------+\n",
      "only showing top 5 rows\n",
      "\n"
     ]
    }
   ],
   "source": [
    "#vista del dataframe indexado\n",
    "df_indx.show(5)"
   ]
  },
  {
   "cell_type": "markdown",
   "id": "d35b332a-d9a5-4653-8683-a507e8ac7dec",
   "metadata": {},
   "source": [
    "### Escalamos la informacion"
   ]
  },
  {
   "cell_type": "code",
   "execution_count": 15,
   "id": "275c7749-67d7-42e4-8d8a-606e1bd9b42a",
   "metadata": {},
   "outputs": [],
   "source": [
    "#Inicializamos el standarscaler\n",
    "stdScaler = StandardScaler(inputCol=\"features\", outputCol=\"features_scaled\")\n",
    "\n",
    "#Acercamos el standar scaler al dataframe indexado\n",
    "scaler = stdScaler.fit(df_indx)\n",
    "\n",
    "#transformamos el dataframe\n",
    "df_scaled =scaler.transform(df_indx)"
   ]
  },
  {
   "cell_type": "code",
   "execution_count": 16,
   "id": "403e547e-ae11-4901-92e0-bc4b05d721eb",
   "metadata": {},
   "outputs": [
    {
     "name": "stdout",
     "output_type": "stream",
     "text": [
      "+-----+-----------------+--------------------+\n",
      "|label|         features|     features_scaled|\n",
      "+-----+-----------------+--------------------+\n",
      "|  0.0|[5.1,3.5,1.4,0.2]|[6.15892840883878...|\n",
      "|  0.0|[4.9,3.0,1.4,0.2]|[5.9174018045706,...|\n",
      "|  0.0|[4.7,3.2,1.3,0.2]|[5.67587520030241...|\n",
      "|  0.0|[4.6,3.1,1.5,0.2]|[5.55511189816831...|\n",
      "|  0.0|[5.0,3.6,1.4,0.2]|[6.03816510670469...|\n",
      "+-----+-----------------+--------------------+\n",
      "only showing top 5 rows\n",
      "\n"
     ]
    }
   ],
   "source": [
    "#Vemos la informacion escalada\n",
    "df_scaled.show(5)"
   ]
  },
  {
   "cell_type": "code",
   "execution_count": 17,
   "id": "121b969a-a12b-419e-92f7-0f5b91a24d33",
   "metadata": {},
   "outputs": [],
   "source": [
    "#Eliminamos la columna de Features \n",
    "df_scaled = df_scaled.drop(\"features\")"
   ]
  },
  {
   "cell_type": "markdown",
   "id": "cac802fa-3152-4da3-9143-2560c3a3f6f9",
   "metadata": {},
   "source": [
    "Hacemos split de la informacion"
   ]
  },
  {
   "cell_type": "code",
   "execution_count": 18,
   "id": "041c5e90-2619-4893-b054-5a38a52be4ca",
   "metadata": {},
   "outputs": [],
   "source": [
    "train_data, test_data = df_scaled.randomSplit([0.9, 0.1], seed = 12345)"
   ]
  },
  {
   "cell_type": "code",
   "execution_count": 19,
   "id": "2c2d2ab4-f11c-42fc-abca-6cc312572864",
   "metadata": {},
   "outputs": [
    {
     "name": "stdout",
     "output_type": "stream",
     "text": [
      "+-----+--------------------+\n",
      "|label|     features_scaled|\n",
      "+-----+--------------------+\n",
      "|  0.0|[5.19282199176603...|\n",
      "|  0.0|[5.31358529390013...|\n",
      "|  0.0|[5.31358529390013...|\n",
      "|  0.0|[5.31358529390013...|\n",
      "|  0.0|[5.43434859603422...|\n",
      "+-----+--------------------+\n",
      "only showing top 5 rows\n",
      "\n"
     ]
    }
   ],
   "source": [
    "#Inspeccionamos la inforacion de entrenamiento\n",
    "train_data.show(5)"
   ]
  },
  {
   "cell_type": "markdown",
   "id": "6faf6008-b1d9-4b0a-aa9c-b8b3f718273c",
   "metadata": {},
   "source": [
    "Construimos, entrenamos y evaluamos el modelo"
   ]
  },
  {
   "cell_type": "code",
   "execution_count": 20,
   "id": "ef079a42-5a79-4df3-b506-e6e4627dd61a",
   "metadata": {},
   "outputs": [],
   "source": [
    "model = ['Decision Tree','Random Forest','Naive Bayes']\n",
    "model_results = []"
   ]
  },
  {
   "cell_type": "code",
   "execution_count": 21,
   "id": "50302267-4ac7-4dd5-931c-fddb65b1e91c",
   "metadata": {},
   "outputs": [],
   "source": [
    "# -- Clasificador Arbol de desicion --\n",
    "\n",
    "dtc = DecisionTreeClassifier(labelCol=\"label\", featuresCol=\"features_scaled\")          #instanciamos el modelo\n",
    "dtc_model = dtc.fit(train_data)                                                        #Entrenamos el modelo\n",
    "dtc_pred = dtc_model.transform(test_data)                                              #modelo de prediccion\n",
    "\n",
    "#Evaluamos el modelo\n",
    "evaluator = MulticlassClassificationEvaluator(labelCol=\"label\", predictionCol=\"prediction\", metricName=\"accuracy\")\n",
    "dtc_acc = evaluator.evaluate(dtc_pred)\n",
    "model_results.extend([[model[0],'{:.2%}'.format(dtc_acc)]])                               #agregamos a la lista"
   ]
  },
  {
   "cell_type": "code",
   "execution_count": 22,
   "id": "3b984f56-8bd3-4954-abc1-1024c24c3b2f",
   "metadata": {},
   "outputs": [],
   "source": [
    "# -- Clasificador Random Forest --\n",
    "\n",
    "rfc = RandomForestClassifier(labelCol=\"label\", featuresCol=\"features_scaled\", numTrees=10)          #instanciamos el modelo\n",
    "rfc_model = rfc.fit(train_data)                                                                     #entrenamos el modelo\n",
    "rfc_pred = rfc_model.transform(test_data)                                                           #modelo de prediccion\n",
    "\n",
    "#evaluamos el modelo\n",
    "evaluator = MulticlassClassificationEvaluator(labelCol=\"label\", predictionCol=\"prediction\", metricName=\"accuracy\")\n",
    "rfc_acc = evaluator.evaluate(rfc_pred)\n",
    "model_results.extend([[model[1],'{:.2%}'.format(rfc_acc)]])                                            #agregamos a la lista"
   ]
  },
  {
   "cell_type": "code",
   "execution_count": 23,
   "id": "4b352f9b-3ce5-434d-a164-cf76c0ac2fd6",
   "metadata": {},
   "outputs": [],
   "source": [
    "# -- Clasificador Naive Bayes --\n",
    "\n",
    "nbc = NaiveBayes(smoothing=1.0,modelType=\"multinomial\", labelCol=\"label\",featuresCol=\"features_scaled\")    #instanciamos el modelo\n",
    "nbc_model = nbc.fit(train_data)                                                                          #entrenamos el modelo\n",
    "nbc_pred = nbc_model.transform(test_data)                                                                 #modelo de prediccion\n",
    "\n",
    "#Evaluate the Model\n",
    "evaluator = MulticlassClassificationEvaluator(labelCol=\"label\", predictionCol=\"prediction\", metricName=\"accuracy\")\n",
    "nbc_acc = evaluator.evaluate(nbc_pred)\n",
    "#print(\"Naive Bayes Accuracy =\", '{:.2%}'.format(nbc_acc))\n",
    "model_results.extend([[model[2],'{:.2%}'.format(nbc_acc)]])                                            #agregamos a la lista"
   ]
  },
  {
   "cell_type": "code",
   "execution_count": 24,
   "id": "086d9241-7e5a-45e2-b89e-87bacd455f5d",
   "metadata": {},
   "outputs": [
    {
     "data": {
      "text/plain": [
       "479"
      ]
     },
     "execution_count": 24,
     "metadata": {},
     "output_type": "execute_result"
    }
   ],
   "source": [
    "#librerar memoria\n",
    "gc.collect()"
   ]
  },
  {
   "cell_type": "code",
   "execution_count": 25,
   "id": "b8b00180-76f0-4146-a339-46400b4c4871",
   "metadata": {},
   "outputs": [
    {
     "name": "stdout",
     "output_type": "stream",
     "text": [
      "Collecting tabulate\n",
      "  Downloading tabulate-0.9.0-py3-none-any.whl (35 kB)\n",
      "Installing collected packages: tabulate\n",
      "Successfully installed tabulate-0.9.0\n",
      "Classifier Models    Accuracy\n",
      "-------------------  ----------\n",
      "Decision Tree        90.91%\n",
      "Random Forest        100.00%\n",
      "Naive Bayes          100.00%\n"
     ]
    }
   ],
   "source": [
    "!pip install tabulate\n",
    "from tabulate import tabulate\n",
    "# Tabulamos la informacion obtenida\n",
    "print (tabulate(model_results, headers=[\"Classifier Models\", \"Accuracy\"]))"
   ]
  },
  {
   "cell_type": "markdown",
   "id": "baf86b08-47e9-46c6-99bc-1f90cc03ea69",
   "metadata": {},
   "source": [
    "Como podemos ver hay un altisimo nivel de presicion de los modelos"
   ]
  }
 ],
 "metadata": {
  "kernelspec": {
   "display_name": "Python 3 (ipykernel)",
   "language": "python",
   "name": "python3"
  },
  "language_info": {
   "codemirror_mode": {
    "name": "ipython",
    "version": 3
   },
   "file_extension": ".py",
   "mimetype": "text/x-python",
   "name": "python",
   "nbconvert_exporter": "python",
   "pygments_lexer": "ipython3",
   "version": "3.10.6"
  }
 },
 "nbformat": 4,
 "nbformat_minor": 5
}
